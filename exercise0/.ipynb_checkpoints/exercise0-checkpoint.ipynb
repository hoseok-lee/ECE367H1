{
 "cells": [
  {
   "cell_type": "markdown",
   "metadata": {},
   "source": [
    "* There are two types of cells: Markdown cells (like this one) and code cells\n",
    "* When a cell is selected, pressing `Enter` puts you in editing mode and pressing `Escape` takes you out of editing mode\n",
    "* Pressing `Shift + Enter` runs the cell and proceeds to the next cell, and `Ctrl + Enter` just runs the cell"
   ]
  },
  {
   "cell_type": "markdown",
   "metadata": {},
   "source": [
    "Run the following cell:"
   ]
  },
  {
   "cell_type": "code",
   "execution_count": 183,
   "metadata": {},
   "outputs": [
    {
     "data": {
      "text/plain": [
       "2"
      ]
     },
     "execution_count": 183,
     "metadata": {},
     "output_type": "execute_result"
    }
   ],
   "source": [
    "1 + 1"
   ]
  },
  {
   "cell_type": "markdown",
   "metadata": {},
   "source": [
    "* To change a code cell to a Markdown cell, exit editing mode and press `M`\n",
    "* To change a Markdown cell to a code cell, enter then exit editing mode, and then press `Y`"
   ]
  },
  {
   "cell_type": "markdown",
   "metadata": {},
   "source": [
    "* To create a cell above or below the current cell, use `a` and `b` while outside editing mode\n",
    "* To delete a cell, use `x`"
   ]
  },
  {
   "cell_type": "code",
   "execution_count": 184,
   "metadata": {},
   "outputs": [
    {
     "name": "stdout",
     "output_type": "stream",
     "text": [
      "Hi!\n"
     ]
    }
   ],
   "source": [
    "println(\"Hi!\")"
   ]
  },
  {
   "cell_type": "markdown",
   "metadata": {},
   "source": [
    "## Fill in the following cell (which will be placed at the beginning of future exercises):"
   ]
  },
  {
   "cell_type": "markdown",
   "metadata": {},
   "source": [
    "### Last name: Lee\n",
    "### First name: Ho Seok\n",
    "### Student number: 1004112177\n",
    "### List of collaborators (if any): \n",
    "* Damrongpiriyapong, Soraphol\n",
    "* Last name, first name\n",
    "* Last name, first name"
   ]
  },
  {
   "cell_type": "markdown",
   "metadata": {},
   "source": [
    "### Submission instructions for when you're done:\n",
    "Submit your executed notebook as a PDF document according to the instructions in the course syllabus. The most robust way to convert to PDF is as follows:\n",
    "* Go to File -> Download as -> html and download the notebook as HTML\n",
    "* Open the HTML document in your browser and print it as a PDF\n",
    "    * If you don't know how to print to PDF, Google instructions specific to your web browser\n",
    "* Make sure that all of the required output is visible in the PDF"
   ]
  },
  {
   "cell_type": "markdown",
   "metadata": {},
   "source": [
    "To check the documentation of a function, use a ```?```"
   ]
  },
  {
   "cell_type": "markdown",
   "metadata": {},
   "source": [
    "Some initial tips: \n",
    "* Use Kernel -> Interrupt to stop something from running (infinite loop, taking too long, etc.)\n",
    "* Use Kernel -> Restart or Restart & Clear Output to restart the Julia session clearing all variables, function definitions, etc.\n",
    "* Consider using Restart & Run All once you've completed your notebook before exporting for submission (make sure any required output is present though!)\n",
    "* Autosaving isn't continuous so save liberally by pressing `Ctrl` + `S`"
   ]
  },
  {
   "cell_type": "markdown",
   "metadata": {},
   "source": [
    "To check the documentation of a function, use ```?``` as follows:"
   ]
  },
  {
   "cell_type": "code",
   "execution_count": 185,
   "metadata": {},
   "outputs": [
    {
     "name": "stdout",
     "output_type": "stream",
     "text": [
      "search: \u001b[0m\u001b[1mp\u001b[22m\u001b[0m\u001b[1mr\u001b[22m\u001b[0m\u001b[1mi\u001b[22m\u001b[0m\u001b[1mn\u001b[22m\u001b[0m\u001b[1mt\u001b[22m\u001b[0m\u001b[1ml\u001b[22m\u001b[0m\u001b[1mn\u001b[22m \u001b[0m\u001b[1mp\u001b[22m\u001b[0m\u001b[1mr\u001b[22m\u001b[0m\u001b[1mi\u001b[22m\u001b[0m\u001b[1mn\u001b[22m\u001b[0m\u001b[1mt\u001b[22msty\u001b[0m\u001b[1ml\u001b[22med \u001b[0m\u001b[1mp\u001b[22m\u001b[0m\u001b[1mr\u001b[22m\u001b[0m\u001b[1mi\u001b[22m\u001b[0m\u001b[1mn\u001b[22m\u001b[0m\u001b[1mt\u001b[22m s\u001b[0m\u001b[1mp\u001b[22m\u001b[0m\u001b[1mr\u001b[22m\u001b[0m\u001b[1mi\u001b[22m\u001b[0m\u001b[1mn\u001b[22m\u001b[0m\u001b[1mt\u001b[22m is\u001b[0m\u001b[1mp\u001b[22m\u001b[0m\u001b[1mr\u001b[22m\u001b[0m\u001b[1mi\u001b[22m\u001b[0m\u001b[1mn\u001b[22m\u001b[0m\u001b[1mt\u001b[22m\n",
      "\n"
     ]
    },
    {
     "data": {
      "text/latex": [
       "\\begin{verbatim}\n",
       "println([io::IO], xs...)\n",
       "\\end{verbatim}\n",
       "Print (using \\href{@ref}{\\texttt{print}}) \\texttt{xs} followed by a newline. If \\texttt{io} is not supplied, prints to \\href{@ref}{\\texttt{stdout}}.\n",
       "\n",
       "\\section{Examples}\n",
       "\\begin{verbatim}\n",
       "julia> println(\"Hello, world\")\n",
       "Hello, world\n",
       "\n",
       "julia> io = IOBuffer();\n",
       "\n",
       "julia> println(io, \"Hello, world\")\n",
       "\n",
       "julia> String(take!(io))\n",
       "\"Hello, world\\n\"\n",
       "\\end{verbatim}\n"
      ],
      "text/markdown": [
       "```\n",
       "println([io::IO], xs...)\n",
       "```\n",
       "\n",
       "Print (using [`print`](@ref)) `xs` followed by a newline. If `io` is not supplied, prints to [`stdout`](@ref).\n",
       "\n",
       "# Examples\n",
       "\n",
       "```jldoctest\n",
       "julia> println(\"Hello, world\")\n",
       "Hello, world\n",
       "\n",
       "julia> io = IOBuffer();\n",
       "\n",
       "julia> println(io, \"Hello, world\")\n",
       "\n",
       "julia> String(take!(io))\n",
       "\"Hello, world\\n\"\n",
       "```\n"
      ],
      "text/plain": [
       "\u001b[36m  println([io::IO], xs...)\u001b[39m\n",
       "\n",
       "  Print (using \u001b[36mprint\u001b[39m) \u001b[36mxs\u001b[39m followed by a newline. If \u001b[36mio\u001b[39m is not supplied, prints\n",
       "  to \u001b[36mstdout\u001b[39m.\n",
       "\n",
       "\u001b[1m  Examples\u001b[22m\n",
       "\u001b[1m  ≡≡≡≡≡≡≡≡≡≡\u001b[22m\n",
       "\n",
       "\u001b[36m  julia> println(\"Hello, world\")\u001b[39m\n",
       "\u001b[36m  Hello, world\u001b[39m\n",
       "\u001b[36m  \u001b[39m\n",
       "\u001b[36m  julia> io = IOBuffer();\u001b[39m\n",
       "\u001b[36m  \u001b[39m\n",
       "\u001b[36m  julia> println(io, \"Hello, world\")\u001b[39m\n",
       "\u001b[36m  \u001b[39m\n",
       "\u001b[36m  julia> String(take!(io))\u001b[39m\n",
       "\u001b[36m  \"Hello, world\\n\"\u001b[39m"
      ]
     },
     "execution_count": 185,
     "metadata": {},
     "output_type": "execute_result"
    }
   ],
   "source": [
    "?println"
   ]
  },
  {
   "cell_type": "markdown",
   "metadata": {},
   "source": [
    "Run the following cells:"
   ]
  },
  {
   "cell_type": "code",
   "execution_count": 186,
   "metadata": {},
   "outputs": [
    {
     "data": {
      "text/plain": [
       "4"
      ]
     },
     "execution_count": 186,
     "metadata": {},
     "output_type": "execute_result"
    }
   ],
   "source": [
    "x = 2 + 2"
   ]
  },
  {
   "cell_type": "code",
   "execution_count": 187,
   "metadata": {},
   "outputs": [
    {
     "data": {
      "text/plain": [
       "4.5"
      ]
     },
     "execution_count": 187,
     "metadata": {},
     "output_type": "execute_result"
    }
   ],
   "source": [
    "y = 9/2"
   ]
  },
  {
   "cell_type": "code",
   "execution_count": 188,
   "metadata": {},
   "outputs": [
    {
     "data": {
      "text/plain": [
       "16"
      ]
     },
     "execution_count": 188,
     "metadata": {},
     "output_type": "execute_result"
    }
   ],
   "source": [
    "x^2"
   ]
  },
  {
   "cell_type": "code",
   "execution_count": 189,
   "metadata": {},
   "outputs": [
    {
     "data": {
      "text/plain": [
       "0"
      ]
     },
     "execution_count": 189,
     "metadata": {},
     "output_type": "execute_result"
    }
   ],
   "source": [
    "4%2"
   ]
  },
  {
   "cell_type": "code",
   "execution_count": 190,
   "metadata": {},
   "outputs": [
    {
     "data": {
      "text/plain": [
       "1"
      ]
     },
     "execution_count": 190,
     "metadata": {},
     "output_type": "execute_result"
    }
   ],
   "source": [
    "3%2"
   ]
  },
  {
   "cell_type": "code",
   "execution_count": 191,
   "metadata": {},
   "outputs": [
    {
     "data": {
      "text/plain": [
       "Int64"
      ]
     },
     "execution_count": 191,
     "metadata": {},
     "output_type": "execute_result"
    }
   ],
   "source": [
    "typeof(x)"
   ]
  },
  {
   "cell_type": "code",
   "execution_count": 192,
   "metadata": {},
   "outputs": [
    {
     "data": {
      "text/plain": [
       "Float64"
      ]
     },
     "execution_count": 192,
     "metadata": {},
     "output_type": "execute_result"
    }
   ],
   "source": [
    "typeof(y)"
   ]
  },
  {
   "cell_type": "markdown",
   "metadata": {},
   "source": [
    "Unicode variable names are supported:\n",
    "* Use ```\\mu``` followed by a `Tab` to get a $\\mu$\n",
    "* Use ```\\:smi``` follwed by a `Tab`, select the emoji from the list and press `enter`, then press `Tab` followed by `enter`"
   ]
  },
  {
   "cell_type": "code",
   "execution_count": 193,
   "metadata": {},
   "outputs": [
    {
     "data": {
      "text/plain": [
       "15"
      ]
     },
     "execution_count": 193,
     "metadata": {},
     "output_type": "execute_result"
    }
   ],
   "source": [
    "λ = 7\n",
    "1 + 2λ"
   ]
  },
  {
   "cell_type": "code",
   "execution_count": 194,
   "metadata": {},
   "outputs": [
    {
     "data": {
      "text/plain": [
       "14"
      ]
     },
     "execution_count": 194,
     "metadata": {},
     "output_type": "execute_result"
    }
   ],
   "source": [
    "😢 = 14"
   ]
  },
  {
   "cell_type": "code",
   "execution_count": 195,
   "metadata": {},
   "outputs": [
    {
     "data": {
      "text/plain": [
       "15"
      ]
     },
     "execution_count": 195,
     "metadata": {},
     "output_type": "execute_result"
    }
   ],
   "source": [
    "😄 = 15"
   ]
  },
  {
   "cell_type": "code",
   "execution_count": 196,
   "metadata": {},
   "outputs": [
    {
     "data": {
      "text/plain": [
       "true"
      ]
     },
     "execution_count": 196,
     "metadata": {},
     "output_type": "execute_result"
    }
   ],
   "source": [
    "😄 == 😢 + 1 "
   ]
  },
  {
   "cell_type": "markdown",
   "metadata": {},
   "source": [
    "Generic and typed arrays can be created. Run the following cells:"
   ]
  },
  {
   "cell_type": "code",
   "execution_count": 197,
   "metadata": {},
   "outputs": [
    {
     "data": {
      "text/plain": [
       "3-element Array{Int64,1}:\n",
       " 1\n",
       " 2\n",
       " 7"
      ]
     },
     "execution_count": 197,
     "metadata": {},
     "output_type": "execute_result"
    }
   ],
   "source": [
    "A = [1, 2, 7]"
   ]
  },
  {
   "cell_type": "code",
   "execution_count": 198,
   "metadata": {},
   "outputs": [
    {
     "data": {
      "text/plain": [
       "3-element Array{Float64,1}:\n",
       " 1.0\n",
       " 2.0\n",
       " 7.0"
      ]
     },
     "execution_count": 198,
     "metadata": {},
     "output_type": "execute_result"
    }
   ],
   "source": [
    "B = Float64[1, 2, 7]"
   ]
  },
  {
   "cell_type": "code",
   "execution_count": 199,
   "metadata": {},
   "outputs": [
    {
     "data": {
      "text/plain": [
       "3-element Array{Any,1}:\n",
       " 1     \n",
       "  \"Two\"\n",
       " 7     "
      ]
     },
     "execution_count": 199,
     "metadata": {},
     "output_type": "execute_result"
    }
   ],
   "source": [
    "C = [1, \"Two\", 7]"
   ]
  },
  {
   "cell_type": "markdown",
   "metadata": {},
   "source": [
    "Indexing is 1-based"
   ]
  },
  {
   "cell_type": "code",
   "execution_count": 200,
   "metadata": {},
   "outputs": [
    {
     "data": {
      "text/plain": [
       "7"
      ]
     },
     "execution_count": 200,
     "metadata": {},
     "output_type": "execute_result"
    }
   ],
   "source": [
    "C[3]"
   ]
  },
  {
   "cell_type": "markdown",
   "metadata": {},
   "source": [
    "* Copying mutable objects works as in Python\n",
    "* Comments are inserted using ```#```\n",
    "* The shortcut `Ctrl + /` can be used to comment out a line or multiple highlighted lines"
   ]
  },
  {
   "cell_type": "code",
   "execution_count": 201,
   "metadata": {},
   "outputs": [
    {
     "data": {
      "text/plain": [
       "3-element Array{Int64,1}:\n",
       " 1\n",
       " 2\n",
       " 7"
      ]
     },
     "execution_count": 201,
     "metadata": {},
     "output_type": "execute_result"
    }
   ],
   "source": [
    "A"
   ]
  },
  {
   "cell_type": "code",
   "execution_count": 202,
   "metadata": {},
   "outputs": [
    {
     "data": {
      "text/plain": [
       "100"
      ]
     },
     "execution_count": 202,
     "metadata": {},
     "output_type": "execute_result"
    }
   ],
   "source": [
    "D = A # D refers to A\n",
    "D[2] = 100; # ; suppresses output "
   ]
  },
  {
   "cell_type": "code",
   "execution_count": 203,
   "metadata": {},
   "outputs": [
    {
     "data": {
      "text/plain": [
       "3-element Array{Int64,1}:\n",
       "   1\n",
       " 100\n",
       "   7"
      ]
     },
     "execution_count": 203,
     "metadata": {},
     "output_type": "execute_result"
    }
   ],
   "source": [
    "D"
   ]
  },
  {
   "cell_type": "code",
   "execution_count": 204,
   "metadata": {},
   "outputs": [
    {
     "data": {
      "text/plain": [
       "3-element Array{Int64,1}:\n",
       "   1\n",
       " 100\n",
       "   7"
      ]
     },
     "execution_count": 204,
     "metadata": {},
     "output_type": "execute_result"
    }
   ],
   "source": [
    "A"
   ]
  },
  {
   "cell_type": "code",
   "execution_count": 205,
   "metadata": {},
   "outputs": [
    {
     "data": {
      "text/plain": [
       "3-element Array{Int64,1}:\n",
       "   1\n",
       " 100\n",
       "   7"
      ]
     },
     "execution_count": 205,
     "metadata": {},
     "output_type": "execute_result"
    }
   ],
   "source": [
    "E = copy(D)"
   ]
  },
  {
   "cell_type": "code",
   "execution_count": 206,
   "metadata": {},
   "outputs": [
    {
     "data": {
      "text/plain": [
       "3-element Array{Int64,1}:\n",
       "     1\n",
       " 10000\n",
       "    49"
      ]
     },
     "execution_count": 206,
     "metadata": {},
     "output_type": "execute_result"
    }
   ],
   "source": [
    "E = E.*E"
   ]
  },
  {
   "cell_type": "code",
   "execution_count": 207,
   "metadata": {},
   "outputs": [
    {
     "data": {
      "text/plain": [
       "3-element Array{Int64,1}:\n",
       "   1\n",
       " 100\n",
       "   7"
      ]
     },
     "execution_count": 207,
     "metadata": {},
     "output_type": "execute_result"
    }
   ],
   "source": [
    "D"
   ]
  },
  {
   "cell_type": "code",
   "execution_count": 208,
   "metadata": {},
   "outputs": [
    {
     "data": {
      "text/plain": [
       "3-element Array{Int64,1}:\n",
       "     1\n",
       " 10000\n",
       "    49"
      ]
     },
     "execution_count": 208,
     "metadata": {},
     "output_type": "execute_result"
    }
   ],
   "source": [
    "F = E[:] # Equivalent to copy"
   ]
  },
  {
   "cell_type": "code",
   "execution_count": 209,
   "metadata": {},
   "outputs": [
    {
     "data": {
      "text/plain": [
       "3-element Array{Int64,1}:\n",
       "     2\n",
       " 10001\n",
       "    50"
      ]
     },
     "execution_count": 209,
     "metadata": {},
     "output_type": "execute_result"
    }
   ],
   "source": [
    "F = F .+ 1"
   ]
  },
  {
   "cell_type": "code",
   "execution_count": 210,
   "metadata": {},
   "outputs": [
    {
     "data": {
      "text/plain": [
       "3-element Array{Int64,1}:\n",
       "     1\n",
       " 10000\n",
       "    49"
      ]
     },
     "execution_count": 210,
     "metadata": {},
     "output_type": "execute_result"
    }
   ],
   "source": [
    "E"
   ]
  },
  {
   "cell_type": "markdown",
   "metadata": {},
   "source": [
    "* Logical operators are ```&&```, ```||```, ```==```, ```!=```, ```<```, ```<=```, etc.\n",
    "* Spaces/tabs  and colons are not necessary in functions, loops, conditionals, etc."
   ]
  },
  {
   "cell_type": "markdown",
   "metadata": {},
   "source": [
    "Traditional function definition:"
   ]
  },
  {
   "cell_type": "code",
   "execution_count": 211,
   "metadata": {},
   "outputs": [
    {
     "data": {
      "text/plain": [
       "f (generic function with 2 methods)"
      ]
     },
     "execution_count": 211,
     "metadata": {},
     "output_type": "execute_result"
    }
   ],
   "source": [
    "function f(x)\n",
    "    return x^2\n",
    "end"
   ]
  },
  {
   "cell_type": "markdown",
   "metadata": {},
   "source": [
    "Fancy function definition:"
   ]
  },
  {
   "cell_type": "code",
   "execution_count": 212,
   "metadata": {},
   "outputs": [
    {
     "data": {
      "text/plain": [
       "g (generic function with 1 method)"
      ]
     },
     "execution_count": 212,
     "metadata": {},
     "output_type": "execute_result"
    }
   ],
   "source": [
    "g(x) = x^3"
   ]
  },
  {
   "cell_type": "code",
   "execution_count": 213,
   "metadata": {},
   "outputs": [
    {
     "data": {
      "text/plain": [
       "25"
      ]
     },
     "execution_count": 213,
     "metadata": {},
     "output_type": "execute_result"
    }
   ],
   "source": [
    "f(5) # 5^2"
   ]
  },
  {
   "cell_type": "code",
   "execution_count": 214,
   "metadata": {},
   "outputs": [
    {
     "data": {
      "text/plain": [
       "8"
      ]
     },
     "execution_count": 214,
     "metadata": {},
     "output_type": "execute_result"
    }
   ],
   "source": [
    "g(2) # 2^3"
   ]
  },
  {
   "cell_type": "markdown",
   "metadata": {},
   "source": [
    "Multiplication concatenates strings"
   ]
  },
  {
   "cell_type": "code",
   "execution_count": 215,
   "metadata": {},
   "outputs": [
    {
     "data": {
      "text/plain": [
       "\"Cheesecake\""
      ]
     },
     "execution_count": 215,
     "metadata": {},
     "output_type": "execute_result"
    }
   ],
   "source": [
    "\"Cheese\"*\"cake\""
   ]
  },
  {
   "cell_type": "code",
   "execution_count": 216,
   "metadata": {},
   "outputs": [
    {
     "data": {
      "text/plain": [
       "2×2 Array{Int64,2}:\n",
       " 1  0\n",
       " 1  1"
      ]
     },
     "execution_count": 216,
     "metadata": {},
     "output_type": "execute_result"
    }
   ],
   "source": [
    "M = [1 0; 1 1]"
   ]
  },
  {
   "cell_type": "code",
   "execution_count": 217,
   "metadata": {},
   "outputs": [
    {
     "data": {
      "text/plain": [
       "2×2 Array{Int64,2}:\n",
       " 1  0\n",
       " 3  1"
      ]
     },
     "execution_count": 217,
     "metadata": {},
     "output_type": "execute_result"
    }
   ],
   "source": [
    "g(M) # M*M*M"
   ]
  },
  {
   "cell_type": "code",
   "execution_count": 218,
   "metadata": {},
   "outputs": [
    {
     "data": {
      "text/plain": [
       "\"YoYoYo\""
      ]
     },
     "execution_count": 218,
     "metadata": {},
     "output_type": "execute_result"
    }
   ],
   "source": [
    "g(\"Yo\")"
   ]
  },
  {
   "cell_type": "markdown",
   "metadata": {},
   "source": [
    "You can also create another variant of the function specific to integers:"
   ]
  },
  {
   "cell_type": "code",
   "execution_count": 219,
   "metadata": {},
   "outputs": [
    {
     "data": {
      "text/plain": [
       "f (generic function with 2 methods)"
      ]
     },
     "execution_count": 219,
     "metadata": {},
     "output_type": "execute_result"
    }
   ],
   "source": [
    "f(x::Int64) = x*x"
   ]
  },
  {
   "cell_type": "code",
   "execution_count": 220,
   "metadata": {},
   "outputs": [
    {
     "data": {
      "text/plain": [
       "25"
      ]
     },
     "execution_count": 220,
     "metadata": {},
     "output_type": "execute_result"
    }
   ],
   "source": [
    "f(5)"
   ]
  },
  {
   "cell_type": "markdown",
   "metadata": {},
   "source": [
    "```@which``` can be used to tell you which variant is called for the argument that you passed"
   ]
  },
  {
   "cell_type": "code",
   "execution_count": 221,
   "metadata": {},
   "outputs": [
    {
     "data": {
      "text/html": [
       "f(x::<b>Int64</b>) in Main at In[219]:1"
      ],
      "text/plain": [
       "f(x::Int64) in Main at In[219]:1"
      ]
     },
     "execution_count": 221,
     "metadata": {},
     "output_type": "execute_result"
    }
   ],
   "source": [
    "@which f(5)"
   ]
  },
  {
   "cell_type": "markdown",
   "metadata": {},
   "source": [
    "* This can be done with different numbers and types of arguments (called multiple dispatch)\n",
    "* The methods that implement some function can be obtained using ```methods()```\n",
    "* Over 100 methods implement ```+```"
   ]
  },
  {
   "cell_type": "code",
   "execution_count": 222,
   "metadata": {},
   "outputs": [
    {
     "data": {
      "text/html": [
       "181 methods for generic function <b>+</b>:<ul><li> +(x::<b>Bool</b>, z::<b>Complex{Bool}</b>) in Base at <a href=\"https://github.com/JuliaLang/julia/tree/c6da87ff4bc7a855e217856757ad3413cf6d1f79/base/complex.jl#L278\" target=\"_blank\">complex.jl:278</a></li> <li> +(x::<b>Bool</b>, y::<b>Bool</b>) in Base at <a href=\"https://github.com/JuliaLang/julia/tree/c6da87ff4bc7a855e217856757ad3413cf6d1f79/base/bool.jl#L96\" target=\"_blank\">bool.jl:96</a></li> <li> +(x::<b>Bool</b>) in Base at <a href=\"https://github.com/JuliaLang/julia/tree/c6da87ff4bc7a855e217856757ad3413cf6d1f79/base/bool.jl#L93\" target=\"_blank\">bool.jl:93</a></li> <li> +(x::<b>Bool</b>, y::<b>T</b>)<i> where T<:AbstractFloat</i> in Base at <a href=\"https://github.com/JuliaLang/julia/tree/c6da87ff4bc7a855e217856757ad3413cf6d1f79/base/bool.jl#L104\" target=\"_blank\">bool.jl:104</a></li> <li> +(x::<b>Bool</b>, z::<b>Complex</b>) in Base at <a href=\"https://github.com/JuliaLang/julia/tree/c6da87ff4bc7a855e217856757ad3413cf6d1f79/base/complex.jl#L285\" target=\"_blank\">complex.jl:285</a></li> <li> +(a::<b>Float16</b>, b::<b>Float16</b>) in Base at <a href=\"https://github.com/JuliaLang/julia/tree/c6da87ff4bc7a855e217856757ad3413cf6d1f79/base/float.jl#L392\" target=\"_blank\">float.jl:392</a></li> <li> +(x::<b>Float32</b>, y::<b>Float32</b>) in Base at <a href=\"https://github.com/JuliaLang/julia/tree/c6da87ff4bc7a855e217856757ad3413cf6d1f79/base/float.jl#L394\" target=\"_blank\">float.jl:394</a></li> <li> +(x::<b>Float64</b>, y::<b>Float64</b>) in Base at <a href=\"https://github.com/JuliaLang/julia/tree/c6da87ff4bc7a855e217856757ad3413cf6d1f79/base/float.jl#L395\" target=\"_blank\">float.jl:395</a></li> <li> +(z::<b>Complex{Bool}</b>, x::<b>Bool</b>) in Base at <a href=\"https://github.com/JuliaLang/julia/tree/c6da87ff4bc7a855e217856757ad3413cf6d1f79/base/complex.jl#L279\" target=\"_blank\">complex.jl:279</a></li> <li> +(z::<b>Complex{Bool}</b>, x::<b>Real</b>) in Base at <a href=\"https://github.com/JuliaLang/julia/tree/c6da87ff4bc7a855e217856757ad3413cf6d1f79/base/complex.jl#L293\" target=\"_blank\">complex.jl:293</a></li> <li> +(::<b>Missing</b>, ::<b>Missing</b>) in Base at <a href=\"https://github.com/JuliaLang/julia/tree/c6da87ff4bc7a855e217856757ad3413cf6d1f79/base/missing.jl#L93\" target=\"_blank\">missing.jl:93</a></li> <li> +(::<b>Missing</b>) in Base at <a href=\"https://github.com/JuliaLang/julia/tree/c6da87ff4bc7a855e217856757ad3413cf6d1f79/base/missing.jl#L79\" target=\"_blank\">missing.jl:79</a></li> <li> +(::<b>Missing</b>, ::<b>Number</b>) in Base at <a href=\"https://github.com/JuliaLang/julia/tree/c6da87ff4bc7a855e217856757ad3413cf6d1f79/base/missing.jl#L94\" target=\"_blank\">missing.jl:94</a></li> <li> +(level::<b>Base.CoreLogging.LogLevel</b>, inc::<b>Integer</b>) in Base.CoreLogging at <a href=\"https://github.com/JuliaLang/julia/tree/c6da87ff4bc7a855e217856757ad3413cf6d1f79/base/logging.jl#L106\" target=\"_blank\">logging.jl:106</a></li> <li> +(c::<b>BigInt</b>, x::<b>BigFloat</b>) in Base.MPFR at <a href=\"https://github.com/JuliaLang/julia/tree/c6da87ff4bc7a855e217856757ad3413cf6d1f79/base/mpfr.jl#L413\" target=\"_blank\">mpfr.jl:413</a></li> <li> +(a::<b>BigInt</b>, b::<b>BigInt</b>, c::<b>BigInt</b>, d::<b>BigInt</b>, e::<b>BigInt</b>) in Base.GMP at <a href=\"https://github.com/JuliaLang/julia/tree/c6da87ff4bc7a855e217856757ad3413cf6d1f79/base/gmp.jl#L455\" target=\"_blank\">gmp.jl:455</a></li> <li> +(a::<b>BigInt</b>, b::<b>BigInt</b>, c::<b>BigInt</b>, d::<b>BigInt</b>) in Base.GMP at <a href=\"https://github.com/JuliaLang/julia/tree/c6da87ff4bc7a855e217856757ad3413cf6d1f79/base/gmp.jl#L454\" target=\"_blank\">gmp.jl:454</a></li> <li> +(a::<b>BigInt</b>, b::<b>BigInt</b>, c::<b>BigInt</b>) in Base.GMP at <a href=\"https://github.com/JuliaLang/julia/tree/c6da87ff4bc7a855e217856757ad3413cf6d1f79/base/gmp.jl#L453\" target=\"_blank\">gmp.jl:453</a></li> <li> +(x::<b>BigInt</b>, y::<b>BigInt</b>) in Base.GMP at <a href=\"https://github.com/JuliaLang/julia/tree/c6da87ff4bc7a855e217856757ad3413cf6d1f79/base/gmp.jl#L424\" target=\"_blank\">gmp.jl:424</a></li> <li> +(x::<b>BigInt</b>, c::<b>Union{UInt16, UInt32, UInt64, UInt8}</b>) in Base.GMP at <a href=\"https://github.com/JuliaLang/julia/tree/c6da87ff4bc7a855e217856757ad3413cf6d1f79/base/gmp.jl#L461\" target=\"_blank\">gmp.jl:461</a></li> <li> +(x::<b>BigInt</b>, c::<b>Union{Int16, Int32, Int64, Int8}</b>) in Base.GMP at <a href=\"https://github.com/JuliaLang/julia/tree/c6da87ff4bc7a855e217856757ad3413cf6d1f79/base/gmp.jl#L467\" target=\"_blank\">gmp.jl:467</a></li> <li> +(a::<b>BigFloat</b>, b::<b>BigFloat</b>, c::<b>BigFloat</b>, d::<b>BigFloat</b>, e::<b>BigFloat</b>) in Base.MPFR at <a href=\"https://github.com/JuliaLang/julia/tree/c6da87ff4bc7a855e217856757ad3413cf6d1f79/base/mpfr.jl#L563\" target=\"_blank\">mpfr.jl:563</a></li> <li> +(a::<b>BigFloat</b>, b::<b>BigFloat</b>, c::<b>BigFloat</b>, d::<b>BigFloat</b>) in Base.MPFR at <a href=\"https://github.com/JuliaLang/julia/tree/c6da87ff4bc7a855e217856757ad3413cf6d1f79/base/mpfr.jl#L556\" target=\"_blank\">mpfr.jl:556</a></li> <li> +(a::<b>BigFloat</b>, b::<b>BigFloat</b>, c::<b>BigFloat</b>) in Base.MPFR at <a href=\"https://github.com/JuliaLang/julia/tree/c6da87ff4bc7a855e217856757ad3413cf6d1f79/base/mpfr.jl#L550\" target=\"_blank\">mpfr.jl:550</a></li> <li> +(x::<b>BigFloat</b>, c::<b>BigInt</b>) in Base.MPFR at <a href=\"https://github.com/JuliaLang/julia/tree/c6da87ff4bc7a855e217856757ad3413cf6d1f79/base/mpfr.jl#L409\" target=\"_blank\">mpfr.jl:409</a></li> <li> +(x::<b>BigFloat</b>, y::<b>BigFloat</b>) in Base.MPFR at <a href=\"https://github.com/JuliaLang/julia/tree/c6da87ff4bc7a855e217856757ad3413cf6d1f79/base/mpfr.jl#L378\" target=\"_blank\">mpfr.jl:378</a></li> <li> +(x::<b>BigFloat</b>, c::<b>Union{UInt16, UInt32, UInt64, UInt8}</b>) in Base.MPFR at <a href=\"https://github.com/JuliaLang/julia/tree/c6da87ff4bc7a855e217856757ad3413cf6d1f79/base/mpfr.jl#L385\" target=\"_blank\">mpfr.jl:385</a></li> <li> +(x::<b>BigFloat</b>, c::<b>Union{Int16, Int32, Int64, Int8}</b>) in Base.MPFR at <a href=\"https://github.com/JuliaLang/julia/tree/c6da87ff4bc7a855e217856757ad3413cf6d1f79/base/mpfr.jl#L393\" target=\"_blank\">mpfr.jl:393</a></li> <li> +(x::<b>BigFloat</b>, c::<b>Union{Float16, Float32, Float64}</b>) in Base.MPFR at <a href=\"https://github.com/JuliaLang/julia/tree/c6da87ff4bc7a855e217856757ad3413cf6d1f79/base/mpfr.jl#L401\" target=\"_blank\">mpfr.jl:401</a></li> <li> +(x::<b>Dates.CompoundPeriod</b>, y::<b>Dates.CompoundPeriod</b>) in Dates at <a href=\"file:///Users/sabae/buildbot/worker/package_macos64/build/usr/share/julia/stdlib/v1.2/Dates/src/periods.jl\" target=\"_blank\">/Users/sabae/buildbot/worker/package_macos64/build/usr/share/julia/stdlib/v1.2/Dates/src/periods.jl:343</a></li> <li> +(x::<b>Dates.CompoundPeriod</b>, y::<b>Dates.Period</b>) in Dates at <a href=\"file:///Users/sabae/buildbot/worker/package_macos64/build/usr/share/julia/stdlib/v1.2/Dates/src/periods.jl\" target=\"_blank\">/Users/sabae/buildbot/worker/package_macos64/build/usr/share/julia/stdlib/v1.2/Dates/src/periods.jl:341</a></li> <li> +(x::<b>Dates.CompoundPeriod</b>, y::<b>Dates.TimeType</b>) in Dates at <a href=\"file:///Users/sabae/buildbot/worker/package_macos64/build/usr/share/julia/stdlib/v1.2/Dates/src/periods.jl\" target=\"_blank\">/Users/sabae/buildbot/worker/package_macos64/build/usr/share/julia/stdlib/v1.2/Dates/src/periods.jl:371</a></li> <li> +(x::<b>Dates.Date</b>, y::<b>Dates.Day</b>) in Dates at <a href=\"file:///Users/sabae/buildbot/worker/package_macos64/build/usr/share/julia/stdlib/v1.2/Dates/src/arithmetic.jl\" target=\"_blank\">/Users/sabae/buildbot/worker/package_macos64/build/usr/share/julia/stdlib/v1.2/Dates/src/arithmetic.jl:74</a></li> <li> +(x::<b>Dates.Date</b>, y::<b>Dates.Week</b>) in Dates at <a href=\"file:///Users/sabae/buildbot/worker/package_macos64/build/usr/share/julia/stdlib/v1.2/Dates/src/arithmetic.jl\" target=\"_blank\">/Users/sabae/buildbot/worker/package_macos64/build/usr/share/julia/stdlib/v1.2/Dates/src/arithmetic.jl:72</a></li> <li> +(dt::<b>Dates.Date</b>, z::<b>Dates.Month</b>) in Dates at <a href=\"file:///Users/sabae/buildbot/worker/package_macos64/build/usr/share/julia/stdlib/v1.2/Dates/src/arithmetic.jl\" target=\"_blank\">/Users/sabae/buildbot/worker/package_macos64/build/usr/share/julia/stdlib/v1.2/Dates/src/arithmetic.jl:55</a></li> <li> +(dt::<b>Dates.Date</b>, y::<b>Dates.Year</b>) in Dates at <a href=\"file:///Users/sabae/buildbot/worker/package_macos64/build/usr/share/julia/stdlib/v1.2/Dates/src/arithmetic.jl\" target=\"_blank\">/Users/sabae/buildbot/worker/package_macos64/build/usr/share/julia/stdlib/v1.2/Dates/src/arithmetic.jl:28</a></li> <li> +(dt::<b>Dates.Date</b>, t::<b>Dates.Time</b>) in Dates at <a href=\"file:///Users/sabae/buildbot/worker/package_macos64/build/usr/share/julia/stdlib/v1.2/Dates/src/arithmetic.jl\" target=\"_blank\">/Users/sabae/buildbot/worker/package_macos64/build/usr/share/julia/stdlib/v1.2/Dates/src/arithmetic.jl:19</a></li> <li> +(t::<b>Dates.Time</b>, dt::<b>Dates.Date</b>) in Dates at <a href=\"file:///Users/sabae/buildbot/worker/package_macos64/build/usr/share/julia/stdlib/v1.2/Dates/src/arithmetic.jl\" target=\"_blank\">/Users/sabae/buildbot/worker/package_macos64/build/usr/share/julia/stdlib/v1.2/Dates/src/arithmetic.jl:20</a></li> <li> +(x::<b>Dates.Time</b>, y::<b>Dates.TimePeriod</b>) in Dates at <a href=\"file:///Users/sabae/buildbot/worker/package_macos64/build/usr/share/julia/stdlib/v1.2/Dates/src/arithmetic.jl\" target=\"_blank\">/Users/sabae/buildbot/worker/package_macos64/build/usr/share/julia/stdlib/v1.2/Dates/src/arithmetic.jl:78</a></li> <li> +(dt::<b>Dates.DateTime</b>, z::<b>Dates.Month</b>) in Dates at <a href=\"file:///Users/sabae/buildbot/worker/package_macos64/build/usr/share/julia/stdlib/v1.2/Dates/src/arithmetic.jl\" target=\"_blank\">/Users/sabae/buildbot/worker/package_macos64/build/usr/share/julia/stdlib/v1.2/Dates/src/arithmetic.jl:48</a></li> <li> +(dt::<b>Dates.DateTime</b>, y::<b>Dates.Year</b>) in Dates at <a href=\"file:///Users/sabae/buildbot/worker/package_macos64/build/usr/share/julia/stdlib/v1.2/Dates/src/arithmetic.jl\" target=\"_blank\">/Users/sabae/buildbot/worker/package_macos64/build/usr/share/julia/stdlib/v1.2/Dates/src/arithmetic.jl:24</a></li> <li> +(x::<b>Dates.DateTime</b>, y::<b>Dates.Period</b>) in Dates at <a href=\"file:///Users/sabae/buildbot/worker/package_macos64/build/usr/share/julia/stdlib/v1.2/Dates/src/arithmetic.jl\" target=\"_blank\">/Users/sabae/buildbot/worker/package_macos64/build/usr/share/julia/stdlib/v1.2/Dates/src/arithmetic.jl:76</a></li> <li> +(B::<b>BitArray{2}</b>, J::<b>UniformScaling</b>) in LinearAlgebra at <a href=\"file:///Users/sabae/buildbot/worker/package_macos64/build/usr/share/julia/stdlib/v1.2/LinearAlgebra/src/uniformscaling.jl\" target=\"_blank\">/Users/sabae/buildbot/worker/package_macos64/build/usr/share/julia/stdlib/v1.2/LinearAlgebra/src/uniformscaling.jl:115</a></li> <li> +(a::<b>Pkg.Resolve.VersionWeights.VersionWeight</b>, b::<b>Pkg.Resolve.VersionWeights.VersionWeight</b>) in Pkg.Resolve.VersionWeights at <a href=\"file:///Users/sabae/buildbot/worker/package_macos64/build/usr/share/julia/stdlib/v1.2/Pkg/src/resolve/VersionWeights.jl\" target=\"_blank\">/Users/sabae/buildbot/worker/package_macos64/build/usr/share/julia/stdlib/v1.2/Pkg/src/resolve/VersionWeights.jl:26</a></li> <li> +(a::<b>Pkg.Resolve.MaxSum.FieldValues.FieldValue</b>, b::<b>Pkg.Resolve.MaxSum.FieldValues.FieldValue</b>) in Pkg.Resolve.MaxSum.FieldValues at <a href=\"file:///Users/sabae/buildbot/worker/package_macos64/build/usr/share/julia/stdlib/v1.2/Pkg/src/resolve/FieldValues.jl\" target=\"_blank\">/Users/sabae/buildbot/worker/package_macos64/build/usr/share/julia/stdlib/v1.2/Pkg/src/resolve/FieldValues.jl:49</a></li> <li> +(y::<b>AbstractFloat</b>, x::<b>Bool</b>) in Base at <a href=\"https://github.com/JuliaLang/julia/tree/c6da87ff4bc7a855e217856757ad3413cf6d1f79/base/bool.jl#L106\" target=\"_blank\">bool.jl:106</a></li> <li> +(x::<b>T</b>, y::<b>T</b>)<i> where T<:Union{Int128, Int16, Int32, Int64, Int8, UInt128, UInt16, UInt32, UInt64, UInt8}</i> in Base at <a href=\"https://github.com/JuliaLang/julia/tree/c6da87ff4bc7a855e217856757ad3413cf6d1f79/base/int.jl#L53\" target=\"_blank\">int.jl:53</a></li> <li> +(c::<b>Union{UInt16, UInt32, UInt64, UInt8}</b>, x::<b>BigInt</b>) in Base.GMP at <a href=\"https://github.com/JuliaLang/julia/tree/c6da87ff4bc7a855e217856757ad3413cf6d1f79/base/gmp.jl#L462\" target=\"_blank\">gmp.jl:462</a></li> <li> +(c::<b>Union{Int16, Int32, Int64, Int8}</b>, x::<b>BigInt</b>) in Base.GMP at <a href=\"https://github.com/JuliaLang/julia/tree/c6da87ff4bc7a855e217856757ad3413cf6d1f79/base/gmp.jl#L468\" target=\"_blank\">gmp.jl:468</a></li> <li> +(x::<b>GeometryTypes.OffsetInteger{O,T} where T<:Integer</b>, y::<b>GeometryTypes.OffsetInteger{O,T} where T<:Integer</b>)<i> where O</i> in GeometryTypes at <a href=\"file:///Users/hoseoklee/.julia/packages/GeometryTypes/SnZ4l/src/faces.jl\" target=\"_blank\">/Users/hoseoklee/.julia/packages/GeometryTypes/SnZ4l/src/faces.jl:32</a></li> <li> +(a::<b>Integer</b>, b::<b>Integer</b>) in Base at <a href=\"https://github.com/JuliaLang/julia/tree/c6da87ff4bc7a855e217856757ad3413cf6d1f79/base/int.jl#L871\" target=\"_blank\">int.jl:871</a></li> <li> +(x::<b>Integer</b>, y::<b>Ptr</b>) in Base at <a href=\"https://github.com/JuliaLang/julia/tree/c6da87ff4bc7a855e217856757ad3413cf6d1f79/base/pointer.jl#L161\" target=\"_blank\">pointer.jl:161</a></li> <li> +(z::<b>Complex</b>) in Base at <a href=\"https://github.com/JuliaLang/julia/tree/c6da87ff4bc7a855e217856757ad3413cf6d1f79/base/complex.jl#L265\" target=\"_blank\">complex.jl:265</a></li> <li> +(z::<b>Complex</b>, w::<b>Complex</b>) in Base at <a href=\"https://github.com/JuliaLang/julia/tree/c6da87ff4bc7a855e217856757ad3413cf6d1f79/base/complex.jl#L267\" target=\"_blank\">complex.jl:267</a></li> <li> +(z::<b>Complex</b>, x::<b>Bool</b>) in Base at <a href=\"https://github.com/JuliaLang/julia/tree/c6da87ff4bc7a855e217856757ad3413cf6d1f79/base/complex.jl#L286\" target=\"_blank\">complex.jl:286</a></li> <li> +(x::<b>Real</b>, z::<b>Complex{Bool}</b>) in Base at <a href=\"https://github.com/JuliaLang/julia/tree/c6da87ff4bc7a855e217856757ad3413cf6d1f79/base/complex.jl#L292\" target=\"_blank\">complex.jl:292</a></li> <li> +(x::<b>Real</b>, z::<b>Complex</b>) in Base at <a href=\"https://github.com/JuliaLang/julia/tree/c6da87ff4bc7a855e217856757ad3413cf6d1f79/base/complex.jl#L304\" target=\"_blank\">complex.jl:304</a></li> <li> +(z::<b>Complex</b>, x::<b>Real</b>) in Base at <a href=\"https://github.com/JuliaLang/julia/tree/c6da87ff4bc7a855e217856757ad3413cf6d1f79/base/complex.jl#L305\" target=\"_blank\">complex.jl:305</a></li> <li> +(x::<b>Rational</b>, y::<b>Rational</b>) in Base at <a href=\"https://github.com/JuliaLang/julia/tree/c6da87ff4bc7a855e217856757ad3413cf6d1f79/base/rational.jl#L254\" target=\"_blank\">rational.jl:254</a></li> <li> +(x::<b>Integer</b>, y::<b>AbstractChar</b>) in Base at <a href=\"https://github.com/JuliaLang/julia/tree/c6da87ff4bc7a855e217856757ad3413cf6d1f79/base/char.jl#L224\" target=\"_blank\">char.jl:224</a></li> <li> +(c::<b>Union{UInt16, UInt32, UInt64, UInt8}</b>, x::<b>BigFloat</b>) in Base.MPFR at <a href=\"https://github.com/JuliaLang/julia/tree/c6da87ff4bc7a855e217856757ad3413cf6d1f79/base/mpfr.jl#L389\" target=\"_blank\">mpfr.jl:389</a></li> <li> +(c::<b>Union{Int16, Int32, Int64, Int8}</b>, x::<b>BigFloat</b>) in Base.MPFR at <a href=\"https://github.com/JuliaLang/julia/tree/c6da87ff4bc7a855e217856757ad3413cf6d1f79/base/mpfr.jl#L397\" target=\"_blank\">mpfr.jl:397</a></li> <li> +(c::<b>Union{Float16, Float32, Float64}</b>, x::<b>BigFloat</b>) in Base.MPFR at <a href=\"https://github.com/JuliaLang/julia/tree/c6da87ff4bc7a855e217856757ad3413cf6d1f79/base/mpfr.jl#L405\" target=\"_blank\">mpfr.jl:405</a></li> <li> +(x::<b>AbstractIrrational</b>, y::<b>AbstractIrrational</b>) in Base at <a href=\"https://github.com/JuliaLang/julia/tree/c6da87ff4bc7a855e217856757ad3413cf6d1f79/base/irrationals.jl#L137\" target=\"_blank\">irrationals.jl:137</a></li> <li> +(x::<b>FixedPointNumbers.Fixed{T,f}</b>, y::<b>FixedPointNumbers.Fixed{T,f}</b>)<i> where {T, f}</i> in FixedPointNumbers at <a href=\"file:///Users/hoseoklee/.julia/packages/FixedPointNumbers/870tH/src/fixed.jl\" target=\"_blank\">/Users/hoseoklee/.julia/packages/FixedPointNumbers/870tH/src/fixed.jl:36</a></li> <li> +(x::<b>FixedPointNumbers.Normed{T,f}</b>, y::<b>FixedPointNumbers.Normed{T,f}</b>)<i> where {T, f}</i> in FixedPointNumbers at <a href=\"file:///Users/hoseoklee/.julia/packages/FixedPointNumbers/870tH/src/normed.jl\" target=\"_blank\">/Users/hoseoklee/.julia/packages/FixedPointNumbers/870tH/src/normed.jl:91</a></li> <li> +(x::<b>Number</b>) in Base at <a href=\"https://github.com/JuliaLang/julia/tree/c6da87ff4bc7a855e217856757ad3413cf6d1f79/base/operators.jl#L504\" target=\"_blank\">operators.jl:504</a></li> <li> +(x::<b>T</b>, y::<b>T</b>)<i> where T<:Number</i> in Base at <a href=\"https://github.com/JuliaLang/julia/tree/c6da87ff4bc7a855e217856757ad3413cf6d1f79/base/promotion.jl#L389\" target=\"_blank\">promotion.jl:389</a></li> <li> +(x::<b>Number</b>, y::<b>Number</b>) in Base at <a href=\"https://github.com/JuliaLang/julia/tree/c6da87ff4bc7a855e217856757ad3413cf6d1f79/base/promotion.jl#L313\" target=\"_blank\">promotion.jl:313</a></li> <li> +(r1::<b>OrdinalRange</b>, r2::<b>OrdinalRange</b>) in Base at <a href=\"https://github.com/JuliaLang/julia/tree/c6da87ff4bc7a855e217856757ad3413cf6d1f79/base/range.jl#L1004\" target=\"_blank\">range.jl:1004</a></li> <li> +(r1::<b>LinRange{T}</b>, r2::<b>LinRange{T}</b>)<i> where T</i> in Base at <a href=\"https://github.com/JuliaLang/julia/tree/c6da87ff4bc7a855e217856757ad3413cf6d1f79/base/range.jl#L1011\" target=\"_blank\">range.jl:1011</a></li> <li> +(r1::<b>StepRangeLen{T,R,S} where S</b>, r2::<b>StepRangeLen{T,R,S} where S</b>)<i> where {R<:Base.TwicePrecision, T}</i> in Base at <a href=\"https://github.com/JuliaLang/julia/tree/c6da87ff4bc7a855e217856757ad3413cf6d1f79/base/twiceprecision.jl#L557\" target=\"_blank\">twiceprecision.jl:557</a></li> <li> +(r1::<b>StepRangeLen{T,S,S1} where S1</b>, r2::<b>StepRangeLen{T,S,S1} where S1</b>)<i> where {T, S}</i> in Base at <a href=\"https://github.com/JuliaLang/julia/tree/c6da87ff4bc7a855e217856757ad3413cf6d1f79/base/range.jl#L1027\" target=\"_blank\">range.jl:1027</a></li> <li> +(r1::<b>Union{LinRange, OrdinalRange, StepRangeLen}</b>, r2::<b>Union{LinRange, OrdinalRange, StepRangeLen}</b>) in Base at <a href=\"https://github.com/JuliaLang/julia/tree/c6da87ff4bc7a855e217856757ad3413cf6d1f79/base/range.jl#L1019\" target=\"_blank\">range.jl:1019</a></li> <li> +(x::<b>Ptr</b>, y::<b>Integer</b>) in Base at <a href=\"https://github.com/JuliaLang/julia/tree/c6da87ff4bc7a855e217856757ad3413cf6d1f79/base/pointer.jl#L159\" target=\"_blank\">pointer.jl:159</a></li> <li> +(x::<b>Base.TwicePrecision</b>, y::<b>Number</b>) in Base at <a href=\"https://github.com/JuliaLang/julia/tree/c6da87ff4bc7a855e217856757ad3413cf6d1f79/base/twiceprecision.jl#L265\" target=\"_blank\">twiceprecision.jl:265</a></li> <li> +(x::<b>Number</b>, y::<b>Base.TwicePrecision</b>) in Base at <a href=\"https://github.com/JuliaLang/julia/tree/c6da87ff4bc7a855e217856757ad3413cf6d1f79/base/twiceprecision.jl#L268\" target=\"_blank\">twiceprecision.jl:268</a></li> <li> +(x::<b>Base.TwicePrecision{T}</b>, y::<b>Base.TwicePrecision{T}</b>)<i> where T</i> in Base at <a href=\"https://github.com/JuliaLang/julia/tree/c6da87ff4bc7a855e217856757ad3413cf6d1f79/base/twiceprecision.jl#L271\" target=\"_blank\">twiceprecision.jl:271</a></li> <li> +(x::<b>Base.TwicePrecision</b>, y::<b>Base.TwicePrecision</b>) in Base at <a href=\"https://github.com/JuliaLang/julia/tree/c6da87ff4bc7a855e217856757ad3413cf6d1f79/base/twiceprecision.jl#L275\" target=\"_blank\">twiceprecision.jl:275</a></li> <li> +(A::<b>Array</b>, Bs::<b>Array...</b>) in Base at <a href=\"https://github.com/JuliaLang/julia/tree/c6da87ff4bc7a855e217856757ad3413cf6d1f79/base/arraymath.jl#L44\" target=\"_blank\">arraymath.jl:44</a></li> <li> +(A::<b>BitArray</b>, B::<b>BitArray</b>) in Base at <a href=\"https://github.com/JuliaLang/julia/tree/c6da87ff4bc7a855e217856757ad3413cf6d1f79/base/bitarray.jl#L1084\" target=\"_blank\">bitarray.jl:1084</a></li> <li> +(r::<b>AbstractRange{#s617} where #s617<:Dates.TimeType</b>, x::<b>Dates.Period</b>) in Dates at <a href=\"file:///Users/sabae/buildbot/worker/package_macos64/build/usr/share/julia/stdlib/v1.2/Dates/src/ranges.jl\" target=\"_blank\">/Users/sabae/buildbot/worker/package_macos64/build/usr/share/julia/stdlib/v1.2/Dates/src/ranges.jl:59</a></li> <li> +(A::<b>Array</b>, B::<b>SparseArrays.SparseMatrixCSC</b>) in SparseArrays at <a href=\"file:///Users/sabae/buildbot/worker/package_macos64/build/usr/share/julia/stdlib/v1.2/SparseArrays/src/sparsematrix.jl\" target=\"_blank\">/Users/sabae/buildbot/worker/package_macos64/build/usr/share/julia/stdlib/v1.2/SparseArrays/src/sparsematrix.jl:1519</a></li> <li> +(x::<b>Union{DenseArray{#s617,N}, Base.ReinterpretArray{#s617,N,S,A} where S where A<:Union{SubArray{T,N,A,I,true} where I<:Union{Tuple{Vararg{Real,N} where N}, Tuple{AbstractUnitRange,Vararg{Any,N} where N}} where A<:DenseArray where N where T, DenseArray}, Base.ReshapedArray{#s617,N,A,MI} where MI<:Tuple{Vararg{Base.MultiplicativeInverses.SignedMultiplicativeInverse{Int64},N} where N} where A<:Union{Base.ReinterpretArray{T,N,S,A} where S where A<:Union{SubArray{T,N,A,I,true} where I<:Union{Tuple{Vararg{Real,N} where N}, Tuple{AbstractUnitRange,Vararg{Any,N} where N}} where A<:DenseArray where N where T, DenseArray} where N where T, SubArray{T,N,A,I,true} where I<:Union{Tuple{Vararg{Real,N} where N}, Tuple{AbstractUnitRange,Vararg{Any,N} where N}} where A<:DenseArray where N where T, DenseArray}, SubArray{#s617,N,A,I,L} where L where I<:Tuple{Vararg{Union{Int64, AbstractRange{Int64}, Base.AbstractCartesianIndex},N} where N} where A<:Union{Base.ReinterpretArray{T,N,S,A} where S where A<:Union{SubArray{T,N,A,I,true} where I<:Union{Tuple{Vararg{Real,N} where N}, Tuple{AbstractUnitRange,Vararg{Any,N} where N}} where A<:DenseArray where N where T, DenseArray} where N where T, Base.ReshapedArray{T,N,A,MI} where MI<:Tuple{Vararg{Base.MultiplicativeInverses.SignedMultiplicativeInverse{Int64},N} where N} where A<:Union{Base.ReinterpretArray{T,N,S,A} where S where A<:Union{SubArray{T,N,A,I,true} where I<:Union{Tuple{Vararg{Real,N} where N}, Tuple{AbstractUnitRange,Vararg{Any,N} where N}} where A<:DenseArray where N where T, DenseArray} where N where T, SubArray{T,N,A,I,true} where I<:Union{Tuple{Vararg{Real,N} where N}, Tuple{AbstractUnitRange,Vararg{Any,N} where N}} where A<:DenseArray where N where T, DenseArray} where N where T, DenseArray}} where N where #s617<:Union{Dates.CompoundPeriod, Dates.Period}</b>) in Dates at <a href=\"file:///Users/sabae/buildbot/worker/package_macos64/build/usr/share/julia/stdlib/v1.2/Dates/src/deprecated.jl\" target=\"_blank\">/Users/sabae/buildbot/worker/package_macos64/build/usr/share/julia/stdlib/v1.2/Dates/src/deprecated.jl:57</a></li> <li> +(x::<b>Union{DenseArray{#s617,N}, Base.ReinterpretArray{#s617,N,S,A} where S where A<:Union{SubArray{T,N,A,I,true} where I<:Union{Tuple{Vararg{Real,N} where N}, Tuple{AbstractUnitRange,Vararg{Any,N} where N}} where A<:DenseArray where N where T, DenseArray}, Base.ReshapedArray{#s617,N,A,MI} where MI<:Tuple{Vararg{Base.MultiplicativeInverses.SignedMultiplicativeInverse{Int64},N} where N} where A<:Union{Base.ReinterpretArray{T,N,S,A} where S where A<:Union{SubArray{T,N,A,I,true} where I<:Union{Tuple{Vararg{Real,N} where N}, Tuple{AbstractUnitRange,Vararg{Any,N} where N}} where A<:DenseArray where N where T, DenseArray} where N where T, SubArray{T,N,A,I,true} where I<:Union{Tuple{Vararg{Real,N} where N}, Tuple{AbstractUnitRange,Vararg{Any,N} where N}} where A<:DenseArray where N where T, DenseArray}, SubArray{#s617,N,A,I,L} where L where I<:Tuple{Vararg{Union{Int64, AbstractRange{Int64}, Base.AbstractCartesianIndex},N} where N} where A<:Union{Base.ReinterpretArray{T,N,S,A} where S where A<:Union{SubArray{T,N,A,I,true} where I<:Union{Tuple{Vararg{Real,N} where N}, Tuple{AbstractUnitRange,Vararg{Any,N} where N}} where A<:DenseArray where N where T, DenseArray} where N where T, Base.ReshapedArray{T,N,A,MI} where MI<:Tuple{Vararg{Base.MultiplicativeInverses.SignedMultiplicativeInverse{Int64},N} where N} where A<:Union{Base.ReinterpretArray{T,N,S,A} where S where A<:Union{SubArray{T,N,A,I,true} where I<:Union{Tuple{Vararg{Real,N} where N}, Tuple{AbstractUnitRange,Vararg{Any,N} where N}} where A<:DenseArray where N where T, DenseArray} where N where T, SubArray{T,N,A,I,true} where I<:Union{Tuple{Vararg{Real,N} where N}, Tuple{AbstractUnitRange,Vararg{Any,N} where N}} where A<:DenseArray where N where T, DenseArray} where N where T, DenseArray}} where N where #s617<:Union{Dates.CompoundPeriod, Dates.Period}</b>, y::<b>Dates.TimeType</b>) in Dates at <a href=\"file:///Users/sabae/buildbot/worker/package_macos64/build/usr/share/julia/stdlib/v1.2/Dates/src/deprecated.jl\" target=\"_blank\">/Users/sabae/buildbot/worker/package_macos64/build/usr/share/julia/stdlib/v1.2/Dates/src/deprecated.jl:12</a></li> <li> +(X::<b>Union{DenseArray{#s617,N}, Base.ReinterpretArray{#s617,N,S,A} where S where A<:Union{SubArray{T,N,A,I,true} where I<:Union{Tuple{Vararg{Real,N} where N}, Tuple{AbstractUnitRange,Vararg{Any,N} where N}} where A<:DenseArray where N where T, DenseArray}, Base.ReshapedArray{#s617,N,A,MI} where MI<:Tuple{Vararg{Base.MultiplicativeInverses.SignedMultiplicativeInverse{Int64},N} where N} where A<:Union{Base.ReinterpretArray{T,N,S,A} where S where A<:Union{SubArray{T,N,A,I,true} where I<:Union{Tuple{Vararg{Real,N} where N}, Tuple{AbstractUnitRange,Vararg{Any,N} where N}} where A<:DenseArray where N where T, DenseArray} where N where T, SubArray{T,N,A,I,true} where I<:Union{Tuple{Vararg{Real,N} where N}, Tuple{AbstractUnitRange,Vararg{Any,N} where N}} where A<:DenseArray where N where T, DenseArray}, SubArray{#s617,N,A,I,L} where L where I<:Tuple{Vararg{Union{Int64, AbstractRange{Int64}, Base.AbstractCartesianIndex},N} where N} where A<:Union{Base.ReinterpretArray{T,N,S,A} where S where A<:Union{SubArray{T,N,A,I,true} where I<:Union{Tuple{Vararg{Real,N} where N}, Tuple{AbstractUnitRange,Vararg{Any,N} where N}} where A<:DenseArray where N where T, DenseArray} where N where T, Base.ReshapedArray{T,N,A,MI} where MI<:Tuple{Vararg{Base.MultiplicativeInverses.SignedMultiplicativeInverse{Int64},N} where N} where A<:Union{Base.ReinterpretArray{T,N,S,A} where S where A<:Union{SubArray{T,N,A,I,true} where I<:Union{Tuple{Vararg{Real,N} where N}, Tuple{AbstractUnitRange,Vararg{Any,N} where N}} where A<:DenseArray where N where T, DenseArray} where N where T, SubArray{T,N,A,I,true} where I<:Union{Tuple{Vararg{Real,N} where N}, Tuple{AbstractUnitRange,Vararg{Any,N} where N}} where A<:DenseArray where N where T, DenseArray} where N where T, DenseArray}} where N where #s617<:Union{Dates.CompoundPeriod, Dates.Period}</b>, Y::<b>Union{DenseArray{#s616,N}, Base.ReinterpretArray{#s616,N,S,A} where S where A<:Union{SubArray{T,N,A,I,true} where I<:Union{Tuple{Vararg{Real,N} where N}, Tuple{AbstractUnitRange,Vararg{Any,N} where N}} where A<:DenseArray where N where T, DenseArray}, Base.ReshapedArray{#s616,N,A,MI} where MI<:Tuple{Vararg{Base.MultiplicativeInverses.SignedMultiplicativeInverse{Int64},N} where N} where A<:Union{Base.ReinterpretArray{T,N,S,A} where S where A<:Union{SubArray{T,N,A,I,true} where I<:Union{Tuple{Vararg{Real,N} where N}, Tuple{AbstractUnitRange,Vararg{Any,N} where N}} where A<:DenseArray where N where T, DenseArray} where N where T, SubArray{T,N,A,I,true} where I<:Union{Tuple{Vararg{Real,N} where N}, Tuple{AbstractUnitRange,Vararg{Any,N} where N}} where A<:DenseArray where N where T, DenseArray}, SubArray{#s616,N,A,I,L} where L where I<:Tuple{Vararg{Union{Int64, AbstractRange{Int64}, Base.AbstractCartesianIndex},N} where N} where A<:Union{Base.ReinterpretArray{T,N,S,A} where S where A<:Union{SubArray{T,N,A,I,true} where I<:Union{Tuple{Vararg{Real,N} where N}, Tuple{AbstractUnitRange,Vararg{Any,N} where N}} where A<:DenseArray where N where T, DenseArray} where N where T, Base.ReshapedArray{T,N,A,MI} where MI<:Tuple{Vararg{Base.MultiplicativeInverses.SignedMultiplicativeInverse{Int64},N} where N} where A<:Union{Base.ReinterpretArray{T,N,S,A} where S where A<:Union{SubArray{T,N,A,I,true} where I<:Union{Tuple{Vararg{Real,N} where N}, Tuple{AbstractUnitRange,Vararg{Any,N} where N}} where A<:DenseArray where N where T, DenseArray} where N where T, SubArray{T,N,A,I,true} where I<:Union{Tuple{Vararg{Real,N} where N}, Tuple{AbstractUnitRange,Vararg{Any,N} where N}} where A<:DenseArray where N where T, DenseArray} where N where T, DenseArray}} where N where #s616<:Union{Dates.CompoundPeriod, Dates.Period}</b>) in Dates at <a href=\"file:///Users/sabae/buildbot/worker/package_macos64/build/usr/share/julia/stdlib/v1.2/Dates/src/deprecated.jl\" target=\"_blank\">/Users/sabae/buildbot/worker/package_macos64/build/usr/share/julia/stdlib/v1.2/Dates/src/deprecated.jl:64</a></li> <li> +(A::<b>SymTridiagonal</b>, B::<b>SymTridiagonal</b>) in LinearAlgebra at <a href=\"file:///Users/sabae/buildbot/worker/package_macos64/build/usr/share/julia/stdlib/v1.2/LinearAlgebra/src/tridiag.jl\" target=\"_blank\">/Users/sabae/buildbot/worker/package_macos64/build/usr/share/julia/stdlib/v1.2/LinearAlgebra/src/tridiag.jl:158</a></li> <li> +(A::<b>Tridiagonal</b>, B::<b>Tridiagonal</b>) in LinearAlgebra at <a href=\"file:///Users/sabae/buildbot/worker/package_macos64/build/usr/share/julia/stdlib/v1.2/LinearAlgebra/src/tridiag.jl\" target=\"_blank\">/Users/sabae/buildbot/worker/package_macos64/build/usr/share/julia/stdlib/v1.2/LinearAlgebra/src/tridiag.jl:617</a></li> <li> +(A::<b>UpperTriangular</b>, B::<b>UpperTriangular</b>) in LinearAlgebra at <a href=\"file:///Users/sabae/buildbot/worker/package_macos64/build/usr/share/julia/stdlib/v1.2/LinearAlgebra/src/triangular.jl\" target=\"_blank\">/Users/sabae/buildbot/worker/package_macos64/build/usr/share/julia/stdlib/v1.2/LinearAlgebra/src/triangular.jl:533</a></li> <li> +(A::<b>LowerTriangular</b>, B::<b>LowerTriangular</b>) in LinearAlgebra at <a href=\"file:///Users/sabae/buildbot/worker/package_macos64/build/usr/share/julia/stdlib/v1.2/LinearAlgebra/src/triangular.jl\" target=\"_blank\">/Users/sabae/buildbot/worker/package_macos64/build/usr/share/julia/stdlib/v1.2/LinearAlgebra/src/triangular.jl:534</a></li> <li> +(A::<b>UpperTriangular</b>, B::<b>UnitUpperTriangular</b>) in LinearAlgebra at <a href=\"file:///Users/sabae/buildbot/worker/package_macos64/build/usr/share/julia/stdlib/v1.2/LinearAlgebra/src/triangular.jl\" target=\"_blank\">/Users/sabae/buildbot/worker/package_macos64/build/usr/share/julia/stdlib/v1.2/LinearAlgebra/src/triangular.jl:535</a></li> <li> +(A::<b>LowerTriangular</b>, B::<b>UnitLowerTriangular</b>) in LinearAlgebra at <a href=\"file:///Users/sabae/buildbot/worker/package_macos64/build/usr/share/julia/stdlib/v1.2/LinearAlgebra/src/triangular.jl\" target=\"_blank\">/Users/sabae/buildbot/worker/package_macos64/build/usr/share/julia/stdlib/v1.2/LinearAlgebra/src/triangular.jl:536</a></li> <li> +(A::<b>UnitUpperTriangular</b>, B::<b>UpperTriangular</b>) in LinearAlgebra at <a href=\"file:///Users/sabae/buildbot/worker/package_macos64/build/usr/share/julia/stdlib/v1.2/LinearAlgebra/src/triangular.jl\" target=\"_blank\">/Users/sabae/buildbot/worker/package_macos64/build/usr/share/julia/stdlib/v1.2/LinearAlgebra/src/triangular.jl:537</a></li> <li> +(A::<b>UnitLowerTriangular</b>, B::<b>LowerTriangular</b>) in LinearAlgebra at <a href=\"file:///Users/sabae/buildbot/worker/package_macos64/build/usr/share/julia/stdlib/v1.2/LinearAlgebra/src/triangular.jl\" target=\"_blank\">/Users/sabae/buildbot/worker/package_macos64/build/usr/share/julia/stdlib/v1.2/LinearAlgebra/src/triangular.jl:538</a></li> <li> +(A::<b>UnitUpperTriangular</b>, B::<b>UnitUpperTriangular</b>) in LinearAlgebra at <a href=\"file:///Users/sabae/buildbot/worker/package_macos64/build/usr/share/julia/stdlib/v1.2/LinearAlgebra/src/triangular.jl\" target=\"_blank\">/Users/sabae/buildbot/worker/package_macos64/build/usr/share/julia/stdlib/v1.2/LinearAlgebra/src/triangular.jl:539</a></li> <li> +(A::<b>UnitLowerTriangular</b>, B::<b>UnitLowerTriangular</b>) in LinearAlgebra at <a href=\"file:///Users/sabae/buildbot/worker/package_macos64/build/usr/share/julia/stdlib/v1.2/LinearAlgebra/src/triangular.jl\" target=\"_blank\">/Users/sabae/buildbot/worker/package_macos64/build/usr/share/julia/stdlib/v1.2/LinearAlgebra/src/triangular.jl:540</a></li> <li> +(A::<b>LinearAlgebra.AbstractTriangular</b>, B::<b>LinearAlgebra.AbstractTriangular</b>) in LinearAlgebra at <a href=\"file:///Users/sabae/buildbot/worker/package_macos64/build/usr/share/julia/stdlib/v1.2/LinearAlgebra/src/triangular.jl\" target=\"_blank\">/Users/sabae/buildbot/worker/package_macos64/build/usr/share/julia/stdlib/v1.2/LinearAlgebra/src/triangular.jl:541</a></li> <li> +(A::<b>Symmetric</b>, B::<b>Symmetric</b>) in LinearAlgebra at <a href=\"file:///Users/sabae/buildbot/worker/package_macos64/build/usr/share/julia/stdlib/v1.2/LinearAlgebra/src/symmetric.jl\" target=\"_blank\">/Users/sabae/buildbot/worker/package_macos64/build/usr/share/julia/stdlib/v1.2/LinearAlgebra/src/symmetric.jl:422</a></li> <li> +(A::<b>Hermitian</b>, B::<b>Hermitian</b>) in LinearAlgebra at <a href=\"file:///Users/sabae/buildbot/worker/package_macos64/build/usr/share/julia/stdlib/v1.2/LinearAlgebra/src/symmetric.jl\" target=\"_blank\">/Users/sabae/buildbot/worker/package_macos64/build/usr/share/julia/stdlib/v1.2/LinearAlgebra/src/symmetric.jl:423</a></li> <li> +(A::<b>Hermitian</b>, B::<b>Symmetric{#s617,S} where S<:(AbstractArray{#s6171,2} where #s6171<:#s617) where #s617<:Real</b>) in LinearAlgebra at <a href=\"file:///Users/sabae/buildbot/worker/package_macos64/build/usr/share/julia/stdlib/v1.2/LinearAlgebra/src/symmetric.jl\" target=\"_blank\">/Users/sabae/buildbot/worker/package_macos64/build/usr/share/julia/stdlib/v1.2/LinearAlgebra/src/symmetric.jl:424</a></li> <li> +(A::<b>Symmetric{#s617,S} where S<:(AbstractArray{#s6171,2} where #s6171<:#s617) where #s617<:Real</b>, B::<b>Hermitian</b>) in LinearAlgebra at <a href=\"file:///Users/sabae/buildbot/worker/package_macos64/build/usr/share/julia/stdlib/v1.2/LinearAlgebra/src/symmetric.jl\" target=\"_blank\">/Users/sabae/buildbot/worker/package_macos64/build/usr/share/julia/stdlib/v1.2/LinearAlgebra/src/symmetric.jl:425</a></li> <li> +(Da::<b>Diagonal</b>, Db::<b>Diagonal</b>) in LinearAlgebra at <a href=\"file:///Users/sabae/buildbot/worker/package_macos64/build/usr/share/julia/stdlib/v1.2/LinearAlgebra/src/diagonal.jl\" target=\"_blank\">/Users/sabae/buildbot/worker/package_macos64/build/usr/share/julia/stdlib/v1.2/LinearAlgebra/src/diagonal.jl:156</a></li> <li> +(A::<b>Bidiagonal</b>, B::<b>Bidiagonal</b>) in LinearAlgebra at <a href=\"file:///Users/sabae/buildbot/worker/package_macos64/build/usr/share/julia/stdlib/v1.2/LinearAlgebra/src/bidiag.jl\" target=\"_blank\">/Users/sabae/buildbot/worker/package_macos64/build/usr/share/julia/stdlib/v1.2/LinearAlgebra/src/bidiag.jl:307</a></li> <li> +(UL::<b>UnitUpperTriangular</b>, J::<b>UniformScaling</b>) in LinearAlgebra at <a href=\"file:///Users/sabae/buildbot/worker/package_macos64/build/usr/share/julia/stdlib/v1.2/LinearAlgebra/src/uniformscaling.jl\" target=\"_blank\">/Users/sabae/buildbot/worker/package_macos64/build/usr/share/julia/stdlib/v1.2/LinearAlgebra/src/uniformscaling.jl:131</a></li> <li> +(UL::<b>UnitLowerTriangular</b>, J::<b>UniformScaling</b>) in LinearAlgebra at <a href=\"file:///Users/sabae/buildbot/worker/package_macos64/build/usr/share/julia/stdlib/v1.2/LinearAlgebra/src/uniformscaling.jl\" target=\"_blank\">/Users/sabae/buildbot/worker/package_macos64/build/usr/share/julia/stdlib/v1.2/LinearAlgebra/src/uniformscaling.jl:131</a></li> <li> +(A::<b>Hermitian</b>, J::<b>UniformScaling{#s617} where #s617<:Complex</b>) in LinearAlgebra at <a href=\"file:///Users/sabae/buildbot/worker/package_macos64/build/usr/share/julia/stdlib/v1.2/LinearAlgebra/src/uniformscaling.jl\" target=\"_blank\">/Users/sabae/buildbot/worker/package_macos64/build/usr/share/julia/stdlib/v1.2/LinearAlgebra/src/uniformscaling.jl:145</a></li> <li> +(A::<b>Tridiagonal{#s617,V} where V<:AbstractArray{#s617,1} where #s617<:Number</b>, B::<b>UniformScaling</b>) in LinearAlgebra at <a href=\"file:///Users/sabae/buildbot/worker/package_macos64/build/usr/share/julia/stdlib/v1.2/LinearAlgebra/src/special.jl\" target=\"_blank\">/Users/sabae/buildbot/worker/package_macos64/build/usr/share/julia/stdlib/v1.2/LinearAlgebra/src/special.jl:238</a></li> <li> +(A::<b>SymTridiagonal{#s617,V} where V<:AbstractArray{#s617,1} where #s617<:Number</b>, B::<b>UniformScaling</b>) in LinearAlgebra at <a href=\"file:///Users/sabae/buildbot/worker/package_macos64/build/usr/share/julia/stdlib/v1.2/LinearAlgebra/src/special.jl\" target=\"_blank\">/Users/sabae/buildbot/worker/package_macos64/build/usr/share/julia/stdlib/v1.2/LinearAlgebra/src/special.jl:243</a></li> <li> +(A::<b>Bidiagonal{#s617,V} where V<:AbstractArray{#s617,1} where #s617<:Number</b>, B::<b>UniformScaling</b>) in LinearAlgebra at <a href=\"file:///Users/sabae/buildbot/worker/package_macos64/build/usr/share/julia/stdlib/v1.2/LinearAlgebra/src/special.jl\" target=\"_blank\">/Users/sabae/buildbot/worker/package_macos64/build/usr/share/julia/stdlib/v1.2/LinearAlgebra/src/special.jl:248</a></li> <li> +(A::<b>Diagonal{#s617,V} where V<:AbstractArray{#s617,1} where #s617<:Number</b>, B::<b>UniformScaling</b>) in LinearAlgebra at <a href=\"file:///Users/sabae/buildbot/worker/package_macos64/build/usr/share/julia/stdlib/v1.2/LinearAlgebra/src/special.jl\" target=\"_blank\">/Users/sabae/buildbot/worker/package_macos64/build/usr/share/julia/stdlib/v1.2/LinearAlgebra/src/special.jl:253</a></li> <li> +(A::<b>SparseArrays.SparseMatrixCSC</b>, J::<b>UniformScaling</b>) in SparseArrays at <a href=\"file:///Users/sabae/buildbot/worker/package_macos64/build/usr/share/julia/stdlib/v1.2/SparseArrays/src/sparsematrix.jl\" target=\"_blank\">/Users/sabae/buildbot/worker/package_macos64/build/usr/share/julia/stdlib/v1.2/SparseArrays/src/sparsematrix.jl:3451</a></li> <li> +(a::<b>StaticArrays.StaticArray{Tuple{N,M},T,2} where T where M where N</b>, b::<b>UniformScaling</b>) in StaticArrays at <a href=\"file:///Users/hoseoklee/.julia/packages/StaticArrays/3KEjZ/src/linalg.jl\" target=\"_blank\">/Users/hoseoklee/.julia/packages/StaticArrays/3KEjZ/src/linalg.jl:33</a></li> <li> +(A::<b>AbstractArray{T,2} where T</b>, J::<b>UniformScaling</b>) in LinearAlgebra at <a href=\"file:///Users/sabae/buildbot/worker/package_macos64/build/usr/share/julia/stdlib/v1.2/LinearAlgebra/src/uniformscaling.jl\" target=\"_blank\">/Users/sabae/buildbot/worker/package_macos64/build/usr/share/julia/stdlib/v1.2/LinearAlgebra/src/uniformscaling.jl:164</a></li> <li> +(A::<b>UpperTriangular</b>, B::<b>Bidiagonal</b>) in LinearAlgebra at <a href=\"file:///Users/sabae/buildbot/worker/package_macos64/build/usr/share/julia/stdlib/v1.2/LinearAlgebra/src/special.jl\" target=\"_blank\">/Users/sabae/buildbot/worker/package_macos64/build/usr/share/julia/stdlib/v1.2/LinearAlgebra/src/special.jl:98</a></li> <li> +(A::<b>Bidiagonal</b>, B::<b>UpperTriangular</b>) in LinearAlgebra at <a href=\"file:///Users/sabae/buildbot/worker/package_macos64/build/usr/share/julia/stdlib/v1.2/LinearAlgebra/src/special.jl\" target=\"_blank\">/Users/sabae/buildbot/worker/package_macos64/build/usr/share/julia/stdlib/v1.2/LinearAlgebra/src/special.jl:106</a></li> <li> +(A::<b>UnitUpperTriangular</b>, B::<b>Bidiagonal</b>) in LinearAlgebra at <a href=\"file:///Users/sabae/buildbot/worker/package_macos64/build/usr/share/julia/stdlib/v1.2/LinearAlgebra/src/special.jl\" target=\"_blank\">/Users/sabae/buildbot/worker/package_macos64/build/usr/share/julia/stdlib/v1.2/LinearAlgebra/src/special.jl:98</a></li> <li> +(A::<b>Bidiagonal</b>, B::<b>UnitUpperTriangular</b>) in LinearAlgebra at <a href=\"file:///Users/sabae/buildbot/worker/package_macos64/build/usr/share/julia/stdlib/v1.2/LinearAlgebra/src/special.jl\" target=\"_blank\">/Users/sabae/buildbot/worker/package_macos64/build/usr/share/julia/stdlib/v1.2/LinearAlgebra/src/special.jl:106</a></li> <li> +(A::<b>LowerTriangular</b>, B::<b>Bidiagonal</b>) in LinearAlgebra at <a href=\"file:///Users/sabae/buildbot/worker/package_macos64/build/usr/share/julia/stdlib/v1.2/LinearAlgebra/src/special.jl\" target=\"_blank\">/Users/sabae/buildbot/worker/package_macos64/build/usr/share/julia/stdlib/v1.2/LinearAlgebra/src/special.jl:98</a></li> <li> +(A::<b>Bidiagonal</b>, B::<b>LowerTriangular</b>) in LinearAlgebra at <a href=\"file:///Users/sabae/buildbot/worker/package_macos64/build/usr/share/julia/stdlib/v1.2/LinearAlgebra/src/special.jl\" target=\"_blank\">/Users/sabae/buildbot/worker/package_macos64/build/usr/share/julia/stdlib/v1.2/LinearAlgebra/src/special.jl:106</a></li> <li> +(A::<b>UnitLowerTriangular</b>, B::<b>Bidiagonal</b>) in LinearAlgebra at <a href=\"file:///Users/sabae/buildbot/worker/package_macos64/build/usr/share/julia/stdlib/v1.2/LinearAlgebra/src/special.jl\" target=\"_blank\">/Users/sabae/buildbot/worker/package_macos64/build/usr/share/julia/stdlib/v1.2/LinearAlgebra/src/special.jl:98</a></li> <li> +(A::<b>Bidiagonal</b>, B::<b>UnitLowerTriangular</b>) in LinearAlgebra at <a href=\"file:///Users/sabae/buildbot/worker/package_macos64/build/usr/share/julia/stdlib/v1.2/LinearAlgebra/src/special.jl\" target=\"_blank\">/Users/sabae/buildbot/worker/package_macos64/build/usr/share/julia/stdlib/v1.2/LinearAlgebra/src/special.jl:106</a></li> <li> +(A::<b>Bidiagonal</b>, B::<b>Diagonal</b>) in LinearAlgebra at <a href=\"file:///Users/sabae/buildbot/worker/package_macos64/build/usr/share/julia/stdlib/v1.2/LinearAlgebra/src/special.jl\" target=\"_blank\">/Users/sabae/buildbot/worker/package_macos64/build/usr/share/julia/stdlib/v1.2/LinearAlgebra/src/special.jl:127</a></li> <li> +(A::<b>Diagonal</b>, B::<b>Bidiagonal</b>) in LinearAlgebra at <a href=\"file:///Users/sabae/buildbot/worker/package_macos64/build/usr/share/julia/stdlib/v1.2/LinearAlgebra/src/special.jl\" target=\"_blank\">/Users/sabae/buildbot/worker/package_macos64/build/usr/share/julia/stdlib/v1.2/LinearAlgebra/src/special.jl:137</a></li> <li> +(A::<b>Diagonal</b>, B::<b>SymTridiagonal</b>) in LinearAlgebra at <a href=\"file:///Users/sabae/buildbot/worker/package_macos64/build/usr/share/julia/stdlib/v1.2/LinearAlgebra/src/special.jl\" target=\"_blank\">/Users/sabae/buildbot/worker/package_macos64/build/usr/share/julia/stdlib/v1.2/LinearAlgebra/src/special.jl:147</a></li> <li> +(A::<b>SymTridiagonal</b>, B::<b>Diagonal</b>) in LinearAlgebra at <a href=\"file:///Users/sabae/buildbot/worker/package_macos64/build/usr/share/julia/stdlib/v1.2/LinearAlgebra/src/special.jl\" target=\"_blank\">/Users/sabae/buildbot/worker/package_macos64/build/usr/share/julia/stdlib/v1.2/LinearAlgebra/src/special.jl:157</a></li> <li> +(A::<b>Tridiagonal</b>, B::<b>SymTridiagonal</b>) in LinearAlgebra at <a href=\"file:///Users/sabae/buildbot/worker/package_macos64/build/usr/share/julia/stdlib/v1.2/LinearAlgebra/src/special.jl\" target=\"_blank\">/Users/sabae/buildbot/worker/package_macos64/build/usr/share/julia/stdlib/v1.2/LinearAlgebra/src/special.jl:168</a></li> <li> +(A::<b>SymTridiagonal</b>, B::<b>Tridiagonal</b>) in LinearAlgebra at <a href=\"file:///Users/sabae/buildbot/worker/package_macos64/build/usr/share/julia/stdlib/v1.2/LinearAlgebra/src/special.jl\" target=\"_blank\">/Users/sabae/buildbot/worker/package_macos64/build/usr/share/julia/stdlib/v1.2/LinearAlgebra/src/special.jl:170</a></li> <li> +(A::<b>Diagonal</b>, B::<b>Tridiagonal</b>) in LinearAlgebra at <a href=\"file:///Users/sabae/buildbot/worker/package_macos64/build/usr/share/julia/stdlib/v1.2/LinearAlgebra/src/special.jl\" target=\"_blank\">/Users/sabae/buildbot/worker/package_macos64/build/usr/share/julia/stdlib/v1.2/LinearAlgebra/src/special.jl:175</a></li> <li> +(A::<b>Tridiagonal</b>, B::<b>Diagonal</b>) in LinearAlgebra at <a href=\"file:///Users/sabae/buildbot/worker/package_macos64/build/usr/share/julia/stdlib/v1.2/LinearAlgebra/src/special.jl\" target=\"_blank\">/Users/sabae/buildbot/worker/package_macos64/build/usr/share/julia/stdlib/v1.2/LinearAlgebra/src/special.jl:185</a></li> <li> +(A::<b>Bidiagonal</b>, B::<b>Tridiagonal</b>) in LinearAlgebra at <a href=\"file:///Users/sabae/buildbot/worker/package_macos64/build/usr/share/julia/stdlib/v1.2/LinearAlgebra/src/special.jl\" target=\"_blank\">/Users/sabae/buildbot/worker/package_macos64/build/usr/share/julia/stdlib/v1.2/LinearAlgebra/src/special.jl:195</a></li> <li> +(A::<b>Tridiagonal</b>, B::<b>Bidiagonal</b>) in LinearAlgebra at <a href=\"file:///Users/sabae/buildbot/worker/package_macos64/build/usr/share/julia/stdlib/v1.2/LinearAlgebra/src/special.jl\" target=\"_blank\">/Users/sabae/buildbot/worker/package_macos64/build/usr/share/julia/stdlib/v1.2/LinearAlgebra/src/special.jl:205</a></li> <li> +(A::<b>Bidiagonal</b>, B::<b>SymTridiagonal</b>) in LinearAlgebra at <a href=\"file:///Users/sabae/buildbot/worker/package_macos64/build/usr/share/julia/stdlib/v1.2/LinearAlgebra/src/special.jl\" target=\"_blank\">/Users/sabae/buildbot/worker/package_macos64/build/usr/share/julia/stdlib/v1.2/LinearAlgebra/src/special.jl:215</a></li> <li> +(A::<b>SymTridiagonal</b>, B::<b>Bidiagonal</b>) in LinearAlgebra at <a href=\"file:///Users/sabae/buildbot/worker/package_macos64/build/usr/share/julia/stdlib/v1.2/LinearAlgebra/src/special.jl\" target=\"_blank\">/Users/sabae/buildbot/worker/package_macos64/build/usr/share/julia/stdlib/v1.2/LinearAlgebra/src/special.jl:225</a></li> <li> +(A::<b>SparseArrays.SparseMatrixCSC</b>, B::<b>SparseArrays.SparseMatrixCSC</b>) in SparseArrays at <a href=\"file:///Users/sabae/buildbot/worker/package_macos64/build/usr/share/julia/stdlib/v1.2/SparseArrays/src/sparsematrix.jl\" target=\"_blank\">/Users/sabae/buildbot/worker/package_macos64/build/usr/share/julia/stdlib/v1.2/SparseArrays/src/sparsematrix.jl:1515</a></li> <li> +(A::<b>SparseArrays.SparseMatrixCSC</b>, B::<b>Array</b>) in SparseArrays at <a href=\"file:///Users/sabae/buildbot/worker/package_macos64/build/usr/share/julia/stdlib/v1.2/SparseArrays/src/sparsematrix.jl\" target=\"_blank\">/Users/sabae/buildbot/worker/package_macos64/build/usr/share/julia/stdlib/v1.2/SparseArrays/src/sparsematrix.jl:1518</a></li> <li> +(x::<b>SparseArrays.AbstractSparseArray{Tv,Ti,1} where Ti where Tv</b>, y::<b>SparseArrays.AbstractSparseArray{Tv,Ti,1} where Ti where Tv</b>) in SparseArrays at <a href=\"file:///Users/sabae/buildbot/worker/package_macos64/build/usr/share/julia/stdlib/v1.2/SparseArrays/src/sparsevector.jl\" target=\"_blank\">/Users/sabae/buildbot/worker/package_macos64/build/usr/share/julia/stdlib/v1.2/SparseArrays/src/sparsevector.jl:1304</a></li> <li> +(a::<b>StaticArrays.SHermitianCompact</b>, b::<b>Number</b>) in StaticArrays at <a href=\"file:///Users/hoseoklee/.julia/packages/StaticArrays/3KEjZ/src/SHermitianCompact.jl\" target=\"_blank\">/Users/hoseoklee/.julia/packages/StaticArrays/3KEjZ/src/SHermitianCompact.jl:155</a></li> <li> +(a::<b>StaticArrays.StaticArray</b>, b::<b>StaticArrays.StaticArray</b>) in StaticArrays at <a href=\"file:///Users/hoseoklee/.julia/packages/StaticArrays/3KEjZ/src/linalg.jl\" target=\"_blank\">/Users/hoseoklee/.julia/packages/StaticArrays/3KEjZ/src/linalg.jl:10</a></li> <li> +(a::<b>StaticArrays.StaticArray</b>, b::<b>AbstractArray</b>) in StaticArrays at <a href=\"file:///Users/hoseoklee/.julia/packages/StaticArrays/3KEjZ/src/linalg.jl\" target=\"_blank\">/Users/hoseoklee/.julia/packages/StaticArrays/3KEjZ/src/linalg.jl:12</a></li> <li> +(a::<b>StaticArrays.StaticArray</b>, b::<b>Number</b>) in StaticArrays at <a href=\"file:///Users/hoseoklee/.julia/packages/StaticArrays/3KEjZ/src/linalg.jl\" target=\"_blank\">/Users/hoseoklee/.julia/packages/StaticArrays/3KEjZ/src/linalg.jl:20</a></li> <li> +(x::<b>AbstractArray{#s75,N} where N where #s75<:Number</b>) in Base at <a href=\"https://github.com/JuliaLang/julia/tree/c6da87ff4bc7a855e217856757ad3413cf6d1f79/base/abstractarraymath.jl#L97\" target=\"_blank\">abstractarraymath.jl:97</a></li> <li> +(a::<b>AbstractArray</b>, b::<b>StaticArrays.StaticArray</b>) in StaticArrays at <a href=\"file:///Users/hoseoklee/.julia/packages/StaticArrays/3KEjZ/src/linalg.jl\" target=\"_blank\">/Users/hoseoklee/.julia/packages/StaticArrays/3KEjZ/src/linalg.jl:11</a></li> <li> +(A::<b>AbstractArray</b>, B::<b>AbstractArray</b>) in Base at <a href=\"https://github.com/JuliaLang/julia/tree/c6da87ff4bc7a855e217856757ad3413cf6d1f79/base/arraymath.jl#L38\" target=\"_blank\">arraymath.jl:38</a></li> <li> +(x::<b>T</b>, y::<b>Integer</b>)<i> where T<:AbstractChar</i> in Base at <a href=\"https://github.com/JuliaLang/julia/tree/c6da87ff4bc7a855e217856757ad3413cf6d1f79/base/char.jl#L223\" target=\"_blank\">char.jl:223</a></li> <li> +(index1::<b>CartesianIndex{N}</b>, index2::<b>CartesianIndex{N}</b>)<i> where N</i> in Base.IteratorsMD at <a href=\"https://github.com/JuliaLang/julia/tree/c6da87ff4bc7a855e217856757ad3413cf6d1f79/base/multidimensional.jl#L110\" target=\"_blank\">multidimensional.jl:110</a></li> <li> +(::<b>Number</b>, ::<b>Missing</b>) in Base at <a href=\"https://github.com/JuliaLang/julia/tree/c6da87ff4bc7a855e217856757ad3413cf6d1f79/base/missing.jl#L95\" target=\"_blank\">missing.jl:95</a></li> <li> +(x::<b>P</b>, y::<b>P</b>)<i> where P<:Dates.Period</i> in Dates at <a href=\"file:///Users/sabae/buildbot/worker/package_macos64/build/usr/share/julia/stdlib/v1.2/Dates/src/periods.jl\" target=\"_blank\">/Users/sabae/buildbot/worker/package_macos64/build/usr/share/julia/stdlib/v1.2/Dates/src/periods.jl:75</a></li> <li> +(x::<b>Dates.Period</b>, y::<b>Dates.Period</b>) in Dates at <a href=\"file:///Users/sabae/buildbot/worker/package_macos64/build/usr/share/julia/stdlib/v1.2/Dates/src/periods.jl\" target=\"_blank\">/Users/sabae/buildbot/worker/package_macos64/build/usr/share/julia/stdlib/v1.2/Dates/src/periods.jl:340</a></li> <li> +(y::<b>Dates.Period</b>, x::<b>Dates.CompoundPeriod</b>) in Dates at <a href=\"file:///Users/sabae/buildbot/worker/package_macos64/build/usr/share/julia/stdlib/v1.2/Dates/src/periods.jl\" target=\"_blank\">/Users/sabae/buildbot/worker/package_macos64/build/usr/share/julia/stdlib/v1.2/Dates/src/periods.jl:342</a></li> <li> +(x::<b>Union{Dates.CompoundPeriod, Dates.Period}</b>) in Dates at <a href=\"file:///Users/sabae/buildbot/worker/package_macos64/build/usr/share/julia/stdlib/v1.2/Dates/src/periods.jl\" target=\"_blank\">/Users/sabae/buildbot/worker/package_macos64/build/usr/share/julia/stdlib/v1.2/Dates/src/periods.jl:351</a></li> <li> +(x::<b>Dates.TimeType</b>) in Dates at <a href=\"file:///Users/sabae/buildbot/worker/package_macos64/build/usr/share/julia/stdlib/v1.2/Dates/src/arithmetic.jl\" target=\"_blank\">/Users/sabae/buildbot/worker/package_macos64/build/usr/share/julia/stdlib/v1.2/Dates/src/arithmetic.jl:8</a></li> <li> +(a::<b>Dates.TimeType</b>, b::<b>Dates.Period</b>, c::<b>Dates.Period</b>) in Dates at <a href=\"file:///Users/sabae/buildbot/worker/package_macos64/build/usr/share/julia/stdlib/v1.2/Dates/src/periods.jl\" target=\"_blank\">/Users/sabae/buildbot/worker/package_macos64/build/usr/share/julia/stdlib/v1.2/Dates/src/periods.jl:362</a></li> <li> +(a::<b>Dates.TimeType</b>, b::<b>Dates.Period</b>, c::<b>Dates.Period</b>, d::<b>Dates.Period...</b>) in Dates at <a href=\"file:///Users/sabae/buildbot/worker/package_macos64/build/usr/share/julia/stdlib/v1.2/Dates/src/periods.jl\" target=\"_blank\">/Users/sabae/buildbot/worker/package_macos64/build/usr/share/julia/stdlib/v1.2/Dates/src/periods.jl:363</a></li> <li> +(x::<b>Dates.TimeType</b>, y::<b>Dates.CompoundPeriod</b>) in Dates at <a href=\"file:///Users/sabae/buildbot/worker/package_macos64/build/usr/share/julia/stdlib/v1.2/Dates/src/periods.jl\" target=\"_blank\">/Users/sabae/buildbot/worker/package_macos64/build/usr/share/julia/stdlib/v1.2/Dates/src/periods.jl:366</a></li> <li> +(x::<b>Dates.Instant</b>) in Dates at <a href=\"file:///Users/sabae/buildbot/worker/package_macos64/build/usr/share/julia/stdlib/v1.2/Dates/src/arithmetic.jl\" target=\"_blank\">/Users/sabae/buildbot/worker/package_macos64/build/usr/share/julia/stdlib/v1.2/Dates/src/arithmetic.jl:4</a></li> <li> +(y::<b>Dates.Period</b>, x::<b>Dates.TimeType</b>) in Dates at <a href=\"file:///Users/sabae/buildbot/worker/package_macos64/build/usr/share/julia/stdlib/v1.2/Dates/src/arithmetic.jl\" target=\"_blank\">/Users/sabae/buildbot/worker/package_macos64/build/usr/share/julia/stdlib/v1.2/Dates/src/arithmetic.jl:80</a></li> <li> +(x::<b>Dates.Period</b>, r::<b>AbstractRange{#s617} where #s617<:Dates.TimeType</b>) in Dates at <a href=\"file:///Users/sabae/buildbot/worker/package_macos64/build/usr/share/julia/stdlib/v1.2/Dates/src/ranges.jl\" target=\"_blank\">/Users/sabae/buildbot/worker/package_macos64/build/usr/share/julia/stdlib/v1.2/Dates/src/ranges.jl:58</a></li> <li> +(x::<b>AbstractArray{#s617,N} where N where #s617<:Dates.TimeType</b>, y::<b>Union{Dates.CompoundPeriod, Dates.Period}</b>) in Dates at <a href=\"file:///Users/sabae/buildbot/worker/package_macos64/build/usr/share/julia/stdlib/v1.2/Dates/src/deprecated.jl\" target=\"_blank\">/Users/sabae/buildbot/worker/package_macos64/build/usr/share/julia/stdlib/v1.2/Dates/src/deprecated.jl:8</a></li> <li> +(y::<b>Union{Dates.CompoundPeriod, Dates.Period}</b>, x::<b>AbstractArray{#s617,N} where N where #s617<:Dates.TimeType</b>) in Dates at <a href=\"file:///Users/sabae/buildbot/worker/package_macos64/build/usr/share/julia/stdlib/v1.2/Dates/src/deprecated.jl\" target=\"_blank\">/Users/sabae/buildbot/worker/package_macos64/build/usr/share/julia/stdlib/v1.2/Dates/src/deprecated.jl:16</a></li> <li> +(y::<b>Dates.TimeType</b>, x::<b>Union{DenseArray{#s617,N}, Base.ReinterpretArray{#s617,N,S,A} where S where A<:Union{SubArray{T,N,A,I,true} where I<:Union{Tuple{Vararg{Real,N} where N}, Tuple{AbstractUnitRange,Vararg{Any,N} where N}} where A<:DenseArray where N where T, DenseArray}, Base.ReshapedArray{#s617,N,A,MI} where MI<:Tuple{Vararg{Base.MultiplicativeInverses.SignedMultiplicativeInverse{Int64},N} where N} where A<:Union{Base.ReinterpretArray{T,N,S,A} where S where A<:Union{SubArray{T,N,A,I,true} where I<:Union{Tuple{Vararg{Real,N} where N}, Tuple{AbstractUnitRange,Vararg{Any,N} where N}} where A<:DenseArray where N where T, DenseArray} where N where T, SubArray{T,N,A,I,true} where I<:Union{Tuple{Vararg{Real,N} where N}, Tuple{AbstractUnitRange,Vararg{Any,N} where N}} where A<:DenseArray where N where T, DenseArray}, SubArray{#s617,N,A,I,L} where L where I<:Tuple{Vararg{Union{Int64, AbstractRange{Int64}, Base.AbstractCartesianIndex},N} where N} where A<:Union{Base.ReinterpretArray{T,N,S,A} where S where A<:Union{SubArray{T,N,A,I,true} where I<:Union{Tuple{Vararg{Real,N} where N}, Tuple{AbstractUnitRange,Vararg{Any,N} where N}} where A<:DenseArray where N where T, DenseArray} where N where T, Base.ReshapedArray{T,N,A,MI} where MI<:Tuple{Vararg{Base.MultiplicativeInverses.SignedMultiplicativeInverse{Int64},N} where N} where A<:Union{Base.ReinterpretArray{T,N,S,A} where S where A<:Union{SubArray{T,N,A,I,true} where I<:Union{Tuple{Vararg{Real,N} where N}, Tuple{AbstractUnitRange,Vararg{Any,N} where N}} where A<:DenseArray where N where T, DenseArray} where N where T, SubArray{T,N,A,I,true} where I<:Union{Tuple{Vararg{Real,N} where N}, Tuple{AbstractUnitRange,Vararg{Any,N} where N}} where A<:DenseArray where N where T, DenseArray} where N where T, DenseArray}} where N where #s617<:Union{Dates.CompoundPeriod, Dates.Period}</b>) in Dates at <a href=\"file:///Users/sabae/buildbot/worker/package_macos64/build/usr/share/julia/stdlib/v1.2/Dates/src/deprecated.jl\" target=\"_blank\">/Users/sabae/buildbot/worker/package_macos64/build/usr/share/julia/stdlib/v1.2/Dates/src/deprecated.jl:20</a></li> <li> +(J::<b>UniformScaling</b>, x::<b>Number</b>) in LinearAlgebra at <a href=\"file:///Users/sabae/buildbot/worker/package_macos64/build/usr/share/julia/stdlib/v1.2/LinearAlgebra/src/uniformscaling.jl\" target=\"_blank\">/Users/sabae/buildbot/worker/package_macos64/build/usr/share/julia/stdlib/v1.2/LinearAlgebra/src/uniformscaling.jl:109</a></li> <li> +(x::<b>Number</b>, J::<b>UniformScaling</b>) in LinearAlgebra at <a href=\"file:///Users/sabae/buildbot/worker/package_macos64/build/usr/share/julia/stdlib/v1.2/LinearAlgebra/src/uniformscaling.jl\" target=\"_blank\">/Users/sabae/buildbot/worker/package_macos64/build/usr/share/julia/stdlib/v1.2/LinearAlgebra/src/uniformscaling.jl:110</a></li> <li> +(J1::<b>UniformScaling</b>, J2::<b>UniformScaling</b>) in LinearAlgebra at <a href=\"file:///Users/sabae/buildbot/worker/package_macos64/build/usr/share/julia/stdlib/v1.2/LinearAlgebra/src/uniformscaling.jl\" target=\"_blank\">/Users/sabae/buildbot/worker/package_macos64/build/usr/share/julia/stdlib/v1.2/LinearAlgebra/src/uniformscaling.jl:114</a></li> <li> +(J::<b>UniformScaling</b>, B::<b>BitArray{2}</b>) in LinearAlgebra at <a href=\"file:///Users/sabae/buildbot/worker/package_macos64/build/usr/share/julia/stdlib/v1.2/LinearAlgebra/src/uniformscaling.jl\" target=\"_blank\">/Users/sabae/buildbot/worker/package_macos64/build/usr/share/julia/stdlib/v1.2/LinearAlgebra/src/uniformscaling.jl:116</a></li> <li> +(A::<b>UniformScaling</b>, B::<b>Tridiagonal{#s617,V} where V<:AbstractArray{#s617,1} where #s617<:Number</b>) in LinearAlgebra at <a href=\"file:///Users/sabae/buildbot/worker/package_macos64/build/usr/share/julia/stdlib/v1.2/LinearAlgebra/src/special.jl\" target=\"_blank\">/Users/sabae/buildbot/worker/package_macos64/build/usr/share/julia/stdlib/v1.2/LinearAlgebra/src/special.jl:257</a></li> <li> +(A::<b>UniformScaling</b>, B::<b>SymTridiagonal{#s617,V} where V<:AbstractArray{#s617,1} where #s617<:Number</b>) in LinearAlgebra at <a href=\"file:///Users/sabae/buildbot/worker/package_macos64/build/usr/share/julia/stdlib/v1.2/LinearAlgebra/src/special.jl\" target=\"_blank\">/Users/sabae/buildbot/worker/package_macos64/build/usr/share/julia/stdlib/v1.2/LinearAlgebra/src/special.jl:262</a></li> <li> +(A::<b>UniformScaling</b>, B::<b>Bidiagonal{#s617,V} where V<:AbstractArray{#s617,1} where #s617<:Number</b>) in LinearAlgebra at <a href=\"file:///Users/sabae/buildbot/worker/package_macos64/build/usr/share/julia/stdlib/v1.2/LinearAlgebra/src/special.jl\" target=\"_blank\">/Users/sabae/buildbot/worker/package_macos64/build/usr/share/julia/stdlib/v1.2/LinearAlgebra/src/special.jl:267</a></li> <li> +(A::<b>UniformScaling</b>, B::<b>Diagonal{#s617,V} where V<:AbstractArray{#s617,1} where #s617<:Number</b>) in LinearAlgebra at <a href=\"file:///Users/sabae/buildbot/worker/package_macos64/build/usr/share/julia/stdlib/v1.2/LinearAlgebra/src/special.jl\" target=\"_blank\">/Users/sabae/buildbot/worker/package_macos64/build/usr/share/julia/stdlib/v1.2/LinearAlgebra/src/special.jl:272</a></li> <li> +(a::<b>UniformScaling</b>, b::<b>StaticArrays.StaticArray{Tuple{N,M},T,2} where T where M where N</b>) in StaticArrays at <a href=\"file:///Users/hoseoklee/.julia/packages/StaticArrays/3KEjZ/src/linalg.jl\" target=\"_blank\">/Users/hoseoklee/.julia/packages/StaticArrays/3KEjZ/src/linalg.jl:34</a></li> <li> +(J::<b>UniformScaling</b>, A::<b>AbstractArray{T,2} where T</b>) in LinearAlgebra at <a href=\"file:///Users/sabae/buildbot/worker/package_macos64/build/usr/share/julia/stdlib/v1.2/LinearAlgebra/src/uniformscaling.jl\" target=\"_blank\">/Users/sabae/buildbot/worker/package_macos64/build/usr/share/julia/stdlib/v1.2/LinearAlgebra/src/uniformscaling.jl:117</a></li> <li> +(a::<b>Measures.Length{U,T} where T</b>, b::<b>Measures.Length{U,T} where T</b>)<i> where U</i> in Measures at <a href=\"file:///Users/hoseoklee/.julia/packages/Measures/eNttC/src/length.jl\" target=\"_blank\">/Users/hoseoklee/.julia/packages/Measures/eNttC/src/length.jl:28</a></li> <li> +(a::<b>Measures.Measure</b>, b::<b>Measures.Measure</b>) in Measures at <a href=\"file:///Users/hoseoklee/.julia/packages/Measures/eNttC/src/operations.jl\" target=\"_blank\">/Users/hoseoklee/.julia/packages/Measures/eNttC/src/operations.jl:41</a></li> <li> +(a::<b>Tuple{Vararg{Measures.Measure,N}}</b>, b::<b>Tuple{Vararg{Measures.Measure,N}}</b>)<i> where N</i> in Measures at <a href=\"file:///Users/hoseoklee/.julia/packages/Measures/eNttC/src/point.jl\" target=\"_blank\">/Users/hoseoklee/.julia/packages/Measures/eNttC/src/point.jl:22</a></li> <li> +(a::<b>Tuple{Vararg{Measures.Measure,N}} where N</b>, b::<b>Tuple{Vararg{Measures.Measure,N}} where N</b>) in Measures at <a href=\"file:///Users/hoseoklee/.julia/packages/Measures/eNttC/src/point.jl\" target=\"_blank\">/Users/hoseoklee/.julia/packages/Measures/eNttC/src/point.jl:15</a></li> <li> +(a::<b>C</b>, b::<b>C</b>)<i> where C<:Union{LMS, XYZ}</i> in Colors at <a href=\"file:///Users/hoseoklee/.julia/packages/Colors/r1p4Q/src/algorithms.jl\" target=\"_blank\">/Users/hoseoklee/.julia/packages/Colors/r1p4Q/src/algorithms.jl:4</a></li> <li> +(a::<b>Number</b>, b::<b>StaticArrays.SHermitianCompact</b>) in StaticArrays at <a href=\"file:///Users/hoseoklee/.julia/packages/StaticArrays/3KEjZ/src/SHermitianCompact.jl\" target=\"_blank\">/Users/hoseoklee/.julia/packages/StaticArrays/3KEjZ/src/SHermitianCompact.jl:154</a></li> <li> +(a::<b>Number</b>, b::<b>StaticArrays.StaticArray</b>) in StaticArrays at <a href=\"file:///Users/hoseoklee/.julia/packages/StaticArrays/3KEjZ/src/linalg.jl\" target=\"_blank\">/Users/hoseoklee/.julia/packages/StaticArrays/3KEjZ/src/linalg.jl:19</a></li> <li> +(h::<b>GeometryTypes.HyperRectangle{N,T}</b>, move::<b>GeometryTypes.Vec{N,T} where T</b>)<i> where {N, T}</i> in GeometryTypes at <a href=\"file:///Users/hoseoklee/.julia/packages/GeometryTypes/SnZ4l/src/hyperrectangles.jl\" target=\"_blank\">/Users/hoseoklee/.julia/packages/GeometryTypes/SnZ4l/src/hyperrectangles.jl:107</a></li> <li> +(h::<b>GeometryTypes.SimpleRectangle{T}</b>, move::<b>GeometryTypes.Vec{2,T} where T</b>)<i> where T</i> in GeometryTypes at <a href=\"file:///Users/hoseoklee/.julia/packages/GeometryTypes/SnZ4l/src/hyperrectangles.jl\" target=\"_blank\">/Users/hoseoklee/.julia/packages/GeometryTypes/SnZ4l/src/hyperrectangles.jl:114</a></li> <li> +(bb1::<b>Measures.BoundingBox</b>, bb2::<b>Measures.BoundingBox</b>) in Plots at <a href=\"file:///Users/hoseoklee/.julia/packages/Plots/Iuc9S/src/layouts.jl\" target=\"_blank\">/Users/hoseoklee/.julia/packages/Plots/Iuc9S/src/layouts.jl:49</a></li> <li> +(a, b, c, xs...) in Base at <a href=\"https://github.com/JuliaLang/julia/tree/c6da87ff4bc7a855e217856757ad3413cf6d1f79/base/operators.jl#L529\" target=\"_blank\">operators.jl:529</a></li> </ul>"
      ],
      "text/plain": [
       "# 181 methods for generic function \"+\":\n",
       "[1] +(x::Bool, z::Complex{Bool}) in Base at complex.jl:278\n",
       "[2] +(x::Bool, y::Bool) in Base at bool.jl:96\n",
       "[3] +(x::Bool) in Base at bool.jl:93\n",
       "[4] +(x::Bool, y::T) where T<:AbstractFloat in Base at bool.jl:104\n",
       "[5] +(x::Bool, z::Complex) in Base at complex.jl:285\n",
       "[6] +(a::Float16, b::Float16) in Base at float.jl:392\n",
       "[7] +(x::Float32, y::Float32) in Base at float.jl:394\n",
       "[8] +(x::Float64, y::Float64) in Base at float.jl:395\n",
       "[9] +(z::Complex{Bool}, x::Bool) in Base at complex.jl:279\n",
       "[10] +(z::Complex{Bool}, x::Real) in Base at complex.jl:293\n",
       "[11] +(::Missing, ::Missing) in Base at missing.jl:93\n",
       "[12] +(::Missing) in Base at missing.jl:79\n",
       "[13] +(::Missing, ::Number) in Base at missing.jl:94\n",
       "[14] +(level::Base.CoreLogging.LogLevel, inc::Integer) in Base.CoreLogging at logging.jl:106\n",
       "[15] +(c::BigInt, x::BigFloat) in Base.MPFR at mpfr.jl:413\n",
       "[16] +(a::BigInt, b::BigInt, c::BigInt, d::BigInt, e::BigInt) in Base.GMP at gmp.jl:455\n",
       "[17] +(a::BigInt, b::BigInt, c::BigInt, d::BigInt) in Base.GMP at gmp.jl:454\n",
       "[18] +(a::BigInt, b::BigInt, c::BigInt) in Base.GMP at gmp.jl:453\n",
       "[19] +(x::BigInt, y::BigInt) in Base.GMP at gmp.jl:424\n",
       "[20] +(x::BigInt, c::Union{UInt16, UInt32, UInt64, UInt8}) in Base.GMP at gmp.jl:461\n",
       "[21] +(x::BigInt, c::Union{Int16, Int32, Int64, Int8}) in Base.GMP at gmp.jl:467\n",
       "[22] +(a::BigFloat, b::BigFloat, c::BigFloat, d::BigFloat, e::BigFloat) in Base.MPFR at mpfr.jl:563\n",
       "[23] +(a::BigFloat, b::BigFloat, c::BigFloat, d::BigFloat) in Base.MPFR at mpfr.jl:556\n",
       "[24] +(a::BigFloat, b::BigFloat, c::BigFloat) in Base.MPFR at mpfr.jl:550\n",
       "[25] +(x::BigFloat, c::BigInt) in Base.MPFR at mpfr.jl:409\n",
       "[26] +(x::BigFloat, y::BigFloat) in Base.MPFR at mpfr.jl:378\n",
       "[27] +(x::BigFloat, c::Union{UInt16, UInt32, UInt64, UInt8}) in Base.MPFR at mpfr.jl:385\n",
       "[28] +(x::BigFloat, c::Union{Int16, Int32, Int64, Int8}) in Base.MPFR at mpfr.jl:393\n",
       "[29] +(x::BigFloat, c::Union{Float16, Float32, Float64}) in Base.MPFR at mpfr.jl:401\n",
       "[30] +(x::Dates.CompoundPeriod, y::Dates.CompoundPeriod) in Dates at /Users/sabae/buildbot/worker/package_macos64/build/usr/share/julia/stdlib/v1.2/Dates/src/periods.jl:343\n",
       "[31] +(x::Dates.CompoundPeriod, y::Dates.Period) in Dates at /Users/sabae/buildbot/worker/package_macos64/build/usr/share/julia/stdlib/v1.2/Dates/src/periods.jl:341\n",
       "[32] +(x::Dates.CompoundPeriod, y::Dates.TimeType) in Dates at /Users/sabae/buildbot/worker/package_macos64/build/usr/share/julia/stdlib/v1.2/Dates/src/periods.jl:371\n",
       "[33] +(x::Dates.Date, y::Dates.Day) in Dates at /Users/sabae/buildbot/worker/package_macos64/build/usr/share/julia/stdlib/v1.2/Dates/src/arithmetic.jl:74\n",
       "[34] +(x::Dates.Date, y::Dates.Week) in Dates at /Users/sabae/buildbot/worker/package_macos64/build/usr/share/julia/stdlib/v1.2/Dates/src/arithmetic.jl:72\n",
       "[35] +(dt::Dates.Date, z::Dates.Month) in Dates at /Users/sabae/buildbot/worker/package_macos64/build/usr/share/julia/stdlib/v1.2/Dates/src/arithmetic.jl:55\n",
       "[36] +(dt::Dates.Date, y::Dates.Year) in Dates at /Users/sabae/buildbot/worker/package_macos64/build/usr/share/julia/stdlib/v1.2/Dates/src/arithmetic.jl:28\n",
       "[37] +(dt::Dates.Date, t::Dates.Time) in Dates at /Users/sabae/buildbot/worker/package_macos64/build/usr/share/julia/stdlib/v1.2/Dates/src/arithmetic.jl:19\n",
       "[38] +(t::Dates.Time, dt::Dates.Date) in Dates at /Users/sabae/buildbot/worker/package_macos64/build/usr/share/julia/stdlib/v1.2/Dates/src/arithmetic.jl:20\n",
       "[39] +(x::Dates.Time, y::Dates.TimePeriod) in Dates at /Users/sabae/buildbot/worker/package_macos64/build/usr/share/julia/stdlib/v1.2/Dates/src/arithmetic.jl:78\n",
       "[40] +(dt::Dates.DateTime, z::Dates.Month) in Dates at /Users/sabae/buildbot/worker/package_macos64/build/usr/share/julia/stdlib/v1.2/Dates/src/arithmetic.jl:48\n",
       "[41] +(dt::Dates.DateTime, y::Dates.Year) in Dates at /Users/sabae/buildbot/worker/package_macos64/build/usr/share/julia/stdlib/v1.2/Dates/src/arithmetic.jl:24\n",
       "[42] +(x::Dates.DateTime, y::Dates.Period) in Dates at /Users/sabae/buildbot/worker/package_macos64/build/usr/share/julia/stdlib/v1.2/Dates/src/arithmetic.jl:76\n",
       "[43] +(B::BitArray{2}, J::UniformScaling) in LinearAlgebra at /Users/sabae/buildbot/worker/package_macos64/build/usr/share/julia/stdlib/v1.2/LinearAlgebra/src/uniformscaling.jl:115\n",
       "[44] +(a::Pkg.Resolve.VersionWeights.VersionWeight, b::Pkg.Resolve.VersionWeights.VersionWeight) in Pkg.Resolve.VersionWeights at /Users/sabae/buildbot/worker/package_macos64/build/usr/share/julia/stdlib/v1.2/Pkg/src/resolve/VersionWeights.jl:26\n",
       "[45] +(a::Pkg.Resolve.MaxSum.FieldValues.FieldValue, b::Pkg.Resolve.MaxSum.FieldValues.FieldValue) in Pkg.Resolve.MaxSum.FieldValues at /Users/sabae/buildbot/worker/package_macos64/build/usr/share/julia/stdlib/v1.2/Pkg/src/resolve/FieldValues.jl:49\n",
       "[46] +(y::AbstractFloat, x::Bool) in Base at bool.jl:106\n",
       "[47] +(x::T, y::T) where T<:Union{Int128, Int16, Int32, Int64, Int8, UInt128, UInt16, UInt32, UInt64, UInt8} in Base at int.jl:53\n",
       "[48] +(c::Union{UInt16, UInt32, UInt64, UInt8}, x::BigInt) in Base.GMP at gmp.jl:462\n",
       "[49] +(c::Union{Int16, Int32, Int64, Int8}, x::BigInt) in Base.GMP at gmp.jl:468\n",
       "[50] +(x::GeometryTypes.OffsetInteger{O,T} where T<:Integer, y::GeometryTypes.OffsetInteger{O,T} where T<:Integer) where O in GeometryTypes at /Users/hoseoklee/.julia/packages/GeometryTypes/SnZ4l/src/faces.jl:32\n",
       "[51] +(a::Integer, b::Integer) in Base at int.jl:871\n",
       "[52] +(x::Integer, y::Ptr) in Base at pointer.jl:161\n",
       "[53] +(z::Complex) in Base at complex.jl:265\n",
       "[54] +(z::Complex, w::Complex) in Base at complex.jl:267\n",
       "[55] +(z::Complex, x::Bool) in Base at complex.jl:286\n",
       "[56] +(x::Real, z::Complex{Bool}) in Base at complex.jl:292\n",
       "[57] +(x::Real, z::Complex) in Base at complex.jl:304\n",
       "[58] +(z::Complex, x::Real) in Base at complex.jl:305\n",
       "[59] +(x::Rational, y::Rational) in Base at rational.jl:254\n",
       "[60] +(x::Integer, y::AbstractChar) in Base at char.jl:224\n",
       "[61] +(c::Union{UInt16, UInt32, UInt64, UInt8}, x::BigFloat) in Base.MPFR at mpfr.jl:389\n",
       "[62] +(c::Union{Int16, Int32, Int64, Int8}, x::BigFloat) in Base.MPFR at mpfr.jl:397\n",
       "[63] +(c::Union{Float16, Float32, Float64}, x::BigFloat) in Base.MPFR at mpfr.jl:405\n",
       "[64] +(x::AbstractIrrational, y::AbstractIrrational) in Base at irrationals.jl:137\n",
       "[65] +(x::FixedPointNumbers.Fixed{T,f}, y::FixedPointNumbers.Fixed{T,f}) where {T, f} in FixedPointNumbers at /Users/hoseoklee/.julia/packages/FixedPointNumbers/870tH/src/fixed.jl:36\n",
       "[66] +(x::FixedPointNumbers.Normed{T,f}, y::FixedPointNumbers.Normed{T,f}) where {T, f} in FixedPointNumbers at /Users/hoseoklee/.julia/packages/FixedPointNumbers/870tH/src/normed.jl:91\n",
       "[67] +(x::Number) in Base at operators.jl:504\n",
       "[68] +(x::T, y::T) where T<:Number in Base at promotion.jl:389\n",
       "[69] +(x::Number, y::Number) in Base at promotion.jl:313\n",
       "[70] +(r1::OrdinalRange, r2::OrdinalRange) in Base at range.jl:1004\n",
       "[71] +(r1::LinRange{T}, r2::LinRange{T}) where T in Base at range.jl:1011\n",
       "[72] +(r1::StepRangeLen{T,R,S} where S, r2::StepRangeLen{T,R,S} where S) where {R<:Base.TwicePrecision, T} in Base at twiceprecision.jl:557\n",
       "[73] +(r1::StepRangeLen{T,S,S1} where S1, r2::StepRangeLen{T,S,S1} where S1) where {T, S} in Base at range.jl:1027\n",
       "[74] +(r1::Union{LinRange, OrdinalRange, StepRangeLen}, r2::Union{LinRange, OrdinalRange, StepRangeLen}) in Base at range.jl:1019\n",
       "[75] +(x::Ptr, y::Integer) in Base at pointer.jl:159\n",
       "[76] +(x::Base.TwicePrecision, y::Number) in Base at twiceprecision.jl:265\n",
       "[77] +(x::Number, y::Base.TwicePrecision) in Base at twiceprecision.jl:268\n",
       "[78] +(x::Base.TwicePrecision{T}, y::Base.TwicePrecision{T}) where T in Base at twiceprecision.jl:271\n",
       "[79] +(x::Base.TwicePrecision, y::Base.TwicePrecision) in Base at twiceprecision.jl:275\n",
       "[80] +(A::Array, Bs::Array...) in Base at arraymath.jl:44\n",
       "[81] +(A::BitArray, B::BitArray) in Base at bitarray.jl:1084\n",
       "[82] +(r::AbstractRange{#s617} where #s617<:Dates.TimeType, x::Dates.Period) in Dates at /Users/sabae/buildbot/worker/package_macos64/build/usr/share/julia/stdlib/v1.2/Dates/src/ranges.jl:59\n",
       "[83] +(A::Array, B::SparseArrays.SparseMatrixCSC) in SparseArrays at /Users/sabae/buildbot/worker/package_macos64/build/usr/share/julia/stdlib/v1.2/SparseArrays/src/sparsematrix.jl:1519\n",
       "[84] +(x::Union{DenseArray{#s617,N}, Base.ReinterpretArray{#s617,N,S,A} where S where A<:Union{SubArray{T,N,A,I,true} where I<:Union{Tuple{Vararg{Real,N} where N}, Tuple{AbstractUnitRange,Vararg{Any,N} where N}} where A<:DenseArray where N where T, DenseArray}, Base.ReshapedArray{#s617,N,A,MI} where MI<:Tuple{Vararg{Base.MultiplicativeInverses.SignedMultiplicativeInverse{Int64},N} where N} where A<:Union{Base.ReinterpretArray{T,N,S,A} where S where A<:Union{SubArray{T,N,A,I,true} where I<:Union{Tuple{Vararg{Real,N} where N}, Tuple{AbstractUnitRange,Vararg{Any,N} where N}} where A<:DenseArray where N where T, DenseArray} where N where T, SubArray{T,N,A,I,true} where I<:Union{Tuple{Vararg{Real,N} where N}, Tuple{AbstractUnitRange,Vararg{Any,N} where N}} where A<:DenseArray where N where T, DenseArray}, SubArray{#s617,N,A,I,L} where L where I<:Tuple{Vararg{Union{Int64, AbstractRange{Int64}, Base.AbstractCartesianIndex},N} where N} where A<:Union{Base.ReinterpretArray{T,N,S,A} where S where A<:Union{SubArray{T,N,A,I,true} where I<:Union{Tuple{Vararg{Real,N} where N}, Tuple{AbstractUnitRange,Vararg{Any,N} where N}} where A<:DenseArray where N where T, DenseArray} where N where T, Base.ReshapedArray{T,N,A,MI} where MI<:Tuple{Vararg{Base.MultiplicativeInverses.SignedMultiplicativeInverse{Int64},N} where N} where A<:Union{Base.ReinterpretArray{T,N,S,A} where S where A<:Union{SubArray{T,N,A,I,true} where I<:Union{Tuple{Vararg{Real,N} where N}, Tuple{AbstractUnitRange,Vararg{Any,N} where N}} where A<:DenseArray where N where T, DenseArray} where N where T, SubArray{T,N,A,I,true} where I<:Union{Tuple{Vararg{Real,N} where N}, Tuple{AbstractUnitRange,Vararg{Any,N} where N}} where A<:DenseArray where N where T, DenseArray} where N where T, DenseArray}} where N where #s617<:Union{Dates.CompoundPeriod, Dates.Period}) in Dates at /Users/sabae/buildbot/worker/package_macos64/build/usr/share/julia/stdlib/v1.2/Dates/src/deprecated.jl:57\n",
       "[85] +(x::Union{DenseArray{#s617,N}, Base.ReinterpretArray{#s617,N,S,A} where S where A<:Union{SubArray{T,N,A,I,true} where I<:Union{Tuple{Vararg{Real,N} where N}, Tuple{AbstractUnitRange,Vararg{Any,N} where N}} where A<:DenseArray where N where T, DenseArray}, Base.ReshapedArray{#s617,N,A,MI} where MI<:Tuple{Vararg{Base.MultiplicativeInverses.SignedMultiplicativeInverse{Int64},N} where N} where A<:Union{Base.ReinterpretArray{T,N,S,A} where S where A<:Union{SubArray{T,N,A,I,true} where I<:Union{Tuple{Vararg{Real,N} where N}, Tuple{AbstractUnitRange,Vararg{Any,N} where N}} where A<:DenseArray where N where T, DenseArray} where N where T, SubArray{T,N,A,I,true} where I<:Union{Tuple{Vararg{Real,N} where N}, Tuple{AbstractUnitRange,Vararg{Any,N} where N}} where A<:DenseArray where N where T, DenseArray}, SubArray{#s617,N,A,I,L} where L where I<:Tuple{Vararg{Union{Int64, AbstractRange{Int64}, Base.AbstractCartesianIndex},N} where N} where A<:Union{Base.ReinterpretArray{T,N,S,A} where S where A<:Union{SubArray{T,N,A,I,true} where I<:Union{Tuple{Vararg{Real,N} where N}, Tuple{AbstractUnitRange,Vararg{Any,N} where N}} where A<:DenseArray where N where T, DenseArray} where N where T, Base.ReshapedArray{T,N,A,MI} where MI<:Tuple{Vararg{Base.MultiplicativeInverses.SignedMultiplicativeInverse{Int64},N} where N} where A<:Union{Base.ReinterpretArray{T,N,S,A} where S where A<:Union{SubArray{T,N,A,I,true} where I<:Union{Tuple{Vararg{Real,N} where N}, Tuple{AbstractUnitRange,Vararg{Any,N} where N}} where A<:DenseArray where N where T, DenseArray} where N where T, SubArray{T,N,A,I,true} where I<:Union{Tuple{Vararg{Real,N} where N}, Tuple{AbstractUnitRange,Vararg{Any,N} where N}} where A<:DenseArray where N where T, DenseArray} where N where T, DenseArray}} where N where #s617<:Union{Dates.CompoundPeriod, Dates.Period}, y::Dates.TimeType) in Dates at /Users/sabae/buildbot/worker/package_macos64/build/usr/share/julia/stdlib/v1.2/Dates/src/deprecated.jl:12\n",
       "[86] +(X::Union{DenseArray{#s617,N}, Base.ReinterpretArray{#s617,N,S,A} where S where A<:Union{SubArray{T,N,A,I,true} where I<:Union{Tuple{Vararg{Real,N} where N}, Tuple{AbstractUnitRange,Vararg{Any,N} where N}} where A<:DenseArray where N where T, DenseArray}, Base.ReshapedArray{#s617,N,A,MI} where MI<:Tuple{Vararg{Base.MultiplicativeInverses.SignedMultiplicativeInverse{Int64},N} where N} where A<:Union{Base.ReinterpretArray{T,N,S,A} where S where A<:Union{SubArray{T,N,A,I,true} where I<:Union{Tuple{Vararg{Real,N} where N}, Tuple{AbstractUnitRange,Vararg{Any,N} where N}} where A<:DenseArray where N where T, DenseArray} where N where T, SubArray{T,N,A,I,true} where I<:Union{Tuple{Vararg{Real,N} where N}, Tuple{AbstractUnitRange,Vararg{Any,N} where N}} where A<:DenseArray where N where T, DenseArray}, SubArray{#s617,N,A,I,L} where L where I<:Tuple{Vararg{Union{Int64, AbstractRange{Int64}, Base.AbstractCartesianIndex},N} where N} where A<:Union{Base.ReinterpretArray{T,N,S,A} where S where A<:Union{SubArray{T,N,A,I,true} where I<:Union{Tuple{Vararg{Real,N} where N}, Tuple{AbstractUnitRange,Vararg{Any,N} where N}} where A<:DenseArray where N where T, DenseArray} where N where T, Base.ReshapedArray{T,N,A,MI} where MI<:Tuple{Vararg{Base.MultiplicativeInverses.SignedMultiplicativeInverse{Int64},N} where N} where A<:Union{Base.ReinterpretArray{T,N,S,A} where S where A<:Union{SubArray{T,N,A,I,true} where I<:Union{Tuple{Vararg{Real,N} where N}, Tuple{AbstractUnitRange,Vararg{Any,N} where N}} where A<:DenseArray where N where T, DenseArray} where N where T, SubArray{T,N,A,I,true} where I<:Union{Tuple{Vararg{Real,N} where N}, Tuple{AbstractUnitRange,Vararg{Any,N} where N}} where A<:DenseArray where N where T, DenseArray} where N where T, DenseArray}} where N where #s617<:Union{Dates.CompoundPeriod, Dates.Period}, Y::Union{DenseArray{#s616,N}, Base.ReinterpretArray{#s616,N,S,A} where S where A<:Union{SubArray{T,N,A,I,true} where I<:Union{Tuple{Vararg{Real,N} where N}, Tuple{AbstractUnitRange,Vararg{Any,N} where N}} where A<:DenseArray where N where T, DenseArray}, Base.ReshapedArray{#s616,N,A,MI} where MI<:Tuple{Vararg{Base.MultiplicativeInverses.SignedMultiplicativeInverse{Int64},N} where N} where A<:Union{Base.ReinterpretArray{T,N,S,A} where S where A<:Union{SubArray{T,N,A,I,true} where I<:Union{Tuple{Vararg{Real,N} where N}, Tuple{AbstractUnitRange,Vararg{Any,N} where N}} where A<:DenseArray where N where T, DenseArray} where N where T, SubArray{T,N,A,I,true} where I<:Union{Tuple{Vararg{Real,N} where N}, Tuple{AbstractUnitRange,Vararg{Any,N} where N}} where A<:DenseArray where N where T, DenseArray}, SubArray{#s616,N,A,I,L} where L where I<:Tuple{Vararg{Union{Int64, AbstractRange{Int64}, Base.AbstractCartesianIndex},N} where N} where A<:Union{Base.ReinterpretArray{T,N,S,A} where S where A<:Union{SubArray{T,N,A,I,true} where I<:Union{Tuple{Vararg{Real,N} where N}, Tuple{AbstractUnitRange,Vararg{Any,N} where N}} where A<:DenseArray where N where T, DenseArray} where N where T, Base.ReshapedArray{T,N,A,MI} where MI<:Tuple{Vararg{Base.MultiplicativeInverses.SignedMultiplicativeInverse{Int64},N} where N} where A<:Union{Base.ReinterpretArray{T,N,S,A} where S where A<:Union{SubArray{T,N,A,I,true} where I<:Union{Tuple{Vararg{Real,N} where N}, Tuple{AbstractUnitRange,Vararg{Any,N} where N}} where A<:DenseArray where N where T, DenseArray} where N where T, SubArray{T,N,A,I,true} where I<:Union{Tuple{Vararg{Real,N} where N}, Tuple{AbstractUnitRange,Vararg{Any,N} where N}} where A<:DenseArray where N where T, DenseArray} where N where T, DenseArray}} where N where #s616<:Union{Dates.CompoundPeriod, Dates.Period}) in Dates at /Users/sabae/buildbot/worker/package_macos64/build/usr/share/julia/stdlib/v1.2/Dates/src/deprecated.jl:64\n",
       "[87] +(A::SymTridiagonal, B::SymTridiagonal) in LinearAlgebra at /Users/sabae/buildbot/worker/package_macos64/build/usr/share/julia/stdlib/v1.2/LinearAlgebra/src/tridiag.jl:158\n",
       "[88] +(A::Tridiagonal, B::Tridiagonal) in LinearAlgebra at /Users/sabae/buildbot/worker/package_macos64/build/usr/share/julia/stdlib/v1.2/LinearAlgebra/src/tridiag.jl:617\n",
       "[89] +(A::UpperTriangular, B::UpperTriangular) in LinearAlgebra at /Users/sabae/buildbot/worker/package_macos64/build/usr/share/julia/stdlib/v1.2/LinearAlgebra/src/triangular.jl:533\n",
       "[90] +(A::LowerTriangular, B::LowerTriangular) in LinearAlgebra at /Users/sabae/buildbot/worker/package_macos64/build/usr/share/julia/stdlib/v1.2/LinearAlgebra/src/triangular.jl:534\n",
       "[91] +(A::UpperTriangular, B::UnitUpperTriangular) in LinearAlgebra at /Users/sabae/buildbot/worker/package_macos64/build/usr/share/julia/stdlib/v1.2/LinearAlgebra/src/triangular.jl:535\n",
       "[92] +(A::LowerTriangular, B::UnitLowerTriangular) in LinearAlgebra at /Users/sabae/buildbot/worker/package_macos64/build/usr/share/julia/stdlib/v1.2/LinearAlgebra/src/triangular.jl:536\n",
       "[93] +(A::UnitUpperTriangular, B::UpperTriangular) in LinearAlgebra at /Users/sabae/buildbot/worker/package_macos64/build/usr/share/julia/stdlib/v1.2/LinearAlgebra/src/triangular.jl:537\n",
       "[94] +(A::UnitLowerTriangular, B::LowerTriangular) in LinearAlgebra at /Users/sabae/buildbot/worker/package_macos64/build/usr/share/julia/stdlib/v1.2/LinearAlgebra/src/triangular.jl:538\n",
       "[95] +(A::UnitUpperTriangular, B::UnitUpperTriangular) in LinearAlgebra at /Users/sabae/buildbot/worker/package_macos64/build/usr/share/julia/stdlib/v1.2/LinearAlgebra/src/triangular.jl:539\n",
       "[96] +(A::UnitLowerTriangular, B::UnitLowerTriangular) in LinearAlgebra at /Users/sabae/buildbot/worker/package_macos64/build/usr/share/julia/stdlib/v1.2/LinearAlgebra/src/triangular.jl:540\n",
       "[97] +(A::LinearAlgebra.AbstractTriangular, B::LinearAlgebra.AbstractTriangular) in LinearAlgebra at /Users/sabae/buildbot/worker/package_macos64/build/usr/share/julia/stdlib/v1.2/LinearAlgebra/src/triangular.jl:541\n",
       "[98] +(A::Symmetric, B::Symmetric) in LinearAlgebra at /Users/sabae/buildbot/worker/package_macos64/build/usr/share/julia/stdlib/v1.2/LinearAlgebra/src/symmetric.jl:422\n",
       "[99] +(A::Hermitian, B::Hermitian) in LinearAlgebra at /Users/sabae/buildbot/worker/package_macos64/build/usr/share/julia/stdlib/v1.2/LinearAlgebra/src/symmetric.jl:423\n",
       "[100] +(A::Hermitian, B::Symmetric{#s617,S} where S<:(AbstractArray{#s6171,2} where #s6171<:#s617) where #s617<:Real) in LinearAlgebra at /Users/sabae/buildbot/worker/package_macos64/build/usr/share/julia/stdlib/v1.2/LinearAlgebra/src/symmetric.jl:424\n",
       "[101] +(A::Symmetric{#s617,S} where S<:(AbstractArray{#s6171,2} where #s6171<:#s617) where #s617<:Real, B::Hermitian) in LinearAlgebra at /Users/sabae/buildbot/worker/package_macos64/build/usr/share/julia/stdlib/v1.2/LinearAlgebra/src/symmetric.jl:425\n",
       "[102] +(Da::Diagonal, Db::Diagonal) in LinearAlgebra at /Users/sabae/buildbot/worker/package_macos64/build/usr/share/julia/stdlib/v1.2/LinearAlgebra/src/diagonal.jl:156\n",
       "[103] +(A::Bidiagonal, B::Bidiagonal) in LinearAlgebra at /Users/sabae/buildbot/worker/package_macos64/build/usr/share/julia/stdlib/v1.2/LinearAlgebra/src/bidiag.jl:307\n",
       "[104] +(UL::UnitUpperTriangular, J::UniformScaling) in LinearAlgebra at /Users/sabae/buildbot/worker/package_macos64/build/usr/share/julia/stdlib/v1.2/LinearAlgebra/src/uniformscaling.jl:131\n",
       "[105] +(UL::UnitLowerTriangular, J::UniformScaling) in LinearAlgebra at /Users/sabae/buildbot/worker/package_macos64/build/usr/share/julia/stdlib/v1.2/LinearAlgebra/src/uniformscaling.jl:131\n",
       "[106] +(A::Hermitian, J::UniformScaling{#s617} where #s617<:Complex) in LinearAlgebra at /Users/sabae/buildbot/worker/package_macos64/build/usr/share/julia/stdlib/v1.2/LinearAlgebra/src/uniformscaling.jl:145\n",
       "[107] +(A::Tridiagonal{#s617,V} where V<:AbstractArray{#s617,1} where #s617<:Number, B::UniformScaling) in LinearAlgebra at /Users/sabae/buildbot/worker/package_macos64/build/usr/share/julia/stdlib/v1.2/LinearAlgebra/src/special.jl:238\n",
       "[108] +(A::SymTridiagonal{#s617,V} where V<:AbstractArray{#s617,1} where #s617<:Number, B::UniformScaling) in LinearAlgebra at /Users/sabae/buildbot/worker/package_macos64/build/usr/share/julia/stdlib/v1.2/LinearAlgebra/src/special.jl:243\n",
       "[109] +(A::Bidiagonal{#s617,V} where V<:AbstractArray{#s617,1} where #s617<:Number, B::UniformScaling) in LinearAlgebra at /Users/sabae/buildbot/worker/package_macos64/build/usr/share/julia/stdlib/v1.2/LinearAlgebra/src/special.jl:248\n",
       "[110] +(A::Diagonal{#s617,V} where V<:AbstractArray{#s617,1} where #s617<:Number, B::UniformScaling) in LinearAlgebra at /Users/sabae/buildbot/worker/package_macos64/build/usr/share/julia/stdlib/v1.2/LinearAlgebra/src/special.jl:253\n",
       "[111] +(A::SparseArrays.SparseMatrixCSC, J::UniformScaling) in SparseArrays at /Users/sabae/buildbot/worker/package_macos64/build/usr/share/julia/stdlib/v1.2/SparseArrays/src/sparsematrix.jl:3451\n",
       "[112] +(a::StaticArrays.StaticArray{Tuple{N,M},T,2} where T where M where N, b::UniformScaling) in StaticArrays at /Users/hoseoklee/.julia/packages/StaticArrays/3KEjZ/src/linalg.jl:33\n",
       "[113] +(A::AbstractArray{T,2} where T, J::UniformScaling) in LinearAlgebra at /Users/sabae/buildbot/worker/package_macos64/build/usr/share/julia/stdlib/v1.2/LinearAlgebra/src/uniformscaling.jl:164\n",
       "[114] +(A::UpperTriangular, B::Bidiagonal) in LinearAlgebra at /Users/sabae/buildbot/worker/package_macos64/build/usr/share/julia/stdlib/v1.2/LinearAlgebra/src/special.jl:98\n",
       "[115] +(A::Bidiagonal, B::UpperTriangular) in LinearAlgebra at /Users/sabae/buildbot/worker/package_macos64/build/usr/share/julia/stdlib/v1.2/LinearAlgebra/src/special.jl:106\n",
       "[116] +(A::UnitUpperTriangular, B::Bidiagonal) in LinearAlgebra at /Users/sabae/buildbot/worker/package_macos64/build/usr/share/julia/stdlib/v1.2/LinearAlgebra/src/special.jl:98\n",
       "[117] +(A::Bidiagonal, B::UnitUpperTriangular) in LinearAlgebra at /Users/sabae/buildbot/worker/package_macos64/build/usr/share/julia/stdlib/v1.2/LinearAlgebra/src/special.jl:106\n",
       "[118] +(A::LowerTriangular, B::Bidiagonal) in LinearAlgebra at /Users/sabae/buildbot/worker/package_macos64/build/usr/share/julia/stdlib/v1.2/LinearAlgebra/src/special.jl:98\n",
       "[119] +(A::Bidiagonal, B::LowerTriangular) in LinearAlgebra at /Users/sabae/buildbot/worker/package_macos64/build/usr/share/julia/stdlib/v1.2/LinearAlgebra/src/special.jl:106\n",
       "[120] +(A::UnitLowerTriangular, B::Bidiagonal) in LinearAlgebra at /Users/sabae/buildbot/worker/package_macos64/build/usr/share/julia/stdlib/v1.2/LinearAlgebra/src/special.jl:98\n",
       "[121] +(A::Bidiagonal, B::UnitLowerTriangular) in LinearAlgebra at /Users/sabae/buildbot/worker/package_macos64/build/usr/share/julia/stdlib/v1.2/LinearAlgebra/src/special.jl:106\n",
       "[122] +(A::Bidiagonal, B::Diagonal) in LinearAlgebra at /Users/sabae/buildbot/worker/package_macos64/build/usr/share/julia/stdlib/v1.2/LinearAlgebra/src/special.jl:127\n",
       "[123] +(A::Diagonal, B::Bidiagonal) in LinearAlgebra at /Users/sabae/buildbot/worker/package_macos64/build/usr/share/julia/stdlib/v1.2/LinearAlgebra/src/special.jl:137\n",
       "[124] +(A::Diagonal, B::SymTridiagonal) in LinearAlgebra at /Users/sabae/buildbot/worker/package_macos64/build/usr/share/julia/stdlib/v1.2/LinearAlgebra/src/special.jl:147\n",
       "[125] +(A::SymTridiagonal, B::Diagonal) in LinearAlgebra at /Users/sabae/buildbot/worker/package_macos64/build/usr/share/julia/stdlib/v1.2/LinearAlgebra/src/special.jl:157\n",
       "[126] +(A::Tridiagonal, B::SymTridiagonal) in LinearAlgebra at /Users/sabae/buildbot/worker/package_macos64/build/usr/share/julia/stdlib/v1.2/LinearAlgebra/src/special.jl:168\n",
       "[127] +(A::SymTridiagonal, B::Tridiagonal) in LinearAlgebra at /Users/sabae/buildbot/worker/package_macos64/build/usr/share/julia/stdlib/v1.2/LinearAlgebra/src/special.jl:170\n",
       "[128] +(A::Diagonal, B::Tridiagonal) in LinearAlgebra at /Users/sabae/buildbot/worker/package_macos64/build/usr/share/julia/stdlib/v1.2/LinearAlgebra/src/special.jl:175\n",
       "[129] +(A::Tridiagonal, B::Diagonal) in LinearAlgebra at /Users/sabae/buildbot/worker/package_macos64/build/usr/share/julia/stdlib/v1.2/LinearAlgebra/src/special.jl:185\n",
       "[130] +(A::Bidiagonal, B::Tridiagonal) in LinearAlgebra at /Users/sabae/buildbot/worker/package_macos64/build/usr/share/julia/stdlib/v1.2/LinearAlgebra/src/special.jl:195\n",
       "[131] +(A::Tridiagonal, B::Bidiagonal) in LinearAlgebra at /Users/sabae/buildbot/worker/package_macos64/build/usr/share/julia/stdlib/v1.2/LinearAlgebra/src/special.jl:205\n",
       "[132] +(A::Bidiagonal, B::SymTridiagonal) in LinearAlgebra at /Users/sabae/buildbot/worker/package_macos64/build/usr/share/julia/stdlib/v1.2/LinearAlgebra/src/special.jl:215\n",
       "[133] +(A::SymTridiagonal, B::Bidiagonal) in LinearAlgebra at /Users/sabae/buildbot/worker/package_macos64/build/usr/share/julia/stdlib/v1.2/LinearAlgebra/src/special.jl:225\n",
       "[134] +(A::SparseArrays.SparseMatrixCSC, B::SparseArrays.SparseMatrixCSC) in SparseArrays at /Users/sabae/buildbot/worker/package_macos64/build/usr/share/julia/stdlib/v1.2/SparseArrays/src/sparsematrix.jl:1515\n",
       "[135] +(A::SparseArrays.SparseMatrixCSC, B::Array) in SparseArrays at /Users/sabae/buildbot/worker/package_macos64/build/usr/share/julia/stdlib/v1.2/SparseArrays/src/sparsematrix.jl:1518\n",
       "[136] +(x::SparseArrays.AbstractSparseArray{Tv,Ti,1} where Ti where Tv, y::SparseArrays.AbstractSparseArray{Tv,Ti,1} where Ti where Tv) in SparseArrays at /Users/sabae/buildbot/worker/package_macos64/build/usr/share/julia/stdlib/v1.2/SparseArrays/src/sparsevector.jl:1304\n",
       "[137] +(a::StaticArrays.SHermitianCompact, b::Number) in StaticArrays at /Users/hoseoklee/.julia/packages/StaticArrays/3KEjZ/src/SHermitianCompact.jl:155\n",
       "[138] +(a::StaticArrays.StaticArray, b::StaticArrays.StaticArray) in StaticArrays at /Users/hoseoklee/.julia/packages/StaticArrays/3KEjZ/src/linalg.jl:10\n",
       "[139] +(a::StaticArrays.StaticArray, b::AbstractArray) in StaticArrays at /Users/hoseoklee/.julia/packages/StaticArrays/3KEjZ/src/linalg.jl:12\n",
       "[140] +(a::StaticArrays.StaticArray, b::Number) in StaticArrays at /Users/hoseoklee/.julia/packages/StaticArrays/3KEjZ/src/linalg.jl:20\n",
       "[141] +(x::AbstractArray{#s75,N} where N where #s75<:Number) in Base at abstractarraymath.jl:97\n",
       "[142] +(a::AbstractArray, b::StaticArrays.StaticArray) in StaticArrays at /Users/hoseoklee/.julia/packages/StaticArrays/3KEjZ/src/linalg.jl:11\n",
       "[143] +(A::AbstractArray, B::AbstractArray) in Base at arraymath.jl:38\n",
       "[144] +(x::T, y::Integer) where T<:AbstractChar in Base at char.jl:223\n",
       "[145] +(index1::CartesianIndex{N}, index2::CartesianIndex{N}) where N in Base.IteratorsMD at multidimensional.jl:110\n",
       "[146] +(::Number, ::Missing) in Base at missing.jl:95\n",
       "[147] +(x::P, y::P) where P<:Dates.Period in Dates at /Users/sabae/buildbot/worker/package_macos64/build/usr/share/julia/stdlib/v1.2/Dates/src/periods.jl:75\n",
       "[148] +(x::Dates.Period, y::Dates.Period) in Dates at /Users/sabae/buildbot/worker/package_macos64/build/usr/share/julia/stdlib/v1.2/Dates/src/periods.jl:340\n",
       "[149] +(y::Dates.Period, x::Dates.CompoundPeriod) in Dates at /Users/sabae/buildbot/worker/package_macos64/build/usr/share/julia/stdlib/v1.2/Dates/src/periods.jl:342\n",
       "[150] +(x::Union{Dates.CompoundPeriod, Dates.Period}) in Dates at /Users/sabae/buildbot/worker/package_macos64/build/usr/share/julia/stdlib/v1.2/Dates/src/periods.jl:351\n",
       "[151] +(x::Dates.TimeType) in Dates at /Users/sabae/buildbot/worker/package_macos64/build/usr/share/julia/stdlib/v1.2/Dates/src/arithmetic.jl:8\n",
       "[152] +(a::Dates.TimeType, b::Dates.Period, c::Dates.Period) in Dates at /Users/sabae/buildbot/worker/package_macos64/build/usr/share/julia/stdlib/v1.2/Dates/src/periods.jl:362\n",
       "[153] +(a::Dates.TimeType, b::Dates.Period, c::Dates.Period, d::Dates.Period...) in Dates at /Users/sabae/buildbot/worker/package_macos64/build/usr/share/julia/stdlib/v1.2/Dates/src/periods.jl:363\n",
       "[154] +(x::Dates.TimeType, y::Dates.CompoundPeriod) in Dates at /Users/sabae/buildbot/worker/package_macos64/build/usr/share/julia/stdlib/v1.2/Dates/src/periods.jl:366\n",
       "[155] +(x::Dates.Instant) in Dates at /Users/sabae/buildbot/worker/package_macos64/build/usr/share/julia/stdlib/v1.2/Dates/src/arithmetic.jl:4\n",
       "[156] +(y::Dates.Period, x::Dates.TimeType) in Dates at /Users/sabae/buildbot/worker/package_macos64/build/usr/share/julia/stdlib/v1.2/Dates/src/arithmetic.jl:80\n",
       "[157] +(x::Dates.Period, r::AbstractRange{#s617} where #s617<:Dates.TimeType) in Dates at /Users/sabae/buildbot/worker/package_macos64/build/usr/share/julia/stdlib/v1.2/Dates/src/ranges.jl:58\n",
       "[158] +(x::AbstractArray{#s617,N} where N where #s617<:Dates.TimeType, y::Union{Dates.CompoundPeriod, Dates.Period}) in Dates at /Users/sabae/buildbot/worker/package_macos64/build/usr/share/julia/stdlib/v1.2/Dates/src/deprecated.jl:8\n",
       "[159] +(y::Union{Dates.CompoundPeriod, Dates.Period}, x::AbstractArray{#s617,N} where N where #s617<:Dates.TimeType) in Dates at /Users/sabae/buildbot/worker/package_macos64/build/usr/share/julia/stdlib/v1.2/Dates/src/deprecated.jl:16\n",
       "[160] +(y::Dates.TimeType, x::Union{DenseArray{#s617,N}, Base.ReinterpretArray{#s617,N,S,A} where S where A<:Union{SubArray{T,N,A,I,true} where I<:Union{Tuple{Vararg{Real,N} where N}, Tuple{AbstractUnitRange,Vararg{Any,N} where N}} where A<:DenseArray where N where T, DenseArray}, Base.ReshapedArray{#s617,N,A,MI} where MI<:Tuple{Vararg{Base.MultiplicativeInverses.SignedMultiplicativeInverse{Int64},N} where N} where A<:Union{Base.ReinterpretArray{T,N,S,A} where S where A<:Union{SubArray{T,N,A,I,true} where I<:Union{Tuple{Vararg{Real,N} where N}, Tuple{AbstractUnitRange,Vararg{Any,N} where N}} where A<:DenseArray where N where T, DenseArray} where N where T, SubArray{T,N,A,I,true} where I<:Union{Tuple{Vararg{Real,N} where N}, Tuple{AbstractUnitRange,Vararg{Any,N} where N}} where A<:DenseArray where N where T, DenseArray}, SubArray{#s617,N,A,I,L} where L where I<:Tuple{Vararg{Union{Int64, AbstractRange{Int64}, Base.AbstractCartesianIndex},N} where N} where A<:Union{Base.ReinterpretArray{T,N,S,A} where S where A<:Union{SubArray{T,N,A,I,true} where I<:Union{Tuple{Vararg{Real,N} where N}, Tuple{AbstractUnitRange,Vararg{Any,N} where N}} where A<:DenseArray where N where T, DenseArray} where N where T, Base.ReshapedArray{T,N,A,MI} where MI<:Tuple{Vararg{Base.MultiplicativeInverses.SignedMultiplicativeInverse{Int64},N} where N} where A<:Union{Base.ReinterpretArray{T,N,S,A} where S where A<:Union{SubArray{T,N,A,I,true} where I<:Union{Tuple{Vararg{Real,N} where N}, Tuple{AbstractUnitRange,Vararg{Any,N} where N}} where A<:DenseArray where N where T, DenseArray} where N where T, SubArray{T,N,A,I,true} where I<:Union{Tuple{Vararg{Real,N} where N}, Tuple{AbstractUnitRange,Vararg{Any,N} where N}} where A<:DenseArray where N where T, DenseArray} where N where T, DenseArray}} where N where #s617<:Union{Dates.CompoundPeriod, Dates.Period}) in Dates at /Users/sabae/buildbot/worker/package_macos64/build/usr/share/julia/stdlib/v1.2/Dates/src/deprecated.jl:20\n",
       "[161] +(J::UniformScaling, x::Number) in LinearAlgebra at /Users/sabae/buildbot/worker/package_macos64/build/usr/share/julia/stdlib/v1.2/LinearAlgebra/src/uniformscaling.jl:109\n",
       "[162] +(x::Number, J::UniformScaling) in LinearAlgebra at /Users/sabae/buildbot/worker/package_macos64/build/usr/share/julia/stdlib/v1.2/LinearAlgebra/src/uniformscaling.jl:110\n",
       "[163] +(J1::UniformScaling, J2::UniformScaling) in LinearAlgebra at /Users/sabae/buildbot/worker/package_macos64/build/usr/share/julia/stdlib/v1.2/LinearAlgebra/src/uniformscaling.jl:114\n",
       "[164] +(J::UniformScaling, B::BitArray{2}) in LinearAlgebra at /Users/sabae/buildbot/worker/package_macos64/build/usr/share/julia/stdlib/v1.2/LinearAlgebra/src/uniformscaling.jl:116\n",
       "[165] +(A::UniformScaling, B::Tridiagonal{#s617,V} where V<:AbstractArray{#s617,1} where #s617<:Number) in LinearAlgebra at /Users/sabae/buildbot/worker/package_macos64/build/usr/share/julia/stdlib/v1.2/LinearAlgebra/src/special.jl:257\n",
       "[166] +(A::UniformScaling, B::SymTridiagonal{#s617,V} where V<:AbstractArray{#s617,1} where #s617<:Number) in LinearAlgebra at /Users/sabae/buildbot/worker/package_macos64/build/usr/share/julia/stdlib/v1.2/LinearAlgebra/src/special.jl:262\n",
       "[167] +(A::UniformScaling, B::Bidiagonal{#s617,V} where V<:AbstractArray{#s617,1} where #s617<:Number) in LinearAlgebra at /Users/sabae/buildbot/worker/package_macos64/build/usr/share/julia/stdlib/v1.2/LinearAlgebra/src/special.jl:267\n",
       "[168] +(A::UniformScaling, B::Diagonal{#s617,V} where V<:AbstractArray{#s617,1} where #s617<:Number) in LinearAlgebra at /Users/sabae/buildbot/worker/package_macos64/build/usr/share/julia/stdlib/v1.2/LinearAlgebra/src/special.jl:272\n",
       "[169] +(a::UniformScaling, b::StaticArrays.StaticArray{Tuple{N,M},T,2} where T where M where N) in StaticArrays at /Users/hoseoklee/.julia/packages/StaticArrays/3KEjZ/src/linalg.jl:34\n",
       "[170] +(J::UniformScaling, A::AbstractArray{T,2} where T) in LinearAlgebra at /Users/sabae/buildbot/worker/package_macos64/build/usr/share/julia/stdlib/v1.2/LinearAlgebra/src/uniformscaling.jl:117\n",
       "[171] +(a::Measures.Length{U,T} where T, b::Measures.Length{U,T} where T) where U in Measures at /Users/hoseoklee/.julia/packages/Measures/eNttC/src/length.jl:28\n",
       "[172] +(a::Measures.Measure, b::Measures.Measure) in Measures at /Users/hoseoklee/.julia/packages/Measures/eNttC/src/operations.jl:41\n",
       "[173] +(a::Tuple{Vararg{Measures.Measure,N}}, b::Tuple{Vararg{Measures.Measure,N}}) where N in Measures at /Users/hoseoklee/.julia/packages/Measures/eNttC/src/point.jl:22\n",
       "[174] +(a::Tuple{Vararg{Measures.Measure,N}} where N, b::Tuple{Vararg{Measures.Measure,N}} where N) in Measures at /Users/hoseoklee/.julia/packages/Measures/eNttC/src/point.jl:15\n",
       "[175] +(a::C, b::C) where C<:Union{LMS, XYZ} in Colors at /Users/hoseoklee/.julia/packages/Colors/r1p4Q/src/algorithms.jl:4\n",
       "[176] +(a::Number, b::StaticArrays.SHermitianCompact) in StaticArrays at /Users/hoseoklee/.julia/packages/StaticArrays/3KEjZ/src/SHermitianCompact.jl:154\n",
       "[177] +(a::Number, b::StaticArrays.StaticArray) in StaticArrays at /Users/hoseoklee/.julia/packages/StaticArrays/3KEjZ/src/linalg.jl:19\n",
       "[178] +(h::GeometryTypes.HyperRectangle{N,T}, move::GeometryTypes.Vec{N,T} where T) where {N, T} in GeometryTypes at /Users/hoseoklee/.julia/packages/GeometryTypes/SnZ4l/src/hyperrectangles.jl:107\n",
       "[179] +(h::GeometryTypes.SimpleRectangle{T}, move::GeometryTypes.Vec{2,T} where T) where T in GeometryTypes at /Users/hoseoklee/.julia/packages/GeometryTypes/SnZ4l/src/hyperrectangles.jl:114\n",
       "[180] +(bb1::Measures.BoundingBox, bb2::Measures.BoundingBox) in Plots at /Users/hoseoklee/.julia/packages/Plots/Iuc9S/src/layouts.jl:49\n",
       "[181] +(a, b, c, xs...) in Base at operators.jl:529"
      ]
     },
     "execution_count": 222,
     "metadata": {},
     "output_type": "execute_result"
    }
   ],
   "source": [
    "methods(+)"
   ]
  },
  {
   "cell_type": "markdown",
   "metadata": {},
   "source": [
    "Array comprehension:"
   ]
  },
  {
   "cell_type": "code",
   "execution_count": 223,
   "metadata": {},
   "outputs": [
    {
     "data": {
      "text/plain": [
       "3×3 Array{Int64,2}:\n",
       " 2  3  4\n",
       " 3  4  5\n",
       " 4  5  6"
      ]
     },
     "execution_count": 223,
     "metadata": {},
     "output_type": "execute_result"
    }
   ],
   "source": [
    "A = [i + j for i in 1:3, j in 1:3]"
   ]
  },
  {
   "cell_type": "markdown",
   "metadata": {},
   "source": [
    "Counting the number of positive elements in a vector:"
   ]
  },
  {
   "cell_type": "code",
   "execution_count": 224,
   "metadata": {},
   "outputs": [
    {
     "data": {
      "text/plain": [
       "10×1 Array{Float64,2}:\n",
       " -0.10805685625379868\n",
       " -0.30206241138921697\n",
       "  0.472833732141108  \n",
       "  0.43000359679753997\n",
       "  0.2611791292961405 \n",
       " -0.24103758231989092\n",
       " -0.4197881602792193 \n",
       " -0.07837185060717777\n",
       " -0.14348633709970082\n",
       "  0.36432144343572226"
      ]
     },
     "execution_count": 224,
     "metadata": {},
     "output_type": "execute_result"
    }
   ],
   "source": [
    "u = rand(10,1) .- 0.5 # Vector of 10 random numbers between -0.5 and 0.5"
   ]
  },
  {
   "cell_type": "code",
   "execution_count": 225,
   "metadata": {},
   "outputs": [
    {
     "data": {
      "text/plain": [
       "10×1 BitArray{2}:\n",
       " 0\n",
       " 0\n",
       " 1\n",
       " 1\n",
       " 1\n",
       " 0\n",
       " 0\n",
       " 0\n",
       " 0\n",
       " 1"
      ]
     },
     "execution_count": 225,
     "metadata": {},
     "output_type": "execute_result"
    }
   ],
   "source": [
    "u .> 0 # Elementwise logical "
   ]
  },
  {
   "cell_type": "code",
   "execution_count": 226,
   "metadata": {},
   "outputs": [
    {
     "data": {
      "text/plain": [
       "4"
      ]
     },
     "execution_count": 226,
     "metadata": {},
     "output_type": "execute_result"
    }
   ],
   "source": [
    "sum(u .> 0) # Number of positive elements"
   ]
  },
  {
   "cell_type": "code",
   "execution_count": 227,
   "metadata": {},
   "outputs": [
    {
     "data": {
      "text/plain": [
       "5-element Array{Int64,1}:\n",
       " 1\n",
       " 2\n",
       " 3\n",
       " 4\n",
       " 5"
      ]
     },
     "execution_count": 227,
     "metadata": {},
     "output_type": "execute_result"
    }
   ],
   "source": [
    "v = [i for i in 1:5]"
   ]
  },
  {
   "cell_type": "markdown",
   "metadata": {},
   "source": [
    "Functions are applied elementwise with a dot as well:"
   ]
  },
  {
   "cell_type": "code",
   "execution_count": 228,
   "metadata": {},
   "outputs": [
    {
     "data": {
      "text/plain": [
       "5-element Array{Int64,1}:\n",
       "  1\n",
       "  4\n",
       "  9\n",
       " 16\n",
       " 25"
      ]
     },
     "execution_count": 228,
     "metadata": {},
     "output_type": "execute_result"
    }
   ],
   "source": [
    "f.(v)"
   ]
  },
  {
   "cell_type": "markdown",
   "metadata": {},
   "source": [
    "Conditionals:"
   ]
  },
  {
   "cell_type": "code",
   "execution_count": 229,
   "metadata": {},
   "outputs": [
    {
     "data": {
      "text/plain": [
       "lousyMax (generic function with 1 method)"
      ]
     },
     "execution_count": 229,
     "metadata": {},
     "output_type": "execute_result"
    }
   ],
   "source": [
    "function lousyMax(a, b, c)\n",
    "    if a >= b\n",
    "        if a >= c\n",
    "            return a\n",
    "        else\n",
    "            return c\n",
    "        end\n",
    "    elseif b >= c\n",
    "        return b\n",
    "    else\n",
    "        return c\n",
    "    end\n",
    "end"
   ]
  },
  {
   "cell_type": "code",
   "execution_count": 230,
   "metadata": {},
   "outputs": [
    {
     "name": "stdout",
     "output_type": "stream",
     "text": [
      "7\n",
      "9\n"
     ]
    }
   ],
   "source": [
    "println(lousyMax(3,7,2))\n",
    "println(lousyMax(1,6,9))"
   ]
  },
  {
   "cell_type": "markdown",
   "metadata": {},
   "source": [
    "Using ```$``` in a string evaluates the expression that follows and converts it into a string "
   ]
  },
  {
   "cell_type": "code",
   "execution_count": 231,
   "metadata": {},
   "outputs": [
    {
     "name": "stdout",
     "output_type": "stream",
     "text": [
      "1 squared is 1\n",
      "2 squared is 4\n",
      "3 squared is 9\n",
      "4 squared is 16\n",
      "5 squared is 25\n"
     ]
    }
   ],
   "source": [
    "N = 1\n",
    "while N <= 5\n",
    "    println(\"$N squared is $(f(N))\")\n",
    "    N = N + 1\n",
    "end"
   ]
  },
  {
   "cell_type": "markdown",
   "metadata": {},
   "source": [
    "Exercise (Project Euler Problem 2): consider the Fibonacci numbers $F(n)$ which are $1,2,3,5,8,13,21,\\dots$, specifically, $$F(1) = 1,\\,F(2) = 2,\\, F(n) = F(n-1) + F(n-2)\\quad \\forall n \\geq 2$$\n",
    "Compute the sum of the even Fibonacci numbers strictly smaller than four million and store the result in a variable named ```fibsum```. Write the code in between this cell and the cell with the ```@assert``` which verfies your result. Recall that you can use `x`, `a`, and `b` to create and delete cells (after pressing `Escape` to exit edit mode)."
   ]
  },
  {
   "cell_type": "code",
   "execution_count": 232,
   "metadata": {},
   "outputs": [
    {
     "data": {
      "text/plain": [
       "fib (generic function with 1 method)"
      ]
     },
     "execution_count": 232,
     "metadata": {},
     "output_type": "execute_result"
    }
   ],
   "source": [
    "function fib(n)\n",
    "    if n == 0\n",
    "        return 0\n",
    "    elseif n == 1\n",
    "        return 1\n",
    "    end\n",
    "        \n",
    "    return fib(n - 1) + fib(n - 2)\n",
    "end"
   ]
  },
  {
   "cell_type": "code",
   "execution_count": 233,
   "metadata": {},
   "outputs": [
    {
     "data": {
      "text/plain": [
       "144"
      ]
     },
     "execution_count": 233,
     "metadata": {},
     "output_type": "execute_result"
    }
   ],
   "source": [
    "fib(12)"
   ]
  },
  {
   "cell_type": "code",
   "execution_count": 234,
   "metadata": {},
   "outputs": [],
   "source": [
    "fibsum = 0;\n",
    "i = 0;\n",
    "while (current_f = fib(i)) < 4000000\n",
    "    if current_f%2 == 0\n",
    "        fibsum += current_f;\n",
    "    end\n",
    "    i += 1\n",
    "end"
   ]
  },
  {
   "cell_type": "code",
   "execution_count": 235,
   "metadata": {},
   "outputs": [],
   "source": [
    "@assert fibsum == 4613732 # Throws an error if your answer is wrong"
   ]
  },
  {
   "cell_type": "markdown",
   "metadata": {},
   "source": [
    "Matrices (2-dimensional arrays):"
   ]
  },
  {
   "cell_type": "code",
   "execution_count": 236,
   "metadata": {},
   "outputs": [
    {
     "data": {
      "text/plain": [
       "3×3 Array{Int64,2}:\n",
       " 1  2  3\n",
       " 4  5  6\n",
       " 7  8  9"
      ]
     },
     "execution_count": 236,
     "metadata": {},
     "output_type": "execute_result"
    }
   ],
   "source": [
    "A = [1 2 3; 4 5 6; 7 8 9]"
   ]
  },
  {
   "cell_type": "code",
   "execution_count": 237,
   "metadata": {},
   "outputs": [
    {
     "data": {
      "text/plain": [
       "(3, 3)"
      ]
     },
     "execution_count": 237,
     "metadata": {},
     "output_type": "execute_result"
    }
   ],
   "source": [
    "size(A)"
   ]
  },
  {
   "cell_type": "markdown",
   "metadata": {},
   "source": [
    "Every one-dimensional array will by default be a \"column\" vector"
   ]
  },
  {
   "cell_type": "code",
   "execution_count": 238,
   "metadata": {},
   "outputs": [
    {
     "data": {
      "text/plain": [
       "3-element Array{Int64,1}:\n",
       " 4\n",
       " 5\n",
       " 6"
      ]
     },
     "execution_count": 238,
     "metadata": {},
     "output_type": "execute_result"
    }
   ],
   "source": [
    "A[2,:] # Second ROW of A"
   ]
  },
  {
   "cell_type": "code",
   "execution_count": 239,
   "metadata": {},
   "outputs": [
    {
     "data": {
      "text/plain": [
       "3-element Array{Int64,1}:\n",
       " 3\n",
       " 6\n",
       " 9"
      ]
     },
     "execution_count": 239,
     "metadata": {},
     "output_type": "execute_result"
    }
   ],
   "source": [
    "A[:,3] # Third COLUMN of A"
   ]
  },
  {
   "cell_type": "code",
   "execution_count": 240,
   "metadata": {},
   "outputs": [
    {
     "data": {
      "text/plain": [
       "2×2 Array{Int64,2}:\n",
       " 5  6\n",
       " 8  9"
      ]
     },
     "execution_count": 240,
     "metadata": {},
     "output_type": "execute_result"
    }
   ],
   "source": [
    "A[2:3,2:3]"
   ]
  },
  {
   "cell_type": "code",
   "execution_count": 241,
   "metadata": {},
   "outputs": [
    {
     "data": {
      "text/plain": [
       "6×6 Array{Int64,2}:\n",
       "  1   2   3   2   4   6\n",
       "  4   5   6   8  10  12\n",
       "  7   8   9  14  16  18\n",
       "  3   6   9   4   8  12\n",
       " 12  15  18  16  20  24\n",
       " 21  24  27  28  32  36"
      ]
     },
     "execution_count": 241,
     "metadata": {},
     "output_type": "execute_result"
    }
   ],
   "source": [
    "B = [A 2A; 3A 4A] # You can construct matrices from other matrices"
   ]
  },
  {
   "cell_type": "code",
   "execution_count": 242,
   "metadata": {},
   "outputs": [
    {
     "data": {
      "text/plain": [
       "0-element Array{Float64,1}"
      ]
     },
     "execution_count": 242,
     "metadata": {},
     "output_type": "execute_result"
    }
   ],
   "source": [
    "a = Float64[] # Create empty array of floats"
   ]
  },
  {
   "cell_type": "code",
   "execution_count": 243,
   "metadata": {},
   "outputs": [
    {
     "data": {
      "text/plain": [
       "3-element Array{Float64,1}:\n",
       " 21.0\n",
       " 23.0\n",
       " 29.0"
      ]
     },
     "execution_count": 243,
     "metadata": {},
     "output_type": "execute_result"
    }
   ],
   "source": [
    "push!(a, 21)\n",
    "push!(a, 23)\n",
    "push!(a, 29)"
   ]
  },
  {
   "cell_type": "code",
   "execution_count": 244,
   "metadata": {},
   "outputs": [
    {
     "data": {
      "text/plain": [
       "3-element Array{Float64,1}:\n",
       " 21.0\n",
       " 23.0\n",
       " 29.0"
      ]
     },
     "execution_count": 244,
     "metadata": {},
     "output_type": "execute_result"
    }
   ],
   "source": [
    "a"
   ]
  },
  {
   "cell_type": "code",
   "execution_count": 245,
   "metadata": {},
   "outputs": [
    {
     "data": {
      "text/plain": [
       "29.0"
      ]
     },
     "execution_count": 245,
     "metadata": {},
     "output_type": "execute_result"
    }
   ],
   "source": [
    "pop!(a)"
   ]
  },
  {
   "cell_type": "code",
   "execution_count": 246,
   "metadata": {},
   "outputs": [
    {
     "data": {
      "text/plain": [
       "2-element Array{Float64,1}:\n",
       " 21.0\n",
       " 23.0"
      ]
     },
     "execution_count": 246,
     "metadata": {},
     "output_type": "execute_result"
    }
   ],
   "source": [
    "a"
   ]
  },
  {
   "cell_type": "code",
   "execution_count": 247,
   "metadata": {},
   "outputs": [
    {
     "data": {
      "text/plain": [
       "21.0"
      ]
     },
     "execution_count": 247,
     "metadata": {},
     "output_type": "execute_result"
    }
   ],
   "source": [
    "popfirst!(a)"
   ]
  },
  {
   "cell_type": "code",
   "execution_count": 248,
   "metadata": {},
   "outputs": [
    {
     "data": {
      "text/plain": [
       "1-element Array{Float64,1}:\n",
       " 23.0"
      ]
     },
     "execution_count": 248,
     "metadata": {},
     "output_type": "execute_result"
    }
   ],
   "source": [
    "a"
   ]
  },
  {
   "cell_type": "markdown",
   "metadata": {},
   "source": [
    "Some useful functions:"
   ]
  },
  {
   "cell_type": "code",
   "execution_count": 249,
   "metadata": {},
   "outputs": [],
   "source": [
    "using LinearAlgebra"
   ]
  },
  {
   "cell_type": "code",
   "execution_count": 250,
   "metadata": {},
   "outputs": [
    {
     "data": {
      "text/plain": [
       "3×3 Diagonal{Bool,Array{Bool,1}}:\n",
       " 1  ⋅  ⋅\n",
       " ⋅  1  ⋅\n",
       " ⋅  ⋅  1"
      ]
     },
     "execution_count": 250,
     "metadata": {},
     "output_type": "execute_result"
    }
   ],
   "source": [
    "I(3) # Identity matrix"
   ]
  },
  {
   "cell_type": "code",
   "execution_count": 251,
   "metadata": {},
   "outputs": [
    {
     "data": {
      "text/plain": [
       "3×3 Array{Int64,2}:\n",
       " 2  2   3\n",
       " 4  6   6\n",
       " 7  8  10"
      ]
     },
     "execution_count": 251,
     "metadata": {},
     "output_type": "execute_result"
    }
   ],
   "source": [
    "A + I(3)"
   ]
  },
  {
   "cell_type": "code",
   "execution_count": 252,
   "metadata": {},
   "outputs": [
    {
     "data": {
      "text/plain": [
       "3×3 Array{Float64,2}:\n",
       " 1.0  1.0  1.0\n",
       " 1.0  1.0  1.0\n",
       " 1.0  1.0  1.0"
      ]
     },
     "execution_count": 252,
     "metadata": {},
     "output_type": "execute_result"
    }
   ],
   "source": [
    "ones(3,3)"
   ]
  },
  {
   "cell_type": "code",
   "execution_count": 253,
   "metadata": {},
   "outputs": [
    {
     "data": {
      "text/plain": [
       "3×3 Array{Int64,2}:\n",
       " 2  3   4\n",
       " 5  6   7\n",
       " 8  9  10"
      ]
     },
     "execution_count": 253,
     "metadata": {},
     "output_type": "execute_result"
    }
   ],
   "source": [
    "A + ones(Int64, 3, 3)"
   ]
  },
  {
   "cell_type": "code",
   "execution_count": 254,
   "metadata": {},
   "outputs": [
    {
     "data": {
      "text/plain": [
       "3×3 Array{Float64,2}:\n",
       " 0.723451  0.502443  0.556519\n",
       " 0.484525  0.766521  0.218072\n",
       " 0.240629  0.762207  0.982555"
      ]
     },
     "execution_count": 254,
     "metadata": {},
     "output_type": "execute_result"
    }
   ],
   "source": [
    "A = rand(3,3)"
   ]
  },
  {
   "cell_type": "code",
   "execution_count": 255,
   "metadata": {},
   "outputs": [
    {
     "data": {
      "text/plain": [
       "3-element Array{Float64,1}:\n",
       " 0.7234511516109228\n",
       " 0.7665214403132381\n",
       " 0.9825548301713154"
      ]
     },
     "execution_count": 255,
     "metadata": {},
     "output_type": "execute_result"
    }
   ],
   "source": [
    "diag(A)"
   ]
  },
  {
   "cell_type": "code",
   "execution_count": 256,
   "metadata": {},
   "outputs": [
    {
     "data": {
      "text/plain": [
       "3×3 Array{Float64,2}:\n",
       " 0.723451  0.0       0.0     \n",
       " 0.0       0.766521  0.0     \n",
       " 0.0       0.0       0.982555"
      ]
     },
     "execution_count": 256,
     "metadata": {},
     "output_type": "execute_result"
    }
   ],
   "source": [
    "diagm(diag(A))"
   ]
  },
  {
   "cell_type": "code",
   "execution_count": 257,
   "metadata": {},
   "outputs": [
    {
     "data": {
      "text/plain": [
       "3×3 Array{Float64,2}:\n",
       "  1.0           0.0           1.11022e-16\n",
       " -1.38778e-16   1.0          -3.33067e-16\n",
       " -5.55112e-17  -1.11022e-16   1.0        "
      ]
     },
     "execution_count": 257,
     "metadata": {},
     "output_type": "execute_result"
    }
   ],
   "source": [
    "inv(A)*A"
   ]
  },
  {
   "cell_type": "markdown",
   "metadata": {},
   "source": [
    "```transpose()``` gives the transpose and ```'``` gives the conjugate tranpose (adjoint, or complex conjugate of transpose) "
   ]
  },
  {
   "cell_type": "code",
   "execution_count": 258,
   "metadata": {},
   "outputs": [
    {
     "data": {
      "text/plain": [
       "3-element Array{Float64,1}:\n",
       " 0.2611707010359481\n",
       " 0.6427257636498012\n",
       " 0.9817034264551827"
      ]
     },
     "execution_count": 258,
     "metadata": {},
     "output_type": "execute_result"
    }
   ],
   "source": [
    "u = rand(3)\n",
    "v = rand(3)"
   ]
  },
  {
   "cell_type": "code",
   "execution_count": 259,
   "metadata": {},
   "outputs": [
    {
     "data": {
      "text/plain": [
       "1.019499625010448"
      ]
     },
     "execution_count": 259,
     "metadata": {},
     "output_type": "execute_result"
    }
   ],
   "source": [
    "transpose(u)*v # inner product"
   ]
  },
  {
   "cell_type": "code",
   "execution_count": 260,
   "metadata": {},
   "outputs": [
    {
     "data": {
      "text/plain": [
       "1.019499625010448"
      ]
     },
     "execution_count": 260,
     "metadata": {},
     "output_type": "execute_result"
    }
   ],
   "source": [
    "u'*v"
   ]
  },
  {
   "cell_type": "code",
   "execution_count": 261,
   "metadata": {},
   "outputs": [
    {
     "data": {
      "text/plain": [
       "1.019499625010448"
      ]
     },
     "execution_count": 261,
     "metadata": {},
     "output_type": "execute_result"
    }
   ],
   "source": [
    "u'v"
   ]
  },
  {
   "cell_type": "code",
   "execution_count": 262,
   "metadata": {},
   "outputs": [
    {
     "data": {
      "text/plain": [
       "1.019499625010448"
      ]
     },
     "execution_count": 262,
     "metadata": {},
     "output_type": "execute_result"
    }
   ],
   "source": [
    "dot(u,v)"
   ]
  },
  {
   "cell_type": "markdown",
   "metadata": {},
   "source": [
    "A two-dimensional rotation matrix is given by:\n",
    "\\begin{equation}\n",
    "    R(\\theta) = \n",
    "    \\begin{bmatrix}\n",
    "    cos(\\theta) & -sin(\\theta) \\\\\n",
    "    sin(\\theta) & cos(\\theta)\n",
    "    \\end{bmatrix}\n",
    "\\end{equation}"
   ]
  },
  {
   "cell_type": "markdown",
   "metadata": {},
   "source": [
    "We can define a function that produces it as follows: "
   ]
  },
  {
   "cell_type": "code",
   "execution_count": 263,
   "metadata": {},
   "outputs": [
    {
     "data": {
      "text/plain": [
       "R (generic function with 1 method)"
      ]
     },
     "execution_count": 263,
     "metadata": {},
     "output_type": "execute_result"
    }
   ],
   "source": [
    "R(θ) = [cos(θ) -sin(θ); sin(θ) cos(θ)]"
   ]
  },
  {
   "cell_type": "code",
   "execution_count": 264,
   "metadata": {},
   "outputs": [
    {
     "data": {
      "text/plain": [
       "2×2 Array{Float64,2}:\n",
       " 0.707107  -0.707107\n",
       " 0.707107   0.707107"
      ]
     },
     "execution_count": 264,
     "metadata": {},
     "output_type": "execute_result"
    }
   ],
   "source": [
    "R(pi/4)"
   ]
  },
  {
   "cell_type": "markdown",
   "metadata": {},
   "source": [
    "A two-dimensional shear matrix is given by:\n",
    "\\begin{equation}\n",
    "    S(\\lambda) = \n",
    "    \\begin{bmatrix}\n",
    "    1 & \\lambda \\\\\n",
    "    0 & 1\n",
    "    \\end{bmatrix}\n",
    "\\end{equation}"
   ]
  },
  {
   "cell_type": "markdown",
   "metadata": {},
   "source": [
    "Exercise: Define a function which computes the shear matrix as a function of $\\lambda$:"
   ]
  },
  {
   "cell_type": "code",
   "execution_count": 265,
   "metadata": {},
   "outputs": [],
   "source": [
    "S(λ) = [1 λ; 0 1];"
   ]
  },
  {
   "cell_type": "code",
   "execution_count": 266,
   "metadata": {},
   "outputs": [
    {
     "data": {
      "text/plain": [
       "2×2 Array{Int64,2}:\n",
       " 1  4\n",
       " 0  1"
      ]
     },
     "execution_count": 266,
     "metadata": {},
     "output_type": "execute_result"
    }
   ],
   "source": [
    "S(4)"
   ]
  },
  {
   "cell_type": "code",
   "execution_count": 267,
   "metadata": {},
   "outputs": [],
   "source": [
    "@assert S(4) ==  [1 4; 0 1]"
   ]
  },
  {
   "cell_type": "markdown",
   "metadata": {},
   "source": [
    "Install the standard plotting package by running the following cell:"
   ]
  },
  {
   "cell_type": "code",
   "execution_count": 268,
   "metadata": {},
   "outputs": [
    {
     "name": "stdout",
     "output_type": "stream",
     "text": [
      "\u001b[32m\u001b[1m Resolving\u001b[22m\u001b[39m package versions...\n",
      "\u001b[32m\u001b[1m  Updating\u001b[22m\u001b[39m `~/.julia/environments/v1.2/Project.toml`\n",
      "\u001b[90m [no changes]\u001b[39m\n",
      "\u001b[32m\u001b[1m  Updating\u001b[22m\u001b[39m `~/.julia/environments/v1.2/Manifest.toml`\n",
      "\u001b[90m [no changes]\u001b[39m\n"
     ]
    }
   ],
   "source": [
    "using Pkg;\n",
    "Pkg.add(\"Plots\")"
   ]
  },
  {
   "cell_type": "code",
   "execution_count": 269,
   "metadata": {},
   "outputs": [],
   "source": [
    "using Plots; # using is the \"import\" "
   ]
  },
  {
   "cell_type": "code",
   "execution_count": 270,
   "metadata": {},
   "outputs": [
    {
     "data": {
      "image/svg+xml": [
       "<?xml version=\"1.0\" encoding=\"utf-8\"?>\n",
       "<svg xmlns=\"http://www.w3.org/2000/svg\" xmlns:xlink=\"http://www.w3.org/1999/xlink\" width=\"600\" height=\"400\" viewBox=\"0 0 2400 1600\">\n",
       "<defs>\n",
       "  <clipPath id=\"clip3800\">\n",
       "    <rect x=\"0\" y=\"0\" width=\"2400\" height=\"1600\"/>\n",
       "  </clipPath>\n",
       "</defs>\n",
       "<polygon clip-path=\"url(#clip3800)\" points=\"\n",
       "0,1600 2400,1600 2400,0 0,0 \n",
       "  \" fill=\"#ffffff\" fill-rule=\"evenodd\" fill-opacity=\"1\"/>\n",
       "<defs>\n",
       "  <clipPath id=\"clip3801\">\n",
       "    <rect x=\"480\" y=\"0\" width=\"1681\" height=\"1600\"/>\n",
       "  </clipPath>\n",
       "</defs>\n",
       "<polygon clip-path=\"url(#clip3800)\" points=\"\n",
       "176.66,1466.71 2352.76,1466.71 2352.76,47.2441 176.66,47.2441 \n",
       "  \" fill=\"#ffffff\" fill-rule=\"evenodd\" fill-opacity=\"1\"/>\n",
       "<defs>\n",
       "  <clipPath id=\"clip3802\">\n",
       "    <rect x=\"176\" y=\"47\" width=\"2177\" height=\"1420\"/>\n",
       "  </clipPath>\n",
       "</defs>\n",
       "<polyline clip-path=\"url(#clip3802)\" style=\"stroke:#000000; stroke-width:2; stroke-opacity:0.1; fill:none\" points=\"\n",
       "  238.248,1466.71 238.248,47.2441 \n",
       "  \"/>\n",
       "<polyline clip-path=\"url(#clip3802)\" style=\"stroke:#000000; stroke-width:2; stroke-opacity:0.1; fill:none\" points=\"\n",
       "  751.478,1466.71 751.478,47.2441 \n",
       "  \"/>\n",
       "<polyline clip-path=\"url(#clip3802)\" style=\"stroke:#000000; stroke-width:2; stroke-opacity:0.1; fill:none\" points=\"\n",
       "  1264.71,1466.71 1264.71,47.2441 \n",
       "  \"/>\n",
       "<polyline clip-path=\"url(#clip3802)\" style=\"stroke:#000000; stroke-width:2; stroke-opacity:0.1; fill:none\" points=\"\n",
       "  1777.94,1466.71 1777.94,47.2441 \n",
       "  \"/>\n",
       "<polyline clip-path=\"url(#clip3802)\" style=\"stroke:#000000; stroke-width:2; stroke-opacity:0.1; fill:none\" points=\"\n",
       "  2291.17,1466.71 2291.17,47.2441 \n",
       "  \"/>\n",
       "<polyline clip-path=\"url(#clip3802)\" style=\"stroke:#000000; stroke-width:2; stroke-opacity:0.1; fill:none\" points=\"\n",
       "  176.66,1270.21 2352.76,1270.21 \n",
       "  \"/>\n",
       "<polyline clip-path=\"url(#clip3802)\" style=\"stroke:#000000; stroke-width:2; stroke-opacity:0.1; fill:none\" points=\"\n",
       "  176.66,1013.59 2352.76,1013.59 \n",
       "  \"/>\n",
       "<polyline clip-path=\"url(#clip3802)\" style=\"stroke:#000000; stroke-width:2; stroke-opacity:0.1; fill:none\" points=\"\n",
       "  176.66,756.976 2352.76,756.976 \n",
       "  \"/>\n",
       "<polyline clip-path=\"url(#clip3802)\" style=\"stroke:#000000; stroke-width:2; stroke-opacity:0.1; fill:none\" points=\"\n",
       "  176.66,500.361 2352.76,500.361 \n",
       "  \"/>\n",
       "<polyline clip-path=\"url(#clip3802)\" style=\"stroke:#000000; stroke-width:2; stroke-opacity:0.1; fill:none\" points=\"\n",
       "  176.66,243.746 2352.76,243.746 \n",
       "  \"/>\n",
       "<polyline clip-path=\"url(#clip3800)\" style=\"stroke:#000000; stroke-width:4; stroke-opacity:1; fill:none\" points=\"\n",
       "  176.66,1466.71 2352.76,1466.71 \n",
       "  \"/>\n",
       "<polyline clip-path=\"url(#clip3800)\" style=\"stroke:#000000; stroke-width:4; stroke-opacity:1; fill:none\" points=\"\n",
       "  176.66,1466.71 176.66,47.2441 \n",
       "  \"/>\n",
       "<polyline clip-path=\"url(#clip3800)\" style=\"stroke:#000000; stroke-width:4; stroke-opacity:1; fill:none\" points=\"\n",
       "  238.248,1466.71 238.248,1445.42 \n",
       "  \"/>\n",
       "<polyline clip-path=\"url(#clip3800)\" style=\"stroke:#000000; stroke-width:4; stroke-opacity:1; fill:none\" points=\"\n",
       "  751.478,1466.71 751.478,1445.42 \n",
       "  \"/>\n",
       "<polyline clip-path=\"url(#clip3800)\" style=\"stroke:#000000; stroke-width:4; stroke-opacity:1; fill:none\" points=\"\n",
       "  1264.71,1466.71 1264.71,1445.42 \n",
       "  \"/>\n",
       "<polyline clip-path=\"url(#clip3800)\" style=\"stroke:#000000; stroke-width:4; stroke-opacity:1; fill:none\" points=\"\n",
       "  1777.94,1466.71 1777.94,1445.42 \n",
       "  \"/>\n",
       "<polyline clip-path=\"url(#clip3800)\" style=\"stroke:#000000; stroke-width:4; stroke-opacity:1; fill:none\" points=\"\n",
       "  2291.17,1466.71 2291.17,1445.42 \n",
       "  \"/>\n",
       "<polyline clip-path=\"url(#clip3800)\" style=\"stroke:#000000; stroke-width:4; stroke-opacity:1; fill:none\" points=\"\n",
       "  176.66,1270.21 209.302,1270.21 \n",
       "  \"/>\n",
       "<polyline clip-path=\"url(#clip3800)\" style=\"stroke:#000000; stroke-width:4; stroke-opacity:1; fill:none\" points=\"\n",
       "  176.66,1013.59 209.302,1013.59 \n",
       "  \"/>\n",
       "<polyline clip-path=\"url(#clip3800)\" style=\"stroke:#000000; stroke-width:4; stroke-opacity:1; fill:none\" points=\"\n",
       "  176.66,756.976 209.302,756.976 \n",
       "  \"/>\n",
       "<polyline clip-path=\"url(#clip3800)\" style=\"stroke:#000000; stroke-width:4; stroke-opacity:1; fill:none\" points=\"\n",
       "  176.66,500.361 209.302,500.361 \n",
       "  \"/>\n",
       "<polyline clip-path=\"url(#clip3800)\" style=\"stroke:#000000; stroke-width:4; stroke-opacity:1; fill:none\" points=\"\n",
       "  176.66,243.746 209.302,243.746 \n",
       "  \"/>\n",
       "<g clip-path=\"url(#clip3800)\">\n",
       "<text style=\"fill:#000000; fill-opacity:1; font-family:Arial,Helvetica Neue,Helvetica,sans-serif; font-size:48px; text-anchor:middle;\" transform=\"rotate(0, 238.248, 1520.71)\" x=\"238.248\" y=\"1520.71\">-1.0</text>\n",
       "</g>\n",
       "<g clip-path=\"url(#clip3800)\">\n",
       "<text style=\"fill:#000000; fill-opacity:1; font-family:Arial,Helvetica Neue,Helvetica,sans-serif; font-size:48px; text-anchor:middle;\" transform=\"rotate(0, 751.478, 1520.71)\" x=\"751.478\" y=\"1520.71\">-0.5</text>\n",
       "</g>\n",
       "<g clip-path=\"url(#clip3800)\">\n",
       "<text style=\"fill:#000000; fill-opacity:1; font-family:Arial,Helvetica Neue,Helvetica,sans-serif; font-size:48px; text-anchor:middle;\" transform=\"rotate(0, 1264.71, 1520.71)\" x=\"1264.71\" y=\"1520.71\">0.0</text>\n",
       "</g>\n",
       "<g clip-path=\"url(#clip3800)\">\n",
       "<text style=\"fill:#000000; fill-opacity:1; font-family:Arial,Helvetica Neue,Helvetica,sans-serif; font-size:48px; text-anchor:middle;\" transform=\"rotate(0, 1777.94, 1520.71)\" x=\"1777.94\" y=\"1520.71\">0.5</text>\n",
       "</g>\n",
       "<g clip-path=\"url(#clip3800)\">\n",
       "<text style=\"fill:#000000; fill-opacity:1; font-family:Arial,Helvetica Neue,Helvetica,sans-serif; font-size:48px; text-anchor:middle;\" transform=\"rotate(0, 2291.17, 1520.71)\" x=\"2291.17\" y=\"1520.71\">1.0</text>\n",
       "</g>\n",
       "<g clip-path=\"url(#clip3800)\">\n",
       "<text style=\"fill:#000000; fill-opacity:1; font-family:Arial,Helvetica Neue,Helvetica,sans-serif; font-size:48px; text-anchor:end;\" transform=\"rotate(0, 152.66, 1287.71)\" x=\"152.66\" y=\"1287.71\">0.00</text>\n",
       "</g>\n",
       "<g clip-path=\"url(#clip3800)\">\n",
       "<text style=\"fill:#000000; fill-opacity:1; font-family:Arial,Helvetica Neue,Helvetica,sans-serif; font-size:48px; text-anchor:end;\" transform=\"rotate(0, 152.66, 1031.09)\" x=\"152.66\" y=\"1031.09\">0.25</text>\n",
       "</g>\n",
       "<g clip-path=\"url(#clip3800)\">\n",
       "<text style=\"fill:#000000; fill-opacity:1; font-family:Arial,Helvetica Neue,Helvetica,sans-serif; font-size:48px; text-anchor:end;\" transform=\"rotate(0, 152.66, 774.476)\" x=\"152.66\" y=\"774.476\">0.50</text>\n",
       "</g>\n",
       "<g clip-path=\"url(#clip3800)\">\n",
       "<text style=\"fill:#000000; fill-opacity:1; font-family:Arial,Helvetica Neue,Helvetica,sans-serif; font-size:48px; text-anchor:end;\" transform=\"rotate(0, 152.66, 517.861)\" x=\"152.66\" y=\"517.861\">0.75</text>\n",
       "</g>\n",
       "<g clip-path=\"url(#clip3800)\">\n",
       "<text style=\"fill:#000000; fill-opacity:1; font-family:Arial,Helvetica Neue,Helvetica,sans-serif; font-size:48px; text-anchor:end;\" transform=\"rotate(0, 152.66, 261.246)\" x=\"152.66\" y=\"261.246\">1.00</text>\n",
       "</g>\n",
       "<polyline clip-path=\"url(#clip3802)\" style=\"stroke:#009af9; stroke-width:4; stroke-opacity:1; fill:none\" points=\"\n",
       "  238.248,243.746 248.513,264.173 258.777,284.394 269.042,304.41 279.306,324.221 289.571,343.826 299.836,363.226 310.1,382.421 320.365,401.41 330.629,420.195 \n",
       "  340.894,438.773 351.159,457.147 361.423,475.315 371.688,493.279 381.952,511.036 392.217,528.589 402.482,545.936 412.746,563.078 423.011,580.014 433.275,596.746 \n",
       "  443.54,613.272 453.805,629.592 464.069,645.708 474.334,661.618 484.598,677.323 494.863,692.822 505.128,708.117 515.392,723.206 525.657,738.089 535.921,752.768 \n",
       "  546.186,767.241 556.451,781.509 566.715,795.571 576.98,809.428 587.244,823.08 597.509,836.527 607.774,849.768 618.038,862.804 628.303,875.635 638.567,888.26 \n",
       "  648.832,900.681 659.097,912.895 669.361,924.905 679.626,936.709 689.89,948.308 700.155,959.702 710.42,970.89 720.684,981.874 730.949,992.651 741.213,1003.22 \n",
       "  751.478,1013.59 761.743,1023.75 772.007,1033.71 782.272,1043.46 792.536,1053.01 802.801,1062.35 813.066,1071.48 823.33,1080.41 833.595,1089.14 843.859,1097.66 \n",
       "  854.124,1105.97 864.389,1114.08 874.653,1121.99 884.918,1129.68 895.182,1137.18 905.447,1144.46 915.712,1151.55 925.976,1158.42 936.241,1165.1 946.505,1171.56 \n",
       "  956.77,1177.82 967.035,1183.88 977.299,1189.73 987.564,1195.38 997.828,1200.82 1008.09,1206.05 1018.36,1211.08 1028.62,1215.91 1038.89,1220.53 1049.15,1224.94 \n",
       "  1059.42,1229.15 1069.68,1233.15 1079.95,1236.95 1090.21,1240.54 1100.47,1243.93 1110.74,1247.11 1121,1250.09 1131.27,1252.86 1141.53,1255.43 1151.8,1257.79 \n",
       "  1162.06,1259.94 1172.33,1261.89 1182.59,1263.64 1192.86,1265.18 1203.12,1266.51 1213.39,1267.64 1223.65,1268.56 1233.91,1269.28 1244.18,1269.8 1254.44,1270.1 \n",
       "  1264.71,1270.21 1274.97,1270.1 1285.24,1269.8 1295.5,1269.28 1305.77,1268.56 1316.03,1267.64 1326.3,1266.51 1336.56,1265.18 1346.82,1263.64 1357.09,1261.89 \n",
       "  1367.35,1259.94 1377.62,1257.79 1387.88,1255.43 1398.15,1252.86 1408.41,1250.09 1418.68,1247.11 1428.94,1243.93 1439.21,1240.54 1449.47,1236.95 1459.74,1233.15 \n",
       "  1470,1229.15 1480.26,1224.94 1490.53,1220.53 1500.79,1215.91 1511.06,1211.08 1521.32,1206.05 1531.59,1200.82 1541.85,1195.38 1552.12,1189.73 1562.38,1183.88 \n",
       "  1572.65,1177.82 1582.91,1171.56 1593.18,1165.1 1603.44,1158.42 1613.7,1151.55 1623.97,1144.46 1634.23,1137.18 1644.5,1129.68 1654.76,1121.99 1665.03,1114.08 \n",
       "  1675.29,1105.97 1685.56,1097.66 1695.82,1089.14 1706.09,1080.41 1716.35,1071.48 1726.62,1062.35 1736.88,1053.01 1747.14,1043.46 1757.41,1033.71 1767.67,1023.75 \n",
       "  1777.94,1013.59 1788.2,1003.22 1798.47,992.651 1808.73,981.874 1819,970.89 1829.26,959.702 1839.53,948.308 1849.79,936.709 1860.06,924.905 1870.32,912.895 \n",
       "  1880.58,900.681 1890.85,888.26 1901.11,875.635 1911.38,862.804 1921.64,849.768 1931.91,836.527 1942.17,823.08 1952.44,809.428 1962.7,795.571 1972.97,781.509 \n",
       "  1983.23,767.241 1993.49,752.768 2003.76,738.089 2014.02,723.206 2024.29,708.117 2034.55,692.822 2044.82,677.323 2055.08,661.618 2065.35,645.708 2075.61,629.592 \n",
       "  2085.88,613.272 2096.14,596.746 2106.41,580.014 2116.67,563.078 2126.93,545.936 2137.2,528.589 2147.46,511.036 2157.73,493.279 2167.99,475.315 2178.26,457.147 \n",
       "  2188.52,438.773 2198.79,420.195 2209.05,401.41 2219.32,382.421 2229.58,363.226 2239.85,343.826 2250.11,324.221 2260.37,304.41 2270.64,284.394 2280.9,264.173 \n",
       "  2291.17,243.746 \n",
       "  \"/>\n",
       "<polygon clip-path=\"url(#clip3800)\" points=\"\n",
       "1989.93,251.724 2280.76,251.724 2280.76,130.764 1989.93,130.764 \n",
       "  \" fill=\"#ffffff\" fill-rule=\"evenodd\" fill-opacity=\"1\"/>\n",
       "<polyline clip-path=\"url(#clip3800)\" style=\"stroke:#000000; stroke-width:4; stroke-opacity:1; fill:none\" points=\"\n",
       "  1989.93,251.724 2280.76,251.724 2280.76,130.764 1989.93,130.764 1989.93,251.724 \n",
       "  \"/>\n",
       "<polyline clip-path=\"url(#clip3800)\" style=\"stroke:#009af9; stroke-width:4; stroke-opacity:1; fill:none\" points=\"\n",
       "  2013.93,191.244 2157.93,191.244 \n",
       "  \"/>\n",
       "<g clip-path=\"url(#clip3800)\">\n",
       "<text style=\"fill:#000000; fill-opacity:1; font-family:Arial,Helvetica Neue,Helvetica,sans-serif; font-size:48px; text-anchor:start;\" transform=\"rotate(0, 2181.93, 208.744)\" x=\"2181.93\" y=\"208.744\">y1</text>\n",
       "</g>\n",
       "</svg>\n"
      ]
     },
     "execution_count": 270,
     "metadata": {},
     "output_type": "execute_result"
    }
   ],
   "source": [
    "x = [i for i = -1:0.01:1];\n",
    "plot(x, x.^2,aspect_ratio=:equal)"
   ]
  },
  {
   "cell_type": "markdown",
   "metadata": {},
   "source": [
    "By convention, ```!``` indicates that a function will change the mutable object that it's acting on"
   ]
  },
  {
   "cell_type": "code",
   "execution_count": 271,
   "metadata": {},
   "outputs": [
    {
     "data": {
      "image/svg+xml": [
       "<?xml version=\"1.0\" encoding=\"utf-8\"?>\n",
       "<svg xmlns=\"http://www.w3.org/2000/svg\" xmlns:xlink=\"http://www.w3.org/1999/xlink\" width=\"600\" height=\"400\" viewBox=\"0 0 2400 1600\">\n",
       "<defs>\n",
       "  <clipPath id=\"clip4200\">\n",
       "    <rect x=\"0\" y=\"0\" width=\"2400\" height=\"1600\"/>\n",
       "  </clipPath>\n",
       "</defs>\n",
       "<polygon clip-path=\"url(#clip4200)\" points=\"\n",
       "0,1600 2400,1600 2400,0 0,0 \n",
       "  \" fill=\"#ffffff\" fill-rule=\"evenodd\" fill-opacity=\"1\"/>\n",
       "<defs>\n",
       "  <clipPath id=\"clip4201\">\n",
       "    <rect x=\"480\" y=\"0\" width=\"1681\" height=\"1600\"/>\n",
       "  </clipPath>\n",
       "</defs>\n",
       "<polygon clip-path=\"url(#clip4200)\" points=\"\n",
       "180.66,1487.47 2352.76,1487.47 2352.76,47.2441 180.66,47.2441 \n",
       "  \" fill=\"#ffffff\" fill-rule=\"evenodd\" fill-opacity=\"1\"/>\n",
       "<defs>\n",
       "  <clipPath id=\"clip4202\">\n",
       "    <rect x=\"180\" y=\"47\" width=\"2173\" height=\"1441\"/>\n",
       "  </clipPath>\n",
       "</defs>\n",
       "<polyline clip-path=\"url(#clip4202)\" style=\"stroke:#000000; stroke-width:2; stroke-opacity:0.1; fill:none\" points=\"\n",
       "  242.135,1487.47 242.135,47.2441 \n",
       "  \"/>\n",
       "<polyline clip-path=\"url(#clip4202)\" style=\"stroke:#000000; stroke-width:2; stroke-opacity:0.1; fill:none\" points=\"\n",
       "  754.421,1487.47 754.421,47.2441 \n",
       "  \"/>\n",
       "<polyline clip-path=\"url(#clip4202)\" style=\"stroke:#000000; stroke-width:2; stroke-opacity:0.1; fill:none\" points=\"\n",
       "  1266.71,1487.47 1266.71,47.2441 \n",
       "  \"/>\n",
       "<polyline clip-path=\"url(#clip4202)\" style=\"stroke:#000000; stroke-width:2; stroke-opacity:0.1; fill:none\" points=\"\n",
       "  1778.99,1487.47 1778.99,47.2441 \n",
       "  \"/>\n",
       "<polyline clip-path=\"url(#clip4202)\" style=\"stroke:#000000; stroke-width:2; stroke-opacity:0.1; fill:none\" points=\"\n",
       "  2291.28,1487.47 2291.28,47.2441 \n",
       "  \"/>\n",
       "<polyline clip-path=\"url(#clip4202)\" style=\"stroke:#000000; stroke-width:2; stroke-opacity:0.1; fill:none\" points=\"\n",
       "  180.66,1279.65 2352.76,1279.65 \n",
       "  \"/>\n",
       "<polyline clip-path=\"url(#clip4202)\" style=\"stroke:#000000; stroke-width:2; stroke-opacity:0.1; fill:none\" points=\"\n",
       "  180.66,1023.5 2352.76,1023.5 \n",
       "  \"/>\n",
       "<polyline clip-path=\"url(#clip4202)\" style=\"stroke:#000000; stroke-width:2; stroke-opacity:0.1; fill:none\" points=\"\n",
       "  180.66,767.359 2352.76,767.359 \n",
       "  \"/>\n",
       "<polyline clip-path=\"url(#clip4202)\" style=\"stroke:#000000; stroke-width:2; stroke-opacity:0.1; fill:none\" points=\"\n",
       "  180.66,511.216 2352.76,511.216 \n",
       "  \"/>\n",
       "<polyline clip-path=\"url(#clip4202)\" style=\"stroke:#000000; stroke-width:2; stroke-opacity:0.1; fill:none\" points=\"\n",
       "  180.66,255.073 2352.76,255.073 \n",
       "  \"/>\n",
       "<polyline clip-path=\"url(#clip4200)\" style=\"stroke:#000000; stroke-width:4; stroke-opacity:1; fill:none\" points=\"\n",
       "  180.66,1487.47 2352.76,1487.47 \n",
       "  \"/>\n",
       "<polyline clip-path=\"url(#clip4200)\" style=\"stroke:#000000; stroke-width:4; stroke-opacity:1; fill:none\" points=\"\n",
       "  180.66,1487.47 180.66,47.2441 \n",
       "  \"/>\n",
       "<polyline clip-path=\"url(#clip4200)\" style=\"stroke:#000000; stroke-width:4; stroke-opacity:1; fill:none\" points=\"\n",
       "  242.135,1487.47 242.135,1465.87 \n",
       "  \"/>\n",
       "<polyline clip-path=\"url(#clip4200)\" style=\"stroke:#000000; stroke-width:4; stroke-opacity:1; fill:none\" points=\"\n",
       "  754.421,1487.47 754.421,1465.87 \n",
       "  \"/>\n",
       "<polyline clip-path=\"url(#clip4200)\" style=\"stroke:#000000; stroke-width:4; stroke-opacity:1; fill:none\" points=\"\n",
       "  1266.71,1487.47 1266.71,1465.87 \n",
       "  \"/>\n",
       "<polyline clip-path=\"url(#clip4200)\" style=\"stroke:#000000; stroke-width:4; stroke-opacity:1; fill:none\" points=\"\n",
       "  1778.99,1487.47 1778.99,1465.87 \n",
       "  \"/>\n",
       "<polyline clip-path=\"url(#clip4200)\" style=\"stroke:#000000; stroke-width:4; stroke-opacity:1; fill:none\" points=\"\n",
       "  2291.28,1487.47 2291.28,1465.87 \n",
       "  \"/>\n",
       "<polyline clip-path=\"url(#clip4200)\" style=\"stroke:#000000; stroke-width:4; stroke-opacity:1; fill:none\" points=\"\n",
       "  180.66,1279.65 213.242,1279.65 \n",
       "  \"/>\n",
       "<polyline clip-path=\"url(#clip4200)\" style=\"stroke:#000000; stroke-width:4; stroke-opacity:1; fill:none\" points=\"\n",
       "  180.66,1023.5 213.242,1023.5 \n",
       "  \"/>\n",
       "<polyline clip-path=\"url(#clip4200)\" style=\"stroke:#000000; stroke-width:4; stroke-opacity:1; fill:none\" points=\"\n",
       "  180.66,767.359 213.242,767.359 \n",
       "  \"/>\n",
       "<polyline clip-path=\"url(#clip4200)\" style=\"stroke:#000000; stroke-width:4; stroke-opacity:1; fill:none\" points=\"\n",
       "  180.66,511.216 213.242,511.216 \n",
       "  \"/>\n",
       "<polyline clip-path=\"url(#clip4200)\" style=\"stroke:#000000; stroke-width:4; stroke-opacity:1; fill:none\" points=\"\n",
       "  180.66,255.073 213.242,255.073 \n",
       "  \"/>\n",
       "<g clip-path=\"url(#clip4200)\">\n",
       "<text style=\"fill:#000000; fill-opacity:1; font-family:Arial,Helvetica Neue,Helvetica,sans-serif; font-size:48px; text-anchor:middle;\" transform=\"rotate(0, 242.135, 1541.47)\" x=\"242.135\" y=\"1541.47\">-1.0</text>\n",
       "</g>\n",
       "<g clip-path=\"url(#clip4200)\">\n",
       "<text style=\"fill:#000000; fill-opacity:1; font-family:Arial,Helvetica Neue,Helvetica,sans-serif; font-size:48px; text-anchor:middle;\" transform=\"rotate(0, 754.421, 1541.47)\" x=\"754.421\" y=\"1541.47\">-0.5</text>\n",
       "</g>\n",
       "<g clip-path=\"url(#clip4200)\">\n",
       "<text style=\"fill:#000000; fill-opacity:1; font-family:Arial,Helvetica Neue,Helvetica,sans-serif; font-size:48px; text-anchor:middle;\" transform=\"rotate(0, 1266.71, 1541.47)\" x=\"1266.71\" y=\"1541.47\">0.0</text>\n",
       "</g>\n",
       "<g clip-path=\"url(#clip4200)\">\n",
       "<text style=\"fill:#000000; fill-opacity:1; font-family:Arial,Helvetica Neue,Helvetica,sans-serif; font-size:48px; text-anchor:middle;\" transform=\"rotate(0, 1778.99, 1541.47)\" x=\"1778.99\" y=\"1541.47\">0.5</text>\n",
       "</g>\n",
       "<g clip-path=\"url(#clip4200)\">\n",
       "<text style=\"fill:#000000; fill-opacity:1; font-family:Arial,Helvetica Neue,Helvetica,sans-serif; font-size:48px; text-anchor:middle;\" transform=\"rotate(0, 2291.28, 1541.47)\" x=\"2291.28\" y=\"1541.47\">1.0</text>\n",
       "</g>\n",
       "<g clip-path=\"url(#clip4200)\">\n",
       "<text style=\"fill:#000000; fill-opacity:1; font-family:Arial,Helvetica Neue,Helvetica,sans-serif; font-size:48px; text-anchor:end;\" transform=\"rotate(0, 156.66, 1297.15)\" x=\"156.66\" y=\"1297.15\">0.00</text>\n",
       "</g>\n",
       "<g clip-path=\"url(#clip4200)\">\n",
       "<text style=\"fill:#000000; fill-opacity:1; font-family:Arial,Helvetica Neue,Helvetica,sans-serif; font-size:48px; text-anchor:end;\" transform=\"rotate(0, 156.66, 1041)\" x=\"156.66\" y=\"1041\">0.25</text>\n",
       "</g>\n",
       "<g clip-path=\"url(#clip4200)\">\n",
       "<text style=\"fill:#000000; fill-opacity:1; font-family:Arial,Helvetica Neue,Helvetica,sans-serif; font-size:48px; text-anchor:end;\" transform=\"rotate(0, 156.66, 784.859)\" x=\"156.66\" y=\"784.859\">0.50</text>\n",
       "</g>\n",
       "<g clip-path=\"url(#clip4200)\">\n",
       "<text style=\"fill:#000000; fill-opacity:1; font-family:Arial,Helvetica Neue,Helvetica,sans-serif; font-size:48px; text-anchor:end;\" transform=\"rotate(0, 156.66, 528.716)\" x=\"156.66\" y=\"528.716\">0.75</text>\n",
       "</g>\n",
       "<g clip-path=\"url(#clip4200)\">\n",
       "<text style=\"fill:#000000; fill-opacity:1; font-family:Arial,Helvetica Neue,Helvetica,sans-serif; font-size:48px; text-anchor:end;\" transform=\"rotate(0, 156.66, 272.573)\" x=\"156.66\" y=\"272.573\">1.00</text>\n",
       "</g>\n",
       "<polyline clip-path=\"url(#clip4202)\" style=\"stroke:#009af9; stroke-width:4; stroke-opacity:1; fill:none\" points=\"\n",
       "  242.135,255.073 252.38,275.462 262.626,295.646 272.872,315.625 283.118,335.399 293.363,354.969 303.609,374.333 313.855,393.493 324.101,412.447 334.346,431.197 \n",
       "  344.592,449.742 354.838,468.082 365.084,486.216 375.329,504.147 385.575,521.872 395.821,539.392 406.066,556.707 416.312,573.817 426.558,590.723 436.804,607.424 \n",
       "  447.049,623.919 457.295,640.21 467.541,656.296 477.787,672.177 488.032,687.853 498.278,703.324 508.524,718.59 518.77,733.651 529.015,748.507 539.261,763.159 \n",
       "  549.507,777.605 559.752,791.847 569.998,805.883 580.244,819.715 590.49,833.342 600.735,846.764 610.981,859.981 621.227,872.993 631.473,885.8 641.718,898.402 \n",
       "  651.964,910.8 662.21,922.992 672.456,934.98 682.701,946.762 692.947,958.34 703.193,969.713 713.438,980.881 723.684,991.843 733.93,1002.6 744.176,1013.15 \n",
       "  754.421,1023.5 764.667,1033.65 774.913,1043.58 785.159,1053.32 795.404,1062.85 805.65,1072.17 815.896,1081.29 826.142,1090.2 836.387,1098.91 846.633,1107.42 \n",
       "  856.879,1115.71 867.124,1123.81 877.37,1131.7 887.616,1139.38 897.862,1146.86 908.107,1154.14 918.353,1161.21 928.599,1168.07 938.845,1174.73 949.09,1181.18 \n",
       "  959.336,1187.43 969.582,1193.48 979.828,1199.32 990.073,1204.95 1000.32,1210.38 1010.56,1215.61 1020.81,1220.63 1031.06,1225.45 1041.3,1230.06 1051.55,1234.46 \n",
       "  1061.79,1238.66 1072.04,1242.66 1082.28,1246.45 1092.53,1250.04 1102.78,1253.42 1113.02,1256.59 1123.27,1259.56 1133.51,1262.33 1143.76,1264.89 1154.01,1267.25 \n",
       "  1164.25,1269.4 1174.5,1271.35 1184.74,1273.09 1194.99,1274.63 1205.23,1275.96 1215.48,1277.08 1225.73,1278.01 1235.97,1278.72 1246.22,1279.24 1256.46,1279.54 \n",
       "  1266.71,1279.65 1276.95,1279.54 1287.2,1279.24 1297.45,1278.72 1307.69,1278.01 1317.94,1277.08 1328.18,1275.96 1338.43,1274.63 1348.67,1273.09 1358.92,1271.35 \n",
       "  1369.17,1269.4 1379.41,1267.25 1389.66,1264.89 1399.9,1262.33 1410.15,1259.56 1420.39,1256.59 1430.64,1253.42 1440.89,1250.04 1451.13,1246.45 1461.38,1242.66 \n",
       "  1471.62,1238.66 1481.87,1234.46 1492.11,1230.06 1502.36,1225.45 1512.61,1220.63 1522.85,1215.61 1533.1,1210.38 1543.34,1204.95 1553.59,1199.32 1563.83,1193.48 \n",
       "  1574.08,1187.43 1584.33,1181.18 1594.57,1174.73 1604.82,1168.07 1615.06,1161.21 1625.31,1154.14 1635.55,1146.86 1645.8,1139.38 1656.05,1131.7 1666.29,1123.81 \n",
       "  1676.54,1115.71 1686.78,1107.42 1697.03,1098.91 1707.27,1090.2 1717.52,1081.29 1727.77,1072.17 1738.01,1062.85 1748.26,1053.32 1758.5,1043.58 1768.75,1033.65 \n",
       "  1778.99,1023.5 1789.24,1013.15 1799.49,1002.6 1809.73,991.843 1819.98,980.881 1830.22,969.713 1840.47,958.34 1850.71,946.762 1860.96,934.98 1871.21,922.992 \n",
       "  1881.45,910.8 1891.7,898.402 1901.94,885.8 1912.19,872.993 1922.44,859.981 1932.68,846.764 1942.93,833.342 1953.17,819.715 1963.42,805.883 1973.66,791.847 \n",
       "  1983.91,777.605 1994.16,763.159 2004.4,748.507 2014.65,733.651 2024.89,718.59 2035.14,703.324 2045.38,687.853 2055.63,672.177 2065.88,656.296 2076.12,640.21 \n",
       "  2086.37,623.919 2096.61,607.424 2106.86,590.723 2117.1,573.817 2127.35,556.707 2137.6,539.392 2147.84,521.872 2158.09,504.147 2168.33,486.216 2178.58,468.082 \n",
       "  2188.82,449.742 2199.07,431.197 2209.32,412.447 2219.56,393.493 2229.81,374.333 2240.05,354.969 2250.3,335.399 2260.54,315.625 2270.79,295.646 2281.04,275.462 \n",
       "  2291.28,255.073 \n",
       "  \"/>\n",
       "<polyline clip-path=\"url(#clip4202)\" style=\"stroke:#e26f46; stroke-width:4; stroke-opacity:1; fill:none\" points=\"\n",
       "  242.135,255.073 252.38,295.445 262.626,334.612 272.872,372.599 283.118,409.428 293.363,445.125 303.609,479.711 313.855,513.212 324.101,545.649 334.346,577.045 \n",
       "  344.592,607.424 354.838,636.806 365.084,665.214 375.329,692.67 385.575,719.196 395.821,744.812 406.066,769.54 416.312,793.401 426.558,816.414 436.804,838.601 \n",
       "  447.049,859.981 457.295,880.574 467.541,900.4 477.787,919.477 488.032,937.826 498.278,955.465 508.524,972.412 518.77,988.685 529.015,1004.3 539.261,1019.28 \n",
       "  549.507,1033.65 559.752,1047.4 569.998,1060.58 580.244,1073.18 590.49,1085.24 600.735,1096.75 610.981,1107.75 621.227,1118.25 631.473,1128.25 641.718,1137.79 \n",
       "  651.964,1146.86 662.21,1155.49 672.456,1163.7 682.701,1171.49 692.947,1178.88 703.193,1185.89 713.438,1192.53 723.684,1198.8 733.93,1204.73 744.176,1210.33 \n",
       "  754.421,1215.61 764.667,1220.58 774.913,1225.26 785.159,1229.65 795.404,1233.77 805.65,1237.63 815.896,1241.24 826.142,1244.62 836.387,1247.76 846.633,1250.69 \n",
       "  856.879,1253.42 867.124,1255.94 877.37,1258.28 887.616,1260.44 897.862,1262.44 908.107,1264.27 918.353,1265.95 928.599,1267.5 938.845,1268.9 949.09,1270.18 \n",
       "  959.336,1271.35 969.582,1272.4 979.828,1273.35 990.073,1274.2 1000.32,1274.96 1010.56,1275.64 1020.81,1276.25 1031.06,1276.78 1041.3,1277.25 1051.55,1277.65 \n",
       "  1061.79,1278.01 1072.04,1278.31 1082.28,1278.57 1092.53,1278.79 1102.78,1278.97 1113.02,1279.13 1123.27,1279.25 1133.51,1279.35 1143.76,1279.43 1154.01,1279.5 \n",
       "  1164.25,1279.54 1174.5,1279.58 1184.74,1279.6 1194.99,1279.62 1205.23,1279.63 1215.48,1279.64 1225.73,1279.64 1235.97,1279.65 1246.22,1279.65 1256.46,1279.65 \n",
       "  1266.71,1279.65 1276.95,1279.65 1287.2,1279.65 1297.45,1279.65 1307.69,1279.64 1317.94,1279.64 1328.18,1279.63 1338.43,1279.62 1348.67,1279.6 1358.92,1279.58 \n",
       "  1369.17,1279.54 1379.41,1279.5 1389.66,1279.43 1399.9,1279.35 1410.15,1279.25 1420.39,1279.13 1430.64,1278.97 1440.89,1278.79 1451.13,1278.57 1461.38,1278.31 \n",
       "  1471.62,1278.01 1481.87,1277.65 1492.11,1277.25 1502.36,1276.78 1512.61,1276.25 1522.85,1275.64 1533.1,1274.96 1543.34,1274.2 1553.59,1273.35 1563.83,1272.4 \n",
       "  1574.08,1271.35 1584.33,1270.18 1594.57,1268.9 1604.82,1267.5 1615.06,1265.95 1625.31,1264.27 1635.55,1262.44 1645.8,1260.44 1656.05,1258.28 1666.29,1255.94 \n",
       "  1676.54,1253.42 1686.78,1250.69 1697.03,1247.76 1707.27,1244.62 1717.52,1241.24 1727.77,1237.63 1738.01,1233.77 1748.26,1229.65 1758.5,1225.26 1768.75,1220.58 \n",
       "  1778.99,1215.61 1789.24,1210.33 1799.49,1204.73 1809.73,1198.8 1819.98,1192.53 1830.22,1185.89 1840.47,1178.88 1850.71,1171.49 1860.96,1163.7 1871.21,1155.49 \n",
       "  1881.45,1146.86 1891.7,1137.79 1901.94,1128.25 1912.19,1118.25 1922.44,1107.75 1932.68,1096.75 1942.93,1085.24 1953.17,1073.18 1963.42,1060.58 1973.66,1047.4 \n",
       "  1983.91,1033.65 1994.16,1019.28 2004.4,1004.3 2014.65,988.685 2024.89,972.412 2035.14,955.465 2045.38,937.826 2055.63,919.477 2065.88,900.4 2076.12,880.574 \n",
       "  2086.37,859.981 2096.61,838.601 2106.86,816.414 2117.1,793.401 2127.35,769.54 2137.6,744.812 2147.84,719.196 2158.09,692.67 2168.33,665.214 2178.58,636.806 \n",
       "  2188.82,607.424 2199.07,577.045 2209.32,545.649 2219.56,513.212 2229.81,479.711 2240.05,445.125 2250.3,409.428 2260.54,372.599 2270.79,334.612 2281.04,295.445 \n",
       "  2291.28,255.073 \n",
       "  \"/>\n",
       "<polygon clip-path=\"url(#clip4200)\" points=\"\n",
       "1989.93,312.204 2280.76,312.204 2280.76,130.764 1989.93,130.764 \n",
       "  \" fill=\"#ffffff\" fill-rule=\"evenodd\" fill-opacity=\"1\"/>\n",
       "<polyline clip-path=\"url(#clip4200)\" style=\"stroke:#000000; stroke-width:4; stroke-opacity:1; fill:none\" points=\"\n",
       "  1989.93,312.204 2280.76,312.204 2280.76,130.764 1989.93,130.764 1989.93,312.204 \n",
       "  \"/>\n",
       "<polyline clip-path=\"url(#clip4200)\" style=\"stroke:#009af9; stroke-width:4; stroke-opacity:1; fill:none\" points=\"\n",
       "  2013.93,191.244 2157.93,191.244 \n",
       "  \"/>\n",
       "<g clip-path=\"url(#clip4200)\">\n",
       "<text style=\"fill:#000000; fill-opacity:1; font-family:Arial,Helvetica Neue,Helvetica,sans-serif; font-size:48px; text-anchor:start;\" transform=\"rotate(0, 2181.93, 208.744)\" x=\"2181.93\" y=\"208.744\">y1</text>\n",
       "</g>\n",
       "<polyline clip-path=\"url(#clip4200)\" style=\"stroke:#e26f46; stroke-width:4; stroke-opacity:1; fill:none\" points=\"\n",
       "  2013.93,251.724 2157.93,251.724 \n",
       "  \"/>\n",
       "<g clip-path=\"url(#clip4200)\">\n",
       "<text style=\"fill:#000000; fill-opacity:1; font-family:Arial,Helvetica Neue,Helvetica,sans-serif; font-size:48px; text-anchor:start;\" transform=\"rotate(0, 2181.93, 269.224)\" x=\"2181.93\" y=\"269.224\">y2</text>\n",
       "</g>\n",
       "</svg>\n"
      ]
     },
     "execution_count": 271,
     "metadata": {},
     "output_type": "execute_result"
    }
   ],
   "source": [
    "plot!(x, x.^4,aspect_ratio=:equal) # the \"!\" makes it modify the existing plot rather than replace it"
   ]
  },
  {
   "cell_type": "code",
   "execution_count": 272,
   "metadata": {},
   "outputs": [
    {
     "data": {
      "image/svg+xml": [
       "<?xml version=\"1.0\" encoding=\"utf-8\"?>\n",
       "<svg xmlns=\"http://www.w3.org/2000/svg\" xmlns:xlink=\"http://www.w3.org/1999/xlink\" width=\"600\" height=\"400\" viewBox=\"0 0 2400 1600\">\n",
       "<defs>\n",
       "  <clipPath id=\"clip4600\">\n",
       "    <rect x=\"0\" y=\"0\" width=\"2400\" height=\"1600\"/>\n",
       "  </clipPath>\n",
       "</defs>\n",
       "<polygon clip-path=\"url(#clip4600)\" points=\"\n",
       "0,1600 2400,1600 2400,0 0,0 \n",
       "  \" fill=\"#ffffff\" fill-rule=\"evenodd\" fill-opacity=\"1\"/>\n",
       "<defs>\n",
       "  <clipPath id=\"clip4601\">\n",
       "    <rect x=\"480\" y=\"0\" width=\"1681\" height=\"1600\"/>\n",
       "  </clipPath>\n",
       "</defs>\n",
       "<polygon clip-path=\"url(#clip4600)\" points=\"\n",
       "141.865,1272.81 1152.76,1272.81 1152.76,261.914 141.865,261.914 \n",
       "  \" fill=\"#ffffff\" fill-rule=\"evenodd\" fill-opacity=\"1\"/>\n",
       "<defs>\n",
       "  <clipPath id=\"clip4602\">\n",
       "    <rect x=\"141\" y=\"261\" width=\"1012\" height=\"1012\"/>\n",
       "  </clipPath>\n",
       "</defs>\n",
       "<polyline clip-path=\"url(#clip4602)\" style=\"stroke:#000000; stroke-width:2; stroke-opacity:0.1; fill:none\" points=\"\n",
       "  141.865,1272.81 141.865,261.914 \n",
       "  \"/>\n",
       "<polyline clip-path=\"url(#clip4602)\" style=\"stroke:#000000; stroke-width:2; stroke-opacity:0.1; fill:none\" points=\"\n",
       "  394.587,1272.81 394.587,261.914 \n",
       "  \"/>\n",
       "<polyline clip-path=\"url(#clip4602)\" style=\"stroke:#000000; stroke-width:2; stroke-opacity:0.1; fill:none\" points=\"\n",
       "  647.31,1272.81 647.31,261.914 \n",
       "  \"/>\n",
       "<polyline clip-path=\"url(#clip4602)\" style=\"stroke:#000000; stroke-width:2; stroke-opacity:0.1; fill:none\" points=\"\n",
       "  900.033,1272.81 900.033,261.914 \n",
       "  \"/>\n",
       "<polyline clip-path=\"url(#clip4602)\" style=\"stroke:#000000; stroke-width:2; stroke-opacity:0.1; fill:none\" points=\"\n",
       "  1152.76,1272.81 1152.76,261.914 \n",
       "  \"/>\n",
       "<polyline clip-path=\"url(#clip4602)\" style=\"stroke:#000000; stroke-width:2; stroke-opacity:0.1; fill:none\" points=\"\n",
       "  141.865,1272.81 1152.76,1272.81 \n",
       "  \"/>\n",
       "<polyline clip-path=\"url(#clip4602)\" style=\"stroke:#000000; stroke-width:2; stroke-opacity:0.1; fill:none\" points=\"\n",
       "  141.865,1020.08 1152.76,1020.08 \n",
       "  \"/>\n",
       "<polyline clip-path=\"url(#clip4602)\" style=\"stroke:#000000; stroke-width:2; stroke-opacity:0.1; fill:none\" points=\"\n",
       "  141.865,767.359 1152.76,767.359 \n",
       "  \"/>\n",
       "<polyline clip-path=\"url(#clip4602)\" style=\"stroke:#000000; stroke-width:2; stroke-opacity:0.1; fill:none\" points=\"\n",
       "  141.865,514.637 1152.76,514.637 \n",
       "  \"/>\n",
       "<polyline clip-path=\"url(#clip4602)\" style=\"stroke:#000000; stroke-width:2; stroke-opacity:0.1; fill:none\" points=\"\n",
       "  141.865,261.914 1152.76,261.914 \n",
       "  \"/>\n",
       "<polyline clip-path=\"url(#clip4600)\" style=\"stroke:#000000; stroke-width:4; stroke-opacity:1; fill:none\" points=\"\n",
       "  141.865,1272.81 1152.76,1272.81 \n",
       "  \"/>\n",
       "<polyline clip-path=\"url(#clip4600)\" style=\"stroke:#000000; stroke-width:4; stroke-opacity:1; fill:none\" points=\"\n",
       "  141.865,1272.81 141.865,261.914 \n",
       "  \"/>\n",
       "<polyline clip-path=\"url(#clip4600)\" style=\"stroke:#000000; stroke-width:4; stroke-opacity:1; fill:none\" points=\"\n",
       "  141.865,1272.81 141.865,1257.64 \n",
       "  \"/>\n",
       "<polyline clip-path=\"url(#clip4600)\" style=\"stroke:#000000; stroke-width:4; stroke-opacity:1; fill:none\" points=\"\n",
       "  394.587,1272.81 394.587,1257.64 \n",
       "  \"/>\n",
       "<polyline clip-path=\"url(#clip4600)\" style=\"stroke:#000000; stroke-width:4; stroke-opacity:1; fill:none\" points=\"\n",
       "  647.31,1272.81 647.31,1257.64 \n",
       "  \"/>\n",
       "<polyline clip-path=\"url(#clip4600)\" style=\"stroke:#000000; stroke-width:4; stroke-opacity:1; fill:none\" points=\"\n",
       "  900.033,1272.81 900.033,1257.64 \n",
       "  \"/>\n",
       "<polyline clip-path=\"url(#clip4600)\" style=\"stroke:#000000; stroke-width:4; stroke-opacity:1; fill:none\" points=\"\n",
       "  1152.76,1272.81 1152.76,1257.64 \n",
       "  \"/>\n",
       "<polyline clip-path=\"url(#clip4600)\" style=\"stroke:#000000; stroke-width:4; stroke-opacity:1; fill:none\" points=\"\n",
       "  141.865,1272.81 157.028,1272.81 \n",
       "  \"/>\n",
       "<polyline clip-path=\"url(#clip4600)\" style=\"stroke:#000000; stroke-width:4; stroke-opacity:1; fill:none\" points=\"\n",
       "  141.865,1020.08 157.028,1020.08 \n",
       "  \"/>\n",
       "<polyline clip-path=\"url(#clip4600)\" style=\"stroke:#000000; stroke-width:4; stroke-opacity:1; fill:none\" points=\"\n",
       "  141.865,767.359 157.028,767.359 \n",
       "  \"/>\n",
       "<polyline clip-path=\"url(#clip4600)\" style=\"stroke:#000000; stroke-width:4; stroke-opacity:1; fill:none\" points=\"\n",
       "  141.865,514.637 157.028,514.637 \n",
       "  \"/>\n",
       "<polyline clip-path=\"url(#clip4600)\" style=\"stroke:#000000; stroke-width:4; stroke-opacity:1; fill:none\" points=\"\n",
       "  141.865,261.914 157.028,261.914 \n",
       "  \"/>\n",
       "<g clip-path=\"url(#clip4600)\">\n",
       "<text style=\"fill:#000000; fill-opacity:1; font-family:Arial,Helvetica Neue,Helvetica,sans-serif; font-size:48px; text-anchor:middle;\" transform=\"rotate(0, 141.865, 1326.81)\" x=\"141.865\" y=\"1326.81\">-2</text>\n",
       "</g>\n",
       "<g clip-path=\"url(#clip4600)\">\n",
       "<text style=\"fill:#000000; fill-opacity:1; font-family:Arial,Helvetica Neue,Helvetica,sans-serif; font-size:48px; text-anchor:middle;\" transform=\"rotate(0, 394.587, 1326.81)\" x=\"394.587\" y=\"1326.81\">-1</text>\n",
       "</g>\n",
       "<g clip-path=\"url(#clip4600)\">\n",
       "<text style=\"fill:#000000; fill-opacity:1; font-family:Arial,Helvetica Neue,Helvetica,sans-serif; font-size:48px; text-anchor:middle;\" transform=\"rotate(0, 647.31, 1326.81)\" x=\"647.31\" y=\"1326.81\">0</text>\n",
       "</g>\n",
       "<g clip-path=\"url(#clip4600)\">\n",
       "<text style=\"fill:#000000; fill-opacity:1; font-family:Arial,Helvetica Neue,Helvetica,sans-serif; font-size:48px; text-anchor:middle;\" transform=\"rotate(0, 900.033, 1326.81)\" x=\"900.033\" y=\"1326.81\">1</text>\n",
       "</g>\n",
       "<g clip-path=\"url(#clip4600)\">\n",
       "<text style=\"fill:#000000; fill-opacity:1; font-family:Arial,Helvetica Neue,Helvetica,sans-serif; font-size:48px; text-anchor:middle;\" transform=\"rotate(0, 1152.76, 1326.81)\" x=\"1152.76\" y=\"1326.81\">2</text>\n",
       "</g>\n",
       "<g clip-path=\"url(#clip4600)\">\n",
       "<text style=\"fill:#000000; fill-opacity:1; font-family:Arial,Helvetica Neue,Helvetica,sans-serif; font-size:48px; text-anchor:end;\" transform=\"rotate(0, 117.865, 1290.31)\" x=\"117.865\" y=\"1290.31\">-2</text>\n",
       "</g>\n",
       "<g clip-path=\"url(#clip4600)\">\n",
       "<text style=\"fill:#000000; fill-opacity:1; font-family:Arial,Helvetica Neue,Helvetica,sans-serif; font-size:48px; text-anchor:end;\" transform=\"rotate(0, 117.865, 1037.58)\" x=\"117.865\" y=\"1037.58\">-1</text>\n",
       "</g>\n",
       "<g clip-path=\"url(#clip4600)\">\n",
       "<text style=\"fill:#000000; fill-opacity:1; font-family:Arial,Helvetica Neue,Helvetica,sans-serif; font-size:48px; text-anchor:end;\" transform=\"rotate(0, 117.865, 784.859)\" x=\"117.865\" y=\"784.859\">0</text>\n",
       "</g>\n",
       "<g clip-path=\"url(#clip4600)\">\n",
       "<text style=\"fill:#000000; fill-opacity:1; font-family:Arial,Helvetica Neue,Helvetica,sans-serif; font-size:48px; text-anchor:end;\" transform=\"rotate(0, 117.865, 532.137)\" x=\"117.865\" y=\"532.137\">1</text>\n",
       "</g>\n",
       "<g clip-path=\"url(#clip4600)\">\n",
       "<text style=\"fill:#000000; fill-opacity:1; font-family:Arial,Helvetica Neue,Helvetica,sans-serif; font-size:48px; text-anchor:end;\" transform=\"rotate(0, 117.865, 279.414)\" x=\"117.865\" y=\"279.414\">2</text>\n",
       "</g>\n",
       "<polyline clip-path=\"url(#clip4602)\" style=\"stroke:#009af9; stroke-width:4; stroke-opacity:1; fill:none\" points=\"\n",
       "  896.922,727.825 887.664,689.264 872.488,652.626 851.767,618.813 826.012,588.657 795.857,562.902 762.044,542.182 725.406,527.006 686.845,517.748 647.31,514.637 \n",
       "  607.776,517.748 569.215,527.006 532.576,542.182 498.763,562.902 468.608,588.657 442.853,618.813 422.133,652.626 406.957,689.264 397.699,727.825 394.587,767.359 \n",
       "  397.699,806.894 406.957,845.455 422.133,882.093 442.853,915.906 468.608,946.061 498.763,971.816 532.576,992.537 569.215,1007.71 607.776,1016.97 647.31,1020.08 \n",
       "  686.845,1016.97 725.406,1007.71 762.044,992.537 795.857,971.816 826.012,946.061 851.767,915.906 872.488,882.093 887.664,845.455 896.922,806.894 900.033,767.359 \n",
       "  \n",
       "  \"/>\n",
       "<circle clip-path=\"url(#clip4602)\" style=\"fill:#000000; stroke:none; fill-opacity:1\" cx=\"896.922\" cy=\"727.825\" r=\"14\"/>\n",
       "<circle clip-path=\"url(#clip4602)\" style=\"fill:#009af9; stroke:none; fill-opacity:1\" cx=\"896.922\" cy=\"727.825\" r=\"10\"/>\n",
       "<circle clip-path=\"url(#clip4602)\" style=\"fill:#000000; stroke:none; fill-opacity:1\" cx=\"887.664\" cy=\"689.264\" r=\"14\"/>\n",
       "<circle clip-path=\"url(#clip4602)\" style=\"fill:#009af9; stroke:none; fill-opacity:1\" cx=\"887.664\" cy=\"689.264\" r=\"10\"/>\n",
       "<circle clip-path=\"url(#clip4602)\" style=\"fill:#000000; stroke:none; fill-opacity:1\" cx=\"872.488\" cy=\"652.626\" r=\"14\"/>\n",
       "<circle clip-path=\"url(#clip4602)\" style=\"fill:#009af9; stroke:none; fill-opacity:1\" cx=\"872.488\" cy=\"652.626\" r=\"10\"/>\n",
       "<circle clip-path=\"url(#clip4602)\" style=\"fill:#000000; stroke:none; fill-opacity:1\" cx=\"851.767\" cy=\"618.813\" r=\"14\"/>\n",
       "<circle clip-path=\"url(#clip4602)\" style=\"fill:#009af9; stroke:none; fill-opacity:1\" cx=\"851.767\" cy=\"618.813\" r=\"10\"/>\n",
       "<circle clip-path=\"url(#clip4602)\" style=\"fill:#000000; stroke:none; fill-opacity:1\" cx=\"826.012\" cy=\"588.657\" r=\"14\"/>\n",
       "<circle clip-path=\"url(#clip4602)\" style=\"fill:#009af9; stroke:none; fill-opacity:1\" cx=\"826.012\" cy=\"588.657\" r=\"10\"/>\n",
       "<circle clip-path=\"url(#clip4602)\" style=\"fill:#000000; stroke:none; fill-opacity:1\" cx=\"795.857\" cy=\"562.902\" r=\"14\"/>\n",
       "<circle clip-path=\"url(#clip4602)\" style=\"fill:#009af9; stroke:none; fill-opacity:1\" cx=\"795.857\" cy=\"562.902\" r=\"10\"/>\n",
       "<circle clip-path=\"url(#clip4602)\" style=\"fill:#000000; stroke:none; fill-opacity:1\" cx=\"762.044\" cy=\"542.182\" r=\"14\"/>\n",
       "<circle clip-path=\"url(#clip4602)\" style=\"fill:#009af9; stroke:none; fill-opacity:1\" cx=\"762.044\" cy=\"542.182\" r=\"10\"/>\n",
       "<circle clip-path=\"url(#clip4602)\" style=\"fill:#000000; stroke:none; fill-opacity:1\" cx=\"725.406\" cy=\"527.006\" r=\"14\"/>\n",
       "<circle clip-path=\"url(#clip4602)\" style=\"fill:#009af9; stroke:none; fill-opacity:1\" cx=\"725.406\" cy=\"527.006\" r=\"10\"/>\n",
       "<circle clip-path=\"url(#clip4602)\" style=\"fill:#000000; stroke:none; fill-opacity:1\" cx=\"686.845\" cy=\"517.748\" r=\"14\"/>\n",
       "<circle clip-path=\"url(#clip4602)\" style=\"fill:#009af9; stroke:none; fill-opacity:1\" cx=\"686.845\" cy=\"517.748\" r=\"10\"/>\n",
       "<circle clip-path=\"url(#clip4602)\" style=\"fill:#000000; stroke:none; fill-opacity:1\" cx=\"647.31\" cy=\"514.637\" r=\"14\"/>\n",
       "<circle clip-path=\"url(#clip4602)\" style=\"fill:#009af9; stroke:none; fill-opacity:1\" cx=\"647.31\" cy=\"514.637\" r=\"10\"/>\n",
       "<circle clip-path=\"url(#clip4602)\" style=\"fill:#000000; stroke:none; fill-opacity:1\" cx=\"607.776\" cy=\"517.748\" r=\"14\"/>\n",
       "<circle clip-path=\"url(#clip4602)\" style=\"fill:#009af9; stroke:none; fill-opacity:1\" cx=\"607.776\" cy=\"517.748\" r=\"10\"/>\n",
       "<circle clip-path=\"url(#clip4602)\" style=\"fill:#000000; stroke:none; fill-opacity:1\" cx=\"569.215\" cy=\"527.006\" r=\"14\"/>\n",
       "<circle clip-path=\"url(#clip4602)\" style=\"fill:#009af9; stroke:none; fill-opacity:1\" cx=\"569.215\" cy=\"527.006\" r=\"10\"/>\n",
       "<circle clip-path=\"url(#clip4602)\" style=\"fill:#000000; stroke:none; fill-opacity:1\" cx=\"532.576\" cy=\"542.182\" r=\"14\"/>\n",
       "<circle clip-path=\"url(#clip4602)\" style=\"fill:#009af9; stroke:none; fill-opacity:1\" cx=\"532.576\" cy=\"542.182\" r=\"10\"/>\n",
       "<circle clip-path=\"url(#clip4602)\" style=\"fill:#000000; stroke:none; fill-opacity:1\" cx=\"498.763\" cy=\"562.902\" r=\"14\"/>\n",
       "<circle clip-path=\"url(#clip4602)\" style=\"fill:#009af9; stroke:none; fill-opacity:1\" cx=\"498.763\" cy=\"562.902\" r=\"10\"/>\n",
       "<circle clip-path=\"url(#clip4602)\" style=\"fill:#000000; stroke:none; fill-opacity:1\" cx=\"468.608\" cy=\"588.657\" r=\"14\"/>\n",
       "<circle clip-path=\"url(#clip4602)\" style=\"fill:#009af9; stroke:none; fill-opacity:1\" cx=\"468.608\" cy=\"588.657\" r=\"10\"/>\n",
       "<circle clip-path=\"url(#clip4602)\" style=\"fill:#000000; stroke:none; fill-opacity:1\" cx=\"442.853\" cy=\"618.813\" r=\"14\"/>\n",
       "<circle clip-path=\"url(#clip4602)\" style=\"fill:#009af9; stroke:none; fill-opacity:1\" cx=\"442.853\" cy=\"618.813\" r=\"10\"/>\n",
       "<circle clip-path=\"url(#clip4602)\" style=\"fill:#000000; stroke:none; fill-opacity:1\" cx=\"422.133\" cy=\"652.626\" r=\"14\"/>\n",
       "<circle clip-path=\"url(#clip4602)\" style=\"fill:#009af9; stroke:none; fill-opacity:1\" cx=\"422.133\" cy=\"652.626\" r=\"10\"/>\n",
       "<circle clip-path=\"url(#clip4602)\" style=\"fill:#000000; stroke:none; fill-opacity:1\" cx=\"406.957\" cy=\"689.264\" r=\"14\"/>\n",
       "<circle clip-path=\"url(#clip4602)\" style=\"fill:#009af9; stroke:none; fill-opacity:1\" cx=\"406.957\" cy=\"689.264\" r=\"10\"/>\n",
       "<circle clip-path=\"url(#clip4602)\" style=\"fill:#000000; stroke:none; fill-opacity:1\" cx=\"397.699\" cy=\"727.825\" r=\"14\"/>\n",
       "<circle clip-path=\"url(#clip4602)\" style=\"fill:#009af9; stroke:none; fill-opacity:1\" cx=\"397.699\" cy=\"727.825\" r=\"10\"/>\n",
       "<circle clip-path=\"url(#clip4602)\" style=\"fill:#000000; stroke:none; fill-opacity:1\" cx=\"394.587\" cy=\"767.359\" r=\"14\"/>\n",
       "<circle clip-path=\"url(#clip4602)\" style=\"fill:#009af9; stroke:none; fill-opacity:1\" cx=\"394.587\" cy=\"767.359\" r=\"10\"/>\n",
       "<circle clip-path=\"url(#clip4602)\" style=\"fill:#000000; stroke:none; fill-opacity:1\" cx=\"397.699\" cy=\"806.894\" r=\"14\"/>\n",
       "<circle clip-path=\"url(#clip4602)\" style=\"fill:#009af9; stroke:none; fill-opacity:1\" cx=\"397.699\" cy=\"806.894\" r=\"10\"/>\n",
       "<circle clip-path=\"url(#clip4602)\" style=\"fill:#000000; stroke:none; fill-opacity:1\" cx=\"406.957\" cy=\"845.455\" r=\"14\"/>\n",
       "<circle clip-path=\"url(#clip4602)\" style=\"fill:#009af9; stroke:none; fill-opacity:1\" cx=\"406.957\" cy=\"845.455\" r=\"10\"/>\n",
       "<circle clip-path=\"url(#clip4602)\" style=\"fill:#000000; stroke:none; fill-opacity:1\" cx=\"422.133\" cy=\"882.093\" r=\"14\"/>\n",
       "<circle clip-path=\"url(#clip4602)\" style=\"fill:#009af9; stroke:none; fill-opacity:1\" cx=\"422.133\" cy=\"882.093\" r=\"10\"/>\n",
       "<circle clip-path=\"url(#clip4602)\" style=\"fill:#000000; stroke:none; fill-opacity:1\" cx=\"442.853\" cy=\"915.906\" r=\"14\"/>\n",
       "<circle clip-path=\"url(#clip4602)\" style=\"fill:#009af9; stroke:none; fill-opacity:1\" cx=\"442.853\" cy=\"915.906\" r=\"10\"/>\n",
       "<circle clip-path=\"url(#clip4602)\" style=\"fill:#000000; stroke:none; fill-opacity:1\" cx=\"468.608\" cy=\"946.061\" r=\"14\"/>\n",
       "<circle clip-path=\"url(#clip4602)\" style=\"fill:#009af9; stroke:none; fill-opacity:1\" cx=\"468.608\" cy=\"946.061\" r=\"10\"/>\n",
       "<circle clip-path=\"url(#clip4602)\" style=\"fill:#000000; stroke:none; fill-opacity:1\" cx=\"498.763\" cy=\"971.816\" r=\"14\"/>\n",
       "<circle clip-path=\"url(#clip4602)\" style=\"fill:#009af9; stroke:none; fill-opacity:1\" cx=\"498.763\" cy=\"971.816\" r=\"10\"/>\n",
       "<circle clip-path=\"url(#clip4602)\" style=\"fill:#000000; stroke:none; fill-opacity:1\" cx=\"532.576\" cy=\"992.537\" r=\"14\"/>\n",
       "<circle clip-path=\"url(#clip4602)\" style=\"fill:#009af9; stroke:none; fill-opacity:1\" cx=\"532.576\" cy=\"992.537\" r=\"10\"/>\n",
       "<circle clip-path=\"url(#clip4602)\" style=\"fill:#000000; stroke:none; fill-opacity:1\" cx=\"569.215\" cy=\"1007.71\" r=\"14\"/>\n",
       "<circle clip-path=\"url(#clip4602)\" style=\"fill:#009af9; stroke:none; fill-opacity:1\" cx=\"569.215\" cy=\"1007.71\" r=\"10\"/>\n",
       "<circle clip-path=\"url(#clip4602)\" style=\"fill:#000000; stroke:none; fill-opacity:1\" cx=\"607.776\" cy=\"1016.97\" r=\"14\"/>\n",
       "<circle clip-path=\"url(#clip4602)\" style=\"fill:#009af9; stroke:none; fill-opacity:1\" cx=\"607.776\" cy=\"1016.97\" r=\"10\"/>\n",
       "<circle clip-path=\"url(#clip4602)\" style=\"fill:#000000; stroke:none; fill-opacity:1\" cx=\"647.31\" cy=\"1020.08\" r=\"14\"/>\n",
       "<circle clip-path=\"url(#clip4602)\" style=\"fill:#009af9; stroke:none; fill-opacity:1\" cx=\"647.31\" cy=\"1020.08\" r=\"10\"/>\n",
       "<circle clip-path=\"url(#clip4602)\" style=\"fill:#000000; stroke:none; fill-opacity:1\" cx=\"686.845\" cy=\"1016.97\" r=\"14\"/>\n",
       "<circle clip-path=\"url(#clip4602)\" style=\"fill:#009af9; stroke:none; fill-opacity:1\" cx=\"686.845\" cy=\"1016.97\" r=\"10\"/>\n",
       "<circle clip-path=\"url(#clip4602)\" style=\"fill:#000000; stroke:none; fill-opacity:1\" cx=\"725.406\" cy=\"1007.71\" r=\"14\"/>\n",
       "<circle clip-path=\"url(#clip4602)\" style=\"fill:#009af9; stroke:none; fill-opacity:1\" cx=\"725.406\" cy=\"1007.71\" r=\"10\"/>\n",
       "<circle clip-path=\"url(#clip4602)\" style=\"fill:#000000; stroke:none; fill-opacity:1\" cx=\"762.044\" cy=\"992.537\" r=\"14\"/>\n",
       "<circle clip-path=\"url(#clip4602)\" style=\"fill:#009af9; stroke:none; fill-opacity:1\" cx=\"762.044\" cy=\"992.537\" r=\"10\"/>\n",
       "<circle clip-path=\"url(#clip4602)\" style=\"fill:#000000; stroke:none; fill-opacity:1\" cx=\"795.857\" cy=\"971.816\" r=\"14\"/>\n",
       "<circle clip-path=\"url(#clip4602)\" style=\"fill:#009af9; stroke:none; fill-opacity:1\" cx=\"795.857\" cy=\"971.816\" r=\"10\"/>\n",
       "<circle clip-path=\"url(#clip4602)\" style=\"fill:#000000; stroke:none; fill-opacity:1\" cx=\"826.012\" cy=\"946.061\" r=\"14\"/>\n",
       "<circle clip-path=\"url(#clip4602)\" style=\"fill:#009af9; stroke:none; fill-opacity:1\" cx=\"826.012\" cy=\"946.061\" r=\"10\"/>\n",
       "<circle clip-path=\"url(#clip4602)\" style=\"fill:#000000; stroke:none; fill-opacity:1\" cx=\"851.767\" cy=\"915.906\" r=\"14\"/>\n",
       "<circle clip-path=\"url(#clip4602)\" style=\"fill:#009af9; stroke:none; fill-opacity:1\" cx=\"851.767\" cy=\"915.906\" r=\"10\"/>\n",
       "<circle clip-path=\"url(#clip4602)\" style=\"fill:#000000; stroke:none; fill-opacity:1\" cx=\"872.488\" cy=\"882.093\" r=\"14\"/>\n",
       "<circle clip-path=\"url(#clip4602)\" style=\"fill:#009af9; stroke:none; fill-opacity:1\" cx=\"872.488\" cy=\"882.093\" r=\"10\"/>\n",
       "<circle clip-path=\"url(#clip4602)\" style=\"fill:#000000; stroke:none; fill-opacity:1\" cx=\"887.664\" cy=\"845.455\" r=\"14\"/>\n",
       "<circle clip-path=\"url(#clip4602)\" style=\"fill:#009af9; stroke:none; fill-opacity:1\" cx=\"887.664\" cy=\"845.455\" r=\"10\"/>\n",
       "<circle clip-path=\"url(#clip4602)\" style=\"fill:#000000; stroke:none; fill-opacity:1\" cx=\"896.922\" cy=\"806.894\" r=\"14\"/>\n",
       "<circle clip-path=\"url(#clip4602)\" style=\"fill:#009af9; stroke:none; fill-opacity:1\" cx=\"896.922\" cy=\"806.894\" r=\"10\"/>\n",
       "<circle clip-path=\"url(#clip4602)\" style=\"fill:#000000; stroke:none; fill-opacity:1\" cx=\"900.033\" cy=\"767.359\" r=\"14\"/>\n",
       "<circle clip-path=\"url(#clip4602)\" style=\"fill:#009af9; stroke:none; fill-opacity:1\" cx=\"900.033\" cy=\"767.359\" r=\"10\"/>\n",
       "<polygon clip-path=\"url(#clip4600)\" points=\"\n",
       "1341.86,1272.81 2352.76,1272.81 2352.76,261.914 1341.86,261.914 \n",
       "  \" fill=\"#ffffff\" fill-rule=\"evenodd\" fill-opacity=\"1\"/>\n",
       "<defs>\n",
       "  <clipPath id=\"clip4603\">\n",
       "    <rect x=\"1341\" y=\"261\" width=\"1012\" height=\"1012\"/>\n",
       "  </clipPath>\n",
       "</defs>\n",
       "<polyline clip-path=\"url(#clip4603)\" style=\"stroke:#000000; stroke-width:2; stroke-opacity:0.1; fill:none\" points=\"\n",
       "  1341.86,1272.81 1341.86,261.914 \n",
       "  \"/>\n",
       "<polyline clip-path=\"url(#clip4603)\" style=\"stroke:#000000; stroke-width:2; stroke-opacity:0.1; fill:none\" points=\"\n",
       "  1594.59,1272.81 1594.59,261.914 \n",
       "  \"/>\n",
       "<polyline clip-path=\"url(#clip4603)\" style=\"stroke:#000000; stroke-width:2; stroke-opacity:0.1; fill:none\" points=\"\n",
       "  1847.31,1272.81 1847.31,261.914 \n",
       "  \"/>\n",
       "<polyline clip-path=\"url(#clip4603)\" style=\"stroke:#000000; stroke-width:2; stroke-opacity:0.1; fill:none\" points=\"\n",
       "  2100.03,1272.81 2100.03,261.914 \n",
       "  \"/>\n",
       "<polyline clip-path=\"url(#clip4603)\" style=\"stroke:#000000; stroke-width:2; stroke-opacity:0.1; fill:none\" points=\"\n",
       "  2352.76,1272.81 2352.76,261.914 \n",
       "  \"/>\n",
       "<polyline clip-path=\"url(#clip4603)\" style=\"stroke:#000000; stroke-width:2; stroke-opacity:0.1; fill:none\" points=\"\n",
       "  1341.86,1272.81 2352.76,1272.81 \n",
       "  \"/>\n",
       "<polyline clip-path=\"url(#clip4603)\" style=\"stroke:#000000; stroke-width:2; stroke-opacity:0.1; fill:none\" points=\"\n",
       "  1341.86,1020.08 2352.76,1020.08 \n",
       "  \"/>\n",
       "<polyline clip-path=\"url(#clip4603)\" style=\"stroke:#000000; stroke-width:2; stroke-opacity:0.1; fill:none\" points=\"\n",
       "  1341.86,767.359 2352.76,767.359 \n",
       "  \"/>\n",
       "<polyline clip-path=\"url(#clip4603)\" style=\"stroke:#000000; stroke-width:2; stroke-opacity:0.1; fill:none\" points=\"\n",
       "  1341.86,514.637 2352.76,514.637 \n",
       "  \"/>\n",
       "<polyline clip-path=\"url(#clip4603)\" style=\"stroke:#000000; stroke-width:2; stroke-opacity:0.1; fill:none\" points=\"\n",
       "  1341.86,261.914 2352.76,261.914 \n",
       "  \"/>\n",
       "<polyline clip-path=\"url(#clip4600)\" style=\"stroke:#000000; stroke-width:4; stroke-opacity:1; fill:none\" points=\"\n",
       "  1341.86,1272.81 2352.76,1272.81 \n",
       "  \"/>\n",
       "<polyline clip-path=\"url(#clip4600)\" style=\"stroke:#000000; stroke-width:4; stroke-opacity:1; fill:none\" points=\"\n",
       "  1341.86,1272.81 1341.86,261.914 \n",
       "  \"/>\n",
       "<polyline clip-path=\"url(#clip4600)\" style=\"stroke:#000000; stroke-width:4; stroke-opacity:1; fill:none\" points=\"\n",
       "  1341.86,1272.81 1341.86,1257.64 \n",
       "  \"/>\n",
       "<polyline clip-path=\"url(#clip4600)\" style=\"stroke:#000000; stroke-width:4; stroke-opacity:1; fill:none\" points=\"\n",
       "  1594.59,1272.81 1594.59,1257.64 \n",
       "  \"/>\n",
       "<polyline clip-path=\"url(#clip4600)\" style=\"stroke:#000000; stroke-width:4; stroke-opacity:1; fill:none\" points=\"\n",
       "  1847.31,1272.81 1847.31,1257.64 \n",
       "  \"/>\n",
       "<polyline clip-path=\"url(#clip4600)\" style=\"stroke:#000000; stroke-width:4; stroke-opacity:1; fill:none\" points=\"\n",
       "  2100.03,1272.81 2100.03,1257.64 \n",
       "  \"/>\n",
       "<polyline clip-path=\"url(#clip4600)\" style=\"stroke:#000000; stroke-width:4; stroke-opacity:1; fill:none\" points=\"\n",
       "  2352.76,1272.81 2352.76,1257.64 \n",
       "  \"/>\n",
       "<polyline clip-path=\"url(#clip4600)\" style=\"stroke:#000000; stroke-width:4; stroke-opacity:1; fill:none\" points=\"\n",
       "  1341.86,1272.81 1357.03,1272.81 \n",
       "  \"/>\n",
       "<polyline clip-path=\"url(#clip4600)\" style=\"stroke:#000000; stroke-width:4; stroke-opacity:1; fill:none\" points=\"\n",
       "  1341.86,1020.08 1357.03,1020.08 \n",
       "  \"/>\n",
       "<polyline clip-path=\"url(#clip4600)\" style=\"stroke:#000000; stroke-width:4; stroke-opacity:1; fill:none\" points=\"\n",
       "  1341.86,767.359 1357.03,767.359 \n",
       "  \"/>\n",
       "<polyline clip-path=\"url(#clip4600)\" style=\"stroke:#000000; stroke-width:4; stroke-opacity:1; fill:none\" points=\"\n",
       "  1341.86,514.637 1357.03,514.637 \n",
       "  \"/>\n",
       "<polyline clip-path=\"url(#clip4600)\" style=\"stroke:#000000; stroke-width:4; stroke-opacity:1; fill:none\" points=\"\n",
       "  1341.86,261.914 1357.03,261.914 \n",
       "  \"/>\n",
       "<g clip-path=\"url(#clip4600)\">\n",
       "<text style=\"fill:#000000; fill-opacity:1; font-family:Arial,Helvetica Neue,Helvetica,sans-serif; font-size:48px; text-anchor:middle;\" transform=\"rotate(0, 1341.86, 1326.81)\" x=\"1341.86\" y=\"1326.81\">-2</text>\n",
       "</g>\n",
       "<g clip-path=\"url(#clip4600)\">\n",
       "<text style=\"fill:#000000; fill-opacity:1; font-family:Arial,Helvetica Neue,Helvetica,sans-serif; font-size:48px; text-anchor:middle;\" transform=\"rotate(0, 1594.59, 1326.81)\" x=\"1594.59\" y=\"1326.81\">-1</text>\n",
       "</g>\n",
       "<g clip-path=\"url(#clip4600)\">\n",
       "<text style=\"fill:#000000; fill-opacity:1; font-family:Arial,Helvetica Neue,Helvetica,sans-serif; font-size:48px; text-anchor:middle;\" transform=\"rotate(0, 1847.31, 1326.81)\" x=\"1847.31\" y=\"1326.81\">0</text>\n",
       "</g>\n",
       "<g clip-path=\"url(#clip4600)\">\n",
       "<text style=\"fill:#000000; fill-opacity:1; font-family:Arial,Helvetica Neue,Helvetica,sans-serif; font-size:48px; text-anchor:middle;\" transform=\"rotate(0, 2100.03, 1326.81)\" x=\"2100.03\" y=\"1326.81\">1</text>\n",
       "</g>\n",
       "<g clip-path=\"url(#clip4600)\">\n",
       "<text style=\"fill:#000000; fill-opacity:1; font-family:Arial,Helvetica Neue,Helvetica,sans-serif; font-size:48px; text-anchor:middle;\" transform=\"rotate(0, 2352.76, 1326.81)\" x=\"2352.76\" y=\"1326.81\">2</text>\n",
       "</g>\n",
       "<g clip-path=\"url(#clip4600)\">\n",
       "<text style=\"fill:#000000; fill-opacity:1; font-family:Arial,Helvetica Neue,Helvetica,sans-serif; font-size:48px; text-anchor:end;\" transform=\"rotate(0, 1317.86, 1290.31)\" x=\"1317.86\" y=\"1290.31\">-2</text>\n",
       "</g>\n",
       "<g clip-path=\"url(#clip4600)\">\n",
       "<text style=\"fill:#000000; fill-opacity:1; font-family:Arial,Helvetica Neue,Helvetica,sans-serif; font-size:48px; text-anchor:end;\" transform=\"rotate(0, 1317.86, 1037.58)\" x=\"1317.86\" y=\"1037.58\">-1</text>\n",
       "</g>\n",
       "<g clip-path=\"url(#clip4600)\">\n",
       "<text style=\"fill:#000000; fill-opacity:1; font-family:Arial,Helvetica Neue,Helvetica,sans-serif; font-size:48px; text-anchor:end;\" transform=\"rotate(0, 1317.86, 784.859)\" x=\"1317.86\" y=\"784.859\">0</text>\n",
       "</g>\n",
       "<g clip-path=\"url(#clip4600)\">\n",
       "<text style=\"fill:#000000; fill-opacity:1; font-family:Arial,Helvetica Neue,Helvetica,sans-serif; font-size:48px; text-anchor:end;\" transform=\"rotate(0, 1317.86, 532.137)\" x=\"1317.86\" y=\"532.137\">1</text>\n",
       "</g>\n",
       "<g clip-path=\"url(#clip4600)\">\n",
       "<text style=\"fill:#000000; fill-opacity:1; font-family:Arial,Helvetica Neue,Helvetica,sans-serif; font-size:48px; text-anchor:end;\" transform=\"rotate(0, 1317.86, 279.414)\" x=\"1317.86\" y=\"279.414\">2</text>\n",
       "</g>\n",
       "<polyline clip-path=\"url(#clip4603)\" style=\"stroke:#009af9; stroke-width:4; stroke-opacity:1; fill:none\" points=\"\n",
       "  2156.22,727.825 2204.81,689.264 2244.59,652.626 2274.59,618.813 2294.07,588.657 2302.54,562.902 2299.81,542.182 2285.94,527.006 2261.26,517.748 2226.39,514.637 \n",
       "  2182.19,517.748 2129.75,527.006 2070.34,542.182 2005.45,562.902 1936.66,588.657 1865.67,618.813 1794.23,652.626 1724.1,689.264 1657,727.825 1594.59,767.359 \n",
       "  1538.4,806.894 1489.81,845.455 1450.03,882.093 1420.03,915.906 1400.56,946.061 1392.08,971.816 1394.81,992.537 1408.68,1007.71 1433.36,1016.97 1468.23,1020.08 \n",
       "  1512.43,1016.97 1564.88,1007.71 1624.28,992.537 1689.17,971.816 1757.96,946.061 1828.95,915.906 1900.39,882.093 1970.52,845.455 2037.62,806.894 2100.03,767.359 \n",
       "  \n",
       "  \"/>\n",
       "<circle clip-path=\"url(#clip4603)\" style=\"fill:#000000; stroke:none; fill-opacity:1\" cx=\"2156.22\" cy=\"727.825\" r=\"14\"/>\n",
       "<circle clip-path=\"url(#clip4603)\" style=\"fill:#009af9; stroke:none; fill-opacity:1\" cx=\"2156.22\" cy=\"727.825\" r=\"10\"/>\n",
       "<circle clip-path=\"url(#clip4603)\" style=\"fill:#000000; stroke:none; fill-opacity:1\" cx=\"2204.81\" cy=\"689.264\" r=\"14\"/>\n",
       "<circle clip-path=\"url(#clip4603)\" style=\"fill:#009af9; stroke:none; fill-opacity:1\" cx=\"2204.81\" cy=\"689.264\" r=\"10\"/>\n",
       "<circle clip-path=\"url(#clip4603)\" style=\"fill:#000000; stroke:none; fill-opacity:1\" cx=\"2244.59\" cy=\"652.626\" r=\"14\"/>\n",
       "<circle clip-path=\"url(#clip4603)\" style=\"fill:#009af9; stroke:none; fill-opacity:1\" cx=\"2244.59\" cy=\"652.626\" r=\"10\"/>\n",
       "<circle clip-path=\"url(#clip4603)\" style=\"fill:#000000; stroke:none; fill-opacity:1\" cx=\"2274.59\" cy=\"618.813\" r=\"14\"/>\n",
       "<circle clip-path=\"url(#clip4603)\" style=\"fill:#009af9; stroke:none; fill-opacity:1\" cx=\"2274.59\" cy=\"618.813\" r=\"10\"/>\n",
       "<circle clip-path=\"url(#clip4603)\" style=\"fill:#000000; stroke:none; fill-opacity:1\" cx=\"2294.07\" cy=\"588.657\" r=\"14\"/>\n",
       "<circle clip-path=\"url(#clip4603)\" style=\"fill:#009af9; stroke:none; fill-opacity:1\" cx=\"2294.07\" cy=\"588.657\" r=\"10\"/>\n",
       "<circle clip-path=\"url(#clip4603)\" style=\"fill:#000000; stroke:none; fill-opacity:1\" cx=\"2302.54\" cy=\"562.902\" r=\"14\"/>\n",
       "<circle clip-path=\"url(#clip4603)\" style=\"fill:#009af9; stroke:none; fill-opacity:1\" cx=\"2302.54\" cy=\"562.902\" r=\"10\"/>\n",
       "<circle clip-path=\"url(#clip4603)\" style=\"fill:#000000; stroke:none; fill-opacity:1\" cx=\"2299.81\" cy=\"542.182\" r=\"14\"/>\n",
       "<circle clip-path=\"url(#clip4603)\" style=\"fill:#009af9; stroke:none; fill-opacity:1\" cx=\"2299.81\" cy=\"542.182\" r=\"10\"/>\n",
       "<circle clip-path=\"url(#clip4603)\" style=\"fill:#000000; stroke:none; fill-opacity:1\" cx=\"2285.94\" cy=\"527.006\" r=\"14\"/>\n",
       "<circle clip-path=\"url(#clip4603)\" style=\"fill:#009af9; stroke:none; fill-opacity:1\" cx=\"2285.94\" cy=\"527.006\" r=\"10\"/>\n",
       "<circle clip-path=\"url(#clip4603)\" style=\"fill:#000000; stroke:none; fill-opacity:1\" cx=\"2261.26\" cy=\"517.748\" r=\"14\"/>\n",
       "<circle clip-path=\"url(#clip4603)\" style=\"fill:#009af9; stroke:none; fill-opacity:1\" cx=\"2261.26\" cy=\"517.748\" r=\"10\"/>\n",
       "<circle clip-path=\"url(#clip4603)\" style=\"fill:#000000; stroke:none; fill-opacity:1\" cx=\"2226.39\" cy=\"514.637\" r=\"14\"/>\n",
       "<circle clip-path=\"url(#clip4603)\" style=\"fill:#009af9; stroke:none; fill-opacity:1\" cx=\"2226.39\" cy=\"514.637\" r=\"10\"/>\n",
       "<circle clip-path=\"url(#clip4603)\" style=\"fill:#000000; stroke:none; fill-opacity:1\" cx=\"2182.19\" cy=\"517.748\" r=\"14\"/>\n",
       "<circle clip-path=\"url(#clip4603)\" style=\"fill:#009af9; stroke:none; fill-opacity:1\" cx=\"2182.19\" cy=\"517.748\" r=\"10\"/>\n",
       "<circle clip-path=\"url(#clip4603)\" style=\"fill:#000000; stroke:none; fill-opacity:1\" cx=\"2129.75\" cy=\"527.006\" r=\"14\"/>\n",
       "<circle clip-path=\"url(#clip4603)\" style=\"fill:#009af9; stroke:none; fill-opacity:1\" cx=\"2129.75\" cy=\"527.006\" r=\"10\"/>\n",
       "<circle clip-path=\"url(#clip4603)\" style=\"fill:#000000; stroke:none; fill-opacity:1\" cx=\"2070.34\" cy=\"542.182\" r=\"14\"/>\n",
       "<circle clip-path=\"url(#clip4603)\" style=\"fill:#009af9; stroke:none; fill-opacity:1\" cx=\"2070.34\" cy=\"542.182\" r=\"10\"/>\n",
       "<circle clip-path=\"url(#clip4603)\" style=\"fill:#000000; stroke:none; fill-opacity:1\" cx=\"2005.45\" cy=\"562.902\" r=\"14\"/>\n",
       "<circle clip-path=\"url(#clip4603)\" style=\"fill:#009af9; stroke:none; fill-opacity:1\" cx=\"2005.45\" cy=\"562.902\" r=\"10\"/>\n",
       "<circle clip-path=\"url(#clip4603)\" style=\"fill:#000000; stroke:none; fill-opacity:1\" cx=\"1936.66\" cy=\"588.657\" r=\"14\"/>\n",
       "<circle clip-path=\"url(#clip4603)\" style=\"fill:#009af9; stroke:none; fill-opacity:1\" cx=\"1936.66\" cy=\"588.657\" r=\"10\"/>\n",
       "<circle clip-path=\"url(#clip4603)\" style=\"fill:#000000; stroke:none; fill-opacity:1\" cx=\"1865.67\" cy=\"618.813\" r=\"14\"/>\n",
       "<circle clip-path=\"url(#clip4603)\" style=\"fill:#009af9; stroke:none; fill-opacity:1\" cx=\"1865.67\" cy=\"618.813\" r=\"10\"/>\n",
       "<circle clip-path=\"url(#clip4603)\" style=\"fill:#000000; stroke:none; fill-opacity:1\" cx=\"1794.23\" cy=\"652.626\" r=\"14\"/>\n",
       "<circle clip-path=\"url(#clip4603)\" style=\"fill:#009af9; stroke:none; fill-opacity:1\" cx=\"1794.23\" cy=\"652.626\" r=\"10\"/>\n",
       "<circle clip-path=\"url(#clip4603)\" style=\"fill:#000000; stroke:none; fill-opacity:1\" cx=\"1724.1\" cy=\"689.264\" r=\"14\"/>\n",
       "<circle clip-path=\"url(#clip4603)\" style=\"fill:#009af9; stroke:none; fill-opacity:1\" cx=\"1724.1\" cy=\"689.264\" r=\"10\"/>\n",
       "<circle clip-path=\"url(#clip4603)\" style=\"fill:#000000; stroke:none; fill-opacity:1\" cx=\"1657\" cy=\"727.825\" r=\"14\"/>\n",
       "<circle clip-path=\"url(#clip4603)\" style=\"fill:#009af9; stroke:none; fill-opacity:1\" cx=\"1657\" cy=\"727.825\" r=\"10\"/>\n",
       "<circle clip-path=\"url(#clip4603)\" style=\"fill:#000000; stroke:none; fill-opacity:1\" cx=\"1594.59\" cy=\"767.359\" r=\"14\"/>\n",
       "<circle clip-path=\"url(#clip4603)\" style=\"fill:#009af9; stroke:none; fill-opacity:1\" cx=\"1594.59\" cy=\"767.359\" r=\"10\"/>\n",
       "<circle clip-path=\"url(#clip4603)\" style=\"fill:#000000; stroke:none; fill-opacity:1\" cx=\"1538.4\" cy=\"806.894\" r=\"14\"/>\n",
       "<circle clip-path=\"url(#clip4603)\" style=\"fill:#009af9; stroke:none; fill-opacity:1\" cx=\"1538.4\" cy=\"806.894\" r=\"10\"/>\n",
       "<circle clip-path=\"url(#clip4603)\" style=\"fill:#000000; stroke:none; fill-opacity:1\" cx=\"1489.81\" cy=\"845.455\" r=\"14\"/>\n",
       "<circle clip-path=\"url(#clip4603)\" style=\"fill:#009af9; stroke:none; fill-opacity:1\" cx=\"1489.81\" cy=\"845.455\" r=\"10\"/>\n",
       "<circle clip-path=\"url(#clip4603)\" style=\"fill:#000000; stroke:none; fill-opacity:1\" cx=\"1450.03\" cy=\"882.093\" r=\"14\"/>\n",
       "<circle clip-path=\"url(#clip4603)\" style=\"fill:#009af9; stroke:none; fill-opacity:1\" cx=\"1450.03\" cy=\"882.093\" r=\"10\"/>\n",
       "<circle clip-path=\"url(#clip4603)\" style=\"fill:#000000; stroke:none; fill-opacity:1\" cx=\"1420.03\" cy=\"915.906\" r=\"14\"/>\n",
       "<circle clip-path=\"url(#clip4603)\" style=\"fill:#009af9; stroke:none; fill-opacity:1\" cx=\"1420.03\" cy=\"915.906\" r=\"10\"/>\n",
       "<circle clip-path=\"url(#clip4603)\" style=\"fill:#000000; stroke:none; fill-opacity:1\" cx=\"1400.56\" cy=\"946.061\" r=\"14\"/>\n",
       "<circle clip-path=\"url(#clip4603)\" style=\"fill:#009af9; stroke:none; fill-opacity:1\" cx=\"1400.56\" cy=\"946.061\" r=\"10\"/>\n",
       "<circle clip-path=\"url(#clip4603)\" style=\"fill:#000000; stroke:none; fill-opacity:1\" cx=\"1392.08\" cy=\"971.816\" r=\"14\"/>\n",
       "<circle clip-path=\"url(#clip4603)\" style=\"fill:#009af9; stroke:none; fill-opacity:1\" cx=\"1392.08\" cy=\"971.816\" r=\"10\"/>\n",
       "<circle clip-path=\"url(#clip4603)\" style=\"fill:#000000; stroke:none; fill-opacity:1\" cx=\"1394.81\" cy=\"992.537\" r=\"14\"/>\n",
       "<circle clip-path=\"url(#clip4603)\" style=\"fill:#009af9; stroke:none; fill-opacity:1\" cx=\"1394.81\" cy=\"992.537\" r=\"10\"/>\n",
       "<circle clip-path=\"url(#clip4603)\" style=\"fill:#000000; stroke:none; fill-opacity:1\" cx=\"1408.68\" cy=\"1007.71\" r=\"14\"/>\n",
       "<circle clip-path=\"url(#clip4603)\" style=\"fill:#009af9; stroke:none; fill-opacity:1\" cx=\"1408.68\" cy=\"1007.71\" r=\"10\"/>\n",
       "<circle clip-path=\"url(#clip4603)\" style=\"fill:#000000; stroke:none; fill-opacity:1\" cx=\"1433.36\" cy=\"1016.97\" r=\"14\"/>\n",
       "<circle clip-path=\"url(#clip4603)\" style=\"fill:#009af9; stroke:none; fill-opacity:1\" cx=\"1433.36\" cy=\"1016.97\" r=\"10\"/>\n",
       "<circle clip-path=\"url(#clip4603)\" style=\"fill:#000000; stroke:none; fill-opacity:1\" cx=\"1468.23\" cy=\"1020.08\" r=\"14\"/>\n",
       "<circle clip-path=\"url(#clip4603)\" style=\"fill:#009af9; stroke:none; fill-opacity:1\" cx=\"1468.23\" cy=\"1020.08\" r=\"10\"/>\n",
       "<circle clip-path=\"url(#clip4603)\" style=\"fill:#000000; stroke:none; fill-opacity:1\" cx=\"1512.43\" cy=\"1016.97\" r=\"14\"/>\n",
       "<circle clip-path=\"url(#clip4603)\" style=\"fill:#009af9; stroke:none; fill-opacity:1\" cx=\"1512.43\" cy=\"1016.97\" r=\"10\"/>\n",
       "<circle clip-path=\"url(#clip4603)\" style=\"fill:#000000; stroke:none; fill-opacity:1\" cx=\"1564.88\" cy=\"1007.71\" r=\"14\"/>\n",
       "<circle clip-path=\"url(#clip4603)\" style=\"fill:#009af9; stroke:none; fill-opacity:1\" cx=\"1564.88\" cy=\"1007.71\" r=\"10\"/>\n",
       "<circle clip-path=\"url(#clip4603)\" style=\"fill:#000000; stroke:none; fill-opacity:1\" cx=\"1624.28\" cy=\"992.537\" r=\"14\"/>\n",
       "<circle clip-path=\"url(#clip4603)\" style=\"fill:#009af9; stroke:none; fill-opacity:1\" cx=\"1624.28\" cy=\"992.537\" r=\"10\"/>\n",
       "<circle clip-path=\"url(#clip4603)\" style=\"fill:#000000; stroke:none; fill-opacity:1\" cx=\"1689.17\" cy=\"971.816\" r=\"14\"/>\n",
       "<circle clip-path=\"url(#clip4603)\" style=\"fill:#009af9; stroke:none; fill-opacity:1\" cx=\"1689.17\" cy=\"971.816\" r=\"10\"/>\n",
       "<circle clip-path=\"url(#clip4603)\" style=\"fill:#000000; stroke:none; fill-opacity:1\" cx=\"1757.96\" cy=\"946.061\" r=\"14\"/>\n",
       "<circle clip-path=\"url(#clip4603)\" style=\"fill:#009af9; stroke:none; fill-opacity:1\" cx=\"1757.96\" cy=\"946.061\" r=\"10\"/>\n",
       "<circle clip-path=\"url(#clip4603)\" style=\"fill:#000000; stroke:none; fill-opacity:1\" cx=\"1828.95\" cy=\"915.906\" r=\"14\"/>\n",
       "<circle clip-path=\"url(#clip4603)\" style=\"fill:#009af9; stroke:none; fill-opacity:1\" cx=\"1828.95\" cy=\"915.906\" r=\"10\"/>\n",
       "<circle clip-path=\"url(#clip4603)\" style=\"fill:#000000; stroke:none; fill-opacity:1\" cx=\"1900.39\" cy=\"882.093\" r=\"14\"/>\n",
       "<circle clip-path=\"url(#clip4603)\" style=\"fill:#009af9; stroke:none; fill-opacity:1\" cx=\"1900.39\" cy=\"882.093\" r=\"10\"/>\n",
       "<circle clip-path=\"url(#clip4603)\" style=\"fill:#000000; stroke:none; fill-opacity:1\" cx=\"1970.52\" cy=\"845.455\" r=\"14\"/>\n",
       "<circle clip-path=\"url(#clip4603)\" style=\"fill:#009af9; stroke:none; fill-opacity:1\" cx=\"1970.52\" cy=\"845.455\" r=\"10\"/>\n",
       "<circle clip-path=\"url(#clip4603)\" style=\"fill:#000000; stroke:none; fill-opacity:1\" cx=\"2037.62\" cy=\"806.894\" r=\"14\"/>\n",
       "<circle clip-path=\"url(#clip4603)\" style=\"fill:#009af9; stroke:none; fill-opacity:1\" cx=\"2037.62\" cy=\"806.894\" r=\"10\"/>\n",
       "<circle clip-path=\"url(#clip4603)\" style=\"fill:#000000; stroke:none; fill-opacity:1\" cx=\"2100.03\" cy=\"767.359\" r=\"14\"/>\n",
       "<circle clip-path=\"url(#clip4603)\" style=\"fill:#009af9; stroke:none; fill-opacity:1\" cx=\"2100.03\" cy=\"767.359\" r=\"10\"/>\n",
       "</svg>\n"
      ]
     },
     "execution_count": 272,
     "metadata": {},
     "output_type": "execute_result"
    }
   ],
   "source": [
    "p1 = plot(1, xlim=(-2,2), ylim=(-2,2), marker = 3, aspect_ratio = :equal)\n",
    "p2 = plot(1, xlim=(-2,2), ylim=(-2,2), marker = 3, aspect_ratio = :equal)\n",
    "\n",
    "for k = 1:40\n",
    "    \n",
    "    θ = 2*pi*k/40\n",
    "    λ = 1.5\n",
    "    \n",
    "    u = R(θ) * [1; 0]\n",
    "    v = S(λ) * u \n",
    "     \n",
    "    push!(p1, u[1], u[2])\n",
    "    push!(p2, v[1], v[2])\n",
    "    \n",
    "end \n",
    "\n",
    "plot(p1,p2,layout=(1,2),legend=false)"
   ]
  },
  {
   "cell_type": "markdown",
   "metadata": {},
   "source": [
    "Notice that in the above code, functions \"act\" on objects and are not \"properties\" of the objects. I.e., rather than having ```obj.method(a, b)```, we have ```method(obj, a, b)```."
   ]
  },
  {
   "cell_type": "markdown",
   "metadata": {},
   "source": [
    "The $L^p$ norm of a vector $\\mathbf{x} \\in \\mathbf{R}^n$ is given by \n",
    "\\begin{equation}\n",
    "    ||\\mathbf{x}||_p = (x_1^p + x_2^p + \\dots + x_n^p)^{1/p}\n",
    "\\end{equation}\n",
    "\n",
    "Let $n = 2$. \n",
    "Exercise: Complete the the following code to plot the $x,y$ pairs corresponding to $||\\mathbf{x}||_p = 1$ for various $p$."
   ]
  },
  {
   "cell_type": "code",
   "execution_count": 273,
   "metadata": {},
   "outputs": [
    {
     "data": {
      "image/svg+xml": [
       "<?xml version=\"1.0\" encoding=\"utf-8\"?>\n",
       "<svg xmlns=\"http://www.w3.org/2000/svg\" xmlns:xlink=\"http://www.w3.org/1999/xlink\" width=\"500\" height=\"500\" viewBox=\"0 0 2000 2000\">\n",
       "<defs>\n",
       "  <clipPath id=\"clip5000\">\n",
       "    <rect x=\"0\" y=\"0\" width=\"2000\" height=\"2000\"/>\n",
       "  </clipPath>\n",
       "</defs>\n",
       "<polygon clip-path=\"url(#clip5000)\" points=\"\n",
       "0,2000 2000,2000 2000,0 0,0 \n",
       "  \" fill=\"#ffffff\" fill-rule=\"evenodd\" fill-opacity=\"1\"/>\n",
       "<defs>\n",
       "  <clipPath id=\"clip5001\">\n",
       "    <rect x=\"400\" y=\"200\" width=\"1401\" height=\"1401\"/>\n",
       "  </clipPath>\n",
       "</defs>\n",
       "<polygon clip-path=\"url(#clip5000)\" points=\"\n",
       "242.516,1620.53 1952.76,1620.53 1952.76,252.336 242.516,252.336 \n",
       "  \" fill=\"#ffffff\" fill-rule=\"evenodd\" fill-opacity=\"1\"/>\n",
       "<defs>\n",
       "  <clipPath id=\"clip5002\">\n",
       "    <rect x=\"242\" y=\"252\" width=\"1711\" height=\"1369\"/>\n",
       "  </clipPath>\n",
       "</defs>\n",
       "<polyline clip-path=\"url(#clip5002)\" style=\"stroke:#000000; stroke-width:2; stroke-opacity:0.1; fill:none\" points=\"\n",
       "  242.516,1620.53 242.516,252.336 \n",
       "  \"/>\n",
       "<polyline clip-path=\"url(#clip5002)\" style=\"stroke:#000000; stroke-width:2; stroke-opacity:0.1; fill:none\" points=\"\n",
       "  812.596,1620.53 812.596,252.336 \n",
       "  \"/>\n",
       "<polyline clip-path=\"url(#clip5002)\" style=\"stroke:#000000; stroke-width:2; stroke-opacity:0.1; fill:none\" points=\"\n",
       "  1382.68,1620.53 1382.68,252.336 \n",
       "  \"/>\n",
       "<polyline clip-path=\"url(#clip5002)\" style=\"stroke:#000000; stroke-width:2; stroke-opacity:0.1; fill:none\" points=\"\n",
       "  1952.76,1620.53 1952.76,252.336 \n",
       "  \"/>\n",
       "<polyline clip-path=\"url(#clip5002)\" style=\"stroke:#000000; stroke-width:2; stroke-opacity:0.1; fill:none\" points=\"\n",
       "  242.516,1620.53 1952.76,1620.53 \n",
       "  \"/>\n",
       "<polyline clip-path=\"url(#clip5002)\" style=\"stroke:#000000; stroke-width:2; stroke-opacity:0.1; fill:none\" points=\"\n",
       "  242.516,1335.49 1952.76,1335.49 \n",
       "  \"/>\n",
       "<polyline clip-path=\"url(#clip5002)\" style=\"stroke:#000000; stroke-width:2; stroke-opacity:0.1; fill:none\" points=\"\n",
       "  242.516,1050.45 1952.76,1050.45 \n",
       "  \"/>\n",
       "<polyline clip-path=\"url(#clip5002)\" style=\"stroke:#000000; stroke-width:2; stroke-opacity:0.1; fill:none\" points=\"\n",
       "  242.516,765.407 1952.76,765.407 \n",
       "  \"/>\n",
       "<polyline clip-path=\"url(#clip5002)\" style=\"stroke:#000000; stroke-width:2; stroke-opacity:0.1; fill:none\" points=\"\n",
       "  242.516,480.367 1952.76,480.367 \n",
       "  \"/>\n",
       "<polyline clip-path=\"url(#clip5000)\" style=\"stroke:#000000; stroke-width:4; stroke-opacity:1; fill:none\" points=\"\n",
       "  242.516,1620.53 1952.76,1620.53 \n",
       "  \"/>\n",
       "<polyline clip-path=\"url(#clip5000)\" style=\"stroke:#000000; stroke-width:4; stroke-opacity:1; fill:none\" points=\"\n",
       "  242.516,1620.53 242.516,252.336 \n",
       "  \"/>\n",
       "<polyline clip-path=\"url(#clip5000)\" style=\"stroke:#000000; stroke-width:4; stroke-opacity:1; fill:none\" points=\"\n",
       "  242.516,1620.53 242.516,1600 \n",
       "  \"/>\n",
       "<polyline clip-path=\"url(#clip5000)\" style=\"stroke:#000000; stroke-width:4; stroke-opacity:1; fill:none\" points=\"\n",
       "  812.596,1620.53 812.596,1600 \n",
       "  \"/>\n",
       "<polyline clip-path=\"url(#clip5000)\" style=\"stroke:#000000; stroke-width:4; stroke-opacity:1; fill:none\" points=\"\n",
       "  1382.68,1620.53 1382.68,1600 \n",
       "  \"/>\n",
       "<polyline clip-path=\"url(#clip5000)\" style=\"stroke:#000000; stroke-width:4; stroke-opacity:1; fill:none\" points=\"\n",
       "  1952.76,1620.53 1952.76,1600 \n",
       "  \"/>\n",
       "<polyline clip-path=\"url(#clip5000)\" style=\"stroke:#000000; stroke-width:4; stroke-opacity:1; fill:none\" points=\"\n",
       "  242.516,1620.53 268.17,1620.53 \n",
       "  \"/>\n",
       "<polyline clip-path=\"url(#clip5000)\" style=\"stroke:#000000; stroke-width:4; stroke-opacity:1; fill:none\" points=\"\n",
       "  242.516,1335.49 268.17,1335.49 \n",
       "  \"/>\n",
       "<polyline clip-path=\"url(#clip5000)\" style=\"stroke:#000000; stroke-width:4; stroke-opacity:1; fill:none\" points=\"\n",
       "  242.516,1050.45 268.17,1050.45 \n",
       "  \"/>\n",
       "<polyline clip-path=\"url(#clip5000)\" style=\"stroke:#000000; stroke-width:4; stroke-opacity:1; fill:none\" points=\"\n",
       "  242.516,765.407 268.17,765.407 \n",
       "  \"/>\n",
       "<polyline clip-path=\"url(#clip5000)\" style=\"stroke:#000000; stroke-width:4; stroke-opacity:1; fill:none\" points=\"\n",
       "  242.516,480.367 268.17,480.367 \n",
       "  \"/>\n",
       "<g clip-path=\"url(#clip5000)\">\n",
       "<text style=\"fill:#000000; fill-opacity:1; font-family:Arial,Helvetica Neue,Helvetica,sans-serif; font-size:48px; text-anchor:middle;\" transform=\"rotate(0, 242.516, 1672.53)\" x=\"242.516\" y=\"1672.53\">0.0</text>\n",
       "</g>\n",
       "<g clip-path=\"url(#clip5000)\">\n",
       "<text style=\"fill:#000000; fill-opacity:1; font-family:Arial,Helvetica Neue,Helvetica,sans-serif; font-size:48px; text-anchor:middle;\" transform=\"rotate(0, 812.596, 1672.53)\" x=\"812.596\" y=\"1672.53\">0.5</text>\n",
       "</g>\n",
       "<g clip-path=\"url(#clip5000)\">\n",
       "<text style=\"fill:#000000; fill-opacity:1; font-family:Arial,Helvetica Neue,Helvetica,sans-serif; font-size:48px; text-anchor:middle;\" transform=\"rotate(0, 1382.68, 1672.53)\" x=\"1382.68\" y=\"1672.53\">1.0</text>\n",
       "</g>\n",
       "<g clip-path=\"url(#clip5000)\">\n",
       "<text style=\"fill:#000000; fill-opacity:1; font-family:Arial,Helvetica Neue,Helvetica,sans-serif; font-size:48px; text-anchor:middle;\" transform=\"rotate(0, 1952.76, 1672.53)\" x=\"1952.76\" y=\"1672.53\">1.5</text>\n",
       "</g>\n",
       "<g clip-path=\"url(#clip5000)\">\n",
       "<text style=\"fill:#000000; fill-opacity:1; font-family:Arial,Helvetica Neue,Helvetica,sans-serif; font-size:48px; text-anchor:end;\" transform=\"rotate(0, 222.516, 1638.03)\" x=\"222.516\" y=\"1638.03\">0.00</text>\n",
       "</g>\n",
       "<g clip-path=\"url(#clip5000)\">\n",
       "<text style=\"fill:#000000; fill-opacity:1; font-family:Arial,Helvetica Neue,Helvetica,sans-serif; font-size:48px; text-anchor:end;\" transform=\"rotate(0, 222.516, 1352.99)\" x=\"222.516\" y=\"1352.99\">0.25</text>\n",
       "</g>\n",
       "<g clip-path=\"url(#clip5000)\">\n",
       "<text style=\"fill:#000000; fill-opacity:1; font-family:Arial,Helvetica Neue,Helvetica,sans-serif; font-size:48px; text-anchor:end;\" transform=\"rotate(0, 222.516, 1067.95)\" x=\"222.516\" y=\"1067.95\">0.50</text>\n",
       "</g>\n",
       "<g clip-path=\"url(#clip5000)\">\n",
       "<text style=\"fill:#000000; fill-opacity:1; font-family:Arial,Helvetica Neue,Helvetica,sans-serif; font-size:48px; text-anchor:end;\" transform=\"rotate(0, 222.516, 782.907)\" x=\"222.516\" y=\"782.907\">0.75</text>\n",
       "</g>\n",
       "<g clip-path=\"url(#clip5000)\">\n",
       "<text style=\"fill:#000000; fill-opacity:1; font-family:Arial,Helvetica Neue,Helvetica,sans-serif; font-size:48px; text-anchor:end;\" transform=\"rotate(0, 222.516, 497.867)\" x=\"222.516\" y=\"497.867\">1.00</text>\n",
       "</g>\n",
       "<g clip-path=\"url(#clip5000)\">\n",
       "<text style=\"fill:#000000; fill-opacity:1; font-family:Arial,Helvetica Neue,Helvetica,sans-serif; font-size:66px; text-anchor:middle;\" transform=\"rotate(0, 1097.64, 1750.39)\" x=\"1097.64\" y=\"1750.39\">x</text>\n",
       "</g>\n",
       "<g clip-path=\"url(#clip5000)\">\n",
       "<text style=\"fill:#000000; fill-opacity:1; font-family:Arial,Helvetica Neue,Helvetica,sans-serif; font-size:66px; text-anchor:middle;\" transform=\"rotate(-90, 97.2861, 936.431)\" x=\"97.2861\" y=\"936.431\">y</text>\n",
       "</g>\n",
       "<polyline clip-path=\"url(#clip5002)\" style=\"stroke:#009af9; stroke-width:8; stroke-opacity:1; fill:none\" points=\"\n",
       "  242.516,480.367 243.658,1352.19 244.799,1412.78 245.94,1446.02 247.082,1468.32 248.223,1484.78 249.364,1497.64 250.506,1508.06 251.647,1516.75 252.788,1524.14 \n",
       "  253.929,1530.52 255.071,1536.11 256.212,1541.05 257.353,1545.46 258.495,1549.42 259.636,1553.01 260.777,1556.28 261.919,1559.27 263.06,1562.02 264.201,1564.55 \n",
       "  265.342,1566.9 266.484,1569.08 267.625,1571.11 268.766,1573.01 269.908,1574.79 271.049,1576.45 272.19,1578.02 273.332,1579.5 274.473,1580.89 275.614,1582.21 \n",
       "  276.755,1583.46 277.897,1584.65 279.038,1585.77 280.179,1586.84 281.321,1587.86 282.462,1588.83 283.603,1589.76 284.745,1590.64 285.886,1591.49 287.027,1592.3 \n",
       "  288.168,1593.08 289.31,1593.82 290.451,1594.53 291.592,1595.22 292.734,1595.88 293.875,1596.51 295.016,1597.12 296.158,1597.71 297.299,1598.27 298.44,1598.82 \n",
       "  299.581,1599.35 300.723,1599.85 301.864,1600.34 303.005,1600.82 304.147,1601.27 305.288,1601.72 306.429,1602.14 307.571,1602.56 308.712,1602.96 309.853,1603.35 \n",
       "  310.994,1603.73 312.136,1604.09 313.277,1604.44 314.418,1604.79 315.56,1605.12 316.701,1605.45 317.842,1605.76 318.984,1606.07 320.125,1606.36 321.266,1606.65 \n",
       "  322.407,1606.93 323.549,1607.21 324.69,1607.47 325.831,1607.73 326.973,1607.98 328.114,1608.23 329.255,1608.46 330.397,1608.7 331.538,1608.92 332.679,1609.14 \n",
       "  333.821,1609.36 334.962,1609.57 336.103,1609.77 337.244,1609.97 338.386,1610.17 339.527,1610.36 340.668,1610.54 341.81,1610.73 342.951,1610.9 344.092,1611.07 \n",
       "  345.234,1611.24 346.375,1611.41 347.516,1611.57 348.657,1611.73 349.799,1611.88 350.94,1612.03 352.081,1612.18 353.223,1612.32 354.364,1612.46 355.505,1612.6 \n",
       "  356.647,1612.74 357.788,1612.87 358.929,1613 360.07,1613.12 361.212,1613.25 362.353,1613.37 363.494,1613.49 364.636,1613.6 365.777,1613.72 366.918,1613.83 \n",
       "  368.06,1613.94 369.201,1614.04 370.342,1614.15 371.483,1614.25 372.625,1614.35 373.766,1614.45 374.907,1614.55 376.049,1614.64 377.19,1614.73 378.331,1614.83 \n",
       "  379.473,1614.92 380.614,1615 381.755,1615.09 382.896,1615.17 384.038,1615.26 385.179,1615.34 386.32,1615.42 387.462,1615.5 388.603,1615.57 389.744,1615.65 \n",
       "  390.886,1615.72 392.027,1615.8 393.168,1615.87 394.309,1615.94 395.451,1616.01 396.592,1616.07 397.733,1616.14 398.875,1616.2 400.016,1616.27 401.157,1616.33 \n",
       "  402.299,1616.39 403.44,1616.45 404.581,1616.51 405.722,1616.57 406.864,1616.63 408.005,1616.69 409.146,1616.74 410.288,1616.8 411.429,1616.85 412.57,1616.9 \n",
       "  413.712,1616.96 414.853,1617.01 415.994,1617.06 417.135,1617.11 418.277,1617.16 419.418,1617.2 420.559,1617.25 421.701,1617.3 422.842,1617.34 423.983,1617.39 \n",
       "  425.125,1617.43 426.266,1617.48 427.407,1617.52 428.548,1617.56 429.69,1617.6 430.831,1617.64 431.972,1617.68 433.114,1617.72 434.255,1617.76 435.396,1617.8 \n",
       "  436.538,1617.84 437.679,1617.87 438.82,1617.91 439.961,1617.95 441.103,1617.98 442.244,1618.02 443.385,1618.05 444.527,1618.08 445.668,1618.12 446.809,1618.15 \n",
       "  447.951,1618.18 449.092,1618.21 450.233,1618.24 451.374,1618.27 452.516,1618.3 453.657,1618.33 454.798,1618.36 455.94,1618.39 457.081,1618.42 458.222,1618.45 \n",
       "  459.364,1618.48 460.505,1618.5 461.646,1618.53 462.788,1618.56 463.929,1618.58 465.07,1618.61 466.211,1618.63 467.353,1618.66 468.494,1618.68 469.635,1618.71 \n",
       "  470.777,1618.73 471.918,1618.75 473.059,1618.78 474.201,1618.8 475.342,1618.82 476.483,1618.85 477.624,1618.87 478.766,1618.89 479.907,1618.91 481.048,1618.93 \n",
       "  482.19,1618.95 483.331,1618.97 484.472,1618.99 485.614,1619.01 486.755,1619.03 487.896,1619.05 489.037,1619.07 490.179,1619.09 491.32,1619.11 492.461,1619.13 \n",
       "  493.603,1619.14 494.744,1619.16 495.885,1619.18 497.027,1619.2 498.168,1619.21 499.309,1619.23 500.45,1619.25 501.592,1619.26 502.733,1619.28 503.874,1619.29 \n",
       "  505.016,1619.31 506.157,1619.32 507.298,1619.34 508.44,1619.35 509.581,1619.37 510.722,1619.38 511.863,1619.4 513.005,1619.41 514.146,1619.43 515.287,1619.44 \n",
       "  516.429,1619.45 517.57,1619.47 518.711,1619.48 519.853,1619.49 520.994,1619.51 522.135,1619.52 523.276,1619.53 524.418,1619.54 525.559,1619.56 526.7,1619.57 \n",
       "  527.842,1619.58 528.983,1619.59 530.124,1619.6 531.266,1619.62 532.407,1619.63 533.548,1619.64 534.689,1619.65 535.831,1619.66 536.972,1619.67 538.113,1619.68 \n",
       "  539.255,1619.69 540.396,1619.7 541.537,1619.71 542.679,1619.72 543.82,1619.73 544.961,1619.74 546.102,1619.75 547.244,1619.76 548.385,1619.77 549.526,1619.78 \n",
       "  550.668,1619.79 551.809,1619.8 552.95,1619.81 554.092,1619.82 555.233,1619.83 556.374,1619.83 557.515,1619.84 558.657,1619.85 559.798,1619.86 560.939,1619.87 \n",
       "  562.081,1619.88 563.222,1619.88 564.363,1619.89 565.505,1619.9 566.646,1619.91 567.787,1619.91 568.928,1619.92 570.07,1619.93 571.211,1619.94 572.352,1619.94 \n",
       "  573.494,1619.95 574.635,1619.96 575.776,1619.96 576.918,1619.97 578.059,1619.98 579.2,1619.99 580.342,1619.99 581.483,1620 582.624,1620 583.765,1620.01 \n",
       "  584.907,1620.02 586.048,1620.02 587.189,1620.03 588.331,1620.04 589.472,1620.04 590.613,1620.05 591.755,1620.05 592.896,1620.06 594.037,1620.06 595.178,1620.07 \n",
       "  596.32,1620.08 597.461,1620.08 598.602,1620.09 599.744,1620.09 600.885,1620.1 602.026,1620.1 603.168,1620.11 604.309,1620.11 605.45,1620.12 606.591,1620.12 \n",
       "  607.733,1620.13 608.874,1620.13 610.015,1620.14 611.157,1620.14 612.298,1620.15 613.439,1620.15 614.581,1620.16 615.722,1620.16 616.863,1620.17 618.004,1620.17 \n",
       "  619.146,1620.17 620.287,1620.18 621.428,1620.18 622.57,1620.19 623.711,1620.19 624.852,1620.19 625.994,1620.2 627.135,1620.2 628.276,1620.21 629.417,1620.21 \n",
       "  630.559,1620.21 631.7,1620.22 632.841,1620.22 633.983,1620.23 635.124,1620.23 636.265,1620.23 637.407,1620.24 638.548,1620.24 639.689,1620.24 640.83,1620.25 \n",
       "  641.972,1620.25 643.113,1620.25 644.254,1620.26 645.396,1620.26 646.537,1620.26 647.678,1620.27 648.82,1620.27 649.961,1620.27 651.102,1620.28 652.243,1620.28 \n",
       "  653.385,1620.28 654.526,1620.29 655.667,1620.29 656.809,1620.29 657.95,1620.29 659.091,1620.3 660.233,1620.3 661.374,1620.3 662.515,1620.31 663.656,1620.31 \n",
       "  664.798,1620.31 665.939,1620.31 667.08,1620.32 668.222,1620.32 669.363,1620.32 670.504,1620.32 671.646,1620.33 672.787,1620.33 673.928,1620.33 675.069,1620.33 \n",
       "  676.211,1620.34 677.352,1620.34 678.493,1620.34 679.635,1620.34 680.776,1620.35 681.917,1620.35 683.059,1620.35 684.2,1620.35 685.341,1620.35 686.482,1620.36 \n",
       "  687.624,1620.36 688.765,1620.36 689.906,1620.36 691.048,1620.36 692.189,1620.37 693.33,1620.37 694.472,1620.37 695.613,1620.37 696.754,1620.37 697.896,1620.38 \n",
       "  699.037,1620.38 700.178,1620.38 701.319,1620.38 702.461,1620.38 703.602,1620.39 704.743,1620.39 705.885,1620.39 707.026,1620.39 708.167,1620.39 709.309,1620.39 \n",
       "  710.45,1620.4 711.591,1620.4 712.732,1620.4 713.874,1620.4 715.015,1620.4 716.156,1620.4 717.298,1620.4 718.439,1620.41 719.58,1620.41 720.722,1620.41 \n",
       "  721.863,1620.41 723.004,1620.41 724.145,1620.41 725.287,1620.42 726.428,1620.42 727.569,1620.42 728.711,1620.42 729.852,1620.42 730.993,1620.42 732.135,1620.42 \n",
       "  733.276,1620.42 734.417,1620.43 735.558,1620.43 736.7,1620.43 737.841,1620.43 738.982,1620.43 740.124,1620.43 741.265,1620.43 742.406,1620.43 743.548,1620.44 \n",
       "  744.689,1620.44 745.83,1620.44 746.971,1620.44 748.113,1620.44 749.254,1620.44 750.395,1620.44 751.537,1620.44 752.678,1620.44 753.819,1620.45 754.961,1620.45 \n",
       "  756.102,1620.45 757.243,1620.45 758.384,1620.45 759.526,1620.45 760.667,1620.45 761.808,1620.45 762.95,1620.45 764.091,1620.45 765.232,1620.46 766.374,1620.46 \n",
       "  767.515,1620.46 768.656,1620.46 769.797,1620.46 770.939,1620.46 772.08,1620.46 773.221,1620.46 774.363,1620.46 775.504,1620.46 776.645,1620.46 777.787,1620.47 \n",
       "  778.928,1620.47 780.069,1620.47 781.21,1620.47 782.352,1620.47 783.493,1620.47 784.634,1620.47 785.776,1620.47 786.917,1620.47 788.058,1620.47 789.2,1620.47 \n",
       "  790.341,1620.47 791.482,1620.47 792.623,1620.47 793.765,1620.48 794.906,1620.48 796.047,1620.48 797.189,1620.48 798.33,1620.48 799.471,1620.48 800.613,1620.48 \n",
       "  801.754,1620.48 802.895,1620.48 804.036,1620.48 805.178,1620.48 806.319,1620.48 807.46,1620.48 808.602,1620.48 809.743,1620.48 810.884,1620.48 812.026,1620.49 \n",
       "  813.167,1620.49 814.308,1620.49 815.45,1620.49 816.591,1620.49 817.732,1620.49 818.873,1620.49 820.015,1620.49 821.156,1620.49 822.297,1620.49 823.439,1620.49 \n",
       "  824.58,1620.49 825.721,1620.49 826.863,1620.49 828.004,1620.49 829.145,1620.49 830.286,1620.49 831.428,1620.49 832.569,1620.49 833.71,1620.49 834.852,1620.5 \n",
       "  835.993,1620.5 837.134,1620.5 838.276,1620.5 839.417,1620.5 840.558,1620.5 841.699,1620.5 842.841,1620.5 843.982,1620.5 845.123,1620.5 846.265,1620.5 \n",
       "  847.406,1620.5 848.547,1620.5 849.689,1620.5 850.83,1620.5 851.971,1620.5 853.112,1620.5 854.254,1620.5 855.395,1620.5 856.536,1620.5 857.678,1620.5 \n",
       "  858.819,1620.5 859.96,1620.5 861.102,1620.5 862.243,1620.5 863.384,1620.5 864.525,1620.51 865.667,1620.51 866.808,1620.51 867.949,1620.51 869.091,1620.51 \n",
       "  870.232,1620.51 871.373,1620.51 872.515,1620.51 873.656,1620.51 874.797,1620.51 875.938,1620.51 877.08,1620.51 878.221,1620.51 879.362,1620.51 880.504,1620.51 \n",
       "  881.645,1620.51 882.786,1620.51 883.928,1620.51 885.069,1620.51 886.21,1620.51 887.351,1620.51 888.493,1620.51 889.634,1620.51 890.775,1620.51 891.917,1620.51 \n",
       "  893.058,1620.51 894.199,1620.51 895.341,1620.51 896.482,1620.51 897.623,1620.51 898.764,1620.51 899.906,1620.51 901.047,1620.51 902.188,1620.51 903.33,1620.51 \n",
       "  904.471,1620.51 905.612,1620.51 906.754,1620.51 907.895,1620.51 909.036,1620.51 910.177,1620.51 911.319,1620.52 912.46,1620.52 913.601,1620.52 914.743,1620.52 \n",
       "  915.884,1620.52 917.025,1620.52 918.167,1620.52 919.308,1620.52 920.449,1620.52 921.59,1620.52 922.732,1620.52 923.873,1620.52 925.014,1620.52 926.156,1620.52 \n",
       "  927.297,1620.52 928.438,1620.52 929.58,1620.52 930.721,1620.52 931.862,1620.52 933.004,1620.52 934.145,1620.52 935.286,1620.52 936.427,1620.52 937.569,1620.52 \n",
       "  938.71,1620.52 939.851,1620.52 940.993,1620.52 942.134,1620.52 943.275,1620.52 944.417,1620.52 945.558,1620.52 946.699,1620.52 947.84,1620.52 948.982,1620.52 \n",
       "  950.123,1620.52 951.264,1620.52 952.406,1620.52 953.547,1620.52 954.688,1620.52 955.83,1620.52 956.971,1620.52 958.112,1620.52 959.253,1620.52 960.395,1620.52 \n",
       "  961.536,1620.52 962.677,1620.52 963.819,1620.52 964.96,1620.52 966.101,1620.52 967.243,1620.52 968.384,1620.52 969.525,1620.52 970.666,1620.52 971.808,1620.52 \n",
       "  972.949,1620.52 974.09,1620.52 975.232,1620.52 976.373,1620.52 977.514,1620.52 978.656,1620.52 979.797,1620.52 980.938,1620.52 982.079,1620.52 983.221,1620.52 \n",
       "  984.362,1620.52 985.503,1620.52 986.645,1620.52 987.786,1620.52 988.927,1620.52 990.069,1620.52 991.21,1620.52 992.351,1620.52 993.492,1620.52 994.634,1620.52 \n",
       "  995.775,1620.52 996.916,1620.52 998.058,1620.52 999.199,1620.52 1000.34,1620.52 1001.48,1620.52 1002.62,1620.52 1003.76,1620.52 1004.91,1620.52 1006.05,1620.52 \n",
       "  1007.19,1620.52 1008.33,1620.52 1009.47,1620.52 1010.61,1620.52 1011.75,1620.52 1012.89,1620.52 1014.04,1620.52 1015.18,1620.52 1016.32,1620.52 1017.46,1620.52 \n",
       "  1018.6,1620.52 1019.74,1620.52 1020.88,1620.52 1022.02,1620.52 1023.17,1620.52 1024.31,1620.52 1025.45,1620.52 1026.59,1620.52 1027.73,1620.52 1028.87,1620.53 \n",
       "  1030.01,1620.53 1031.16,1620.53 1032.3,1620.53 1033.44,1620.53 1034.58,1620.53 1035.72,1620.53 1036.86,1620.53 1038,1620.53 1039.14,1620.53 1040.29,1620.53 \n",
       "  1041.43,1620.53 1042.57,1620.53 1043.71,1620.53 1044.85,1620.53 1045.99,1620.53 1047.13,1620.53 1048.27,1620.53 1049.42,1620.53 1050.56,1620.53 1051.7,1620.53 \n",
       "  1052.84,1620.53 1053.98,1620.53 1055.12,1620.53 1056.26,1620.53 1057.41,1620.53 1058.55,1620.53 1059.69,1620.53 1060.83,1620.53 1061.97,1620.53 1063.11,1620.53 \n",
       "  1064.25,1620.53 1065.39,1620.53 1066.54,1620.53 1067.68,1620.53 1068.82,1620.53 1069.96,1620.53 1071.1,1620.53 1072.24,1620.53 1073.38,1620.53 1074.52,1620.53 \n",
       "  1075.67,1620.53 1076.81,1620.53 1077.95,1620.53 1079.09,1620.53 1080.23,1620.53 1081.37,1620.53 1082.51,1620.53 1083.66,1620.53 1084.8,1620.53 1085.94,1620.53 \n",
       "  1087.08,1620.53 1088.22,1620.53 1089.36,1620.53 1090.5,1620.53 1091.64,1620.53 1092.79,1620.53 1093.93,1620.53 1095.07,1620.53 1096.21,1620.53 1097.35,1620.53 \n",
       "  1098.49,1620.53 1099.63,1620.53 1100.77,1620.53 1101.92,1620.53 1103.06,1620.53 1104.2,1620.53 1105.34,1620.53 1106.48,1620.53 1107.62,1620.53 1108.76,1620.53 \n",
       "  1109.91,1620.53 1111.05,1620.53 1112.19,1620.53 1113.33,1620.53 1114.47,1620.53 1115.61,1620.53 1116.75,1620.53 1117.89,1620.53 1119.04,1620.53 1120.18,1620.53 \n",
       "  1121.32,1620.53 1122.46,1620.53 1123.6,1620.53 1124.74,1620.53 1125.88,1620.53 1127.02,1620.53 1128.17,1620.53 1129.31,1620.53 1130.45,1620.53 1131.59,1620.53 \n",
       "  1132.73,1620.53 1133.87,1620.53 1135.01,1620.53 1136.16,1620.53 1137.3,1620.53 1138.44,1620.53 1139.58,1620.53 1140.72,1620.53 1141.86,1620.53 1143,1620.53 \n",
       "  1144.14,1620.53 1145.29,1620.53 1146.43,1620.53 1147.57,1620.53 1148.71,1620.53 1149.85,1620.53 1150.99,1620.53 1152.13,1620.53 1153.27,1620.53 1154.42,1620.53 \n",
       "  1155.56,1620.53 1156.7,1620.53 1157.84,1620.53 1158.98,1620.53 1160.12,1620.53 1161.26,1620.53 1162.4,1620.53 1163.55,1620.53 1164.69,1620.53 1165.83,1620.53 \n",
       "  1166.97,1620.53 1168.11,1620.53 1169.25,1620.53 1170.39,1620.53 1171.54,1620.53 1172.68,1620.53 1173.82,1620.53 1174.96,1620.53 1176.1,1620.53 1177.24,1620.53 \n",
       "  1178.38,1620.53 1179.52,1620.53 1180.67,1620.53 1181.81,1620.53 1182.95,1620.53 1184.09,1620.53 1185.23,1620.53 1186.37,1620.53 1187.51,1620.53 1188.65,1620.53 \n",
       "  1189.8,1620.53 1190.94,1620.53 1192.08,1620.53 1193.22,1620.53 1194.36,1620.53 1195.5,1620.53 1196.64,1620.53 1197.79,1620.53 1198.93,1620.53 1200.07,1620.53 \n",
       "  1201.21,1620.53 1202.35,1620.53 1203.49,1620.53 1204.63,1620.53 1205.77,1620.53 1206.92,1620.53 1208.06,1620.53 1209.2,1620.53 1210.34,1620.53 1211.48,1620.53 \n",
       "  1212.62,1620.53 1213.76,1620.53 1214.9,1620.53 1216.05,1620.53 1217.19,1620.53 1218.33,1620.53 1219.47,1620.53 1220.61,1620.53 1221.75,1620.53 1222.89,1620.53 \n",
       "  1224.04,1620.53 1225.18,1620.53 1226.32,1620.53 1227.46,1620.53 1228.6,1620.53 1229.74,1620.53 1230.88,1620.53 1232.02,1620.53 1233.17,1620.53 1234.31,1620.53 \n",
       "  1235.45,1620.53 1236.59,1620.53 1237.73,1620.53 1238.87,1620.53 1240.01,1620.53 1241.15,1620.53 1242.3,1620.53 1243.44,1620.53 1244.58,1620.53 1245.72,1620.53 \n",
       "  1246.86,1620.53 1248,1620.53 1249.14,1620.53 1250.29,1620.53 1251.43,1620.53 1252.57,1620.53 1253.71,1620.53 1254.85,1620.53 1255.99,1620.53 1257.13,1620.53 \n",
       "  1258.27,1620.53 1259.42,1620.53 1260.56,1620.53 1261.7,1620.53 1262.84,1620.53 1263.98,1620.53 1265.12,1620.53 1266.26,1620.53 1267.4,1620.53 1268.55,1620.53 \n",
       "  1269.69,1620.53 1270.83,1620.53 1271.97,1620.53 1273.11,1620.53 1274.25,1620.53 1275.39,1620.53 1276.54,1620.53 1277.68,1620.53 1278.82,1620.53 1279.96,1620.53 \n",
       "  1281.1,1620.53 1282.24,1620.53 1283.38,1620.53 1284.52,1620.53 1285.67,1620.53 1286.81,1620.53 1287.95,1620.53 1289.09,1620.53 1290.23,1620.53 1291.37,1620.53 \n",
       "  1292.51,1620.53 1293.65,1620.53 1294.8,1620.53 1295.94,1620.53 1297.08,1620.53 1298.22,1620.53 1299.36,1620.53 1300.5,1620.53 1301.64,1620.53 1302.79,1620.53 \n",
       "  1303.93,1620.53 1305.07,1620.53 1306.21,1620.53 1307.35,1620.53 1308.49,1620.53 1309.63,1620.53 1310.77,1620.53 1311.92,1620.53 1313.06,1620.53 1314.2,1620.53 \n",
       "  1315.34,1620.53 1316.48,1620.53 1317.62,1620.53 1318.76,1620.53 1319.9,1620.53 1321.05,1620.53 1322.19,1620.53 1323.33,1620.53 1324.47,1620.53 1325.61,1620.53 \n",
       "  1326.75,1620.53 1327.89,1620.53 1329.03,1620.53 1330.18,1620.53 1331.32,1620.53 1332.46,1620.53 1333.6,1620.53 1334.74,1620.53 1335.88,1620.53 1337.02,1620.53 \n",
       "  1338.17,1620.53 1339.31,1620.53 1340.45,1620.53 1341.59,1620.53 1342.73,1620.53 1343.87,1620.53 1345.01,1620.53 1346.15,1620.53 1347.3,1620.53 1348.44,1620.53 \n",
       "  1349.58,1620.53 1350.72,1620.53 1351.86,1620.53 1353,1620.53 1354.14,1620.53 1355.28,1620.53 1356.43,1620.53 1357.57,1620.53 1358.71,1620.53 1359.85,1620.53 \n",
       "  1360.99,1620.53 1362.13,1620.53 1363.27,1620.53 1364.42,1620.53 1365.56,1620.53 1366.7,1620.53 1367.84,1620.53 1368.98,1620.53 1370.12,1620.53 1371.26,1620.53 \n",
       "  1372.4,1620.53 1373.55,1620.53 1374.69,1620.53 1375.83,1620.53 1376.97,1620.53 1378.11,1620.53 1379.25,1620.53 1380.39,1620.53 1381.53,1620.53 1382.68,1620.53 \n",
       "  \n",
       "  \"/>\n",
       "<polyline clip-path=\"url(#clip5002)\" style=\"stroke:#e26f46; stroke-width:8; stroke-opacity:1; fill:none\" points=\"\n",
       "  242.516,480.367 243.658,651.86 244.799,703.152 245.94,739.403 247.082,768.286 248.223,792.634 249.364,813.853 250.506,832.758 251.647,849.866 252.788,865.534 \n",
       "  253.929,880.014 255.071,893.495 256.212,906.123 257.353,918.011 258.495,929.251 259.636,939.916 260.777,950.07 261.919,959.763 263.06,969.039 264.201,977.937 \n",
       "  265.342,986.488 266.484,994.72 267.625,1002.66 268.766,1010.32 269.908,1017.74 271.049,1024.92 272.19,1031.88 273.332,1038.63 274.473,1045.19 275.614,1051.56 \n",
       "  276.755,1057.77 277.897,1063.81 279.038,1069.7 280.179,1075.44 281.321,1081.04 282.462,1086.52 283.603,1091.86 284.745,1097.09 285.886,1102.2 287.027,1107.2 \n",
       "  288.168,1112.1 289.31,1116.9 290.451,1121.6 291.592,1126.21 292.734,1130.73 293.875,1135.16 295.016,1139.51 296.158,1143.78 297.299,1147.98 298.44,1152.1 \n",
       "  299.581,1156.15 300.723,1160.13 301.864,1164.05 303.005,1167.9 304.147,1171.68 305.288,1175.41 306.429,1179.08 307.571,1182.69 308.712,1186.24 309.853,1189.75 \n",
       "  310.994,1193.2 312.136,1196.59 313.277,1199.94 314.418,1203.25 315.56,1206.5 316.701,1209.71 317.842,1212.87 318.984,1216 320.125,1219.08 321.266,1222.12 \n",
       "  322.407,1225.12 323.549,1228.08 324.69,1231 325.831,1233.88 326.973,1236.73 328.114,1239.54 329.255,1242.32 330.397,1245.07 331.538,1247.78 332.679,1250.46 \n",
       "  333.821,1253.1 334.962,1255.72 336.103,1258.31 337.244,1260.86 338.386,1263.39 339.527,1265.89 340.668,1268.36 341.81,1270.8 342.951,1273.22 344.092,1275.61 \n",
       "  345.234,1277.97 346.375,1280.31 347.516,1282.62 348.657,1284.91 349.799,1287.18 350.94,1289.42 352.081,1291.64 353.223,1293.83 354.364,1296 355.505,1298.16 \n",
       "  356.647,1300.29 357.788,1302.4 358.929,1304.48 360.07,1306.55 361.212,1308.6 362.353,1310.63 363.494,1312.64 364.636,1314.63 365.777,1316.6 366.918,1318.55 \n",
       "  368.06,1320.48 369.201,1322.4 370.342,1324.3 371.483,1326.18 372.625,1328.04 373.766,1329.89 374.907,1331.72 376.049,1333.53 377.19,1335.33 378.331,1337.12 \n",
       "  379.473,1338.88 380.614,1340.63 381.755,1342.37 382.896,1344.09 384.038,1345.8 385.179,1347.49 386.32,1349.17 387.462,1350.83 388.603,1352.48 389.744,1354.12 \n",
       "  390.886,1355.74 392.027,1357.35 393.168,1358.94 394.309,1360.53 395.451,1362.1 396.592,1363.65 397.733,1365.2 398.875,1366.73 400.016,1368.25 401.157,1369.76 \n",
       "  402.299,1371.25 403.44,1372.74 404.581,1374.21 405.722,1375.67 406.864,1377.12 408.005,1378.56 409.146,1379.99 410.288,1381.41 411.429,1382.81 412.57,1384.21 \n",
       "  413.712,1385.59 414.853,1386.97 415.994,1388.33 417.135,1389.69 418.277,1391.03 419.418,1392.37 420.559,1393.69 421.701,1395.01 422.842,1396.31 423.983,1397.61 \n",
       "  425.125,1398.9 426.266,1400.17 427.407,1401.44 428.548,1402.7 429.69,1403.95 430.831,1405.19 431.972,1406.42 433.114,1407.65 434.255,1408.86 435.396,1410.07 \n",
       "  436.538,1411.27 437.679,1412.46 438.82,1413.64 439.961,1414.81 441.103,1415.98 442.244,1417.14 443.385,1418.29 444.527,1419.43 445.668,1420.56 446.809,1421.69 \n",
       "  447.951,1422.81 449.092,1423.92 450.233,1425.03 451.374,1426.12 452.516,1427.21 453.657,1428.29 454.798,1429.37 455.94,1430.44 457.081,1431.5 458.222,1432.55 \n",
       "  459.364,1433.6 460.505,1434.64 461.646,1435.68 462.788,1436.7 463.929,1437.72 465.07,1438.74 466.211,1439.75 467.353,1440.75 468.494,1441.74 469.635,1442.73 \n",
       "  470.777,1443.71 471.918,1444.69 473.059,1445.66 474.201,1446.62 475.342,1447.58 476.483,1448.53 477.624,1449.48 478.766,1450.42 479.907,1451.35 481.048,1452.28 \n",
       "  482.19,1453.2 483.331,1454.12 484.472,1455.03 485.614,1455.94 486.755,1456.84 487.896,1457.73 489.037,1458.62 490.179,1459.51 491.32,1460.39 492.461,1461.26 \n",
       "  493.603,1462.13 494.744,1462.99 495.885,1463.85 497.027,1464.7 498.168,1465.55 499.309,1466.39 500.45,1467.23 501.592,1468.06 502.733,1468.89 503.874,1469.71 \n",
       "  505.016,1470.53 506.157,1471.34 507.298,1472.15 508.44,1472.96 509.581,1473.76 510.722,1474.55 511.863,1475.34 513.005,1476.13 514.146,1476.91 515.287,1477.68 \n",
       "  516.429,1478.46 517.57,1479.22 518.711,1479.99 519.853,1480.75 520.994,1481.5 522.135,1482.25 523.276,1483 524.418,1483.74 525.559,1484.47 526.7,1485.21 \n",
       "  527.842,1485.94 528.983,1486.66 530.124,1487.38 531.266,1488.1 532.407,1488.81 533.548,1489.52 534.689,1490.23 535.831,1490.93 536.972,1491.63 538.113,1492.32 \n",
       "  539.255,1493.01 540.396,1493.69 541.537,1494.38 542.679,1495.05 543.82,1495.73 544.961,1496.4 546.102,1497.07 547.244,1497.73 548.385,1498.39 549.526,1499.05 \n",
       "  550.668,1499.7 551.809,1500.35 552.95,1500.99 554.092,1501.63 555.233,1502.27 556.374,1502.91 557.515,1503.54 558.657,1504.17 559.798,1504.79 560.939,1505.41 \n",
       "  562.081,1506.03 563.222,1506.65 564.363,1507.26 565.505,1507.87 566.646,1508.47 567.787,1509.07 568.928,1509.67 570.07,1510.27 571.211,1510.86 572.352,1511.45 \n",
       "  573.494,1512.04 574.635,1512.62 575.776,1513.2 576.918,1513.78 578.059,1514.35 579.2,1514.92 580.342,1515.49 581.483,1516.05 582.624,1516.61 583.765,1517.17 \n",
       "  584.907,1517.73 586.048,1518.28 587.189,1518.83 588.331,1519.38 589.472,1519.92 590.613,1520.46 591.755,1521 592.896,1521.54 594.037,1522.07 595.178,1522.6 \n",
       "  596.32,1523.13 597.461,1523.66 598.602,1524.18 599.744,1524.7 600.885,1525.21 602.026,1525.73 603.168,1526.24 604.309,1526.75 605.45,1527.26 606.591,1527.76 \n",
       "  607.733,1528.26 608.874,1528.76 610.015,1529.26 611.157,1529.75 612.298,1530.24 613.439,1530.73 614.581,1531.21 615.722,1531.7 616.863,1532.18 618.004,1532.66 \n",
       "  619.146,1533.13 620.287,1533.61 621.428,1534.08 622.57,1534.55 623.711,1535.02 624.852,1535.48 625.994,1535.94 627.135,1536.4 628.276,1536.86 629.417,1537.31 \n",
       "  630.559,1537.77 631.7,1538.22 632.841,1538.67 633.983,1539.11 635.124,1539.56 636.265,1540 637.407,1540.44 638.548,1540.87 639.689,1541.31 640.83,1541.74 \n",
       "  641.972,1542.17 643.113,1542.6 644.254,1543.03 645.396,1543.45 646.537,1543.87 647.678,1544.29 648.82,1544.71 649.961,1545.13 651.102,1545.54 652.243,1545.95 \n",
       "  653.385,1546.36 654.526,1546.77 655.667,1547.17 656.809,1547.58 657.95,1547.98 659.091,1548.38 660.233,1548.78 661.374,1549.17 662.515,1549.57 663.656,1549.96 \n",
       "  664.798,1550.35 665.939,1550.73 667.08,1551.12 668.222,1551.51 669.363,1551.89 670.504,1552.27 671.646,1552.65 672.787,1553.02 673.928,1553.4 675.069,1553.77 \n",
       "  676.211,1554.14 677.352,1554.51 678.493,1554.88 679.635,1555.24 680.776,1555.61 681.917,1555.97 683.059,1556.33 684.2,1556.69 685.341,1557.04 686.482,1557.4 \n",
       "  687.624,1557.75 688.765,1558.1 689.906,1558.45 691.048,1558.8 692.189,1559.15 693.33,1559.49 694.472,1559.84 695.613,1560.18 696.754,1560.52 697.896,1560.85 \n",
       "  699.037,1561.19 700.178,1561.53 701.319,1561.86 702.461,1562.19 703.602,1562.52 704.743,1562.85 705.885,1563.18 707.026,1563.5 708.167,1563.82 709.309,1564.15 \n",
       "  710.45,1564.47 711.591,1564.78 712.732,1565.1 713.874,1565.42 715.015,1565.73 716.156,1566.04 717.298,1566.36 718.439,1566.66 719.58,1566.97 720.722,1567.28 \n",
       "  721.863,1567.58 723.004,1567.89 724.145,1568.19 725.287,1568.49 726.428,1568.79 727.569,1569.09 728.711,1569.38 729.852,1569.68 730.993,1569.97 732.135,1570.26 \n",
       "  733.276,1570.55 734.417,1570.84 735.558,1571.13 736.7,1571.42 737.841,1571.7 738.982,1571.99 740.124,1572.27 741.265,1572.55 742.406,1572.83 743.548,1573.11 \n",
       "  744.689,1573.38 745.83,1573.66 746.971,1573.93 748.113,1574.2 749.254,1574.48 750.395,1574.75 751.537,1575.01 752.678,1575.28 753.819,1575.55 754.961,1575.81 \n",
       "  756.102,1576.08 757.243,1576.34 758.384,1576.6 759.526,1576.86 760.667,1577.12 761.808,1577.38 762.95,1577.63 764.091,1577.89 765.232,1578.14 766.374,1578.39 \n",
       "  767.515,1578.64 768.656,1578.89 769.797,1579.14 770.939,1579.39 772.08,1579.63 773.221,1579.88 774.363,1580.12 775.504,1580.37 776.645,1580.61 777.787,1580.85 \n",
       "  778.928,1581.09 780.069,1581.32 781.21,1581.56 782.352,1581.8 783.493,1582.03 784.634,1582.26 785.776,1582.5 786.917,1582.73 788.058,1582.96 789.2,1583.18 \n",
       "  790.341,1583.41 791.482,1583.64 792.623,1583.86 793.765,1584.09 794.906,1584.31 796.047,1584.53 797.189,1584.75 798.33,1584.97 799.471,1585.19 800.613,1585.41 \n",
       "  801.754,1585.63 802.895,1585.84 804.036,1586.06 805.178,1586.27 806.319,1586.48 807.46,1586.69 808.602,1586.9 809.743,1587.11 810.884,1587.32 812.026,1587.53 \n",
       "  813.167,1587.73 814.308,1587.94 815.45,1588.14 816.591,1588.35 817.732,1588.55 818.873,1588.75 820.015,1588.95 821.156,1589.15 822.297,1589.35 823.439,1589.54 \n",
       "  824.58,1589.74 825.721,1589.94 826.863,1590.13 828.004,1590.32 829.145,1590.51 830.286,1590.71 831.428,1590.9 832.569,1591.09 833.71,1591.27 834.852,1591.46 \n",
       "  835.993,1591.65 837.134,1591.83 838.276,1592.02 839.417,1592.2 840.558,1592.39 841.699,1592.57 842.841,1592.75 843.982,1592.93 845.123,1593.11 846.265,1593.29 \n",
       "  847.406,1593.46 848.547,1593.64 849.689,1593.82 850.83,1593.99 851.971,1594.16 853.112,1594.34 854.254,1594.51 855.395,1594.68 856.536,1594.85 857.678,1595.02 \n",
       "  858.819,1595.19 859.96,1595.36 861.102,1595.52 862.243,1595.69 863.384,1595.85 864.525,1596.02 865.667,1596.18 866.808,1596.35 867.949,1596.51 869.091,1596.67 \n",
       "  870.232,1596.83 871.373,1596.99 872.515,1597.15 873.656,1597.3 874.797,1597.46 875.938,1597.62 877.08,1597.77 878.221,1597.93 879.362,1598.08 880.504,1598.23 \n",
       "  881.645,1598.39 882.786,1598.54 883.928,1598.69 885.069,1598.84 886.21,1598.99 887.351,1599.13 888.493,1599.28 889.634,1599.43 890.775,1599.57 891.917,1599.72 \n",
       "  893.058,1599.86 894.199,1600.01 895.341,1600.15 896.482,1600.29 897.623,1600.43 898.764,1600.58 899.906,1600.72 901.047,1600.85 902.188,1600.99 903.33,1601.13 \n",
       "  904.471,1601.27 905.612,1601.4 906.754,1601.54 907.895,1601.67 909.036,1601.81 910.177,1601.94 911.319,1602.08 912.46,1602.21 913.601,1602.34 914.743,1602.47 \n",
       "  915.884,1602.6 917.025,1602.73 918.167,1602.86 919.308,1602.98 920.449,1603.11 921.59,1603.24 922.732,1603.36 923.873,1603.49 925.014,1603.61 926.156,1603.74 \n",
       "  927.297,1603.86 928.438,1603.98 929.58,1604.1 930.721,1604.23 931.862,1604.35 933.004,1604.47 934.145,1604.59 935.286,1604.7 936.427,1604.82 937.569,1604.94 \n",
       "  938.71,1605.06 939.851,1605.17 940.993,1605.29 942.134,1605.4 943.275,1605.52 944.417,1605.63 945.558,1605.74 946.699,1605.85 947.84,1605.97 948.982,1606.08 \n",
       "  950.123,1606.19 951.264,1606.3 952.406,1606.41 953.547,1606.51 954.688,1606.62 955.83,1606.73 956.971,1606.84 958.112,1606.94 959.253,1607.05 960.395,1607.15 \n",
       "  961.536,1607.26 962.677,1607.36 963.819,1607.46 964.96,1607.57 966.101,1607.67 967.243,1607.77 968.384,1607.87 969.525,1607.97 970.666,1608.07 971.808,1608.17 \n",
       "  972.949,1608.27 974.09,1608.37 975.232,1608.46 976.373,1608.56 977.514,1608.66 978.656,1608.75 979.797,1608.85 980.938,1608.94 982.079,1609.04 983.221,1609.13 \n",
       "  984.362,1609.22 985.503,1609.32 986.645,1609.41 987.786,1609.5 988.927,1609.59 990.069,1609.68 991.21,1609.77 992.351,1609.86 993.492,1609.95 994.634,1610.04 \n",
       "  995.775,1610.12 996.916,1610.21 998.058,1610.3 999.199,1610.38 1000.34,1610.47 1001.48,1610.55 1002.62,1610.64 1003.76,1610.72 1004.91,1610.81 1006.05,1610.89 \n",
       "  1007.19,1610.97 1008.33,1611.05 1009.47,1611.14 1010.61,1611.22 1011.75,1611.3 1012.89,1611.38 1014.04,1611.46 1015.18,1611.54 1016.32,1611.61 1017.46,1611.69 \n",
       "  1018.6,1611.77 1019.74,1611.85 1020.88,1611.92 1022.02,1612 1023.17,1612.08 1024.31,1612.15 1025.45,1612.23 1026.59,1612.3 1027.73,1612.37 1028.87,1612.45 \n",
       "  1030.01,1612.52 1031.16,1612.59 1032.3,1612.67 1033.44,1612.74 1034.58,1612.81 1035.72,1612.88 1036.86,1612.95 1038,1613.02 1039.14,1613.09 1040.29,1613.16 \n",
       "  1041.43,1613.23 1042.57,1613.29 1043.71,1613.36 1044.85,1613.43 1045.99,1613.49 1047.13,1613.56 1048.27,1613.63 1049.42,1613.69 1050.56,1613.76 1051.7,1613.82 \n",
       "  1052.84,1613.89 1053.98,1613.95 1055.12,1614.01 1056.26,1614.08 1057.41,1614.14 1058.55,1614.2 1059.69,1614.26 1060.83,1614.32 1061.97,1614.38 1063.11,1614.44 \n",
       "  1064.25,1614.5 1065.39,1614.56 1066.54,1614.62 1067.68,1614.68 1068.82,1614.74 1069.96,1614.8 1071.1,1614.86 1072.24,1614.91 1073.38,1614.97 1074.52,1615.03 \n",
       "  1075.67,1615.08 1076.81,1615.14 1077.95,1615.19 1079.09,1615.25 1080.23,1615.3 1081.37,1615.36 1082.51,1615.41 1083.66,1615.46 1084.8,1615.52 1085.94,1615.57 \n",
       "  1087.08,1615.62 1088.22,1615.67 1089.36,1615.72 1090.5,1615.77 1091.64,1615.83 1092.79,1615.88 1093.93,1615.93 1095.07,1615.98 1096.21,1616.02 1097.35,1616.07 \n",
       "  1098.49,1616.12 1099.63,1616.17 1100.77,1616.22 1101.92,1616.27 1103.06,1616.31 1104.2,1616.36 1105.34,1616.41 1106.48,1616.45 1107.62,1616.5 1108.76,1616.54 \n",
       "  1109.91,1616.59 1111.05,1616.63 1112.19,1616.68 1113.33,1616.72 1114.47,1616.76 1115.61,1616.81 1116.75,1616.85 1117.89,1616.89 1119.04,1616.94 1120.18,1616.98 \n",
       "  1121.32,1617.02 1122.46,1617.06 1123.6,1617.1 1124.74,1617.14 1125.88,1617.18 1127.02,1617.22 1128.17,1617.26 1129.31,1617.3 1130.45,1617.34 1131.59,1617.38 \n",
       "  1132.73,1617.42 1133.87,1617.46 1135.01,1617.49 1136.16,1617.53 1137.3,1617.57 1138.44,1617.61 1139.58,1617.64 1140.72,1617.68 1141.86,1617.71 1143,1617.75 \n",
       "  1144.14,1617.79 1145.29,1617.82 1146.43,1617.86 1147.57,1617.89 1148.71,1617.92 1149.85,1617.96 1150.99,1617.99 1152.13,1618.03 1153.27,1618.06 1154.42,1618.09 \n",
       "  1155.56,1618.12 1156.7,1618.16 1157.84,1618.19 1158.98,1618.22 1160.12,1618.25 1161.26,1618.28 1162.4,1618.31 1163.55,1618.34 1164.69,1618.37 1165.83,1618.4 \n",
       "  1166.97,1618.43 1168.11,1618.46 1169.25,1618.49 1170.39,1618.52 1171.54,1618.55 1172.68,1618.58 1173.82,1618.61 1174.96,1618.63 1176.1,1618.66 1177.24,1618.69 \n",
       "  1178.38,1618.72 1179.52,1618.74 1180.67,1618.77 1181.81,1618.79 1182.95,1618.82 1184.09,1618.85 1185.23,1618.87 1186.37,1618.9 1187.51,1618.92 1188.65,1618.95 \n",
       "  1189.8,1618.97 1190.94,1619 1192.08,1619.02 1193.22,1619.04 1194.36,1619.07 1195.5,1619.09 1196.64,1619.11 1197.79,1619.14 1198.93,1619.16 1200.07,1619.18 \n",
       "  1201.21,1619.2 1202.35,1619.22 1203.49,1619.25 1204.63,1619.27 1205.77,1619.29 1206.92,1619.31 1208.06,1619.33 1209.2,1619.35 1210.34,1619.37 1211.48,1619.39 \n",
       "  1212.62,1619.41 1213.76,1619.43 1214.9,1619.45 1216.05,1619.47 1217.19,1619.49 1218.33,1619.51 1219.47,1619.52 1220.61,1619.54 1221.75,1619.56 1222.89,1619.58 \n",
       "  1224.04,1619.6 1225.18,1619.61 1226.32,1619.63 1227.46,1619.65 1228.6,1619.67 1229.74,1619.68 1230.88,1619.7 1232.02,1619.71 1233.17,1619.73 1234.31,1619.75 \n",
       "  1235.45,1619.76 1236.59,1619.78 1237.73,1619.79 1238.87,1619.81 1240.01,1619.82 1241.15,1619.84 1242.3,1619.85 1243.44,1619.87 1244.58,1619.88 1245.72,1619.89 \n",
       "  1246.86,1619.91 1248,1619.92 1249.14,1619.93 1250.29,1619.95 1251.43,1619.96 1252.57,1619.97 1253.71,1619.98 1254.85,1620 1255.99,1620.01 1257.13,1620.02 \n",
       "  1258.27,1620.03 1259.42,1620.04 1260.56,1620.06 1261.7,1620.07 1262.84,1620.08 1263.98,1620.09 1265.12,1620.1 1266.26,1620.11 1267.4,1620.12 1268.55,1620.13 \n",
       "  1269.69,1620.14 1270.83,1620.15 1271.97,1620.16 1273.11,1620.17 1274.25,1620.18 1275.39,1620.19 1276.54,1620.2 1277.68,1620.21 1278.82,1620.22 1279.96,1620.23 \n",
       "  1281.1,1620.23 1282.24,1620.24 1283.38,1620.25 1284.52,1620.26 1285.67,1620.27 1286.81,1620.27 1287.95,1620.28 1289.09,1620.29 1290.23,1620.3 1291.37,1620.3 \n",
       "  1292.51,1620.31 1293.65,1620.32 1294.8,1620.33 1295.94,1620.33 1297.08,1620.34 1298.22,1620.34 1299.36,1620.35 1300.5,1620.36 1301.64,1620.36 1302.79,1620.37 \n",
       "  1303.93,1620.37 1305.07,1620.38 1306.21,1620.39 1307.35,1620.39 1308.49,1620.4 1309.63,1620.4 1310.77,1620.41 1311.92,1620.41 1313.06,1620.42 1314.2,1620.42 \n",
       "  1315.34,1620.42 1316.48,1620.43 1317.62,1620.43 1318.76,1620.44 1319.9,1620.44 1321.05,1620.45 1322.19,1620.45 1323.33,1620.45 1324.47,1620.46 1325.61,1620.46 \n",
       "  1326.75,1620.46 1327.89,1620.47 1329.03,1620.47 1330.18,1620.47 1331.32,1620.48 1332.46,1620.48 1333.6,1620.48 1334.74,1620.48 1335.88,1620.49 1337.02,1620.49 \n",
       "  1338.17,1620.49 1339.31,1620.49 1340.45,1620.5 1341.59,1620.5 1342.73,1620.5 1343.87,1620.5 1345.01,1620.5 1346.15,1620.51 1347.3,1620.51 1348.44,1620.51 \n",
       "  1349.58,1620.51 1350.72,1620.51 1351.86,1620.51 1353,1620.51 1354.14,1620.52 1355.28,1620.52 1356.43,1620.52 1357.57,1620.52 1358.71,1620.52 1359.85,1620.52 \n",
       "  1360.99,1620.52 1362.13,1620.52 1363.27,1620.52 1364.42,1620.52 1365.56,1620.52 1366.7,1620.52 1367.84,1620.52 1368.98,1620.53 1370.12,1620.53 1371.26,1620.53 \n",
       "  1372.4,1620.53 1373.55,1620.53 1374.69,1620.53 1375.83,1620.53 1376.97,1620.53 1378.11,1620.53 1379.25,1620.53 1380.39,1620.53 1381.53,1620.53 1382.68,1620.53 \n",
       "  \n",
       "  \"/>\n",
       "<polyline clip-path=\"url(#clip5002)\" style=\"stroke:#3da44d; stroke-width:8; stroke-opacity:1; fill:none\" points=\"\n",
       "  242.516,480.367 243.658,510.343 244.799,525.677 245.94,538.027 247.082,548.756 248.223,558.415 249.364,567.294 250.506,575.57 251.647,583.361 252.788,590.749 \n",
       "  253.929,597.795 255.071,604.547 256.212,611.039 257.353,617.303 258.495,623.362 259.636,629.236 260.777,634.942 261.919,640.495 263.06,645.905 264.201,651.186 \n",
       "  265.342,656.345 266.484,661.391 267.625,666.332 268.766,671.174 269.908,675.922 271.049,680.583 272.19,685.161 273.332,689.66 274.473,694.085 275.614,698.438 \n",
       "  276.755,702.724 277.897,706.945 279.038,711.104 280.179,715.205 281.321,719.248 282.462,723.237 283.603,727.174 284.745,731.061 285.886,734.899 287.027,738.69 \n",
       "  288.168,742.436 289.31,746.139 290.451,749.799 291.592,753.419 292.734,757 293.875,760.542 295.016,764.047 296.158,767.515 297.299,770.949 298.44,774.349 \n",
       "  299.581,777.716 300.723,781.051 301.864,784.355 303.005,787.628 304.147,790.871 305.288,794.086 306.429,797.272 307.571,800.431 308.712,803.562 309.853,806.668 \n",
       "  310.994,809.748 312.136,812.803 313.277,815.833 314.418,818.839 315.56,821.822 316.701,824.781 317.842,827.719 318.984,830.634 320.125,833.527 321.266,836.4 \n",
       "  322.407,839.251 323.549,842.082 324.69,844.894 325.831,847.685 326.973,850.458 328.114,853.211 329.255,855.946 330.397,858.663 331.538,861.361 332.679,864.043 \n",
       "  333.821,866.706 334.962,869.353 336.103,871.983 337.244,874.597 338.386,877.194 339.527,879.776 340.668,882.342 341.81,884.892 342.951,887.427 344.092,889.947 \n",
       "  345.234,892.453 346.375,894.944 347.516,897.42 348.657,899.883 349.799,902.331 350.94,904.766 352.081,907.187 353.223,909.595 354.364,911.99 355.505,914.372 \n",
       "  356.647,916.741 357.788,919.098 358.929,921.442 360.07,923.773 361.212,926.093 362.353,928.401 363.494,930.696 364.636,932.98 365.777,935.253 366.918,937.514 \n",
       "  368.06,939.764 369.201,942.003 370.342,944.231 371.483,946.447 372.625,948.654 373.766,950.849 374.907,953.034 376.049,955.209 377.19,957.374 378.331,959.528 \n",
       "  379.473,961.672 380.614,963.807 381.755,965.931 382.896,968.046 384.038,970.151 385.179,972.247 386.32,974.334 387.462,976.411 388.603,978.479 389.744,980.538 \n",
       "  390.886,982.588 392.027,984.629 393.168,986.661 394.309,988.684 395.451,990.699 396.592,992.705 397.733,994.703 398.875,996.692 400.016,998.673 401.157,1000.65 \n",
       "  402.299,1002.61 403.44,1004.57 404.581,1006.51 405.722,1008.46 406.864,1010.39 408.005,1012.31 409.146,1014.23 410.288,1016.14 411.429,1018.04 412.57,1019.94 \n",
       "  413.712,1021.82 414.853,1023.7 415.994,1025.57 417.135,1027.44 418.277,1029.3 419.418,1031.15 420.559,1032.99 421.701,1034.83 422.842,1036.66 423.983,1038.48 \n",
       "  425.125,1040.29 426.266,1042.1 427.407,1043.91 428.548,1045.7 429.69,1047.49 430.831,1049.27 431.972,1051.05 433.114,1052.82 434.255,1054.58 435.396,1056.34 \n",
       "  436.538,1058.09 437.679,1059.83 438.82,1061.57 439.961,1063.3 441.103,1065.03 442.244,1066.74 443.385,1068.46 444.527,1070.16 445.668,1071.87 446.809,1073.56 \n",
       "  447.951,1075.25 449.092,1076.93 450.233,1078.61 451.374,1080.28 452.516,1081.95 453.657,1083.61 454.798,1085.27 455.94,1086.92 457.081,1088.56 458.222,1090.2 \n",
       "  459.364,1091.83 460.505,1093.46 461.646,1095.08 462.788,1096.7 463.929,1098.31 465.07,1099.91 466.211,1101.51 467.353,1103.11 468.494,1104.7 469.635,1106.29 \n",
       "  470.777,1107.87 471.918,1109.44 473.059,1111.01 474.201,1112.58 475.342,1114.13 476.483,1115.69 477.624,1117.24 478.766,1118.78 479.907,1120.32 481.048,1121.86 \n",
       "  482.19,1123.39 483.331,1124.92 484.472,1126.44 485.614,1127.95 486.755,1129.46 487.896,1130.97 489.037,1132.47 490.179,1133.97 491.32,1135.46 492.461,1136.95 \n",
       "  493.603,1138.44 494.744,1139.92 495.885,1141.39 497.027,1142.86 498.168,1144.33 499.309,1145.79 500.45,1147.25 501.592,1148.7 502.733,1150.15 503.874,1151.59 \n",
       "  505.016,1153.03 506.157,1154.47 507.298,1155.9 508.44,1157.32 509.581,1158.75 510.722,1160.17 511.863,1161.58 513.005,1162.99 514.146,1164.4 515.287,1165.8 \n",
       "  516.429,1167.2 517.57,1168.59 518.711,1169.98 519.853,1171.37 520.994,1172.75 522.135,1174.13 523.276,1175.5 524.418,1176.87 525.559,1178.24 526.7,1179.6 \n",
       "  527.842,1180.96 528.983,1182.31 530.124,1183.67 531.266,1185.01 532.407,1186.36 533.548,1187.7 534.689,1189.03 535.831,1190.36 536.972,1191.69 538.113,1193.02 \n",
       "  539.255,1194.34 540.396,1195.65 541.537,1196.97 542.679,1198.28 543.82,1199.58 544.961,1200.89 546.102,1202.19 547.244,1203.48 548.385,1204.77 549.526,1206.06 \n",
       "  550.668,1207.35 551.809,1208.63 552.95,1209.91 554.092,1211.18 555.233,1212.45 556.374,1213.72 557.515,1214.99 558.657,1216.25 559.798,1217.51 560.939,1218.76 \n",
       "  562.081,1220.01 563.222,1221.26 564.363,1222.5 565.505,1223.74 566.646,1224.98 567.787,1226.21 568.928,1227.45 570.07,1228.67 571.211,1229.9 572.352,1231.12 \n",
       "  573.494,1232.34 574.635,1233.55 575.776,1234.76 576.918,1235.97 578.059,1237.18 579.2,1238.38 580.342,1239.58 581.483,1240.77 582.624,1241.97 583.765,1243.16 \n",
       "  584.907,1244.34 586.048,1245.53 587.189,1246.71 588.331,1247.89 589.472,1249.06 590.613,1250.23 591.755,1251.4 592.896,1252.56 594.037,1253.73 595.178,1254.89 \n",
       "  596.32,1256.04 597.461,1257.2 598.602,1258.35 599.744,1259.49 600.885,1260.64 602.026,1261.78 603.168,1262.92 604.309,1264.06 605.45,1265.19 606.591,1266.32 \n",
       "  607.733,1267.45 608.874,1268.57 610.015,1269.69 611.157,1270.81 612.298,1271.93 613.439,1273.04 614.581,1274.15 615.722,1275.26 616.863,1276.36 618.004,1277.47 \n",
       "  619.146,1278.57 620.287,1279.66 621.428,1280.76 622.57,1281.85 623.711,1282.94 624.852,1284.02 625.994,1285.11 627.135,1286.19 628.276,1287.26 629.417,1288.34 \n",
       "  630.559,1289.41 631.7,1290.48 632.841,1291.55 633.983,1292.61 635.124,1293.67 636.265,1294.73 637.407,1295.79 638.548,1296.84 639.689,1297.9 640.83,1298.95 \n",
       "  641.972,1299.99 643.113,1301.04 644.254,1302.08 645.396,1303.12 646.537,1304.15 647.678,1305.19 648.82,1306.22 649.961,1307.25 651.102,1308.27 652.243,1309.3 \n",
       "  653.385,1310.32 654.526,1311.34 655.667,1312.35 656.809,1313.37 657.95,1314.38 659.091,1315.39 660.233,1316.39 661.374,1317.4 662.515,1318.4 663.656,1319.4 \n",
       "  664.798,1320.39 665.939,1321.39 667.08,1322.38 668.222,1323.37 669.363,1324.36 670.504,1325.34 671.646,1326.32 672.787,1327.3 673.928,1328.28 675.069,1329.26 \n",
       "  676.211,1330.23 677.352,1331.2 678.493,1332.17 679.635,1333.14 680.776,1334.1 681.917,1335.06 683.059,1336.02 684.2,1336.98 685.341,1337.93 686.482,1338.89 \n",
       "  687.624,1339.84 688.765,1340.78 689.906,1341.73 691.048,1342.67 692.189,1343.61 693.33,1344.55 694.472,1345.49 695.613,1346.42 696.754,1347.36 697.896,1348.29 \n",
       "  699.037,1349.21 700.178,1350.14 701.319,1351.06 702.461,1351.99 703.602,1352.9 704.743,1353.82 705.885,1354.74 707.026,1355.65 708.167,1356.56 709.309,1357.47 \n",
       "  710.45,1358.37 711.591,1359.28 712.732,1360.18 713.874,1361.08 715.015,1361.98 716.156,1362.87 717.298,1363.77 718.439,1364.66 719.58,1365.55 720.722,1366.44 \n",
       "  721.863,1367.32 723.004,1368.2 724.145,1369.09 725.287,1369.96 726.428,1370.84 727.569,1371.72 728.711,1372.59 729.852,1373.46 730.993,1374.33 732.135,1375.19 \n",
       "  733.276,1376.06 734.417,1376.92 735.558,1377.78 736.7,1378.64 737.841,1379.5 738.982,1380.35 740.124,1381.21 741.265,1382.06 742.406,1382.9 743.548,1383.75 \n",
       "  744.689,1384.6 745.83,1385.44 746.971,1386.28 748.113,1387.12 749.254,1387.95 750.395,1388.79 751.537,1389.62 752.678,1390.45 753.819,1391.28 754.961,1392.11 \n",
       "  756.102,1392.93 757.243,1393.76 758.384,1394.58 759.526,1395.4 760.667,1396.22 761.808,1397.03 762.95,1397.85 764.091,1398.66 765.232,1399.47 766.374,1400.27 \n",
       "  767.515,1401.08 768.656,1401.88 769.797,1402.69 770.939,1403.49 772.08,1404.29 773.221,1405.08 774.363,1405.88 775.504,1406.67 776.645,1407.46 777.787,1408.25 \n",
       "  778.928,1409.04 780.069,1409.82 781.21,1410.61 782.352,1411.39 783.493,1412.17 784.634,1412.95 785.776,1413.72 786.917,1414.5 788.058,1415.27 789.2,1416.04 \n",
       "  790.341,1416.81 791.482,1417.58 792.623,1418.35 793.765,1419.11 794.906,1419.87 796.047,1420.63 797.189,1421.39 798.33,1422.15 799.471,1422.9 800.613,1423.66 \n",
       "  801.754,1424.41 802.895,1425.16 804.036,1425.9 805.178,1426.65 806.319,1427.39 807.46,1428.14 808.602,1428.88 809.743,1429.62 810.884,1430.36 812.026,1431.09 \n",
       "  813.167,1431.82 814.308,1432.56 815.45,1433.29 816.591,1434.02 817.732,1434.74 818.873,1435.47 820.015,1436.19 821.156,1436.91 822.297,1437.63 823.439,1438.35 \n",
       "  824.58,1439.07 825.721,1439.79 826.863,1440.5 828.004,1441.21 829.145,1441.92 830.286,1442.63 831.428,1443.34 832.569,1444.04 833.71,1444.74 834.852,1445.45 \n",
       "  835.993,1446.15 837.134,1446.84 838.276,1447.54 839.417,1448.24 840.558,1448.93 841.699,1449.62 842.841,1450.31 843.982,1451 845.123,1451.69 846.265,1452.37 \n",
       "  847.406,1453.06 848.547,1453.74 849.689,1454.42 850.83,1455.1 851.971,1455.77 853.112,1456.45 854.254,1457.12 855.395,1457.8 856.536,1458.47 857.678,1459.14 \n",
       "  858.819,1459.8 859.96,1460.47 861.102,1461.13 862.243,1461.8 863.384,1462.46 864.525,1463.12 865.667,1463.77 866.808,1464.43 867.949,1465.09 869.091,1465.74 \n",
       "  870.232,1466.39 871.373,1467.04 872.515,1467.69 873.656,1468.34 874.797,1468.98 875.938,1469.63 877.08,1470.27 878.221,1470.91 879.362,1471.55 880.504,1472.18 \n",
       "  881.645,1472.82 882.786,1473.46 883.928,1474.09 885.069,1474.72 886.21,1475.35 887.351,1475.98 888.493,1476.6 889.634,1477.23 890.775,1477.85 891.917,1478.48 \n",
       "  893.058,1479.1 894.199,1479.72 895.341,1480.33 896.482,1480.95 897.623,1481.56 898.764,1482.18 899.906,1482.79 901.047,1483.4 902.188,1484.01 903.33,1484.61 \n",
       "  904.471,1485.22 905.612,1485.82 906.754,1486.43 907.895,1487.03 909.036,1487.63 910.177,1488.22 911.319,1488.82 912.46,1489.42 913.601,1490.01 914.743,1490.6 \n",
       "  915.884,1491.19 917.025,1491.78 918.167,1492.37 919.308,1492.96 920.449,1493.54 921.59,1494.12 922.732,1494.71 923.873,1495.29 925.014,1495.86 926.156,1496.44 \n",
       "  927.297,1497.02 928.438,1497.59 929.58,1498.17 930.721,1498.74 931.862,1499.31 933.004,1499.88 934.145,1500.44 935.286,1501.01 936.427,1501.57 937.569,1502.14 \n",
       "  938.71,1502.7 939.851,1503.26 940.993,1503.82 942.134,1504.37 943.275,1504.93 944.417,1505.48 945.558,1506.04 946.699,1506.59 947.84,1507.14 948.982,1507.69 \n",
       "  950.123,1508.23 951.264,1508.78 952.406,1509.32 953.547,1509.87 954.688,1510.41 955.83,1510.95 956.971,1511.49 958.112,1512.03 959.253,1512.56 960.395,1513.1 \n",
       "  961.536,1513.63 962.677,1514.16 963.819,1514.69 964.96,1515.22 966.101,1515.75 967.243,1516.27 968.384,1516.8 969.525,1517.32 970.666,1517.84 971.808,1518.37 \n",
       "  972.949,1518.88 974.09,1519.4 975.232,1519.92 976.373,1520.43 977.514,1520.95 978.656,1521.46 979.797,1521.97 980.938,1522.48 982.079,1522.99 983.221,1523.5 \n",
       "  984.362,1524 985.503,1524.51 986.645,1525.01 987.786,1525.51 988.927,1526.01 990.069,1526.51 991.21,1527.01 992.351,1527.5 993.492,1528 994.634,1528.49 \n",
       "  995.775,1528.98 996.916,1529.47 998.058,1529.96 999.199,1530.45 1000.34,1530.94 1001.48,1531.42 1002.62,1531.9 1003.76,1532.39 1004.91,1532.87 1006.05,1533.35 \n",
       "  1007.19,1533.83 1008.33,1534.3 1009.47,1534.78 1010.61,1535.25 1011.75,1535.73 1012.89,1536.2 1014.04,1536.67 1015.18,1537.14 1016.32,1537.61 1017.46,1538.07 \n",
       "  1018.6,1538.54 1019.74,1539 1020.88,1539.46 1022.02,1539.92 1023.17,1540.38 1024.31,1540.84 1025.45,1541.3 1026.59,1541.76 1027.73,1542.21 1028.87,1542.66 \n",
       "  1030.01,1543.12 1031.16,1543.57 1032.3,1544.02 1033.44,1544.46 1034.58,1544.91 1035.72,1545.36 1036.86,1545.8 1038,1546.24 1039.14,1546.68 1040.29,1547.12 \n",
       "  1041.43,1547.56 1042.57,1548 1043.71,1548.44 1044.85,1548.87 1045.99,1549.3 1047.13,1549.74 1048.27,1550.17 1049.42,1550.6 1050.56,1551.03 1051.7,1551.45 \n",
       "  1052.84,1551.88 1053.98,1552.3 1055.12,1552.73 1056.26,1553.15 1057.41,1553.57 1058.55,1553.99 1059.69,1554.41 1060.83,1554.82 1061.97,1555.24 1063.11,1555.65 \n",
       "  1064.25,1556.07 1065.39,1556.48 1066.54,1556.89 1067.68,1557.3 1068.82,1557.71 1069.96,1558.11 1071.1,1558.52 1072.24,1558.92 1073.38,1559.32 1074.52,1559.73 \n",
       "  1075.67,1560.13 1076.81,1560.52 1077.95,1560.92 1079.09,1561.32 1080.23,1561.71 1081.37,1562.11 1082.51,1562.5 1083.66,1562.89 1084.8,1563.28 1085.94,1563.67 \n",
       "  1087.08,1564.06 1088.22,1564.44 1089.36,1564.83 1090.5,1565.21 1091.64,1565.59 1092.79,1565.98 1093.93,1566.36 1095.07,1566.73 1096.21,1567.11 1097.35,1567.49 \n",
       "  1098.49,1567.86 1099.63,1568.24 1100.77,1568.61 1101.92,1568.98 1103.06,1569.35 1104.2,1569.72 1105.34,1570.08 1106.48,1570.45 1107.62,1570.81 1108.76,1571.18 \n",
       "  1109.91,1571.54 1111.05,1571.9 1112.19,1572.26 1113.33,1572.62 1114.47,1572.98 1115.61,1573.33 1116.75,1573.69 1117.89,1574.04 1119.04,1574.39 1120.18,1574.74 \n",
       "  1121.32,1575.09 1122.46,1575.44 1123.6,1575.79 1124.74,1576.13 1125.88,1576.48 1127.02,1576.82 1128.17,1577.16 1129.31,1577.5 1130.45,1577.84 1131.59,1578.18 \n",
       "  1132.73,1578.52 1133.87,1578.86 1135.01,1579.19 1136.16,1579.52 1137.3,1579.86 1138.44,1580.19 1139.58,1580.52 1140.72,1580.84 1141.86,1581.17 1143,1581.5 \n",
       "  1144.14,1581.82 1145.29,1582.15 1146.43,1582.47 1147.57,1582.79 1148.71,1583.11 1149.85,1583.43 1150.99,1583.74 1152.13,1584.06 1153.27,1584.37 1154.42,1584.69 \n",
       "  1155.56,1585 1156.7,1585.31 1157.84,1585.62 1158.98,1585.93 1160.12,1586.24 1161.26,1586.54 1162.4,1586.85 1163.55,1587.15 1164.69,1587.45 1165.83,1587.75 \n",
       "  1166.97,1588.05 1168.11,1588.35 1169.25,1588.65 1170.39,1588.94 1171.54,1589.24 1172.68,1589.53 1173.82,1589.82 1174.96,1590.11 1176.1,1590.4 1177.24,1590.69 \n",
       "  1178.38,1590.98 1179.52,1591.26 1180.67,1591.55 1181.81,1591.83 1182.95,1592.12 1184.09,1592.4 1185.23,1592.68 1186.37,1592.95 1187.51,1593.23 1188.65,1593.51 \n",
       "  1189.8,1593.78 1190.94,1594.05 1192.08,1594.33 1193.22,1594.6 1194.36,1594.87 1195.5,1595.14 1196.64,1595.4 1197.79,1595.67 1198.93,1595.93 1200.07,1596.2 \n",
       "  1201.21,1596.46 1202.35,1596.72 1203.49,1596.98 1204.63,1597.24 1205.77,1597.49 1206.92,1597.75 1208.06,1598 1209.2,1598.26 1210.34,1598.51 1211.48,1598.76 \n",
       "  1212.62,1599.01 1213.76,1599.26 1214.9,1599.5 1216.05,1599.75 1217.19,1599.99 1218.33,1600.24 1219.47,1600.48 1220.61,1600.72 1221.75,1600.96 1222.89,1601.2 \n",
       "  1224.04,1601.43 1225.18,1601.67 1226.32,1601.9 1227.46,1602.14 1228.6,1602.37 1229.74,1602.6 1230.88,1602.83 1232.02,1603.05 1233.17,1603.28 1234.31,1603.51 \n",
       "  1235.45,1603.73 1236.59,1603.95 1237.73,1604.17 1238.87,1604.39 1240.01,1604.61 1241.15,1604.83 1242.3,1605.05 1243.44,1605.26 1244.58,1605.47 1245.72,1605.69 \n",
       "  1246.86,1605.9 1248,1606.11 1249.14,1606.32 1250.29,1606.52 1251.43,1606.73 1252.57,1606.93 1253.71,1607.14 1254.85,1607.34 1255.99,1607.54 1257.13,1607.74 \n",
       "  1258.27,1607.93 1259.42,1608.13 1260.56,1608.33 1261.7,1608.52 1262.84,1608.71 1263.98,1608.9 1265.12,1609.09 1266.26,1609.28 1267.4,1609.47 1268.55,1609.65 \n",
       "  1269.69,1609.84 1270.83,1610.02 1271.97,1610.2 1273.11,1610.38 1274.25,1610.56 1275.39,1610.74 1276.54,1610.92 1277.68,1611.09 1278.82,1611.27 1279.96,1611.44 \n",
       "  1281.1,1611.61 1282.24,1611.78 1283.38,1611.95 1284.52,1612.11 1285.67,1612.28 1286.81,1612.44 1287.95,1612.61 1289.09,1612.77 1290.23,1612.93 1291.37,1613.08 \n",
       "  1292.51,1613.24 1293.65,1613.4 1294.8,1613.55 1295.94,1613.7 1297.08,1613.86 1298.22,1614.01 1299.36,1614.15 1300.5,1614.3 1301.64,1614.45 1302.79,1614.59 \n",
       "  1303.93,1614.73 1305.07,1614.87 1306.21,1615.01 1307.35,1615.15 1308.49,1615.29 1309.63,1615.43 1310.77,1615.56 1311.92,1615.69 1313.06,1615.82 1314.2,1615.95 \n",
       "  1315.34,1616.08 1316.48,1616.21 1317.62,1616.33 1318.76,1616.45 1319.9,1616.58 1321.05,1616.7 1322.19,1616.82 1323.33,1616.93 1324.47,1617.05 1325.61,1617.16 \n",
       "  1326.75,1617.28 1327.89,1617.39 1329.03,1617.5 1330.18,1617.6 1331.32,1617.71 1332.46,1617.81 1333.6,1617.92 1334.74,1618.02 1335.88,1618.12 1337.02,1618.22 \n",
       "  1338.17,1618.31 1339.31,1618.41 1340.45,1618.5 1341.59,1618.59 1342.73,1618.68 1343.87,1618.77 1345.01,1618.85 1346.15,1618.94 1347.3,1619.02 1348.44,1619.1 \n",
       "  1349.58,1619.18 1350.72,1619.26 1351.86,1619.33 1353,1619.41 1354.14,1619.48 1355.28,1619.55 1356.43,1619.61 1357.57,1619.68 1358.71,1619.74 1359.85,1619.8 \n",
       "  1360.99,1619.86 1362.13,1619.92 1363.27,1619.98 1364.42,1620.03 1365.56,1620.08 1366.7,1620.13 1367.84,1620.18 1368.98,1620.22 1370.12,1620.26 1371.26,1620.3 \n",
       "  1372.4,1620.34 1373.55,1620.37 1374.69,1620.4 1375.83,1620.43 1376.97,1620.46 1378.11,1620.48 1379.25,1620.5 1380.39,1620.51 1381.53,1620.52 1382.68,1620.53 \n",
       "  \n",
       "  \"/>\n",
       "<polyline clip-path=\"url(#clip5002)\" style=\"stroke:#c271d2; stroke-width:8; stroke-opacity:1; fill:none\" points=\"\n",
       "  242.516,480.367 243.658,481.509 244.799,482.65 245.94,483.791 247.082,484.933 248.223,486.074 249.364,487.215 250.506,488.357 251.647,489.498 252.788,490.639 \n",
       "  253.929,491.781 255.071,492.922 256.212,494.063 257.353,495.204 258.495,496.346 259.636,497.487 260.777,498.628 261.919,499.77 263.06,500.911 264.201,502.052 \n",
       "  265.342,503.194 266.484,504.335 267.625,505.476 268.766,506.617 269.908,507.759 271.049,508.9 272.19,510.041 273.332,511.183 274.473,512.324 275.614,513.465 \n",
       "  276.755,514.607 277.897,515.748 279.038,516.889 280.179,518.03 281.321,519.172 282.462,520.313 283.603,521.454 284.745,522.596 285.886,523.737 287.027,524.878 \n",
       "  288.168,526.02 289.31,527.161 290.451,528.302 291.592,529.443 292.734,530.585 293.875,531.726 295.016,532.867 296.158,534.009 297.299,535.15 298.44,536.291 \n",
       "  299.581,537.433 300.723,538.574 301.864,539.715 303.005,540.856 304.147,541.998 305.288,543.139 306.429,544.28 307.571,545.422 308.712,546.563 309.853,547.704 \n",
       "  310.994,548.846 312.136,549.987 313.277,551.128 314.418,552.269 315.56,553.411 316.701,554.552 317.842,555.693 318.984,556.835 320.125,557.976 321.266,559.117 \n",
       "  322.407,560.259 323.549,561.4 324.69,562.541 325.831,563.682 326.973,564.824 328.114,565.965 329.255,567.106 330.397,568.248 331.538,569.389 332.679,570.53 \n",
       "  333.821,571.672 334.962,572.813 336.103,573.954 337.244,575.095 338.386,576.237 339.527,577.378 340.668,578.519 341.81,579.661 342.951,580.802 344.092,581.943 \n",
       "  345.234,583.085 346.375,584.226 347.516,585.367 348.657,586.508 349.799,587.65 350.94,588.791 352.081,589.932 353.223,591.074 354.364,592.215 355.505,593.356 \n",
       "  356.647,594.498 357.788,595.639 358.929,596.78 360.07,597.921 361.212,599.063 362.353,600.204 363.494,601.345 364.636,602.487 365.777,603.628 366.918,604.769 \n",
       "  368.06,605.911 369.201,607.052 370.342,608.193 371.483,609.335 372.625,610.476 373.766,611.617 374.907,612.758 376.049,613.9 377.19,615.041 378.331,616.182 \n",
       "  379.473,617.324 380.614,618.465 381.755,619.606 382.896,620.748 384.038,621.889 385.179,623.03 386.32,624.171 387.462,625.313 388.603,626.454 389.744,627.595 \n",
       "  390.886,628.737 392.027,629.878 393.168,631.019 394.309,632.161 395.451,633.302 396.592,634.443 397.733,635.584 398.875,636.726 400.016,637.867 401.157,639.008 \n",
       "  402.299,640.15 403.44,641.291 404.581,642.432 405.722,643.574 406.864,644.715 408.005,645.856 409.146,646.997 410.288,648.139 411.429,649.28 412.57,650.421 \n",
       "  413.712,651.563 414.853,652.704 415.994,653.845 417.135,654.987 418.277,656.128 419.418,657.269 420.559,658.41 421.701,659.552 422.842,660.693 423.983,661.834 \n",
       "  425.125,662.976 426.266,664.117 427.407,665.258 428.548,666.4 429.69,667.541 430.831,668.682 431.972,669.823 433.114,670.965 434.255,672.106 435.396,673.247 \n",
       "  436.538,674.389 437.679,675.53 438.82,676.671 439.961,677.813 441.103,678.954 442.244,680.095 443.385,681.236 444.527,682.378 445.668,683.519 446.809,684.66 \n",
       "  447.951,685.802 449.092,686.943 450.233,688.084 451.374,689.226 452.516,690.367 453.657,691.508 454.798,692.649 455.94,693.791 457.081,694.932 458.222,696.073 \n",
       "  459.364,697.215 460.505,698.356 461.646,699.497 462.788,700.639 463.929,701.78 465.07,702.921 466.211,704.062 467.353,705.204 468.494,706.345 469.635,707.486 \n",
       "  470.777,708.628 471.918,709.769 473.059,710.91 474.201,712.052 475.342,713.193 476.483,714.334 477.624,715.475 478.766,716.617 479.907,717.758 481.048,718.899 \n",
       "  482.19,720.041 483.331,721.182 484.472,722.323 485.614,723.465 486.755,724.606 487.896,725.747 489.037,726.889 490.179,728.03 491.32,729.171 492.461,730.312 \n",
       "  493.603,731.454 494.744,732.595 495.885,733.736 497.027,734.878 498.168,736.019 499.309,737.16 500.45,738.302 501.592,739.443 502.733,740.584 503.874,741.725 \n",
       "  505.016,742.867 506.157,744.008 507.298,745.149 508.44,746.291 509.581,747.432 510.722,748.573 511.863,749.715 513.005,750.856 514.146,751.997 515.287,753.138 \n",
       "  516.429,754.28 517.57,755.421 518.711,756.562 519.853,757.704 520.994,758.845 522.135,759.986 523.276,761.128 524.418,762.269 525.559,763.41 526.7,764.551 \n",
       "  527.842,765.693 528.983,766.834 530.124,767.975 531.266,769.117 532.407,770.258 533.548,771.399 534.689,772.541 535.831,773.682 536.972,774.823 538.113,775.964 \n",
       "  539.255,777.106 540.396,778.247 541.537,779.388 542.679,780.53 543.82,781.671 544.961,782.812 546.102,783.954 547.244,785.095 548.385,786.236 549.526,787.377 \n",
       "  550.668,788.519 551.809,789.66 552.95,790.801 554.092,791.943 555.233,793.084 556.374,794.225 557.515,795.367 558.657,796.508 559.798,797.649 560.939,798.79 \n",
       "  562.081,799.932 563.222,801.073 564.363,802.214 565.505,803.356 566.646,804.497 567.787,805.638 568.928,806.78 570.07,807.921 571.211,809.062 572.352,810.203 \n",
       "  573.494,811.345 574.635,812.486 575.776,813.627 576.918,814.769 578.059,815.91 579.2,817.051 580.342,818.193 581.483,819.334 582.624,820.475 583.765,821.616 \n",
       "  584.907,822.758 586.048,823.899 587.189,825.04 588.331,826.182 589.472,827.323 590.613,828.464 591.755,829.606 592.896,830.747 594.037,831.888 595.178,833.029 \n",
       "  596.32,834.171 597.461,835.312 598.602,836.453 599.744,837.595 600.885,838.736 602.026,839.877 603.168,841.019 604.309,842.16 605.45,843.301 606.591,844.442 \n",
       "  607.733,845.584 608.874,846.725 610.015,847.866 611.157,849.008 612.298,850.149 613.439,851.29 614.581,852.432 615.722,853.573 616.863,854.714 618.004,855.856 \n",
       "  619.146,856.997 620.287,858.138 621.428,859.279 622.57,860.421 623.711,861.562 624.852,862.703 625.994,863.845 627.135,864.986 628.276,866.127 629.417,867.269 \n",
       "  630.559,868.41 631.7,869.551 632.841,870.692 633.983,871.834 635.124,872.975 636.265,874.116 637.407,875.258 638.548,876.399 639.689,877.54 640.83,878.682 \n",
       "  641.972,879.823 643.113,880.964 644.254,882.105 645.396,883.247 646.537,884.388 647.678,885.529 648.82,886.671 649.961,887.812 651.102,888.953 652.243,890.095 \n",
       "  653.385,891.236 654.526,892.377 655.667,893.518 656.809,894.66 657.95,895.801 659.091,896.942 660.233,898.084 661.374,899.225 662.515,900.366 663.656,901.508 \n",
       "  664.798,902.649 665.939,903.79 667.08,904.931 668.222,906.073 669.363,907.214 670.504,908.355 671.646,909.497 672.787,910.638 673.928,911.779 675.069,912.921 \n",
       "  676.211,914.062 677.352,915.203 678.493,916.344 679.635,917.486 680.776,918.627 681.917,919.768 683.059,920.91 684.2,922.051 685.341,923.192 686.482,924.334 \n",
       "  687.624,925.475 688.765,926.616 689.906,927.757 691.048,928.899 692.189,930.04 693.33,931.181 694.472,932.323 695.613,933.464 696.754,934.605 697.896,935.747 \n",
       "  699.037,936.888 700.178,938.029 701.319,939.17 702.461,940.312 703.602,941.453 704.743,942.594 705.885,943.736 707.026,944.877 708.167,946.018 709.309,947.16 \n",
       "  710.45,948.301 711.591,949.442 712.732,950.583 713.874,951.725 715.015,952.866 716.156,954.007 717.298,955.149 718.439,956.29 719.58,957.431 720.722,958.573 \n",
       "  721.863,959.714 723.004,960.855 724.145,961.996 725.287,963.138 726.428,964.279 727.569,965.42 728.711,966.562 729.852,967.703 730.993,968.844 732.135,969.986 \n",
       "  733.276,971.127 734.417,972.268 735.558,973.41 736.7,974.551 737.841,975.692 738.982,976.833 740.124,977.975 741.265,979.116 742.406,980.257 743.548,981.399 \n",
       "  744.689,982.54 745.83,983.681 746.971,984.823 748.113,985.964 749.254,987.105 750.395,988.246 751.537,989.388 752.678,990.529 753.819,991.67 754.961,992.812 \n",
       "  756.102,993.953 757.243,995.094 758.384,996.236 759.526,997.377 760.667,998.518 761.808,999.659 762.95,1000.8 764.091,1001.94 765.232,1003.08 766.374,1004.22 \n",
       "  767.515,1005.37 768.656,1006.51 769.797,1007.65 770.939,1008.79 772.08,1009.93 773.221,1011.07 774.363,1012.21 775.504,1013.36 776.645,1014.5 777.787,1015.64 \n",
       "  778.928,1016.78 780.069,1017.92 781.21,1019.06 782.352,1020.2 783.493,1021.34 784.634,1022.49 785.776,1023.63 786.917,1024.77 788.058,1025.91 789.2,1027.05 \n",
       "  790.341,1028.19 791.482,1029.33 792.623,1030.47 793.765,1031.62 794.906,1032.76 796.047,1033.9 797.189,1035.04 798.33,1036.18 799.471,1037.32 800.613,1038.46 \n",
       "  801.754,1039.6 802.895,1040.75 804.036,1041.89 805.178,1043.03 806.319,1044.17 807.46,1045.31 808.602,1046.45 809.743,1047.59 810.884,1048.74 812.026,1049.88 \n",
       "  813.167,1051.02 814.308,1052.16 815.45,1053.3 816.591,1054.44 817.732,1055.58 818.873,1056.72 820.015,1057.87 821.156,1059.01 822.297,1060.15 823.439,1061.29 \n",
       "  824.58,1062.43 825.721,1063.57 826.863,1064.71 828.004,1065.85 829.145,1067 830.286,1068.14 831.428,1069.28 832.569,1070.42 833.71,1071.56 834.852,1072.7 \n",
       "  835.993,1073.84 837.134,1074.99 838.276,1076.13 839.417,1077.27 840.558,1078.41 841.699,1079.55 842.841,1080.69 843.982,1081.83 845.123,1082.97 846.265,1084.12 \n",
       "  847.406,1085.26 848.547,1086.4 849.689,1087.54 850.83,1088.68 851.971,1089.82 853.112,1090.96 854.254,1092.1 855.395,1093.25 856.536,1094.39 857.678,1095.53 \n",
       "  858.819,1096.67 859.96,1097.81 861.102,1098.95 862.243,1100.09 863.384,1101.24 864.525,1102.38 865.667,1103.52 866.808,1104.66 867.949,1105.8 869.091,1106.94 \n",
       "  870.232,1108.08 871.373,1109.22 872.515,1110.37 873.656,1111.51 874.797,1112.65 875.938,1113.79 877.08,1114.93 878.221,1116.07 879.362,1117.21 880.504,1118.35 \n",
       "  881.645,1119.5 882.786,1120.64 883.928,1121.78 885.069,1122.92 886.21,1124.06 887.351,1125.2 888.493,1126.34 889.634,1127.49 890.775,1128.63 891.917,1129.77 \n",
       "  893.058,1130.91 894.199,1132.05 895.341,1133.19 896.482,1134.33 897.623,1135.47 898.764,1136.62 899.906,1137.76 901.047,1138.9 902.188,1140.04 903.33,1141.18 \n",
       "  904.471,1142.32 905.612,1143.46 906.754,1144.6 907.895,1145.75 909.036,1146.89 910.177,1148.03 911.319,1149.17 912.46,1150.31 913.601,1151.45 914.743,1152.59 \n",
       "  915.884,1153.74 917.025,1154.88 918.167,1156.02 919.308,1157.16 920.449,1158.3 921.59,1159.44 922.732,1160.58 923.873,1161.72 925.014,1162.87 926.156,1164.01 \n",
       "  927.297,1165.15 928.438,1166.29 929.58,1167.43 930.721,1168.57 931.862,1169.71 933.004,1170.85 934.145,1172 935.286,1173.14 936.427,1174.28 937.569,1175.42 \n",
       "  938.71,1176.56 939.851,1177.7 940.993,1178.84 942.134,1179.98 943.275,1181.13 944.417,1182.27 945.558,1183.41 946.699,1184.55 947.84,1185.69 948.982,1186.83 \n",
       "  950.123,1187.97 951.264,1189.12 952.406,1190.26 953.547,1191.4 954.688,1192.54 955.83,1193.68 956.971,1194.82 958.112,1195.96 959.253,1197.1 960.395,1198.25 \n",
       "  961.536,1199.39 962.677,1200.53 963.819,1201.67 964.96,1202.81 966.101,1203.95 967.243,1205.09 968.384,1206.23 969.525,1207.38 970.666,1208.52 971.808,1209.66 \n",
       "  972.949,1210.8 974.09,1211.94 975.232,1213.08 976.373,1214.22 977.514,1215.37 978.656,1216.51 979.797,1217.65 980.938,1218.79 982.079,1219.93 983.221,1221.07 \n",
       "  984.362,1222.21 985.503,1223.35 986.645,1224.5 987.786,1225.64 988.927,1226.78 990.069,1227.92 991.21,1229.06 992.351,1230.2 993.492,1231.34 994.634,1232.48 \n",
       "  995.775,1233.63 996.916,1234.77 998.058,1235.91 999.199,1237.05 1000.34,1238.19 1001.48,1239.33 1002.62,1240.47 1003.76,1241.62 1004.91,1242.76 1006.05,1243.9 \n",
       "  1007.19,1245.04 1008.33,1246.18 1009.47,1247.32 1010.61,1248.46 1011.75,1249.6 1012.89,1250.75 1014.04,1251.89 1015.18,1253.03 1016.32,1254.17 1017.46,1255.31 \n",
       "  1018.6,1256.45 1019.74,1257.59 1020.88,1258.73 1022.02,1259.88 1023.17,1261.02 1024.31,1262.16 1025.45,1263.3 1026.59,1264.44 1027.73,1265.58 1028.87,1266.72 \n",
       "  1030.01,1267.87 1031.16,1269.01 1032.3,1270.15 1033.44,1271.29 1034.58,1272.43 1035.72,1273.57 1036.86,1274.71 1038,1275.85 1039.14,1277 1040.29,1278.14 \n",
       "  1041.43,1279.28 1042.57,1280.42 1043.71,1281.56 1044.85,1282.7 1045.99,1283.84 1047.13,1284.98 1048.27,1286.13 1049.42,1287.27 1050.56,1288.41 1051.7,1289.55 \n",
       "  1052.84,1290.69 1053.98,1291.83 1055.12,1292.97 1056.26,1294.12 1057.41,1295.26 1058.55,1296.4 1059.69,1297.54 1060.83,1298.68 1061.97,1299.82 1063.11,1300.96 \n",
       "  1064.25,1302.1 1065.39,1303.25 1066.54,1304.39 1067.68,1305.53 1068.82,1306.67 1069.96,1307.81 1071.1,1308.95 1072.24,1310.09 1073.38,1311.23 1074.52,1312.38 \n",
       "  1075.67,1313.52 1076.81,1314.66 1077.95,1315.8 1079.09,1316.94 1080.23,1318.08 1081.37,1319.22 1082.51,1320.36 1083.66,1321.51 1084.8,1322.65 1085.94,1323.79 \n",
       "  1087.08,1324.93 1088.22,1326.07 1089.36,1327.21 1090.5,1328.35 1091.64,1329.5 1092.79,1330.64 1093.93,1331.78 1095.07,1332.92 1096.21,1334.06 1097.35,1335.2 \n",
       "  1098.49,1336.34 1099.63,1337.48 1100.77,1338.63 1101.92,1339.77 1103.06,1340.91 1104.2,1342.05 1105.34,1343.19 1106.48,1344.33 1107.62,1345.47 1108.76,1346.61 \n",
       "  1109.91,1347.76 1111.05,1348.9 1112.19,1350.04 1113.33,1351.18 1114.47,1352.32 1115.61,1353.46 1116.75,1354.6 1117.89,1355.75 1119.04,1356.89 1120.18,1358.03 \n",
       "  1121.32,1359.17 1122.46,1360.31 1123.6,1361.45 1124.74,1362.59 1125.88,1363.73 1127.02,1364.88 1128.17,1366.02 1129.31,1367.16 1130.45,1368.3 1131.59,1369.44 \n",
       "  1132.73,1370.58 1133.87,1371.72 1135.01,1372.86 1136.16,1374.01 1137.3,1375.15 1138.44,1376.29 1139.58,1377.43 1140.72,1378.57 1141.86,1379.71 1143,1380.85 \n",
       "  1144.14,1382 1145.29,1383.14 1146.43,1384.28 1147.57,1385.42 1148.71,1386.56 1149.85,1387.7 1150.99,1388.84 1152.13,1389.98 1153.27,1391.13 1154.42,1392.27 \n",
       "  1155.56,1393.41 1156.7,1394.55 1157.84,1395.69 1158.98,1396.83 1160.12,1397.97 1161.26,1399.11 1162.4,1400.26 1163.55,1401.4 1164.69,1402.54 1165.83,1403.68 \n",
       "  1166.97,1404.82 1168.11,1405.96 1169.25,1407.1 1170.39,1408.25 1171.54,1409.39 1172.68,1410.53 1173.82,1411.67 1174.96,1412.81 1176.1,1413.95 1177.24,1415.09 \n",
       "  1178.38,1416.23 1179.52,1417.38 1180.67,1418.52 1181.81,1419.66 1182.95,1420.8 1184.09,1421.94 1185.23,1423.08 1186.37,1424.22 1187.51,1425.36 1188.65,1426.51 \n",
       "  1189.8,1427.65 1190.94,1428.79 1192.08,1429.93 1193.22,1431.07 1194.36,1432.21 1195.5,1433.35 1196.64,1434.5 1197.79,1435.64 1198.93,1436.78 1200.07,1437.92 \n",
       "  1201.21,1439.06 1202.35,1440.2 1203.49,1441.34 1204.63,1442.48 1205.77,1443.63 1206.92,1444.77 1208.06,1445.91 1209.2,1447.05 1210.34,1448.19 1211.48,1449.33 \n",
       "  1212.62,1450.47 1213.76,1451.61 1214.9,1452.76 1216.05,1453.9 1217.19,1455.04 1218.33,1456.18 1219.47,1457.32 1220.61,1458.46 1221.75,1459.6 1222.89,1460.75 \n",
       "  1224.04,1461.89 1225.18,1463.03 1226.32,1464.17 1227.46,1465.31 1228.6,1466.45 1229.74,1467.59 1230.88,1468.73 1232.02,1469.88 1233.17,1471.02 1234.31,1472.16 \n",
       "  1235.45,1473.3 1236.59,1474.44 1237.73,1475.58 1238.87,1476.72 1240.01,1477.86 1241.15,1479.01 1242.3,1480.15 1243.44,1481.29 1244.58,1482.43 1245.72,1483.57 \n",
       "  1246.86,1484.71 1248,1485.85 1249.14,1486.99 1250.29,1488.14 1251.43,1489.28 1252.57,1490.42 1253.71,1491.56 1254.85,1492.7 1255.99,1493.84 1257.13,1494.98 \n",
       "  1258.27,1496.13 1259.42,1497.27 1260.56,1498.41 1261.7,1499.55 1262.84,1500.69 1263.98,1501.83 1265.12,1502.97 1266.26,1504.11 1267.4,1505.26 1268.55,1506.4 \n",
       "  1269.69,1507.54 1270.83,1508.68 1271.97,1509.82 1273.11,1510.96 1274.25,1512.1 1275.39,1513.24 1276.54,1514.39 1277.68,1515.53 1278.82,1516.67 1279.96,1517.81 \n",
       "  1281.1,1518.95 1282.24,1520.09 1283.38,1521.23 1284.52,1522.38 1285.67,1523.52 1286.81,1524.66 1287.95,1525.8 1289.09,1526.94 1290.23,1528.08 1291.37,1529.22 \n",
       "  1292.51,1530.36 1293.65,1531.51 1294.8,1532.65 1295.94,1533.79 1297.08,1534.93 1298.22,1536.07 1299.36,1537.21 1300.5,1538.35 1301.64,1539.49 1302.79,1540.64 \n",
       "  1303.93,1541.78 1305.07,1542.92 1306.21,1544.06 1307.35,1545.2 1308.49,1546.34 1309.63,1547.48 1310.77,1548.63 1311.92,1549.77 1313.06,1550.91 1314.2,1552.05 \n",
       "  1315.34,1553.19 1316.48,1554.33 1317.62,1555.47 1318.76,1556.61 1319.9,1557.76 1321.05,1558.9 1322.19,1560.04 1323.33,1561.18 1324.47,1562.32 1325.61,1563.46 \n",
       "  1326.75,1564.6 1327.89,1565.74 1329.03,1566.89 1330.18,1568.03 1331.32,1569.17 1332.46,1570.31 1333.6,1571.45 1334.74,1572.59 1335.88,1573.73 1337.02,1574.88 \n",
       "  1338.17,1576.02 1339.31,1577.16 1340.45,1578.3 1341.59,1579.44 1342.73,1580.58 1343.87,1581.72 1345.01,1582.86 1346.15,1584.01 1347.3,1585.15 1348.44,1586.29 \n",
       "  1349.58,1587.43 1350.72,1588.57 1351.86,1589.71 1353,1590.85 1354.14,1591.99 1355.28,1593.14 1356.43,1594.28 1357.57,1595.42 1358.71,1596.56 1359.85,1597.7 \n",
       "  1360.99,1598.84 1362.13,1599.98 1363.27,1601.13 1364.42,1602.27 1365.56,1603.41 1366.7,1604.55 1367.84,1605.69 1368.98,1606.83 1370.12,1607.97 1371.26,1609.11 \n",
       "  1372.4,1610.26 1373.55,1611.4 1374.69,1612.54 1375.83,1613.68 1376.97,1614.82 1378.11,1615.96 1379.25,1617.1 1380.39,1618.24 1381.53,1619.39 1382.68,1620.53 \n",
       "  \n",
       "  \"/>\n",
       "<polyline clip-path=\"url(#clip5002)\" style=\"stroke:#ac8d18; stroke-width:8; stroke-opacity:1; fill:none\" points=\"\n",
       "  242.516,480.367 243.658,480.368 244.799,480.37 245.94,480.373 247.082,480.377 248.223,480.382 249.364,480.388 250.506,480.395 251.647,480.404 252.788,480.414 \n",
       "  253.929,480.425 255.071,480.437 256.212,480.45 257.353,480.464 258.495,480.479 259.636,480.496 260.777,480.514 261.919,480.533 263.06,480.553 264.201,480.574 \n",
       "  265.342,480.596 266.484,480.619 267.625,480.644 268.766,480.67 269.908,480.697 271.049,480.725 272.19,480.754 273.332,480.784 274.473,480.815 275.614,480.848 \n",
       "  276.755,480.882 277.897,480.917 279.038,480.953 280.179,480.99 281.321,481.028 282.462,481.067 283.603,481.108 284.745,481.15 285.886,481.193 287.027,481.237 \n",
       "  288.168,481.282 289.31,481.328 290.451,481.376 291.592,481.424 292.734,481.474 293.875,481.525 295.016,481.577 296.158,481.63 297.299,481.684 298.44,481.74 \n",
       "  299.581,481.796 300.723,481.854 301.864,481.913 303.005,481.973 304.147,482.034 305.288,482.097 306.429,482.16 307.571,482.225 308.712,482.291 309.853,482.358 \n",
       "  310.994,482.426 312.136,482.495 313.277,482.565 314.418,482.637 315.56,482.71 316.701,482.783 317.842,482.858 318.984,482.935 320.125,483.012 321.266,483.09 \n",
       "  322.407,483.17 323.549,483.251 324.69,483.333 325.831,483.416 326.973,483.5 328.114,483.585 329.255,483.672 330.397,483.759 331.538,483.848 332.679,483.938 \n",
       "  333.821,484.029 334.962,484.121 336.103,484.215 337.244,484.309 338.386,484.405 339.527,484.502 340.668,484.6 341.81,484.699 342.951,484.8 344.092,484.901 \n",
       "  345.234,485.004 346.375,485.108 347.516,485.213 348.657,485.319 349.799,485.426 350.94,485.534 352.081,485.644 353.223,485.755 354.364,485.867 355.505,485.98 \n",
       "  356.647,486.094 357.788,486.209 358.929,486.326 360.07,486.444 361.212,486.563 362.353,486.683 363.494,486.804 364.636,486.926 365.777,487.05 366.918,487.174 \n",
       "  368.06,487.3 369.201,487.427 370.342,487.556 371.483,487.685 372.625,487.815 373.766,487.947 374.907,488.08 376.049,488.214 377.19,488.349 378.331,488.485 \n",
       "  379.473,488.623 380.614,488.762 381.755,488.901 382.896,489.043 384.038,489.185 385.179,489.328 386.32,489.473 387.462,489.618 388.603,489.765 389.744,489.913 \n",
       "  390.886,490.062 392.027,490.213 393.168,490.364 394.309,490.517 395.451,490.671 396.592,490.826 397.733,490.982 398.875,491.14 400.016,491.298 401.157,491.458 \n",
       "  402.299,491.619 403.44,491.781 404.581,491.944 405.722,492.109 406.864,492.275 408.005,492.441 409.146,492.609 410.288,492.779 411.429,492.949 412.57,493.121 \n",
       "  413.712,493.293 414.853,493.467 415.994,493.642 417.135,493.819 418.277,493.996 419.418,494.175 420.559,494.355 421.701,494.536 422.842,494.718 423.983,494.901 \n",
       "  425.125,495.086 426.266,495.272 427.407,495.459 428.548,495.647 429.69,495.836 430.831,496.027 431.972,496.218 433.114,496.411 434.255,496.605 435.396,496.801 \n",
       "  436.538,496.997 437.679,497.195 438.82,497.394 439.961,497.594 441.103,497.795 442.244,497.997 443.385,498.201 444.527,498.406 445.668,498.612 446.809,498.819 \n",
       "  447.951,499.028 449.092,499.237 450.233,499.448 451.374,499.66 452.516,499.874 453.657,500.088 454.798,500.304 455.94,500.521 457.081,500.739 458.222,500.958 \n",
       "  459.364,501.179 460.505,501.4 461.646,501.623 462.788,501.847 463.929,502.073 465.07,502.299 466.211,502.527 467.353,502.756 468.494,502.986 469.635,503.217 \n",
       "  470.777,503.45 471.918,503.684 473.059,503.919 474.201,504.155 475.342,504.393 476.483,504.631 477.624,504.871 478.766,505.112 479.907,505.355 481.048,505.598 \n",
       "  482.19,505.843 483.331,506.089 484.472,506.336 485.614,506.585 486.755,506.834 487.896,507.085 489.037,507.337 490.179,507.591 491.32,507.845 492.461,508.101 \n",
       "  493.603,508.358 494.744,508.616 495.885,508.876 497.027,509.137 498.168,509.399 499.309,509.662 500.45,509.926 501.592,510.192 502.733,510.459 503.874,510.727 \n",
       "  505.016,510.997 506.157,511.267 507.298,511.539 508.44,511.812 509.581,512.087 510.722,512.362 511.863,512.639 513.005,512.917 514.146,513.196 515.287,513.477 \n",
       "  516.429,513.759 517.57,514.042 518.711,514.326 519.853,514.612 520.994,514.899 522.135,515.187 523.276,515.476 524.418,515.767 525.559,516.059 526.7,516.352 \n",
       "  527.842,516.646 528.983,516.942 530.124,517.239 531.266,517.537 532.407,517.836 533.548,518.137 534.689,518.439 535.831,518.742 536.972,519.046 538.113,519.352 \n",
       "  539.255,519.659 540.396,519.967 541.537,520.277 542.679,520.588 543.82,520.9 544.961,521.213 546.102,521.528 547.244,521.844 548.385,522.161 549.526,522.479 \n",
       "  550.668,522.799 551.809,523.12 552.95,523.442 554.092,523.766 555.233,524.091 556.374,524.417 557.515,524.744 558.657,525.073 559.798,525.403 560.939,525.735 \n",
       "  562.081,526.067 563.222,526.401 564.363,526.736 565.505,527.073 566.646,527.41 567.787,527.75 568.928,528.09 570.07,528.432 571.211,528.774 572.352,529.119 \n",
       "  573.494,529.464 574.635,529.811 575.776,530.159 576.918,530.509 578.059,530.86 579.2,531.212 580.342,531.565 581.483,531.92 582.624,532.276 583.765,532.633 \n",
       "  584.907,532.992 586.048,533.352 587.189,533.713 588.331,534.076 589.472,534.44 590.613,534.805 591.755,535.172 592.896,535.539 594.037,535.909 595.178,536.279 \n",
       "  596.32,536.651 597.461,537.024 598.602,537.399 599.744,537.775 600.885,538.152 602.026,538.531 603.168,538.91 604.309,539.292 605.45,539.674 606.591,540.058 \n",
       "  607.733,540.443 608.874,540.83 610.015,541.218 611.157,541.607 612.298,541.998 613.439,542.39 614.581,542.783 615.722,543.178 616.863,543.574 618.004,543.971 \n",
       "  619.146,544.37 620.287,544.77 621.428,545.171 622.57,545.574 623.711,545.979 624.852,546.384 625.994,546.791 627.135,547.199 628.276,547.609 629.417,548.02 \n",
       "  630.559,548.432 631.7,548.846 632.841,549.261 633.983,549.678 635.124,550.096 636.265,550.515 637.407,550.936 638.548,551.358 639.689,551.781 640.83,552.206 \n",
       "  641.972,552.632 643.113,553.06 644.254,553.489 645.396,553.919 646.537,554.351 647.678,554.784 648.82,555.219 649.961,555.655 651.102,556.092 652.243,556.531 \n",
       "  653.385,556.971 654.526,557.413 655.667,557.856 656.809,558.3 657.95,558.746 659.091,559.193 660.233,559.642 661.374,560.092 662.515,560.544 663.656,560.997 \n",
       "  664.798,561.451 665.939,561.907 667.08,562.364 668.222,562.823 669.363,563.283 670.504,563.744 671.646,564.207 672.787,564.671 673.928,565.137 675.069,565.604 \n",
       "  676.211,566.073 677.352,566.543 678.493,567.015 679.635,567.488 680.776,567.962 681.917,568.438 683.059,568.916 684.2,569.395 685.341,569.875 686.482,570.357 \n",
       "  687.624,570.84 688.765,571.325 689.906,571.811 691.048,572.298 692.189,572.787 693.33,573.278 694.472,573.77 695.613,574.264 696.754,574.758 697.896,575.255 \n",
       "  699.037,575.753 700.178,576.252 701.319,576.753 702.461,577.256 703.602,577.76 704.743,578.265 705.885,578.772 707.026,579.28 708.167,579.79 709.309,580.302 \n",
       "  710.45,580.815 711.591,581.329 712.732,581.845 713.874,582.362 715.015,582.881 716.156,583.402 717.298,583.924 718.439,584.447 719.58,584.972 720.722,585.499 \n",
       "  721.863,586.027 723.004,586.556 724.145,587.087 725.287,587.62 726.428,588.154 727.569,588.69 728.711,589.227 729.852,589.766 730.993,590.307 732.135,590.848 \n",
       "  733.276,591.392 734.417,591.937 735.558,592.484 736.7,593.032 737.841,593.581 738.982,594.133 740.124,594.685 741.265,595.24 742.406,595.796 743.548,596.353 \n",
       "  744.689,596.913 745.83,597.473 746.971,598.036 748.113,598.599 749.254,599.165 750.395,599.732 751.537,600.3 752.678,600.871 753.819,601.443 754.961,602.016 \n",
       "  756.102,602.591 757.243,603.168 758.384,603.746 759.526,604.326 760.667,604.907 761.808,605.49 762.95,606.075 764.091,606.661 765.232,607.249 766.374,607.839 \n",
       "  767.515,608.43 768.656,609.023 769.797,609.617 770.939,610.213 772.08,610.811 773.221,611.411 774.363,612.012 775.504,612.614 776.645,613.219 777.787,613.825 \n",
       "  778.928,614.432 780.069,615.042 781.21,615.653 782.352,616.265 783.493,616.88 784.634,617.496 785.776,618.113 786.917,618.733 788.058,619.354 789.2,619.977 \n",
       "  790.341,620.601 791.482,621.227 792.623,621.855 793.765,622.484 794.906,623.116 796.047,623.749 797.189,624.383 798.33,625.02 799.471,625.658 800.613,626.297 \n",
       "  801.754,626.939 802.895,627.582 804.036,628.227 805.178,628.874 806.319,629.522 807.46,630.172 808.602,630.824 809.743,631.478 810.884,632.134 812.026,632.791 \n",
       "  813.167,633.45 814.308,634.11 815.45,634.773 816.591,635.437 817.732,636.103 818.873,636.771 820.015,637.44 821.156,638.112 822.297,638.785 823.439,639.46 \n",
       "  824.58,640.136 825.721,640.815 826.863,641.495 828.004,642.177 829.145,642.861 830.286,643.547 831.428,644.234 832.569,644.924 833.71,645.615 834.852,646.308 \n",
       "  835.993,647.003 837.134,647.699 838.276,648.398 839.417,649.098 840.558,649.801 841.699,650.505 842.841,651.21 843.982,651.918 845.123,652.628 846.265,653.339 \n",
       "  847.406,654.053 848.547,654.768 849.689,655.485 850.83,656.204 851.971,656.925 853.112,657.648 854.254,658.373 855.395,659.099 856.536,659.828 857.678,660.558 \n",
       "  858.819,661.29 859.96,662.025 861.102,662.761 862.243,663.499 863.384,664.239 864.525,664.981 865.667,665.725 866.808,666.471 867.949,667.218 869.091,667.968 \n",
       "  870.232,668.72 871.373,669.473 872.515,670.229 873.656,670.987 874.797,671.746 875.938,672.508 877.08,673.271 878.221,674.037 879.362,674.805 880.504,675.574 \n",
       "  881.645,676.346 882.786,677.119 883.928,677.895 885.069,678.672 886.21,679.452 887.351,680.234 888.493,681.017 889.634,681.803 890.775,682.591 891.917,683.381 \n",
       "  893.058,684.173 894.199,684.967 895.341,685.763 896.482,686.561 897.623,687.361 898.764,688.163 899.906,688.968 901.047,689.774 902.188,690.583 903.33,691.393 \n",
       "  904.471,692.206 905.612,693.021 906.754,693.838 907.895,694.657 909.036,695.478 910.177,696.302 911.319,697.127 912.46,697.955 913.601,698.785 914.743,699.617 \n",
       "  915.884,700.451 917.025,701.287 918.167,702.126 919.308,702.967 920.449,703.81 921.59,704.655 922.732,705.502 923.873,706.351 925.014,707.203 926.156,708.057 \n",
       "  927.297,708.913 928.438,709.772 929.58,710.633 930.721,711.495 931.862,712.361 933.004,713.228 934.145,714.098 935.286,714.97 936.427,715.844 937.569,716.721 \n",
       "  938.71,717.599 939.851,718.481 940.993,719.364 942.134,720.25 943.275,721.138 944.417,722.028 945.558,722.921 946.699,723.816 947.84,724.713 948.982,725.613 \n",
       "  950.123,726.515 951.264,727.42 952.406,728.327 953.547,729.236 954.688,730.148 955.83,731.062 956.971,731.978 958.112,732.897 959.253,733.819 960.395,734.742 \n",
       "  961.536,735.668 962.677,736.597 963.819,737.528 964.96,738.462 966.101,739.398 967.243,740.336 968.384,741.277 969.525,742.221 970.666,743.167 971.808,744.115 \n",
       "  972.949,745.066 974.09,746.019 975.232,746.976 976.373,747.934 977.514,748.895 978.656,749.859 979.797,750.825 980.938,751.794 982.079,752.765 983.221,753.739 \n",
       "  984.362,754.716 985.503,755.695 986.645,756.677 987.786,757.661 988.927,758.648 990.069,759.638 991.21,760.631 992.351,761.626 993.492,762.623 994.634,763.624 \n",
       "  995.775,764.627 996.916,765.633 998.058,766.641 999.199,767.652 1000.34,768.666 1001.48,769.683 1002.62,770.702 1003.76,771.725 1004.91,772.749 1006.05,773.777 \n",
       "  1007.19,774.808 1008.33,775.841 1009.47,776.877 1010.61,777.916 1011.75,778.958 1012.89,780.003 1014.04,781.05 1015.18,782.1 1016.32,783.154 1017.46,784.21 \n",
       "  1018.6,785.269 1019.74,786.331 1020.88,787.395 1022.02,788.463 1023.17,789.534 1024.31,790.607 1025.45,791.684 1026.59,792.764 1027.73,793.846 1028.87,794.932 \n",
       "  1030.01,796.02 1031.16,797.112 1032.3,798.207 1033.44,799.304 1034.58,800.405 1035.72,801.509 1036.86,802.616 1038,803.726 1039.14,804.839 1040.29,805.955 \n",
       "  1041.43,807.074 1042.57,808.197 1043.71,809.322 1044.85,810.451 1045.99,811.583 1047.13,812.718 1048.27,813.857 1049.42,814.998 1050.56,816.143 1051.7,817.291 \n",
       "  1052.84,818.443 1053.98,819.597 1055.12,820.755 1056.26,821.917 1057.41,823.081 1058.55,824.249 1059.69,825.42 1060.83,826.595 1061.97,827.773 1063.11,828.955 \n",
       "  1064.25,830.139 1065.39,831.328 1066.54,832.519 1067.68,833.715 1068.82,834.913 1069.96,836.115 1071.1,837.321 1072.24,838.53 1073.38,839.743 1074.52,840.959 \n",
       "  1075.67,842.179 1076.81,843.403 1077.95,844.63 1079.09,845.86 1080.23,847.095 1081.37,848.333 1082.51,849.574 1083.66,850.82 1084.8,852.069 1085.94,853.322 \n",
       "  1087.08,854.578 1088.22,855.838 1089.36,857.103 1090.5,858.371 1091.64,859.642 1092.79,860.918 1093.93,862.197 1095.07,863.481 1096.21,864.768 1097.35,866.059 \n",
       "  1098.49,867.354 1099.63,868.653 1100.77,869.956 1101.92,871.263 1103.06,872.574 1104.2,873.889 1105.34,875.209 1106.48,876.532 1107.62,877.859 1108.76,879.191 \n",
       "  1109.91,880.527 1111.05,881.866 1112.19,883.211 1113.33,884.559 1114.47,885.911 1115.61,887.268 1116.75,888.629 1117.89,889.995 1119.04,891.364 1120.18,892.739 \n",
       "  1121.32,894.117 1122.46,895.5 1123.6,896.887 1124.74,898.279 1125.88,899.676 1127.02,901.077 1128.17,902.482 1129.31,903.892 1130.45,905.307 1131.59,906.726 \n",
       "  1132.73,908.15 1133.87,909.578 1135.01,911.011 1136.16,912.449 1137.3,913.892 1138.44,915.34 1139.58,916.792 1140.72,918.25 1141.86,919.712 1143,921.179 \n",
       "  1144.14,922.651 1145.29,924.128 1146.43,925.61 1147.57,927.097 1148.71,928.589 1149.85,930.086 1150.99,931.589 1152.13,933.096 1153.27,934.609 1154.42,936.127 \n",
       "  1155.56,937.65 1156.7,939.179 1157.84,940.713 1158.98,942.252 1160.12,943.797 1161.26,945.348 1162.4,946.903 1163.55,948.465 1164.69,950.032 1165.83,951.604 \n",
       "  1166.97,953.182 1168.11,954.766 1169.25,956.356 1170.39,957.951 1171.54,959.552 1172.68,961.159 1173.82,962.772 1174.96,964.391 1176.1,966.016 1177.24,967.647 \n",
       "  1178.38,969.284 1179.52,970.927 1180.67,972.577 1181.81,974.232 1182.95,975.894 1184.09,977.562 1185.23,979.237 1186.37,980.918 1187.51,982.605 1188.65,984.299 \n",
       "  1189.8,986 1190.94,987.707 1192.08,989.421 1193.22,991.141 1194.36,992.869 1195.5,994.603 1196.64,996.344 1197.79,998.092 1198.93,999.847 1200.07,1001.61 \n",
       "  1201.21,1003.38 1202.35,1005.16 1203.49,1006.94 1204.63,1008.73 1205.77,1010.53 1206.92,1012.33 1208.06,1014.15 1209.2,1015.97 1210.34,1017.8 1211.48,1019.63 \n",
       "  1212.62,1021.48 1213.76,1023.33 1214.9,1025.19 1216.05,1027.06 1217.19,1028.94 1218.33,1030.82 1219.47,1032.71 1220.61,1034.61 1221.75,1036.52 1222.89,1038.44 \n",
       "  1224.04,1040.37 1225.18,1042.3 1226.32,1044.25 1227.46,1046.2 1228.6,1048.16 1229.74,1050.13 1230.88,1052.11 1232.02,1054.1 1233.17,1056.1 1234.31,1058.11 \n",
       "  1235.45,1060.13 1236.59,1062.15 1237.73,1064.19 1238.87,1066.24 1240.01,1068.29 1241.15,1070.36 1242.3,1072.44 1243.44,1074.52 1244.58,1076.62 1245.72,1078.73 \n",
       "  1246.86,1080.85 1248,1082.98 1249.14,1085.12 1250.29,1087.27 1251.43,1089.43 1252.57,1091.6 1253.71,1093.79 1254.85,1095.99 1255.99,1098.19 1257.13,1100.41 \n",
       "  1258.27,1102.65 1259.42,1104.89 1260.56,1107.15 1261.7,1109.42 1262.84,1111.7 1263.98,1114 1265.12,1116.3 1266.26,1118.62 1267.4,1120.96 1268.55,1123.31 \n",
       "  1269.69,1125.67 1270.83,1128.05 1271.97,1130.44 1273.11,1132.84 1274.25,1135.26 1275.39,1137.69 1276.54,1140.14 1277.68,1142.61 1278.82,1145.09 1279.96,1147.58 \n",
       "  1281.1,1150.09 1282.24,1152.62 1283.38,1155.17 1284.52,1157.73 1285.67,1160.31 1286.81,1162.9 1287.95,1165.51 1289.09,1168.15 1290.23,1170.8 1291.37,1173.46 \n",
       "  1292.51,1176.15 1293.65,1178.86 1294.8,1181.58 1295.94,1184.33 1297.08,1187.1 1298.22,1189.88 1299.36,1192.69 1300.5,1195.52 1301.64,1198.37 1302.79,1201.25 \n",
       "  1303.93,1204.15 1305.07,1207.07 1306.21,1210.01 1307.35,1212.98 1308.49,1215.98 1309.63,1219 1310.77,1222.04 1311.92,1225.12 1313.06,1228.22 1314.2,1231.35 \n",
       "  1315.34,1234.5 1316.48,1237.69 1317.62,1240.91 1318.76,1244.15 1319.9,1247.43 1321.05,1250.75 1322.19,1254.09 1323.33,1257.47 1324.47,1260.89 1325.61,1264.34 \n",
       "  1326.75,1267.83 1327.89,1271.36 1329.03,1274.92 1330.18,1278.53 1331.32,1282.18 1332.46,1285.88 1333.6,1289.62 1334.74,1293.41 1335.88,1297.24 1337.02,1301.13 \n",
       "  1338.17,1305.06 1339.31,1309.05 1340.45,1313.1 1341.59,1317.21 1342.73,1321.37 1343.87,1325.6 1345.01,1329.9 1346.15,1334.26 1347.3,1338.7 1348.44,1343.21 \n",
       "  1349.58,1347.8 1350.72,1352.48 1351.86,1357.24 1353,1362.1 1354.14,1367.05 1355.28,1372.11 1356.43,1377.28 1357.57,1382.57 1358.71,1387.98 1359.85,1393.53 \n",
       "  1360.99,1399.22 1362.13,1405.07 1363.27,1411.08 1364.42,1417.29 1365.56,1423.69 1366.7,1430.32 1367.84,1437.19 1368.98,1444.34 1370.12,1451.8 1371.26,1459.61 \n",
       "  1372.4,1467.83 1373.55,1476.52 1374.69,1485.79 1375.83,1495.75 1376.97,1506.6 1378.11,1518.6 1379.25,1532.23 1380.39,1548.42 1381.53,1569.52 1382.68,1620.53 \n",
       "  \n",
       "  \"/>\n",
       "<polyline clip-path=\"url(#clip5002)\" style=\"stroke:#00a9ad; stroke-width:8; stroke-opacity:1; fill:none\" points=\"\n",
       "  242.516,480.367 243.658,480.367 244.799,480.367 245.94,480.368 247.082,480.368 248.223,480.368 249.364,480.368 250.506,480.368 251.647,480.368 252.788,480.368 \n",
       "  253.929,480.368 255.071,480.368 256.212,480.368 257.353,480.368 258.495,480.369 259.636,480.369 260.777,480.369 261.919,480.369 263.06,480.37 264.201,480.37 \n",
       "  265.342,480.371 266.484,480.371 267.625,480.372 268.766,480.372 269.908,480.373 271.049,480.373 272.19,480.374 273.332,480.375 274.473,480.376 275.614,480.377 \n",
       "  276.755,480.378 277.897,480.379 279.038,480.38 280.179,480.381 281.321,480.382 282.462,480.384 283.603,480.385 284.745,480.387 285.886,480.388 287.027,480.39 \n",
       "  288.168,480.392 289.31,480.394 290.451,480.396 291.592,480.398 292.734,480.4 293.875,480.402 295.016,480.405 296.158,480.407 297.299,480.41 298.44,480.412 \n",
       "  299.581,480.415 300.723,480.418 301.864,480.421 303.005,480.424 304.147,480.428 305.288,480.431 306.429,480.434 307.571,480.438 308.712,480.442 309.853,480.446 \n",
       "  310.994,480.45 312.136,480.454 313.277,480.458 314.418,480.463 315.56,480.467 316.701,480.472 317.842,480.477 318.984,480.482 320.125,480.487 321.266,480.493 \n",
       "  322.407,480.498 323.549,480.504 324.69,480.51 325.831,480.516 326.973,480.522 328.114,480.528 329.255,480.535 330.397,480.542 331.538,480.548 332.679,480.555 \n",
       "  333.821,480.563 334.962,480.57 336.103,480.578 337.244,480.585 338.386,480.593 339.527,480.602 340.668,480.61 341.81,480.619 342.951,480.627 344.092,480.636 \n",
       "  345.234,480.645 346.375,480.655 347.516,480.664 348.657,480.674 349.799,480.684 350.94,480.694 352.081,480.705 353.223,480.716 354.364,480.726 355.505,480.737 \n",
       "  356.647,480.749 357.788,480.76 358.929,480.772 360.07,480.784 361.212,480.796 362.353,480.809 363.494,480.822 364.636,480.835 365.777,480.848 366.918,480.861 \n",
       "  368.06,480.875 369.201,480.889 370.342,480.903 371.483,480.918 372.625,480.933 373.766,480.948 374.907,480.963 376.049,480.978 377.19,480.994 378.331,481.01 \n",
       "  379.473,481.027 380.614,481.043 381.755,481.06 382.896,481.077 384.038,481.095 385.179,481.113 386.32,481.131 387.462,481.149 388.603,481.167 389.744,481.186 \n",
       "  390.886,481.206 392.027,481.225 393.168,481.245 394.309,481.265 395.451,481.285 396.592,481.306 397.733,481.327 398.875,481.349 400.016,481.37 401.157,481.392 \n",
       "  402.299,481.414 403.44,481.437 404.581,481.46 405.722,481.483 406.864,481.507 408.005,481.531 409.146,481.555 410.288,481.58 411.429,481.605 412.57,481.63 \n",
       "  413.712,481.655 414.853,481.681 415.994,481.708 417.135,481.734 418.277,481.761 419.418,481.789 420.559,481.817 421.701,481.845 422.842,481.873 423.983,481.902 \n",
       "  425.125,481.931 426.266,481.961 427.407,481.99 428.548,482.021 429.69,482.051 430.831,482.082 431.972,482.114 433.114,482.146 434.255,482.178 435.396,482.21 \n",
       "  436.538,482.243 437.679,482.277 438.82,482.31 439.961,482.345 441.103,482.379 442.244,482.414 443.385,482.449 444.527,482.485 445.668,482.521 446.809,482.558 \n",
       "  447.951,482.595 449.092,482.632 450.233,482.67 451.374,482.708 452.516,482.747 453.657,482.786 454.798,482.826 455.94,482.866 457.081,482.906 458.222,482.947 \n",
       "  459.364,482.988 460.505,483.03 461.646,483.072 462.788,483.115 463.929,483.158 465.07,483.201 466.211,483.245 467.353,483.289 468.494,483.334 469.635,483.379 \n",
       "  470.777,483.425 471.918,483.471 473.059,483.518 474.201,483.565 475.342,483.613 476.483,483.661 477.624,483.71 478.766,483.759 479.907,483.808 481.048,483.858 \n",
       "  482.19,483.909 483.331,483.96 484.472,484.011 485.614,484.063 486.755,484.116 487.896,484.169 489.037,484.222 490.179,484.276 491.32,484.331 492.461,484.386 \n",
       "  493.603,484.441 494.744,484.497 495.885,484.554 497.027,484.611 498.168,484.668 499.309,484.726 500.45,484.785 501.592,484.844 502.733,484.904 503.874,484.964 \n",
       "  505.016,485.024 506.157,485.086 507.298,485.148 508.44,485.21 509.581,485.273 510.722,485.336 511.863,485.4 513.005,485.465 514.146,485.53 515.287,485.595 \n",
       "  516.429,485.662 517.57,485.728 518.711,485.796 519.853,485.864 520.994,485.932 522.135,486.001 523.276,486.071 524.418,486.141 525.559,486.212 526.7,486.283 \n",
       "  527.842,486.355 528.983,486.428 530.124,486.501 531.266,486.574 532.407,486.649 533.548,486.724 534.689,486.799 535.831,486.875 536.972,486.952 538.113,487.029 \n",
       "  539.255,487.107 540.396,487.186 541.537,487.265 542.679,487.345 543.82,487.425 544.961,487.506 546.102,487.588 547.244,487.67 548.385,487.753 549.526,487.836 \n",
       "  550.668,487.92 551.809,488.005 552.95,488.091 554.092,488.177 555.233,488.264 556.374,488.351 557.515,488.439 558.657,488.528 559.798,488.617 560.939,488.707 \n",
       "  562.081,488.798 563.222,488.889 564.363,488.981 565.505,489.074 566.646,489.167 567.787,489.261 568.928,489.356 570.07,489.451 571.211,489.547 572.352,489.644 \n",
       "  573.494,489.741 574.635,489.839 575.776,489.938 576.918,490.038 578.059,490.138 579.2,490.239 580.342,490.341 581.483,490.443 582.624,490.546 583.765,490.65 \n",
       "  584.907,490.754 586.048,490.859 587.189,490.965 588.331,491.072 589.472,491.179 590.613,491.287 591.755,491.396 592.896,491.506 594.037,491.616 595.178,491.727 \n",
       "  596.32,491.839 597.461,491.951 598.602,492.065 599.744,492.179 600.885,492.293 602.026,492.409 603.168,492.525 604.309,492.642 605.45,492.76 606.591,492.879 \n",
       "  607.733,492.998 608.874,493.118 610.015,493.239 611.157,493.361 612.298,493.483 613.439,493.606 614.581,493.73 615.722,493.855 616.863,493.981 618.004,494.107 \n",
       "  619.146,494.234 620.287,494.363 621.428,494.491 622.57,494.621 623.711,494.751 624.852,494.883 625.994,495.015 627.135,495.148 628.276,495.281 629.417,495.416 \n",
       "  630.559,495.551 631.7,495.688 632.841,495.825 633.983,495.962 635.124,496.101 636.265,496.241 637.407,496.381 638.548,496.522 639.689,496.665 640.83,496.807 \n",
       "  641.972,496.951 643.113,497.096 644.254,497.242 645.396,497.388 646.537,497.535 647.678,497.683 648.82,497.832 649.961,497.982 651.102,498.133 652.243,498.285 \n",
       "  653.385,498.437 654.526,498.591 655.667,498.745 656.809,498.901 657.95,499.057 659.091,499.214 660.233,499.372 661.374,499.531 662.515,499.69 663.656,499.851 \n",
       "  664.798,500.013 665.939,500.175 667.08,500.339 668.222,500.503 669.363,500.669 670.504,500.835 671.646,501.002 672.787,501.17 673.928,501.339 675.069,501.509 \n",
       "  676.211,501.68 677.352,501.852 678.493,502.025 679.635,502.199 680.776,502.374 681.917,502.55 683.059,502.727 684.2,502.904 685.341,503.083 686.482,503.263 \n",
       "  687.624,503.444 688.765,503.625 689.906,503.808 691.048,503.992 692.189,504.176 693.33,504.362 694.472,504.549 695.613,504.736 696.754,504.925 697.896,505.115 \n",
       "  699.037,505.305 700.178,505.497 701.319,505.69 702.461,505.884 703.602,506.079 704.743,506.275 705.885,506.472 707.026,506.669 708.167,506.868 709.309,507.069 \n",
       "  710.45,507.27 711.591,507.472 712.732,507.675 713.874,507.879 715.015,508.085 716.156,508.291 717.298,508.499 718.439,508.707 719.58,508.917 720.722,509.128 \n",
       "  721.863,509.339 723.004,509.552 724.145,509.766 725.287,509.982 726.428,510.198 727.569,510.415 728.711,510.634 729.852,510.853 730.993,511.074 732.135,511.296 \n",
       "  733.276,511.519 734.417,511.743 735.558,511.968 736.7,512.194 737.841,512.422 738.982,512.65 740.124,512.88 741.265,513.111 742.406,513.343 743.548,513.576 \n",
       "  744.689,513.811 745.83,514.046 746.971,514.283 748.113,514.521 749.254,514.76 750.395,515 751.537,515.242 752.678,515.484 753.819,515.728 754.961,515.973 \n",
       "  756.102,516.219 757.243,516.467 758.384,516.716 759.526,516.966 760.667,517.217 761.808,517.469 762.95,517.723 764.091,517.977 765.232,518.233 766.374,518.491 \n",
       "  767.515,518.749 768.656,519.009 769.797,519.27 770.939,519.532 772.08,519.796 773.221,520.06 774.363,520.327 775.504,520.594 776.645,520.863 777.787,521.132 \n",
       "  778.928,521.404 780.069,521.676 781.21,521.95 782.352,522.225 783.493,522.501 784.634,522.779 785.776,523.058 786.917,523.338 788.058,523.62 789.2,523.903 \n",
       "  790.341,524.187 791.482,524.473 792.623,524.76 793.765,525.048 794.906,525.338 796.047,525.629 797.189,525.921 798.33,526.215 799.471,526.51 800.613,526.807 \n",
       "  801.754,527.104 802.895,527.404 804.036,527.704 805.178,528.006 806.319,528.31 807.46,528.615 808.602,528.921 809.743,529.228 810.884,529.537 812.026,529.848 \n",
       "  813.167,530.16 814.308,530.473 815.45,530.788 816.591,531.104 817.732,531.422 818.873,531.741 820.015,532.061 821.156,532.383 822.297,532.707 823.439,533.032 \n",
       "  824.58,533.358 825.721,533.686 826.863,534.015 828.004,534.346 829.145,534.679 830.286,535.013 831.428,535.348 832.569,535.685 833.71,536.023 834.852,536.363 \n",
       "  835.993,536.705 837.134,537.047 838.276,537.392 839.417,537.738 840.558,538.086 841.699,538.435 842.841,538.786 843.982,539.138 845.123,539.492 846.265,539.847 \n",
       "  847.406,540.204 848.547,540.563 849.689,540.923 850.83,541.285 851.971,541.648 853.112,542.013 854.254,542.38 855.395,542.748 856.536,543.118 857.678,543.489 \n",
       "  858.819,543.862 859.96,544.237 861.102,544.614 862.243,544.992 863.384,545.372 864.525,545.753 865.667,546.136 866.808,546.521 867.949,546.907 869.091,547.295 \n",
       "  870.232,547.685 871.373,548.077 872.515,548.47 873.656,548.865 874.797,549.262 875.938,549.66 877.08,550.06 878.221,550.462 879.362,550.866 880.504,551.272 \n",
       "  881.645,551.679 882.786,552.088 883.928,552.498 885.069,552.911 886.21,553.325 887.351,553.741 888.493,554.159 889.634,554.579 890.775,555.001 891.917,555.424 \n",
       "  893.058,555.849 894.199,556.276 895.341,556.705 896.482,557.136 897.623,557.568 898.764,558.003 899.906,558.439 901.047,558.877 902.188,559.317 903.33,559.759 \n",
       "  904.471,560.203 905.612,560.649 906.754,561.097 907.895,561.546 909.036,561.998 910.177,562.451 911.319,562.907 912.46,563.364 913.601,563.823 914.743,564.285 \n",
       "  915.884,564.748 917.025,565.213 918.167,565.68 919.308,566.15 920.449,566.621 921.59,567.094 922.732,567.569 923.873,568.047 925.014,568.526 926.156,569.007 \n",
       "  927.297,569.491 928.438,569.976 929.58,570.464 930.721,570.953 931.862,571.445 933.004,571.939 934.145,572.435 935.286,572.933 936.427,573.433 937.569,573.936 \n",
       "  938.71,574.44 939.851,574.947 940.993,575.455 942.134,575.966 943.275,576.479 944.417,576.994 945.558,577.512 946.699,578.032 947.84,578.553 948.982,579.077 \n",
       "  950.123,579.604 951.264,580.132 952.406,580.663 953.547,581.196 954.688,581.731 955.83,582.269 956.971,582.809 958.112,583.351 959.253,583.895 960.395,584.442 \n",
       "  961.536,584.991 962.677,585.543 963.819,586.096 964.96,586.652 966.101,587.211 967.243,587.772 968.384,588.335 969.525,588.901 970.666,589.469 971.808,590.039 \n",
       "  972.949,590.612 974.09,591.187 975.232,591.765 976.373,592.345 977.514,592.928 978.656,593.513 979.797,594.1 980.938,594.69 982.079,595.283 983.221,595.878 \n",
       "  984.362,596.476 985.503,597.076 986.645,597.679 987.786,598.284 988.927,598.892 990.069,599.503 991.21,600.116 992.351,600.731 993.492,601.35 994.634,601.971 \n",
       "  995.775,602.594 996.916,603.221 998.058,603.85 999.199,604.481 1000.34,605.116 1001.48,605.753 1002.62,606.393 1003.76,607.035 1004.91,607.68 1006.05,608.328 \n",
       "  1007.19,608.979 1008.33,609.633 1009.47,610.289 1010.61,610.948 1011.75,611.61 1012.89,612.275 1014.04,612.943 1015.18,613.614 1016.32,614.287 1017.46,614.963 \n",
       "  1018.6,615.643 1019.74,616.325 1020.88,617.01 1022.02,617.698 1023.17,618.389 1024.31,619.083 1025.45,619.78 1026.59,620.48 1027.73,621.183 1028.87,621.89 \n",
       "  1030.01,622.599 1031.16,623.311 1032.3,624.026 1033.44,624.745 1034.58,625.466 1035.72,626.191 1036.86,626.919 1038,627.65 1039.14,628.384 1040.29,629.122 \n",
       "  1041.43,629.862 1042.57,630.606 1043.71,631.353 1044.85,632.104 1045.99,632.857 1047.13,633.614 1048.27,634.375 1049.42,635.138 1050.56,635.905 1051.7,636.675 \n",
       "  1052.84,637.449 1053.98,638.226 1055.12,639.007 1056.26,639.791 1057.41,640.578 1058.55,641.369 1059.69,642.164 1060.83,642.962 1061.97,643.763 1063.11,644.568 \n",
       "  1064.25,645.377 1065.39,646.189 1066.54,647.005 1067.68,647.825 1068.82,648.648 1069.96,649.475 1071.1,650.305 1072.24,651.139 1073.38,651.977 1074.52,652.819 \n",
       "  1075.67,653.665 1076.81,654.514 1077.95,655.367 1079.09,656.224 1080.23,657.085 1081.37,657.95 1082.51,658.819 1083.66,659.691 1084.8,660.568 1085.94,661.449 \n",
       "  1087.08,662.333 1088.22,663.222 1089.36,664.115 1090.5,665.012 1091.64,665.913 1092.79,666.818 1093.93,667.727 1095.07,668.64 1096.21,669.558 1097.35,670.48 \n",
       "  1098.49,671.406 1099.63,672.336 1100.77,673.271 1101.92,674.21 1103.06,675.154 1104.2,676.102 1105.34,677.054 1106.48,678.011 1107.62,678.972 1108.76,679.938 \n",
       "  1109.91,680.908 1111.05,681.883 1112.19,682.862 1113.33,683.846 1114.47,684.835 1115.61,685.829 1116.75,686.827 1117.89,687.83 1119.04,688.837 1120.18,689.85 \n",
       "  1121.32,690.867 1122.46,691.89 1123.6,692.917 1124.74,693.949 1125.88,694.986 1127.02,696.028 1128.17,697.076 1129.31,698.128 1130.45,699.185 1131.59,700.248 \n",
       "  1132.73,701.316 1133.87,702.389 1135.01,703.467 1136.16,704.551 1137.3,705.64 1138.44,706.734 1139.58,707.834 1140.72,708.939 1141.86,710.05 1143,711.166 \n",
       "  1144.14,712.288 1145.29,713.416 1146.43,714.549 1147.57,715.688 1148.71,716.833 1149.85,717.983 1150.99,719.14 1152.13,720.302 1153.27,721.47 1154.42,722.645 \n",
       "  1155.56,723.825 1156.7,725.011 1157.84,726.204 1158.98,727.402 1160.12,728.607 1161.26,729.818 1162.4,731.036 1163.55,732.259 1164.69,733.49 1165.83,734.726 \n",
       "  1166.97,735.97 1168.11,737.22 1169.25,738.476 1170.39,739.739 1171.54,741.009 1172.68,742.286 1173.82,743.57 1174.96,744.86 1176.1,746.158 1177.24,747.463 \n",
       "  1178.38,748.774 1179.52,750.093 1180.67,751.42 1181.81,752.753 1182.95,754.094 1184.09,755.442 1185.23,756.798 1186.37,758.161 1187.51,759.533 1188.65,760.911 \n",
       "  1189.8,762.298 1190.94,763.692 1192.08,765.094 1193.22,766.505 1194.36,767.923 1195.5,769.35 1196.64,770.784 1197.79,772.228 1198.93,773.679 1200.07,775.139 \n",
       "  1201.21,776.608 1202.35,778.085 1203.49,779.571 1204.63,781.065 1205.77,782.569 1206.92,784.082 1208.06,785.603 1209.2,787.134 1210.34,788.675 1211.48,790.224 \n",
       "  1212.62,791.783 1213.76,793.352 1214.9,794.93 1216.05,796.518 1217.19,798.116 1218.33,799.725 1219.47,801.343 1220.61,802.971 1221.75,804.61 1222.89,806.259 \n",
       "  1224.04,807.919 1225.18,809.589 1226.32,811.27 1227.46,812.963 1228.6,814.666 1229.74,816.38 1230.88,818.106 1232.02,819.844 1233.17,821.592 1234.31,823.353 \n",
       "  1235.45,825.126 1236.59,826.91 1237.73,828.707 1238.87,830.516 1240.01,832.338 1241.15,834.172 1242.3,836.019 1243.44,837.879 1244.58,839.753 1245.72,841.639 \n",
       "  1246.86,843.539 1248,845.453 1249.14,847.381 1250.29,849.323 1251.43,851.279 1252.57,853.249 1253.71,855.234 1254.85,857.234 1255.99,859.25 1257.13,861.28 \n",
       "  1258.27,863.326 1259.42,865.388 1260.56,867.465 1261.7,869.559 1262.84,871.67 1263.98,873.797 1265.12,875.941 1266.26,878.102 1267.4,880.281 1268.55,882.478 \n",
       "  1269.69,884.693 1270.83,886.926 1271.97,889.178 1273.11,891.449 1274.25,893.739 1275.39,896.049 1276.54,898.379 1277.68,900.729 1278.82,903.1 1279.96,905.492 \n",
       "  1281.1,907.905 1282.24,910.34 1283.38,912.797 1284.52,915.277 1285.67,917.78 1286.81,920.307 1287.95,922.858 1289.09,925.433 1290.23,928.032 1291.37,930.658 \n",
       "  1292.51,933.309 1293.65,935.987 1294.8,938.691 1295.94,941.423 1297.08,944.184 1298.22,946.973 1299.36,949.791 1300.5,952.64 1301.64,955.519 1302.79,958.43 \n",
       "  1303.93,961.373 1305.07,964.349 1306.21,967.359 1307.35,970.403 1308.49,973.483 1309.63,976.599 1310.77,979.752 1311.92,982.943 1313.06,986.173 1314.2,989.444 \n",
       "  1315.34,992.756 1316.48,996.111 1317.62,999.509 1318.76,1002.95 1319.9,1006.44 1321.05,1009.98 1322.19,1013.57 1323.33,1017.2 1324.47,1020.89 1325.61,1024.63 \n",
       "  1326.75,1028.43 1327.89,1032.29 1329.03,1036.2 1330.18,1040.18 1331.32,1044.22 1332.46,1048.33 1333.6,1052.51 1334.74,1056.75 1335.88,1061.07 1337.02,1065.47 \n",
       "  1338.17,1069.95 1339.31,1074.51 1340.45,1079.16 1341.59,1083.9 1342.73,1088.74 1343.87,1093.67 1345.01,1098.72 1346.15,1103.87 1347.3,1109.13 1348.44,1114.52 \n",
       "  1349.58,1120.04 1350.72,1125.69 1351.86,1131.49 1353,1137.44 1354.14,1143.55 1355.28,1149.84 1356.43,1156.32 1357.57,1162.99 1358.71,1169.88 1359.85,1177 \n",
       "  1360.99,1184.37 1362.13,1192.02 1363.27,1199.97 1364.42,1208.24 1365.56,1216.88 1366.7,1225.92 1367.84,1235.42 1368.98,1245.44 1370.12,1256.04 1371.26,1267.32 \n",
       "  1372.4,1279.39 1373.55,1292.42 1374.69,1306.6 1375.83,1322.22 1376.97,1339.72 1378.11,1359.76 1379.25,1383.52 1380.39,1413.42 1381.53,1456.09 1382.68,1620.53 \n",
       "  \n",
       "  \"/>\n",
       "<polyline clip-path=\"url(#clip5002)\" style=\"stroke:#ed5d92; stroke-width:8; stroke-opacity:1; fill:none\" points=\"\n",
       "  242.516,480.367 243.658,480.367 244.799,480.367 245.94,480.367 247.082,480.367 248.223,480.367 249.364,480.367 250.506,480.367 251.647,480.367 252.788,480.367 \n",
       "  253.929,480.367 255.071,480.367 256.212,480.367 257.353,480.367 258.495,480.367 259.636,480.367 260.777,480.367 261.919,480.367 263.06,480.367 264.201,480.367 \n",
       "  265.342,480.367 266.484,480.367 267.625,480.367 268.766,480.367 269.908,480.367 271.049,480.367 272.19,480.367 273.332,480.367 274.473,480.367 275.614,480.367 \n",
       "  276.755,480.367 277.897,480.367 279.038,480.367 280.179,480.367 281.321,480.367 282.462,480.367 283.603,480.367 284.745,480.367 285.886,480.367 287.027,480.367 \n",
       "  288.168,480.367 289.31,480.367 290.451,480.367 291.592,480.367 292.734,480.367 293.875,480.367 295.016,480.367 296.158,480.367 297.299,480.367 298.44,480.367 \n",
       "  299.581,480.367 300.723,480.367 301.864,480.367 303.005,480.367 304.147,480.367 305.288,480.367 306.429,480.367 307.571,480.367 308.712,480.367 309.853,480.367 \n",
       "  310.994,480.367 312.136,480.367 313.277,480.367 314.418,480.367 315.56,480.367 316.701,480.367 317.842,480.367 318.984,480.367 320.125,480.367 321.266,480.367 \n",
       "  322.407,480.367 323.549,480.367 324.69,480.367 325.831,480.367 326.973,480.367 328.114,480.367 329.255,480.367 330.397,480.367 331.538,480.367 332.679,480.367 \n",
       "  333.821,480.367 334.962,480.367 336.103,480.367 337.244,480.367 338.386,480.367 339.527,480.367 340.668,480.367 341.81,480.367 342.951,480.367 344.092,480.367 \n",
       "  345.234,480.367 346.375,480.367 347.516,480.367 348.657,480.367 349.799,480.367 350.94,480.367 352.081,480.367 353.223,480.367 354.364,480.367 355.505,480.367 \n",
       "  356.647,480.367 357.788,480.367 358.929,480.367 360.07,480.367 361.212,480.367 362.353,480.367 363.494,480.367 364.636,480.367 365.777,480.367 366.918,480.367 \n",
       "  368.06,480.367 369.201,480.367 370.342,480.367 371.483,480.367 372.625,480.367 373.766,480.367 374.907,480.367 376.049,480.367 377.19,480.367 378.331,480.367 \n",
       "  379.473,480.367 380.614,480.367 381.755,480.367 382.896,480.367 384.038,480.367 385.179,480.367 386.32,480.367 387.462,480.367 388.603,480.367 389.744,480.367 \n",
       "  390.886,480.367 392.027,480.367 393.168,480.367 394.309,480.367 395.451,480.367 396.592,480.367 397.733,480.367 398.875,480.367 400.016,480.367 401.157,480.367 \n",
       "  402.299,480.367 403.44,480.367 404.581,480.367 405.722,480.367 406.864,480.367 408.005,480.367 409.146,480.367 410.288,480.367 411.429,480.367 412.57,480.367 \n",
       "  413.712,480.367 414.853,480.367 415.994,480.367 417.135,480.367 418.277,480.367 419.418,480.367 420.559,480.367 421.701,480.367 422.842,480.367 423.983,480.367 \n",
       "  425.125,480.367 426.266,480.367 427.407,480.367 428.548,480.367 429.69,480.367 430.831,480.367 431.972,480.367 433.114,480.367 434.255,480.367 435.396,480.367 \n",
       "  436.538,480.367 437.679,480.367 438.82,480.367 439.961,480.367 441.103,480.367 442.244,480.367 443.385,480.367 444.527,480.367 445.668,480.367 446.809,480.367 \n",
       "  447.951,480.367 449.092,480.367 450.233,480.367 451.374,480.367 452.516,480.367 453.657,480.367 454.798,480.367 455.94,480.367 457.081,480.367 458.222,480.367 \n",
       "  459.364,480.367 460.505,480.367 461.646,480.367 462.788,480.367 463.929,480.367 465.07,480.367 466.211,480.367 467.353,480.367 468.494,480.367 469.635,480.367 \n",
       "  470.777,480.367 471.918,480.367 473.059,480.367 474.201,480.367 475.342,480.367 476.483,480.367 477.624,480.367 478.766,480.367 479.907,480.367 481.048,480.367 \n",
       "  482.19,480.367 483.331,480.367 484.472,480.367 485.614,480.367 486.755,480.367 487.896,480.367 489.037,480.367 490.179,480.367 491.32,480.367 492.461,480.367 \n",
       "  493.603,480.367 494.744,480.367 495.885,480.367 497.027,480.367 498.168,480.367 499.309,480.367 500.45,480.367 501.592,480.367 502.733,480.367 503.874,480.367 \n",
       "  505.016,480.367 506.157,480.367 507.298,480.367 508.44,480.367 509.581,480.367 510.722,480.367 511.863,480.367 513.005,480.367 514.146,480.367 515.287,480.367 \n",
       "  516.429,480.367 517.57,480.367 518.711,480.367 519.853,480.367 520.994,480.367 522.135,480.367 523.276,480.367 524.418,480.367 525.559,480.367 526.7,480.367 \n",
       "  527.842,480.367 528.983,480.367 530.124,480.367 531.266,480.367 532.407,480.367 533.548,480.367 534.689,480.367 535.831,480.367 536.972,480.367 538.113,480.367 \n",
       "  539.255,480.367 540.396,480.367 541.537,480.367 542.679,480.367 543.82,480.367 544.961,480.367 546.102,480.367 547.244,480.367 548.385,480.367 549.526,480.367 \n",
       "  550.668,480.367 551.809,480.367 552.95,480.367 554.092,480.367 555.233,480.367 556.374,480.367 557.515,480.367 558.657,480.367 559.798,480.367 560.939,480.367 \n",
       "  562.081,480.367 563.222,480.367 564.363,480.367 565.505,480.367 566.646,480.367 567.787,480.367 568.928,480.367 570.07,480.367 571.211,480.367 572.352,480.367 \n",
       "  573.494,480.367 574.635,480.367 575.776,480.367 576.918,480.367 578.059,480.367 579.2,480.367 580.342,480.367 581.483,480.367 582.624,480.367 583.765,480.367 \n",
       "  584.907,480.367 586.048,480.367 587.189,480.367 588.331,480.367 589.472,480.367 590.613,480.367 591.755,480.367 592.896,480.367 594.037,480.367 595.178,480.367 \n",
       "  596.32,480.367 597.461,480.367 598.602,480.367 599.744,480.367 600.885,480.367 602.026,480.367 603.168,480.367 604.309,480.367 605.45,480.367 606.591,480.367 \n",
       "  607.733,480.367 608.874,480.367 610.015,480.367 611.157,480.367 612.298,480.367 613.439,480.367 614.581,480.367 615.722,480.367 616.863,480.367 618.004,480.367 \n",
       "  619.146,480.367 620.287,480.367 621.428,480.367 622.57,480.367 623.711,480.367 624.852,480.367 625.994,480.367 627.135,480.367 628.276,480.367 629.417,480.367 \n",
       "  630.559,480.367 631.7,480.367 632.841,480.367 633.983,480.367 635.124,480.367 636.265,480.367 637.407,480.367 638.548,480.367 639.689,480.367 640.83,480.367 \n",
       "  641.972,480.367 643.113,480.367 644.254,480.367 645.396,480.367 646.537,480.367 647.678,480.367 648.82,480.367 649.961,480.367 651.102,480.367 652.243,480.367 \n",
       "  653.385,480.367 654.526,480.367 655.667,480.367 656.809,480.367 657.95,480.367 659.091,480.367 660.233,480.367 661.374,480.367 662.515,480.367 663.656,480.367 \n",
       "  664.798,480.367 665.939,480.367 667.08,480.367 668.222,480.367 669.363,480.367 670.504,480.367 671.646,480.367 672.787,480.367 673.928,480.367 675.069,480.367 \n",
       "  676.211,480.367 677.352,480.367 678.493,480.367 679.635,480.367 680.776,480.367 681.917,480.367 683.059,480.367 684.2,480.367 685.341,480.367 686.482,480.367 \n",
       "  687.624,480.367 688.765,480.367 689.906,480.367 691.048,480.367 692.189,480.367 693.33,480.367 694.472,480.367 695.613,480.367 696.754,480.367 697.896,480.367 \n",
       "  699.037,480.367 700.178,480.367 701.319,480.367 702.461,480.367 703.602,480.367 704.743,480.367 705.885,480.367 707.026,480.367 708.167,480.367 709.309,480.367 \n",
       "  710.45,480.367 711.591,480.367 712.732,480.367 713.874,480.367 715.015,480.367 716.156,480.367 717.298,480.367 718.439,480.367 719.58,480.367 720.722,480.367 \n",
       "  721.863,480.367 723.004,480.367 724.145,480.367 725.287,480.367 726.428,480.367 727.569,480.367 728.711,480.367 729.852,480.367 730.993,480.367 732.135,480.367 \n",
       "  733.276,480.367 734.417,480.367 735.558,480.367 736.7,480.367 737.841,480.367 738.982,480.367 740.124,480.367 741.265,480.367 742.406,480.367 743.548,480.367 \n",
       "  744.689,480.367 745.83,480.367 746.971,480.367 748.113,480.367 749.254,480.367 750.395,480.367 751.537,480.367 752.678,480.367 753.819,480.367 754.961,480.367 \n",
       "  756.102,480.367 757.243,480.367 758.384,480.367 759.526,480.367 760.667,480.367 761.808,480.367 762.95,480.367 764.091,480.367 765.232,480.367 766.374,480.367 \n",
       "  767.515,480.367 768.656,480.367 769.797,480.367 770.939,480.367 772.08,480.367 773.221,480.367 774.363,480.367 775.504,480.367 776.645,480.367 777.787,480.367 \n",
       "  778.928,480.367 780.069,480.367 781.21,480.367 782.352,480.367 783.493,480.367 784.634,480.367 785.776,480.367 786.917,480.367 788.058,480.367 789.2,480.367 \n",
       "  790.341,480.367 791.482,480.367 792.623,480.367 793.765,480.367 794.906,480.367 796.047,480.367 797.189,480.367 798.33,480.367 799.471,480.367 800.613,480.367 \n",
       "  801.754,480.367 802.895,480.367 804.036,480.367 805.178,480.367 806.319,480.367 807.46,480.367 808.602,480.367 809.743,480.367 810.884,480.367 812.026,480.367 \n",
       "  813.167,480.367 814.308,480.367 815.45,480.367 816.591,480.367 817.732,480.367 818.873,480.367 820.015,480.367 821.156,480.367 822.297,480.367 823.439,480.367 \n",
       "  824.58,480.367 825.721,480.367 826.863,480.367 828.004,480.367 829.145,480.367 830.286,480.367 831.428,480.367 832.569,480.367 833.71,480.367 834.852,480.367 \n",
       "  835.993,480.367 837.134,480.367 838.276,480.367 839.417,480.367 840.558,480.367 841.699,480.367 842.841,480.367 843.982,480.367 845.123,480.367 846.265,480.367 \n",
       "  847.406,480.367 848.547,480.367 849.689,480.367 850.83,480.367 851.971,480.367 853.112,480.367 854.254,480.367 855.395,480.367 856.536,480.367 857.678,480.367 \n",
       "  858.819,480.367 859.96,480.367 861.102,480.367 862.243,480.367 863.384,480.367 864.525,480.367 865.667,480.367 866.808,480.367 867.949,480.367 869.091,480.367 \n",
       "  870.232,480.367 871.373,480.367 872.515,480.367 873.656,480.367 874.797,480.367 875.938,480.367 877.08,480.367 878.221,480.367 879.362,480.367 880.504,480.367 \n",
       "  881.645,480.367 882.786,480.367 883.928,480.367 885.069,480.367 886.21,480.367 887.351,480.367 888.493,480.367 889.634,480.367 890.775,480.367 891.917,480.367 \n",
       "  893.058,480.367 894.199,480.367 895.341,480.367 896.482,480.367 897.623,480.367 898.764,480.367 899.906,480.367 901.047,480.367 902.188,480.367 903.33,480.367 \n",
       "  904.471,480.367 905.612,480.367 906.754,480.367 907.895,480.367 909.036,480.367 910.177,480.367 911.319,480.367 912.46,480.367 913.601,480.367 914.743,480.367 \n",
       "  915.884,480.367 917.025,480.367 918.167,480.367 919.308,480.368 920.449,480.368 921.59,480.368 922.732,480.368 923.873,480.368 925.014,480.368 926.156,480.368 \n",
       "  927.297,480.368 928.438,480.368 929.58,480.368 930.721,480.368 931.862,480.368 933.004,480.368 934.145,480.368 935.286,480.368 936.427,480.368 937.569,480.368 \n",
       "  938.71,480.368 939.851,480.368 940.993,480.368 942.134,480.368 943.275,480.368 944.417,480.368 945.558,480.368 946.699,480.368 947.84,480.368 948.982,480.368 \n",
       "  950.123,480.368 951.264,480.368 952.406,480.368 953.547,480.368 954.688,480.368 955.83,480.368 956.971,480.368 958.112,480.368 959.253,480.368 960.395,480.368 \n",
       "  961.536,480.368 962.677,480.368 963.819,480.368 964.96,480.368 966.101,480.368 967.243,480.368 968.384,480.368 969.525,480.368 970.666,480.368 971.808,480.368 \n",
       "  972.949,480.368 974.09,480.368 975.232,480.368 976.373,480.368 977.514,480.368 978.656,480.368 979.797,480.368 980.938,480.368 982.079,480.368 983.221,480.368 \n",
       "  984.362,480.368 985.503,480.368 986.645,480.368 987.786,480.368 988.927,480.368 990.069,480.368 991.21,480.368 992.351,480.368 993.492,480.368 994.634,480.368 \n",
       "  995.775,480.368 996.916,480.368 998.058,480.368 999.199,480.368 1000.34,480.368 1001.48,480.368 1002.62,480.368 1003.76,480.368 1004.91,480.368 1006.05,480.368 \n",
       "  1007.19,480.368 1008.33,480.368 1009.47,480.368 1010.61,480.368 1011.75,480.368 1012.89,480.368 1014.04,480.368 1015.18,480.368 1016.32,480.368 1017.46,480.368 \n",
       "  1018.6,480.368 1019.74,480.368 1020.88,480.368 1022.02,480.368 1023.17,480.368 1024.31,480.368 1025.45,480.368 1026.59,480.368 1027.73,480.368 1028.87,480.368 \n",
       "  1030.01,480.368 1031.16,480.368 1032.3,480.368 1033.44,480.368 1034.58,480.368 1035.72,480.368 1036.86,480.368 1038,480.368 1039.14,480.368 1040.29,480.368 \n",
       "  1041.43,480.368 1042.57,480.368 1043.71,480.368 1044.85,480.368 1045.99,480.369 1047.13,480.369 1048.27,480.369 1049.42,480.369 1050.56,480.369 1051.7,480.369 \n",
       "  1052.84,480.369 1053.98,480.369 1055.12,480.369 1056.26,480.369 1057.41,480.369 1058.55,480.369 1059.69,480.369 1060.83,480.369 1061.97,480.369 1063.11,480.369 \n",
       "  1064.25,480.37 1065.39,480.37 1066.54,480.37 1067.68,480.37 1068.82,480.37 1069.96,480.37 1071.1,480.37 1072.24,480.37 1073.38,480.37 1074.52,480.37 \n",
       "  1075.67,480.371 1076.81,480.371 1077.95,480.371 1079.09,480.371 1080.23,480.371 1081.37,480.371 1082.51,480.371 1083.66,480.372 1084.8,480.372 1085.94,480.372 \n",
       "  1087.08,480.372 1088.22,480.372 1089.36,480.373 1090.5,480.373 1091.64,480.373 1092.79,480.373 1093.93,480.373 1095.07,480.374 1096.21,480.374 1097.35,480.374 \n",
       "  1098.49,480.374 1099.63,480.375 1100.77,480.375 1101.92,480.375 1103.06,480.376 1104.2,480.376 1105.34,480.376 1106.48,480.377 1107.62,480.377 1108.76,480.377 \n",
       "  1109.91,480.378 1111.05,480.378 1112.19,480.379 1113.33,480.379 1114.47,480.38 1115.61,480.38 1116.75,480.381 1117.89,480.381 1119.04,480.382 1120.18,480.382 \n",
       "  1121.32,480.383 1122.46,480.384 1123.6,480.384 1124.74,480.385 1125.88,480.385 1127.02,480.386 1128.17,480.387 1129.31,480.388 1130.45,480.389 1131.59,480.389 \n",
       "  1132.73,480.39 1133.87,480.391 1135.01,480.392 1136.16,480.393 1137.3,480.394 1138.44,480.395 1139.58,480.396 1140.72,480.397 1141.86,480.398 1143,480.4 \n",
       "  1144.14,480.401 1145.29,480.402 1146.43,480.403 1147.57,480.405 1148.71,480.406 1149.85,480.408 1150.99,480.409 1152.13,480.411 1153.27,480.412 1154.42,480.414 \n",
       "  1155.56,480.416 1156.7,480.418 1157.84,480.42 1158.98,480.422 1160.12,480.424 1161.26,480.426 1162.4,480.428 1163.55,480.431 1164.69,480.433 1165.83,480.435 \n",
       "  1166.97,480.438 1168.11,480.441 1169.25,480.443 1170.39,480.446 1171.54,480.449 1172.68,480.452 1173.82,480.455 1174.96,480.459 1176.1,480.462 1177.24,480.466 \n",
       "  1178.38,480.469 1179.52,480.473 1180.67,480.477 1181.81,480.481 1182.95,480.485 1184.09,480.49 1185.23,480.494 1186.37,480.499 1187.51,480.504 1188.65,480.509 \n",
       "  1189.8,480.514 1190.94,480.519 1192.08,480.525 1193.22,480.531 1194.36,480.537 1195.5,480.543 1196.64,480.549 1197.79,480.556 1198.93,480.563 1200.07,480.57 \n",
       "  1201.21,480.578 1202.35,480.585 1203.49,480.593 1204.63,480.601 1205.77,480.61 1206.92,480.619 1208.06,480.628 1209.2,480.637 1210.34,480.647 1211.48,480.657 \n",
       "  1212.62,480.667 1213.76,480.678 1214.9,480.689 1216.05,480.701 1217.19,480.713 1218.33,480.725 1219.47,480.738 1220.61,480.752 1221.75,480.765 1222.89,480.78 \n",
       "  1224.04,480.794 1225.18,480.809 1226.32,480.825 1227.46,480.842 1228.6,480.858 1229.74,480.876 1230.88,480.894 1232.02,480.913 1233.17,480.932 1234.31,480.952 \n",
       "  1235.45,480.973 1236.59,480.994 1237.73,481.016 1238.87,481.039 1240.01,481.063 1241.15,481.087 1242.3,481.112 1243.44,481.139 1244.58,481.166 1245.72,481.194 \n",
       "  1246.86,481.223 1248,481.253 1249.14,481.284 1250.29,481.316 1251.43,481.349 1252.57,481.383 1253.71,481.419 1254.85,481.455 1255.99,481.493 1257.13,481.533 \n",
       "  1258.27,481.573 1259.42,481.615 1260.56,481.659 1261.7,481.703 1262.84,481.75 1263.98,481.798 1265.12,481.848 1266.26,481.899 1267.4,481.952 1268.55,482.007 \n",
       "  1269.69,482.064 1270.83,482.123 1271.97,482.183 1273.11,482.246 1274.25,482.311 1275.39,482.378 1276.54,482.448 1277.68,482.52 1278.82,482.594 1279.96,482.671 \n",
       "  1281.1,482.751 1282.24,482.833 1283.38,482.919 1284.52,483.007 1285.67,483.098 1286.81,483.193 1287.95,483.29 1289.09,483.391 1290.23,483.496 1291.37,483.604 \n",
       "  1292.51,483.716 1293.65,483.832 1294.8,483.952 1295.94,484.077 1297.08,484.205 1298.22,484.339 1299.36,484.476 1300.5,484.619 1301.64,484.767 1302.79,484.92 \n",
       "  1303.93,485.079 1305.07,485.243 1306.21,485.414 1307.35,485.59 1308.49,485.773 1309.63,485.963 1310.77,486.159 1311.92,486.363 1313.06,486.574 1314.2,486.793 \n",
       "  1315.34,487.02 1316.48,487.256 1317.62,487.501 1318.76,487.755 1319.9,488.018 1321.05,488.292 1322.19,488.576 1323.33,488.871 1324.47,489.178 1325.61,489.497 \n",
       "  1326.75,489.828 1327.89,490.173 1329.03,490.532 1330.18,490.905 1331.32,491.293 1332.46,491.698 1333.6,492.12 1334.74,492.559 1335.88,493.017 1337.02,493.495 \n",
       "  1338.17,493.994 1339.31,494.515 1340.45,495.059 1341.59,495.628 1342.73,496.224 1343.87,496.847 1345.01,497.5 1346.15,498.184 1347.3,498.902 1348.44,499.657 \n",
       "  1349.58,500.45 1350.72,501.284 1351.86,502.163 1353,503.09 1354.14,504.069 1355.28,505.105 1356.43,506.201 1357.57,507.365 1358.71,508.601 1359.85,509.918 \n",
       "  1360.99,511.323 1362.13,512.827 1363.27,514.441 1364.42,516.177 1365.56,518.052 1366.7,520.085 1367.84,522.299 1368.98,524.724 1370.12,527.394 1371.26,530.358 \n",
       "  1372.4,533.675 1373.55,537.429 1374.69,541.734 1375.83,546.758 1376.97,552.759 1378.11,560.169 1379.25,569.787 1380.39,583.397 1381.53,606.597 1382.68,1620.53 \n",
       "  \n",
       "  \"/>\n",
       "<polygon clip-path=\"url(#clip5000)\" points=\"\n",
       "1517.45,795.696 1892.76,795.696 1892.76,311.856 1517.45,311.856 \n",
       "  \" fill=\"#ffffff\" fill-rule=\"evenodd\" fill-opacity=\"1\"/>\n",
       "<polyline clip-path=\"url(#clip5000)\" style=\"stroke:#000000; stroke-width:4; stroke-opacity:1; fill:none\" points=\"\n",
       "  1517.45,795.696 1892.76,795.696 1892.76,311.856 1517.45,311.856 1517.45,795.696 \n",
       "  \"/>\n",
       "<polyline clip-path=\"url(#clip5000)\" style=\"stroke:#009af9; stroke-width:8; stroke-opacity:1; fill:none\" points=\"\n",
       "  1537.45,372.336 1657.45,372.336 \n",
       "  \"/>\n",
       "<g clip-path=\"url(#clip5000)\">\n",
       "<text style=\"fill:#000000; fill-opacity:1; font-family:Arial,Helvetica Neue,Helvetica,sans-serif; font-size:48px; text-anchor:start;\" transform=\"rotate(0, 1677.45, 389.836)\" x=\"1677.45\" y=\"389.836\">p = 0.2</text>\n",
       "</g>\n",
       "<polyline clip-path=\"url(#clip5000)\" style=\"stroke:#e26f46; stroke-width:8; stroke-opacity:1; fill:none\" points=\"\n",
       "  1537.45,432.816 1657.45,432.816 \n",
       "  \"/>\n",
       "<g clip-path=\"url(#clip5000)\">\n",
       "<text style=\"fill:#000000; fill-opacity:1; font-family:Arial,Helvetica Neue,Helvetica,sans-serif; font-size:48px; text-anchor:start;\" transform=\"rotate(0, 1677.45, 450.316)\" x=\"1677.45\" y=\"450.316\">p = 0.4</text>\n",
       "</g>\n",
       "<polyline clip-path=\"url(#clip5000)\" style=\"stroke:#3da44d; stroke-width:8; stroke-opacity:1; fill:none\" points=\"\n",
       "  1537.45,493.296 1657.45,493.296 \n",
       "  \"/>\n",
       "<g clip-path=\"url(#clip5000)\">\n",
       "<text style=\"fill:#000000; fill-opacity:1; font-family:Arial,Helvetica Neue,Helvetica,sans-serif; font-size:48px; text-anchor:start;\" transform=\"rotate(0, 1677.45, 510.796)\" x=\"1677.45\" y=\"510.796\">p = 0.6</text>\n",
       "</g>\n",
       "<polyline clip-path=\"url(#clip5000)\" style=\"stroke:#c271d2; stroke-width:8; stroke-opacity:1; fill:none\" points=\"\n",
       "  1537.45,553.776 1657.45,553.776 \n",
       "  \"/>\n",
       "<g clip-path=\"url(#clip5000)\">\n",
       "<text style=\"fill:#000000; fill-opacity:1; font-family:Arial,Helvetica Neue,Helvetica,sans-serif; font-size:48px; text-anchor:start;\" transform=\"rotate(0, 1677.45, 571.276)\" x=\"1677.45\" y=\"571.276\">p = 1.0</text>\n",
       "</g>\n",
       "<polyline clip-path=\"url(#clip5000)\" style=\"stroke:#ac8d18; stroke-width:8; stroke-opacity:1; fill:none\" points=\"\n",
       "  1537.45,614.256 1657.45,614.256 \n",
       "  \"/>\n",
       "<g clip-path=\"url(#clip5000)\">\n",
       "<text style=\"fill:#000000; fill-opacity:1; font-family:Arial,Helvetica Neue,Helvetica,sans-serif; font-size:48px; text-anchor:start;\" transform=\"rotate(0, 1677.45, 631.756)\" x=\"1677.45\" y=\"631.756\">p = 2.0</text>\n",
       "</g>\n",
       "<polyline clip-path=\"url(#clip5000)\" style=\"stroke:#00a9ad; stroke-width:8; stroke-opacity:1; fill:none\" points=\"\n",
       "  1537.45,674.736 1657.45,674.736 \n",
       "  \"/>\n",
       "<g clip-path=\"url(#clip5000)\">\n",
       "<text style=\"fill:#000000; fill-opacity:1; font-family:Arial,Helvetica Neue,Helvetica,sans-serif; font-size:48px; text-anchor:start;\" transform=\"rotate(0, 1677.45, 692.236)\" x=\"1677.45\" y=\"692.236\">p = 3.0</text>\n",
       "</g>\n",
       "<polyline clip-path=\"url(#clip5000)\" style=\"stroke:#ed5d92; stroke-width:8; stroke-opacity:1; fill:none\" points=\"\n",
       "  1537.45,735.216 1657.45,735.216 \n",
       "  \"/>\n",
       "<g clip-path=\"url(#clip5000)\">\n",
       "<text style=\"fill:#000000; fill-opacity:1; font-family:Arial,Helvetica Neue,Helvetica,sans-serif; font-size:48px; text-anchor:start;\" transform=\"rotate(0, 1677.45, 752.716)\" x=\"1677.45\" y=\"752.716\">p = 30.0</text>\n",
       "</g>\n",
       "</svg>\n"
      ]
     },
     "execution_count": 273,
     "metadata": {},
     "output_type": "execute_result"
    }
   ],
   "source": [
    "x = [i for i in LinRange(0,1,1000)];\n",
    "p3 = plot()\n",
    "\n",
    "for p = [0.2, 0.4, 0.6, 1, 2, 3, 30]\n",
    "    \n",
    "    y = (1 .- x.^p) .^ (1/p)\n",
    "    \n",
    "    plot!(p3, x, y, label = \"p = $p\")\n",
    "    \n",
    "end\n",
    "\n",
    "plot(p3, xlim=(0,1.5), ylim=(0,1.2), aspect_ratio=:equal, \n",
    "    size=(500,500),linewidth=2, xlabel=\"x\", ylabel=\"y\")"
   ]
  },
  {
   "cell_type": "markdown",
   "metadata": {},
   "source": [
    "In this problem you investigate how geometric concepts such as\n",
    "distance and angle can be applied to quantify similarity between text\n",
    "documents. You should have the files $\\texttt{wordVecArticles.txt}$,\n",
    "$\\texttt{wordVecTitles.txt}$, $\\texttt{wordVecWords.txt}$ and\n",
    "$\\texttt{wordVecV.txt}$ from the course website. The first two files\n",
    "each have ten lines. Each line in the first file consists of the text\n",
    "of one Wikipedia article.  The corresponding line of the second file\n",
    "is the title of the article. The last two files are described in detail below.\n",
    "\n",
    "Denote by $D$ the set of documents where the number of documents\n",
    "is $|D|$.  (In our dataset $|D| = 10$).  Let $W$\n",
    "denote the union of words in all articles, i.e., the lexicon of the\n",
    "set of documents.  We denote the cardinality of $W$ by $|W|$.\n",
    "Assume the lexicon is ordered \"lexiographically\" (e.g.,\n",
    "alphabetically) so that there is a one-to-one mapping from each word\n",
    "$w \\in W$ to an element of the index set $t \\in [|W|]$.\n",
    "Let $f_{\\rm term}(t, d)$ denote the number of times the word\n",
    "$w \\in W$ that is indexed as $t\\in[|W|]$ appears in the\n",
    "$d$th article where $d \\in [|D|]$.  Note that\n",
    "$\\sum_{t=1}^{|W|} f_{\\rm term}(t,d)$ is the number of words\n",
    "(the length) of the $d$th article.  We refer to $f_{\\rm term} (t, d)$\n",
    "as the \"term frequency\" (really \"term count\").\n",
    "\n",
    "A pre-computed $W$ set and pre-computed $f_{\\rm term}(t,d)$\n",
    "have been provided.\n",
    "The pre-processed data appears in the files\n",
    "$\\texttt{wordVecWords.txt}$ and $\\texttt{wordVecV.txt}$. The first\n",
    "file represents the set $W$ where elements of $W$ are listed\n",
    "line by line, for $1651$ lines, i.e., $|W| = 1651$. The file\n",
    "$\\texttt{wordVecV.txt}$ contains a matrix \n",
    "$\\texttt{V}$ of dimensions $1651 \\times 10$. The value in the $t$th\n",
    "row and $d$th column of this matrix is $f_{\\rm term}(t, d)$. Use the\n",
    "provided data in $\\texttt{V}$ to answer parts (a) to (d) of this\n",
    "problem."
   ]
  },
  {
   "cell_type": "markdown",
   "metadata": {},
   "source": [
    "(a)  Let the \n",
    "$|W|$-dimensional vectors $v_d$, $d \\in [|D|]$ be defined\n",
    "as $v_d = (f_{\\rm term}(1, d), f_{\\rm term}(2, d), \\dots, f_{\\rm\n",
    "term}(|W|, d))$.  Using $v_d$ to represent the $d$th document,\n",
    "which two articles are closest in Euclidean distance (smallest\n",
    "distance)?  Which two are closest in angle distance (smallest angle)?\n",
    "Are they the same pair, if not, what could be a reason for them being\n",
    "different? The functions ```norm``` and ```findmin```, could be useful.\n",
    "Recall that you can read the documentation for a function using ```?function```.\n",
    "You'll also need to compute pairwise distances. The Distances.jl package could be \n",
    "used (Google it). But you can also just do it by yourself, your code doesn't\n",
    "need to be efficient. "
   ]
  },
  {
   "cell_type": "markdown",
   "metadata": {},
   "source": [
    "Some code for loading the files has been written to start you off. "
   ]
  },
  {
   "cell_type": "code",
   "execution_count": 274,
   "metadata": {},
   "outputs": [
    {
     "data": {
      "text/plain": [
       "IOStream(<file wordVecTitles.txt>)"
      ]
     },
     "execution_count": 274,
     "metadata": {},
     "output_type": "execute_result"
    }
   ],
   "source": [
    "file = open(\"wordVecTitles.txt\")"
   ]
  },
  {
   "cell_type": "code",
   "execution_count": 275,
   "metadata": {},
   "outputs": [
    {
     "data": {
      "text/plain": [
       "10-element Array{String,1}:\n",
       " \"B. J. Cole\"                    \n",
       " \"Mary J. Blige\"                 \n",
       " \"Jessica Feshbach\"              \n",
       " \"Susie Au\"                      \n",
       " \"Geoff Brown (baseball)\"        \n",
       " \"John Holland (composer)\"       \n",
       " \"James Forder\"                  \n",
       " \"Public image of George W. Bush\"\n",
       " \"Barack Obama\"                  \n",
       " \"George W. Bush\"                "
      ]
     },
     "execution_count": 275,
     "metadata": {},
     "output_type": "execute_result"
    }
   ],
   "source": [
    "titles = readlines(file)"
   ]
  },
  {
   "cell_type": "code",
   "execution_count": 276,
   "metadata": {},
   "outputs": [],
   "source": [
    "close(file)"
   ]
  },
  {
   "cell_type": "code",
   "execution_count": 277,
   "metadata": {},
   "outputs": [],
   "source": [
    "file = open(\"wordVecWords.txt\")\n",
    "words = readlines(file)\n",
    "close(file)"
   ]
  },
  {
   "cell_type": "code",
   "execution_count": 278,
   "metadata": {},
   "outputs": [],
   "source": [
    "using DelimitedFiles"
   ]
  },
  {
   "cell_type": "code",
   "execution_count": 279,
   "metadata": {},
   "outputs": [
    {
     "data": {
      "text/plain": [
       "1651×10 Array{Float64,2}:\n",
       " 0.0  0.0  0.0  0.0  1.0  0.0  0.0  0.0  0.0  0.0\n",
       " 0.0  0.0  0.0  1.0  0.0  1.0  0.0  0.0  0.0  0.0\n",
       " 1.0  0.0  0.0  0.0  0.0  0.0  0.0  0.0  0.0  0.0\n",
       " 0.0  4.0  0.0  0.0  1.0  0.0  0.0  0.0  0.0  0.0\n",
       " 0.0  2.0  0.0  0.0  0.0  0.0  0.0  1.0  0.0  2.0\n",
       " 0.0  0.0  0.0  0.0  1.0  0.0  0.0  0.0  0.0  0.0\n",
       " 0.0  0.0  0.0  0.0  1.0  0.0  0.0  0.0  0.0  0.0\n",
       " 0.0  0.0  0.0  0.0  0.0  0.0  0.0  0.0  1.0  0.0\n",
       " 1.0  0.0  0.0  0.0  0.0  0.0  0.0  0.0  0.0  0.0\n",
       " 0.0  2.0  0.0  0.0  0.0  0.0  0.0  0.0  0.0  0.0\n",
       " 0.0  1.0  0.0  0.0  0.0  0.0  0.0  0.0  0.0  0.0\n",
       " 1.0  0.0  0.0  0.0  0.0  0.0  0.0  0.0  0.0  0.0\n",
       " 1.0  0.0  0.0  0.0  0.0  0.0  0.0  0.0  0.0  0.0\n",
       " ⋮                        ⋮                      \n",
       " 0.0  1.0  0.0  0.0  0.0  1.0  0.0  0.0  1.0  0.0\n",
       " 0.0  0.0  0.0  0.0  0.0  0.0  0.0  1.0  0.0  0.0\n",
       " 0.0  0.0  0.0  1.0  0.0  0.0  0.0  0.0  0.0  0.0\n",
       " 0.0  0.0  0.0  0.0  0.0  0.0  0.0  1.0  0.0  0.0\n",
       " 0.0  0.0  0.0  1.0  0.0  0.0  0.0  0.0  0.0  0.0\n",
       " 0.0  0.0  0.0  1.0  0.0  0.0  0.0  0.0  0.0  0.0\n",
       " 0.0  0.0  0.0  0.0  0.0  2.0  0.0  0.0  0.0  0.0\n",
       " 0.0  1.0  0.0  0.0  0.0  0.0  0.0  0.0  0.0  0.0\n",
       " 1.0  0.0  0.0  0.0  0.0  0.0  0.0  0.0  0.0  0.0\n",
       " 0.0  0.0  0.0  1.0  0.0  0.0  0.0  0.0  0.0  0.0\n",
       " 0.0  0.0  0.0  1.0  0.0  0.0  0.0  0.0  0.0  0.0\n",
       " 1.0  0.0  0.0  0.0  0.0  0.0  0.0  0.0  0.0  0.0"
      ]
     },
     "execution_count": 279,
     "metadata": {},
     "output_type": "execute_result"
    }
   ],
   "source": [
    "V = readdlm(\"wordVecV.txt\", ',', Float64, '\\n') # The entries of this are f_term(t,d)"
   ]
  },
  {
   "cell_type": "code",
   "execution_count": 280,
   "metadata": {},
   "outputs": [
    {
     "name": "stdout",
     "output_type": "stream",
     "text": [
      "\u001b[32m\u001b[1m Resolving\u001b[22m\u001b[39m package versions...\n",
      "\u001b[32m\u001b[1m Installed\u001b[22m\u001b[39m Distances ─ v0.8.2\n",
      "\u001b[32m\u001b[1m  Updating\u001b[22m\u001b[39m `~/.julia/environments/v1.2/Project.toml`\n",
      " \u001b[90m [b4f34e82]\u001b[39m\u001b[92m + Distances v0.8.2\u001b[39m\n",
      "\u001b[32m\u001b[1m  Updating\u001b[22m\u001b[39m `~/.julia/environments/v1.2/Manifest.toml`\n",
      " \u001b[90m [b4f34e82]\u001b[39m\u001b[92m + Distances v0.8.2\u001b[39m\n"
     ]
    },
    {
     "name": "stderr",
     "output_type": "stream",
     "text": [
      "┌ Info: Precompiling Distances [b4f34e82-e78d-54a5-968a-f98e89d6e8f7]\n",
      "└ @ Base loading.jl:1242\n",
      "┌ Warning: implicit `dims=2` argument now has to be passed explicitly to specify that distances between columns should be computed\n",
      "│   caller = ip:0x0\n",
      "└ @ Core :-1\n"
     ]
    },
    {
     "data": {
      "text/plain": [
       "(CartesianIndex(8, 7), CartesianIndex(10, 9))"
      ]
     },
     "execution_count": 280,
     "metadata": {},
     "output_type": "execute_result"
    }
   ],
   "source": [
    "import Pkg; Pkg.add(\"Distances\")\n",
    "# This package provides a definition for the Euclidean and cosine distance\n",
    "using Distances\n",
    "\n",
    "# Define the total number of documents (which is 10)\n",
    "number_of_documents = size(V, 2);\n",
    "\n",
    "function calculate_mins(M)\n",
    "    # Calculate the distances and angles for each non-ordered pair (and when i =/= j) of documents\n",
    "    distances = pairwise(Euclidean(), V)\n",
    "    angles = pairwise(CosineDist(), V)\n",
    "    \n",
    "    distances += Inf*I(number_of_documents)\n",
    "    angles += Inf*I(number_of_documents)\n",
    "    \n",
    "    # Return the INDEXES of the minimum values\n",
    "    return argmin(distances), argmin(angles)\n",
    "end\n",
    "\n",
    "calculate_mins(V)"
   ]
  },
  {
   "cell_type": "markdown",
   "metadata": {},
   "source": [
    "Type your answers to (a) in the Markdown cell below this one:"
   ]
  },
  {
   "cell_type": "markdown",
   "metadata": {},
   "source": [
    "Answer: The 7th and 8th articles are closest in Euclidean distance, while the 9th and 10th articles have the smallest anglest between them. The reason for this difference can be explained geometrically. Euclidean distance considers both differences in the X and Y direction, while angular distance only considers the angle. To demonstrate this, consider two collinear vectors: while the Euclidean distances of their endpoints may differ, the difference in their angles is 0."
   ]
  },
  {
   "cell_type": "markdown",
   "metadata": {},
   "source": [
    "(b) In this part let the \n",
    "$|W|$-dimensional normalized vectors $\\tilde{v}_d$, $d \\in\n",
    "[|D|]$ be defined as $\\tilde{v}_d = v_d / \\sum_{t=1}^{|\n",
    "W|} f_{\\rm term}(t,d)$, where the $v_d$ are defined as in the\n",
    "previous part.  Using $\\tilde{v}_d$ to represent the $d$th document,\n",
    "which two articles are closest in Euclidean distance (smallest\n",
    "distance)?  Which two are closest in angle distance (smallest angle)?\n",
    "Are your answers the same as in the previous part?  What would be a\n",
    "reason for using this normalization?"
   ]
  },
  {
   "cell_type": "code",
   "execution_count": 281,
   "metadata": {},
   "outputs": [
    {
     "data": {
      "text/plain": [
       "(CartesianIndex(8, 7), CartesianIndex(10, 9))"
      ]
     },
     "execution_count": 281,
     "metadata": {},
     "output_type": "execute_result"
    }
   ],
   "source": [
    "# Normalize the vectors\n",
    "normalized_V = deepcopy(V);\n",
    "for i = 1:number_of_documents\n",
    "    normalized_V[:,i] = normalized_V[:,i]/sum(normalized_V[:,i]);\n",
    "end\n",
    "\n",
    "# Same procedure\n",
    "calculate_mins(normalized_V)"
   ]
  },
  {
   "cell_type": "markdown",
   "metadata": {},
   "source": [
    "Type your answers to (b) in the Markdown cell below this one:"
   ]
  },
  {
   "cell_type": "markdown",
   "metadata": {},
   "source": [
    "Answer: The answers are identical to (a): the 7th and 8th articles are closest in Euclidean distance, while the 9th and 10th articles have the smallest anglest between them. They are the same since the normalization process shouldn't affect the relationship between two documents. Normalized values can make calculation processes a lot more cost and time-efficient. "
   ]
  },
  {
   "cell_type": "markdown",
   "metadata": {},
   "source": [
    "Now, let $f_{\\rm doc}(t) = \\sum_{d=1}^{|D|} \\mathbb{I}[f_{\\rm\n",
    "term} (t, d) > 0]$ where $\\mathbb{I}(\\cdot)$ is the indicator function\n",
    "taking value one if the clause is true and zero else. The function\n",
    "$f_{\\rm doc}(t)$ counts in how many documents the $t$th word appears.\n",
    "We refer to $f_{\\rm doc}(t)$ as the document frequency.\n",
    "\n",
    "We combine the term and document frequency definitions into what is\n",
    "called the term frequency-inverse document frequency score\n",
    "(TF-IDF), defined as \n",
    "\\begin{equation*}\n",
    "w(t, d) = \\frac{f_{\\rm term}(t, d)}{\\sum_{t=1}^{|W|} f_{\\rm\n",
    "term}(t, d)}\\sqrt{\\log\\left(\\frac{|D| }{f_{\\rm doc}(t)}\\right)}.\n",
    "\\end{equation*}\n",
    "Note, the denominator of the $\\log$ is never zero since, by\n",
    "definition, each term appears in at least one document.\n",
    "\n",
    "(c) Now let the $|W|$-dimensional vectors $w_d$, $d \\in [|D|]$ be defined as $w_d = (w(1,d), w(2, d), \\ldots, w(|W|, d))$. Using $w_d$ to represent the $d$th document, which two articles are closest in Euclidean distance (smallest\n",
    "distance)? Which two are closest in angle distance (smallest angle)?\n",
    "\n",
    "(d) What might be a reason for using the \"inverse document frequency\" adjustment?  What is the adjustment doing geometrically?"
   ]
  },
  {
   "cell_type": "code",
   "execution_count": 282,
   "metadata": {},
   "outputs": [
    {
     "data": {
      "text/plain": [
       "(CartesianIndex(8, 7), CartesianIndex(10, 9))"
      ]
     },
     "execution_count": 282,
     "metadata": {},
     "output_type": "execute_result"
    }
   ],
   "source": [
    "# Define a function for f_doc(t)\n",
    "function document_frequency(t)\n",
    "    return sum([(w != 0) for w in V[t,:]])\n",
    "end\n",
    "\n",
    "# Generate the W matrix\n",
    "W = deepcopy(V);\n",
    "\n",
    "for i = 1:number_of_documents\n",
    "    for j = 1:size(V, 1)\n",
    "        #println(document_frequency(j))\n",
    "        W[j, i] = (V[j, i]/sum(V[:,i]))*sqrt(log(number_of_documents/document_frequency(j)))\n",
    "    end\n",
    "end\n",
    "\n",
    "# Same procedure\n",
    "calculate_mins(W)"
   ]
  },
  {
   "cell_type": "markdown",
   "metadata": {},
   "source": [
    "Type your answers to (c) and (d) in the Markdown cell below this one:"
   ]
  },
  {
   "cell_type": "markdown",
   "metadata": {},
   "source": [
    "Answer: Once again, the 7th and 8th articles are closest in Euclidean distance, while the 9th and 10th articles have the smallest anglest between them. The TF-IDF gives more weight to more infrequent words, allowing more unique and rarer words to be considered when comparing the similarity between two documents. "
   ]
  },
  {
   "cell_type": "markdown",
   "metadata": {},
   "source": [
    "OPTIONAL EXERCISE: (e) Write code to obtain $W$ and $f_{\\rm term}(t,d)$ (which we named ```V```) from the raw data files (articles and titles). Store the results in variables named ```myW``` and ```myV```"
   ]
  },
  {
   "cell_type": "code",
   "execution_count": 283,
   "metadata": {},
   "outputs": [],
   "source": [
    " # Start here"
   ]
  },
  {
   "cell_type": "code",
   "execution_count": 284,
   "metadata": {},
   "outputs": [
    {
     "ename": "UndefVarError",
     "evalue": "UndefVarError: myV not defined",
     "output_type": "error",
     "traceback": [
      "UndefVarError: myV not defined",
      "",
      "Stacktrace:",
      " [1] top-level scope at In[284]:1"
     ]
    }
   ],
   "source": [
    "@assert myV == V"
   ]
  },
  {
   "cell_type": "code",
   "execution_count": 285,
   "metadata": {},
   "outputs": [
    {
     "ename": "UndefVarError",
     "evalue": "UndefVarError: myW not defined",
     "output_type": "error",
     "traceback": [
      "UndefVarError: myW not defined",
      "",
      "Stacktrace:",
      " [1] top-level scope at In[285]:1"
     ]
    }
   ],
   "source": [
    "@assert myW == words"
   ]
  },
  {
   "cell_type": "code",
   "execution_count": null,
   "metadata": {},
   "outputs": [],
   "source": []
  }
 ],
 "metadata": {
  "kernelspec": {
   "display_name": "Julia 1.2.0",
   "language": "julia",
   "name": "julia-1.2"
  },
  "language_info": {
   "file_extension": ".jl",
   "mimetype": "application/julia",
   "name": "julia",
   "version": "1.2.0"
  }
 },
 "nbformat": 4,
 "nbformat_minor": 2
}
