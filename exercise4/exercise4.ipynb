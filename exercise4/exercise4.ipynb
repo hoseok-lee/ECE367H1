{
 "cells": [
  {
   "cell_type": "markdown",
   "metadata": {},
   "source": [
    "### Last name: Lee\n",
    "### First name: Ho Seok\n",
    "### Student number: 1004112177\n",
    "### List of collaborators (if any): \n",
    "* Damrongpiriyapong, Soraphol\n",
    "* Last name, first name\n",
    "* Last name, first name"
   ]
  },
  {
   "cell_type": "markdown",
   "metadata": {},
   "source": [
    "Start by installing the ```Convex``` and ```SCS``` packages:"
   ]
  },
  {
   "cell_type": "code",
   "execution_count": 2,
   "metadata": {},
   "outputs": [],
   "source": [
    "using Pkg"
   ]
  },
  {
   "cell_type": "code",
   "execution_count": 3,
   "metadata": {},
   "outputs": [
    {
     "name": "stdout",
     "output_type": "stream",
     "text": [
      "\u001b[32m\u001b[1m  Updating\u001b[22m\u001b[39m registry at `~/.julia/registries/General`\n",
      "\u001b[32m\u001b[1m  Updating\u001b[22m\u001b[39m git-repo `https://github.com/JuliaRegistries/General.git`\n",
      "\u001b[2K\u001b[?25h[1mFetching:\u001b[22m\u001b[39m [========================================>]  100.0 %.0 %>                                 ]  15.8 % %                 ]  56.2 % [=============================>           ]  72.0 %83.6 %>]  99.5 %\u001b[32m\u001b[1m Resolving\u001b[22m\u001b[39m package versions...\n",
      "\u001b[32m\u001b[1m Installed\u001b[22m\u001b[39m PlotThemes ───── v1.0.0\n",
      "\u001b[32m\u001b[1m Installed\u001b[22m\u001b[39m Tokenize ─────── v0.5.7\n",
      "\u001b[32m\u001b[1m Installed\u001b[22m\u001b[39m DataStructures ─ v0.17.6\n",
      "\u001b[32m\u001b[1m Installed\u001b[22m\u001b[39m GR ───────────── v0.44.0\n",
      "\u001b[32m\u001b[1m  Updating\u001b[22m\u001b[39m `~/.julia/environments/v1.2/Project.toml`\n",
      "\u001b[90m [no changes]\u001b[39m\n",
      "\u001b[32m\u001b[1m  Updating\u001b[22m\u001b[39m `~/.julia/environments/v1.2/Manifest.toml`\n",
      " \u001b[90m [864edb3b]\u001b[39m\u001b[93m ↑ DataStructures v0.17.5 ⇒ v0.17.6\u001b[39m\n",
      " \u001b[90m [28b8d3ca]\u001b[39m\u001b[93m ↑ GR v0.42.0 ⇒ v0.44.0\u001b[39m\n",
      " \u001b[90m [ccf2f8ad]\u001b[39m\u001b[93m ↑ PlotThemes v0.4.0 ⇒ v1.0.0\u001b[39m\n",
      " \u001b[90m [995b91a9]\u001b[39m\u001b[95m ↓ PlotUtils v0.6.1 ⇒ v0.6.0\u001b[39m\n",
      " \u001b[90m [0796e94c]\u001b[39m\u001b[93m ↑ Tokenize v0.5.6 ⇒ v0.5.7\u001b[39m\n",
      "\u001b[32m\u001b[1m  Building\u001b[22m\u001b[39m GR → `~/.julia/packages/GR/oiZD3/deps/build.log`\n"
     ]
    }
   ],
   "source": [
    "Pkg.add(\"Convex\")"
   ]
  },
  {
   "cell_type": "code",
   "execution_count": 4,
   "metadata": {},
   "outputs": [
    {
     "name": "stdout",
     "output_type": "stream",
     "text": [
      "\u001b[32m\u001b[1m Resolving\u001b[22m\u001b[39m package versions...\n",
      "\u001b[32m\u001b[1m  Updating\u001b[22m\u001b[39m `~/.julia/environments/v1.2/Project.toml`\n",
      "\u001b[90m [no changes]\u001b[39m\n",
      "\u001b[32m\u001b[1m  Updating\u001b[22m\u001b[39m `~/.julia/environments/v1.2/Manifest.toml`\n",
      "\u001b[90m [no changes]\u001b[39m\n"
     ]
    }
   ],
   "source": [
    "Pkg.add(\"SCS\")"
   ]
  },
  {
   "cell_type": "code",
   "execution_count": 5,
   "metadata": {},
   "outputs": [],
   "source": [
    "using Convex\n",
    "using SCS"
   ]
  },
  {
   "cell_type": "code",
   "execution_count": 6,
   "metadata": {},
   "outputs": [
    {
     "name": "stderr",
     "output_type": "stream",
     "text": [
      "┌ Info: Recompiling stale cache file /Users/hoseoklee/.julia/compiled/v1.2/Plots/ld3vC.ji for Plots [91a5bcdd-55d7-5caf-9e0b-520d859cae80]\n",
      "└ @ Base loading.jl:1240\n"
     ]
    }
   ],
   "source": [
    "using Plots\n",
    "using LinearAlgebra\n",
    "using DelimitedFiles\n",
    "using Statistics\n",
    "using Random"
   ]
  },
  {
   "cell_type": "markdown",
   "metadata": {},
   "source": [
    "In this exercise narrated and partially prepared by me (Mohannad Shehadeh), we'll be learning how to use the ```Convex``` modelling language to solve convex optimization problems. Similar enormously popular frameworks exist for other languages like ```CVX``` for MATLAB and ```CVXPY``` for Python, but all of these (including ```Convex```) came out of the same research group and are based on the same principles so what you learn will be transferable should you need to use another language in your future work or research. Documentation for ```Convex``` is available at https://www.juliaopt.org/Convex.jl/dev/ and you should keep this at hand.\n",
    "\n",
    "For the purposes of this exercise, ```Convex``` will be acting as a magical blackbox which solves optimization problems and I will attempt to give you a hopefully not too hazy big picture view of how this works. This software has been designed for use by non-experts in convex optimization so a big picture view will suffice for doing a lot. In fact, learning to use this framework will give you a wizard-like ability to do things that would have required far more expertise and effort just 10 years ago and have endless and tremendous applications in industry and research.  \n",
    "\n",
    "In the remaining weeks of the course, you will explore a little bit more deeply some of the things which I will gloss over.\n",
    "\n",
    "Finally, as with previous exercises, reading and understanding the examples and instructions is the most important part and if you put effort there, only a small amount of simple code needs to be written."
   ]
  },
  {
   "cell_type": "markdown",
   "metadata": {},
   "source": [
    "# Part 1: Background and simple exercises"
   ]
  },
  {
   "cell_type": "markdown",
   "metadata": {},
   "source": [
    "I'll start by providing the background needed to understand what the ```Convex``` package is and how it's used.  \n",
    "\n",
    "Note that slightly more general definitions might exist than the definitions I'll provide here, for example, generalizing from a vector space to an affine space. So, be careful for possible differences in definitions when studying the course material later.\n",
    "\n",
    "Let $x_1, \\dots, x_K$ be a set of points (vectors) in a vector space $R^N$. A *convex combination* of these points is a point of the form $\\alpha_1 x_1 + \\dots + \\alpha_K x_K$ where $\\alpha_i \\geq 0$ and $\\sum_{i = 1}^K \\alpha_i = 1$. In other words, a convex combination is a linear combination where the coefficients are nonnegative and add up to $1$.\n",
    "\n",
    "A *convex set* is a subset of $R^N$ that is closed under convex combinations. Refer to https://en.wikipedia.org/wiki/Convex_set for some pictures.\n",
    "\n",
    "Let $X \\subseteq R^N$ be a convex set and let be $f\\colon X \\to R$ be a function. $f$ is said to be a *convex function* if, for all $x,y \\in X$ and for any $\\lambda \\in R$ satisfying $0 \\leq \\lambda \\leq 1$\n",
    "\\begin{equation}\n",
    "    f(\\lambda x + (1-\\lambda)y) \\leq \\lambda f(x) + (1-\\lambda) f(y)\n",
    "\\end{equation}\n",
    "\n",
    "Refer to https://en.wikipedia.org/wiki/Convex_function for some pictures.\n",
    "\n",
    "$f$ is said to be a *concave function* if $-f$ is a convex function, or, equivalently, the above inequality is reversed.\n",
    "\n",
    "An *affine function* is one which is simultaneously concave and convex in which case it must be of the form $h(x) = Ax + b$ for some $A \\in R^{M\\times N}$ and $b \\in R^M$.\n",
    "\n",
    "Convex functions, apart from occurring naturally in many applications, have convenient mathematical properties like that, for example, any local minimum of a convex function is also a global minimum. \n",
    "\n",
    "A *convex optimization problem* is an optimization problem, which, in the standard form, is  \n",
    "\n",
    "\\begin{equation}\n",
    "\\begin{aligned}\n",
    "& p^* = \\underset{x}{\\text{min}} & & f_0(x) \\\\\n",
    "& \\text{subject to} & &  f_i(x) \\leq 0,\\; \\text{for}\\; i = 1,\\dots,m \\\\\n",
    "& & & h_i(x) = 0,\\; \\text{for}\\; i = 1,\\dots,q\\\\\n",
    "\\end{aligned}\n",
    "\\end{equation}\n",
    "\n",
    "(with $x \\in R^N$) where:\n",
    "- the objective function $f_0$ is convex\n",
    "- the inequality constraint functions $f_i$ for $i = 1,\\dots,m$ are convex \n",
    "- the equality constraint functions $h_i$ for $i = 1,\\dots,q$ are affine\n",
    "\n",
    "It can be shown that the set of points satisfying such constraints, called the *feasible set* (or region), is a convex set $X$.\n",
    "\n",
    "If $X = R^N$, the problem is said to be *unconstrained*.\n",
    "\n",
    "Nonconvex optimization is extremely difficult in general (for humans and computers), hence our interest in problems which can be cast in this form. Luckily, it turns out that a huge variety of problems can indeed be naturally expressed in this form. \n",
    "\n",
    "However, efficient generic methods for solving arbitary convex optimization problems are still an active area of research, so we must restrict ourself a little bit further to a subcategory of convex optimization problems. Luckily for us, this subcategory of problems will still be fairly broad and you're unlikely to come up with a convex optimization problem that doesn't fit into it.\n",
    "\n",
    "A convex optimization problem where all of the functions involved, objectives and constraints, are linear or affine is called a linear program (LP). When the objective function is quadratic, it's called a quadratic program (QP). When the objective function and constraints are quadratic, it's called a quadratically constrained quadratic program (QCQP). Further classes include semidefinite programs (SDPs) and second-order cone programs (SOCPs). All of these categories of convex optimization problems fall into a broader category of convex optimization problems called cone programs (CPs). \n",
    "\n",
    "Cone programs can be solved highly efficiently by computers using cone program solvers. The ```SCS``` you installed was a cone program solver. Given a cone program, an appropriate specialized algorithm can be run to get to an optimal solution.\n",
    "\n",
    "It turns out that a wide variety of convex optimization problems can be converted into equivalent cone programs. So, once you have a convex optimization problem, traditionally, you would try to convert it into an equivalent LP, QP, QCQP, or other CP. Once your problem is in such a form, you can use the appropriate specialized solver to get to your solution.\n",
    "\n",
    "However, recognizing that a problem is convex, and figuring out how to convert it into a cone program can be quite difficult in general. You will learn how to do this in some common special cases in this course. \n",
    "\n",
    "Fortunately for you, the ```Convex``` modelling language (as well as ```CVX``` and ```CVXPY```) is exactly made for solving this problem. An approach called disciplined convex programming (DCP) is used to allow you to express a convex optimization problem in a way which allows ```Convex``` both to check that the problem is indeed convex and more importantly, convert the problem into a standard cone program form so that a specialized solver like ```SCS``` can be used to solve it. \n",
    "\n",
    "We will now demonstrate how DCP works by an example followed by some exercises. The overview is as follows:\n",
    "\n",
    "- We start by specifying **variables** which are the values we would like to optimize with respect to. We can have the variables be a single vector, multiple vectors, or multiple scalars or combinations of both. In any case, they can be interpreted as one big vector but you can specify them however you want.\n",
    "- We then specify **constants** which are numbers, vectors, and matrices involved in our objective and constraint functions which are fixed.\n",
    "- Next, we create our **objective** and **constraints** using **expressions**\n",
    "- These mathematical expressions must be built as a composition of predefined convex or affine functions called **atoms**. A list of these **atoms** can be found at https://www.juliaopt.org/Convex.jl/dev/operations/#Operations-1 and you must use them to create the expressions for your functions\n",
    "- You cannot combine these atoms in an arbitary way, you must do it in a way which preserves convexity, e.g., sums of convex functions are convex, a composition of a convex and increasing function with a convex function is convex, and more\n",
    "- ```Convex``` will check whether the expression you created follows the rules and will throw an error if it didn't so you won't actually have to worry about it, however, if you'd like to learn these rules, you can look at https://dcp.stanford.edu/rules\n",
    "- Finally, you define a **problem** using your objective and constraints which are made of expressions which are made of variables and ```Convex``` magically solves it"
   ]
  },
  {
   "cell_type": "markdown",
   "metadata": {},
   "source": [
    "Let's go."
   ]
  },
  {
   "cell_type": "markdown",
   "metadata": {},
   "source": [
    "First, a remark on notation: Let $x,y \\in R^N$. The notation $x \\leq y$ will mean component-wise inequality, i.e., $x_i \\leq y_i$ for $i = 1,\\dots,N$.\n",
    "\n",
    "Consider the following linear program (adapted from [here](https://www.juliaopt.org/Convex.jl/dev/examples/general_examples/basic_usage/)) where $c, x \\in R^N$, $b \\in R^M$ and $A \\in R^{M \\times N}$\n",
    "\n",
    "\\begin{equation}\n",
    "\\begin{aligned}\n",
    "& p^* = \\underset{x}{\\text{min}} & & c^Tx \\\\\n",
    "& \\text{subject to} & &  Ax \\leq b \\\\\n",
    "& & & x \\geq 1\\\\\n",
    "& & & x \\leq 10\\\\\n",
    "& & & x_2 \\leq 5\\\\\n",
    "& & & x_1 + x_4 - x_2 \\leq 10\\\\\n",
    "\\end{aligned}\n",
    "\\end{equation}\n"
   ]
  },
  {
   "cell_type": "markdown",
   "metadata": {},
   "source": [
    "I'll define the constants of the problem. Let $N = M = 4$ and:"
   ]
  },
  {
   "cell_type": "code",
   "execution_count": 7,
   "metadata": {
    "scrolled": true
   },
   "outputs": [
    {
     "data": {
      "text/plain": [
       "4-element Array{Int64,1}:\n",
       " 1\n",
       " 2\n",
       " 3\n",
       " 4"
      ]
     },
     "execution_count": 7,
     "metadata": {},
     "output_type": "execute_result"
    }
   ],
   "source": [
    "c = [1, 2, 3, 4]"
   ]
  },
  {
   "cell_type": "code",
   "execution_count": 8,
   "metadata": {},
   "outputs": [
    {
     "data": {
      "text/plain": [
       "4×4 Array{Int64,2}:\n",
       " 1  0  0  0\n",
       " 0  1  0  0\n",
       " 0  0  1  0\n",
       " 0  0  0  1"
      ]
     },
     "execution_count": 8,
     "metadata": {},
     "output_type": "execute_result"
    }
   ],
   "source": [
    "A = [1 0 0 0; 0 1 0 0; 0 0 1 0; 0 0 0 1]"
   ]
  },
  {
   "cell_type": "code",
   "execution_count": 9,
   "metadata": {},
   "outputs": [
    {
     "data": {
      "text/plain": [
       "4-element Array{Int64,1}:\n",
       " 10\n",
       " 10\n",
       " 10\n",
       " 10"
      ]
     },
     "execution_count": 9,
     "metadata": {},
     "output_type": "execute_result"
    }
   ],
   "source": [
    "b = [10, 10, 10, 10]"
   ]
  },
  {
   "cell_type": "markdown",
   "metadata": {},
   "source": [
    "Let's define the variables now. In this case, there's only one $4$-dimensional variable $x$. We define a variable using\n",
    "\n",
    "```<variable name> = Variable(<size>)``` \n",
    "\n",
    "as follows:"
   ]
  },
  {
   "cell_type": "code",
   "execution_count": 10,
   "metadata": {},
   "outputs": [
    {
     "data": {
      "text/plain": [
       "Variable\n",
       "size: (4, 1)\n",
       "sign: real\n",
       "vexity: affine\n",
       "id: 673…786"
      ]
     },
     "execution_count": 10,
     "metadata": {},
     "output_type": "execute_result"
    }
   ],
   "source": [
    "x = Variable(4)"
   ]
  },
  {
   "cell_type": "markdown",
   "metadata": {},
   "source": [
    "Now we would like to define our objective function. We are only allowed to create expressions from operations and atoms listed here: https://www.juliaopt.org/Convex.jl/dev/operations/#Operations-1. If you get an error when trying to create an expression, try to find what you need in that list. "
   ]
  },
  {
   "cell_type": "code",
   "execution_count": 11,
   "metadata": {},
   "outputs": [
    {
     "data": {
      "text/plain": [
       "* (affine; real)\n",
       "├─ 1×4 Adjoint{Int64,Array{Int64,1}}\n",
       "└─ 4-element real variable (id: 673…786)"
      ]
     },
     "execution_count": 11,
     "metadata": {},
     "output_type": "execute_result"
    }
   ],
   "source": [
    "objective = c'*x"
   ]
  },
  {
   "cell_type": "markdown",
   "metadata": {},
   "source": [
    "Now we add constraints. We create an array of constraint expressions using ```<=```, ```>=```, and ```==``` and allowed atoms and operations.\n",
    "\n",
    "```constraints = [expression1, expression2, expression3, expression4]```\n",
    "\n",
    "We can also add expressions to our constraint list using ```+=``` \n",
    "\n",
    "```constraints += expression5```\n",
    "\n",
    "in case the list is too big. "
   ]
  },
  {
   "cell_type": "markdown",
   "metadata": {},
   "source": [
    "Add the first two constraints:"
   ]
  },
  {
   "cell_type": "code",
   "execution_count": 12,
   "metadata": {},
   "outputs": [
    {
     "data": {
      "text/plain": [
       "2-element Array{Constraint,1}:\n",
       " <= constraint (affine)\n",
       "├─ * (affine; real)\n",
       "│  ├─ 4×4 Array{Int64,2}\n",
       "│  └─ 4-element real variable (id: 673…786)\n",
       "└─ 4-element Array{Int64,1}\n",
       " >= constraint (affine)\n",
       "├─ 4-element real variable (id: 673…786)\n",
       "└─ 1                                                                       "
      ]
     },
     "execution_count": 12,
     "metadata": {},
     "output_type": "execute_result"
    }
   ],
   "source": [
    "constraints = [A*x <= b, x >= 1]"
   ]
  },
  {
   "cell_type": "markdown",
   "metadata": {},
   "source": [
    "Add three more:"
   ]
  },
  {
   "cell_type": "code",
   "execution_count": 13,
   "metadata": {},
   "outputs": [
    {
     "data": {
      "text/plain": [
       "5-element Array{Constraint,1}:\n",
       " <= constraint (affine)\n",
       "├─ * (affine; real)\n",
       "│  ├─ 4×4 Array{Int64,2}\n",
       "│  └─ 4-element real variable (id: 673…786)\n",
       "└─ 4-element Array{Int64,1}                                                                                                                            \n",
       " >= constraint (affine)\n",
       "├─ 4-element real variable (id: 673…786)\n",
       "└─ 1                                                                                                                                                                                                   \n",
       " <= constraint (affine)\n",
       "├─ 4-element real variable (id: 673…786)\n",
       "└─ 10                                                                                                                                                                                                  \n",
       " <= constraint (affine)\n",
       "├─ index (affine; real)\n",
       "│  └─ 4-element real variable (id: 673…786)\n",
       "└─ 5                                                                                                                                                                        \n",
       " <= constraint (affine)\n",
       "├─ + (affine; real)\n",
       "│  ├─ index (affine; real)\n",
       "│  │  └─ 4-element real variable (id: 673…786)\n",
       "│  ├─ index (affine; real)\n",
       "│  │  └─ 4-element real variable (id: 673…786)\n",
       "│  └─ - (affine; real)\n",
       "│     └─ index (affine; real)\n",
       "│        └─ …\n",
       "└─ 10"
      ]
     },
     "execution_count": 13,
     "metadata": {},
     "output_type": "execute_result"
    }
   ],
   "source": [
    "constraints += x <= 10\n",
    "constraints += x[2] <= 5\n",
    "constraints += x[1] + x[4] - x[2] <= 10"
   ]
  },
  {
   "cell_type": "markdown",
   "metadata": {},
   "source": [
    "We now define the problem. If the problem is unconstrained, we use\n",
    "\n",
    "```problem = minimize(objective)```\n",
    "\n",
    "If the problem is constrained, we use\n",
    "\n",
    "```problem = minimize(objective, constraints)```"
   ]
  },
  {
   "cell_type": "code",
   "execution_count": 14,
   "metadata": {},
   "outputs": [
    {
     "data": {
      "text/plain": [
       "minimize\n",
       "└─ * (affine; real)\n",
       "   ├─ 1×4 Adjoint{Int64,Array{Int64,1}}\n",
       "   └─ 4-element real variable (id: 673…786)\n",
       "subject to\n",
       "├─ <= constraint (affine)\n",
       "│  ├─ * (affine; real)\n",
       "│  │  ├─ 4×4 Array{Int64,2}\n",
       "│  │  └─ 4-element real variable (id: 673…786)\n",
       "│  └─ 4-element Array{Int64,1}\n",
       "├─ >= constraint (affine)\n",
       "│  ├─ 4-element real variable (id: 673…786)\n",
       "│  └─ 1\n",
       "├─ <= constraint (affine)\n",
       "│  ├─ 4-element real variable (id: 673…786)\n",
       "│  └─ 10\n",
       "├─ <= constraint (affine)\n",
       "│  ├─ index (affine; real)\n",
       "│  │  └─ 4-element real variable (id: 673…786)\n",
       "│  └─ 5\n",
       "└─ <= constraint (affine)\n",
       "   ├─ + (affine; real)\n",
       "   │  ├─ index (affine; real)\n",
       "   │  │  └─ …\n",
       "   │  ├─ index (affine; real)\n",
       "   │  │  └─ …\n",
       "   │  └─ - (affine; real)\n",
       "   │     └─ …\n",
       "   └─ 10\n",
       "\n",
       "current status: not yet solved"
      ]
     },
     "execution_count": 14,
     "metadata": {},
     "output_type": "execute_result"
    }
   ],
   "source": [
    "problem = minimize(objective, constraints)"
   ]
  },
  {
   "cell_type": "markdown",
   "metadata": {},
   "source": [
    "We solve the problem with our ```SCS``` solver using ```solve!(problem, SCSSolver())```"
   ]
  },
  {
   "cell_type": "code",
   "execution_count": 15,
   "metadata": {},
   "outputs": [
    {
     "name": "stdout",
     "output_type": "stream",
     "text": [
      "----------------------------------------------------------------------------\n",
      "\tSCS v2.0.2 - Splitting Conic Solver\n",
      "\t(c) Brendan O'Donoghue, Stanford University, 2012-2017\n",
      "----------------------------------------------------------------------------\n",
      "Lin-sys: sparse-indirect, nnz in A = 21, CG tol ~ 1/iter^(2.00)\n",
      "eps = 1.00e-05, alpha = 1.50, max_iters = 5000, normalize = 1, scale = 1.00\n",
      "acceleration_lookback = 20, rho_x = 1.00e-03\n",
      "Variables n = 5, constraints m = 15\n",
      "Cones:\tprimal zero / dual free vars: 1\n",
      "\tlinear vars: 14\n",
      "Setup time: 8.68e-05s\n",
      "----------------------------------------------------------------------------\n",
      " Iter | pri res | dua res | rel gap | pri obj | dua obj | kap/tau | time (s)\n",
      "----------------------------------------------------------------------------\n",
      "     0| 1.36e+01  1.85e+01  9.96e-01 -2.24e+02 -0.00e+00  0.00e+00  6.05e-05 \n",
      "    40| 6.09e-08  4.40e-07  1.43e-07  1.00e+01  1.00e+01  3.20e-14  1.93e-04 \n",
      "----------------------------------------------------------------------------\n",
      "Status: Solved\n",
      "Timing: Solve time: 1.97e-04s\n",
      "\tLin-sys: avg # CG iterations: 1.73, avg solve time: 4.91e-07s\n",
      "\tCones: avg projection time: 4.10e-08s\n",
      "\tAcceleration: avg step time: 2.16e-06s\n",
      "----------------------------------------------------------------------------\n",
      "Error metrics:\n",
      "dist(s, K) = 1.4096e-14, dist(y, K*) = 0.0000e+00, s'y/|s||y| = -8.4282e-17\n",
      "primal res: |Ax + s - b|_2 / (1 + |b|_2) = 6.0920e-08\n",
      "dual res:   |A'y + c|_2 / (1 + |c|_2) = 4.3996e-07\n",
      "rel gap:    |c'x + b'y| / (1 + |c'x| + |b'y|) = 1.4257e-07\n",
      "----------------------------------------------------------------------------\n",
      "c'x = 10.0000, -b'y = 10.0000\n",
      "============================================================================\n"
     ]
    }
   ],
   "source": [
    "solve!(problem, SCSSolver())"
   ]
  },
  {
   "cell_type": "markdown",
   "metadata": {},
   "source": [
    "We obtain the optimizing value for a variable ```x``` after solving the problem using ```x.value``` and we obtain the optimal value of the objective function using ```problem.optval```"
   ]
  },
  {
   "cell_type": "code",
   "execution_count": 16,
   "metadata": {},
   "outputs": [
    {
     "data": {
      "text/plain": [
       "4×1 Array{Float64,2}:\n",
       " 1.0000001610819924\n",
       " 0.9999994724254981\n",
       " 0.9999999162173058\n",
       " 0.9999995837514231"
      ]
     },
     "execution_count": 16,
     "metadata": {},
     "output_type": "execute_result"
    }
   ],
   "source": [
    "x_star = x.value # Should be all ones "
   ]
  },
  {
   "cell_type": "code",
   "execution_count": 17,
   "metadata": {},
   "outputs": [
    {
     "data": {
      "text/plain": [
       "9.999998788041914"
      ]
     },
     "execution_count": 17,
     "metadata": {},
     "output_type": "execute_result"
    }
   ],
   "source": [
    "p_star = problem.optval # Should be 10"
   ]
  },
  {
   "cell_type": "markdown",
   "metadata": {},
   "source": [
    "**Exercise:** Solve Exercise 9.5 (An optimal breakfast) on page 342 of your textbook  using ```Convex``` as we just did. Store the answer for the optimal cost in a variable called ```p_star``` and the optimizing amount of servings of Corn, Milk, Bread in a vector called ```x_star```. Note that your amounts of servings need not be integers and that the constraint on the maximum number of servings is per each food type. The correct answer and an answer check cell which you should run have been provided. Note further that you can define three $1$-dimensional variables OR you can define one $3$-dimensional variable depending on whether you prefer to express things in terms of dot products or linear equations."
   ]
  },
  {
   "cell_type": "code",
   "execution_count": 18,
   "metadata": {},
   "outputs": [
    {
     "name": "stdout",
     "output_type": "stream",
     "text": [
      "----------------------------------------------------------------------------\n",
      "\tSCS v2.0.2 - Splitting Conic Solver\n",
      "\t(c) Brendan O'Donoghue, Stanford University, 2012-2017\n",
      "----------------------------------------------------------------------------\n",
      "Lin-sys: sparse-indirect, nnz in A = 20, CG tol ~ 1/iter^(2.00)\n",
      "eps = 1.00e-05, alpha = 1.50, max_iters = 5000, normalize = 1, scale = 1.00\n",
      "acceleration_lookback = 20, rho_x = 1.00e-03\n",
      "Variables n = 4, constraints m = 9\n",
      "Cones:\tprimal zero / dual free vars: 1\n",
      "\tlinear vars: 8\n",
      "Setup time: 3.18e-05s\n",
      "----------------------------------------------------------------------------\n",
      " Iter | pri res | dua res | rel gap | pri obj | dua obj | kap/tau | time (s)\n",
      "----------------------------------------------------------------------------\n",
      "     0| 2.37e+00  1.89e+00  8.52e-01 -6.05e+01 -4.38e+00  0.00e+00  2.00e-05 \n",
      "   100| 1.30e-06  3.99e-06  3.08e-06  3.74e+00  3.74e+00  2.90e-16  2.36e-04 \n",
      "----------------------------------------------------------------------------\n",
      "Status: Solved\n",
      "Timing: Solve time: 2.37e-04s\n",
      "\tLin-sys: avg # CG iterations: 3.05, avg solve time: 5.93e-07s\n",
      "\tCones: avg projection time: 3.50e-08s\n",
      "\tAcceleration: avg step time: 1.05e-06s\n",
      "----------------------------------------------------------------------------\n",
      "Error metrics:\n",
      "dist(s, K) = 2.4999e-13, dist(y, K*) = 0.0000e+00, s'y/|s||y| = -6.3239e-19\n",
      "primal res: |Ax + s - b|_2 / (1 + |b|_2) = 1.2959e-06\n",
      "dual res:   |A'y + c|_2 / (1 + |c|_2) = 3.9895e-06\n",
      "rel gap:    |c'x + b'y| / (1 + |c'x| + |b'y|) = 3.0836e-06\n",
      "----------------------------------------------------------------------------\n",
      "c'x = 3.7412, -b'y = 3.7413\n",
      "============================================================================\n"
     ]
    },
    {
     "data": {
      "text/plain": [
       "3.7412391692830327"
      ]
     },
     "execution_count": 18,
     "metadata": {},
     "output_type": "execute_result"
    }
   ],
   "source": [
    "# BEGIN SOLUTION\n",
    "c = [0.15, 0.25, 0.05]\n",
    "x = Variable(3)\n",
    "\n",
    "objective = c'*x\n",
    "\n",
    "constraints = [107*x[1] + 500*x[2] >= 5000,\n",
    "                107*x[1] + 500*x[2] <= 10000,\n",
    "    \n",
    "                45*x[1] + 40*x[2] + 60*x[3] <= 1000,\n",
    "    \n",
    "                70*x[1] + 121*x[2] + 65*x[3] >= 2000,\n",
    "                70*x[1] + 121*x[2] + 65*x[3] <= 2250,\n",
    "    \n",
    "                x <= 10]\n",
    "\n",
    "problem = minimize(objective, constraints)\n",
    "solve!(problem, SCSSolver())\n",
    "\n",
    "x_star = x.value\n",
    "p_star = problem.optval"
   ]
  },
  {
   "cell_type": "markdown",
   "metadata": {},
   "source": [
    "Answer check:"
   ]
  },
  {
   "cell_type": "code",
   "execution_count": 19,
   "metadata": {},
   "outputs": [],
   "source": [
    "p_star_ref = 3.7412\n",
    "x_star_ref = [6.5882, 10, 5.0588]\n",
    "@assert norm(p_star_ref-p_star) < 10^-3 && norm(x_star_ref-x_star) < 10^-3"
   ]
  },
  {
   "cell_type": "markdown",
   "metadata": {},
   "source": [
    "---------------------"
   ]
  },
  {
   "cell_type": "markdown",
   "metadata": {},
   "source": [
    "For the following three questions:\n",
    "\n",
    "Let $x \\in R^N$, $b \\in R^M$ and $A \\in R^{M \\times N}$.\n",
    "\n",
    "Let $||v||_p$ denote the $p$-norm of a vector $v \\in R^N$ or $v \\in R^M$. "
   ]
  },
  {
   "cell_type": "markdown",
   "metadata": {},
   "source": [
    "Moreover, $N = 7$, $M = 4$ and $A$, $b$ are constants defined in the following cell:"
   ]
  },
  {
   "cell_type": "code",
   "execution_count": 19,
   "metadata": {},
   "outputs": [],
   "source": [
    "A = [0.947931  0.0639746  0.0377269  0.399518   0.01464    0.952785   0.80076; \n",
    " 0.773775  0.607076   0.412492   0.0761318  0.947795   0.0368772  0.232726;\n",
    " 0.388207  0.165969   0.936847   0.608555   0.172854   0.1524     0.778316;\n",
    " 0.931932  0.302759   0.516603   0.272542   0.0454645  0.392813   0.890168];\n",
    "b = 10*[0.036360155695131624,\n",
    " 0.6573670082214775,  \n",
    " 0.030290614404246075,\n",
    " 0.37546120019099893];"
   ]
  },
  {
   "cell_type": "markdown",
   "metadata": {},
   "source": [
    "**Exercise:** \n",
    "\n",
    "\\begin{equation}\n",
    "\\begin{aligned}\n",
    "& p^* = \\underset{x}{\\text{min}} & & ||Ax - b||_2^2\\\\\n",
    "\\end{aligned}\n",
    "\\end{equation}\n",
    "\n",
    "Solve this convex optimization problem using ```Convex``` and store the the optimizing value of $x$ in a variable called ```x_1```. Store the optimal value of the objective in a variable called ```p_1```.\n",
    "\n",
    "Recall that you must find the atoms needed to define your expressions in https://www.juliaopt.org/Convex.jl/dev/operations/ and might not be able to use the usual linear algebra syntax. "
   ]
  },
  {
   "cell_type": "code",
   "execution_count": 20,
   "metadata": {
    "scrolled": true
   },
   "outputs": [
    {
     "name": "stdout",
     "output_type": "stream",
     "text": [
      "[2.2737907338430916; 7.168652404420371; 0.5493083659037235; -5.030181294279668; 0.4191011378266073; -1.246802953860335; 1.1493103397851303]5.249302314733796e-7----------------------------------------------------------------------------\n",
      "\tSCS v2.0.2 - Splitting Conic Solver\n",
      "\t(c) Brendan O'Donoghue, Stanford University, 2012-2017\n",
      "----------------------------------------------------------------------------\n",
      "Lin-sys: sparse-indirect, nnz in A = 50, CG tol ~ 1/iter^(2.00)\n",
      "eps = 1.00e-05, alpha = 1.50, max_iters = 5000, normalize = 1, scale = 1.00\n",
      "acceleration_lookback = 20, rho_x = 1.00e-03\n",
      "Variables n = 13, constraints m = 18\n",
      "Cones:\tprimal zero / dual free vars: 1\n",
      "\tlinear vars: 9\n",
      "\tsoc vars: 8, soc blks: 2\n",
      "Setup time: 2.65e-05s\n",
      "----------------------------------------------------------------------------\n",
      " Iter | pri res | dua res | rel gap | pri obj | dua obj | kap/tau | time (s)\n",
      "----------------------------------------------------------------------------\n",
      "     0| 1.19e+01  8.32e+00  8.71e-01 -6.56e+02 -4.48e+01  1.33e-13  2.16e-05 \n",
      "   100| 1.77e-08  1.68e-07  3.78e-07  5.25e-07  1.47e-07  9.72e-15  5.48e-04 \n",
      "----------------------------------------------------------------------------\n",
      "Status: Solved\n",
      "Timing: Solve time: 5.49e-04s\n",
      "\tLin-sys: avg # CG iterations: 3.12, avg solve time: 1.12e-06s\n",
      "\tCones: avg projection time: 8.55e-08s\n",
      "\tAcceleration: avg step time: 3.41e-06s\n",
      "----------------------------------------------------------------------------\n",
      "Error metrics:\n",
      "dist(s, K) = 4.1068e-15, dist(y, K*) = 0.0000e+00, s'y/|s||y| = 1.6749e-10\n",
      "primal res: |Ax + s - b|_2 / (1 + |b|_2) = 1.7733e-08\n",
      "dual res:   |A'y + c|_2 / (1 + |c|_2) = 1.6807e-07\n",
      "rel gap:    |c'x + b'y| / (1 + |c'x| + |b'y|) = 3.7773e-07\n",
      "----------------------------------------------------------------------------\n",
      "c'x = 0.0000, -b'y = 0.0000\n",
      "============================================================================\n"
     ]
    }
   ],
   "source": [
    "# BEGIN SOLUTION\n",
    "x = Variable(7)\n",
    "\n",
    "objective = sumsquares(A*x - b)\n",
    "\n",
    "problem = minimize(objective, constraints)\n",
    "solve!(problem, SCSSolver())\n",
    "\n",
    "x_1 = x.value\n",
    "p_1 = problem.optval\n",
    "\n",
    "show(x_1)\n",
    "show(p_1)"
   ]
  },
  {
   "cell_type": "markdown",
   "metadata": {},
   "source": [
    "Answer check:"
   ]
  },
  {
   "cell_type": "code",
   "execution_count": 21,
   "metadata": {},
   "outputs": [],
   "source": [
    "@assert norm(p_1) < 10^-5"
   ]
  },
  {
   "cell_type": "markdown",
   "metadata": {},
   "source": [
    "**Exercise:** \n",
    "\n",
    "\\begin{equation}\n",
    "\\begin{aligned}\n",
    "& p^* = \\underset{x}{\\text{min}} & & ||Ax - b||_2^2 + ||x||_1\\\\\n",
    "\\end{aligned}\n",
    "\\end{equation}\n",
    "\n",
    "Solve this convex optimization problem using ```Convex``` and store the the optimizing value of $x$ in a variable called ```x_2```. Store the optimal value of the objective in a variable called ```p_2```.\n",
    "\n",
    "Recall that you must find the atoms needed to define your expressions in https://www.juliaopt.org/Convex.jl/dev/operations/ and might not be able to use the usual linear algebra syntax. "
   ]
  },
  {
   "cell_type": "code",
   "execution_count": 22,
   "metadata": {},
   "outputs": [
    {
     "name": "stdout",
     "output_type": "stream",
     "text": [
      "[0.7629204780250665; 7.334288632235564; 4.616813207818874e-8; -0.6822495006592438; 0.9677152334523461; -2.075669889064192e-8; -2.8994324720010112e-8]12.37351604997867----------------------------------------------------------------------------\n",
      "\tSCS v2.0.2 - Splitting Conic Solver\n",
      "\t(c) Brendan O'Donoghue, Stanford University, 2012-2017\n",
      "----------------------------------------------------------------------------\n",
      "Lin-sys: sparse-indirect, nnz in A = 85, CG tol ~ 1/iter^(2.00)\n",
      "eps = 1.00e-05, alpha = 1.50, max_iters = 5000, normalize = 1, scale = 1.00\n",
      "acceleration_lookback = 20, rho_x = 1.00e-03\n",
      "Variables n = 20, constraints m = 32\n",
      "Cones:\tprimal zero / dual free vars: 1\n",
      "\tlinear vars: 23\n",
      "\tsoc vars: 8, soc blks: 2\n",
      "Setup time: 3.00e-05s\n",
      "----------------------------------------------------------------------------\n",
      " Iter | pri res | dua res | rel gap | pri obj | dua obj | kap/tau | time (s)\n",
      "----------------------------------------------------------------------------\n",
      "     0| 5.25e+19  3.96e+19  9.07e-01 -7.34e+21 -3.57e+20  5.59e+20  2.75e-05 \n",
      "   100| 2.26e-09  2.29e-08  4.51e-09  1.24e+01  1.24e+01  4.23e-15  2.79e-03 \n",
      "----------------------------------------------------------------------------\n",
      "Status: Solved\n",
      "Timing: Solve time: 2.80e-03s\n",
      "\tLin-sys: avg # CG iterations: 5.42, avg solve time: 3.24e-06s\n",
      "\tCones: avg projection time: 1.99e-07s\n",
      "\tAcceleration: avg step time: 2.26e-05s\n",
      "----------------------------------------------------------------------------\n",
      "Error metrics:\n",
      "dist(s, K) = 4.6589e-15, dist(y, K*) = 0.0000e+00, s'y/|s||y| = 8.3242e-17\n",
      "primal res: |Ax + s - b|_2 / (1 + |b|_2) = 2.2593e-09\n",
      "dual res:   |A'y + c|_2 / (1 + |c|_2) = 2.2870e-08\n",
      "rel gap:    |c'x + b'y| / (1 + |c'x| + |b'y|) = 4.5057e-09\n",
      "----------------------------------------------------------------------------\n",
      "c'x = 12.3735, -b'y = 12.3735\n",
      "============================================================================\n"
     ]
    }
   ],
   "source": [
    "# BEGIN SOLUTION\n",
    "x = Variable(7)\n",
    "\n",
    "objective = sumsquares(A*x - b) + norm(x, 1)\n",
    "\n",
    "problem = minimize(objective, constraints)\n",
    "solve!(problem, SCSSolver())\n",
    "\n",
    "x_2 = x.value\n",
    "p_2 = problem.optval\n",
    "\n",
    "show(x_2)\n",
    "show(p_2)"
   ]
  },
  {
   "cell_type": "markdown",
   "metadata": {},
   "source": [
    "Answer check:"
   ]
  },
  {
   "cell_type": "code",
   "execution_count": 23,
   "metadata": {},
   "outputs": [],
   "source": [
    "p_2_ref = 12.373478296466208\n",
    "@assert norm(p_2_ref - p_2) < 10^-3"
   ]
  },
  {
   "cell_type": "markdown",
   "metadata": {},
   "source": [
    "**Exercise:**\n",
    "\n",
    "We introduce a new variable $z \\in R^N$ so that we are now optimizing with respect to both $x$ and $z$. \n",
    "\n",
    "\\begin{equation}\n",
    "\\begin{aligned}\n",
    "& p^* = \\underset{x, z}{\\text{min}} & & ||Ax - b||_2^2 + \\sum_{i = 1}^N z_i\\\\\n",
    "& \\text{subject to} & & x \\leq z\\\\\n",
    "& & & x \\geq -z\\\\\n",
    "\\end{aligned}\n",
    "\\end{equation}\n",
    "\n",
    "Solve this convex optimization problem using ```Convex``` and store the the optimizing value of $x$ in a variable called ```x_3```. Store the optimal value of the objective in a variable called ```p_3```."
   ]
  },
  {
   "cell_type": "code",
   "execution_count": 1,
   "metadata": {},
   "outputs": [
    {
     "ename": "UndefVarError",
     "evalue": "UndefVarError: Variable not defined",
     "output_type": "error",
     "traceback": [
      "UndefVarError: Variable not defined",
      "",
      "Stacktrace:",
      " [1] top-level scope at In[1]:1"
     ]
    }
   ],
   "source": [
    "# BEGIN SOLUTION\n",
    "x = Variable(7)\n",
    "z = Variable(7)\n",
    "\n",
    "objective = sumsquares(A*x - b) + sum(z)\n",
    "\n",
    "constraints = [x <= z, x >= -z]\n",
    "\n",
    "problem = minimize(objective, constraints)\n",
    "solve!(problem, SCSSolver())\n",
    "\n",
    "x_3 = x.value\n",
    "p_3 = problem.optval\n",
    "\n",
    "show(x_3)\n",
    "show(p_3)"
   ]
  },
  {
   "cell_type": "markdown",
   "metadata": {},
   "source": [
    "**Exercise:** Examine the values of ```x_1```, ```p_1```, ```x_2```, ```p_2```, ```x_3```, ```p_3``` and answer the following. \n",
    "- How do ```x_1``` and ```x_2``` compare? What is the effect of the $1$-norm term?\n",
    "- How do ```x_2``` and ```x_3``` compare?  Why do you think this is the case and why might one pose the optimization problem in this second way? "
   ]
  },
  {
   "cell_type": "markdown",
   "metadata": {},
   "source": [
    "Answers: (Your written answer goes here.) The values of ```x_1``` and ```x_2``` are fairly different. This is due to the fact that ```x_1``` only solves for the equation \n",
    "\n",
    "\\begin{equation}\n",
    "\\begin{aligned}\n",
    "Ax = b\n",
    "\\end{aligned}\n",
    "\\end{equation}\n",
    "\n",
    "(attempts to minimize the error) while ```x_2``` attempts to both solve for the equation and minimize each component of ```x_2```. \n",
    "\n",
    "```x_2``` and ```x_3```, however, are identical, since they are both optimizing for the same problem. ```x_2``` is optimizing\n",
    "\n",
    "\\begin{equation}\n",
    "\\begin{aligned}\n",
    "& p^* = \\underset{x}{\\text{min}} & & ||Ax - b||_2^2 + ||x||_1\\\\\n",
    "\\end{aligned}\n",
    "\\end{equation}\n",
    "\n",
    "while ```x_3``` is optimizing for \n",
    "\n",
    "\\begin{equation}\n",
    "\\begin{aligned}\n",
    "& p^* = \\underset{x}{\\text{min}} & & ||Ax - b||_2^2 + ||z||_1, z = x\\\\\n",
    "\\end{aligned}\n",
    "\\end{equation}\n",
    "\n",
    "If the optimization problem is formatted as the latter, then it allows more flexibility for what values ```z``` could take on, by simply changing the constraints."
   ]
  },
  {
   "cell_type": "markdown",
   "metadata": {},
   "source": [
    "Recall that in Numerical Exercise 1, we had this rank 2 matrix:"
   ]
  },
  {
   "cell_type": "code",
   "execution_count": 25,
   "metadata": {},
   "outputs": [
    {
     "data": {
      "text/plain": [
       "3×4 Array{Float64,2}:\n",
       "  1.0  1.0  0.0  0.0\n",
       " -1.0  0.0  1.0  0.0\n",
       "  1.0  1.0  0.0  0.0"
      ]
     },
     "execution_count": 25,
     "metadata": {},
     "output_type": "execute_result"
    }
   ],
   "source": [
    "V = [1.0  1.0  0.0  0.0;\n",
    " -1.0  0.0  1.0  0.0;\n",
    "  1.0  1.0  0.0  0.0]"
   ]
  },
  {
   "cell_type": "code",
   "execution_count": 26,
   "metadata": {},
   "outputs": [
    {
     "data": {
      "text/plain": [
       "2"
      ]
     },
     "execution_count": 26,
     "metadata": {},
     "output_type": "execute_result"
    }
   ],
   "source": [
    "rank(V)"
   ]
  },
  {
   "cell_type": "markdown",
   "metadata": {},
   "source": [
    "And we wanted to project this vector ```v``` onto the span of its columns:"
   ]
  },
  {
   "cell_type": "code",
   "execution_count": 27,
   "metadata": {},
   "outputs": [
    {
     "data": {
      "text/plain": [
       "3-element Array{Int64,1}:\n",
       " 4\n",
       " 7\n",
       " 7"
      ]
     },
     "execution_count": 27,
     "metadata": {},
     "output_type": "execute_result"
    }
   ],
   "source": [
    "v = [4,7,7]"
   ]
  },
  {
   "cell_type": "markdown",
   "metadata": {},
   "source": [
    "We did this via Gram-Schmidt and the projection of ```v``` onto the span of its columns turned out to be:"
   ]
  },
  {
   "cell_type": "code",
   "execution_count": 28,
   "metadata": {},
   "outputs": [
    {
     "data": {
      "text/plain": [
       "3-element Array{Float64,1}:\n",
       " 5.5\n",
       " 7.0\n",
       " 5.5"
      ]
     },
     "execution_count": 28,
     "metadata": {},
     "output_type": "execute_result"
    }
   ],
   "source": [
    "v_hat_ref = [5.5, 7.0, 5.5]"
   ]
  },
  {
   "cell_type": "markdown",
   "metadata": {},
   "source": [
    "Recall that anything in the span of the columns of $V \\in R^{3\\times4}$ can be expressed as $Vb$ for some $b \\in R^4$. So, the projection of $v$ onto the span of the columns of $V$ is $\\hat{v}= Vb$ for some $b$. \n",
    "\n",
    "Since the columns of $b$ are not linearly independent, this $b$ is not unique, i.e., there is more than one possible choice of $b$. Though we won't really care about that here, they all yield the same $Vb$. \n",
    "\n",
    "Recall further that the projection of $v$ onto the span of the columns of $V$ is the vector $\\hat{v}$ in the span of the columns $V$ which is closest in Euclidean distance to $v$. "
   ]
  },
  {
   "cell_type": "markdown",
   "metadata": {},
   "source": [
    "**Exercise:** Find the projection of ```v``` onto the span of the columns of ```V``` by solving the appropriate optimization problem using ```Convex``` and store the projection in a variable called ```v_hat```."
   ]
  },
  {
   "cell_type": "code",
   "execution_count": 47,
   "metadata": {},
   "outputs": [
    {
     "name": "stdout",
     "output_type": "stream",
     "text": [
      "WARN: m less than n, problem likely degenerate\n",
      "WARN: A->p (column pointers) not strictly increasing, column 4 empty\n",
      "----------------------------------------------------------------------------\n",
      "\tSCS v2.0.2 - Splitting Conic Solver\n",
      "\t(c) Brendan O'Donoghue, Stanford University, 2012-2017\n",
      "----------------------------------------------------------------------------\n",
      "Lin-sys: sparse-indirect, nnz in A = 37, CG tol ~ 1/iter^(2.00)\n",
      "eps = 1.00e-05, alpha = 1.50, max_iters = 5000, normalize = 1, scale = 1.00\n",
      "acceleration_lookback = 20, rho_x = 1.00e-03\n",
      "Variables n = 20, constraints m = 19\n",
      "Cones:\tprimal zero / dual free vars: 1\n",
      "\tlinear vars: 14\n",
      "\tsoc vars: 4, soc blks: 1\n",
      "Setup time: 6.95e-05s\n",
      "----------------------------------------------------------------------------\n",
      " Iter | pri res | dua res | rel gap | pri obj | dua obj | kap/tau | time (s)\n",
      "----------------------------------------------------------------------------\n",
      "     0| 5.06e+19  2.33e+19  1.00e+00 -6.97e+20  2.07e+19  2.49e+20  2.44e-05 \n",
      "   100| 1.55e-05  1.27e-05  8.74e-08  2.12e+00  2.12e+00  6.86e-15  2.65e-03 \n",
      "   120| 6.19e-07  8.92e-07  2.18e-08  2.12e+00  2.12e+00  3.20e-16  3.20e-03 \n",
      "----------------------------------------------------------------------------\n",
      "Status: Solved\n",
      "Timing: Solve time: 3.20e-03s\n",
      "\tLin-sys: avg # CG iterations: 2.02, avg solve time: 1.32e-06s\n",
      "\tCones: avg projection time: 1.33e-07s\n",
      "\tAcceleration: avg step time: 2.34e-05s\n",
      "----------------------------------------------------------------------------\n",
      "Error metrics:\n",
      "dist(s, K) = 2.7534e-13, dist(y, K*) = 1.2967e-13, s'y/|s||y| = -2.1204e-13\n",
      "primal res: |Ax + s - b|_2 / (1 + |b|_2) = 6.1903e-07\n",
      "dual res:   |A'y + c|_2 / (1 + |c|_2) = 8.9210e-07\n",
      "rel gap:    |c'x + b'y| / (1 + |c'x| + |b'y|) = 2.1780e-08\n",
      "----------------------------------------------------------------------------\n",
      "c'x = 2.1213, -b'y = 2.1213\n",
      "============================================================================\n"
     ]
    },
    {
     "data": {
      "text/plain": [
       "3×1 Array{Float64,2}:\n",
       " 5.499996251282962\n",
       " 6.999995226280202\n",
       " 5.499996251282962"
      ]
     },
     "execution_count": 47,
     "metadata": {},
     "output_type": "execute_result"
    }
   ],
   "source": [
    "# BEGIN SOLUTION\n",
    "b = Variable(4)\n",
    "\n",
    "objective = norm(v - (V*b))\n",
    "\n",
    "problem = minimize(objective, constraints)\n",
    "solve!(problem, SCSSolver())\n",
    "\n",
    "b_ = b.value\n",
    "p_4 = problem.optval\n",
    "v_hat = V*b_"
   ]
  },
  {
   "cell_type": "markdown",
   "metadata": {},
   "source": [
    "Answer check:"
   ]
  },
  {
   "cell_type": "code",
   "execution_count": 48,
   "metadata": {},
   "outputs": [],
   "source": [
    "@assert norm(v_hat_ref-v_hat) < 10^-4"
   ]
  },
  {
   "cell_type": "markdown",
   "metadata": {},
   "source": [
    "# Part 2: Slalom"
   ]
  },
  {
   "cell_type": "markdown",
   "metadata": {},
   "source": [
    "In this part, you will need to solve Exercise 9.2 (A slalom problem) on page 341 of your textbook. Start by reading the question once before proceeding."
   ]
  },
  {
   "cell_type": "markdown",
   "metadata": {},
   "source": [
    "The data from the table has been entered for you here:"
   ]
  },
  {
   "cell_type": "code",
   "execution_count": 49,
   "metadata": {},
   "outputs": [
    {
     "data": {
      "text/plain": [
       "7-element Array{Float64,1}:\n",
       " 0.0\n",
       " 3.0\n",
       " 2.0\n",
       " 2.0\n",
       " 1.0\n",
       " 2.0\n",
       " 0.0"
      ]
     },
     "execution_count": 49,
     "metadata": {},
     "output_type": "execute_result"
    }
   ],
   "source": [
    "x = Float64[0,4,8,12,16,20,24]\n",
    "y = Float64[4,5,4,6,5,7,4]\n",
    "c = Float64[0,3,2,2,1,2,0]"
   ]
  },
  {
   "cell_type": "markdown",
   "metadata": {},
   "source": [
    "The following provides a plot of the upper and lower ends of the gates:"
   ]
  },
  {
   "cell_type": "code",
   "execution_count": 50,
   "metadata": {},
   "outputs": [
    {
     "data": {
      "image/svg+xml": [
       "<?xml version=\"1.0\" encoding=\"utf-8\"?>\n",
       "<svg xmlns=\"http://www.w3.org/2000/svg\" xmlns:xlink=\"http://www.w3.org/1999/xlink\" width=\"600\" height=\"400\" viewBox=\"0 0 2400 1600\">\n",
       "<defs>\n",
       "  <clipPath id=\"clip5000\">\n",
       "    <rect x=\"0\" y=\"0\" width=\"2400\" height=\"1600\"/>\n",
       "  </clipPath>\n",
       "</defs>\n",
       "<path clip-path=\"url(#clip5000)\" d=\"\n",
       "M0 1600 L2400 1600 L2400 0 L0 0  Z\n",
       "  \" fill=\"#ffffff\" fill-rule=\"evenodd\" fill-opacity=\"1\"/>\n",
       "<defs>\n",
       "  <clipPath id=\"clip5001\">\n",
       "    <rect x=\"480\" y=\"0\" width=\"1681\" height=\"1600\"/>\n",
       "  </clipPath>\n",
       "</defs>\n",
       "<path clip-path=\"url(#clip5000)\" d=\"\n",
       "M175.611 1425.62 L2352.76 1425.62 L2352.76 47.2441 L175.611 47.2441  Z\n",
       "  \" fill=\"#ffffff\" fill-rule=\"evenodd\" fill-opacity=\"1\"/>\n",
       "<defs>\n",
       "  <clipPath id=\"clip5002\">\n",
       "    <rect x=\"175\" y=\"47\" width=\"2178\" height=\"1379\"/>\n",
       "  </clipPath>\n",
       "</defs>\n",
       "<polyline clip-path=\"url(#clip5002)\" style=\"stroke:#000000; stroke-width:2; stroke-opacity:0.1; fill:none\" points=\"\n",
       "  237.228,1425.62 237.228,47.2441 \n",
       "  \"/>\n",
       "<polyline clip-path=\"url(#clip5002)\" style=\"stroke:#000000; stroke-width:2; stroke-opacity:0.1; fill:none\" points=\"\n",
       "  665.126,1425.62 665.126,47.2441 \n",
       "  \"/>\n",
       "<polyline clip-path=\"url(#clip5002)\" style=\"stroke:#000000; stroke-width:2; stroke-opacity:0.1; fill:none\" points=\"\n",
       "  1093.02,1425.62 1093.02,47.2441 \n",
       "  \"/>\n",
       "<polyline clip-path=\"url(#clip5002)\" style=\"stroke:#000000; stroke-width:2; stroke-opacity:0.1; fill:none\" points=\"\n",
       "  1520.92,1425.62 1520.92,47.2441 \n",
       "  \"/>\n",
       "<polyline clip-path=\"url(#clip5002)\" style=\"stroke:#000000; stroke-width:2; stroke-opacity:0.1; fill:none\" points=\"\n",
       "  1948.82,1425.62 1948.82,47.2441 \n",
       "  \"/>\n",
       "<polyline clip-path=\"url(#clip5002)\" style=\"stroke:#000000; stroke-width:2; stroke-opacity:0.1; fill:none\" points=\"\n",
       "  175.611,1386.61 2352.76,1386.61 \n",
       "  \"/>\n",
       "<polyline clip-path=\"url(#clip5002)\" style=\"stroke:#000000; stroke-width:2; stroke-opacity:0.1; fill:none\" points=\"\n",
       "  175.611,1126.54 2352.76,1126.54 \n",
       "  \"/>\n",
       "<polyline clip-path=\"url(#clip5002)\" style=\"stroke:#000000; stroke-width:2; stroke-opacity:0.1; fill:none\" points=\"\n",
       "  175.611,866.467 2352.76,866.467 \n",
       "  \"/>\n",
       "<polyline clip-path=\"url(#clip5002)\" style=\"stroke:#000000; stroke-width:2; stroke-opacity:0.1; fill:none\" points=\"\n",
       "  175.611,606.396 2352.76,606.396 \n",
       "  \"/>\n",
       "<polyline clip-path=\"url(#clip5002)\" style=\"stroke:#000000; stroke-width:2; stroke-opacity:0.1; fill:none\" points=\"\n",
       "  175.611,346.325 2352.76,346.325 \n",
       "  \"/>\n",
       "<polyline clip-path=\"url(#clip5002)\" style=\"stroke:#000000; stroke-width:2; stroke-opacity:0.1; fill:none\" points=\"\n",
       "  175.611,86.2547 2352.76,86.2547 \n",
       "  \"/>\n",
       "<polyline clip-path=\"url(#clip5000)\" style=\"stroke:#000000; stroke-width:4; stroke-opacity:1; fill:none\" points=\"\n",
       "  175.611,1425.62 2352.76,1425.62 \n",
       "  \"/>\n",
       "<polyline clip-path=\"url(#clip5000)\" style=\"stroke:#000000; stroke-width:4; stroke-opacity:1; fill:none\" points=\"\n",
       "  175.611,1425.62 175.611,47.2441 \n",
       "  \"/>\n",
       "<polyline clip-path=\"url(#clip5000)\" style=\"stroke:#000000; stroke-width:4; stroke-opacity:1; fill:none\" points=\"\n",
       "  237.228,1425.62 237.228,1404.94 \n",
       "  \"/>\n",
       "<polyline clip-path=\"url(#clip5000)\" style=\"stroke:#000000; stroke-width:4; stroke-opacity:1; fill:none\" points=\"\n",
       "  665.126,1425.62 665.126,1404.94 \n",
       "  \"/>\n",
       "<polyline clip-path=\"url(#clip5000)\" style=\"stroke:#000000; stroke-width:4; stroke-opacity:1; fill:none\" points=\"\n",
       "  1093.02,1425.62 1093.02,1404.94 \n",
       "  \"/>\n",
       "<polyline clip-path=\"url(#clip5000)\" style=\"stroke:#000000; stroke-width:4; stroke-opacity:1; fill:none\" points=\"\n",
       "  1520.92,1425.62 1520.92,1404.94 \n",
       "  \"/>\n",
       "<polyline clip-path=\"url(#clip5000)\" style=\"stroke:#000000; stroke-width:4; stroke-opacity:1; fill:none\" points=\"\n",
       "  1948.82,1425.62 1948.82,1404.94 \n",
       "  \"/>\n",
       "<polyline clip-path=\"url(#clip5000)\" style=\"stroke:#000000; stroke-width:4; stroke-opacity:1; fill:none\" points=\"\n",
       "  175.611,1386.61 208.268,1386.61 \n",
       "  \"/>\n",
       "<polyline clip-path=\"url(#clip5000)\" style=\"stroke:#000000; stroke-width:4; stroke-opacity:1; fill:none\" points=\"\n",
       "  175.611,1126.54 208.268,1126.54 \n",
       "  \"/>\n",
       "<polyline clip-path=\"url(#clip5000)\" style=\"stroke:#000000; stroke-width:4; stroke-opacity:1; fill:none\" points=\"\n",
       "  175.611,866.467 208.268,866.467 \n",
       "  \"/>\n",
       "<polyline clip-path=\"url(#clip5000)\" style=\"stroke:#000000; stroke-width:4; stroke-opacity:1; fill:none\" points=\"\n",
       "  175.611,606.396 208.268,606.396 \n",
       "  \"/>\n",
       "<polyline clip-path=\"url(#clip5000)\" style=\"stroke:#000000; stroke-width:4; stroke-opacity:1; fill:none\" points=\"\n",
       "  175.611,346.325 208.268,346.325 \n",
       "  \"/>\n",
       "<polyline clip-path=\"url(#clip5000)\" style=\"stroke:#000000; stroke-width:4; stroke-opacity:1; fill:none\" points=\"\n",
       "  175.611,86.2547 208.268,86.2547 \n",
       "  \"/>\n",
       "<g clip-path=\"url(#clip5000)\">\n",
       "<text style=\"fill:#000000; fill-opacity:1; font-family:Arial,Helvetica Neue,Helvetica,sans-serif; font-size:48px; text-anchor:middle;\" transform=\"rotate(0, 237.228, 1479.62)\" x=\"237.228\" y=\"1479.62\">0</text>\n",
       "</g>\n",
       "<g clip-path=\"url(#clip5000)\">\n",
       "<text style=\"fill:#000000; fill-opacity:1; font-family:Arial,Helvetica Neue,Helvetica,sans-serif; font-size:48px; text-anchor:middle;\" transform=\"rotate(0, 665.126, 1479.62)\" x=\"665.126\" y=\"1479.62\">5</text>\n",
       "</g>\n",
       "<g clip-path=\"url(#clip5000)\">\n",
       "<text style=\"fill:#000000; fill-opacity:1; font-family:Arial,Helvetica Neue,Helvetica,sans-serif; font-size:48px; text-anchor:middle;\" transform=\"rotate(0, 1093.02, 1479.62)\" x=\"1093.02\" y=\"1479.62\">10</text>\n",
       "</g>\n",
       "<g clip-path=\"url(#clip5000)\">\n",
       "<text style=\"fill:#000000; fill-opacity:1; font-family:Arial,Helvetica Neue,Helvetica,sans-serif; font-size:48px; text-anchor:middle;\" transform=\"rotate(0, 1520.92, 1479.62)\" x=\"1520.92\" y=\"1479.62\">15</text>\n",
       "</g>\n",
       "<g clip-path=\"url(#clip5000)\">\n",
       "<text style=\"fill:#000000; fill-opacity:1; font-family:Arial,Helvetica Neue,Helvetica,sans-serif; font-size:48px; text-anchor:middle;\" transform=\"rotate(0, 1948.82, 1479.62)\" x=\"1948.82\" y=\"1479.62\">20</text>\n",
       "</g>\n",
       "<g clip-path=\"url(#clip5000)\">\n",
       "<text style=\"fill:#000000; fill-opacity:1; font-family:Arial,Helvetica Neue,Helvetica,sans-serif; font-size:48px; text-anchor:end;\" transform=\"rotate(0, 151.611, 1404.11)\" x=\"151.611\" y=\"1404.11\">3</text>\n",
       "</g>\n",
       "<g clip-path=\"url(#clip5000)\">\n",
       "<text style=\"fill:#000000; fill-opacity:1; font-family:Arial,Helvetica Neue,Helvetica,sans-serif; font-size:48px; text-anchor:end;\" transform=\"rotate(0, 151.611, 1144.04)\" x=\"151.611\" y=\"1144.04\">4</text>\n",
       "</g>\n",
       "<g clip-path=\"url(#clip5000)\">\n",
       "<text style=\"fill:#000000; fill-opacity:1; font-family:Arial,Helvetica Neue,Helvetica,sans-serif; font-size:48px; text-anchor:end;\" transform=\"rotate(0, 151.611, 883.967)\" x=\"151.611\" y=\"883.967\">5</text>\n",
       "</g>\n",
       "<g clip-path=\"url(#clip5000)\">\n",
       "<text style=\"fill:#000000; fill-opacity:1; font-family:Arial,Helvetica Neue,Helvetica,sans-serif; font-size:48px; text-anchor:end;\" transform=\"rotate(0, 151.611, 623.896)\" x=\"151.611\" y=\"623.896\">6</text>\n",
       "</g>\n",
       "<g clip-path=\"url(#clip5000)\">\n",
       "<text style=\"fill:#000000; fill-opacity:1; font-family:Arial,Helvetica Neue,Helvetica,sans-serif; font-size:48px; text-anchor:end;\" transform=\"rotate(0, 151.611, 363.825)\" x=\"151.611\" y=\"363.825\">7</text>\n",
       "</g>\n",
       "<g clip-path=\"url(#clip5000)\">\n",
       "<text style=\"fill:#000000; fill-opacity:1; font-family:Arial,Helvetica Neue,Helvetica,sans-serif; font-size:48px; text-anchor:end;\" transform=\"rotate(0, 151.611, 103.755)\" x=\"151.611\" y=\"103.755\">8</text>\n",
       "</g>\n",
       "<g clip-path=\"url(#clip5000)\">\n",
       "<text style=\"fill:#000000; fill-opacity:1; font-family:Arial,Helvetica Neue,Helvetica,sans-serif; font-size:66px; text-anchor:middle;\" transform=\"rotate(0, 1264.18, 1559.48)\" x=\"1264.18\" y=\"1559.48\">x</text>\n",
       "</g>\n",
       "<g clip-path=\"url(#clip5000)\">\n",
       "<text style=\"fill:#000000; fill-opacity:1; font-family:Arial,Helvetica Neue,Helvetica,sans-serif; font-size:66px; text-anchor:middle;\" transform=\"rotate(-90, 89.2861, 736.431)\" x=\"89.2861\" y=\"736.431\">y</text>\n",
       "</g>\n",
       "<polyline clip-path=\"url(#clip5002)\" style=\"stroke:#009af9; stroke-width:4; stroke-opacity:1; fill:none\" points=\"\n",
       "  237.228,1126.54 579.546,476.361 921.865,866.467 1264.18,346.325 1606.5,736.431 1948.82,86.2547 2291.14,1126.54 \n",
       "  \"/>\n",
       "<circle clip-path=\"url(#clip5002)\" style=\"fill:#000000; stroke:none; fill-opacity:1\" cx=\"237.228\" cy=\"1126.54\" r=\"18\"/>\n",
       "<circle clip-path=\"url(#clip5002)\" style=\"fill:#009af9; stroke:none; fill-opacity:1\" cx=\"237.228\" cy=\"1126.54\" r=\"14\"/>\n",
       "<circle clip-path=\"url(#clip5002)\" style=\"fill:#000000; stroke:none; fill-opacity:1\" cx=\"579.546\" cy=\"476.361\" r=\"18\"/>\n",
       "<circle clip-path=\"url(#clip5002)\" style=\"fill:#009af9; stroke:none; fill-opacity:1\" cx=\"579.546\" cy=\"476.361\" r=\"14\"/>\n",
       "<circle clip-path=\"url(#clip5002)\" style=\"fill:#000000; stroke:none; fill-opacity:1\" cx=\"921.865\" cy=\"866.467\" r=\"18\"/>\n",
       "<circle clip-path=\"url(#clip5002)\" style=\"fill:#009af9; stroke:none; fill-opacity:1\" cx=\"921.865\" cy=\"866.467\" r=\"14\"/>\n",
       "<circle clip-path=\"url(#clip5002)\" style=\"fill:#000000; stroke:none; fill-opacity:1\" cx=\"1264.18\" cy=\"346.325\" r=\"18\"/>\n",
       "<circle clip-path=\"url(#clip5002)\" style=\"fill:#009af9; stroke:none; fill-opacity:1\" cx=\"1264.18\" cy=\"346.325\" r=\"14\"/>\n",
       "<circle clip-path=\"url(#clip5002)\" style=\"fill:#000000; stroke:none; fill-opacity:1\" cx=\"1606.5\" cy=\"736.431\" r=\"18\"/>\n",
       "<circle clip-path=\"url(#clip5002)\" style=\"fill:#009af9; stroke:none; fill-opacity:1\" cx=\"1606.5\" cy=\"736.431\" r=\"14\"/>\n",
       "<circle clip-path=\"url(#clip5002)\" style=\"fill:#000000; stroke:none; fill-opacity:1\" cx=\"1948.82\" cy=\"86.2547\" r=\"18\"/>\n",
       "<circle clip-path=\"url(#clip5002)\" style=\"fill:#009af9; stroke:none; fill-opacity:1\" cx=\"1948.82\" cy=\"86.2547\" r=\"14\"/>\n",
       "<circle clip-path=\"url(#clip5002)\" style=\"fill:#000000; stroke:none; fill-opacity:1\" cx=\"2291.14\" cy=\"1126.54\" r=\"18\"/>\n",
       "<circle clip-path=\"url(#clip5002)\" style=\"fill:#009af9; stroke:none; fill-opacity:1\" cx=\"2291.14\" cy=\"1126.54\" r=\"14\"/>\n",
       "<polyline clip-path=\"url(#clip5002)\" style=\"stroke:#e26f46; stroke-width:4; stroke-opacity:1; fill:none\" points=\"\n",
       "  237.228,1126.54 579.546,1256.57 921.865,1386.61 1264.18,866.467 1606.5,996.502 1948.82,606.396 2291.14,1126.54 \n",
       "  \"/>\n",
       "<circle clip-path=\"url(#clip5002)\" style=\"fill:#000000; stroke:none; fill-opacity:1\" cx=\"237.228\" cy=\"1126.54\" r=\"18\"/>\n",
       "<circle clip-path=\"url(#clip5002)\" style=\"fill:#e26f46; stroke:none; fill-opacity:1\" cx=\"237.228\" cy=\"1126.54\" r=\"14\"/>\n",
       "<circle clip-path=\"url(#clip5002)\" style=\"fill:#000000; stroke:none; fill-opacity:1\" cx=\"579.546\" cy=\"1256.57\" r=\"18\"/>\n",
       "<circle clip-path=\"url(#clip5002)\" style=\"fill:#e26f46; stroke:none; fill-opacity:1\" cx=\"579.546\" cy=\"1256.57\" r=\"14\"/>\n",
       "<circle clip-path=\"url(#clip5002)\" style=\"fill:#000000; stroke:none; fill-opacity:1\" cx=\"921.865\" cy=\"1386.61\" r=\"18\"/>\n",
       "<circle clip-path=\"url(#clip5002)\" style=\"fill:#e26f46; stroke:none; fill-opacity:1\" cx=\"921.865\" cy=\"1386.61\" r=\"14\"/>\n",
       "<circle clip-path=\"url(#clip5002)\" style=\"fill:#000000; stroke:none; fill-opacity:1\" cx=\"1264.18\" cy=\"866.467\" r=\"18\"/>\n",
       "<circle clip-path=\"url(#clip5002)\" style=\"fill:#e26f46; stroke:none; fill-opacity:1\" cx=\"1264.18\" cy=\"866.467\" r=\"14\"/>\n",
       "<circle clip-path=\"url(#clip5002)\" style=\"fill:#000000; stroke:none; fill-opacity:1\" cx=\"1606.5\" cy=\"996.502\" r=\"18\"/>\n",
       "<circle clip-path=\"url(#clip5002)\" style=\"fill:#e26f46; stroke:none; fill-opacity:1\" cx=\"1606.5\" cy=\"996.502\" r=\"14\"/>\n",
       "<circle clip-path=\"url(#clip5002)\" style=\"fill:#000000; stroke:none; fill-opacity:1\" cx=\"1948.82\" cy=\"606.396\" r=\"18\"/>\n",
       "<circle clip-path=\"url(#clip5002)\" style=\"fill:#e26f46; stroke:none; fill-opacity:1\" cx=\"1948.82\" cy=\"606.396\" r=\"14\"/>\n",
       "<circle clip-path=\"url(#clip5002)\" style=\"fill:#000000; stroke:none; fill-opacity:1\" cx=\"2291.14\" cy=\"1126.54\" r=\"18\"/>\n",
       "<circle clip-path=\"url(#clip5002)\" style=\"fill:#e26f46; stroke:none; fill-opacity:1\" cx=\"2291.14\" cy=\"1126.54\" r=\"14\"/>\n",
       "<path clip-path=\"url(#clip5000)\" d=\"\n",
       "M1989.93 312.204 L2280.76 312.204 L2280.76 130.764 L1989.93 130.764  Z\n",
       "  \" fill=\"#ffffff\" fill-rule=\"evenodd\" fill-opacity=\"1\"/>\n",
       "<polyline clip-path=\"url(#clip5000)\" style=\"stroke:#000000; stroke-width:4; stroke-opacity:1; fill:none\" points=\"\n",
       "  1989.93,312.204 2280.76,312.204 2280.76,130.764 1989.93,130.764 1989.93,312.204 \n",
       "  \"/>\n",
       "<polyline clip-path=\"url(#clip5000)\" style=\"stroke:#009af9; stroke-width:4; stroke-opacity:1; fill:none\" points=\"\n",
       "  2013.93,191.244 2157.93,191.244 \n",
       "  \"/>\n",
       "<circle clip-path=\"url(#clip5000)\" style=\"fill:#000000; stroke:none; fill-opacity:1\" cx=\"2097.93\" cy=\"191.244\" r=\"25\"/>\n",
       "<circle clip-path=\"url(#clip5000)\" style=\"fill:#009af9; stroke:none; fill-opacity:1\" cx=\"2097.93\" cy=\"191.244\" r=\"21\"/>\n",
       "<g clip-path=\"url(#clip5000)\">\n",
       "<text style=\"fill:#000000; fill-opacity:1; font-family:Arial,Helvetica Neue,Helvetica,sans-serif; font-size:48px; text-anchor:start;\" transform=\"rotate(0, 2181.93, 208.744)\" x=\"2181.93\" y=\"208.744\">y1</text>\n",
       "</g>\n",
       "<polyline clip-path=\"url(#clip5000)\" style=\"stroke:#e26f46; stroke-width:4; stroke-opacity:1; fill:none\" points=\"\n",
       "  2013.93,251.724 2157.93,251.724 \n",
       "  \"/>\n",
       "<circle clip-path=\"url(#clip5000)\" style=\"fill:#000000; stroke:none; fill-opacity:1\" cx=\"2097.93\" cy=\"251.724\" r=\"25\"/>\n",
       "<circle clip-path=\"url(#clip5000)\" style=\"fill:#e26f46; stroke:none; fill-opacity:1\" cx=\"2097.93\" cy=\"251.724\" r=\"21\"/>\n",
       "<g clip-path=\"url(#clip5000)\">\n",
       "<text style=\"fill:#000000; fill-opacity:1; font-family:Arial,Helvetica Neue,Helvetica,sans-serif; font-size:48px; text-anchor:start;\" transform=\"rotate(0, 2181.93, 269.224)\" x=\"2181.93\" y=\"269.224\">y2</text>\n",
       "</g>\n",
       "</svg>\n"
      ]
     },
     "execution_count": 50,
     "metadata": {},
     "output_type": "execute_result"
    }
   ],
   "source": [
    "plot(x, y + c/2, marker=true)\n",
    "plot!(x, y - c/2, marker=true)\n",
    "xlabel!(\"x\")\n",
    "ylabel!(\"y\")"
   ]
  },
  {
   "cell_type": "markdown",
   "metadata": {},
   "source": [
    "The problem is then to find the shortest path which fits between the two curves above."
   ]
  },
  {
   "cell_type": "markdown",
   "metadata": {},
   "source": [
    "Let the optimal trajectory be the set of points $(x_0, z_0),\\dots,(x_6, z_6)$.\n",
    "\n",
    "The $x_i$ are fixed and the only thing to optimize is the vertical coordinates $z_i,\\; i = 0,\\dots,6$. "
   ]
  },
  {
   "cell_type": "markdown",
   "metadata": {},
   "source": [
    "**Exercise:** Solve for this optimizing vector $z \\in R^7$ using ```Convex``` and store its value in a variable called ```z_```. Store the optimal value of the distance (the minimum distance) in a variable called ```p_star```. \n",
    "\n",
    "The correct answer and an answer checking cell has been provided which you should run. \n",
    "\n",
    "Note that to construct a vector of ```Convex``` variables and constants, you must do it with ```;```, for example, ```v = [a1; a2; a3]```, so that it is explicitly designated as a column vector. "
   ]
  },
  {
   "cell_type": "code",
   "execution_count": 74,
   "metadata": {},
   "outputs": [
    {
     "name": "stdout",
     "output_type": "stream",
     "text": [
      "----------------------------------------------------------------------------\n",
      "\tSCS v2.0.2 - Splitting Conic Solver\n",
      "\t(c) Brendan O'Donoghue, Stanford University, 2012-2017\n",
      "----------------------------------------------------------------------------\n",
      "Lin-sys: sparse-indirect, nnz in A = 39, CG tol ~ 1/iter^(2.00)\n",
      "eps = 1.00e-05, alpha = 1.50, max_iters = 5000, normalize = 1, scale = 1.00\n",
      "acceleration_lookback = 20, rho_x = 1.00e-03\n",
      "Variables n = 14, constraints m = 33\n",
      "Cones:\tprimal zero / dual free vars: 1\n",
      "\tlinear vars: 14\n",
      "\tsoc vars: 18, soc blks: 6\n",
      "Setup time: 2.07e-05s\n",
      "----------------------------------------------------------------------------\n",
      " Iter | pri res | dua res | rel gap | pri obj | dua obj | kap/tau | time (s)\n",
      "----------------------------------------------------------------------------\n",
      "     0| 1.54e+01  7.29e+00  9.99e-01 -4.69e+02  3.55e+02  1.25e-13  1.95e-05 \n",
      "    40| 3.11e-09  1.95e-08  4.49e-09  2.46e+01  2.46e+01  1.27e-14  2.04e-04 \n",
      "----------------------------------------------------------------------------\n",
      "Status: Solved\n",
      "Timing: Solve time: 2.05e-04s\n",
      "\tLin-sys: avg # CG iterations: 1.71, avg solve time: 6.75e-07s\n",
      "\tCones: avg projection time: 1.12e-07s\n",
      "\tAcceleration: avg step time: 3.11e-06s\n",
      "----------------------------------------------------------------------------\n",
      "Error metrics:\n",
      "dist(s, K) = 2.9310e-14, dist(y, K*) = 6.3283e-15, s'y/|s||y| = 8.0991e-15\n",
      "primal res: |Ax + s - b|_2 / (1 + |b|_2) = 3.1130e-09\n",
      "dual res:   |A'y + c|_2 / (1 + |c|_2) = 1.9542e-08\n",
      "rel gap:    |c'x + b'y| / (1 + |c'x| + |b'y|) = 4.4889e-09\n",
      "----------------------------------------------------------------------------\n",
      "c'x = 24.5734, -b'y = 24.5734\n",
      "============================================================================\n"
     ]
    },
    {
     "data": {
      "text/plain": [
       "24.573423570725293"
      ]
     },
     "execution_count": 74,
     "metadata": {},
     "output_type": "execute_result"
    }
   ],
   "source": [
    "# BEGIN SOLUTION\n",
    "z = Variable(7)\n",
    "\n",
    "objective = sum([norm([z[2] - z[1]; x[2] - x[1]]); \n",
    "                norm([z[3] - z[2]; x[3] - x[2]]); \n",
    "                norm([z[4] - z[3]; x[4] - x[3]]); \n",
    "                norm([z[5] - z[4]; x[5] - x[4]]); \n",
    "                norm([z[6] - z[5]; x[6] - x[5]]); \n",
    "                norm([z[7] - z[6]; x[7] - x[6]])])\n",
    "\n",
    "constraints = [z <= y + c/2, z >= y - c/2]\n",
    "\n",
    "problem = minimize(objective, constraints)\n",
    "solve!(problem, SCSSolver())\n",
    "\n",
    "z_ = z.value\n",
    "p_star = problem.optval"
   ]
  },
  {
   "cell_type": "markdown",
   "metadata": {},
   "source": [
    "The following code will plot your path ```z_``` so you can see whether it violates the constraints:"
   ]
  },
  {
   "cell_type": "code",
   "execution_count": 75,
   "metadata": {},
   "outputs": [
    {
     "data": {
      "image/svg+xml": [
       "<?xml version=\"1.0\" encoding=\"utf-8\"?>\n",
       "<svg xmlns=\"http://www.w3.org/2000/svg\" xmlns:xlink=\"http://www.w3.org/1999/xlink\" width=\"600\" height=\"400\" viewBox=\"0 0 2400 1600\">\n",
       "<defs>\n",
       "  <clipPath id=\"clip7000\">\n",
       "    <rect x=\"0\" y=\"0\" width=\"2400\" height=\"1600\"/>\n",
       "  </clipPath>\n",
       "</defs>\n",
       "<path clip-path=\"url(#clip7000)\" d=\"\n",
       "M0 1600 L2400 1600 L2400 0 L0 0  Z\n",
       "  \" fill=\"#ffffff\" fill-rule=\"evenodd\" fill-opacity=\"1\"/>\n",
       "<defs>\n",
       "  <clipPath id=\"clip7001\">\n",
       "    <rect x=\"480\" y=\"0\" width=\"1681\" height=\"1600\"/>\n",
       "  </clipPath>\n",
       "</defs>\n",
       "<path clip-path=\"url(#clip7000)\" d=\"\n",
       "M113.754 1487.47 L2352.76 1487.47 L2352.76 47.2441 L113.754 47.2441  Z\n",
       "  \" fill=\"#ffffff\" fill-rule=\"evenodd\" fill-opacity=\"1\"/>\n",
       "<defs>\n",
       "  <clipPath id=\"clip7002\">\n",
       "    <rect x=\"113\" y=\"47\" width=\"2240\" height=\"1441\"/>\n",
       "  </clipPath>\n",
       "</defs>\n",
       "<polyline clip-path=\"url(#clip7002)\" style=\"stroke:#000000; stroke-width:2; stroke-opacity:0.1; fill:none\" points=\"\n",
       "  177.122,1487.47 177.122,47.2441 \n",
       "  \"/>\n",
       "<polyline clip-path=\"url(#clip7002)\" style=\"stroke:#000000; stroke-width:2; stroke-opacity:0.1; fill:none\" points=\"\n",
       "  617.178,1487.47 617.178,47.2441 \n",
       "  \"/>\n",
       "<polyline clip-path=\"url(#clip7002)\" style=\"stroke:#000000; stroke-width:2; stroke-opacity:0.1; fill:none\" points=\"\n",
       "  1057.23,1487.47 1057.23,47.2441 \n",
       "  \"/>\n",
       "<polyline clip-path=\"url(#clip7002)\" style=\"stroke:#000000; stroke-width:2; stroke-opacity:0.1; fill:none\" points=\"\n",
       "  1497.29,1487.47 1497.29,47.2441 \n",
       "  \"/>\n",
       "<polyline clip-path=\"url(#clip7002)\" style=\"stroke:#000000; stroke-width:2; stroke-opacity:0.1; fill:none\" points=\"\n",
       "  1937.34,1487.47 1937.34,47.2441 \n",
       "  \"/>\n",
       "<polyline clip-path=\"url(#clip7002)\" style=\"stroke:#000000; stroke-width:2; stroke-opacity:0.1; fill:none\" points=\"\n",
       "  113.754,1446.71 2352.76,1446.71 \n",
       "  \"/>\n",
       "<polyline clip-path=\"url(#clip7002)\" style=\"stroke:#000000; stroke-width:2; stroke-opacity:0.1; fill:none\" points=\"\n",
       "  113.754,1174.97 2352.76,1174.97 \n",
       "  \"/>\n",
       "<polyline clip-path=\"url(#clip7002)\" style=\"stroke:#000000; stroke-width:2; stroke-opacity:0.1; fill:none\" points=\"\n",
       "  113.754,903.23 2352.76,903.23 \n",
       "  \"/>\n",
       "<polyline clip-path=\"url(#clip7002)\" style=\"stroke:#000000; stroke-width:2; stroke-opacity:0.1; fill:none\" points=\"\n",
       "  113.754,631.489 2352.76,631.489 \n",
       "  \"/>\n",
       "<polyline clip-path=\"url(#clip7002)\" style=\"stroke:#000000; stroke-width:2; stroke-opacity:0.1; fill:none\" points=\"\n",
       "  113.754,359.747 2352.76,359.747 \n",
       "  \"/>\n",
       "<polyline clip-path=\"url(#clip7002)\" style=\"stroke:#000000; stroke-width:2; stroke-opacity:0.1; fill:none\" points=\"\n",
       "  113.754,88.0053 2352.76,88.0053 \n",
       "  \"/>\n",
       "<polyline clip-path=\"url(#clip7000)\" style=\"stroke:#000000; stroke-width:4; stroke-opacity:1; fill:none\" points=\"\n",
       "  113.754,1487.47 2352.76,1487.47 \n",
       "  \"/>\n",
       "<polyline clip-path=\"url(#clip7000)\" style=\"stroke:#000000; stroke-width:4; stroke-opacity:1; fill:none\" points=\"\n",
       "  113.754,1487.47 113.754,47.2441 \n",
       "  \"/>\n",
       "<polyline clip-path=\"url(#clip7000)\" style=\"stroke:#000000; stroke-width:4; stroke-opacity:1; fill:none\" points=\"\n",
       "  177.122,1487.47 177.122,1465.87 \n",
       "  \"/>\n",
       "<polyline clip-path=\"url(#clip7000)\" style=\"stroke:#000000; stroke-width:4; stroke-opacity:1; fill:none\" points=\"\n",
       "  617.178,1487.47 617.178,1465.87 \n",
       "  \"/>\n",
       "<polyline clip-path=\"url(#clip7000)\" style=\"stroke:#000000; stroke-width:4; stroke-opacity:1; fill:none\" points=\"\n",
       "  1057.23,1487.47 1057.23,1465.87 \n",
       "  \"/>\n",
       "<polyline clip-path=\"url(#clip7000)\" style=\"stroke:#000000; stroke-width:4; stroke-opacity:1; fill:none\" points=\"\n",
       "  1497.29,1487.47 1497.29,1465.87 \n",
       "  \"/>\n",
       "<polyline clip-path=\"url(#clip7000)\" style=\"stroke:#000000; stroke-width:4; stroke-opacity:1; fill:none\" points=\"\n",
       "  1937.34,1487.47 1937.34,1465.87 \n",
       "  \"/>\n",
       "<polyline clip-path=\"url(#clip7000)\" style=\"stroke:#000000; stroke-width:4; stroke-opacity:1; fill:none\" points=\"\n",
       "  113.754,1446.71 147.339,1446.71 \n",
       "  \"/>\n",
       "<polyline clip-path=\"url(#clip7000)\" style=\"stroke:#000000; stroke-width:4; stroke-opacity:1; fill:none\" points=\"\n",
       "  113.754,1174.97 147.339,1174.97 \n",
       "  \"/>\n",
       "<polyline clip-path=\"url(#clip7000)\" style=\"stroke:#000000; stroke-width:4; stroke-opacity:1; fill:none\" points=\"\n",
       "  113.754,903.23 147.339,903.23 \n",
       "  \"/>\n",
       "<polyline clip-path=\"url(#clip7000)\" style=\"stroke:#000000; stroke-width:4; stroke-opacity:1; fill:none\" points=\"\n",
       "  113.754,631.489 147.339,631.489 \n",
       "  \"/>\n",
       "<polyline clip-path=\"url(#clip7000)\" style=\"stroke:#000000; stroke-width:4; stroke-opacity:1; fill:none\" points=\"\n",
       "  113.754,359.747 147.339,359.747 \n",
       "  \"/>\n",
       "<polyline clip-path=\"url(#clip7000)\" style=\"stroke:#000000; stroke-width:4; stroke-opacity:1; fill:none\" points=\"\n",
       "  113.754,88.0053 147.339,88.0053 \n",
       "  \"/>\n",
       "<g clip-path=\"url(#clip7000)\">\n",
       "<text style=\"fill:#000000; fill-opacity:1; font-family:Arial,Helvetica Neue,Helvetica,sans-serif; font-size:48px; text-anchor:middle;\" transform=\"rotate(0, 177.122, 1541.47)\" x=\"177.122\" y=\"1541.47\">0</text>\n",
       "</g>\n",
       "<g clip-path=\"url(#clip7000)\">\n",
       "<text style=\"fill:#000000; fill-opacity:1; font-family:Arial,Helvetica Neue,Helvetica,sans-serif; font-size:48px; text-anchor:middle;\" transform=\"rotate(0, 617.178, 1541.47)\" x=\"617.178\" y=\"1541.47\">5</text>\n",
       "</g>\n",
       "<g clip-path=\"url(#clip7000)\">\n",
       "<text style=\"fill:#000000; fill-opacity:1; font-family:Arial,Helvetica Neue,Helvetica,sans-serif; font-size:48px; text-anchor:middle;\" transform=\"rotate(0, 1057.23, 1541.47)\" x=\"1057.23\" y=\"1541.47\">10</text>\n",
       "</g>\n",
       "<g clip-path=\"url(#clip7000)\">\n",
       "<text style=\"fill:#000000; fill-opacity:1; font-family:Arial,Helvetica Neue,Helvetica,sans-serif; font-size:48px; text-anchor:middle;\" transform=\"rotate(0, 1497.29, 1541.47)\" x=\"1497.29\" y=\"1541.47\">15</text>\n",
       "</g>\n",
       "<g clip-path=\"url(#clip7000)\">\n",
       "<text style=\"fill:#000000; fill-opacity:1; font-family:Arial,Helvetica Neue,Helvetica,sans-serif; font-size:48px; text-anchor:middle;\" transform=\"rotate(0, 1937.34, 1541.47)\" x=\"1937.34\" y=\"1541.47\">20</text>\n",
       "</g>\n",
       "<g clip-path=\"url(#clip7000)\">\n",
       "<text style=\"fill:#000000; fill-opacity:1; font-family:Arial,Helvetica Neue,Helvetica,sans-serif; font-size:48px; text-anchor:end;\" transform=\"rotate(0, 89.7545, 1464.21)\" x=\"89.7545\" y=\"1464.21\">3</text>\n",
       "</g>\n",
       "<g clip-path=\"url(#clip7000)\">\n",
       "<text style=\"fill:#000000; fill-opacity:1; font-family:Arial,Helvetica Neue,Helvetica,sans-serif; font-size:48px; text-anchor:end;\" transform=\"rotate(0, 89.7545, 1192.47)\" x=\"89.7545\" y=\"1192.47\">4</text>\n",
       "</g>\n",
       "<g clip-path=\"url(#clip7000)\">\n",
       "<text style=\"fill:#000000; fill-opacity:1; font-family:Arial,Helvetica Neue,Helvetica,sans-serif; font-size:48px; text-anchor:end;\" transform=\"rotate(0, 89.7545, 920.73)\" x=\"89.7545\" y=\"920.73\">5</text>\n",
       "</g>\n",
       "<g clip-path=\"url(#clip7000)\">\n",
       "<text style=\"fill:#000000; fill-opacity:1; font-family:Arial,Helvetica Neue,Helvetica,sans-serif; font-size:48px; text-anchor:end;\" transform=\"rotate(0, 89.7545, 648.989)\" x=\"89.7545\" y=\"648.989\">6</text>\n",
       "</g>\n",
       "<g clip-path=\"url(#clip7000)\">\n",
       "<text style=\"fill:#000000; fill-opacity:1; font-family:Arial,Helvetica Neue,Helvetica,sans-serif; font-size:48px; text-anchor:end;\" transform=\"rotate(0, 89.7545, 377.247)\" x=\"89.7545\" y=\"377.247\">7</text>\n",
       "</g>\n",
       "<g clip-path=\"url(#clip7000)\">\n",
       "<text style=\"fill:#000000; fill-opacity:1; font-family:Arial,Helvetica Neue,Helvetica,sans-serif; font-size:48px; text-anchor:end;\" transform=\"rotate(0, 89.7545, 105.505)\" x=\"89.7545\" y=\"105.505\">8</text>\n",
       "</g>\n",
       "<polyline clip-path=\"url(#clip7002)\" style=\"stroke:#009af9; stroke-width:4; stroke-opacity:1; fill:none\" points=\"\n",
       "  177.122,1174.97 529.167,495.618 881.211,903.23 1233.26,359.747 1585.3,767.359 1937.34,88.0053 2289.39,1174.97 \n",
       "  \"/>\n",
       "<circle clip-path=\"url(#clip7002)\" style=\"fill:#000000; stroke:none; fill-opacity:1\" cx=\"177.122\" cy=\"1174.97\" r=\"18\"/>\n",
       "<circle clip-path=\"url(#clip7002)\" style=\"fill:#009af9; stroke:none; fill-opacity:1\" cx=\"177.122\" cy=\"1174.97\" r=\"14\"/>\n",
       "<circle clip-path=\"url(#clip7002)\" style=\"fill:#000000; stroke:none; fill-opacity:1\" cx=\"529.167\" cy=\"495.618\" r=\"18\"/>\n",
       "<circle clip-path=\"url(#clip7002)\" style=\"fill:#009af9; stroke:none; fill-opacity:1\" cx=\"529.167\" cy=\"495.618\" r=\"14\"/>\n",
       "<circle clip-path=\"url(#clip7002)\" style=\"fill:#000000; stroke:none; fill-opacity:1\" cx=\"881.211\" cy=\"903.23\" r=\"18\"/>\n",
       "<circle clip-path=\"url(#clip7002)\" style=\"fill:#009af9; stroke:none; fill-opacity:1\" cx=\"881.211\" cy=\"903.23\" r=\"14\"/>\n",
       "<circle clip-path=\"url(#clip7002)\" style=\"fill:#000000; stroke:none; fill-opacity:1\" cx=\"1233.26\" cy=\"359.747\" r=\"18\"/>\n",
       "<circle clip-path=\"url(#clip7002)\" style=\"fill:#009af9; stroke:none; fill-opacity:1\" cx=\"1233.26\" cy=\"359.747\" r=\"14\"/>\n",
       "<circle clip-path=\"url(#clip7002)\" style=\"fill:#000000; stroke:none; fill-opacity:1\" cx=\"1585.3\" cy=\"767.359\" r=\"18\"/>\n",
       "<circle clip-path=\"url(#clip7002)\" style=\"fill:#009af9; stroke:none; fill-opacity:1\" cx=\"1585.3\" cy=\"767.359\" r=\"14\"/>\n",
       "<circle clip-path=\"url(#clip7002)\" style=\"fill:#000000; stroke:none; fill-opacity:1\" cx=\"1937.34\" cy=\"88.0053\" r=\"18\"/>\n",
       "<circle clip-path=\"url(#clip7002)\" style=\"fill:#009af9; stroke:none; fill-opacity:1\" cx=\"1937.34\" cy=\"88.0053\" r=\"14\"/>\n",
       "<circle clip-path=\"url(#clip7002)\" style=\"fill:#000000; stroke:none; fill-opacity:1\" cx=\"2289.39\" cy=\"1174.97\" r=\"18\"/>\n",
       "<circle clip-path=\"url(#clip7002)\" style=\"fill:#009af9; stroke:none; fill-opacity:1\" cx=\"2289.39\" cy=\"1174.97\" r=\"14\"/>\n",
       "<polyline clip-path=\"url(#clip7002)\" style=\"stroke:#e26f46; stroke-width:4; stroke-opacity:1; fill:none\" points=\"\n",
       "  177.122,1174.97 529.167,1310.84 881.211,1446.71 1233.26,903.23 1585.3,1039.1 1937.34,631.489 2289.39,1174.97 \n",
       "  \"/>\n",
       "<circle clip-path=\"url(#clip7002)\" style=\"fill:#000000; stroke:none; fill-opacity:1\" cx=\"177.122\" cy=\"1174.97\" r=\"18\"/>\n",
       "<circle clip-path=\"url(#clip7002)\" style=\"fill:#e26f46; stroke:none; fill-opacity:1\" cx=\"177.122\" cy=\"1174.97\" r=\"14\"/>\n",
       "<circle clip-path=\"url(#clip7002)\" style=\"fill:#000000; stroke:none; fill-opacity:1\" cx=\"529.167\" cy=\"1310.84\" r=\"18\"/>\n",
       "<circle clip-path=\"url(#clip7002)\" style=\"fill:#e26f46; stroke:none; fill-opacity:1\" cx=\"529.167\" cy=\"1310.84\" r=\"14\"/>\n",
       "<circle clip-path=\"url(#clip7002)\" style=\"fill:#000000; stroke:none; fill-opacity:1\" cx=\"881.211\" cy=\"1446.71\" r=\"18\"/>\n",
       "<circle clip-path=\"url(#clip7002)\" style=\"fill:#e26f46; stroke:none; fill-opacity:1\" cx=\"881.211\" cy=\"1446.71\" r=\"14\"/>\n",
       "<circle clip-path=\"url(#clip7002)\" style=\"fill:#000000; stroke:none; fill-opacity:1\" cx=\"1233.26\" cy=\"903.23\" r=\"18\"/>\n",
       "<circle clip-path=\"url(#clip7002)\" style=\"fill:#e26f46; stroke:none; fill-opacity:1\" cx=\"1233.26\" cy=\"903.23\" r=\"14\"/>\n",
       "<circle clip-path=\"url(#clip7002)\" style=\"fill:#000000; stroke:none; fill-opacity:1\" cx=\"1585.3\" cy=\"1039.1\" r=\"18\"/>\n",
       "<circle clip-path=\"url(#clip7002)\" style=\"fill:#e26f46; stroke:none; fill-opacity:1\" cx=\"1585.3\" cy=\"1039.1\" r=\"14\"/>\n",
       "<circle clip-path=\"url(#clip7002)\" style=\"fill:#000000; stroke:none; fill-opacity:1\" cx=\"1937.34\" cy=\"631.489\" r=\"18\"/>\n",
       "<circle clip-path=\"url(#clip7002)\" style=\"fill:#e26f46; stroke:none; fill-opacity:1\" cx=\"1937.34\" cy=\"631.489\" r=\"14\"/>\n",
       "<circle clip-path=\"url(#clip7002)\" style=\"fill:#000000; stroke:none; fill-opacity:1\" cx=\"2289.39\" cy=\"1174.97\" r=\"18\"/>\n",
       "<circle clip-path=\"url(#clip7002)\" style=\"fill:#e26f46; stroke:none; fill-opacity:1\" cx=\"2289.39\" cy=\"1174.97\" r=\"14\"/>\n",
       "<polyline clip-path=\"url(#clip7002)\" style=\"stroke:#3da44d; stroke-width:4; stroke-opacity:1; fill:none\" points=\"\n",
       "  177.122,1174.97 529.167,1073.07 881.211,971.166 1233.26,869.263 1585.3,767.359 1937.34,631.489 2289.39,1174.97 \n",
       "  \"/>\n",
       "<circle clip-path=\"url(#clip7002)\" style=\"fill:#000000; stroke:none; fill-opacity:1\" cx=\"177.122\" cy=\"1174.97\" r=\"18\"/>\n",
       "<circle clip-path=\"url(#clip7002)\" style=\"fill:#3da44d; stroke:none; fill-opacity:1\" cx=\"177.122\" cy=\"1174.97\" r=\"14\"/>\n",
       "<circle clip-path=\"url(#clip7002)\" style=\"fill:#000000; stroke:none; fill-opacity:1\" cx=\"529.167\" cy=\"1073.07\" r=\"18\"/>\n",
       "<circle clip-path=\"url(#clip7002)\" style=\"fill:#3da44d; stroke:none; fill-opacity:1\" cx=\"529.167\" cy=\"1073.07\" r=\"14\"/>\n",
       "<circle clip-path=\"url(#clip7002)\" style=\"fill:#000000; stroke:none; fill-opacity:1\" cx=\"881.211\" cy=\"971.166\" r=\"18\"/>\n",
       "<circle clip-path=\"url(#clip7002)\" style=\"fill:#3da44d; stroke:none; fill-opacity:1\" cx=\"881.211\" cy=\"971.166\" r=\"14\"/>\n",
       "<circle clip-path=\"url(#clip7002)\" style=\"fill:#000000; stroke:none; fill-opacity:1\" cx=\"1233.26\" cy=\"869.263\" r=\"18\"/>\n",
       "<circle clip-path=\"url(#clip7002)\" style=\"fill:#3da44d; stroke:none; fill-opacity:1\" cx=\"1233.26\" cy=\"869.263\" r=\"14\"/>\n",
       "<circle clip-path=\"url(#clip7002)\" style=\"fill:#000000; stroke:none; fill-opacity:1\" cx=\"1585.3\" cy=\"767.359\" r=\"18\"/>\n",
       "<circle clip-path=\"url(#clip7002)\" style=\"fill:#3da44d; stroke:none; fill-opacity:1\" cx=\"1585.3\" cy=\"767.359\" r=\"14\"/>\n",
       "<circle clip-path=\"url(#clip7002)\" style=\"fill:#000000; stroke:none; fill-opacity:1\" cx=\"1937.34\" cy=\"631.489\" r=\"18\"/>\n",
       "<circle clip-path=\"url(#clip7002)\" style=\"fill:#3da44d; stroke:none; fill-opacity:1\" cx=\"1937.34\" cy=\"631.489\" r=\"14\"/>\n",
       "<circle clip-path=\"url(#clip7002)\" style=\"fill:#000000; stroke:none; fill-opacity:1\" cx=\"2289.39\" cy=\"1174.97\" r=\"18\"/>\n",
       "<circle clip-path=\"url(#clip7002)\" style=\"fill:#3da44d; stroke:none; fill-opacity:1\" cx=\"2289.39\" cy=\"1174.97\" r=\"14\"/>\n",
       "<path clip-path=\"url(#clip7000)\" d=\"\n",
       "M1989.93 372.684 L2280.76 372.684 L2280.76 130.764 L1989.93 130.764  Z\n",
       "  \" fill=\"#ffffff\" fill-rule=\"evenodd\" fill-opacity=\"1\"/>\n",
       "<polyline clip-path=\"url(#clip7000)\" style=\"stroke:#000000; stroke-width:4; stroke-opacity:1; fill:none\" points=\"\n",
       "  1989.93,372.684 2280.76,372.684 2280.76,130.764 1989.93,130.764 1989.93,372.684 \n",
       "  \"/>\n",
       "<polyline clip-path=\"url(#clip7000)\" style=\"stroke:#009af9; stroke-width:4; stroke-opacity:1; fill:none\" points=\"\n",
       "  2013.93,191.244 2157.93,191.244 \n",
       "  \"/>\n",
       "<circle clip-path=\"url(#clip7000)\" style=\"fill:#000000; stroke:none; fill-opacity:1\" cx=\"2097.93\" cy=\"191.244\" r=\"25\"/>\n",
       "<circle clip-path=\"url(#clip7000)\" style=\"fill:#009af9; stroke:none; fill-opacity:1\" cx=\"2097.93\" cy=\"191.244\" r=\"21\"/>\n",
       "<g clip-path=\"url(#clip7000)\">\n",
       "<text style=\"fill:#000000; fill-opacity:1; font-family:Arial,Helvetica Neue,Helvetica,sans-serif; font-size:48px; text-anchor:start;\" transform=\"rotate(0, 2181.93, 208.744)\" x=\"2181.93\" y=\"208.744\">y1</text>\n",
       "</g>\n",
       "<polyline clip-path=\"url(#clip7000)\" style=\"stroke:#e26f46; stroke-width:4; stroke-opacity:1; fill:none\" points=\"\n",
       "  2013.93,251.724 2157.93,251.724 \n",
       "  \"/>\n",
       "<circle clip-path=\"url(#clip7000)\" style=\"fill:#000000; stroke:none; fill-opacity:1\" cx=\"2097.93\" cy=\"251.724\" r=\"25\"/>\n",
       "<circle clip-path=\"url(#clip7000)\" style=\"fill:#e26f46; stroke:none; fill-opacity:1\" cx=\"2097.93\" cy=\"251.724\" r=\"21\"/>\n",
       "<g clip-path=\"url(#clip7000)\">\n",
       "<text style=\"fill:#000000; fill-opacity:1; font-family:Arial,Helvetica Neue,Helvetica,sans-serif; font-size:48px; text-anchor:start;\" transform=\"rotate(0, 2181.93, 269.224)\" x=\"2181.93\" y=\"269.224\">y2</text>\n",
       "</g>\n",
       "<polyline clip-path=\"url(#clip7000)\" style=\"stroke:#3da44d; stroke-width:4; stroke-opacity:1; fill:none\" points=\"\n",
       "  2013.93,312.204 2157.93,312.204 \n",
       "  \"/>\n",
       "<circle clip-path=\"url(#clip7000)\" style=\"fill:#000000; stroke:none; fill-opacity:1\" cx=\"2097.93\" cy=\"312.204\" r=\"25\"/>\n",
       "<circle clip-path=\"url(#clip7000)\" style=\"fill:#3da44d; stroke:none; fill-opacity:1\" cx=\"2097.93\" cy=\"312.204\" r=\"21\"/>\n",
       "<g clip-path=\"url(#clip7000)\">\n",
       "<text style=\"fill:#000000; fill-opacity:1; font-family:Arial,Helvetica Neue,Helvetica,sans-serif; font-size:48px; text-anchor:start;\" transform=\"rotate(0, 2181.93, 329.704)\" x=\"2181.93\" y=\"329.704\">y3</text>\n",
       "</g>\n",
       "</svg>\n"
      ]
     },
     "execution_count": 75,
     "metadata": {},
     "output_type": "execute_result"
    }
   ],
   "source": [
    "plot(x, y + c/2, marker=true)\n",
    "plot!(x, y - c/2, marker=true)\n",
    "plot!(x, z_, marker=true)"
   ]
  },
  {
   "cell_type": "markdown",
   "metadata": {},
   "source": [
    "Answer check:"
   ]
  },
  {
   "cell_type": "code",
   "execution_count": 76,
   "metadata": {},
   "outputs": [],
   "source": [
    "z_ref = [4, 4.375, 4.75, 5.125, 5.5, 6, 4]\n",
    "p_star_ref = 24.5734\n",
    "@assert norm(p_star_ref-p_star) < 10^-4 && norm(z_ref-z_) < 10^-4"
   ]
  },
  {
   "cell_type": "markdown",
   "metadata": {},
   "source": [
    "# Part 3: Support-vector machines"
   ]
  },
  {
   "cell_type": "markdown",
   "metadata": {},
   "source": [
    "In this part, I will first direct you to Wikipedia to read a short section on linear support-vector machines (SVMs). It's concise and has a nice diagram: https://en.wikipedia.org/wiki/Support-vector_machine#Linear_SVM. In particular, we'll be interested in the soft-margin SVM, but you'll need to read both the hard-margin and soft-margin part to understand.\n",
    "\n",
    "Next, scroll all the way to the end of this page: https://www.juliaopt.org/Convex.jl/dev/operations/ and read the little note on type promotions and the ```max(x, 0)``` atom. \n",
    "\n",
    "The code for doing this part of the exercise is actually available in the documentation so you will just need to understand it and modify it accordingly. Here it is: https://www.juliaopt.org/Convex.jl/dev/examples/general_examples/svm/. You should read this as well. "
   ]
  },
  {
   "cell_type": "markdown",
   "metadata": {},
   "source": [
    "Once you've done this, we can start."
   ]
  },
  {
   "cell_type": "markdown",
   "metadata": {},
   "source": [
    "In the first part of this part, we'll do something in two dimensions just so you can easily visualize what's going on and in the second part, we'll revisit our classifying wheat seeds problem from the previous exercise and do the exact same thing in seven dimensions."
   ]
  },
  {
   "cell_type": "markdown",
   "metadata": {},
   "source": [
    "We'll start by creating a dataset of 200 randomly generated points in $R^2$ centered around different places. We'll assign the points the two categories $1$ and $-1$. The 200 points are stored in a matrix called ```X``` whose columns are those points and the labels for those points $1$ and $-1$ are stored in ```Y```. "
   ]
  },
  {
   "cell_type": "code",
   "execution_count": 77,
   "metadata": {},
   "outputs": [
    {
     "data": {
      "image/svg+xml": [
       "<?xml version=\"1.0\" encoding=\"utf-8\"?>\n",
       "<svg xmlns=\"http://www.w3.org/2000/svg\" xmlns:xlink=\"http://www.w3.org/1999/xlink\" width=\"600\" height=\"400\" viewBox=\"0 0 2400 1600\">\n",
       "<defs>\n",
       "  <clipPath id=\"clip7400\">\n",
       "    <rect x=\"0\" y=\"0\" width=\"2400\" height=\"1600\"/>\n",
       "  </clipPath>\n",
       "</defs>\n",
       "<path clip-path=\"url(#clip7400)\" d=\"\n",
       "M0 1600 L2400 1600 L2400 0 L0 0  Z\n",
       "  \" fill=\"#ffffff\" fill-rule=\"evenodd\" fill-opacity=\"1\"/>\n",
       "<defs>\n",
       "  <clipPath id=\"clip7401\">\n",
       "    <rect x=\"480\" y=\"0\" width=\"1681\" height=\"1600\"/>\n",
       "  </clipPath>\n",
       "</defs>\n",
       "<path clip-path=\"url(#clip7400)\" d=\"\n",
       "M141.865 1487.47 L2352.76 1487.47 L2352.76 47.2441 L141.865 47.2441  Z\n",
       "  \" fill=\"#ffffff\" fill-rule=\"evenodd\" fill-opacity=\"1\"/>\n",
       "<defs>\n",
       "  <clipPath id=\"clip7402\">\n",
       "    <rect x=\"141\" y=\"47\" width=\"2212\" height=\"1441\"/>\n",
       "  </clipPath>\n",
       "</defs>\n",
       "<polyline clip-path=\"url(#clip7402)\" style=\"stroke:#000000; stroke-width:2; stroke-opacity:0.1; fill:none\" points=\"\n",
       "  420.72,1487.47 420.72,47.2441 \n",
       "  \"/>\n",
       "<polyline clip-path=\"url(#clip7402)\" style=\"stroke:#000000; stroke-width:2; stroke-opacity:0.1; fill:none\" points=\"\n",
       "  831.196,1487.47 831.196,47.2441 \n",
       "  \"/>\n",
       "<polyline clip-path=\"url(#clip7402)\" style=\"stroke:#000000; stroke-width:2; stroke-opacity:0.1; fill:none\" points=\"\n",
       "  1241.67,1487.47 1241.67,47.2441 \n",
       "  \"/>\n",
       "<polyline clip-path=\"url(#clip7402)\" style=\"stroke:#000000; stroke-width:2; stroke-opacity:0.1; fill:none\" points=\"\n",
       "  1652.15,1487.47 1652.15,47.2441 \n",
       "  \"/>\n",
       "<polyline clip-path=\"url(#clip7402)\" style=\"stroke:#000000; stroke-width:2; stroke-opacity:0.1; fill:none\" points=\"\n",
       "  2062.62,1487.47 2062.62,47.2441 \n",
       "  \"/>\n",
       "<polyline clip-path=\"url(#clip7402)\" style=\"stroke:#000000; stroke-width:2; stroke-opacity:0.1; fill:none\" points=\"\n",
       "  141.865,1298.76 2352.76,1298.76 \n",
       "  \"/>\n",
       "<polyline clip-path=\"url(#clip7402)\" style=\"stroke:#000000; stroke-width:2; stroke-opacity:0.1; fill:none\" points=\"\n",
       "  141.865,1039.04 2352.76,1039.04 \n",
       "  \"/>\n",
       "<polyline clip-path=\"url(#clip7402)\" style=\"stroke:#000000; stroke-width:2; stroke-opacity:0.1; fill:none\" points=\"\n",
       "  141.865,779.325 2352.76,779.325 \n",
       "  \"/>\n",
       "<polyline clip-path=\"url(#clip7402)\" style=\"stroke:#000000; stroke-width:2; stroke-opacity:0.1; fill:none\" points=\"\n",
       "  141.865,519.605 2352.76,519.605 \n",
       "  \"/>\n",
       "<polyline clip-path=\"url(#clip7402)\" style=\"stroke:#000000; stroke-width:2; stroke-opacity:0.1; fill:none\" points=\"\n",
       "  141.865,259.886 2352.76,259.886 \n",
       "  \"/>\n",
       "<polyline clip-path=\"url(#clip7400)\" style=\"stroke:#000000; stroke-width:4; stroke-opacity:1; fill:none\" points=\"\n",
       "  141.865,1487.47 2352.76,1487.47 \n",
       "  \"/>\n",
       "<polyline clip-path=\"url(#clip7400)\" style=\"stroke:#000000; stroke-width:4; stroke-opacity:1; fill:none\" points=\"\n",
       "  141.865,1487.47 141.865,47.2441 \n",
       "  \"/>\n",
       "<polyline clip-path=\"url(#clip7400)\" style=\"stroke:#000000; stroke-width:4; stroke-opacity:1; fill:none\" points=\"\n",
       "  420.72,1487.47 420.72,1465.87 \n",
       "  \"/>\n",
       "<polyline clip-path=\"url(#clip7400)\" style=\"stroke:#000000; stroke-width:4; stroke-opacity:1; fill:none\" points=\"\n",
       "  831.196,1487.47 831.196,1465.87 \n",
       "  \"/>\n",
       "<polyline clip-path=\"url(#clip7400)\" style=\"stroke:#000000; stroke-width:4; stroke-opacity:1; fill:none\" points=\"\n",
       "  1241.67,1487.47 1241.67,1465.87 \n",
       "  \"/>\n",
       "<polyline clip-path=\"url(#clip7400)\" style=\"stroke:#000000; stroke-width:4; stroke-opacity:1; fill:none\" points=\"\n",
       "  1652.15,1487.47 1652.15,1465.87 \n",
       "  \"/>\n",
       "<polyline clip-path=\"url(#clip7400)\" style=\"stroke:#000000; stroke-width:4; stroke-opacity:1; fill:none\" points=\"\n",
       "  2062.62,1487.47 2062.62,1465.87 \n",
       "  \"/>\n",
       "<polyline clip-path=\"url(#clip7400)\" style=\"stroke:#000000; stroke-width:4; stroke-opacity:1; fill:none\" points=\"\n",
       "  141.865,1298.76 175.028,1298.76 \n",
       "  \"/>\n",
       "<polyline clip-path=\"url(#clip7400)\" style=\"stroke:#000000; stroke-width:4; stroke-opacity:1; fill:none\" points=\"\n",
       "  141.865,1039.04 175.028,1039.04 \n",
       "  \"/>\n",
       "<polyline clip-path=\"url(#clip7400)\" style=\"stroke:#000000; stroke-width:4; stroke-opacity:1; fill:none\" points=\"\n",
       "  141.865,779.325 175.028,779.325 \n",
       "  \"/>\n",
       "<polyline clip-path=\"url(#clip7400)\" style=\"stroke:#000000; stroke-width:4; stroke-opacity:1; fill:none\" points=\"\n",
       "  141.865,519.605 175.028,519.605 \n",
       "  \"/>\n",
       "<polyline clip-path=\"url(#clip7400)\" style=\"stroke:#000000; stroke-width:4; stroke-opacity:1; fill:none\" points=\"\n",
       "  141.865,259.886 175.028,259.886 \n",
       "  \"/>\n",
       "<g clip-path=\"url(#clip7400)\">\n",
       "<text style=\"fill:#000000; fill-opacity:1; font-family:Arial,Helvetica Neue,Helvetica,sans-serif; font-size:48px; text-anchor:middle;\" transform=\"rotate(0, 420.72, 1541.47)\" x=\"420.72\" y=\"1541.47\">-2</text>\n",
       "</g>\n",
       "<g clip-path=\"url(#clip7400)\">\n",
       "<text style=\"fill:#000000; fill-opacity:1; font-family:Arial,Helvetica Neue,Helvetica,sans-serif; font-size:48px; text-anchor:middle;\" transform=\"rotate(0, 831.196, 1541.47)\" x=\"831.196\" y=\"1541.47\">-1</text>\n",
       "</g>\n",
       "<g clip-path=\"url(#clip7400)\">\n",
       "<text style=\"fill:#000000; fill-opacity:1; font-family:Arial,Helvetica Neue,Helvetica,sans-serif; font-size:48px; text-anchor:middle;\" transform=\"rotate(0, 1241.67, 1541.47)\" x=\"1241.67\" y=\"1541.47\">0</text>\n",
       "</g>\n",
       "<g clip-path=\"url(#clip7400)\">\n",
       "<text style=\"fill:#000000; fill-opacity:1; font-family:Arial,Helvetica Neue,Helvetica,sans-serif; font-size:48px; text-anchor:middle;\" transform=\"rotate(0, 1652.15, 1541.47)\" x=\"1652.15\" y=\"1541.47\">1</text>\n",
       "</g>\n",
       "<g clip-path=\"url(#clip7400)\">\n",
       "<text style=\"fill:#000000; fill-opacity:1; font-family:Arial,Helvetica Neue,Helvetica,sans-serif; font-size:48px; text-anchor:middle;\" transform=\"rotate(0, 2062.62, 1541.47)\" x=\"2062.62\" y=\"1541.47\">2</text>\n",
       "</g>\n",
       "<g clip-path=\"url(#clip7400)\">\n",
       "<text style=\"fill:#000000; fill-opacity:1; font-family:Arial,Helvetica Neue,Helvetica,sans-serif; font-size:48px; text-anchor:end;\" transform=\"rotate(0, 117.865, 1316.26)\" x=\"117.865\" y=\"1316.26\">-2</text>\n",
       "</g>\n",
       "<g clip-path=\"url(#clip7400)\">\n",
       "<text style=\"fill:#000000; fill-opacity:1; font-family:Arial,Helvetica Neue,Helvetica,sans-serif; font-size:48px; text-anchor:end;\" transform=\"rotate(0, 117.865, 1056.54)\" x=\"117.865\" y=\"1056.54\">-1</text>\n",
       "</g>\n",
       "<g clip-path=\"url(#clip7400)\">\n",
       "<text style=\"fill:#000000; fill-opacity:1; font-family:Arial,Helvetica Neue,Helvetica,sans-serif; font-size:48px; text-anchor:end;\" transform=\"rotate(0, 117.865, 796.825)\" x=\"117.865\" y=\"796.825\">0</text>\n",
       "</g>\n",
       "<g clip-path=\"url(#clip7400)\">\n",
       "<text style=\"fill:#000000; fill-opacity:1; font-family:Arial,Helvetica Neue,Helvetica,sans-serif; font-size:48px; text-anchor:end;\" transform=\"rotate(0, 117.865, 537.105)\" x=\"117.865\" y=\"537.105\">1</text>\n",
       "</g>\n",
       "<g clip-path=\"url(#clip7400)\">\n",
       "<text style=\"fill:#000000; fill-opacity:1; font-family:Arial,Helvetica Neue,Helvetica,sans-serif; font-size:48px; text-anchor:end;\" transform=\"rotate(0, 117.865, 277.386)\" x=\"117.865\" y=\"277.386\">2</text>\n",
       "</g>\n",
       "<circle clip-path=\"url(#clip7402)\" style=\"fill:#000000; stroke:none; fill-opacity:1\" cx=\"749.692\" cy=\"616.731\" r=\"18\"/>\n",
       "<circle clip-path=\"url(#clip7402)\" style=\"fill:#009af9; stroke:none; fill-opacity:1\" cx=\"749.692\" cy=\"616.731\" r=\"14\"/>\n",
       "<circle clip-path=\"url(#clip7402)\" style=\"fill:#000000; stroke:none; fill-opacity:1\" cx=\"863.1\" cy=\"451.549\" r=\"18\"/>\n",
       "<circle clip-path=\"url(#clip7402)\" style=\"fill:#009af9; stroke:none; fill-opacity:1\" cx=\"863.1\" cy=\"451.549\" r=\"14\"/>\n",
       "<circle clip-path=\"url(#clip7402)\" style=\"fill:#000000; stroke:none; fill-opacity:1\" cx=\"757.979\" cy=\"956.417\" r=\"18\"/>\n",
       "<circle clip-path=\"url(#clip7402)\" style=\"fill:#009af9; stroke:none; fill-opacity:1\" cx=\"757.979\" cy=\"956.417\" r=\"14\"/>\n",
       "<circle clip-path=\"url(#clip7402)\" style=\"fill:#000000; stroke:none; fill-opacity:1\" cx=\"1121.35\" cy=\"999.417\" r=\"18\"/>\n",
       "<circle clip-path=\"url(#clip7402)\" style=\"fill:#009af9; stroke:none; fill-opacity:1\" cx=\"1121.35\" cy=\"999.417\" r=\"14\"/>\n",
       "<circle clip-path=\"url(#clip7402)\" style=\"fill:#000000; stroke:none; fill-opacity:1\" cx=\"586.713\" cy=\"646.672\" r=\"18\"/>\n",
       "<circle clip-path=\"url(#clip7402)\" style=\"fill:#009af9; stroke:none; fill-opacity:1\" cx=\"586.713\" cy=\"646.672\" r=\"14\"/>\n",
       "<circle clip-path=\"url(#clip7402)\" style=\"fill:#000000; stroke:none; fill-opacity:1\" cx=\"942.967\" cy=\"558.335\" r=\"18\"/>\n",
       "<circle clip-path=\"url(#clip7402)\" style=\"fill:#009af9; stroke:none; fill-opacity:1\" cx=\"942.967\" cy=\"558.335\" r=\"14\"/>\n",
       "<circle clip-path=\"url(#clip7402)\" style=\"fill:#000000; stroke:none; fill-opacity:1\" cx=\"870.511\" cy=\"502.964\" r=\"18\"/>\n",
       "<circle clip-path=\"url(#clip7402)\" style=\"fill:#009af9; stroke:none; fill-opacity:1\" cx=\"870.511\" cy=\"502.964\" r=\"14\"/>\n",
       "<circle clip-path=\"url(#clip7402)\" style=\"fill:#000000; stroke:none; fill-opacity:1\" cx=\"1342.57\" cy=\"635.381\" r=\"18\"/>\n",
       "<circle clip-path=\"url(#clip7402)\" style=\"fill:#009af9; stroke:none; fill-opacity:1\" cx=\"1342.57\" cy=\"635.381\" r=\"14\"/>\n",
       "<circle clip-path=\"url(#clip7402)\" style=\"fill:#000000; stroke:none; fill-opacity:1\" cx=\"908.81\" cy=\"877.732\" r=\"18\"/>\n",
       "<circle clip-path=\"url(#clip7402)\" style=\"fill:#009af9; stroke:none; fill-opacity:1\" cx=\"908.81\" cy=\"877.732\" r=\"14\"/>\n",
       "<circle clip-path=\"url(#clip7402)\" style=\"fill:#000000; stroke:none; fill-opacity:1\" cx=\"917.063\" cy=\"624.364\" r=\"18\"/>\n",
       "<circle clip-path=\"url(#clip7402)\" style=\"fill:#009af9; stroke:none; fill-opacity:1\" cx=\"917.063\" cy=\"624.364\" r=\"14\"/>\n",
       "<circle clip-path=\"url(#clip7402)\" style=\"fill:#000000; stroke:none; fill-opacity:1\" cx=\"1068\" cy=\"745.922\" r=\"18\"/>\n",
       "<circle clip-path=\"url(#clip7402)\" style=\"fill:#009af9; stroke:none; fill-opacity:1\" cx=\"1068\" cy=\"745.922\" r=\"14\"/>\n",
       "<circle clip-path=\"url(#clip7402)\" style=\"fill:#000000; stroke:none; fill-opacity:1\" cx=\"653.21\" cy=\"387.85\" r=\"18\"/>\n",
       "<circle clip-path=\"url(#clip7402)\" style=\"fill:#009af9; stroke:none; fill-opacity:1\" cx=\"653.21\" cy=\"387.85\" r=\"14\"/>\n",
       "<circle clip-path=\"url(#clip7402)\" style=\"fill:#000000; stroke:none; fill-opacity:1\" cx=\"1065.64\" cy=\"518.301\" r=\"18\"/>\n",
       "<circle clip-path=\"url(#clip7402)\" style=\"fill:#009af9; stroke:none; fill-opacity:1\" cx=\"1065.64\" cy=\"518.301\" r=\"14\"/>\n",
       "<circle clip-path=\"url(#clip7402)\" style=\"fill:#000000; stroke:none; fill-opacity:1\" cx=\"758.647\" cy=\"721.649\" r=\"18\"/>\n",
       "<circle clip-path=\"url(#clip7402)\" style=\"fill:#009af9; stroke:none; fill-opacity:1\" cx=\"758.647\" cy=\"721.649\" r=\"14\"/>\n",
       "<circle clip-path=\"url(#clip7402)\" style=\"fill:#000000; stroke:none; fill-opacity:1\" cx=\"1190.95\" cy=\"775.915\" r=\"18\"/>\n",
       "<circle clip-path=\"url(#clip7402)\" style=\"fill:#009af9; stroke:none; fill-opacity:1\" cx=\"1190.95\" cy=\"775.915\" r=\"14\"/>\n",
       "<circle clip-path=\"url(#clip7402)\" style=\"fill:#000000; stroke:none; fill-opacity:1\" cx=\"941.753\" cy=\"637.063\" r=\"18\"/>\n",
       "<circle clip-path=\"url(#clip7402)\" style=\"fill:#009af9; stroke:none; fill-opacity:1\" cx=\"941.753\" cy=\"637.063\" r=\"14\"/>\n",
       "<circle clip-path=\"url(#clip7402)\" style=\"fill:#000000; stroke:none; fill-opacity:1\" cx=\"1111.97\" cy=\"677.724\" r=\"18\"/>\n",
       "<circle clip-path=\"url(#clip7402)\" style=\"fill:#009af9; stroke:none; fill-opacity:1\" cx=\"1111.97\" cy=\"677.724\" r=\"14\"/>\n",
       "<circle clip-path=\"url(#clip7402)\" style=\"fill:#000000; stroke:none; fill-opacity:1\" cx=\"933.881\" cy=\"525.953\" r=\"18\"/>\n",
       "<circle clip-path=\"url(#clip7402)\" style=\"fill:#009af9; stroke:none; fill-opacity:1\" cx=\"933.881\" cy=\"525.953\" r=\"14\"/>\n",
       "<circle clip-path=\"url(#clip7402)\" style=\"fill:#000000; stroke:none; fill-opacity:1\" cx=\"1289.13\" cy=\"755.993\" r=\"18\"/>\n",
       "<circle clip-path=\"url(#clip7402)\" style=\"fill:#009af9; stroke:none; fill-opacity:1\" cx=\"1289.13\" cy=\"755.993\" r=\"14\"/>\n",
       "<circle clip-path=\"url(#clip7402)\" style=\"fill:#000000; stroke:none; fill-opacity:1\" cx=\"875.533\" cy=\"464.701\" r=\"18\"/>\n",
       "<circle clip-path=\"url(#clip7402)\" style=\"fill:#009af9; stroke:none; fill-opacity:1\" cx=\"875.533\" cy=\"464.701\" r=\"14\"/>\n",
       "<circle clip-path=\"url(#clip7402)\" style=\"fill:#000000; stroke:none; fill-opacity:1\" cx=\"1255.09\" cy=\"722.527\" r=\"18\"/>\n",
       "<circle clip-path=\"url(#clip7402)\" style=\"fill:#009af9; stroke:none; fill-opacity:1\" cx=\"1255.09\" cy=\"722.527\" r=\"14\"/>\n",
       "<circle clip-path=\"url(#clip7402)\" style=\"fill:#000000; stroke:none; fill-opacity:1\" cx=\"968.502\" cy=\"580.393\" r=\"18\"/>\n",
       "<circle clip-path=\"url(#clip7402)\" style=\"fill:#009af9; stroke:none; fill-opacity:1\" cx=\"968.502\" cy=\"580.393\" r=\"14\"/>\n",
       "<circle clip-path=\"url(#clip7402)\" style=\"fill:#000000; stroke:none; fill-opacity:1\" cx=\"1114.92\" cy=\"310.275\" r=\"18\"/>\n",
       "<circle clip-path=\"url(#clip7402)\" style=\"fill:#009af9; stroke:none; fill-opacity:1\" cx=\"1114.92\" cy=\"310.275\" r=\"14\"/>\n",
       "<circle clip-path=\"url(#clip7402)\" style=\"fill:#000000; stroke:none; fill-opacity:1\" cx=\"887.463\" cy=\"620.256\" r=\"18\"/>\n",
       "<circle clip-path=\"url(#clip7402)\" style=\"fill:#009af9; stroke:none; fill-opacity:1\" cx=\"887.463\" cy=\"620.256\" r=\"14\"/>\n",
       "<circle clip-path=\"url(#clip7402)\" style=\"fill:#000000; stroke:none; fill-opacity:1\" cx=\"1064.33\" cy=\"305.655\" r=\"18\"/>\n",
       "<circle clip-path=\"url(#clip7402)\" style=\"fill:#009af9; stroke:none; fill-opacity:1\" cx=\"1064.33\" cy=\"305.655\" r=\"14\"/>\n",
       "<circle clip-path=\"url(#clip7402)\" style=\"fill:#000000; stroke:none; fill-opacity:1\" cx=\"496.926\" cy=\"556.829\" r=\"18\"/>\n",
       "<circle clip-path=\"url(#clip7402)\" style=\"fill:#009af9; stroke:none; fill-opacity:1\" cx=\"496.926\" cy=\"556.829\" r=\"14\"/>\n",
       "<circle clip-path=\"url(#clip7402)\" style=\"fill:#000000; stroke:none; fill-opacity:1\" cx=\"1094.97\" cy=\"586.451\" r=\"18\"/>\n",
       "<circle clip-path=\"url(#clip7402)\" style=\"fill:#009af9; stroke:none; fill-opacity:1\" cx=\"1094.97\" cy=\"586.451\" r=\"14\"/>\n",
       "<circle clip-path=\"url(#clip7402)\" style=\"fill:#000000; stroke:none; fill-opacity:1\" cx=\"1230.54\" cy=\"393.255\" r=\"18\"/>\n",
       "<circle clip-path=\"url(#clip7402)\" style=\"fill:#009af9; stroke:none; fill-opacity:1\" cx=\"1230.54\" cy=\"393.255\" r=\"14\"/>\n",
       "<circle clip-path=\"url(#clip7402)\" style=\"fill:#000000; stroke:none; fill-opacity:1\" cx=\"879.491\" cy=\"516.136\" r=\"18\"/>\n",
       "<circle clip-path=\"url(#clip7402)\" style=\"fill:#009af9; stroke:none; fill-opacity:1\" cx=\"879.491\" cy=\"516.136\" r=\"14\"/>\n",
       "<circle clip-path=\"url(#clip7402)\" style=\"fill:#000000; stroke:none; fill-opacity:1\" cx=\"1016.47\" cy=\"442.52\" r=\"18\"/>\n",
       "<circle clip-path=\"url(#clip7402)\" style=\"fill:#009af9; stroke:none; fill-opacity:1\" cx=\"1016.47\" cy=\"442.52\" r=\"14\"/>\n",
       "<circle clip-path=\"url(#clip7402)\" style=\"fill:#000000; stroke:none; fill-opacity:1\" cx=\"870.22\" cy=\"592.272\" r=\"18\"/>\n",
       "<circle clip-path=\"url(#clip7402)\" style=\"fill:#009af9; stroke:none; fill-opacity:1\" cx=\"870.22\" cy=\"592.272\" r=\"14\"/>\n",
       "<circle clip-path=\"url(#clip7402)\" style=\"fill:#000000; stroke:none; fill-opacity:1\" cx=\"956.323\" cy=\"833.042\" r=\"18\"/>\n",
       "<circle clip-path=\"url(#clip7402)\" style=\"fill:#009af9; stroke:none; fill-opacity:1\" cx=\"956.323\" cy=\"833.042\" r=\"14\"/>\n",
       "<circle clip-path=\"url(#clip7402)\" style=\"fill:#000000; stroke:none; fill-opacity:1\" cx=\"1062.79\" cy=\"756.283\" r=\"18\"/>\n",
       "<circle clip-path=\"url(#clip7402)\" style=\"fill:#009af9; stroke:none; fill-opacity:1\" cx=\"1062.79\" cy=\"756.283\" r=\"14\"/>\n",
       "<circle clip-path=\"url(#clip7402)\" style=\"fill:#000000; stroke:none; fill-opacity:1\" cx=\"365.021\" cy=\"569.565\" r=\"18\"/>\n",
       "<circle clip-path=\"url(#clip7402)\" style=\"fill:#009af9; stroke:none; fill-opacity:1\" cx=\"365.021\" cy=\"569.565\" r=\"14\"/>\n",
       "<circle clip-path=\"url(#clip7402)\" style=\"fill:#000000; stroke:none; fill-opacity:1\" cx=\"929.2\" cy=\"419.952\" r=\"18\"/>\n",
       "<circle clip-path=\"url(#clip7402)\" style=\"fill:#009af9; stroke:none; fill-opacity:1\" cx=\"929.2\" cy=\"419.952\" r=\"14\"/>\n",
       "<circle clip-path=\"url(#clip7402)\" style=\"fill:#000000; stroke:none; fill-opacity:1\" cx=\"967.862\" cy=\"432.968\" r=\"18\"/>\n",
       "<circle clip-path=\"url(#clip7402)\" style=\"fill:#009af9; stroke:none; fill-opacity:1\" cx=\"967.862\" cy=\"432.968\" r=\"14\"/>\n",
       "<circle clip-path=\"url(#clip7402)\" style=\"fill:#000000; stroke:none; fill-opacity:1\" cx=\"710.417\" cy=\"730.865\" r=\"18\"/>\n",
       "<circle clip-path=\"url(#clip7402)\" style=\"fill:#009af9; stroke:none; fill-opacity:1\" cx=\"710.417\" cy=\"730.865\" r=\"14\"/>\n",
       "<circle clip-path=\"url(#clip7402)\" style=\"fill:#000000; stroke:none; fill-opacity:1\" cx=\"718.34\" cy=\"812.223\" r=\"18\"/>\n",
       "<circle clip-path=\"url(#clip7402)\" style=\"fill:#009af9; stroke:none; fill-opacity:1\" cx=\"718.34\" cy=\"812.223\" r=\"14\"/>\n",
       "<circle clip-path=\"url(#clip7402)\" style=\"fill:#000000; stroke:none; fill-opacity:1\" cx=\"716.851\" cy=\"618.512\" r=\"18\"/>\n",
       "<circle clip-path=\"url(#clip7402)\" style=\"fill:#009af9; stroke:none; fill-opacity:1\" cx=\"716.851\" cy=\"618.512\" r=\"14\"/>\n",
       "<circle clip-path=\"url(#clip7402)\" style=\"fill:#000000; stroke:none; fill-opacity:1\" cx=\"1233.6\" cy=\"374.037\" r=\"18\"/>\n",
       "<circle clip-path=\"url(#clip7402)\" style=\"fill:#009af9; stroke:none; fill-opacity:1\" cx=\"1233.6\" cy=\"374.037\" r=\"14\"/>\n",
       "<circle clip-path=\"url(#clip7402)\" style=\"fill:#000000; stroke:none; fill-opacity:1\" cx=\"757.253\" cy=\"753.028\" r=\"18\"/>\n",
       "<circle clip-path=\"url(#clip7402)\" style=\"fill:#009af9; stroke:none; fill-opacity:1\" cx=\"757.253\" cy=\"753.028\" r=\"14\"/>\n",
       "<circle clip-path=\"url(#clip7402)\" style=\"fill:#000000; stroke:none; fill-opacity:1\" cx=\"1160.82\" cy=\"393.695\" r=\"18\"/>\n",
       "<circle clip-path=\"url(#clip7402)\" style=\"fill:#009af9; stroke:none; fill-opacity:1\" cx=\"1160.82\" cy=\"393.695\" r=\"14\"/>\n",
       "<circle clip-path=\"url(#clip7402)\" style=\"fill:#000000; stroke:none; fill-opacity:1\" cx=\"825.974\" cy=\"147.541\" r=\"18\"/>\n",
       "<circle clip-path=\"url(#clip7402)\" style=\"fill:#009af9; stroke:none; fill-opacity:1\" cx=\"825.974\" cy=\"147.541\" r=\"14\"/>\n",
       "<circle clip-path=\"url(#clip7402)\" style=\"fill:#000000; stroke:none; fill-opacity:1\" cx=\"935.081\" cy=\"927.836\" r=\"18\"/>\n",
       "<circle clip-path=\"url(#clip7402)\" style=\"fill:#009af9; stroke:none; fill-opacity:1\" cx=\"935.081\" cy=\"927.836\" r=\"14\"/>\n",
       "<circle clip-path=\"url(#clip7402)\" style=\"fill:#000000; stroke:none; fill-opacity:1\" cx=\"387.601\" cy=\"705.725\" r=\"18\"/>\n",
       "<circle clip-path=\"url(#clip7402)\" style=\"fill:#009af9; stroke:none; fill-opacity:1\" cx=\"387.601\" cy=\"705.725\" r=\"14\"/>\n",
       "<circle clip-path=\"url(#clip7402)\" style=\"fill:#000000; stroke:none; fill-opacity:1\" cx=\"441.391\" cy=\"787.753\" r=\"18\"/>\n",
       "<circle clip-path=\"url(#clip7402)\" style=\"fill:#009af9; stroke:none; fill-opacity:1\" cx=\"441.391\" cy=\"787.753\" r=\"14\"/>\n",
       "<circle clip-path=\"url(#clip7402)\" style=\"fill:#000000; stroke:none; fill-opacity:1\" cx=\"1155.53\" cy=\"259.264\" r=\"18\"/>\n",
       "<circle clip-path=\"url(#clip7402)\" style=\"fill:#009af9; stroke:none; fill-opacity:1\" cx=\"1155.53\" cy=\"259.264\" r=\"14\"/>\n",
       "<circle clip-path=\"url(#clip7402)\" style=\"fill:#000000; stroke:none; fill-opacity:1\" cx=\"926.954\" cy=\"630.637\" r=\"18\"/>\n",
       "<circle clip-path=\"url(#clip7402)\" style=\"fill:#009af9; stroke:none; fill-opacity:1\" cx=\"926.954\" cy=\"630.637\" r=\"14\"/>\n",
       "<circle clip-path=\"url(#clip7402)\" style=\"fill:#000000; stroke:none; fill-opacity:1\" cx=\"903.18\" cy=\"650.55\" r=\"18\"/>\n",
       "<circle clip-path=\"url(#clip7402)\" style=\"fill:#009af9; stroke:none; fill-opacity:1\" cx=\"903.18\" cy=\"650.55\" r=\"14\"/>\n",
       "<circle clip-path=\"url(#clip7402)\" style=\"fill:#000000; stroke:none; fill-opacity:1\" cx=\"1061.59\" cy=\"693.23\" r=\"18\"/>\n",
       "<circle clip-path=\"url(#clip7402)\" style=\"fill:#009af9; stroke:none; fill-opacity:1\" cx=\"1061.59\" cy=\"693.23\" r=\"14\"/>\n",
       "<circle clip-path=\"url(#clip7402)\" style=\"fill:#000000; stroke:none; fill-opacity:1\" cx=\"915.812\" cy=\"570.006\" r=\"18\"/>\n",
       "<circle clip-path=\"url(#clip7402)\" style=\"fill:#009af9; stroke:none; fill-opacity:1\" cx=\"915.812\" cy=\"570.006\" r=\"14\"/>\n",
       "<circle clip-path=\"url(#clip7402)\" style=\"fill:#000000; stroke:none; fill-opacity:1\" cx=\"1325.49\" cy=\"616.325\" r=\"18\"/>\n",
       "<circle clip-path=\"url(#clip7402)\" style=\"fill:#009af9; stroke:none; fill-opacity:1\" cx=\"1325.49\" cy=\"616.325\" r=\"14\"/>\n",
       "<circle clip-path=\"url(#clip7402)\" style=\"fill:#000000; stroke:none; fill-opacity:1\" cx=\"1004.14\" cy=\"377.954\" r=\"18\"/>\n",
       "<circle clip-path=\"url(#clip7402)\" style=\"fill:#009af9; stroke:none; fill-opacity:1\" cx=\"1004.14\" cy=\"377.954\" r=\"14\"/>\n",
       "<circle clip-path=\"url(#clip7402)\" style=\"fill:#000000; stroke:none; fill-opacity:1\" cx=\"1015.2\" cy=\"732.837\" r=\"18\"/>\n",
       "<circle clip-path=\"url(#clip7402)\" style=\"fill:#009af9; stroke:none; fill-opacity:1\" cx=\"1015.2\" cy=\"732.837\" r=\"14\"/>\n",
       "<circle clip-path=\"url(#clip7402)\" style=\"fill:#000000; stroke:none; fill-opacity:1\" cx=\"1131.51\" cy=\"456.858\" r=\"18\"/>\n",
       "<circle clip-path=\"url(#clip7402)\" style=\"fill:#009af9; stroke:none; fill-opacity:1\" cx=\"1131.51\" cy=\"456.858\" r=\"14\"/>\n",
       "<circle clip-path=\"url(#clip7402)\" style=\"fill:#000000; stroke:none; fill-opacity:1\" cx=\"871.097\" cy=\"476.107\" r=\"18\"/>\n",
       "<circle clip-path=\"url(#clip7402)\" style=\"fill:#009af9; stroke:none; fill-opacity:1\" cx=\"871.097\" cy=\"476.107\" r=\"14\"/>\n",
       "<circle clip-path=\"url(#clip7402)\" style=\"fill:#000000; stroke:none; fill-opacity:1\" cx=\"893.798\" cy=\"519.171\" r=\"18\"/>\n",
       "<circle clip-path=\"url(#clip7402)\" style=\"fill:#009af9; stroke:none; fill-opacity:1\" cx=\"893.798\" cy=\"519.171\" r=\"14\"/>\n",
       "<circle clip-path=\"url(#clip7402)\" style=\"fill:#000000; stroke:none; fill-opacity:1\" cx=\"654.228\" cy=\"662.841\" r=\"18\"/>\n",
       "<circle clip-path=\"url(#clip7402)\" style=\"fill:#009af9; stroke:none; fill-opacity:1\" cx=\"654.228\" cy=\"662.841\" r=\"14\"/>\n",
       "<circle clip-path=\"url(#clip7402)\" style=\"fill:#000000; stroke:none; fill-opacity:1\" cx=\"1111.44\" cy=\"484.02\" r=\"18\"/>\n",
       "<circle clip-path=\"url(#clip7402)\" style=\"fill:#009af9; stroke:none; fill-opacity:1\" cx=\"1111.44\" cy=\"484.02\" r=\"14\"/>\n",
       "<circle clip-path=\"url(#clip7402)\" style=\"fill:#000000; stroke:none; fill-opacity:1\" cx=\"876.481\" cy=\"523.483\" r=\"18\"/>\n",
       "<circle clip-path=\"url(#clip7402)\" style=\"fill:#009af9; stroke:none; fill-opacity:1\" cx=\"876.481\" cy=\"523.483\" r=\"14\"/>\n",
       "<circle clip-path=\"url(#clip7402)\" style=\"fill:#000000; stroke:none; fill-opacity:1\" cx=\"1090.29\" cy=\"636.235\" r=\"18\"/>\n",
       "<circle clip-path=\"url(#clip7402)\" style=\"fill:#009af9; stroke:none; fill-opacity:1\" cx=\"1090.29\" cy=\"636.235\" r=\"14\"/>\n",
       "<circle clip-path=\"url(#clip7402)\" style=\"fill:#000000; stroke:none; fill-opacity:1\" cx=\"903.816\" cy=\"498.09\" r=\"18\"/>\n",
       "<circle clip-path=\"url(#clip7402)\" style=\"fill:#009af9; stroke:none; fill-opacity:1\" cx=\"903.816\" cy=\"498.09\" r=\"14\"/>\n",
       "<circle clip-path=\"url(#clip7402)\" style=\"fill:#000000; stroke:none; fill-opacity:1\" cx=\"1150.69\" cy=\"752.324\" r=\"18\"/>\n",
       "<circle clip-path=\"url(#clip7402)\" style=\"fill:#009af9; stroke:none; fill-opacity:1\" cx=\"1150.69\" cy=\"752.324\" r=\"14\"/>\n",
       "<circle clip-path=\"url(#clip7402)\" style=\"fill:#000000; stroke:none; fill-opacity:1\" cx=\"1396.39\" cy=\"933.71\" r=\"18\"/>\n",
       "<circle clip-path=\"url(#clip7402)\" style=\"fill:#009af9; stroke:none; fill-opacity:1\" cx=\"1396.39\" cy=\"933.71\" r=\"14\"/>\n",
       "<circle clip-path=\"url(#clip7402)\" style=\"fill:#000000; stroke:none; fill-opacity:1\" cx=\"996.745\" cy=\"747.672\" r=\"18\"/>\n",
       "<circle clip-path=\"url(#clip7402)\" style=\"fill:#009af9; stroke:none; fill-opacity:1\" cx=\"996.745\" cy=\"747.672\" r=\"14\"/>\n",
       "<circle clip-path=\"url(#clip7402)\" style=\"fill:#000000; stroke:none; fill-opacity:1\" cx=\"1047.16\" cy=\"624.658\" r=\"18\"/>\n",
       "<circle clip-path=\"url(#clip7402)\" style=\"fill:#009af9; stroke:none; fill-opacity:1\" cx=\"1047.16\" cy=\"624.658\" r=\"14\"/>\n",
       "<circle clip-path=\"url(#clip7402)\" style=\"fill:#000000; stroke:none; fill-opacity:1\" cx=\"419.767\" cy=\"800.292\" r=\"18\"/>\n",
       "<circle clip-path=\"url(#clip7402)\" style=\"fill:#009af9; stroke:none; fill-opacity:1\" cx=\"419.767\" cy=\"800.292\" r=\"14\"/>\n",
       "<circle clip-path=\"url(#clip7402)\" style=\"fill:#000000; stroke:none; fill-opacity:1\" cx=\"751.386\" cy=\"532.501\" r=\"18\"/>\n",
       "<circle clip-path=\"url(#clip7402)\" style=\"fill:#009af9; stroke:none; fill-opacity:1\" cx=\"751.386\" cy=\"532.501\" r=\"14\"/>\n",
       "<circle clip-path=\"url(#clip7402)\" style=\"fill:#000000; stroke:none; fill-opacity:1\" cx=\"724.768\" cy=\"867.125\" r=\"18\"/>\n",
       "<circle clip-path=\"url(#clip7402)\" style=\"fill:#009af9; stroke:none; fill-opacity:1\" cx=\"724.768\" cy=\"867.125\" r=\"14\"/>\n",
       "<circle clip-path=\"url(#clip7402)\" style=\"fill:#000000; stroke:none; fill-opacity:1\" cx=\"749.374\" cy=\"422.541\" r=\"18\"/>\n",
       "<circle clip-path=\"url(#clip7402)\" style=\"fill:#009af9; stroke:none; fill-opacity:1\" cx=\"749.374\" cy=\"422.541\" r=\"14\"/>\n",
       "<circle clip-path=\"url(#clip7402)\" style=\"fill:#000000; stroke:none; fill-opacity:1\" cx=\"510.119\" cy=\"359.903\" r=\"18\"/>\n",
       "<circle clip-path=\"url(#clip7402)\" style=\"fill:#009af9; stroke:none; fill-opacity:1\" cx=\"510.119\" cy=\"359.903\" r=\"14\"/>\n",
       "<circle clip-path=\"url(#clip7402)\" style=\"fill:#000000; stroke:none; fill-opacity:1\" cx=\"1304.3\" cy=\"655.026\" r=\"18\"/>\n",
       "<circle clip-path=\"url(#clip7402)\" style=\"fill:#009af9; stroke:none; fill-opacity:1\" cx=\"1304.3\" cy=\"655.026\" r=\"14\"/>\n",
       "<circle clip-path=\"url(#clip7402)\" style=\"fill:#000000; stroke:none; fill-opacity:1\" cx=\"527.766\" cy=\"485.171\" r=\"18\"/>\n",
       "<circle clip-path=\"url(#clip7402)\" style=\"fill:#009af9; stroke:none; fill-opacity:1\" cx=\"527.766\" cy=\"485.171\" r=\"14\"/>\n",
       "<circle clip-path=\"url(#clip7402)\" style=\"fill:#000000; stroke:none; fill-opacity:1\" cx=\"763.541\" cy=\"624.133\" r=\"18\"/>\n",
       "<circle clip-path=\"url(#clip7402)\" style=\"fill:#009af9; stroke:none; fill-opacity:1\" cx=\"763.541\" cy=\"624.133\" r=\"14\"/>\n",
       "<circle clip-path=\"url(#clip7402)\" style=\"fill:#000000; stroke:none; fill-opacity:1\" cx=\"904.304\" cy=\"88.0053\" r=\"18\"/>\n",
       "<circle clip-path=\"url(#clip7402)\" style=\"fill:#009af9; stroke:none; fill-opacity:1\" cx=\"904.304\" cy=\"88.0053\" r=\"14\"/>\n",
       "<circle clip-path=\"url(#clip7402)\" style=\"fill:#000000; stroke:none; fill-opacity:1\" cx=\"1119.72\" cy=\"550.624\" r=\"18\"/>\n",
       "<circle clip-path=\"url(#clip7402)\" style=\"fill:#009af9; stroke:none; fill-opacity:1\" cx=\"1119.72\" cy=\"550.624\" r=\"14\"/>\n",
       "<circle clip-path=\"url(#clip7402)\" style=\"fill:#000000; stroke:none; fill-opacity:1\" cx=\"973.1\" cy=\"583.931\" r=\"18\"/>\n",
       "<circle clip-path=\"url(#clip7402)\" style=\"fill:#009af9; stroke:none; fill-opacity:1\" cx=\"973.1\" cy=\"583.931\" r=\"14\"/>\n",
       "<circle clip-path=\"url(#clip7402)\" style=\"fill:#000000; stroke:none; fill-opacity:1\" cx=\"906.282\" cy=\"569.162\" r=\"18\"/>\n",
       "<circle clip-path=\"url(#clip7402)\" style=\"fill:#009af9; stroke:none; fill-opacity:1\" cx=\"906.282\" cy=\"569.162\" r=\"14\"/>\n",
       "<circle clip-path=\"url(#clip7402)\" style=\"fill:#000000; stroke:none; fill-opacity:1\" cx=\"949.682\" cy=\"935.965\" r=\"18\"/>\n",
       "<circle clip-path=\"url(#clip7402)\" style=\"fill:#009af9; stroke:none; fill-opacity:1\" cx=\"949.682\" cy=\"935.965\" r=\"14\"/>\n",
       "<circle clip-path=\"url(#clip7402)\" style=\"fill:#000000; stroke:none; fill-opacity:1\" cx=\"686.454\" cy=\"445.108\" r=\"18\"/>\n",
       "<circle clip-path=\"url(#clip7402)\" style=\"fill:#009af9; stroke:none; fill-opacity:1\" cx=\"686.454\" cy=\"445.108\" r=\"14\"/>\n",
       "<circle clip-path=\"url(#clip7402)\" style=\"fill:#000000; stroke:none; fill-opacity:1\" cx=\"692.027\" cy=\"548.486\" r=\"18\"/>\n",
       "<circle clip-path=\"url(#clip7402)\" style=\"fill:#009af9; stroke:none; fill-opacity:1\" cx=\"692.027\" cy=\"548.486\" r=\"14\"/>\n",
       "<circle clip-path=\"url(#clip7402)\" style=\"fill:#000000; stroke:none; fill-opacity:1\" cx=\"1133.87\" cy=\"551.938\" r=\"18\"/>\n",
       "<circle clip-path=\"url(#clip7402)\" style=\"fill:#009af9; stroke:none; fill-opacity:1\" cx=\"1133.87\" cy=\"551.938\" r=\"14\"/>\n",
       "<circle clip-path=\"url(#clip7402)\" style=\"fill:#000000; stroke:none; fill-opacity:1\" cx=\"842.998\" cy=\"403\" r=\"18\"/>\n",
       "<circle clip-path=\"url(#clip7402)\" style=\"fill:#009af9; stroke:none; fill-opacity:1\" cx=\"842.998\" cy=\"403\" r=\"14\"/>\n",
       "<circle clip-path=\"url(#clip7402)\" style=\"fill:#000000; stroke:none; fill-opacity:1\" cx=\"1045.28\" cy=\"680.616\" r=\"18\"/>\n",
       "<circle clip-path=\"url(#clip7402)\" style=\"fill:#009af9; stroke:none; fill-opacity:1\" cx=\"1045.28\" cy=\"680.616\" r=\"14\"/>\n",
       "<circle clip-path=\"url(#clip7402)\" style=\"fill:#000000; stroke:none; fill-opacity:1\" cx=\"999.388\" cy=\"742.315\" r=\"18\"/>\n",
       "<circle clip-path=\"url(#clip7402)\" style=\"fill:#009af9; stroke:none; fill-opacity:1\" cx=\"999.388\" cy=\"742.315\" r=\"14\"/>\n",
       "<circle clip-path=\"url(#clip7402)\" style=\"fill:#000000; stroke:none; fill-opacity:1\" cx=\"1423.87\" cy=\"821.072\" r=\"18\"/>\n",
       "<circle clip-path=\"url(#clip7402)\" style=\"fill:#009af9; stroke:none; fill-opacity:1\" cx=\"1423.87\" cy=\"821.072\" r=\"14\"/>\n",
       "<circle clip-path=\"url(#clip7402)\" style=\"fill:#000000; stroke:none; fill-opacity:1\" cx=\"718.77\" cy=\"459.734\" r=\"18\"/>\n",
       "<circle clip-path=\"url(#clip7402)\" style=\"fill:#009af9; stroke:none; fill-opacity:1\" cx=\"718.77\" cy=\"459.734\" r=\"14\"/>\n",
       "<circle clip-path=\"url(#clip7402)\" style=\"fill:#000000; stroke:none; fill-opacity:1\" cx=\"862.944\" cy=\"289.078\" r=\"18\"/>\n",
       "<circle clip-path=\"url(#clip7402)\" style=\"fill:#009af9; stroke:none; fill-opacity:1\" cx=\"862.944\" cy=\"289.078\" r=\"14\"/>\n",
       "<circle clip-path=\"url(#clip7402)\" style=\"fill:#000000; stroke:none; fill-opacity:1\" cx=\"849.675\" cy=\"315.501\" r=\"18\"/>\n",
       "<circle clip-path=\"url(#clip7402)\" style=\"fill:#009af9; stroke:none; fill-opacity:1\" cx=\"849.675\" cy=\"315.501\" r=\"14\"/>\n",
       "<circle clip-path=\"url(#clip7402)\" style=\"fill:#000000; stroke:none; fill-opacity:1\" cx=\"1296.67\" cy=\"428.582\" r=\"18\"/>\n",
       "<circle clip-path=\"url(#clip7402)\" style=\"fill:#009af9; stroke:none; fill-opacity:1\" cx=\"1296.67\" cy=\"428.582\" r=\"14\"/>\n",
       "<circle clip-path=\"url(#clip7402)\" style=\"fill:#000000; stroke:none; fill-opacity:1\" cx=\"955.333\" cy=\"871.915\" r=\"18\"/>\n",
       "<circle clip-path=\"url(#clip7402)\" style=\"fill:#009af9; stroke:none; fill-opacity:1\" cx=\"955.333\" cy=\"871.915\" r=\"14\"/>\n",
       "<circle clip-path=\"url(#clip7402)\" style=\"fill:#000000; stroke:none; fill-opacity:1\" cx=\"847.468\" cy=\"719.643\" r=\"18\"/>\n",
       "<circle clip-path=\"url(#clip7402)\" style=\"fill:#009af9; stroke:none; fill-opacity:1\" cx=\"847.468\" cy=\"719.643\" r=\"14\"/>\n",
       "<circle clip-path=\"url(#clip7402)\" style=\"fill:#000000; stroke:none; fill-opacity:1\" cx=\"958.626\" cy=\"720.879\" r=\"18\"/>\n",
       "<circle clip-path=\"url(#clip7402)\" style=\"fill:#009af9; stroke:none; fill-opacity:1\" cx=\"958.626\" cy=\"720.879\" r=\"14\"/>\n",
       "<circle clip-path=\"url(#clip7402)\" style=\"fill:#000000; stroke:none; fill-opacity:1\" cx=\"708.518\" cy=\"250.587\" r=\"18\"/>\n",
       "<circle clip-path=\"url(#clip7402)\" style=\"fill:#009af9; stroke:none; fill-opacity:1\" cx=\"708.518\" cy=\"250.587\" r=\"14\"/>\n",
       "<circle clip-path=\"url(#clip7402)\" style=\"fill:#000000; stroke:none; fill-opacity:1\" cx=\"918.563\" cy=\"787.23\" r=\"18\"/>\n",
       "<circle clip-path=\"url(#clip7402)\" style=\"fill:#009af9; stroke:none; fill-opacity:1\" cx=\"918.563\" cy=\"787.23\" r=\"14\"/>\n",
       "<circle clip-path=\"url(#clip7402)\" style=\"fill:#000000; stroke:none; fill-opacity:1\" cx=\"743.204\" cy=\"532.161\" r=\"18\"/>\n",
       "<circle clip-path=\"url(#clip7402)\" style=\"fill:#009af9; stroke:none; fill-opacity:1\" cx=\"743.204\" cy=\"532.161\" r=\"14\"/>\n",
       "<circle clip-path=\"url(#clip7402)\" style=\"fill:#000000; stroke:none; fill-opacity:1\" cx=\"1029.97\" cy=\"826.081\" r=\"18\"/>\n",
       "<circle clip-path=\"url(#clip7402)\" style=\"fill:#009af9; stroke:none; fill-opacity:1\" cx=\"1029.97\" cy=\"826.081\" r=\"14\"/>\n",
       "<circle clip-path=\"url(#clip7402)\" style=\"fill:#000000; stroke:none; fill-opacity:1\" cx=\"1023.48\" cy=\"543.936\" r=\"18\"/>\n",
       "<circle clip-path=\"url(#clip7402)\" style=\"fill:#009af9; stroke:none; fill-opacity:1\" cx=\"1023.48\" cy=\"543.936\" r=\"14\"/>\n",
       "<circle clip-path=\"url(#clip7402)\" style=\"fill:#000000; stroke:none; fill-opacity:1\" cx=\"1021.21\" cy=\"695.598\" r=\"18\"/>\n",
       "<circle clip-path=\"url(#clip7402)\" style=\"fill:#009af9; stroke:none; fill-opacity:1\" cx=\"1021.21\" cy=\"695.598\" r=\"14\"/>\n",
       "<circle clip-path=\"url(#clip7402)\" style=\"fill:#000000; stroke:none; fill-opacity:1\" cx=\"547.06\" cy=\"504.161\" r=\"18\"/>\n",
       "<circle clip-path=\"url(#clip7402)\" style=\"fill:#009af9; stroke:none; fill-opacity:1\" cx=\"547.06\" cy=\"504.161\" r=\"14\"/>\n",
       "<circle clip-path=\"url(#clip7402)\" style=\"fill:#000000; stroke:none; fill-opacity:1\" cx=\"204.437\" cy=\"749.516\" r=\"18\"/>\n",
       "<circle clip-path=\"url(#clip7402)\" style=\"fill:#009af9; stroke:none; fill-opacity:1\" cx=\"204.437\" cy=\"749.516\" r=\"14\"/>\n",
       "<circle clip-path=\"url(#clip7402)\" style=\"fill:#000000; stroke:none; fill-opacity:1\" cx=\"813.162\" cy=\"468.497\" r=\"18\"/>\n",
       "<circle clip-path=\"url(#clip7402)\" style=\"fill:#009af9; stroke:none; fill-opacity:1\" cx=\"813.162\" cy=\"468.497\" r=\"14\"/>\n",
       "<circle clip-path=\"url(#clip7402)\" style=\"fill:#000000; stroke:none; fill-opacity:1\" cx=\"1347.3\" cy=\"857.352\" r=\"18\"/>\n",
       "<circle clip-path=\"url(#clip7402)\" style=\"fill:#009af9; stroke:none; fill-opacity:1\" cx=\"1347.3\" cy=\"857.352\" r=\"14\"/>\n",
       "<circle clip-path=\"url(#clip7402)\" style=\"fill:#000000; stroke:none; fill-opacity:1\" cx=\"1004.34\" cy=\"527.509\" r=\"18\"/>\n",
       "<circle clip-path=\"url(#clip7402)\" style=\"fill:#009af9; stroke:none; fill-opacity:1\" cx=\"1004.34\" cy=\"527.509\" r=\"14\"/>\n",
       "<circle clip-path=\"url(#clip7402)\" style=\"fill:#000000; stroke:none; fill-opacity:1\" cx=\"1868.74\" cy=\"895.136\" r=\"18\"/>\n",
       "<circle clip-path=\"url(#clip7402)\" style=\"fill:#e26f46; stroke:none; fill-opacity:1\" cx=\"1868.74\" cy=\"895.136\" r=\"14\"/>\n",
       "<circle clip-path=\"url(#clip7402)\" style=\"fill:#000000; stroke:none; fill-opacity:1\" cx=\"1975.15\" cy=\"1260.42\" r=\"18\"/>\n",
       "<circle clip-path=\"url(#clip7402)\" style=\"fill:#e26f46; stroke:none; fill-opacity:1\" cx=\"1975.15\" cy=\"1260.42\" r=\"14\"/>\n",
       "<circle clip-path=\"url(#clip7402)\" style=\"fill:#000000; stroke:none; fill-opacity:1\" cx=\"1241.65\" cy=\"863.109\" r=\"18\"/>\n",
       "<circle clip-path=\"url(#clip7402)\" style=\"fill:#e26f46; stroke:none; fill-opacity:1\" cx=\"1241.65\" cy=\"863.109\" r=\"14\"/>\n",
       "<circle clip-path=\"url(#clip7402)\" style=\"fill:#000000; stroke:none; fill-opacity:1\" cx=\"1419.61\" cy=\"1072.47\" r=\"18\"/>\n",
       "<circle clip-path=\"url(#clip7402)\" style=\"fill:#e26f46; stroke:none; fill-opacity:1\" cx=\"1419.61\" cy=\"1072.47\" r=\"14\"/>\n",
       "<circle clip-path=\"url(#clip7402)\" style=\"fill:#000000; stroke:none; fill-opacity:1\" cx=\"1363.11\" cy=\"753.95\" r=\"18\"/>\n",
       "<circle clip-path=\"url(#clip7402)\" style=\"fill:#e26f46; stroke:none; fill-opacity:1\" cx=\"1363.11\" cy=\"753.95\" r=\"14\"/>\n",
       "<circle clip-path=\"url(#clip7402)\" style=\"fill:#000000; stroke:none; fill-opacity:1\" cx=\"1502.81\" cy=\"1194.3\" r=\"18\"/>\n",
       "<circle clip-path=\"url(#clip7402)\" style=\"fill:#e26f46; stroke:none; fill-opacity:1\" cx=\"1502.81\" cy=\"1194.3\" r=\"14\"/>\n",
       "<circle clip-path=\"url(#clip7402)\" style=\"fill:#000000; stroke:none; fill-opacity:1\" cx=\"1463.4\" cy=\"899.573\" r=\"18\"/>\n",
       "<circle clip-path=\"url(#clip7402)\" style=\"fill:#e26f46; stroke:none; fill-opacity:1\" cx=\"1463.4\" cy=\"899.573\" r=\"14\"/>\n",
       "<circle clip-path=\"url(#clip7402)\" style=\"fill:#000000; stroke:none; fill-opacity:1\" cx=\"1466.37\" cy=\"1003.24\" r=\"18\"/>\n",
       "<circle clip-path=\"url(#clip7402)\" style=\"fill:#e26f46; stroke:none; fill-opacity:1\" cx=\"1466.37\" cy=\"1003.24\" r=\"14\"/>\n",
       "<circle clip-path=\"url(#clip7402)\" style=\"fill:#000000; stroke:none; fill-opacity:1\" cx=\"1984.57\" cy=\"830.311\" r=\"18\"/>\n",
       "<circle clip-path=\"url(#clip7402)\" style=\"fill:#e26f46; stroke:none; fill-opacity:1\" cx=\"1984.57\" cy=\"830.311\" r=\"14\"/>\n",
       "<circle clip-path=\"url(#clip7402)\" style=\"fill:#000000; stroke:none; fill-opacity:1\" cx=\"1732.88\" cy=\"1083.45\" r=\"18\"/>\n",
       "<circle clip-path=\"url(#clip7402)\" style=\"fill:#e26f46; stroke:none; fill-opacity:1\" cx=\"1732.88\" cy=\"1083.45\" r=\"14\"/>\n",
       "<circle clip-path=\"url(#clip7402)\" style=\"fill:#000000; stroke:none; fill-opacity:1\" cx=\"1553.24\" cy=\"884.274\" r=\"18\"/>\n",
       "<circle clip-path=\"url(#clip7402)\" style=\"fill:#e26f46; stroke:none; fill-opacity:1\" cx=\"1553.24\" cy=\"884.274\" r=\"14\"/>\n",
       "<circle clip-path=\"url(#clip7402)\" style=\"fill:#000000; stroke:none; fill-opacity:1\" cx=\"1589.64\" cy=\"1028.08\" r=\"18\"/>\n",
       "<circle clip-path=\"url(#clip7402)\" style=\"fill:#e26f46; stroke:none; fill-opacity:1\" cx=\"1589.64\" cy=\"1028.08\" r=\"14\"/>\n",
       "<circle clip-path=\"url(#clip7402)\" style=\"fill:#000000; stroke:none; fill-opacity:1\" cx=\"2290.18\" cy=\"794.843\" r=\"18\"/>\n",
       "<circle clip-path=\"url(#clip7402)\" style=\"fill:#e26f46; stroke:none; fill-opacity:1\" cx=\"2290.18\" cy=\"794.843\" r=\"14\"/>\n",
       "<circle clip-path=\"url(#clip7402)\" style=\"fill:#000000; stroke:none; fill-opacity:1\" cx=\"1365.25\" cy=\"966.659\" r=\"18\"/>\n",
       "<circle clip-path=\"url(#clip7402)\" style=\"fill:#e26f46; stroke:none; fill-opacity:1\" cx=\"1365.25\" cy=\"966.659\" r=\"14\"/>\n",
       "<circle clip-path=\"url(#clip7402)\" style=\"fill:#000000; stroke:none; fill-opacity:1\" cx=\"1655.96\" cy=\"903.996\" r=\"18\"/>\n",
       "<circle clip-path=\"url(#clip7402)\" style=\"fill:#e26f46; stroke:none; fill-opacity:1\" cx=\"1655.96\" cy=\"903.996\" r=\"14\"/>\n",
       "<circle clip-path=\"url(#clip7402)\" style=\"fill:#000000; stroke:none; fill-opacity:1\" cx=\"1542.31\" cy=\"1116.38\" r=\"18\"/>\n",
       "<circle clip-path=\"url(#clip7402)\" style=\"fill:#e26f46; stroke:none; fill-opacity:1\" cx=\"1542.31\" cy=\"1116.38\" r=\"14\"/>\n",
       "<circle clip-path=\"url(#clip7402)\" style=\"fill:#000000; stroke:none; fill-opacity:1\" cx=\"1346.54\" cy=\"1067.21\" r=\"18\"/>\n",
       "<circle clip-path=\"url(#clip7402)\" style=\"fill:#e26f46; stroke:none; fill-opacity:1\" cx=\"1346.54\" cy=\"1067.21\" r=\"14\"/>\n",
       "<circle clip-path=\"url(#clip7402)\" style=\"fill:#000000; stroke:none; fill-opacity:1\" cx=\"1561.66\" cy=\"1183.59\" r=\"18\"/>\n",
       "<circle clip-path=\"url(#clip7402)\" style=\"fill:#e26f46; stroke:none; fill-opacity:1\" cx=\"1561.66\" cy=\"1183.59\" r=\"14\"/>\n",
       "<circle clip-path=\"url(#clip7402)\" style=\"fill:#000000; stroke:none; fill-opacity:1\" cx=\"1120.38\" cy=\"1292.29\" r=\"18\"/>\n",
       "<circle clip-path=\"url(#clip7402)\" style=\"fill:#e26f46; stroke:none; fill-opacity:1\" cx=\"1120.38\" cy=\"1292.29\" r=\"14\"/>\n",
       "<circle clip-path=\"url(#clip7402)\" style=\"fill:#000000; stroke:none; fill-opacity:1\" cx=\"1338.13\" cy=\"1167.22\" r=\"18\"/>\n",
       "<circle clip-path=\"url(#clip7402)\" style=\"fill:#e26f46; stroke:none; fill-opacity:1\" cx=\"1338.13\" cy=\"1167.22\" r=\"14\"/>\n",
       "<circle clip-path=\"url(#clip7402)\" style=\"fill:#000000; stroke:none; fill-opacity:1\" cx=\"1288.65\" cy=\"887.695\" r=\"18\"/>\n",
       "<circle clip-path=\"url(#clip7402)\" style=\"fill:#e26f46; stroke:none; fill-opacity:1\" cx=\"1288.65\" cy=\"887.695\" r=\"14\"/>\n",
       "<circle clip-path=\"url(#clip7402)\" style=\"fill:#000000; stroke:none; fill-opacity:1\" cx=\"1789.31\" cy=\"1241.57\" r=\"18\"/>\n",
       "<circle clip-path=\"url(#clip7402)\" style=\"fill:#e26f46; stroke:none; fill-opacity:1\" cx=\"1789.31\" cy=\"1241.57\" r=\"14\"/>\n",
       "<circle clip-path=\"url(#clip7402)\" style=\"fill:#000000; stroke:none; fill-opacity:1\" cx=\"1787.59\" cy=\"922.887\" r=\"18\"/>\n",
       "<circle clip-path=\"url(#clip7402)\" style=\"fill:#e26f46; stroke:none; fill-opacity:1\" cx=\"1787.59\" cy=\"922.887\" r=\"14\"/>\n",
       "<circle clip-path=\"url(#clip7402)\" style=\"fill:#000000; stroke:none; fill-opacity:1\" cx=\"1703.56\" cy=\"986.177\" r=\"18\"/>\n",
       "<circle clip-path=\"url(#clip7402)\" style=\"fill:#e26f46; stroke:none; fill-opacity:1\" cx=\"1703.56\" cy=\"986.177\" r=\"14\"/>\n",
       "<circle clip-path=\"url(#clip7402)\" style=\"fill:#000000; stroke:none; fill-opacity:1\" cx=\"1816.32\" cy=\"1211.51\" r=\"18\"/>\n",
       "<circle clip-path=\"url(#clip7402)\" style=\"fill:#e26f46; stroke:none; fill-opacity:1\" cx=\"1816.32\" cy=\"1211.51\" r=\"14\"/>\n",
       "<circle clip-path=\"url(#clip7402)\" style=\"fill:#000000; stroke:none; fill-opacity:1\" cx=\"1522.98\" cy=\"1013.21\" r=\"18\"/>\n",
       "<circle clip-path=\"url(#clip7402)\" style=\"fill:#e26f46; stroke:none; fill-opacity:1\" cx=\"1522.98\" cy=\"1013.21\" r=\"14\"/>\n",
       "<circle clip-path=\"url(#clip7402)\" style=\"fill:#000000; stroke:none; fill-opacity:1\" cx=\"1955.68\" cy=\"881.266\" r=\"18\"/>\n",
       "<circle clip-path=\"url(#clip7402)\" style=\"fill:#e26f46; stroke:none; fill-opacity:1\" cx=\"1955.68\" cy=\"881.266\" r=\"14\"/>\n",
       "<circle clip-path=\"url(#clip7402)\" style=\"fill:#000000; stroke:none; fill-opacity:1\" cx=\"1586.95\" cy=\"963.409\" r=\"18\"/>\n",
       "<circle clip-path=\"url(#clip7402)\" style=\"fill:#e26f46; stroke:none; fill-opacity:1\" cx=\"1586.95\" cy=\"963.409\" r=\"14\"/>\n",
       "<circle clip-path=\"url(#clip7402)\" style=\"fill:#000000; stroke:none; fill-opacity:1\" cx=\"1887.41\" cy=\"922.296\" r=\"18\"/>\n",
       "<circle clip-path=\"url(#clip7402)\" style=\"fill:#e26f46; stroke:none; fill-opacity:1\" cx=\"1887.41\" cy=\"922.296\" r=\"14\"/>\n",
       "<circle clip-path=\"url(#clip7402)\" style=\"fill:#000000; stroke:none; fill-opacity:1\" cx=\"1499.4\" cy=\"1080.26\" r=\"18\"/>\n",
       "<circle clip-path=\"url(#clip7402)\" style=\"fill:#e26f46; stroke:none; fill-opacity:1\" cx=\"1499.4\" cy=\"1080.26\" r=\"14\"/>\n",
       "<circle clip-path=\"url(#clip7402)\" style=\"fill:#000000; stroke:none; fill-opacity:1\" cx=\"1453.23\" cy=\"1143.58\" r=\"18\"/>\n",
       "<circle clip-path=\"url(#clip7402)\" style=\"fill:#e26f46; stroke:none; fill-opacity:1\" cx=\"1453.23\" cy=\"1143.58\" r=\"14\"/>\n",
       "<circle clip-path=\"url(#clip7402)\" style=\"fill:#000000; stroke:none; fill-opacity:1\" cx=\"1050.05\" cy=\"1025.53\" r=\"18\"/>\n",
       "<circle clip-path=\"url(#clip7402)\" style=\"fill:#e26f46; stroke:none; fill-opacity:1\" cx=\"1050.05\" cy=\"1025.53\" r=\"14\"/>\n",
       "<circle clip-path=\"url(#clip7402)\" style=\"fill:#000000; stroke:none; fill-opacity:1\" cx=\"1686.93\" cy=\"922.499\" r=\"18\"/>\n",
       "<circle clip-path=\"url(#clip7402)\" style=\"fill:#e26f46; stroke:none; fill-opacity:1\" cx=\"1686.93\" cy=\"922.499\" r=\"14\"/>\n",
       "<circle clip-path=\"url(#clip7402)\" style=\"fill:#000000; stroke:none; fill-opacity:1\" cx=\"1821.53\" cy=\"1116.71\" r=\"18\"/>\n",
       "<circle clip-path=\"url(#clip7402)\" style=\"fill:#e26f46; stroke:none; fill-opacity:1\" cx=\"1821.53\" cy=\"1116.71\" r=\"14\"/>\n",
       "<circle clip-path=\"url(#clip7402)\" style=\"fill:#000000; stroke:none; fill-opacity:1\" cx=\"1465.93\" cy=\"786.074\" r=\"18\"/>\n",
       "<circle clip-path=\"url(#clip7402)\" style=\"fill:#e26f46; stroke:none; fill-opacity:1\" cx=\"1465.93\" cy=\"786.074\" r=\"14\"/>\n",
       "<circle clip-path=\"url(#clip7402)\" style=\"fill:#000000; stroke:none; fill-opacity:1\" cx=\"1720.41\" cy=\"1023.38\" r=\"18\"/>\n",
       "<circle clip-path=\"url(#clip7402)\" style=\"fill:#e26f46; stroke:none; fill-opacity:1\" cx=\"1720.41\" cy=\"1023.38\" r=\"14\"/>\n",
       "<circle clip-path=\"url(#clip7402)\" style=\"fill:#000000; stroke:none; fill-opacity:1\" cx=\"1333.37\" cy=\"1043.84\" r=\"18\"/>\n",
       "<circle clip-path=\"url(#clip7402)\" style=\"fill:#e26f46; stroke:none; fill-opacity:1\" cx=\"1333.37\" cy=\"1043.84\" r=\"14\"/>\n",
       "<circle clip-path=\"url(#clip7402)\" style=\"fill:#000000; stroke:none; fill-opacity:1\" cx=\"2000.19\" cy=\"885.3\" r=\"18\"/>\n",
       "<circle clip-path=\"url(#clip7402)\" style=\"fill:#e26f46; stroke:none; fill-opacity:1\" cx=\"2000.19\" cy=\"885.3\" r=\"14\"/>\n",
       "<circle clip-path=\"url(#clip7402)\" style=\"fill:#000000; stroke:none; fill-opacity:1\" cx=\"2091.94\" cy=\"847.534\" r=\"18\"/>\n",
       "<circle clip-path=\"url(#clip7402)\" style=\"fill:#e26f46; stroke:none; fill-opacity:1\" cx=\"2091.94\" cy=\"847.534\" r=\"14\"/>\n",
       "<circle clip-path=\"url(#clip7402)\" style=\"fill:#000000; stroke:none; fill-opacity:1\" cx=\"1455.39\" cy=\"923.073\" r=\"18\"/>\n",
       "<circle clip-path=\"url(#clip7402)\" style=\"fill:#e26f46; stroke:none; fill-opacity:1\" cx=\"1455.39\" cy=\"923.073\" r=\"14\"/>\n",
       "<circle clip-path=\"url(#clip7402)\" style=\"fill:#000000; stroke:none; fill-opacity:1\" cx=\"1684.94\" cy=\"666.703\" r=\"18\"/>\n",
       "<circle clip-path=\"url(#clip7402)\" style=\"fill:#e26f46; stroke:none; fill-opacity:1\" cx=\"1684.94\" cy=\"666.703\" r=\"14\"/>\n",
       "<circle clip-path=\"url(#clip7402)\" style=\"fill:#000000; stroke:none; fill-opacity:1\" cx=\"1432.77\" cy=\"808.061\" r=\"18\"/>\n",
       "<circle clip-path=\"url(#clip7402)\" style=\"fill:#e26f46; stroke:none; fill-opacity:1\" cx=\"1432.77\" cy=\"808.061\" r=\"14\"/>\n",
       "<circle clip-path=\"url(#clip7402)\" style=\"fill:#000000; stroke:none; fill-opacity:1\" cx=\"1648.51\" cy=\"1090.36\" r=\"18\"/>\n",
       "<circle clip-path=\"url(#clip7402)\" style=\"fill:#e26f46; stroke:none; fill-opacity:1\" cx=\"1648.51\" cy=\"1090.36\" r=\"14\"/>\n",
       "<circle clip-path=\"url(#clip7402)\" style=\"fill:#000000; stroke:none; fill-opacity:1\" cx=\"1505.09\" cy=\"853.79\" r=\"18\"/>\n",
       "<circle clip-path=\"url(#clip7402)\" style=\"fill:#e26f46; stroke:none; fill-opacity:1\" cx=\"1505.09\" cy=\"853.79\" r=\"14\"/>\n",
       "<circle clip-path=\"url(#clip7402)\" style=\"fill:#000000; stroke:none; fill-opacity:1\" cx=\"1659.2\" cy=\"1025.99\" r=\"18\"/>\n",
       "<circle clip-path=\"url(#clip7402)\" style=\"fill:#e26f46; stroke:none; fill-opacity:1\" cx=\"1659.2\" cy=\"1025.99\" r=\"14\"/>\n",
       "<circle clip-path=\"url(#clip7402)\" style=\"fill:#000000; stroke:none; fill-opacity:1\" cx=\"1418.29\" cy=\"1446.71\" r=\"18\"/>\n",
       "<circle clip-path=\"url(#clip7402)\" style=\"fill:#e26f46; stroke:none; fill-opacity:1\" cx=\"1418.29\" cy=\"1446.71\" r=\"14\"/>\n",
       "<circle clip-path=\"url(#clip7402)\" style=\"fill:#000000; stroke:none; fill-opacity:1\" cx=\"1529.37\" cy=\"1114.02\" r=\"18\"/>\n",
       "<circle clip-path=\"url(#clip7402)\" style=\"fill:#e26f46; stroke:none; fill-opacity:1\" cx=\"1529.37\" cy=\"1114.02\" r=\"14\"/>\n",
       "<circle clip-path=\"url(#clip7402)\" style=\"fill:#000000; stroke:none; fill-opacity:1\" cx=\"2108.41\" cy=\"1037.03\" r=\"18\"/>\n",
       "<circle clip-path=\"url(#clip7402)\" style=\"fill:#e26f46; stroke:none; fill-opacity:1\" cx=\"2108.41\" cy=\"1037.03\" r=\"14\"/>\n",
       "<circle clip-path=\"url(#clip7402)\" style=\"fill:#000000; stroke:none; fill-opacity:1\" cx=\"1435.22\" cy=\"1231.64\" r=\"18\"/>\n",
       "<circle clip-path=\"url(#clip7402)\" style=\"fill:#e26f46; stroke:none; fill-opacity:1\" cx=\"1435.22\" cy=\"1231.64\" r=\"14\"/>\n",
       "<circle clip-path=\"url(#clip7402)\" style=\"fill:#000000; stroke:none; fill-opacity:1\" cx=\"1312.64\" cy=\"1059.48\" r=\"18\"/>\n",
       "<circle clip-path=\"url(#clip7402)\" style=\"fill:#e26f46; stroke:none; fill-opacity:1\" cx=\"1312.64\" cy=\"1059.48\" r=\"14\"/>\n",
       "<circle clip-path=\"url(#clip7402)\" style=\"fill:#000000; stroke:none; fill-opacity:1\" cx=\"1764.76\" cy=\"659.695\" r=\"18\"/>\n",
       "<circle clip-path=\"url(#clip7402)\" style=\"fill:#e26f46; stroke:none; fill-opacity:1\" cx=\"1764.76\" cy=\"659.695\" r=\"14\"/>\n",
       "<circle clip-path=\"url(#clip7402)\" style=\"fill:#000000; stroke:none; fill-opacity:1\" cx=\"1255.4\" cy=\"742.812\" r=\"18\"/>\n",
       "<circle clip-path=\"url(#clip7402)\" style=\"fill:#e26f46; stroke:none; fill-opacity:1\" cx=\"1255.4\" cy=\"742.812\" r=\"14\"/>\n",
       "<circle clip-path=\"url(#clip7402)\" style=\"fill:#000000; stroke:none; fill-opacity:1\" cx=\"1404.44\" cy=\"918.096\" r=\"18\"/>\n",
       "<circle clip-path=\"url(#clip7402)\" style=\"fill:#e26f46; stroke:none; fill-opacity:1\" cx=\"1404.44\" cy=\"918.096\" r=\"14\"/>\n",
       "<circle clip-path=\"url(#clip7402)\" style=\"fill:#000000; stroke:none; fill-opacity:1\" cx=\"1675.3\" cy=\"1440.7\" r=\"18\"/>\n",
       "<circle clip-path=\"url(#clip7402)\" style=\"fill:#e26f46; stroke:none; fill-opacity:1\" cx=\"1675.3\" cy=\"1440.7\" r=\"14\"/>\n",
       "<circle clip-path=\"url(#clip7402)\" style=\"fill:#000000; stroke:none; fill-opacity:1\" cx=\"1535.59\" cy=\"1154.46\" r=\"18\"/>\n",
       "<circle clip-path=\"url(#clip7402)\" style=\"fill:#e26f46; stroke:none; fill-opacity:1\" cx=\"1535.59\" cy=\"1154.46\" r=\"14\"/>\n",
       "<circle clip-path=\"url(#clip7402)\" style=\"fill:#000000; stroke:none; fill-opacity:1\" cx=\"1516.32\" cy=\"617.709\" r=\"18\"/>\n",
       "<circle clip-path=\"url(#clip7402)\" style=\"fill:#e26f46; stroke:none; fill-opacity:1\" cx=\"1516.32\" cy=\"617.709\" r=\"14\"/>\n",
       "<circle clip-path=\"url(#clip7402)\" style=\"fill:#000000; stroke:none; fill-opacity:1\" cx=\"1214.15\" cy=\"964.89\" r=\"18\"/>\n",
       "<circle clip-path=\"url(#clip7402)\" style=\"fill:#e26f46; stroke:none; fill-opacity:1\" cx=\"1214.15\" cy=\"964.89\" r=\"14\"/>\n",
       "<circle clip-path=\"url(#clip7402)\" style=\"fill:#000000; stroke:none; fill-opacity:1\" cx=\"1706.21\" cy=\"873.405\" r=\"18\"/>\n",
       "<circle clip-path=\"url(#clip7402)\" style=\"fill:#e26f46; stroke:none; fill-opacity:1\" cx=\"1706.21\" cy=\"873.405\" r=\"14\"/>\n",
       "<circle clip-path=\"url(#clip7402)\" style=\"fill:#000000; stroke:none; fill-opacity:1\" cx=\"1337.73\" cy=\"858.85\" r=\"18\"/>\n",
       "<circle clip-path=\"url(#clip7402)\" style=\"fill:#e26f46; stroke:none; fill-opacity:1\" cx=\"1337.73\" cy=\"858.85\" r=\"14\"/>\n",
       "<circle clip-path=\"url(#clip7402)\" style=\"fill:#000000; stroke:none; fill-opacity:1\" cx=\"1621.95\" cy=\"1028.47\" r=\"18\"/>\n",
       "<circle clip-path=\"url(#clip7402)\" style=\"fill:#e26f46; stroke:none; fill-opacity:1\" cx=\"1621.95\" cy=\"1028.47\" r=\"14\"/>\n",
       "<circle clip-path=\"url(#clip7402)\" style=\"fill:#000000; stroke:none; fill-opacity:1\" cx=\"1787.27\" cy=\"799.404\" r=\"18\"/>\n",
       "<circle clip-path=\"url(#clip7402)\" style=\"fill:#e26f46; stroke:none; fill-opacity:1\" cx=\"1787.27\" cy=\"799.404\" r=\"14\"/>\n",
       "<circle clip-path=\"url(#clip7402)\" style=\"fill:#000000; stroke:none; fill-opacity:1\" cx=\"1462.94\" cy=\"998.459\" r=\"18\"/>\n",
       "<circle clip-path=\"url(#clip7402)\" style=\"fill:#e26f46; stroke:none; fill-opacity:1\" cx=\"1462.94\" cy=\"998.459\" r=\"14\"/>\n",
       "<circle clip-path=\"url(#clip7402)\" style=\"fill:#000000; stroke:none; fill-opacity:1\" cx=\"1774.4\" cy=\"835.282\" r=\"18\"/>\n",
       "<circle clip-path=\"url(#clip7402)\" style=\"fill:#e26f46; stroke:none; fill-opacity:1\" cx=\"1774.4\" cy=\"835.282\" r=\"14\"/>\n",
       "<circle clip-path=\"url(#clip7402)\" style=\"fill:#000000; stroke:none; fill-opacity:1\" cx=\"1246.44\" cy=\"1073.29\" r=\"18\"/>\n",
       "<circle clip-path=\"url(#clip7402)\" style=\"fill:#e26f46; stroke:none; fill-opacity:1\" cx=\"1246.44\" cy=\"1073.29\" r=\"14\"/>\n",
       "<circle clip-path=\"url(#clip7402)\" style=\"fill:#000000; stroke:none; fill-opacity:1\" cx=\"1243.98\" cy=\"1026.9\" r=\"18\"/>\n",
       "<circle clip-path=\"url(#clip7402)\" style=\"fill:#e26f46; stroke:none; fill-opacity:1\" cx=\"1243.98\" cy=\"1026.9\" r=\"14\"/>\n",
       "<circle clip-path=\"url(#clip7402)\" style=\"fill:#000000; stroke:none; fill-opacity:1\" cx=\"1667.71\" cy=\"953.029\" r=\"18\"/>\n",
       "<circle clip-path=\"url(#clip7402)\" style=\"fill:#e26f46; stroke:none; fill-opacity:1\" cx=\"1667.71\" cy=\"953.029\" r=\"14\"/>\n",
       "<circle clip-path=\"url(#clip7402)\" style=\"fill:#000000; stroke:none; fill-opacity:1\" cx=\"1707.44\" cy=\"896.314\" r=\"18\"/>\n",
       "<circle clip-path=\"url(#clip7402)\" style=\"fill:#e26f46; stroke:none; fill-opacity:1\" cx=\"1707.44\" cy=\"896.314\" r=\"14\"/>\n",
       "<circle clip-path=\"url(#clip7402)\" style=\"fill:#000000; stroke:none; fill-opacity:1\" cx=\"1667.61\" cy=\"917.909\" r=\"18\"/>\n",
       "<circle clip-path=\"url(#clip7402)\" style=\"fill:#e26f46; stroke:none; fill-opacity:1\" cx=\"1667.61\" cy=\"917.909\" r=\"14\"/>\n",
       "<circle clip-path=\"url(#clip7402)\" style=\"fill:#000000; stroke:none; fill-opacity:1\" cx=\"1536.87\" cy=\"829.734\" r=\"18\"/>\n",
       "<circle clip-path=\"url(#clip7402)\" style=\"fill:#e26f46; stroke:none; fill-opacity:1\" cx=\"1536.87\" cy=\"829.734\" r=\"14\"/>\n",
       "<circle clip-path=\"url(#clip7402)\" style=\"fill:#000000; stroke:none; fill-opacity:1\" cx=\"1965\" cy=\"966.365\" r=\"18\"/>\n",
       "<circle clip-path=\"url(#clip7402)\" style=\"fill:#e26f46; stroke:none; fill-opacity:1\" cx=\"1965\" cy=\"966.365\" r=\"14\"/>\n",
       "<circle clip-path=\"url(#clip7402)\" style=\"fill:#000000; stroke:none; fill-opacity:1\" cx=\"1771.11\" cy=\"719.287\" r=\"18\"/>\n",
       "<circle clip-path=\"url(#clip7402)\" style=\"fill:#e26f46; stroke:none; fill-opacity:1\" cx=\"1771.11\" cy=\"719.287\" r=\"14\"/>\n",
       "<circle clip-path=\"url(#clip7402)\" style=\"fill:#000000; stroke:none; fill-opacity:1\" cx=\"1480.88\" cy=\"498.62\" r=\"18\"/>\n",
       "<circle clip-path=\"url(#clip7402)\" style=\"fill:#e26f46; stroke:none; fill-opacity:1\" cx=\"1480.88\" cy=\"498.62\" r=\"14\"/>\n",
       "<circle clip-path=\"url(#clip7402)\" style=\"fill:#000000; stroke:none; fill-opacity:1\" cx=\"1296.58\" cy=\"1045.94\" r=\"18\"/>\n",
       "<circle clip-path=\"url(#clip7402)\" style=\"fill:#e26f46; stroke:none; fill-opacity:1\" cx=\"1296.58\" cy=\"1045.94\" r=\"14\"/>\n",
       "<circle clip-path=\"url(#clip7402)\" style=\"fill:#000000; stroke:none; fill-opacity:1\" cx=\"1408.97\" cy=\"1019.4\" r=\"18\"/>\n",
       "<circle clip-path=\"url(#clip7402)\" style=\"fill:#e26f46; stroke:none; fill-opacity:1\" cx=\"1408.97\" cy=\"1019.4\" r=\"14\"/>\n",
       "<circle clip-path=\"url(#clip7402)\" style=\"fill:#000000; stroke:none; fill-opacity:1\" cx=\"1563.67\" cy=\"1029.71\" r=\"18\"/>\n",
       "<circle clip-path=\"url(#clip7402)\" style=\"fill:#e26f46; stroke:none; fill-opacity:1\" cx=\"1563.67\" cy=\"1029.71\" r=\"14\"/>\n",
       "<circle clip-path=\"url(#clip7402)\" style=\"fill:#000000; stroke:none; fill-opacity:1\" cx=\"1978.47\" cy=\"771.766\" r=\"18\"/>\n",
       "<circle clip-path=\"url(#clip7402)\" style=\"fill:#e26f46; stroke:none; fill-opacity:1\" cx=\"1978.47\" cy=\"771.766\" r=\"14\"/>\n",
       "<circle clip-path=\"url(#clip7402)\" style=\"fill:#000000; stroke:none; fill-opacity:1\" cx=\"1444.91\" cy=\"858.549\" r=\"18\"/>\n",
       "<circle clip-path=\"url(#clip7402)\" style=\"fill:#e26f46; stroke:none; fill-opacity:1\" cx=\"1444.91\" cy=\"858.549\" r=\"14\"/>\n",
       "<circle clip-path=\"url(#clip7402)\" style=\"fill:#000000; stroke:none; fill-opacity:1\" cx=\"1251.92\" cy=\"1226.87\" r=\"18\"/>\n",
       "<circle clip-path=\"url(#clip7402)\" style=\"fill:#e26f46; stroke:none; fill-opacity:1\" cx=\"1251.92\" cy=\"1226.87\" r=\"14\"/>\n",
       "<circle clip-path=\"url(#clip7402)\" style=\"fill:#000000; stroke:none; fill-opacity:1\" cx=\"1460.02\" cy=\"989.348\" r=\"18\"/>\n",
       "<circle clip-path=\"url(#clip7402)\" style=\"fill:#e26f46; stroke:none; fill-opacity:1\" cx=\"1460.02\" cy=\"989.348\" r=\"14\"/>\n",
       "<circle clip-path=\"url(#clip7402)\" style=\"fill:#000000; stroke:none; fill-opacity:1\" cx=\"1369.95\" cy=\"965.178\" r=\"18\"/>\n",
       "<circle clip-path=\"url(#clip7402)\" style=\"fill:#e26f46; stroke:none; fill-opacity:1\" cx=\"1369.95\" cy=\"965.178\" r=\"14\"/>\n",
       "<circle clip-path=\"url(#clip7402)\" style=\"fill:#000000; stroke:none; fill-opacity:1\" cx=\"1334.17\" cy=\"1142.42\" r=\"18\"/>\n",
       "<circle clip-path=\"url(#clip7402)\" style=\"fill:#e26f46; stroke:none; fill-opacity:1\" cx=\"1334.17\" cy=\"1142.42\" r=\"14\"/>\n",
       "<circle clip-path=\"url(#clip7402)\" style=\"fill:#000000; stroke:none; fill-opacity:1\" cx=\"1997.99\" cy=\"904.064\" r=\"18\"/>\n",
       "<circle clip-path=\"url(#clip7402)\" style=\"fill:#e26f46; stroke:none; fill-opacity:1\" cx=\"1997.99\" cy=\"904.064\" r=\"14\"/>\n",
       "<circle clip-path=\"url(#clip7402)\" style=\"fill:#000000; stroke:none; fill-opacity:1\" cx=\"1718.16\" cy=\"1097.79\" r=\"18\"/>\n",
       "<circle clip-path=\"url(#clip7402)\" style=\"fill:#e26f46; stroke:none; fill-opacity:1\" cx=\"1718.16\" cy=\"1097.79\" r=\"14\"/>\n",
       "<circle clip-path=\"url(#clip7402)\" style=\"fill:#000000; stroke:none; fill-opacity:1\" cx=\"1430.79\" cy=\"1013.91\" r=\"18\"/>\n",
       "<circle clip-path=\"url(#clip7402)\" style=\"fill:#e26f46; stroke:none; fill-opacity:1\" cx=\"1430.79\" cy=\"1013.91\" r=\"14\"/>\n",
       "<circle clip-path=\"url(#clip7402)\" style=\"fill:#000000; stroke:none; fill-opacity:1\" cx=\"2048.56\" cy=\"1294.75\" r=\"18\"/>\n",
       "<circle clip-path=\"url(#clip7402)\" style=\"fill:#e26f46; stroke:none; fill-opacity:1\" cx=\"2048.56\" cy=\"1294.75\" r=\"14\"/>\n",
       "<circle clip-path=\"url(#clip7402)\" style=\"fill:#000000; stroke:none; fill-opacity:1\" cx=\"1704.24\" cy=\"880.088\" r=\"18\"/>\n",
       "<circle clip-path=\"url(#clip7402)\" style=\"fill:#e26f46; stroke:none; fill-opacity:1\" cx=\"1704.24\" cy=\"880.088\" r=\"14\"/>\n",
       "<circle clip-path=\"url(#clip7402)\" style=\"fill:#000000; stroke:none; fill-opacity:1\" cx=\"1667.69\" cy=\"723.631\" r=\"18\"/>\n",
       "<circle clip-path=\"url(#clip7402)\" style=\"fill:#e26f46; stroke:none; fill-opacity:1\" cx=\"1667.69\" cy=\"723.631\" r=\"14\"/>\n",
       "<circle clip-path=\"url(#clip7402)\" style=\"fill:#000000; stroke:none; fill-opacity:1\" cx=\"1776.14\" cy=\"839.387\" r=\"18\"/>\n",
       "<circle clip-path=\"url(#clip7402)\" style=\"fill:#e26f46; stroke:none; fill-opacity:1\" cx=\"1776.14\" cy=\"839.387\" r=\"14\"/>\n",
       "<circle clip-path=\"url(#clip7402)\" style=\"fill:#000000; stroke:none; fill-opacity:1\" cx=\"1461.01\" cy=\"1362.53\" r=\"18\"/>\n",
       "<circle clip-path=\"url(#clip7402)\" style=\"fill:#e26f46; stroke:none; fill-opacity:1\" cx=\"1461.01\" cy=\"1362.53\" r=\"14\"/>\n",
       "<circle clip-path=\"url(#clip7402)\" style=\"fill:#000000; stroke:none; fill-opacity:1\" cx=\"1550.58\" cy=\"951.805\" r=\"18\"/>\n",
       "<circle clip-path=\"url(#clip7402)\" style=\"fill:#e26f46; stroke:none; fill-opacity:1\" cx=\"1550.58\" cy=\"951.805\" r=\"14\"/>\n",
       "<circle clip-path=\"url(#clip7402)\" style=\"fill:#000000; stroke:none; fill-opacity:1\" cx=\"1649.81\" cy=\"1032.37\" r=\"18\"/>\n",
       "<circle clip-path=\"url(#clip7402)\" style=\"fill:#e26f46; stroke:none; fill-opacity:1\" cx=\"1649.81\" cy=\"1032.37\" r=\"14\"/>\n",
       "<circle clip-path=\"url(#clip7402)\" style=\"fill:#000000; stroke:none; fill-opacity:1\" cx=\"1735.6\" cy=\"923.563\" r=\"18\"/>\n",
       "<circle clip-path=\"url(#clip7402)\" style=\"fill:#e26f46; stroke:none; fill-opacity:1\" cx=\"1735.6\" cy=\"923.563\" r=\"14\"/>\n",
       "<circle clip-path=\"url(#clip7402)\" style=\"fill:#000000; stroke:none; fill-opacity:1\" cx=\"1530.13\" cy=\"1041.42\" r=\"18\"/>\n",
       "<circle clip-path=\"url(#clip7402)\" style=\"fill:#e26f46; stroke:none; fill-opacity:1\" cx=\"1530.13\" cy=\"1041.42\" r=\"14\"/>\n",
       "<circle clip-path=\"url(#clip7402)\" style=\"fill:#000000; stroke:none; fill-opacity:1\" cx=\"1618.05\" cy=\"952.787\" r=\"18\"/>\n",
       "<circle clip-path=\"url(#clip7402)\" style=\"fill:#e26f46; stroke:none; fill-opacity:1\" cx=\"1618.05\" cy=\"952.787\" r=\"14\"/>\n",
       "<circle clip-path=\"url(#clip7402)\" style=\"fill:#000000; stroke:none; fill-opacity:1\" cx=\"1393.41\" cy=\"792.435\" r=\"18\"/>\n",
       "<circle clip-path=\"url(#clip7402)\" style=\"fill:#e26f46; stroke:none; fill-opacity:1\" cx=\"1393.41\" cy=\"792.435\" r=\"14\"/>\n",
       "<circle clip-path=\"url(#clip7402)\" style=\"fill:#000000; stroke:none; fill-opacity:1\" cx=\"1859.92\" cy=\"778.517\" r=\"18\"/>\n",
       "<circle clip-path=\"url(#clip7402)\" style=\"fill:#e26f46; stroke:none; fill-opacity:1\" cx=\"1859.92\" cy=\"778.517\" r=\"14\"/>\n",
       "<path clip-path=\"url(#clip7400)\" d=\"\n",
       "M1989.93 312.204 L2280.76 312.204 L2280.76 130.764 L1989.93 130.764  Z\n",
       "  \" fill=\"#ffffff\" fill-rule=\"evenodd\" fill-opacity=\"1\"/>\n",
       "<polyline clip-path=\"url(#clip7400)\" style=\"stroke:#000000; stroke-width:4; stroke-opacity:1; fill:none\" points=\"\n",
       "  1989.93,312.204 2280.76,312.204 2280.76,130.764 1989.93,130.764 1989.93,312.204 \n",
       "  \"/>\n",
       "<circle clip-path=\"url(#clip7400)\" style=\"fill:#000000; stroke:none; fill-opacity:1\" cx=\"2097.93\" cy=\"191.244\" r=\"25\"/>\n",
       "<circle clip-path=\"url(#clip7400)\" style=\"fill:#009af9; stroke:none; fill-opacity:1\" cx=\"2097.93\" cy=\"191.244\" r=\"21\"/>\n",
       "<g clip-path=\"url(#clip7400)\">\n",
       "<text style=\"fill:#000000; fill-opacity:1; font-family:Arial,Helvetica Neue,Helvetica,sans-serif; font-size:48px; text-anchor:start;\" transform=\"rotate(0, 2181.93, 208.744)\" x=\"2181.93\" y=\"208.744\">y1</text>\n",
       "</g>\n",
       "<circle clip-path=\"url(#clip7400)\" style=\"fill:#000000; stroke:none; fill-opacity:1\" cx=\"2097.93\" cy=\"251.724\" r=\"25\"/>\n",
       "<circle clip-path=\"url(#clip7400)\" style=\"fill:#e26f46; stroke:none; fill-opacity:1\" cx=\"2097.93\" cy=\"251.724\" r=\"21\"/>\n",
       "<g clip-path=\"url(#clip7400)\">\n",
       "<text style=\"fill:#000000; fill-opacity:1; font-family:Arial,Helvetica Neue,Helvetica,sans-serif; font-size:48px; text-anchor:start;\" transform=\"rotate(0, 2181.93, 269.224)\" x=\"2181.93\" y=\"269.224\">y2</text>\n",
       "</g>\n",
       "</svg>\n"
      ]
     },
     "execution_count": 77,
     "metadata": {},
     "output_type": "execute_result"
    }
   ],
   "source": [
    "X = zeros(2,200)\n",
    "Y = zeros(200)\n",
    "\n",
    "# Start of generating data\n",
    "for i = 1:200\n",
    "    coin_flip = abs(rand(Int64)%2) # 50-50 chance of being 1 or 0\n",
    "    \n",
    "    if (coin_flip == 0) \n",
    "        X[:,i] = randn(2,1) .+ 2.5*[-1,1]\n",
    "        Y[i] = 1\n",
    "    else\n",
    "        X[:,i] = randn(2,1) .+ 0.5*[1,1]\n",
    "        Y[i] = -1\n",
    "    end\n",
    "end\n",
    "# Standardize the data points to have zero mean and unit standard deviation\n",
    "means = mean(X, dims=2)[:] # Means\n",
    "std_factor = [(1.0./std(X, dims= 2)[i])*(i == j) for i = 1:2, j = 1:2] # 1 / (standard deviations)\n",
    "X = X .- means # Subtract means \n",
    "X = std_factor*X # Standardize \n",
    "# End of generating data\n",
    "\n",
    "scatter(X[1,Y .== 1],X[2,Y .== 1])\n",
    "scatter!(X[1,Y .== -1],X[2,Y .== -1])"
   ]
  },
  {
   "cell_type": "markdown",
   "metadata": {},
   "source": [
    "Notice how we can obtain the data points corresponding to a particular label by indexing the data points with the \n",
    "\n",
    "boolean vector ```Y .== 1``` or ```Y .== -1```."
   ]
  },
  {
   "cell_type": "markdown",
   "metadata": {},
   "source": [
    "For example, to get the data points with the ```-1``` label, we use:"
   ]
  },
  {
   "cell_type": "code",
   "execution_count": 78,
   "metadata": {},
   "outputs": [
    {
     "data": {
      "text/plain": [
       "2×96 Array{Float64,2}:\n",
       "  1.52767    1.7869   -5.63494e-5  …   0.916927   0.369668   1.50618   \n",
       " -0.445905  -1.85236  -0.322594       -0.667883  -0.0504771  0.00311057"
      ]
     },
     "execution_count": 78,
     "metadata": {},
     "output_type": "execute_result"
    }
   ],
   "source": [
    "X[:,Y .== -1]"
   ]
  },
  {
   "cell_type": "markdown",
   "metadata": {},
   "source": [
    "You can use this in doing this next question."
   ]
  },
  {
   "cell_type": "markdown",
   "metadata": {},
   "source": [
    "**Exercise:** Using ```Convex``` and referring to the example in the Julia documentation here: https://www.juliaopt.org/Convex.jl/dev/examples/general_examples/svm/, solve for the optimizing $w \\in R^2$ and $b \\in R$ which describe the line best separating the labelled data points we just created. You can use $C = 1$. \n",
    "\n",
    "Store the values of the optimizing vector $w$ and scalar $b$ in variables called ```w_``` and ```b_``` respectively. \n",
    "\n",
    "Note that we don't call our data points from each category $x_i$ and $y_i$ as in the documentation, our ```X``` are all the data points and our ```Y``` is the corresponding labels so don't get confused by this. Moreover, you don't need to do exactly as in the documentation creating a function, just understand and copy what you need."
   ]
  },
  {
   "cell_type": "code",
   "execution_count": 83,
   "metadata": {},
   "outputs": [
    {
     "name": "stdout",
     "output_type": "stream",
     "text": [
      "----------------------------------------------------------------------------\n",
      "\tSCS v2.0.2 - Splitting Conic Solver\n",
      "\t(c) Brendan O'Donoghue, Stanford University, 2012-2017\n",
      "----------------------------------------------------------------------------\n",
      "Lin-sys: sparse-indirect, nnz in A = 1208, CG tol ~ 1/iter^(2.00)\n",
      "eps = 1.00e-05, alpha = 1.50, max_iters = 5000, normalize = 1, scale = 1.00\n",
      "acceleration_lookback = 20, rho_x = 1.00e-03\n",
      "Variables n = 206, constraints m = 408\n",
      "Cones:\tprimal zero / dual free vars: 1\n",
      "\tlinear vars: 401\n",
      "\tsoc vars: 6, soc blks: 2\n",
      "Setup time: 1.27e-04s\n",
      "----------------------------------------------------------------------------\n",
      " Iter | pri res | dua res | rel gap | pri obj | dua obj | kap/tau | time (s)\n",
      "----------------------------------------------------------------------------\n",
      "     0| 8.12e+20  2.86e+21  1.00e+00 -2.17e+22  1.40e+22  2.60e+21  9.98e-04 \n",
      "   100| 1.15e-07  4.54e-06  3.13e-07  2.39e+01  2.39e+01  7.65e-15  1.20e-02 \n",
      "----------------------------------------------------------------------------\n",
      "Status: Solved\n",
      "Timing: Solve time: 1.20e-02s\n",
      "\tLin-sys: avg # CG iterations: 4.14, avg solve time: 3.22e-05s\n",
      "\tCones: avg projection time: 1.18e-06s\n",
      "\tAcceleration: avg step time: 6.49e-05s\n",
      "----------------------------------------------------------------------------\n",
      "Error metrics:\n",
      "dist(s, K) = 2.1128e-11, dist(y, K*) = 1.0565e-11, s'y/|s||y| = -6.7328e-13\n",
      "primal res: |Ax + s - b|_2 / (1 + |b|_2) = 1.1544e-07\n",
      "dual res:   |A'y + c|_2 / (1 + |c|_2) = 4.5425e-06\n",
      "rel gap:    |c'x + b'y| / (1 + |c'x| + |b'y|) = 3.1317e-07\n",
      "----------------------------------------------------------------------------\n",
      "c'x = 23.9280, -b'y = 23.9280\n",
      "============================================================================\n"
     ]
    },
    {
     "data": {
      "text/plain": [
       "-0.13995349922107342"
      ]
     },
     "execution_count": 83,
     "metadata": {},
     "output_type": "execute_result"
    }
   ],
   "source": [
    "# BEGIN SOLUTION\n",
    "# Create variables for the separating hyperplane w'*x = b.\n",
    "w = Variable(2)\n",
    "b = Variable()\n",
    "# Form the objective.\n",
    "obj = sumsquares(w) + sum(max(1+b-w'*X[:,Y .== 1], 0)) + sum(max(1-b+w'*X[:,Y .== -1], 0))\n",
    "# Form and solve problem.\n",
    "problem = minimize(obj)\n",
    "solve!(problem, SCSSolver())\n",
    "w_ = evaluate(w)\n",
    "b_ = evaluate(b)"
   ]
  },
  {
   "cell_type": "markdown",
   "metadata": {},
   "source": [
    "The line in the $x$-$y$ plane is given by $w_1x + w_2y = b$ so we plot it and the data accordingly. If you did this correctly, the plotted line should look like it's separating the classes well."
   ]
  },
  {
   "cell_type": "code",
   "execution_count": 84,
   "metadata": {},
   "outputs": [
    {
     "data": {
      "image/svg+xml": [
       "<?xml version=\"1.0\" encoding=\"utf-8\"?>\n",
       "<svg xmlns=\"http://www.w3.org/2000/svg\" xmlns:xlink=\"http://www.w3.org/1999/xlink\" width=\"600\" height=\"400\" viewBox=\"0 0 2400 1600\">\n",
       "<defs>\n",
       "  <clipPath id=\"clip7800\">\n",
       "    <rect x=\"0\" y=\"0\" width=\"2400\" height=\"1600\"/>\n",
       "  </clipPath>\n",
       "</defs>\n",
       "<path clip-path=\"url(#clip7800)\" d=\"\n",
       "M0 1600 L2400 1600 L2400 0 L0 0  Z\n",
       "  \" fill=\"#ffffff\" fill-rule=\"evenodd\" fill-opacity=\"1\"/>\n",
       "<defs>\n",
       "  <clipPath id=\"clip7801\">\n",
       "    <rect x=\"480\" y=\"0\" width=\"1681\" height=\"1600\"/>\n",
       "  </clipPath>\n",
       "</defs>\n",
       "<path clip-path=\"url(#clip7800)\" d=\"\n",
       "M141.865 1487.47 L2352.76 1487.47 L2352.76 47.2441 L141.865 47.2441  Z\n",
       "  \" fill=\"#ffffff\" fill-rule=\"evenodd\" fill-opacity=\"1\"/>\n",
       "<defs>\n",
       "  <clipPath id=\"clip7802\">\n",
       "    <rect x=\"141\" y=\"47\" width=\"2212\" height=\"1441\"/>\n",
       "  </clipPath>\n",
       "</defs>\n",
       "<polyline clip-path=\"url(#clip7802)\" style=\"stroke:#000000; stroke-width:2; stroke-opacity:0.1; fill:none\" points=\"\n",
       "  420.72,1487.47 420.72,47.2441 \n",
       "  \"/>\n",
       "<polyline clip-path=\"url(#clip7802)\" style=\"stroke:#000000; stroke-width:2; stroke-opacity:0.1; fill:none\" points=\"\n",
       "  831.196,1487.47 831.196,47.2441 \n",
       "  \"/>\n",
       "<polyline clip-path=\"url(#clip7802)\" style=\"stroke:#000000; stroke-width:2; stroke-opacity:0.1; fill:none\" points=\"\n",
       "  1241.67,1487.47 1241.67,47.2441 \n",
       "  \"/>\n",
       "<polyline clip-path=\"url(#clip7802)\" style=\"stroke:#000000; stroke-width:2; stroke-opacity:0.1; fill:none\" points=\"\n",
       "  1652.15,1487.47 1652.15,47.2441 \n",
       "  \"/>\n",
       "<polyline clip-path=\"url(#clip7802)\" style=\"stroke:#000000; stroke-width:2; stroke-opacity:0.1; fill:none\" points=\"\n",
       "  2062.62,1487.47 2062.62,47.2441 \n",
       "  \"/>\n",
       "<polyline clip-path=\"url(#clip7802)\" style=\"stroke:#000000; stroke-width:2; stroke-opacity:0.1; fill:none\" points=\"\n",
       "  141.865,1441.07 2352.76,1441.07 \n",
       "  \"/>\n",
       "<polyline clip-path=\"url(#clip7802)\" style=\"stroke:#000000; stroke-width:2; stroke-opacity:0.1; fill:none\" points=\"\n",
       "  141.865,1204.69 2352.76,1204.69 \n",
       "  \"/>\n",
       "<polyline clip-path=\"url(#clip7802)\" style=\"stroke:#000000; stroke-width:2; stroke-opacity:0.1; fill:none\" points=\"\n",
       "  141.865,968.309 2352.76,968.309 \n",
       "  \"/>\n",
       "<polyline clip-path=\"url(#clip7802)\" style=\"stroke:#000000; stroke-width:2; stroke-opacity:0.1; fill:none\" points=\"\n",
       "  141.865,731.927 2352.76,731.927 \n",
       "  \"/>\n",
       "<polyline clip-path=\"url(#clip7802)\" style=\"stroke:#000000; stroke-width:2; stroke-opacity:0.1; fill:none\" points=\"\n",
       "  141.865,495.546 2352.76,495.546 \n",
       "  \"/>\n",
       "<polyline clip-path=\"url(#clip7802)\" style=\"stroke:#000000; stroke-width:2; stroke-opacity:0.1; fill:none\" points=\"\n",
       "  141.865,259.164 2352.76,259.164 \n",
       "  \"/>\n",
       "<polyline clip-path=\"url(#clip7800)\" style=\"stroke:#000000; stroke-width:4; stroke-opacity:1; fill:none\" points=\"\n",
       "  141.865,1487.47 2352.76,1487.47 \n",
       "  \"/>\n",
       "<polyline clip-path=\"url(#clip7800)\" style=\"stroke:#000000; stroke-width:4; stroke-opacity:1; fill:none\" points=\"\n",
       "  141.865,1487.47 141.865,47.2441 \n",
       "  \"/>\n",
       "<polyline clip-path=\"url(#clip7800)\" style=\"stroke:#000000; stroke-width:4; stroke-opacity:1; fill:none\" points=\"\n",
       "  420.72,1487.47 420.72,1465.87 \n",
       "  \"/>\n",
       "<polyline clip-path=\"url(#clip7800)\" style=\"stroke:#000000; stroke-width:4; stroke-opacity:1; fill:none\" points=\"\n",
       "  831.196,1487.47 831.196,1465.87 \n",
       "  \"/>\n",
       "<polyline clip-path=\"url(#clip7800)\" style=\"stroke:#000000; stroke-width:4; stroke-opacity:1; fill:none\" points=\"\n",
       "  1241.67,1487.47 1241.67,1465.87 \n",
       "  \"/>\n",
       "<polyline clip-path=\"url(#clip7800)\" style=\"stroke:#000000; stroke-width:4; stroke-opacity:1; fill:none\" points=\"\n",
       "  1652.15,1487.47 1652.15,1465.87 \n",
       "  \"/>\n",
       "<polyline clip-path=\"url(#clip7800)\" style=\"stroke:#000000; stroke-width:4; stroke-opacity:1; fill:none\" points=\"\n",
       "  2062.62,1487.47 2062.62,1465.87 \n",
       "  \"/>\n",
       "<polyline clip-path=\"url(#clip7800)\" style=\"stroke:#000000; stroke-width:4; stroke-opacity:1; fill:none\" points=\"\n",
       "  141.865,1441.07 175.028,1441.07 \n",
       "  \"/>\n",
       "<polyline clip-path=\"url(#clip7800)\" style=\"stroke:#000000; stroke-width:4; stroke-opacity:1; fill:none\" points=\"\n",
       "  141.865,1204.69 175.028,1204.69 \n",
       "  \"/>\n",
       "<polyline clip-path=\"url(#clip7800)\" style=\"stroke:#000000; stroke-width:4; stroke-opacity:1; fill:none\" points=\"\n",
       "  141.865,968.309 175.028,968.309 \n",
       "  \"/>\n",
       "<polyline clip-path=\"url(#clip7800)\" style=\"stroke:#000000; stroke-width:4; stroke-opacity:1; fill:none\" points=\"\n",
       "  141.865,731.927 175.028,731.927 \n",
       "  \"/>\n",
       "<polyline clip-path=\"url(#clip7800)\" style=\"stroke:#000000; stroke-width:4; stroke-opacity:1; fill:none\" points=\"\n",
       "  141.865,495.546 175.028,495.546 \n",
       "  \"/>\n",
       "<polyline clip-path=\"url(#clip7800)\" style=\"stroke:#000000; stroke-width:4; stroke-opacity:1; fill:none\" points=\"\n",
       "  141.865,259.164 175.028,259.164 \n",
       "  \"/>\n",
       "<g clip-path=\"url(#clip7800)\">\n",
       "<text style=\"fill:#000000; fill-opacity:1; font-family:Arial,Helvetica Neue,Helvetica,sans-serif; font-size:48px; text-anchor:middle;\" transform=\"rotate(0, 420.72, 1541.47)\" x=\"420.72\" y=\"1541.47\">-2</text>\n",
       "</g>\n",
       "<g clip-path=\"url(#clip7800)\">\n",
       "<text style=\"fill:#000000; fill-opacity:1; font-family:Arial,Helvetica Neue,Helvetica,sans-serif; font-size:48px; text-anchor:middle;\" transform=\"rotate(0, 831.196, 1541.47)\" x=\"831.196\" y=\"1541.47\">-1</text>\n",
       "</g>\n",
       "<g clip-path=\"url(#clip7800)\">\n",
       "<text style=\"fill:#000000; fill-opacity:1; font-family:Arial,Helvetica Neue,Helvetica,sans-serif; font-size:48px; text-anchor:middle;\" transform=\"rotate(0, 1241.67, 1541.47)\" x=\"1241.67\" y=\"1541.47\">0</text>\n",
       "</g>\n",
       "<g clip-path=\"url(#clip7800)\">\n",
       "<text style=\"fill:#000000; fill-opacity:1; font-family:Arial,Helvetica Neue,Helvetica,sans-serif; font-size:48px; text-anchor:middle;\" transform=\"rotate(0, 1652.15, 1541.47)\" x=\"1652.15\" y=\"1541.47\">1</text>\n",
       "</g>\n",
       "<g clip-path=\"url(#clip7800)\">\n",
       "<text style=\"fill:#000000; fill-opacity:1; font-family:Arial,Helvetica Neue,Helvetica,sans-serif; font-size:48px; text-anchor:middle;\" transform=\"rotate(0, 2062.62, 1541.47)\" x=\"2062.62\" y=\"1541.47\">2</text>\n",
       "</g>\n",
       "<g clip-path=\"url(#clip7800)\">\n",
       "<text style=\"fill:#000000; fill-opacity:1; font-family:Arial,Helvetica Neue,Helvetica,sans-serif; font-size:48px; text-anchor:end;\" transform=\"rotate(0, 117.865, 1458.57)\" x=\"117.865\" y=\"1458.57\">-3</text>\n",
       "</g>\n",
       "<g clip-path=\"url(#clip7800)\">\n",
       "<text style=\"fill:#000000; fill-opacity:1; font-family:Arial,Helvetica Neue,Helvetica,sans-serif; font-size:48px; text-anchor:end;\" transform=\"rotate(0, 117.865, 1222.19)\" x=\"117.865\" y=\"1222.19\">-2</text>\n",
       "</g>\n",
       "<g clip-path=\"url(#clip7800)\">\n",
       "<text style=\"fill:#000000; fill-opacity:1; font-family:Arial,Helvetica Neue,Helvetica,sans-serif; font-size:48px; text-anchor:end;\" transform=\"rotate(0, 117.865, 985.809)\" x=\"117.865\" y=\"985.809\">-1</text>\n",
       "</g>\n",
       "<g clip-path=\"url(#clip7800)\">\n",
       "<text style=\"fill:#000000; fill-opacity:1; font-family:Arial,Helvetica Neue,Helvetica,sans-serif; font-size:48px; text-anchor:end;\" transform=\"rotate(0, 117.865, 749.427)\" x=\"117.865\" y=\"749.427\">0</text>\n",
       "</g>\n",
       "<g clip-path=\"url(#clip7800)\">\n",
       "<text style=\"fill:#000000; fill-opacity:1; font-family:Arial,Helvetica Neue,Helvetica,sans-serif; font-size:48px; text-anchor:end;\" transform=\"rotate(0, 117.865, 513.046)\" x=\"117.865\" y=\"513.046\">1</text>\n",
       "</g>\n",
       "<g clip-path=\"url(#clip7800)\">\n",
       "<text style=\"fill:#000000; fill-opacity:1; font-family:Arial,Helvetica Neue,Helvetica,sans-serif; font-size:48px; text-anchor:end;\" transform=\"rotate(0, 117.865, 276.664)\" x=\"117.865\" y=\"276.664\">2</text>\n",
       "</g>\n",
       "<circle clip-path=\"url(#clip7802)\" style=\"fill:#000000; stroke:none; fill-opacity:1\" cx=\"749.692\" cy=\"583.944\" r=\"18\"/>\n",
       "<circle clip-path=\"url(#clip7802)\" style=\"fill:#009af9; stroke:none; fill-opacity:1\" cx=\"749.692\" cy=\"583.944\" r=\"14\"/>\n",
       "<circle clip-path=\"url(#clip7802)\" style=\"fill:#000000; stroke:none; fill-opacity:1\" cx=\"863.1\" cy=\"433.605\" r=\"18\"/>\n",
       "<circle clip-path=\"url(#clip7802)\" style=\"fill:#009af9; stroke:none; fill-opacity:1\" cx=\"863.1\" cy=\"433.605\" r=\"14\"/>\n",
       "<circle clip-path=\"url(#clip7802)\" style=\"fill:#000000; stroke:none; fill-opacity:1\" cx=\"757.979\" cy=\"893.106\" r=\"18\"/>\n",
       "<circle clip-path=\"url(#clip7802)\" style=\"fill:#009af9; stroke:none; fill-opacity:1\" cx=\"757.979\" cy=\"893.106\" r=\"14\"/>\n",
       "<circle clip-path=\"url(#clip7802)\" style=\"fill:#000000; stroke:none; fill-opacity:1\" cx=\"1121.35\" cy=\"932.242\" r=\"18\"/>\n",
       "<circle clip-path=\"url(#clip7802)\" style=\"fill:#009af9; stroke:none; fill-opacity:1\" cx=\"1121.35\" cy=\"932.242\" r=\"14\"/>\n",
       "<circle clip-path=\"url(#clip7802)\" style=\"fill:#000000; stroke:none; fill-opacity:1\" cx=\"586.713\" cy=\"611.194\" r=\"18\"/>\n",
       "<circle clip-path=\"url(#clip7802)\" style=\"fill:#009af9; stroke:none; fill-opacity:1\" cx=\"586.713\" cy=\"611.194\" r=\"14\"/>\n",
       "<circle clip-path=\"url(#clip7802)\" style=\"fill:#000000; stroke:none; fill-opacity:1\" cx=\"942.967\" cy=\"530.795\" r=\"18\"/>\n",
       "<circle clip-path=\"url(#clip7802)\" style=\"fill:#009af9; stroke:none; fill-opacity:1\" cx=\"942.967\" cy=\"530.795\" r=\"14\"/>\n",
       "<circle clip-path=\"url(#clip7802)\" style=\"fill:#000000; stroke:none; fill-opacity:1\" cx=\"870.511\" cy=\"480.399\" r=\"18\"/>\n",
       "<circle clip-path=\"url(#clip7802)\" style=\"fill:#009af9; stroke:none; fill-opacity:1\" cx=\"870.511\" cy=\"480.399\" r=\"14\"/>\n",
       "<circle clip-path=\"url(#clip7802)\" style=\"fill:#000000; stroke:none; fill-opacity:1\" cx=\"1342.57\" cy=\"600.918\" r=\"18\"/>\n",
       "<circle clip-path=\"url(#clip7802)\" style=\"fill:#009af9; stroke:none; fill-opacity:1\" cx=\"1342.57\" cy=\"600.918\" r=\"14\"/>\n",
       "<circle clip-path=\"url(#clip7802)\" style=\"fill:#000000; stroke:none; fill-opacity:1\" cx=\"908.81\" cy=\"821.492\" r=\"18\"/>\n",
       "<circle clip-path=\"url(#clip7802)\" style=\"fill:#009af9; stroke:none; fill-opacity:1\" cx=\"908.81\" cy=\"821.492\" r=\"14\"/>\n",
       "<circle clip-path=\"url(#clip7802)\" style=\"fill:#000000; stroke:none; fill-opacity:1\" cx=\"917.063\" cy=\"590.89\" r=\"18\"/>\n",
       "<circle clip-path=\"url(#clip7802)\" style=\"fill:#009af9; stroke:none; fill-opacity:1\" cx=\"917.063\" cy=\"590.89\" r=\"14\"/>\n",
       "<circle clip-path=\"url(#clip7802)\" style=\"fill:#000000; stroke:none; fill-opacity:1\" cx=\"1068\" cy=\"701.525\" r=\"18\"/>\n",
       "<circle clip-path=\"url(#clip7802)\" style=\"fill:#009af9; stroke:none; fill-opacity:1\" cx=\"1068\" cy=\"701.525\" r=\"14\"/>\n",
       "<circle clip-path=\"url(#clip7802)\" style=\"fill:#000000; stroke:none; fill-opacity:1\" cx=\"653.21\" cy=\"375.629\" r=\"18\"/>\n",
       "<circle clip-path=\"url(#clip7802)\" style=\"fill:#009af9; stroke:none; fill-opacity:1\" cx=\"653.21\" cy=\"375.629\" r=\"14\"/>\n",
       "<circle clip-path=\"url(#clip7802)\" style=\"fill:#000000; stroke:none; fill-opacity:1\" cx=\"1065.64\" cy=\"494.359\" r=\"18\"/>\n",
       "<circle clip-path=\"url(#clip7802)\" style=\"fill:#009af9; stroke:none; fill-opacity:1\" cx=\"1065.64\" cy=\"494.359\" r=\"14\"/>\n",
       "<circle clip-path=\"url(#clip7802)\" style=\"fill:#000000; stroke:none; fill-opacity:1\" cx=\"758.647\" cy=\"679.434\" r=\"18\"/>\n",
       "<circle clip-path=\"url(#clip7802)\" style=\"fill:#009af9; stroke:none; fill-opacity:1\" cx=\"758.647\" cy=\"679.434\" r=\"14\"/>\n",
       "<circle clip-path=\"url(#clip7802)\" style=\"fill:#000000; stroke:none; fill-opacity:1\" cx=\"1190.95\" cy=\"728.823\" r=\"18\"/>\n",
       "<circle clip-path=\"url(#clip7802)\" style=\"fill:#009af9; stroke:none; fill-opacity:1\" cx=\"1190.95\" cy=\"728.823\" r=\"14\"/>\n",
       "<circle clip-path=\"url(#clip7802)\" style=\"fill:#000000; stroke:none; fill-opacity:1\" cx=\"941.753\" cy=\"602.449\" r=\"18\"/>\n",
       "<circle clip-path=\"url(#clip7802)\" style=\"fill:#009af9; stroke:none; fill-opacity:1\" cx=\"941.753\" cy=\"602.449\" r=\"14\"/>\n",
       "<circle clip-path=\"url(#clip7802)\" style=\"fill:#000000; stroke:none; fill-opacity:1\" cx=\"1111.97\" cy=\"639.456\" r=\"18\"/>\n",
       "<circle clip-path=\"url(#clip7802)\" style=\"fill:#009af9; stroke:none; fill-opacity:1\" cx=\"1111.97\" cy=\"639.456\" r=\"14\"/>\n",
       "<circle clip-path=\"url(#clip7802)\" style=\"fill:#000000; stroke:none; fill-opacity:1\" cx=\"933.881\" cy=\"501.323\" r=\"18\"/>\n",
       "<circle clip-path=\"url(#clip7802)\" style=\"fill:#009af9; stroke:none; fill-opacity:1\" cx=\"933.881\" cy=\"501.323\" r=\"14\"/>\n",
       "<circle clip-path=\"url(#clip7802)\" style=\"fill:#000000; stroke:none; fill-opacity:1\" cx=\"1289.13\" cy=\"710.691\" r=\"18\"/>\n",
       "<circle clip-path=\"url(#clip7802)\" style=\"fill:#009af9; stroke:none; fill-opacity:1\" cx=\"1289.13\" cy=\"710.691\" r=\"14\"/>\n",
       "<circle clip-path=\"url(#clip7802)\" style=\"fill:#000000; stroke:none; fill-opacity:1\" cx=\"875.533\" cy=\"445.574\" r=\"18\"/>\n",
       "<circle clip-path=\"url(#clip7802)\" style=\"fill:#009af9; stroke:none; fill-opacity:1\" cx=\"875.533\" cy=\"445.574\" r=\"14\"/>\n",
       "<circle clip-path=\"url(#clip7802)\" style=\"fill:#000000; stroke:none; fill-opacity:1\" cx=\"1255.09\" cy=\"680.233\" r=\"18\"/>\n",
       "<circle clip-path=\"url(#clip7802)\" style=\"fill:#009af9; stroke:none; fill-opacity:1\" cx=\"1255.09\" cy=\"680.233\" r=\"14\"/>\n",
       "<circle clip-path=\"url(#clip7802)\" style=\"fill:#000000; stroke:none; fill-opacity:1\" cx=\"968.502\" cy=\"550.871\" r=\"18\"/>\n",
       "<circle clip-path=\"url(#clip7802)\" style=\"fill:#009af9; stroke:none; fill-opacity:1\" cx=\"968.502\" cy=\"550.871\" r=\"14\"/>\n",
       "<circle clip-path=\"url(#clip7802)\" style=\"fill:#000000; stroke:none; fill-opacity:1\" cx=\"1114.92\" cy=\"305.026\" r=\"18\"/>\n",
       "<circle clip-path=\"url(#clip7802)\" style=\"fill:#009af9; stroke:none; fill-opacity:1\" cx=\"1114.92\" cy=\"305.026\" r=\"14\"/>\n",
       "<circle clip-path=\"url(#clip7802)\" style=\"fill:#000000; stroke:none; fill-opacity:1\" cx=\"887.463\" cy=\"587.152\" r=\"18\"/>\n",
       "<circle clip-path=\"url(#clip7802)\" style=\"fill:#009af9; stroke:none; fill-opacity:1\" cx=\"887.463\" cy=\"587.152\" r=\"14\"/>\n",
       "<circle clip-path=\"url(#clip7802)\" style=\"fill:#000000; stroke:none; fill-opacity:1\" cx=\"1064.33\" cy=\"300.821\" r=\"18\"/>\n",
       "<circle clip-path=\"url(#clip7802)\" style=\"fill:#009af9; stroke:none; fill-opacity:1\" cx=\"1064.33\" cy=\"300.821\" r=\"14\"/>\n",
       "<circle clip-path=\"url(#clip7802)\" style=\"fill:#000000; stroke:none; fill-opacity:1\" cx=\"496.926\" cy=\"529.424\" r=\"18\"/>\n",
       "<circle clip-path=\"url(#clip7802)\" style=\"fill:#009af9; stroke:none; fill-opacity:1\" cx=\"496.926\" cy=\"529.424\" r=\"14\"/>\n",
       "<circle clip-path=\"url(#clip7802)\" style=\"fill:#000000; stroke:none; fill-opacity:1\" cx=\"1094.97\" cy=\"556.384\" r=\"18\"/>\n",
       "<circle clip-path=\"url(#clip7802)\" style=\"fill:#009af9; stroke:none; fill-opacity:1\" cx=\"1094.97\" cy=\"556.384\" r=\"14\"/>\n",
       "<circle clip-path=\"url(#clip7802)\" style=\"fill:#000000; stroke:none; fill-opacity:1\" cx=\"1230.54\" cy=\"380.549\" r=\"18\"/>\n",
       "<circle clip-path=\"url(#clip7802)\" style=\"fill:#009af9; stroke:none; fill-opacity:1\" cx=\"1230.54\" cy=\"380.549\" r=\"14\"/>\n",
       "<circle clip-path=\"url(#clip7802)\" style=\"fill:#000000; stroke:none; fill-opacity:1\" cx=\"879.491\" cy=\"492.388\" r=\"18\"/>\n",
       "<circle clip-path=\"url(#clip7802)\" style=\"fill:#009af9; stroke:none; fill-opacity:1\" cx=\"879.491\" cy=\"492.388\" r=\"14\"/>\n",
       "<circle clip-path=\"url(#clip7802)\" style=\"fill:#000000; stroke:none; fill-opacity:1\" cx=\"1016.47\" cy=\"425.387\" r=\"18\"/>\n",
       "<circle clip-path=\"url(#clip7802)\" style=\"fill:#009af9; stroke:none; fill-opacity:1\" cx=\"1016.47\" cy=\"425.387\" r=\"14\"/>\n",
       "<circle clip-path=\"url(#clip7802)\" style=\"fill:#000000; stroke:none; fill-opacity:1\" cx=\"870.22\" cy=\"561.683\" r=\"18\"/>\n",
       "<circle clip-path=\"url(#clip7802)\" style=\"fill:#009af9; stroke:none; fill-opacity:1\" cx=\"870.22\" cy=\"561.683\" r=\"14\"/>\n",
       "<circle clip-path=\"url(#clip7802)\" style=\"fill:#000000; stroke:none; fill-opacity:1\" cx=\"956.323\" cy=\"780.817\" r=\"18\"/>\n",
       "<circle clip-path=\"url(#clip7802)\" style=\"fill:#009af9; stroke:none; fill-opacity:1\" cx=\"956.323\" cy=\"780.817\" r=\"14\"/>\n",
       "<circle clip-path=\"url(#clip7802)\" style=\"fill:#000000; stroke:none; fill-opacity:1\" cx=\"1062.79\" cy=\"710.955\" r=\"18\"/>\n",
       "<circle clip-path=\"url(#clip7802)\" style=\"fill:#009af9; stroke:none; fill-opacity:1\" cx=\"1062.79\" cy=\"710.955\" r=\"14\"/>\n",
       "<circle clip-path=\"url(#clip7802)\" style=\"fill:#000000; stroke:none; fill-opacity:1\" cx=\"365.021\" cy=\"541.015\" r=\"18\"/>\n",
       "<circle clip-path=\"url(#clip7802)\" style=\"fill:#009af9; stroke:none; fill-opacity:1\" cx=\"365.021\" cy=\"541.015\" r=\"14\"/>\n",
       "<circle clip-path=\"url(#clip7802)\" style=\"fill:#000000; stroke:none; fill-opacity:1\" cx=\"929.2\" cy=\"404.847\" r=\"18\"/>\n",
       "<circle clip-path=\"url(#clip7802)\" style=\"fill:#009af9; stroke:none; fill-opacity:1\" cx=\"929.2\" cy=\"404.847\" r=\"14\"/>\n",
       "<circle clip-path=\"url(#clip7802)\" style=\"fill:#000000; stroke:none; fill-opacity:1\" cx=\"967.862\" cy=\"416.693\" r=\"18\"/>\n",
       "<circle clip-path=\"url(#clip7802)\" style=\"fill:#009af9; stroke:none; fill-opacity:1\" cx=\"967.862\" cy=\"416.693\" r=\"14\"/>\n",
       "<circle clip-path=\"url(#clip7802)\" style=\"fill:#000000; stroke:none; fill-opacity:1\" cx=\"710.417\" cy=\"687.821\" r=\"18\"/>\n",
       "<circle clip-path=\"url(#clip7802)\" style=\"fill:#009af9; stroke:none; fill-opacity:1\" cx=\"710.417\" cy=\"687.821\" r=\"14\"/>\n",
       "<circle clip-path=\"url(#clip7802)\" style=\"fill:#000000; stroke:none; fill-opacity:1\" cx=\"718.34\" cy=\"761.869\" r=\"18\"/>\n",
       "<circle clip-path=\"url(#clip7802)\" style=\"fill:#009af9; stroke:none; fill-opacity:1\" cx=\"718.34\" cy=\"761.869\" r=\"14\"/>\n",
       "<circle clip-path=\"url(#clip7802)\" style=\"fill:#000000; stroke:none; fill-opacity:1\" cx=\"716.851\" cy=\"585.564\" r=\"18\"/>\n",
       "<circle clip-path=\"url(#clip7802)\" style=\"fill:#009af9; stroke:none; fill-opacity:1\" cx=\"716.851\" cy=\"585.564\" r=\"14\"/>\n",
       "<circle clip-path=\"url(#clip7802)\" style=\"fill:#000000; stroke:none; fill-opacity:1\" cx=\"1233.6\" cy=\"363.058\" r=\"18\"/>\n",
       "<circle clip-path=\"url(#clip7802)\" style=\"fill:#009af9; stroke:none; fill-opacity:1\" cx=\"1233.6\" cy=\"363.058\" r=\"14\"/>\n",
       "<circle clip-path=\"url(#clip7802)\" style=\"fill:#000000; stroke:none; fill-opacity:1\" cx=\"757.253\" cy=\"707.993\" r=\"18\"/>\n",
       "<circle clip-path=\"url(#clip7802)\" style=\"fill:#009af9; stroke:none; fill-opacity:1\" cx=\"757.253\" cy=\"707.993\" r=\"14\"/>\n",
       "<circle clip-path=\"url(#clip7802)\" style=\"fill:#000000; stroke:none; fill-opacity:1\" cx=\"1160.82\" cy=\"380.949\" r=\"18\"/>\n",
       "<circle clip-path=\"url(#clip7802)\" style=\"fill:#009af9; stroke:none; fill-opacity:1\" cx=\"1160.82\" cy=\"380.949\" r=\"14\"/>\n",
       "<circle clip-path=\"url(#clip7802)\" style=\"fill:#000000; stroke:none; fill-opacity:1\" cx=\"825.974\" cy=\"156.915\" r=\"18\"/>\n",
       "<circle clip-path=\"url(#clip7802)\" style=\"fill:#009af9; stroke:none; fill-opacity:1\" cx=\"825.974\" cy=\"156.915\" r=\"14\"/>\n",
       "<circle clip-path=\"url(#clip7802)\" style=\"fill:#000000; stroke:none; fill-opacity:1\" cx=\"935.081\" cy=\"867.093\" r=\"18\"/>\n",
       "<circle clip-path=\"url(#clip7802)\" style=\"fill:#009af9; stroke:none; fill-opacity:1\" cx=\"935.081\" cy=\"867.093\" r=\"14\"/>\n",
       "<circle clip-path=\"url(#clip7802)\" style=\"fill:#000000; stroke:none; fill-opacity:1\" cx=\"387.601\" cy=\"664.94\" r=\"18\"/>\n",
       "<circle clip-path=\"url(#clip7802)\" style=\"fill:#009af9; stroke:none; fill-opacity:1\" cx=\"387.601\" cy=\"664.94\" r=\"14\"/>\n",
       "<circle clip-path=\"url(#clip7802)\" style=\"fill:#000000; stroke:none; fill-opacity:1\" cx=\"441.391\" cy=\"739.598\" r=\"18\"/>\n",
       "<circle clip-path=\"url(#clip7802)\" style=\"fill:#009af9; stroke:none; fill-opacity:1\" cx=\"441.391\" cy=\"739.598\" r=\"14\"/>\n",
       "<circle clip-path=\"url(#clip7802)\" style=\"fill:#000000; stroke:none; fill-opacity:1\" cx=\"1155.53\" cy=\"258.598\" r=\"18\"/>\n",
       "<circle clip-path=\"url(#clip7802)\" style=\"fill:#009af9; stroke:none; fill-opacity:1\" cx=\"1155.53\" cy=\"258.598\" r=\"14\"/>\n",
       "<circle clip-path=\"url(#clip7802)\" style=\"fill:#000000; stroke:none; fill-opacity:1\" cx=\"926.954\" cy=\"596.6\" r=\"18\"/>\n",
       "<circle clip-path=\"url(#clip7802)\" style=\"fill:#009af9; stroke:none; fill-opacity:1\" cx=\"926.954\" cy=\"596.6\" r=\"14\"/>\n",
       "<circle clip-path=\"url(#clip7802)\" style=\"fill:#000000; stroke:none; fill-opacity:1\" cx=\"903.18\" cy=\"614.723\" r=\"18\"/>\n",
       "<circle clip-path=\"url(#clip7802)\" style=\"fill:#009af9; stroke:none; fill-opacity:1\" cx=\"903.18\" cy=\"614.723\" r=\"14\"/>\n",
       "<circle clip-path=\"url(#clip7802)\" style=\"fill:#000000; stroke:none; fill-opacity:1\" cx=\"1061.59\" cy=\"653.569\" r=\"18\"/>\n",
       "<circle clip-path=\"url(#clip7802)\" style=\"fill:#009af9; stroke:none; fill-opacity:1\" cx=\"1061.59\" cy=\"653.569\" r=\"14\"/>\n",
       "<circle clip-path=\"url(#clip7802)\" style=\"fill:#000000; stroke:none; fill-opacity:1\" cx=\"915.812\" cy=\"541.417\" r=\"18\"/>\n",
       "<circle clip-path=\"url(#clip7802)\" style=\"fill:#009af9; stroke:none; fill-opacity:1\" cx=\"915.812\" cy=\"541.417\" r=\"14\"/>\n",
       "<circle clip-path=\"url(#clip7802)\" style=\"fill:#000000; stroke:none; fill-opacity:1\" cx=\"1325.49\" cy=\"583.574\" r=\"18\"/>\n",
       "<circle clip-path=\"url(#clip7802)\" style=\"fill:#009af9; stroke:none; fill-opacity:1\" cx=\"1325.49\" cy=\"583.574\" r=\"14\"/>\n",
       "<circle clip-path=\"url(#clip7802)\" style=\"fill:#000000; stroke:none; fill-opacity:1\" cx=\"1004.14\" cy=\"366.623\" r=\"18\"/>\n",
       "<circle clip-path=\"url(#clip7802)\" style=\"fill:#009af9; stroke:none; fill-opacity:1\" cx=\"1004.14\" cy=\"366.623\" r=\"14\"/>\n",
       "<circle clip-path=\"url(#clip7802)\" style=\"fill:#000000; stroke:none; fill-opacity:1\" cx=\"1015.2\" cy=\"689.616\" r=\"18\"/>\n",
       "<circle clip-path=\"url(#clip7802)\" style=\"fill:#009af9; stroke:none; fill-opacity:1\" cx=\"1015.2\" cy=\"689.616\" r=\"14\"/>\n",
       "<circle clip-path=\"url(#clip7802)\" style=\"fill:#000000; stroke:none; fill-opacity:1\" cx=\"1131.51\" cy=\"438.437\" r=\"18\"/>\n",
       "<circle clip-path=\"url(#clip7802)\" style=\"fill:#009af9; stroke:none; fill-opacity:1\" cx=\"1131.51\" cy=\"438.437\" r=\"14\"/>\n",
       "<circle clip-path=\"url(#clip7802)\" style=\"fill:#000000; stroke:none; fill-opacity:1\" cx=\"871.097\" cy=\"455.956\" r=\"18\"/>\n",
       "<circle clip-path=\"url(#clip7802)\" style=\"fill:#009af9; stroke:none; fill-opacity:1\" cx=\"871.097\" cy=\"455.956\" r=\"14\"/>\n",
       "<circle clip-path=\"url(#clip7802)\" style=\"fill:#000000; stroke:none; fill-opacity:1\" cx=\"893.798\" cy=\"495.15\" r=\"18\"/>\n",
       "<circle clip-path=\"url(#clip7802)\" style=\"fill:#009af9; stroke:none; fill-opacity:1\" cx=\"893.798\" cy=\"495.15\" r=\"14\"/>\n",
       "<circle clip-path=\"url(#clip7802)\" style=\"fill:#000000; stroke:none; fill-opacity:1\" cx=\"654.228\" cy=\"625.91\" r=\"18\"/>\n",
       "<circle clip-path=\"url(#clip7802)\" style=\"fill:#009af9; stroke:none; fill-opacity:1\" cx=\"654.228\" cy=\"625.91\" r=\"14\"/>\n",
       "<circle clip-path=\"url(#clip7802)\" style=\"fill:#000000; stroke:none; fill-opacity:1\" cx=\"1111.44\" cy=\"463.158\" r=\"18\"/>\n",
       "<circle clip-path=\"url(#clip7802)\" style=\"fill:#009af9; stroke:none; fill-opacity:1\" cx=\"1111.44\" cy=\"463.158\" r=\"14\"/>\n",
       "<circle clip-path=\"url(#clip7802)\" style=\"fill:#000000; stroke:none; fill-opacity:1\" cx=\"876.481\" cy=\"499.074\" r=\"18\"/>\n",
       "<circle clip-path=\"url(#clip7802)\" style=\"fill:#009af9; stroke:none; fill-opacity:1\" cx=\"876.481\" cy=\"499.074\" r=\"14\"/>\n",
       "<circle clip-path=\"url(#clip7802)\" style=\"fill:#000000; stroke:none; fill-opacity:1\" cx=\"1090.29\" cy=\"601.695\" r=\"18\"/>\n",
       "<circle clip-path=\"url(#clip7802)\" style=\"fill:#009af9; stroke:none; fill-opacity:1\" cx=\"1090.29\" cy=\"601.695\" r=\"14\"/>\n",
       "<circle clip-path=\"url(#clip7802)\" style=\"fill:#000000; stroke:none; fill-opacity:1\" cx=\"903.816\" cy=\"475.963\" r=\"18\"/>\n",
       "<circle clip-path=\"url(#clip7802)\" style=\"fill:#009af9; stroke:none; fill-opacity:1\" cx=\"903.816\" cy=\"475.963\" r=\"14\"/>\n",
       "<circle clip-path=\"url(#clip7802)\" style=\"fill:#000000; stroke:none; fill-opacity:1\" cx=\"1150.69\" cy=\"707.352\" r=\"18\"/>\n",
       "<circle clip-path=\"url(#clip7802)\" style=\"fill:#009af9; stroke:none; fill-opacity:1\" cx=\"1150.69\" cy=\"707.352\" r=\"14\"/>\n",
       "<circle clip-path=\"url(#clip7802)\" style=\"fill:#000000; stroke:none; fill-opacity:1\" cx=\"1396.39\" cy=\"872.439\" r=\"18\"/>\n",
       "<circle clip-path=\"url(#clip7802)\" style=\"fill:#009af9; stroke:none; fill-opacity:1\" cx=\"1396.39\" cy=\"872.439\" r=\"14\"/>\n",
       "<circle clip-path=\"url(#clip7802)\" style=\"fill:#000000; stroke:none; fill-opacity:1\" cx=\"996.745\" cy=\"703.118\" r=\"18\"/>\n",
       "<circle clip-path=\"url(#clip7802)\" style=\"fill:#009af9; stroke:none; fill-opacity:1\" cx=\"996.745\" cy=\"703.118\" r=\"14\"/>\n",
       "<circle clip-path=\"url(#clip7802)\" style=\"fill:#000000; stroke:none; fill-opacity:1\" cx=\"1047.16\" cy=\"591.158\" r=\"18\"/>\n",
       "<circle clip-path=\"url(#clip7802)\" style=\"fill:#009af9; stroke:none; fill-opacity:1\" cx=\"1047.16\" cy=\"591.158\" r=\"14\"/>\n",
       "<circle clip-path=\"url(#clip7802)\" style=\"fill:#000000; stroke:none; fill-opacity:1\" cx=\"419.767\" cy=\"751.01\" r=\"18\"/>\n",
       "<circle clip-path=\"url(#clip7802)\" style=\"fill:#009af9; stroke:none; fill-opacity:1\" cx=\"419.767\" cy=\"751.01\" r=\"14\"/>\n",
       "<circle clip-path=\"url(#clip7802)\" style=\"fill:#000000; stroke:none; fill-opacity:1\" cx=\"751.386\" cy=\"507.283\" r=\"18\"/>\n",
       "<circle clip-path=\"url(#clip7802)\" style=\"fill:#009af9; stroke:none; fill-opacity:1\" cx=\"751.386\" cy=\"507.283\" r=\"14\"/>\n",
       "<circle clip-path=\"url(#clip7802)\" style=\"fill:#000000; stroke:none; fill-opacity:1\" cx=\"724.768\" cy=\"811.838\" r=\"18\"/>\n",
       "<circle clip-path=\"url(#clip7802)\" style=\"fill:#009af9; stroke:none; fill-opacity:1\" cx=\"724.768\" cy=\"811.838\" r=\"14\"/>\n",
       "<circle clip-path=\"url(#clip7802)\" style=\"fill:#000000; stroke:none; fill-opacity:1\" cx=\"749.374\" cy=\"407.203\" r=\"18\"/>\n",
       "<circle clip-path=\"url(#clip7802)\" style=\"fill:#009af9; stroke:none; fill-opacity:1\" cx=\"749.374\" cy=\"407.203\" r=\"14\"/>\n",
       "<circle clip-path=\"url(#clip7802)\" style=\"fill:#000000; stroke:none; fill-opacity:1\" cx=\"510.119\" cy=\"350.194\" r=\"18\"/>\n",
       "<circle clip-path=\"url(#clip7802)\" style=\"fill:#009af9; stroke:none; fill-opacity:1\" cx=\"510.119\" cy=\"350.194\" r=\"14\"/>\n",
       "<circle clip-path=\"url(#clip7802)\" style=\"fill:#000000; stroke:none; fill-opacity:1\" cx=\"1304.3\" cy=\"618.798\" r=\"18\"/>\n",
       "<circle clip-path=\"url(#clip7802)\" style=\"fill:#009af9; stroke:none; fill-opacity:1\" cx=\"1304.3\" cy=\"618.798\" r=\"14\"/>\n",
       "<circle clip-path=\"url(#clip7802)\" style=\"fill:#000000; stroke:none; fill-opacity:1\" cx=\"527.766\" cy=\"464.205\" r=\"18\"/>\n",
       "<circle clip-path=\"url(#clip7802)\" style=\"fill:#009af9; stroke:none; fill-opacity:1\" cx=\"527.766\" cy=\"464.205\" r=\"14\"/>\n",
       "<circle clip-path=\"url(#clip7802)\" style=\"fill:#000000; stroke:none; fill-opacity:1\" cx=\"763.541\" cy=\"590.68\" r=\"18\"/>\n",
       "<circle clip-path=\"url(#clip7802)\" style=\"fill:#009af9; stroke:none; fill-opacity:1\" cx=\"763.541\" cy=\"590.68\" r=\"14\"/>\n",
       "<circle clip-path=\"url(#clip7802)\" style=\"fill:#000000; stroke:none; fill-opacity:1\" cx=\"904.304\" cy=\"102.729\" r=\"18\"/>\n",
       "<circle clip-path=\"url(#clip7802)\" style=\"fill:#009af9; stroke:none; fill-opacity:1\" cx=\"904.304\" cy=\"102.729\" r=\"14\"/>\n",
       "<circle clip-path=\"url(#clip7802)\" style=\"fill:#000000; stroke:none; fill-opacity:1\" cx=\"1119.72\" cy=\"523.777\" r=\"18\"/>\n",
       "<circle clip-path=\"url(#clip7802)\" style=\"fill:#009af9; stroke:none; fill-opacity:1\" cx=\"1119.72\" cy=\"523.777\" r=\"14\"/>\n",
       "<circle clip-path=\"url(#clip7802)\" style=\"fill:#000000; stroke:none; fill-opacity:1\" cx=\"973.1\" cy=\"554.091\" r=\"18\"/>\n",
       "<circle clip-path=\"url(#clip7802)\" style=\"fill:#009af9; stroke:none; fill-opacity:1\" cx=\"973.1\" cy=\"554.091\" r=\"14\"/>\n",
       "<circle clip-path=\"url(#clip7802)\" style=\"fill:#000000; stroke:none; fill-opacity:1\" cx=\"906.282\" cy=\"540.649\" r=\"18\"/>\n",
       "<circle clip-path=\"url(#clip7802)\" style=\"fill:#009af9; stroke:none; fill-opacity:1\" cx=\"906.282\" cy=\"540.649\" r=\"14\"/>\n",
       "<circle clip-path=\"url(#clip7802)\" style=\"fill:#000000; stroke:none; fill-opacity:1\" cx=\"949.682\" cy=\"874.491\" r=\"18\"/>\n",
       "<circle clip-path=\"url(#clip7802)\" style=\"fill:#009af9; stroke:none; fill-opacity:1\" cx=\"949.682\" cy=\"874.491\" r=\"14\"/>\n",
       "<circle clip-path=\"url(#clip7802)\" style=\"fill:#000000; stroke:none; fill-opacity:1\" cx=\"686.454\" cy=\"427.742\" r=\"18\"/>\n",
       "<circle clip-path=\"url(#clip7802)\" style=\"fill:#009af9; stroke:none; fill-opacity:1\" cx=\"686.454\" cy=\"427.742\" r=\"14\"/>\n",
       "<circle clip-path=\"url(#clip7802)\" style=\"fill:#000000; stroke:none; fill-opacity:1\" cx=\"692.027\" cy=\"521.831\" r=\"18\"/>\n",
       "<circle clip-path=\"url(#clip7802)\" style=\"fill:#009af9; stroke:none; fill-opacity:1\" cx=\"692.027\" cy=\"521.831\" r=\"14\"/>\n",
       "<circle clip-path=\"url(#clip7802)\" style=\"fill:#000000; stroke:none; fill-opacity:1\" cx=\"1133.87\" cy=\"524.973\" r=\"18\"/>\n",
       "<circle clip-path=\"url(#clip7802)\" style=\"fill:#009af9; stroke:none; fill-opacity:1\" cx=\"1133.87\" cy=\"524.973\" r=\"14\"/>\n",
       "<circle clip-path=\"url(#clip7802)\" style=\"fill:#000000; stroke:none; fill-opacity:1\" cx=\"842.998\" cy=\"389.418\" r=\"18\"/>\n",
       "<circle clip-path=\"url(#clip7802)\" style=\"fill:#009af9; stroke:none; fill-opacity:1\" cx=\"842.998\" cy=\"389.418\" r=\"14\"/>\n",
       "<circle clip-path=\"url(#clip7802)\" style=\"fill:#000000; stroke:none; fill-opacity:1\" cx=\"1045.28\" cy=\"642.088\" r=\"18\"/>\n",
       "<circle clip-path=\"url(#clip7802)\" style=\"fill:#009af9; stroke:none; fill-opacity:1\" cx=\"1045.28\" cy=\"642.088\" r=\"14\"/>\n",
       "<circle clip-path=\"url(#clip7802)\" style=\"fill:#000000; stroke:none; fill-opacity:1\" cx=\"999.388\" cy=\"698.242\" r=\"18\"/>\n",
       "<circle clip-path=\"url(#clip7802)\" style=\"fill:#009af9; stroke:none; fill-opacity:1\" cx=\"999.388\" cy=\"698.242\" r=\"14\"/>\n",
       "<circle clip-path=\"url(#clip7802)\" style=\"fill:#000000; stroke:none; fill-opacity:1\" cx=\"1423.87\" cy=\"769.923\" r=\"18\"/>\n",
       "<circle clip-path=\"url(#clip7802)\" style=\"fill:#009af9; stroke:none; fill-opacity:1\" cx=\"1423.87\" cy=\"769.923\" r=\"14\"/>\n",
       "<circle clip-path=\"url(#clip7802)\" style=\"fill:#000000; stroke:none; fill-opacity:1\" cx=\"718.77\" cy=\"441.054\" r=\"18\"/>\n",
       "<circle clip-path=\"url(#clip7802)\" style=\"fill:#009af9; stroke:none; fill-opacity:1\" cx=\"718.77\" cy=\"441.054\" r=\"14\"/>\n",
       "<circle clip-path=\"url(#clip7802)\" style=\"fill:#000000; stroke:none; fill-opacity:1\" cx=\"862.944\" cy=\"285.733\" r=\"18\"/>\n",
       "<circle clip-path=\"url(#clip7802)\" style=\"fill:#009af9; stroke:none; fill-opacity:1\" cx=\"862.944\" cy=\"285.733\" r=\"14\"/>\n",
       "<circle clip-path=\"url(#clip7802)\" style=\"fill:#000000; stroke:none; fill-opacity:1\" cx=\"849.675\" cy=\"309.782\" r=\"18\"/>\n",
       "<circle clip-path=\"url(#clip7802)\" style=\"fill:#009af9; stroke:none; fill-opacity:1\" cx=\"849.675\" cy=\"309.782\" r=\"14\"/>\n",
       "<circle clip-path=\"url(#clip7802)\" style=\"fill:#000000; stroke:none; fill-opacity:1\" cx=\"1296.67\" cy=\"412.702\" r=\"18\"/>\n",
       "<circle clip-path=\"url(#clip7802)\" style=\"fill:#009af9; stroke:none; fill-opacity:1\" cx=\"1296.67\" cy=\"412.702\" r=\"14\"/>\n",
       "<circle clip-path=\"url(#clip7802)\" style=\"fill:#000000; stroke:none; fill-opacity:1\" cx=\"955.333\" cy=\"816.197\" r=\"18\"/>\n",
       "<circle clip-path=\"url(#clip7802)\" style=\"fill:#009af9; stroke:none; fill-opacity:1\" cx=\"955.333\" cy=\"816.197\" r=\"14\"/>\n",
       "<circle clip-path=\"url(#clip7802)\" style=\"fill:#000000; stroke:none; fill-opacity:1\" cx=\"847.468\" cy=\"677.608\" r=\"18\"/>\n",
       "<circle clip-path=\"url(#clip7802)\" style=\"fill:#009af9; stroke:none; fill-opacity:1\" cx=\"847.468\" cy=\"677.608\" r=\"14\"/>\n",
       "<circle clip-path=\"url(#clip7802)\" style=\"fill:#000000; stroke:none; fill-opacity:1\" cx=\"958.626\" cy=\"678.732\" r=\"18\"/>\n",
       "<circle clip-path=\"url(#clip7802)\" style=\"fill:#009af9; stroke:none; fill-opacity:1\" cx=\"958.626\" cy=\"678.732\" r=\"14\"/>\n",
       "<circle clip-path=\"url(#clip7802)\" style=\"fill:#000000; stroke:none; fill-opacity:1\" cx=\"708.518\" cy=\"250.701\" r=\"18\"/>\n",
       "<circle clip-path=\"url(#clip7802)\" style=\"fill:#009af9; stroke:none; fill-opacity:1\" cx=\"708.518\" cy=\"250.701\" r=\"14\"/>\n",
       "<circle clip-path=\"url(#clip7802)\" style=\"fill:#000000; stroke:none; fill-opacity:1\" cx=\"918.563\" cy=\"739.122\" r=\"18\"/>\n",
       "<circle clip-path=\"url(#clip7802)\" style=\"fill:#009af9; stroke:none; fill-opacity:1\" cx=\"918.563\" cy=\"739.122\" r=\"14\"/>\n",
       "<circle clip-path=\"url(#clip7802)\" style=\"fill:#000000; stroke:none; fill-opacity:1\" cx=\"743.204\" cy=\"506.973\" r=\"18\"/>\n",
       "<circle clip-path=\"url(#clip7802)\" style=\"fill:#009af9; stroke:none; fill-opacity:1\" cx=\"743.204\" cy=\"506.973\" r=\"14\"/>\n",
       "<circle clip-path=\"url(#clip7802)\" style=\"fill:#000000; stroke:none; fill-opacity:1\" cx=\"1029.97\" cy=\"774.481\" r=\"18\"/>\n",
       "<circle clip-path=\"url(#clip7802)\" style=\"fill:#009af9; stroke:none; fill-opacity:1\" cx=\"1029.97\" cy=\"774.481\" r=\"14\"/>\n",
       "<circle clip-path=\"url(#clip7802)\" style=\"fill:#000000; stroke:none; fill-opacity:1\" cx=\"1023.48\" cy=\"517.69\" r=\"18\"/>\n",
       "<circle clip-path=\"url(#clip7802)\" style=\"fill:#009af9; stroke:none; fill-opacity:1\" cx=\"1023.48\" cy=\"517.69\" r=\"14\"/>\n",
       "<circle clip-path=\"url(#clip7802)\" style=\"fill:#000000; stroke:none; fill-opacity:1\" cx=\"1021.21\" cy=\"655.724\" r=\"18\"/>\n",
       "<circle clip-path=\"url(#clip7802)\" style=\"fill:#009af9; stroke:none; fill-opacity:1\" cx=\"1021.21\" cy=\"655.724\" r=\"14\"/>\n",
       "<circle clip-path=\"url(#clip7802)\" style=\"fill:#000000; stroke:none; fill-opacity:1\" cx=\"547.06\" cy=\"481.489\" r=\"18\"/>\n",
       "<circle clip-path=\"url(#clip7802)\" style=\"fill:#009af9; stroke:none; fill-opacity:1\" cx=\"547.06\" cy=\"481.489\" r=\"14\"/>\n",
       "<circle clip-path=\"url(#clip7802)\" style=\"fill:#000000; stroke:none; fill-opacity:1\" cx=\"204.437\" cy=\"704.796\" r=\"18\"/>\n",
       "<circle clip-path=\"url(#clip7802)\" style=\"fill:#009af9; stroke:none; fill-opacity:1\" cx=\"204.437\" cy=\"704.796\" r=\"14\"/>\n",
       "<circle clip-path=\"url(#clip7802)\" style=\"fill:#000000; stroke:none; fill-opacity:1\" cx=\"813.162\" cy=\"449.029\" r=\"18\"/>\n",
       "<circle clip-path=\"url(#clip7802)\" style=\"fill:#009af9; stroke:none; fill-opacity:1\" cx=\"813.162\" cy=\"449.029\" r=\"14\"/>\n",
       "<circle clip-path=\"url(#clip7802)\" style=\"fill:#000000; stroke:none; fill-opacity:1\" cx=\"1347.3\" cy=\"802.942\" r=\"18\"/>\n",
       "<circle clip-path=\"url(#clip7802)\" style=\"fill:#009af9; stroke:none; fill-opacity:1\" cx=\"1347.3\" cy=\"802.942\" r=\"14\"/>\n",
       "<circle clip-path=\"url(#clip7802)\" style=\"fill:#000000; stroke:none; fill-opacity:1\" cx=\"1004.34\" cy=\"502.739\" r=\"18\"/>\n",
       "<circle clip-path=\"url(#clip7802)\" style=\"fill:#009af9; stroke:none; fill-opacity:1\" cx=\"1004.34\" cy=\"502.739\" r=\"14\"/>\n",
       "<circle clip-path=\"url(#clip7802)\" style=\"fill:#000000; stroke:none; fill-opacity:1\" cx=\"1868.74\" cy=\"837.331\" r=\"18\"/>\n",
       "<circle clip-path=\"url(#clip7802)\" style=\"fill:#e26f46; stroke:none; fill-opacity:1\" cx=\"1868.74\" cy=\"837.331\" r=\"14\"/>\n",
       "<circle clip-path=\"url(#clip7802)\" style=\"fill:#000000; stroke:none; fill-opacity:1\" cx=\"1975.15\" cy=\"1169.79\" r=\"18\"/>\n",
       "<circle clip-path=\"url(#clip7802)\" style=\"fill:#e26f46; stroke:none; fill-opacity:1\" cx=\"1975.15\" cy=\"1169.79\" r=\"14\"/>\n",
       "<circle clip-path=\"url(#clip7802)\" style=\"fill:#000000; stroke:none; fill-opacity:1\" cx=\"1241.65\" cy=\"808.182\" r=\"18\"/>\n",
       "<circle clip-path=\"url(#clip7802)\" style=\"fill:#e26f46; stroke:none; fill-opacity:1\" cx=\"1241.65\" cy=\"808.182\" r=\"14\"/>\n",
       "<circle clip-path=\"url(#clip7802)\" style=\"fill:#000000; stroke:none; fill-opacity:1\" cx=\"1419.61\" cy=\"998.733\" r=\"18\"/>\n",
       "<circle clip-path=\"url(#clip7802)\" style=\"fill:#e26f46; stroke:none; fill-opacity:1\" cx=\"1419.61\" cy=\"998.733\" r=\"14\"/>\n",
       "<circle clip-path=\"url(#clip7802)\" style=\"fill:#000000; stroke:none; fill-opacity:1\" cx=\"1363.11\" cy=\"708.832\" r=\"18\"/>\n",
       "<circle clip-path=\"url(#clip7802)\" style=\"fill:#e26f46; stroke:none; fill-opacity:1\" cx=\"1363.11\" cy=\"708.832\" r=\"14\"/>\n",
       "<circle clip-path=\"url(#clip7802)\" style=\"fill:#000000; stroke:none; fill-opacity:1\" cx=\"1502.81\" cy=\"1109.61\" r=\"18\"/>\n",
       "<circle clip-path=\"url(#clip7802)\" style=\"fill:#e26f46; stroke:none; fill-opacity:1\" cx=\"1502.81\" cy=\"1109.61\" r=\"14\"/>\n",
       "<circle clip-path=\"url(#clip7802)\" style=\"fill:#000000; stroke:none; fill-opacity:1\" cx=\"1463.4\" cy=\"841.369\" r=\"18\"/>\n",
       "<circle clip-path=\"url(#clip7802)\" style=\"fill:#e26f46; stroke:none; fill-opacity:1\" cx=\"1463.4\" cy=\"841.369\" r=\"14\"/>\n",
       "<circle clip-path=\"url(#clip7802)\" style=\"fill:#000000; stroke:none; fill-opacity:1\" cx=\"1466.37\" cy=\"935.72\" r=\"18\"/>\n",
       "<circle clip-path=\"url(#clip7802)\" style=\"fill:#e26f46; stroke:none; fill-opacity:1\" cx=\"1466.37\" cy=\"935.72\" r=\"14\"/>\n",
       "<circle clip-path=\"url(#clip7802)\" style=\"fill:#000000; stroke:none; fill-opacity:1\" cx=\"1984.57\" cy=\"778.331\" r=\"18\"/>\n",
       "<circle clip-path=\"url(#clip7802)\" style=\"fill:#e26f46; stroke:none; fill-opacity:1\" cx=\"1984.57\" cy=\"778.331\" r=\"14\"/>\n",
       "<circle clip-path=\"url(#clip7802)\" style=\"fill:#000000; stroke:none; fill-opacity:1\" cx=\"1732.88\" cy=\"1008.73\" r=\"18\"/>\n",
       "<circle clip-path=\"url(#clip7802)\" style=\"fill:#e26f46; stroke:none; fill-opacity:1\" cx=\"1732.88\" cy=\"1008.73\" r=\"14\"/>\n",
       "<circle clip-path=\"url(#clip7802)\" style=\"fill:#000000; stroke:none; fill-opacity:1\" cx=\"1553.24\" cy=\"827.445\" r=\"18\"/>\n",
       "<circle clip-path=\"url(#clip7802)\" style=\"fill:#e26f46; stroke:none; fill-opacity:1\" cx=\"1553.24\" cy=\"827.445\" r=\"14\"/>\n",
       "<circle clip-path=\"url(#clip7802)\" style=\"fill:#000000; stroke:none; fill-opacity:1\" cx=\"1589.64\" cy=\"958.331\" r=\"18\"/>\n",
       "<circle clip-path=\"url(#clip7802)\" style=\"fill:#e26f46; stroke:none; fill-opacity:1\" cx=\"1589.64\" cy=\"958.331\" r=\"14\"/>\n",
       "<circle clip-path=\"url(#clip7802)\" style=\"fill:#000000; stroke:none; fill-opacity:1\" cx=\"2290.18\" cy=\"746.051\" r=\"18\"/>\n",
       "<circle clip-path=\"url(#clip7802)\" style=\"fill:#e26f46; stroke:none; fill-opacity:1\" cx=\"2290.18\" cy=\"746.051\" r=\"14\"/>\n",
       "<circle clip-path=\"url(#clip7802)\" style=\"fill:#000000; stroke:none; fill-opacity:1\" cx=\"1365.25\" cy=\"902.428\" r=\"18\"/>\n",
       "<circle clip-path=\"url(#clip7802)\" style=\"fill:#e26f46; stroke:none; fill-opacity:1\" cx=\"1365.25\" cy=\"902.428\" r=\"14\"/>\n",
       "<circle clip-path=\"url(#clip7802)\" style=\"fill:#000000; stroke:none; fill-opacity:1\" cx=\"1655.96\" cy=\"845.395\" r=\"18\"/>\n",
       "<circle clip-path=\"url(#clip7802)\" style=\"fill:#e26f46; stroke:none; fill-opacity:1\" cx=\"1655.96\" cy=\"845.395\" r=\"14\"/>\n",
       "<circle clip-path=\"url(#clip7802)\" style=\"fill:#000000; stroke:none; fill-opacity:1\" cx=\"1542.31\" cy=\"1038.69\" r=\"18\"/>\n",
       "<circle clip-path=\"url(#clip7802)\" style=\"fill:#e26f46; stroke:none; fill-opacity:1\" cx=\"1542.31\" cy=\"1038.69\" r=\"14\"/>\n",
       "<circle clip-path=\"url(#clip7802)\" style=\"fill:#000000; stroke:none; fill-opacity:1\" cx=\"1346.54\" cy=\"993.946\" r=\"18\"/>\n",
       "<circle clip-path=\"url(#clip7802)\" style=\"fill:#e26f46; stroke:none; fill-opacity:1\" cx=\"1346.54\" cy=\"993.946\" r=\"14\"/>\n",
       "<circle clip-path=\"url(#clip7802)\" style=\"fill:#000000; stroke:none; fill-opacity:1\" cx=\"1561.66\" cy=\"1099.87\" r=\"18\"/>\n",
       "<circle clip-path=\"url(#clip7802)\" style=\"fill:#e26f46; stroke:none; fill-opacity:1\" cx=\"1561.66\" cy=\"1099.87\" r=\"14\"/>\n",
       "<circle clip-path=\"url(#clip7802)\" style=\"fill:#000000; stroke:none; fill-opacity:1\" cx=\"1120.38\" cy=\"1198.8\" r=\"18\"/>\n",
       "<circle clip-path=\"url(#clip7802)\" style=\"fill:#e26f46; stroke:none; fill-opacity:1\" cx=\"1120.38\" cy=\"1198.8\" r=\"14\"/>\n",
       "<circle clip-path=\"url(#clip7802)\" style=\"fill:#000000; stroke:none; fill-opacity:1\" cx=\"1338.13\" cy=\"1084.96\" r=\"18\"/>\n",
       "<circle clip-path=\"url(#clip7802)\" style=\"fill:#e26f46; stroke:none; fill-opacity:1\" cx=\"1338.13\" cy=\"1084.96\" r=\"14\"/>\n",
       "<circle clip-path=\"url(#clip7802)\" style=\"fill:#000000; stroke:none; fill-opacity:1\" cx=\"1288.65\" cy=\"830.559\" r=\"18\"/>\n",
       "<circle clip-path=\"url(#clip7802)\" style=\"fill:#e26f46; stroke:none; fill-opacity:1\" cx=\"1288.65\" cy=\"830.559\" r=\"14\"/>\n",
       "<circle clip-path=\"url(#clip7802)\" style=\"fill:#000000; stroke:none; fill-opacity:1\" cx=\"1789.31\" cy=\"1152.64\" r=\"18\"/>\n",
       "<circle clip-path=\"url(#clip7802)\" style=\"fill:#e26f46; stroke:none; fill-opacity:1\" cx=\"1789.31\" cy=\"1152.64\" r=\"14\"/>\n",
       "<circle clip-path=\"url(#clip7802)\" style=\"fill:#000000; stroke:none; fill-opacity:1\" cx=\"1787.59\" cy=\"862.589\" r=\"18\"/>\n",
       "<circle clip-path=\"url(#clip7802)\" style=\"fill:#e26f46; stroke:none; fill-opacity:1\" cx=\"1787.59\" cy=\"862.589\" r=\"14\"/>\n",
       "<circle clip-path=\"url(#clip7802)\" style=\"fill:#000000; stroke:none; fill-opacity:1\" cx=\"1703.56\" cy=\"920.191\" r=\"18\"/>\n",
       "<circle clip-path=\"url(#clip7802)\" style=\"fill:#e26f46; stroke:none; fill-opacity:1\" cx=\"1703.56\" cy=\"920.191\" r=\"14\"/>\n",
       "<circle clip-path=\"url(#clip7802)\" style=\"fill:#000000; stroke:none; fill-opacity:1\" cx=\"1816.32\" cy=\"1125.27\" r=\"18\"/>\n",
       "<circle clip-path=\"url(#clip7802)\" style=\"fill:#e26f46; stroke:none; fill-opacity:1\" cx=\"1816.32\" cy=\"1125.27\" r=\"14\"/>\n",
       "<circle clip-path=\"url(#clip7802)\" style=\"fill:#000000; stroke:none; fill-opacity:1\" cx=\"1522.98\" cy=\"944.792\" r=\"18\"/>\n",
       "<circle clip-path=\"url(#clip7802)\" style=\"fill:#e26f46; stroke:none; fill-opacity:1\" cx=\"1522.98\" cy=\"944.792\" r=\"14\"/>\n",
       "<circle clip-path=\"url(#clip7802)\" style=\"fill:#000000; stroke:none; fill-opacity:1\" cx=\"1955.68\" cy=\"824.707\" r=\"18\"/>\n",
       "<circle clip-path=\"url(#clip7802)\" style=\"fill:#e26f46; stroke:none; fill-opacity:1\" cx=\"1955.68\" cy=\"824.707\" r=\"14\"/>\n",
       "<circle clip-path=\"url(#clip7802)\" style=\"fill:#000000; stroke:none; fill-opacity:1\" cx=\"1586.95\" cy=\"899.469\" r=\"18\"/>\n",
       "<circle clip-path=\"url(#clip7802)\" style=\"fill:#e26f46; stroke:none; fill-opacity:1\" cx=\"1586.95\" cy=\"899.469\" r=\"14\"/>\n",
       "<circle clip-path=\"url(#clip7802)\" style=\"fill:#000000; stroke:none; fill-opacity:1\" cx=\"1887.41\" cy=\"862.051\" r=\"18\"/>\n",
       "<circle clip-path=\"url(#clip7802)\" style=\"fill:#e26f46; stroke:none; fill-opacity:1\" cx=\"1887.41\" cy=\"862.051\" r=\"14\"/>\n",
       "<circle clip-path=\"url(#clip7802)\" style=\"fill:#000000; stroke:none; fill-opacity:1\" cx=\"1499.4\" cy=\"1005.82\" r=\"18\"/>\n",
       "<circle clip-path=\"url(#clip7802)\" style=\"fill:#e26f46; stroke:none; fill-opacity:1\" cx=\"1499.4\" cy=\"1005.82\" r=\"14\"/>\n",
       "<circle clip-path=\"url(#clip7802)\" style=\"fill:#000000; stroke:none; fill-opacity:1\" cx=\"1453.23\" cy=\"1063.45\" r=\"18\"/>\n",
       "<circle clip-path=\"url(#clip7802)\" style=\"fill:#e26f46; stroke:none; fill-opacity:1\" cx=\"1453.23\" cy=\"1063.45\" r=\"14\"/>\n",
       "<circle clip-path=\"url(#clip7802)\" style=\"fill:#000000; stroke:none; fill-opacity:1\" cx=\"1050.05\" cy=\"956.004\" r=\"18\"/>\n",
       "<circle clip-path=\"url(#clip7802)\" style=\"fill:#e26f46; stroke:none; fill-opacity:1\" cx=\"1050.05\" cy=\"956.004\" r=\"14\"/>\n",
       "<circle clip-path=\"url(#clip7802)\" style=\"fill:#000000; stroke:none; fill-opacity:1\" cx=\"1686.93\" cy=\"862.236\" r=\"18\"/>\n",
       "<circle clip-path=\"url(#clip7802)\" style=\"fill:#e26f46; stroke:none; fill-opacity:1\" cx=\"1686.93\" cy=\"862.236\" r=\"14\"/>\n",
       "<circle clip-path=\"url(#clip7802)\" style=\"fill:#000000; stroke:none; fill-opacity:1\" cx=\"1821.53\" cy=\"1039\" r=\"18\"/>\n",
       "<circle clip-path=\"url(#clip7802)\" style=\"fill:#e26f46; stroke:none; fill-opacity:1\" cx=\"1821.53\" cy=\"1039\" r=\"14\"/>\n",
       "<circle clip-path=\"url(#clip7802)\" style=\"fill:#000000; stroke:none; fill-opacity:1\" cx=\"1465.93\" cy=\"738.069\" r=\"18\"/>\n",
       "<circle clip-path=\"url(#clip7802)\" style=\"fill:#e26f46; stroke:none; fill-opacity:1\" cx=\"1465.93\" cy=\"738.069\" r=\"14\"/>\n",
       "<circle clip-path=\"url(#clip7802)\" style=\"fill:#000000; stroke:none; fill-opacity:1\" cx=\"1720.41\" cy=\"954.049\" r=\"18\"/>\n",
       "<circle clip-path=\"url(#clip7802)\" style=\"fill:#e26f46; stroke:none; fill-opacity:1\" cx=\"1720.41\" cy=\"954.049\" r=\"14\"/>\n",
       "<circle clip-path=\"url(#clip7802)\" style=\"fill:#000000; stroke:none; fill-opacity:1\" cx=\"1333.37\" cy=\"972.672\" r=\"18\"/>\n",
       "<circle clip-path=\"url(#clip7802)\" style=\"fill:#e26f46; stroke:none; fill-opacity:1\" cx=\"1333.37\" cy=\"972.672\" r=\"14\"/>\n",
       "<circle clip-path=\"url(#clip7802)\" style=\"fill:#000000; stroke:none; fill-opacity:1\" cx=\"2000.19\" cy=\"828.379\" r=\"18\"/>\n",
       "<circle clip-path=\"url(#clip7802)\" style=\"fill:#e26f46; stroke:none; fill-opacity:1\" cx=\"2000.19\" cy=\"828.379\" r=\"14\"/>\n",
       "<circle clip-path=\"url(#clip7802)\" style=\"fill:#000000; stroke:none; fill-opacity:1\" cx=\"2091.94\" cy=\"794.006\" r=\"18\"/>\n",
       "<circle clip-path=\"url(#clip7802)\" style=\"fill:#e26f46; stroke:none; fill-opacity:1\" cx=\"2091.94\" cy=\"794.006\" r=\"14\"/>\n",
       "<circle clip-path=\"url(#clip7802)\" style=\"fill:#000000; stroke:none; fill-opacity:1\" cx=\"1455.39\" cy=\"862.758\" r=\"18\"/>\n",
       "<circle clip-path=\"url(#clip7802)\" style=\"fill:#e26f46; stroke:none; fill-opacity:1\" cx=\"1455.39\" cy=\"862.758\" r=\"14\"/>\n",
       "<circle clip-path=\"url(#clip7802)\" style=\"fill:#000000; stroke:none; fill-opacity:1\" cx=\"1684.94\" cy=\"629.425\" r=\"18\"/>\n",
       "<circle clip-path=\"url(#clip7802)\" style=\"fill:#e26f46; stroke:none; fill-opacity:1\" cx=\"1684.94\" cy=\"629.425\" r=\"14\"/>\n",
       "<circle clip-path=\"url(#clip7802)\" style=\"fill:#000000; stroke:none; fill-opacity:1\" cx=\"1432.77\" cy=\"758.08\" r=\"18\"/>\n",
       "<circle clip-path=\"url(#clip7802)\" style=\"fill:#e26f46; stroke:none; fill-opacity:1\" cx=\"1432.77\" cy=\"758.08\" r=\"14\"/>\n",
       "<circle clip-path=\"url(#clip7802)\" style=\"fill:#000000; stroke:none; fill-opacity:1\" cx=\"1648.51\" cy=\"1015.01\" r=\"18\"/>\n",
       "<circle clip-path=\"url(#clip7802)\" style=\"fill:#e26f46; stroke:none; fill-opacity:1\" cx=\"1648.51\" cy=\"1015.01\" r=\"14\"/>\n",
       "<circle clip-path=\"url(#clip7802)\" style=\"fill:#000000; stroke:none; fill-opacity:1\" cx=\"1505.09\" cy=\"799.701\" r=\"18\"/>\n",
       "<circle clip-path=\"url(#clip7802)\" style=\"fill:#e26f46; stroke:none; fill-opacity:1\" cx=\"1505.09\" cy=\"799.701\" r=\"14\"/>\n",
       "<circle clip-path=\"url(#clip7802)\" style=\"fill:#000000; stroke:none; fill-opacity:1\" cx=\"1659.2\" cy=\"956.431\" r=\"18\"/>\n",
       "<circle clip-path=\"url(#clip7802)\" style=\"fill:#e26f46; stroke:none; fill-opacity:1\" cx=\"1659.2\" cy=\"956.431\" r=\"14\"/>\n",
       "<circle clip-path=\"url(#clip7802)\" style=\"fill:#000000; stroke:none; fill-opacity:1\" cx=\"1418.29\" cy=\"1339.34\" r=\"18\"/>\n",
       "<circle clip-path=\"url(#clip7802)\" style=\"fill:#e26f46; stroke:none; fill-opacity:1\" cx=\"1418.29\" cy=\"1339.34\" r=\"14\"/>\n",
       "<circle clip-path=\"url(#clip7802)\" style=\"fill:#000000; stroke:none; fill-opacity:1\" cx=\"1529.37\" cy=\"1036.54\" r=\"18\"/>\n",
       "<circle clip-path=\"url(#clip7802)\" style=\"fill:#e26f46; stroke:none; fill-opacity:1\" cx=\"1529.37\" cy=\"1036.54\" r=\"14\"/>\n",
       "<circle clip-path=\"url(#clip7802)\" style=\"fill:#000000; stroke:none; fill-opacity:1\" cx=\"2108.41\" cy=\"966.478\" r=\"18\"/>\n",
       "<circle clip-path=\"url(#clip7802)\" style=\"fill:#e26f46; stroke:none; fill-opacity:1\" cx=\"2108.41\" cy=\"966.478\" r=\"14\"/>\n",
       "<circle clip-path=\"url(#clip7802)\" style=\"fill:#000000; stroke:none; fill-opacity:1\" cx=\"1435.22\" cy=\"1143.6\" r=\"18\"/>\n",
       "<circle clip-path=\"url(#clip7802)\" style=\"fill:#e26f46; stroke:none; fill-opacity:1\" cx=\"1435.22\" cy=\"1143.6\" r=\"14\"/>\n",
       "<circle clip-path=\"url(#clip7802)\" style=\"fill:#000000; stroke:none; fill-opacity:1\" cx=\"1312.64\" cy=\"986.911\" r=\"18\"/>\n",
       "<circle clip-path=\"url(#clip7802)\" style=\"fill:#e26f46; stroke:none; fill-opacity:1\" cx=\"1312.64\" cy=\"986.911\" r=\"14\"/>\n",
       "<circle clip-path=\"url(#clip7802)\" style=\"fill:#000000; stroke:none; fill-opacity:1\" cx=\"1764.76\" cy=\"623.047\" r=\"18\"/>\n",
       "<circle clip-path=\"url(#clip7802)\" style=\"fill:#e26f46; stroke:none; fill-opacity:1\" cx=\"1764.76\" cy=\"623.047\" r=\"14\"/>\n",
       "<circle clip-path=\"url(#clip7802)\" style=\"fill:#000000; stroke:none; fill-opacity:1\" cx=\"1255.4\" cy=\"698.695\" r=\"18\"/>\n",
       "<circle clip-path=\"url(#clip7802)\" style=\"fill:#e26f46; stroke:none; fill-opacity:1\" cx=\"1255.4\" cy=\"698.695\" r=\"14\"/>\n",
       "<circle clip-path=\"url(#clip7802)\" style=\"fill:#000000; stroke:none; fill-opacity:1\" cx=\"1404.44\" cy=\"858.228\" r=\"18\"/>\n",
       "<circle clip-path=\"url(#clip7802)\" style=\"fill:#e26f46; stroke:none; fill-opacity:1\" cx=\"1404.44\" cy=\"858.228\" r=\"14\"/>\n",
       "<circle clip-path=\"url(#clip7802)\" style=\"fill:#000000; stroke:none; fill-opacity:1\" cx=\"1675.3\" cy=\"1333.87\" r=\"18\"/>\n",
       "<circle clip-path=\"url(#clip7802)\" style=\"fill:#e26f46; stroke:none; fill-opacity:1\" cx=\"1675.3\" cy=\"1333.87\" r=\"14\"/>\n",
       "<circle clip-path=\"url(#clip7802)\" style=\"fill:#000000; stroke:none; fill-opacity:1\" cx=\"1535.59\" cy=\"1073.35\" r=\"18\"/>\n",
       "<circle clip-path=\"url(#clip7802)\" style=\"fill:#e26f46; stroke:none; fill-opacity:1\" cx=\"1535.59\" cy=\"1073.35\" r=\"14\"/>\n",
       "<circle clip-path=\"url(#clip7802)\" style=\"fill:#000000; stroke:none; fill-opacity:1\" cx=\"1516.32\" cy=\"584.834\" r=\"18\"/>\n",
       "<circle clip-path=\"url(#clip7802)\" style=\"fill:#e26f46; stroke:none; fill-opacity:1\" cx=\"1516.32\" cy=\"584.834\" r=\"14\"/>\n",
       "<circle clip-path=\"url(#clip7802)\" style=\"fill:#000000; stroke:none; fill-opacity:1\" cx=\"1214.15\" cy=\"900.817\" r=\"18\"/>\n",
       "<circle clip-path=\"url(#clip7802)\" style=\"fill:#e26f46; stroke:none; fill-opacity:1\" cx=\"1214.15\" cy=\"900.817\" r=\"14\"/>\n",
       "<circle clip-path=\"url(#clip7802)\" style=\"fill:#000000; stroke:none; fill-opacity:1\" cx=\"1706.21\" cy=\"817.553\" r=\"18\"/>\n",
       "<circle clip-path=\"url(#clip7802)\" style=\"fill:#e26f46; stroke:none; fill-opacity:1\" cx=\"1706.21\" cy=\"817.553\" r=\"14\"/>\n",
       "<circle clip-path=\"url(#clip7802)\" style=\"fill:#000000; stroke:none; fill-opacity:1\" cx=\"1337.73\" cy=\"804.306\" r=\"18\"/>\n",
       "<circle clip-path=\"url(#clip7802)\" style=\"fill:#e26f46; stroke:none; fill-opacity:1\" cx=\"1337.73\" cy=\"804.306\" r=\"14\"/>\n",
       "<circle clip-path=\"url(#clip7802)\" style=\"fill:#000000; stroke:none; fill-opacity:1\" cx=\"1621.95\" cy=\"958.681\" r=\"18\"/>\n",
       "<circle clip-path=\"url(#clip7802)\" style=\"fill:#e26f46; stroke:none; fill-opacity:1\" cx=\"1621.95\" cy=\"958.681\" r=\"14\"/>\n",
       "<circle clip-path=\"url(#clip7802)\" style=\"fill:#000000; stroke:none; fill-opacity:1\" cx=\"1787.27\" cy=\"750.202\" r=\"18\"/>\n",
       "<circle clip-path=\"url(#clip7802)\" style=\"fill:#e26f46; stroke:none; fill-opacity:1\" cx=\"1787.27\" cy=\"750.202\" r=\"14\"/>\n",
       "<circle clip-path=\"url(#clip7802)\" style=\"fill:#000000; stroke:none; fill-opacity:1\" cx=\"1462.94\" cy=\"931.37\" r=\"18\"/>\n",
       "<circle clip-path=\"url(#clip7802)\" style=\"fill:#e26f46; stroke:none; fill-opacity:1\" cx=\"1462.94\" cy=\"931.37\" r=\"14\"/>\n",
       "<circle clip-path=\"url(#clip7802)\" style=\"fill:#000000; stroke:none; fill-opacity:1\" cx=\"1774.4\" cy=\"782.855\" r=\"18\"/>\n",
       "<circle clip-path=\"url(#clip7802)\" style=\"fill:#e26f46; stroke:none; fill-opacity:1\" cx=\"1774.4\" cy=\"782.855\" r=\"14\"/>\n",
       "<circle clip-path=\"url(#clip7802)\" style=\"fill:#000000; stroke:none; fill-opacity:1\" cx=\"1246.44\" cy=\"999.473\" r=\"18\"/>\n",
       "<circle clip-path=\"url(#clip7802)\" style=\"fill:#e26f46; stroke:none; fill-opacity:1\" cx=\"1246.44\" cy=\"999.473\" r=\"14\"/>\n",
       "<circle clip-path=\"url(#clip7802)\" style=\"fill:#000000; stroke:none; fill-opacity:1\" cx=\"1243.98\" cy=\"957.253\" r=\"18\"/>\n",
       "<circle clip-path=\"url(#clip7802)\" style=\"fill:#e26f46; stroke:none; fill-opacity:1\" cx=\"1243.98\" cy=\"957.253\" r=\"14\"/>\n",
       "<circle clip-path=\"url(#clip7802)\" style=\"fill:#000000; stroke:none; fill-opacity:1\" cx=\"1667.71\" cy=\"890.022\" r=\"18\"/>\n",
       "<circle clip-path=\"url(#clip7802)\" style=\"fill:#e26f46; stroke:none; fill-opacity:1\" cx=\"1667.71\" cy=\"890.022\" r=\"14\"/>\n",
       "<circle clip-path=\"url(#clip7802)\" style=\"fill:#000000; stroke:none; fill-opacity:1\" cx=\"1707.44\" cy=\"838.403\" r=\"18\"/>\n",
       "<circle clip-path=\"url(#clip7802)\" style=\"fill:#e26f46; stroke:none; fill-opacity:1\" cx=\"1707.44\" cy=\"838.403\" r=\"14\"/>\n",
       "<circle clip-path=\"url(#clip7802)\" style=\"fill:#000000; stroke:none; fill-opacity:1\" cx=\"1667.61\" cy=\"858.058\" r=\"18\"/>\n",
       "<circle clip-path=\"url(#clip7802)\" style=\"fill:#e26f46; stroke:none; fill-opacity:1\" cx=\"1667.61\" cy=\"858.058\" r=\"14\"/>\n",
       "<circle clip-path=\"url(#clip7802)\" style=\"fill:#000000; stroke:none; fill-opacity:1\" cx=\"1536.87\" cy=\"777.806\" r=\"18\"/>\n",
       "<circle clip-path=\"url(#clip7802)\" style=\"fill:#e26f46; stroke:none; fill-opacity:1\" cx=\"1536.87\" cy=\"777.806\" r=\"14\"/>\n",
       "<circle clip-path=\"url(#clip7802)\" style=\"fill:#000000; stroke:none; fill-opacity:1\" cx=\"1965\" cy=\"902.16\" r=\"18\"/>\n",
       "<circle clip-path=\"url(#clip7802)\" style=\"fill:#e26f46; stroke:none; fill-opacity:1\" cx=\"1965\" cy=\"902.16\" r=\"14\"/>\n",
       "<circle clip-path=\"url(#clip7802)\" style=\"fill:#000000; stroke:none; fill-opacity:1\" cx=\"1771.11\" cy=\"677.284\" r=\"18\"/>\n",
       "<circle clip-path=\"url(#clip7802)\" style=\"fill:#e26f46; stroke:none; fill-opacity:1\" cx=\"1771.11\" cy=\"677.284\" r=\"14\"/>\n",
       "<circle clip-path=\"url(#clip7802)\" style=\"fill:#000000; stroke:none; fill-opacity:1\" cx=\"1480.88\" cy=\"476.446\" r=\"18\"/>\n",
       "<circle clip-path=\"url(#clip7802)\" style=\"fill:#e26f46; stroke:none; fill-opacity:1\" cx=\"1480.88\" cy=\"476.446\" r=\"14\"/>\n",
       "<circle clip-path=\"url(#clip7802)\" style=\"fill:#000000; stroke:none; fill-opacity:1\" cx=\"1296.58\" cy=\"974.581\" r=\"18\"/>\n",
       "<circle clip-path=\"url(#clip7802)\" style=\"fill:#e26f46; stroke:none; fill-opacity:1\" cx=\"1296.58\" cy=\"974.581\" r=\"14\"/>\n",
       "<circle clip-path=\"url(#clip7802)\" style=\"fill:#000000; stroke:none; fill-opacity:1\" cx=\"1408.97\" cy=\"950.426\" r=\"18\"/>\n",
       "<circle clip-path=\"url(#clip7802)\" style=\"fill:#e26f46; stroke:none; fill-opacity:1\" cx=\"1408.97\" cy=\"950.426\" r=\"14\"/>\n",
       "<circle clip-path=\"url(#clip7802)\" style=\"fill:#000000; stroke:none; fill-opacity:1\" cx=\"1563.67\" cy=\"959.812\" r=\"18\"/>\n",
       "<circle clip-path=\"url(#clip7802)\" style=\"fill:#e26f46; stroke:none; fill-opacity:1\" cx=\"1563.67\" cy=\"959.812\" r=\"14\"/>\n",
       "<circle clip-path=\"url(#clip7802)\" style=\"fill:#000000; stroke:none; fill-opacity:1\" cx=\"1978.47\" cy=\"725.047\" r=\"18\"/>\n",
       "<circle clip-path=\"url(#clip7802)\" style=\"fill:#e26f46; stroke:none; fill-opacity:1\" cx=\"1978.47\" cy=\"725.047\" r=\"14\"/>\n",
       "<circle clip-path=\"url(#clip7802)\" style=\"fill:#000000; stroke:none; fill-opacity:1\" cx=\"1444.91\" cy=\"804.032\" r=\"18\"/>\n",
       "<circle clip-path=\"url(#clip7802)\" style=\"fill:#e26f46; stroke:none; fill-opacity:1\" cx=\"1444.91\" cy=\"804.032\" r=\"14\"/>\n",
       "<circle clip-path=\"url(#clip7802)\" style=\"fill:#000000; stroke:none; fill-opacity:1\" cx=\"1251.92\" cy=\"1139.25\" r=\"18\"/>\n",
       "<circle clip-path=\"url(#clip7802)\" style=\"fill:#e26f46; stroke:none; fill-opacity:1\" cx=\"1251.92\" cy=\"1139.25\" r=\"14\"/>\n",
       "<circle clip-path=\"url(#clip7802)\" style=\"fill:#000000; stroke:none; fill-opacity:1\" cx=\"1460.02\" cy=\"923.077\" r=\"18\"/>\n",
       "<circle clip-path=\"url(#clip7802)\" style=\"fill:#e26f46; stroke:none; fill-opacity:1\" cx=\"1460.02\" cy=\"923.077\" r=\"14\"/>\n",
       "<circle clip-path=\"url(#clip7802)\" style=\"fill:#000000; stroke:none; fill-opacity:1\" cx=\"1369.95\" cy=\"901.08\" r=\"18\"/>\n",
       "<circle clip-path=\"url(#clip7802)\" style=\"fill:#e26f46; stroke:none; fill-opacity:1\" cx=\"1369.95\" cy=\"901.08\" r=\"14\"/>\n",
       "<circle clip-path=\"url(#clip7802)\" style=\"fill:#000000; stroke:none; fill-opacity:1\" cx=\"1334.17\" cy=\"1062.39\" r=\"18\"/>\n",
       "<circle clip-path=\"url(#clip7802)\" style=\"fill:#e26f46; stroke:none; fill-opacity:1\" cx=\"1334.17\" cy=\"1062.39\" r=\"14\"/>\n",
       "<circle clip-path=\"url(#clip7802)\" style=\"fill:#000000; stroke:none; fill-opacity:1\" cx=\"1997.99\" cy=\"845.457\" r=\"18\"/>\n",
       "<circle clip-path=\"url(#clip7802)\" style=\"fill:#e26f46; stroke:none; fill-opacity:1\" cx=\"1997.99\" cy=\"845.457\" r=\"14\"/>\n",
       "<circle clip-path=\"url(#clip7802)\" style=\"fill:#000000; stroke:none; fill-opacity:1\" cx=\"1718.16\" cy=\"1021.77\" r=\"18\"/>\n",
       "<circle clip-path=\"url(#clip7802)\" style=\"fill:#e26f46; stroke:none; fill-opacity:1\" cx=\"1718.16\" cy=\"1021.77\" r=\"14\"/>\n",
       "<circle clip-path=\"url(#clip7802)\" style=\"fill:#000000; stroke:none; fill-opacity:1\" cx=\"1430.79\" cy=\"945.429\" r=\"18\"/>\n",
       "<circle clip-path=\"url(#clip7802)\" style=\"fill:#e26f46; stroke:none; fill-opacity:1\" cx=\"1430.79\" cy=\"945.429\" r=\"14\"/>\n",
       "<circle clip-path=\"url(#clip7802)\" style=\"fill:#000000; stroke:none; fill-opacity:1\" cx=\"2048.56\" cy=\"1201.03\" r=\"18\"/>\n",
       "<circle clip-path=\"url(#clip7802)\" style=\"fill:#e26f46; stroke:none; fill-opacity:1\" cx=\"2048.56\" cy=\"1201.03\" r=\"14\"/>\n",
       "<circle clip-path=\"url(#clip7802)\" style=\"fill:#000000; stroke:none; fill-opacity:1\" cx=\"1704.24\" cy=\"823.635\" r=\"18\"/>\n",
       "<circle clip-path=\"url(#clip7802)\" style=\"fill:#e26f46; stroke:none; fill-opacity:1\" cx=\"1704.24\" cy=\"823.635\" r=\"14\"/>\n",
       "<circle clip-path=\"url(#clip7802)\" style=\"fill:#000000; stroke:none; fill-opacity:1\" cx=\"1667.69\" cy=\"681.238\" r=\"18\"/>\n",
       "<circle clip-path=\"url(#clip7802)\" style=\"fill:#e26f46; stroke:none; fill-opacity:1\" cx=\"1667.69\" cy=\"681.238\" r=\"14\"/>\n",
       "<circle clip-path=\"url(#clip7802)\" style=\"fill:#000000; stroke:none; fill-opacity:1\" cx=\"1776.14\" cy=\"786.592\" r=\"18\"/>\n",
       "<circle clip-path=\"url(#clip7802)\" style=\"fill:#e26f46; stroke:none; fill-opacity:1\" cx=\"1776.14\" cy=\"786.592\" r=\"14\"/>\n",
       "<circle clip-path=\"url(#clip7802)\" style=\"fill:#000000; stroke:none; fill-opacity:1\" cx=\"1461.01\" cy=\"1262.73\" r=\"18\"/>\n",
       "<circle clip-path=\"url(#clip7802)\" style=\"fill:#e26f46; stroke:none; fill-opacity:1\" cx=\"1461.01\" cy=\"1262.73\" r=\"14\"/>\n",
       "<circle clip-path=\"url(#clip7802)\" style=\"fill:#000000; stroke:none; fill-opacity:1\" cx=\"1550.58\" cy=\"888.908\" r=\"18\"/>\n",
       "<circle clip-path=\"url(#clip7802)\" style=\"fill:#e26f46; stroke:none; fill-opacity:1\" cx=\"1550.58\" cy=\"888.908\" r=\"14\"/>\n",
       "<circle clip-path=\"url(#clip7802)\" style=\"fill:#000000; stroke:none; fill-opacity:1\" cx=\"1649.81\" cy=\"962.232\" r=\"18\"/>\n",
       "<circle clip-path=\"url(#clip7802)\" style=\"fill:#e26f46; stroke:none; fill-opacity:1\" cx=\"1649.81\" cy=\"962.232\" r=\"14\"/>\n",
       "<circle clip-path=\"url(#clip7802)\" style=\"fill:#000000; stroke:none; fill-opacity:1\" cx=\"1735.6\" cy=\"863.204\" r=\"18\"/>\n",
       "<circle clip-path=\"url(#clip7802)\" style=\"fill:#e26f46; stroke:none; fill-opacity:1\" cx=\"1735.6\" cy=\"863.204\" r=\"14\"/>\n",
       "<circle clip-path=\"url(#clip7802)\" style=\"fill:#000000; stroke:none; fill-opacity:1\" cx=\"1530.13\" cy=\"970.472\" r=\"18\"/>\n",
       "<circle clip-path=\"url(#clip7802)\" style=\"fill:#e26f46; stroke:none; fill-opacity:1\" cx=\"1530.13\" cy=\"970.472\" r=\"14\"/>\n",
       "<circle clip-path=\"url(#clip7802)\" style=\"fill:#000000; stroke:none; fill-opacity:1\" cx=\"1618.05\" cy=\"889.802\" r=\"18\"/>\n",
       "<circle clip-path=\"url(#clip7802)\" style=\"fill:#e26f46; stroke:none; fill-opacity:1\" cx=\"1618.05\" cy=\"889.802\" r=\"14\"/>\n",
       "<circle clip-path=\"url(#clip7802)\" style=\"fill:#000000; stroke:none; fill-opacity:1\" cx=\"1393.41\" cy=\"743.859\" r=\"18\"/>\n",
       "<circle clip-path=\"url(#clip7802)\" style=\"fill:#e26f46; stroke:none; fill-opacity:1\" cx=\"1393.41\" cy=\"743.859\" r=\"14\"/>\n",
       "<circle clip-path=\"url(#clip7802)\" style=\"fill:#000000; stroke:none; fill-opacity:1\" cx=\"1859.92\" cy=\"731.192\" r=\"18\"/>\n",
       "<circle clip-path=\"url(#clip7802)\" style=\"fill:#e26f46; stroke:none; fill-opacity:1\" cx=\"1859.92\" cy=\"731.192\" r=\"14\"/>\n",
       "<polyline clip-path=\"url(#clip7802)\" style=\"stroke:#3da44d; stroke-width:4; stroke-opacity:1; fill:none\" points=\"\n",
       "  625.958,1446.71 667.005,1401.42 708.053,1356.13 749.101,1310.84 790.148,1265.55 831.196,1220.26 872.243,1174.97 913.291,1129.68 954.338,1084.39 995.386,1039.1 \n",
       "  1036.43,993.811 1077.48,948.52 1118.53,903.23 1159.58,857.94 1200.62,812.65 1241.67,767.359 1282.72,722.069 1323.77,676.779 1364.81,631.489 1405.86,586.198 \n",
       "  1446.91,540.908 1487.96,495.618 1529,450.328 1570.05,405.037 1611.1,359.747 1652.15,314.457 1693.19,269.166 1734.24,223.876 1775.29,178.586 1816.34,133.296 \n",
       "  1857.38,88.0053 \n",
       "  \"/>\n",
       "<path clip-path=\"url(#clip7800)\" d=\"\n",
       "M1989.93 372.684 L2280.76 372.684 L2280.76 130.764 L1989.93 130.764  Z\n",
       "  \" fill=\"#ffffff\" fill-rule=\"evenodd\" fill-opacity=\"1\"/>\n",
       "<polyline clip-path=\"url(#clip7800)\" style=\"stroke:#000000; stroke-width:4; stroke-opacity:1; fill:none\" points=\"\n",
       "  1989.93,372.684 2280.76,372.684 2280.76,130.764 1989.93,130.764 1989.93,372.684 \n",
       "  \"/>\n",
       "<circle clip-path=\"url(#clip7800)\" style=\"fill:#000000; stroke:none; fill-opacity:1\" cx=\"2097.93\" cy=\"191.244\" r=\"25\"/>\n",
       "<circle clip-path=\"url(#clip7800)\" style=\"fill:#009af9; stroke:none; fill-opacity:1\" cx=\"2097.93\" cy=\"191.244\" r=\"21\"/>\n",
       "<g clip-path=\"url(#clip7800)\">\n",
       "<text style=\"fill:#000000; fill-opacity:1; font-family:Arial,Helvetica Neue,Helvetica,sans-serif; font-size:48px; text-anchor:start;\" transform=\"rotate(0, 2181.93, 208.744)\" x=\"2181.93\" y=\"208.744\">y1</text>\n",
       "</g>\n",
       "<circle clip-path=\"url(#clip7800)\" style=\"fill:#000000; stroke:none; fill-opacity:1\" cx=\"2097.93\" cy=\"251.724\" r=\"25\"/>\n",
       "<circle clip-path=\"url(#clip7800)\" style=\"fill:#e26f46; stroke:none; fill-opacity:1\" cx=\"2097.93\" cy=\"251.724\" r=\"21\"/>\n",
       "<g clip-path=\"url(#clip7800)\">\n",
       "<text style=\"fill:#000000; fill-opacity:1; font-family:Arial,Helvetica Neue,Helvetica,sans-serif; font-size:48px; text-anchor:start;\" transform=\"rotate(0, 2181.93, 269.224)\" x=\"2181.93\" y=\"269.224\">y2</text>\n",
       "</g>\n",
       "<polyline clip-path=\"url(#clip7800)\" style=\"stroke:#3da44d; stroke-width:4; stroke-opacity:1; fill:none\" points=\"\n",
       "  2013.93,312.204 2157.93,312.204 \n",
       "  \"/>\n",
       "<g clip-path=\"url(#clip7800)\">\n",
       "<text style=\"fill:#000000; fill-opacity:1; font-family:Arial,Helvetica Neue,Helvetica,sans-serif; font-size:48px; text-anchor:start;\" transform=\"rotate(0, 2181.93, 329.704)\" x=\"2181.93\" y=\"329.704\">y3</text>\n",
       "</g>\n",
       "</svg>\n"
      ]
     },
     "execution_count": 84,
     "metadata": {},
     "output_type": "execute_result"
    }
   ],
   "source": [
    "scatter(X[1,Y .== 1],X[2,Y .== 1])\n",
    "scatter!(X[1,Y .== -1],X[2,Y .== -1])\n",
    "x = [i for i = -1.5:0.1:1.5]\n",
    "y = (-w_[1]/w_[2])*x .+ b_/w_[2]\n",
    "plot!(x,y)"
   ]
  },
  {
   "cell_type": "markdown",
   "metadata": {},
   "source": [
    "We now look at the accuracy of the classification of the points, i.e., what proportion of the points above the line are actually labelled $1$. Checking whether a point is above or below the line amounts to checking the sign of $w^Tx-b$ which is what we do. "
   ]
  },
  {
   "cell_type": "code",
   "execution_count": 85,
   "metadata": {},
   "outputs": [
    {
     "data": {
      "text/plain": [
       "96.5"
      ]
     },
     "execution_count": 85,
     "metadata": {},
     "output_type": "execute_result"
    }
   ],
   "source": [
    "predictions = sign.(w_'*X .- b_)[:]\n",
    "accuracy = sum(predictions .== Y)/length(predictions)*100"
   ]
  },
  {
   "cell_type": "markdown",
   "metadata": {},
   "source": [
    "If you did this correctly, the accuracy should be in the high $90$s. "
   ]
  },
  {
   "cell_type": "code",
   "execution_count": 86,
   "metadata": {},
   "outputs": [],
   "source": [
    "@assert accuracy > 90"
   ]
  },
  {
   "cell_type": "markdown",
   "metadata": {},
   "source": [
    "-----------------"
   ]
  },
  {
   "cell_type": "markdown",
   "metadata": {},
   "source": [
    "The following cell is the exact same cell which loads the wheat seeds data from the last exercise except for one difference. Rather than the ```Y```s containing $1$, $2$, $3$ for the three categories of seeds, the ```Y```s contain $1$ if the seed is of type $3$ and $-1$ otherwise. \n",
    "\n",
    "Refer to the instructions of the previous exercise if you don't recall the meaning and context of this data. "
   ]
  },
  {
   "cell_type": "code",
   "execution_count": 87,
   "metadata": {},
   "outputs": [],
   "source": [
    "Data = readdlm(\"seeds_dataset.txt\", '\\t', '\\n') # Load data\n",
    "X = zeros(7,210) # Data\n",
    "Y = zeros(1,210) # Labels\n",
    "X[1,:] = convert(Array{Float64,1}, Data[:,1]) # 7 different attributes\n",
    "X[2,:] = convert(Array{Float64,1}, Data[:,2]) \n",
    "X[3,:] = convert(Array{Float64,1}, Data[:,3]) \n",
    "X[4,:] = convert(Array{Float64,1}, Data[:,4]) \n",
    "X[5,:] = convert(Array{Float64,1}, Data[:,5]) \n",
    "X[6,:] = convert(Array{Float64,1}, Data[:,6]) \n",
    "X[7,:] = convert(Array{Float64,1}, Data[:,7]) \n",
    "Y = Data[:,8] # Labels\n",
    "Y = [Y[i] == 3 ? 1 : -1 for i in 1:210]\n",
    "I = randperm(210) # Random permutation of indices\n",
    "I_TRAINING = I[1:160] # Training subset\n",
    "I_TESTING = I[160:210] # Testing subset\n",
    "X_TRAINING = X[:,I_TRAINING]\n",
    "Y_TRAINING = Y[I_TRAINING]\n",
    "means = mean(X_TRAINING, dims=2)[:] # Means\n",
    "std_factor = [(1.0./std(X_TRAINING, dims=2)[i])*(i == j) for i = 1:7, j = 1:7] # 1 / (standard deviations)\n",
    "X_TRAINING = X_TRAINING .- means # Subtract means from training data\n",
    "X_TRAINING = std_factor*X_TRAINING # Standardize training data\n",
    "X_TESTING = X[:,I_TESTING] \n",
    "Y_TESTING = Y[I_TESTING]\n",
    "X_TESTING = X_TESTING .- means # Subtract means and standardize testing data\n",
    "X_TESTING = std_factor*X_TESTING;"
   ]
  },
  {
   "cell_type": "code",
   "execution_count": 88,
   "metadata": {},
   "outputs": [
    {
     "data": {
      "text/plain": [
       "7×160 Array{Float64,2}:\n",
       " -1.36598    1.79829   -1.37639   …  -0.0232462   1.87462   -1.01208 \n",
       " -1.3009     1.84301   -1.22403      -0.0248861   1.92757   -1.0088  \n",
       " -1.85795    0.20537   -2.47777       0.400886    0.134651  -0.75557 \n",
       " -0.979479   2.36343   -0.673139     -0.123067    2.00119   -0.99066 \n",
       " -1.66371    1.39205   -1.61517       0.0327356   1.41902   -1.10812 \n",
       "  0.754413  -0.277435   1.14691   …  -0.062171   -1.14236   -0.054437\n",
       " -0.601023   2.3521    -0.388785     -0.338253    1.61433   -0.691981"
      ]
     },
     "execution_count": 88,
     "metadata": {},
     "output_type": "execute_result"
    }
   ],
   "source": [
    "X_TRAINING"
   ]
  },
  {
   "cell_type": "code",
   "execution_count": 89,
   "metadata": {},
   "outputs": [
    {
     "data": {
      "text/plain": [
       "160-element Array{Int64,1}:\n",
       "  1\n",
       " -1\n",
       "  1\n",
       "  1\n",
       " -1\n",
       " -1\n",
       " -1\n",
       "  1\n",
       " -1\n",
       " -1\n",
       " -1\n",
       " -1\n",
       "  1\n",
       "  ⋮\n",
       " -1\n",
       " -1\n",
       " -1\n",
       "  1\n",
       " -1\n",
       "  1\n",
       "  1\n",
       " -1\n",
       " -1\n",
       " -1\n",
       " -1\n",
       "  1"
      ]
     },
     "execution_count": 89,
     "metadata": {},
     "output_type": "execute_result"
    }
   ],
   "source": [
    "Y_TRAINING"
   ]
  },
  {
   "cell_type": "markdown",
   "metadata": {},
   "source": [
    "We will now attempt to identify the type $3$ seeds in the training set by using a separating hyperplane for the seven-dimensional seed features directly."
   ]
  },
  {
   "cell_type": "markdown",
   "metadata": {},
   "source": [
    "**Exercise:** Using ```Convex``` and repeating the exact same thing you did in the previous question, solve for the optimizing $w \\in R^7$ and $b \\in R$ which describe the hyperplane best separating the seven-dimensional data points in ```X_TRAINING``` corresponding to the $1$ and $-1$ labels which are in ```Y_TRAINING```. You can use $C = 1$. \n",
    "\n",
    "Store the values of the optimizing vector $w$ and scalar $b$ in variables called ```w_``` and ```b_``` respectively. "
   ]
  },
  {
   "cell_type": "code",
   "execution_count": 90,
   "metadata": {},
   "outputs": [
    {
     "name": "stdout",
     "output_type": "stream",
     "text": [
      "----------------------------------------------------------------------------\n",
      "\tSCS v2.0.2 - Splitting Conic Solver\n",
      "\t(c) Brendan O'Donoghue, Stanford University, 2012-2017\n",
      "----------------------------------------------------------------------------\n",
      "Lin-sys: sparse-indirect, nnz in A = 1773, CG tol ~ 1/iter^(2.00)\n",
      "eps = 1.00e-05, alpha = 1.50, max_iters = 5000, normalize = 1, scale = 1.00\n",
      "acceleration_lookback = 20, rho_x = 1.00e-03\n",
      "Variables n = 171, constraints m = 333\n",
      "Cones:\tprimal zero / dual free vars: 1\n",
      "\tlinear vars: 321\n",
      "\tsoc vars: 11, soc blks: 2\n",
      "Setup time: 1.01e-04s\n",
      "----------------------------------------------------------------------------\n",
      " Iter | pri res | dua res | rel gap | pri obj | dua obj | kap/tau | time (s)\n",
      "----------------------------------------------------------------------------\n",
      "     0| 4.85e+20  2.25e+21  1.00e+00 -1.21e+22  7.29e+21  2.01e+21  3.03e-04 \n",
      "   100| 2.11e-03  6.76e-02  2.85e-03  1.38e+01  1.37e+01  1.88e-14  1.51e-02 \n",
      "   200| 1.82e-06  2.15e-05  1.10e-06  1.38e+01  1.38e+01  6.34e-15  2.55e-02 \n",
      "   240| 1.50e-07  6.66e-06  1.72e-07  1.38e+01  1.38e+01  1.06e-14  2.89e-02 \n",
      "----------------------------------------------------------------------------\n",
      "Status: Solved\n",
      "Timing: Solve time: 2.89e-02s\n",
      "\tLin-sys: avg # CG iterations: 7.01, avg solve time: 4.87e-05s\n",
      "\tCones: avg projection time: 8.15e-07s\n",
      "\tAcceleration: avg step time: 6.03e-05s\n",
      "----------------------------------------------------------------------------\n",
      "Error metrics:\n",
      "dist(s, K) = 5.5522e-13, dist(y, K*) = 1.1107e-12, s'y/|s||y| = -2.7988e-14\n",
      "primal res: |Ax + s - b|_2 / (1 + |b|_2) = 1.4978e-07\n",
      "dual res:   |A'y + c|_2 / (1 + |c|_2) = 6.6603e-06\n",
      "rel gap:    |c'x + b'y| / (1 + |c'x| + |b'y|) = 1.7245e-07\n",
      "----------------------------------------------------------------------------\n",
      "c'x = 13.8480, -b'y = 13.8480\n",
      "============================================================================\n"
     ]
    },
    {
     "data": {
      "text/plain": [
       "1.4537226477156662"
      ]
     },
     "execution_count": 90,
     "metadata": {},
     "output_type": "execute_result"
    }
   ],
   "source": [
    "# BEGIN SOLUTION\n",
    "# Create variables for the separating hyperplane w'*x = b.\n",
    "w = Variable(7)\n",
    "b = Variable()\n",
    "# Form the objective.\n",
    "obj = sumsquares(w) + sum(max(1+b-w'*X_TRAINING[:,Y_TRAINING .== 1], 0)) + sum(max(1-b+w'*X_TRAINING[:,Y_TRAINING .== -1], 0))\n",
    "# Form and solve problem.\n",
    "problem = minimize(obj)\n",
    "solve!(problem, SCSSolver())\n",
    "w_ = evaluate(w)\n",
    "b_ = evaluate(b)"
   ]
  },
  {
   "cell_type": "markdown",
   "metadata": {},
   "source": [
    "We now check the accuracy of identification of the type $3$ seeds (which we assign the label $1$) by applying our predictor on the testing set. As with the previous question, this categorization is based on the sign of $w^Tx-b$. If you did the previous part correctly, this accuracy should be in the $90$s. "
   ]
  },
  {
   "cell_type": "code",
   "execution_count": 91,
   "metadata": {},
   "outputs": [
    {
     "data": {
      "text/plain": [
       "90.19607843137256"
      ]
     },
     "execution_count": 91,
     "metadata": {},
     "output_type": "execute_result"
    }
   ],
   "source": [
    "predictions = sign.(w_'*X_TESTING.- b_)[:]\n",
    "accuracy = sum(predictions .== Y_TESTING)/length(predictions)*100"
   ]
  },
  {
   "cell_type": "code",
   "execution_count": 92,
   "metadata": {},
   "outputs": [],
   "source": [
    "@assert accuracy > 90"
   ]
  },
  {
   "cell_type": "markdown",
   "metadata": {},
   "source": [
    "------------------------"
   ]
  }
 ],
 "metadata": {
  "kernelspec": {
   "display_name": "Julia 1.2.0",
   "language": "julia",
   "name": "julia-1.2"
  },
  "language_info": {
   "file_extension": ".jl",
   "mimetype": "application/julia",
   "name": "julia",
   "version": "1.2.0"
  }
 },
 "nbformat": 4,
 "nbformat_minor": 2
}
