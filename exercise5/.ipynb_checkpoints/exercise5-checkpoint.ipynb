{
 "cells": [
  {
   "cell_type": "markdown",
   "metadata": {},
   "source": [
    "### Last name: Lee\n",
    "### First name: Ho Seok\n",
    "### Student number: 1004112177\n",
    "### List of collaborators (if any): \n",
    "* Damrongpiriyapong, Soraphol\n",
    "* Last name, first name\n",
    "* Last name, first name"
   ]
  },
  {
   "cell_type": "markdown",
   "metadata": {},
   "source": [
    "In this exercise narrated and partially prepared by me (Mohannad Shehadeh), we'll be continuing along the lines of the previous exercise but we'll also look at some cases where an explicit analytical solution to the optimization problem exists. \n",
    "\n",
    "Some facts will be stated without proofs or with incomplete proofs, but you will have the tools necessary to understand them by yourself and fill in the gaps by the last lecture of the course.\n",
    "\n",
    "I've made the exercise short in recognition of the fact that exams are approaching."
   ]
  },
  {
   "cell_type": "code",
   "execution_count": 19,
   "metadata": {},
   "outputs": [],
   "source": [
    "using Convex\n",
    "using SCS\n",
    "using Plots\n",
    "using LinearAlgebra"
   ]
  },
  {
   "cell_type": "markdown",
   "metadata": {},
   "source": [
    "# Part 1: Least squares"
   ]
  },
  {
   "cell_type": "markdown",
   "metadata": {},
   "source": [
    "The following cell will generate 30 slightly noisy points along the line $y = ax + b$."
   ]
  },
  {
   "cell_type": "code",
   "execution_count": 2,
   "metadata": {},
   "outputs": [
    {
     "data": {
      "image/svg+xml": [
       "<?xml version=\"1.0\" encoding=\"utf-8\"?>\n",
       "<svg xmlns=\"http://www.w3.org/2000/svg\" xmlns:xlink=\"http://www.w3.org/1999/xlink\" width=\"600\" height=\"400\" viewBox=\"0 0 2400 1600\">\n",
       "<defs>\n",
       "  <clipPath id=\"clip8800\">\n",
       "    <rect x=\"0\" y=\"0\" width=\"2400\" height=\"1600\"/>\n",
       "  </clipPath>\n",
       "</defs>\n",
       "<path clip-path=\"url(#clip8800)\" d=\"\n",
       "M0 1600 L2400 1600 L2400 0 L0 0  Z\n",
       "  \" fill=\"#ffffff\" fill-rule=\"evenodd\" fill-opacity=\"1\"/>\n",
       "<defs>\n",
       "  <clipPath id=\"clip8801\">\n",
       "    <rect x=\"480\" y=\"0\" width=\"1681\" height=\"1600\"/>\n",
       "  </clipPath>\n",
       "</defs>\n",
       "<path clip-path=\"url(#clip8800)\" d=\"\n",
       "M153.898 1487.47 L2352.76 1487.47 L2352.76 47.2441 L153.898 47.2441  Z\n",
       "  \" fill=\"#ffffff\" fill-rule=\"evenodd\" fill-opacity=\"1\"/>\n",
       "<defs>\n",
       "  <clipPath id=\"clip8802\">\n",
       "    <rect x=\"153\" y=\"47\" width=\"2200\" height=\"1441\"/>\n",
       "  </clipPath>\n",
       "</defs>\n",
       "<polyline clip-path=\"url(#clip8802)\" style=\"stroke:#000000; stroke-width:2; stroke-opacity:0.1; fill:none\" points=\"\n",
       "  502.253,1487.47 502.253,47.2441 \n",
       "  \"/>\n",
       "<polyline clip-path=\"url(#clip8802)\" style=\"stroke:#000000; stroke-width:2; stroke-opacity:0.1; fill:none\" points=\"\n",
       "  859.907,1487.47 859.907,47.2441 \n",
       "  \"/>\n",
       "<polyline clip-path=\"url(#clip8802)\" style=\"stroke:#000000; stroke-width:2; stroke-opacity:0.1; fill:none\" points=\"\n",
       "  1217.56,1487.47 1217.56,47.2441 \n",
       "  \"/>\n",
       "<polyline clip-path=\"url(#clip8802)\" style=\"stroke:#000000; stroke-width:2; stroke-opacity:0.1; fill:none\" points=\"\n",
       "  1575.22,1487.47 1575.22,47.2441 \n",
       "  \"/>\n",
       "<polyline clip-path=\"url(#clip8802)\" style=\"stroke:#000000; stroke-width:2; stroke-opacity:0.1; fill:none\" points=\"\n",
       "  1932.87,1487.47 1932.87,47.2441 \n",
       "  \"/>\n",
       "<polyline clip-path=\"url(#clip8802)\" style=\"stroke:#000000; stroke-width:2; stroke-opacity:0.1; fill:none\" points=\"\n",
       "  2290.52,1487.47 2290.52,47.2441 \n",
       "  \"/>\n",
       "<polyline clip-path=\"url(#clip8802)\" style=\"stroke:#000000; stroke-width:2; stroke-opacity:0.1; fill:none\" points=\"\n",
       "  153.898,1339.54 2352.76,1339.54 \n",
       "  \"/>\n",
       "<polyline clip-path=\"url(#clip8802)\" style=\"stroke:#000000; stroke-width:2; stroke-opacity:0.1; fill:none\" points=\"\n",
       "  153.898,1053.16 2352.76,1053.16 \n",
       "  \"/>\n",
       "<polyline clip-path=\"url(#clip8802)\" style=\"stroke:#000000; stroke-width:2; stroke-opacity:0.1; fill:none\" points=\"\n",
       "  153.898,766.772 2352.76,766.772 \n",
       "  \"/>\n",
       "<polyline clip-path=\"url(#clip8802)\" style=\"stroke:#000000; stroke-width:2; stroke-opacity:0.1; fill:none\" points=\"\n",
       "  153.898,480.386 2352.76,480.386 \n",
       "  \"/>\n",
       "<polyline clip-path=\"url(#clip8802)\" style=\"stroke:#000000; stroke-width:2; stroke-opacity:0.1; fill:none\" points=\"\n",
       "  153.898,194 2352.76,194 \n",
       "  \"/>\n",
       "<polyline clip-path=\"url(#clip8800)\" style=\"stroke:#000000; stroke-width:4; stroke-opacity:1; fill:none\" points=\"\n",
       "  153.898,1487.47 2352.76,1487.47 \n",
       "  \"/>\n",
       "<polyline clip-path=\"url(#clip8800)\" style=\"stroke:#000000; stroke-width:4; stroke-opacity:1; fill:none\" points=\"\n",
       "  153.898,1487.47 153.898,47.2441 \n",
       "  \"/>\n",
       "<polyline clip-path=\"url(#clip8800)\" style=\"stroke:#000000; stroke-width:4; stroke-opacity:1; fill:none\" points=\"\n",
       "  502.253,1487.47 502.253,1465.87 \n",
       "  \"/>\n",
       "<polyline clip-path=\"url(#clip8800)\" style=\"stroke:#000000; stroke-width:4; stroke-opacity:1; fill:none\" points=\"\n",
       "  859.907,1487.47 859.907,1465.87 \n",
       "  \"/>\n",
       "<polyline clip-path=\"url(#clip8800)\" style=\"stroke:#000000; stroke-width:4; stroke-opacity:1; fill:none\" points=\"\n",
       "  1217.56,1487.47 1217.56,1465.87 \n",
       "  \"/>\n",
       "<polyline clip-path=\"url(#clip8800)\" style=\"stroke:#000000; stroke-width:4; stroke-opacity:1; fill:none\" points=\"\n",
       "  1575.22,1487.47 1575.22,1465.87 \n",
       "  \"/>\n",
       "<polyline clip-path=\"url(#clip8800)\" style=\"stroke:#000000; stroke-width:4; stroke-opacity:1; fill:none\" points=\"\n",
       "  1932.87,1487.47 1932.87,1465.87 \n",
       "  \"/>\n",
       "<polyline clip-path=\"url(#clip8800)\" style=\"stroke:#000000; stroke-width:4; stroke-opacity:1; fill:none\" points=\"\n",
       "  2290.52,1487.47 2290.52,1465.87 \n",
       "  \"/>\n",
       "<polyline clip-path=\"url(#clip8800)\" style=\"stroke:#000000; stroke-width:4; stroke-opacity:1; fill:none\" points=\"\n",
       "  153.898,1339.54 186.881,1339.54 \n",
       "  \"/>\n",
       "<polyline clip-path=\"url(#clip8800)\" style=\"stroke:#000000; stroke-width:4; stroke-opacity:1; fill:none\" points=\"\n",
       "  153.898,1053.16 186.881,1053.16 \n",
       "  \"/>\n",
       "<polyline clip-path=\"url(#clip8800)\" style=\"stroke:#000000; stroke-width:4; stroke-opacity:1; fill:none\" points=\"\n",
       "  153.898,766.772 186.881,766.772 \n",
       "  \"/>\n",
       "<polyline clip-path=\"url(#clip8800)\" style=\"stroke:#000000; stroke-width:4; stroke-opacity:1; fill:none\" points=\"\n",
       "  153.898,480.386 186.881,480.386 \n",
       "  \"/>\n",
       "<polyline clip-path=\"url(#clip8800)\" style=\"stroke:#000000; stroke-width:4; stroke-opacity:1; fill:none\" points=\"\n",
       "  153.898,194 186.881,194 \n",
       "  \"/>\n",
       "<g clip-path=\"url(#clip8800)\">\n",
       "<text style=\"fill:#000000; fill-opacity:1; font-family:Arial,Helvetica Neue,Helvetica,sans-serif; font-size:48px; text-anchor:middle;\" transform=\"rotate(0, 502.253, 1541.47)\" x=\"502.253\" y=\"1541.47\">0.5</text>\n",
       "</g>\n",
       "<g clip-path=\"url(#clip8800)\">\n",
       "<text style=\"fill:#000000; fill-opacity:1; font-family:Arial,Helvetica Neue,Helvetica,sans-serif; font-size:48px; text-anchor:middle;\" transform=\"rotate(0, 859.907, 1541.47)\" x=\"859.907\" y=\"1541.47\">1.0</text>\n",
       "</g>\n",
       "<g clip-path=\"url(#clip8800)\">\n",
       "<text style=\"fill:#000000; fill-opacity:1; font-family:Arial,Helvetica Neue,Helvetica,sans-serif; font-size:48px; text-anchor:middle;\" transform=\"rotate(0, 1217.56, 1541.47)\" x=\"1217.56\" y=\"1541.47\">1.5</text>\n",
       "</g>\n",
       "<g clip-path=\"url(#clip8800)\">\n",
       "<text style=\"fill:#000000; fill-opacity:1; font-family:Arial,Helvetica Neue,Helvetica,sans-serif; font-size:48px; text-anchor:middle;\" transform=\"rotate(0, 1575.22, 1541.47)\" x=\"1575.22\" y=\"1541.47\">2.0</text>\n",
       "</g>\n",
       "<g clip-path=\"url(#clip8800)\">\n",
       "<text style=\"fill:#000000; fill-opacity:1; font-family:Arial,Helvetica Neue,Helvetica,sans-serif; font-size:48px; text-anchor:middle;\" transform=\"rotate(0, 1932.87, 1541.47)\" x=\"1932.87\" y=\"1541.47\">2.5</text>\n",
       "</g>\n",
       "<g clip-path=\"url(#clip8800)\">\n",
       "<text style=\"fill:#000000; fill-opacity:1; font-family:Arial,Helvetica Neue,Helvetica,sans-serif; font-size:48px; text-anchor:middle;\" transform=\"rotate(0, 2290.52, 1541.47)\" x=\"2290.52\" y=\"1541.47\">3.0</text>\n",
       "</g>\n",
       "<g clip-path=\"url(#clip8800)\">\n",
       "<text style=\"fill:#000000; fill-opacity:1; font-family:Arial,Helvetica Neue,Helvetica,sans-serif; font-size:48px; text-anchor:end;\" transform=\"rotate(0, 129.898, 1357.04)\" x=\"129.898\" y=\"1357.04\">0.5</text>\n",
       "</g>\n",
       "<g clip-path=\"url(#clip8800)\">\n",
       "<text style=\"fill:#000000; fill-opacity:1; font-family:Arial,Helvetica Neue,Helvetica,sans-serif; font-size:48px; text-anchor:end;\" transform=\"rotate(0, 129.898, 1070.66)\" x=\"129.898\" y=\"1070.66\">1.0</text>\n",
       "</g>\n",
       "<g clip-path=\"url(#clip8800)\">\n",
       "<text style=\"fill:#000000; fill-opacity:1; font-family:Arial,Helvetica Neue,Helvetica,sans-serif; font-size:48px; text-anchor:end;\" transform=\"rotate(0, 129.898, 784.272)\" x=\"129.898\" y=\"784.272\">1.5</text>\n",
       "</g>\n",
       "<g clip-path=\"url(#clip8800)\">\n",
       "<text style=\"fill:#000000; fill-opacity:1; font-family:Arial,Helvetica Neue,Helvetica,sans-serif; font-size:48px; text-anchor:end;\" transform=\"rotate(0, 129.898, 497.886)\" x=\"129.898\" y=\"497.886\">2.0</text>\n",
       "</g>\n",
       "<g clip-path=\"url(#clip8800)\">\n",
       "<text style=\"fill:#000000; fill-opacity:1; font-family:Arial,Helvetica Neue,Helvetica,sans-serif; font-size:48px; text-anchor:end;\" transform=\"rotate(0, 129.898, 211.5)\" x=\"129.898\" y=\"211.5\">2.5</text>\n",
       "</g>\n",
       "<circle clip-path=\"url(#clip8802)\" style=\"fill:#000000; stroke:none; fill-opacity:1\" cx=\"216.13\" cy=\"1440.15\" r=\"18\"/>\n",
       "<circle clip-path=\"url(#clip8802)\" style=\"fill:#009af9; stroke:none; fill-opacity:1\" cx=\"216.13\" cy=\"1440.15\" r=\"14\"/>\n",
       "<circle clip-path=\"url(#clip8802)\" style=\"fill:#000000; stroke:none; fill-opacity:1\" cx=\"287.661\" cy=\"1446.71\" r=\"18\"/>\n",
       "<circle clip-path=\"url(#clip8802)\" style=\"fill:#009af9; stroke:none; fill-opacity:1\" cx=\"287.661\" cy=\"1446.71\" r=\"14\"/>\n",
       "<circle clip-path=\"url(#clip8802)\" style=\"fill:#000000; stroke:none; fill-opacity:1\" cx=\"359.191\" cy=\"1392.92\" r=\"18\"/>\n",
       "<circle clip-path=\"url(#clip8802)\" style=\"fill:#009af9; stroke:none; fill-opacity:1\" cx=\"359.191\" cy=\"1392.92\" r=\"14\"/>\n",
       "<circle clip-path=\"url(#clip8802)\" style=\"fill:#000000; stroke:none; fill-opacity:1\" cx=\"430.722\" cy=\"1281.77\" r=\"18\"/>\n",
       "<circle clip-path=\"url(#clip8802)\" style=\"fill:#009af9; stroke:none; fill-opacity:1\" cx=\"430.722\" cy=\"1281.77\" r=\"14\"/>\n",
       "<circle clip-path=\"url(#clip8802)\" style=\"fill:#000000; stroke:none; fill-opacity:1\" cx=\"502.253\" cy=\"1326.83\" r=\"18\"/>\n",
       "<circle clip-path=\"url(#clip8802)\" style=\"fill:#009af9; stroke:none; fill-opacity:1\" cx=\"502.253\" cy=\"1326.83\" r=\"14\"/>\n",
       "<circle clip-path=\"url(#clip8802)\" style=\"fill:#000000; stroke:none; fill-opacity:1\" cx=\"573.784\" cy=\"1236.33\" r=\"18\"/>\n",
       "<circle clip-path=\"url(#clip8802)\" style=\"fill:#009af9; stroke:none; fill-opacity:1\" cx=\"573.784\" cy=\"1236.33\" r=\"14\"/>\n",
       "<circle clip-path=\"url(#clip8802)\" style=\"fill:#000000; stroke:none; fill-opacity:1\" cx=\"645.315\" cy=\"1283.33\" r=\"18\"/>\n",
       "<circle clip-path=\"url(#clip8802)\" style=\"fill:#009af9; stroke:none; fill-opacity:1\" cx=\"645.315\" cy=\"1283.33\" r=\"14\"/>\n",
       "<circle clip-path=\"url(#clip8802)\" style=\"fill:#000000; stroke:none; fill-opacity:1\" cx=\"716.846\" cy=\"1238.48\" r=\"18\"/>\n",
       "<circle clip-path=\"url(#clip8802)\" style=\"fill:#009af9; stroke:none; fill-opacity:1\" cx=\"716.846\" cy=\"1238.48\" r=\"14\"/>\n",
       "<circle clip-path=\"url(#clip8802)\" style=\"fill:#000000; stroke:none; fill-opacity:1\" cx=\"788.376\" cy=\"1210.36\" r=\"18\"/>\n",
       "<circle clip-path=\"url(#clip8802)\" style=\"fill:#009af9; stroke:none; fill-opacity:1\" cx=\"788.376\" cy=\"1210.36\" r=\"14\"/>\n",
       "<circle clip-path=\"url(#clip8802)\" style=\"fill:#000000; stroke:none; fill-opacity:1\" cx=\"859.907\" cy=\"1108.08\" r=\"18\"/>\n",
       "<circle clip-path=\"url(#clip8802)\" style=\"fill:#009af9; stroke:none; fill-opacity:1\" cx=\"859.907\" cy=\"1108.08\" r=\"14\"/>\n",
       "<circle clip-path=\"url(#clip8802)\" style=\"fill:#000000; stroke:none; fill-opacity:1\" cx=\"931.438\" cy=\"1081.17\" r=\"18\"/>\n",
       "<circle clip-path=\"url(#clip8802)\" style=\"fill:#009af9; stroke:none; fill-opacity:1\" cx=\"931.438\" cy=\"1081.17\" r=\"14\"/>\n",
       "<circle clip-path=\"url(#clip8802)\" style=\"fill:#000000; stroke:none; fill-opacity:1\" cx=\"1002.97\" cy=\"948.053\" r=\"18\"/>\n",
       "<circle clip-path=\"url(#clip8802)\" style=\"fill:#009af9; stroke:none; fill-opacity:1\" cx=\"1002.97\" cy=\"948.053\" r=\"14\"/>\n",
       "<circle clip-path=\"url(#clip8802)\" style=\"fill:#000000; stroke:none; fill-opacity:1\" cx=\"1074.5\" cy=\"886.869\" r=\"18\"/>\n",
       "<circle clip-path=\"url(#clip8802)\" style=\"fill:#009af9; stroke:none; fill-opacity:1\" cx=\"1074.5\" cy=\"886.869\" r=\"14\"/>\n",
       "<circle clip-path=\"url(#clip8802)\" style=\"fill:#000000; stroke:none; fill-opacity:1\" cx=\"1146.03\" cy=\"902.707\" r=\"18\"/>\n",
       "<circle clip-path=\"url(#clip8802)\" style=\"fill:#009af9; stroke:none; fill-opacity:1\" cx=\"1146.03\" cy=\"902.707\" r=\"14\"/>\n",
       "<circle clip-path=\"url(#clip8802)\" style=\"fill:#000000; stroke:none; fill-opacity:1\" cx=\"1217.56\" cy=\"862.243\" r=\"18\"/>\n",
       "<circle clip-path=\"url(#clip8802)\" style=\"fill:#009af9; stroke:none; fill-opacity:1\" cx=\"1217.56\" cy=\"862.243\" r=\"14\"/>\n",
       "<circle clip-path=\"url(#clip8802)\" style=\"fill:#000000; stroke:none; fill-opacity:1\" cx=\"1289.09\" cy=\"690.678\" r=\"18\"/>\n",
       "<circle clip-path=\"url(#clip8802)\" style=\"fill:#009af9; stroke:none; fill-opacity:1\" cx=\"1289.09\" cy=\"690.678\" r=\"14\"/>\n",
       "<circle clip-path=\"url(#clip8802)\" style=\"fill:#000000; stroke:none; fill-opacity:1\" cx=\"1360.62\" cy=\"659.469\" r=\"18\"/>\n",
       "<circle clip-path=\"url(#clip8802)\" style=\"fill:#009af9; stroke:none; fill-opacity:1\" cx=\"1360.62\" cy=\"659.469\" r=\"14\"/>\n",
       "<circle clip-path=\"url(#clip8802)\" style=\"fill:#000000; stroke:none; fill-opacity:1\" cx=\"1432.15\" cy=\"704.07\" r=\"18\"/>\n",
       "<circle clip-path=\"url(#clip8802)\" style=\"fill:#009af9; stroke:none; fill-opacity:1\" cx=\"1432.15\" cy=\"704.07\" r=\"14\"/>\n",
       "<circle clip-path=\"url(#clip8802)\" style=\"fill:#000000; stroke:none; fill-opacity:1\" cx=\"1503.68\" cy=\"556.971\" r=\"18\"/>\n",
       "<circle clip-path=\"url(#clip8802)\" style=\"fill:#009af9; stroke:none; fill-opacity:1\" cx=\"1503.68\" cy=\"556.971\" r=\"14\"/>\n",
       "<circle clip-path=\"url(#clip8802)\" style=\"fill:#000000; stroke:none; fill-opacity:1\" cx=\"1575.22\" cy=\"573.761\" r=\"18\"/>\n",
       "<circle clip-path=\"url(#clip8802)\" style=\"fill:#009af9; stroke:none; fill-opacity:1\" cx=\"1575.22\" cy=\"573.761\" r=\"14\"/>\n",
       "<circle clip-path=\"url(#clip8802)\" style=\"fill:#000000; stroke:none; fill-opacity:1\" cx=\"1646.75\" cy=\"461.853\" r=\"18\"/>\n",
       "<circle clip-path=\"url(#clip8802)\" style=\"fill:#009af9; stroke:none; fill-opacity:1\" cx=\"1646.75\" cy=\"461.853\" r=\"14\"/>\n",
       "<circle clip-path=\"url(#clip8802)\" style=\"fill:#000000; stroke:none; fill-opacity:1\" cx=\"1718.28\" cy=\"538.497\" r=\"18\"/>\n",
       "<circle clip-path=\"url(#clip8802)\" style=\"fill:#009af9; stroke:none; fill-opacity:1\" cx=\"1718.28\" cy=\"538.497\" r=\"14\"/>\n",
       "<circle clip-path=\"url(#clip8802)\" style=\"fill:#000000; stroke:none; fill-opacity:1\" cx=\"1789.81\" cy=\"471.906\" r=\"18\"/>\n",
       "<circle clip-path=\"url(#clip8802)\" style=\"fill:#009af9; stroke:none; fill-opacity:1\" cx=\"1789.81\" cy=\"471.906\" r=\"14\"/>\n",
       "<circle clip-path=\"url(#clip8802)\" style=\"fill:#000000; stroke:none; fill-opacity:1\" cx=\"1861.34\" cy=\"463.095\" r=\"18\"/>\n",
       "<circle clip-path=\"url(#clip8802)\" style=\"fill:#009af9; stroke:none; fill-opacity:1\" cx=\"1861.34\" cy=\"463.095\" r=\"14\"/>\n",
       "<circle clip-path=\"url(#clip8802)\" style=\"fill:#000000; stroke:none; fill-opacity:1\" cx=\"1932.87\" cy=\"250.414\" r=\"18\"/>\n",
       "<circle clip-path=\"url(#clip8802)\" style=\"fill:#009af9; stroke:none; fill-opacity:1\" cx=\"1932.87\" cy=\"250.414\" r=\"14\"/>\n",
       "<circle clip-path=\"url(#clip8802)\" style=\"fill:#000000; stroke:none; fill-opacity:1\" cx=\"2004.4\" cy=\"378.846\" r=\"18\"/>\n",
       "<circle clip-path=\"url(#clip8802)\" style=\"fill:#009af9; stroke:none; fill-opacity:1\" cx=\"2004.4\" cy=\"378.846\" r=\"14\"/>\n",
       "<circle clip-path=\"url(#clip8802)\" style=\"fill:#000000; stroke:none; fill-opacity:1\" cx=\"2075.93\" cy=\"334.648\" r=\"18\"/>\n",
       "<circle clip-path=\"url(#clip8802)\" style=\"fill:#009af9; stroke:none; fill-opacity:1\" cx=\"2075.93\" cy=\"334.648\" r=\"14\"/>\n",
       "<circle clip-path=\"url(#clip8802)\" style=\"fill:#000000; stroke:none; fill-opacity:1\" cx=\"2147.46\" cy=\"180.344\" r=\"18\"/>\n",
       "<circle clip-path=\"url(#clip8802)\" style=\"fill:#009af9; stroke:none; fill-opacity:1\" cx=\"2147.46\" cy=\"180.344\" r=\"14\"/>\n",
       "<circle clip-path=\"url(#clip8802)\" style=\"fill:#000000; stroke:none; fill-opacity:1\" cx=\"2218.99\" cy=\"88.0053\" r=\"18\"/>\n",
       "<circle clip-path=\"url(#clip8802)\" style=\"fill:#009af9; stroke:none; fill-opacity:1\" cx=\"2218.99\" cy=\"88.0053\" r=\"14\"/>\n",
       "<circle clip-path=\"url(#clip8802)\" style=\"fill:#000000; stroke:none; fill-opacity:1\" cx=\"2290.52\" cy=\"184.751\" r=\"18\"/>\n",
       "<circle clip-path=\"url(#clip8802)\" style=\"fill:#009af9; stroke:none; fill-opacity:1\" cx=\"2290.52\" cy=\"184.751\" r=\"14\"/>\n",
       "<path clip-path=\"url(#clip8800)\" d=\"\n",
       "M1989.93 251.724 L2280.76 251.724 L2280.76 130.764 L1989.93 130.764  Z\n",
       "  \" fill=\"#ffffff\" fill-rule=\"evenodd\" fill-opacity=\"1\"/>\n",
       "<polyline clip-path=\"url(#clip8800)\" style=\"stroke:#000000; stroke-width:4; stroke-opacity:1; fill:none\" points=\"\n",
       "  1989.93,251.724 2280.76,251.724 2280.76,130.764 1989.93,130.764 1989.93,251.724 \n",
       "  \"/>\n",
       "<circle clip-path=\"url(#clip8800)\" style=\"fill:#000000; stroke:none; fill-opacity:1\" cx=\"2097.93\" cy=\"191.244\" r=\"25\"/>\n",
       "<circle clip-path=\"url(#clip8800)\" style=\"fill:#009af9; stroke:none; fill-opacity:1\" cx=\"2097.93\" cy=\"191.244\" r=\"21\"/>\n",
       "<g clip-path=\"url(#clip8800)\">\n",
       "<text style=\"fill:#000000; fill-opacity:1; font-family:Arial,Helvetica Neue,Helvetica,sans-serif; font-size:48px; text-anchor:start;\" transform=\"rotate(0, 2181.93, 208.744)\" x=\"2181.93\" y=\"208.744\">y1</text>\n",
       "</g>\n",
       "</svg>\n"
      ]
     },
     "execution_count": 2,
     "metadata": {},
     "output_type": "execute_result"
    }
   ],
   "source": [
    "x = [i for i in 0.1:0.1:3]\n",
    "a = 0.8\n",
    "b = 0.2\n",
    "y = a.*x .+ b .+ 0.1*randn(30)\n",
    "scatter(x,y)"
   ]
  },
  {
   "cell_type": "markdown",
   "metadata": {},
   "source": [
    "The following matrix will contain a column of ones and a column of the $x$ values. The purpose of the ones will be seen soon."
   ]
  },
  {
   "cell_type": "code",
   "execution_count": 3,
   "metadata": {},
   "outputs": [
    {
     "data": {
      "text/plain": [
       "30×2 Array{Float64,2}:\n",
       " 1.0  0.1\n",
       " 1.0  0.2\n",
       " 1.0  0.3\n",
       " 1.0  0.4\n",
       " 1.0  0.5\n",
       " 1.0  0.6\n",
       " 1.0  0.7\n",
       " 1.0  0.8\n",
       " 1.0  0.9\n",
       " 1.0  1.0\n",
       " 1.0  1.1\n",
       " 1.0  1.2\n",
       " 1.0  1.3\n",
       " ⋮       \n",
       " 1.0  1.9\n",
       " 1.0  2.0\n",
       " 1.0  2.1\n",
       " 1.0  2.2\n",
       " 1.0  2.3\n",
       " 1.0  2.4\n",
       " 1.0  2.5\n",
       " 1.0  2.6\n",
       " 1.0  2.7\n",
       " 1.0  2.8\n",
       " 1.0  2.9\n",
       " 1.0  3.0"
      ]
     },
     "execution_count": 3,
     "metadata": {},
     "output_type": "execute_result"
    }
   ],
   "source": [
    "X = [ones(30,1) x]"
   ]
  },
  {
   "cell_type": "markdown",
   "metadata": {},
   "source": [
    "The following vector will contain the corresponding $y$ values. "
   ]
  },
  {
   "cell_type": "code",
   "execution_count": 4,
   "metadata": {},
   "outputs": [
    {
     "data": {
      "text/plain": [
       "30-element Array{Float64,1}:\n",
       " 0.324348379098193 \n",
       " 0.3128949100973407\n",
       " 0.4068090185803246\n",
       " 0.6008656317711434\n",
       " 0.5221990160369298\n",
       " 0.680210574536757 \n",
       " 0.5981452562278734\n",
       " 0.6764461908947113\n",
       " 0.725537056263317 \n",
       " 0.9041067356303106\n",
       " 0.951094211145822 \n",
       " 1.1835029662216452\n",
       " 1.2903245864455573\n",
       " ⋮                 \n",
       " 1.8662913454476757\n",
       " 1.8369769720423206\n",
       " 2.032357246714286 \n",
       " 1.898543789834694 \n",
       " 2.0148051365539117\n",
       " 2.0301888059958526\n",
       " 2.4015059273088166\n",
       " 2.177278236238289 \n",
       " 2.254443405473402 \n",
       " 2.5238416883730186\n",
       " 2.685054872743585 \n",
       " 2.5161468918678205"
      ]
     },
     "execution_count": 4,
     "metadata": {},
     "output_type": "execute_result"
    }
   ],
   "source": [
    "y"
   ]
  },
  {
   "cell_type": "markdown",
   "metadata": {},
   "source": [
    "We seek to find the line $w_1+w_2x = \\begin{bmatrix}1 & x\\end{bmatrix}\\begin{bmatrix}w_1 \\\\ w_2\\end{bmatrix}$  which best fits the data in the following sense: \n",
    "\n",
    "\n",
    "Let $w = \\begin{bmatrix}w_1 & w_2\\end{bmatrix}^T$ and let $X \\in R^{30 \\times 2}$ and $y \\in R^{30}$ be the matrix and vector defined in the previous two cells. \n",
    "\n",
    "We would like to minimize \n",
    "\n",
    "$$\\sum_{i=1}^{30}(y_i - (w_1+w_2X_{i,2}))^2 = ||y - Xw||_2^2$$ \n",
    "\n",
    "with respect to $w \\in R^2$.\n"
   ]
  },
  {
   "cell_type": "markdown",
   "metadata": {},
   "source": [
    "**Exercise:** Using ```Convex``` as you learned to in the previous numerical exercise, find the optimizing value of $w \\in R^2$ and store it in a variable called ```w_star_1```.  "
   ]
  },
  {
   "cell_type": "code",
   "execution_count": 26,
   "metadata": {},
   "outputs": [
    {
     "name": "stdout",
     "output_type": "stream",
     "text": [
      "----------------------------------------------------------------------------\n",
      "\tSCS v2.0.2 - Splitting Conic Solver\n",
      "\t(c) Brendan O'Donoghue, Stanford University, 2012-2017\n",
      "----------------------------------------------------------------------------\n",
      "Lin-sys: sparse-indirect, nnz in A = 68, CG tol ~ 1/iter^(2.00)\n",
      "eps = 1.00e-05, alpha = 1.50, max_iters = 5000, normalize = 1, scale = 1.00\n",
      "acceleration_lookback = 20, rho_x = 1.00e-03\n",
      "Variables n = 5, constraints m = 38\n",
      "Cones:\tprimal zero / dual free vars: 1\n",
      "\tlinear vars: 3\n",
      "\tsoc vars: 34, soc blks: 2\n",
      "Setup time: 3.62e-05s\n",
      "----------------------------------------------------------------------------\n",
      " Iter | pri res | dua res | rel gap | pri obj | dua obj | kap/tau | time (s)\n",
      "----------------------------------------------------------------------------\n",
      "     0| 8.63e-01  9.94e-01  8.63e-01 -5.31e+00  1.00e+00  3.88e-15  2.45e-05 \n",
      "    40| 4.39e-09  5.03e-08  3.65e-08  3.22e-01  3.22e-01  2.42e-15  1.91e-04 \n",
      "----------------------------------------------------------------------------\n",
      "Status: Solved\n",
      "Timing: Solve time: 1.92e-04s\n",
      "\tLin-sys: avg # CG iterations: 2.12, avg solve time: 1.25e-06s\n",
      "\tCones: avg projection time: 1.29e-07s\n",
      "\tAcceleration: avg step time: 1.85e-06s\n",
      "----------------------------------------------------------------------------\n",
      "Error metrics:\n",
      "dist(s, K) = 7.8826e-15, dist(y, K*) = 1.5321e-14, s'y/|s||y| = -1.0132e-14\n",
      "primal res: |Ax + s - b|_2 / (1 + |b|_2) = 4.3949e-09\n",
      "dual res:   |A'y + c|_2 / (1 + |c|_2) = 5.0318e-08\n",
      "rel gap:    |c'x + b'y| / (1 + |c'x| + |b'y|) = 3.6466e-08\n",
      "----------------------------------------------------------------------------\n",
      "c'x = 0.3224, -b'y = 0.3224\n",
      "============================================================================\n"
     ]
    },
    {
     "data": {
      "text/plain": [
       "0.3224175785380259"
      ]
     },
     "execution_count": 26,
     "metadata": {},
     "output_type": "execute_result"
    }
   ],
   "source": [
    "# BEGIN SOLUTION\n",
    "w = Variable(2)\n",
    "\n",
    "objective = sumsquares(y - X*w)\n",
    "\n",
    "constraints = [w > 0]\n",
    "\n",
    "problem = minimize(objective, constraints)\n",
    "solve!(problem, SCSSolver())\n",
    "\n",
    "w_star_1 = w.value\n",
    "p_1 = problem.optval"
   ]
  },
  {
   "cell_type": "code",
   "execution_count": 27,
   "metadata": {},
   "outputs": [
    {
     "data": {
      "image/svg+xml": [
       "<?xml version=\"1.0\" encoding=\"utf-8\"?>\n",
       "<svg xmlns=\"http://www.w3.org/2000/svg\" xmlns:xlink=\"http://www.w3.org/1999/xlink\" width=\"600\" height=\"400\" viewBox=\"0 0 2400 1600\">\n",
       "<defs>\n",
       "  <clipPath id=\"clip9200\">\n",
       "    <rect x=\"0\" y=\"0\" width=\"2400\" height=\"1600\"/>\n",
       "  </clipPath>\n",
       "</defs>\n",
       "<path clip-path=\"url(#clip9200)\" d=\"\n",
       "M0 1600 L2400 1600 L2400 0 L0 0  Z\n",
       "  \" fill=\"#ffffff\" fill-rule=\"evenodd\" fill-opacity=\"1\"/>\n",
       "<defs>\n",
       "  <clipPath id=\"clip9201\">\n",
       "    <rect x=\"480\" y=\"0\" width=\"1681\" height=\"1600\"/>\n",
       "  </clipPath>\n",
       "</defs>\n",
       "<path clip-path=\"url(#clip9200)\" d=\"\n",
       "M153.898 1487.47 L2352.76 1487.47 L2352.76 47.2441 L153.898 47.2441  Z\n",
       "  \" fill=\"#ffffff\" fill-rule=\"evenodd\" fill-opacity=\"1\"/>\n",
       "<defs>\n",
       "  <clipPath id=\"clip9202\">\n",
       "    <rect x=\"153\" y=\"47\" width=\"2200\" height=\"1441\"/>\n",
       "  </clipPath>\n",
       "</defs>\n",
       "<polyline clip-path=\"url(#clip9202)\" style=\"stroke:#000000; stroke-width:2; stroke-opacity:0.1; fill:none\" points=\"\n",
       "  502.253,1487.47 502.253,47.2441 \n",
       "  \"/>\n",
       "<polyline clip-path=\"url(#clip9202)\" style=\"stroke:#000000; stroke-width:2; stroke-opacity:0.1; fill:none\" points=\"\n",
       "  859.907,1487.47 859.907,47.2441 \n",
       "  \"/>\n",
       "<polyline clip-path=\"url(#clip9202)\" style=\"stroke:#000000; stroke-width:2; stroke-opacity:0.1; fill:none\" points=\"\n",
       "  1217.56,1487.47 1217.56,47.2441 \n",
       "  \"/>\n",
       "<polyline clip-path=\"url(#clip9202)\" style=\"stroke:#000000; stroke-width:2; stroke-opacity:0.1; fill:none\" points=\"\n",
       "  1575.22,1487.47 1575.22,47.2441 \n",
       "  \"/>\n",
       "<polyline clip-path=\"url(#clip9202)\" style=\"stroke:#000000; stroke-width:2; stroke-opacity:0.1; fill:none\" points=\"\n",
       "  1932.87,1487.47 1932.87,47.2441 \n",
       "  \"/>\n",
       "<polyline clip-path=\"url(#clip9202)\" style=\"stroke:#000000; stroke-width:2; stroke-opacity:0.1; fill:none\" points=\"\n",
       "  2290.52,1487.47 2290.52,47.2441 \n",
       "  \"/>\n",
       "<polyline clip-path=\"url(#clip9202)\" style=\"stroke:#000000; stroke-width:2; stroke-opacity:0.1; fill:none\" points=\"\n",
       "  153.898,1294.71 2352.76,1294.71 \n",
       "  \"/>\n",
       "<polyline clip-path=\"url(#clip9202)\" style=\"stroke:#000000; stroke-width:2; stroke-opacity:0.1; fill:none\" points=\"\n",
       "  153.898,1018.59 2352.76,1018.59 \n",
       "  \"/>\n",
       "<polyline clip-path=\"url(#clip9202)\" style=\"stroke:#000000; stroke-width:2; stroke-opacity:0.1; fill:none\" points=\"\n",
       "  153.898,742.458 2352.76,742.458 \n",
       "  \"/>\n",
       "<polyline clip-path=\"url(#clip9202)\" style=\"stroke:#000000; stroke-width:2; stroke-opacity:0.1; fill:none\" points=\"\n",
       "  153.898,466.331 2352.76,466.331 \n",
       "  \"/>\n",
       "<polyline clip-path=\"url(#clip9202)\" style=\"stroke:#000000; stroke-width:2; stroke-opacity:0.1; fill:none\" points=\"\n",
       "  153.898,190.203 2352.76,190.203 \n",
       "  \"/>\n",
       "<polyline clip-path=\"url(#clip9200)\" style=\"stroke:#000000; stroke-width:4; stroke-opacity:1; fill:none\" points=\"\n",
       "  153.898,1487.47 2352.76,1487.47 \n",
       "  \"/>\n",
       "<polyline clip-path=\"url(#clip9200)\" style=\"stroke:#000000; stroke-width:4; stroke-opacity:1; fill:none\" points=\"\n",
       "  153.898,1487.47 153.898,47.2441 \n",
       "  \"/>\n",
       "<polyline clip-path=\"url(#clip9200)\" style=\"stroke:#000000; stroke-width:4; stroke-opacity:1; fill:none\" points=\"\n",
       "  502.253,1487.47 502.253,1465.87 \n",
       "  \"/>\n",
       "<polyline clip-path=\"url(#clip9200)\" style=\"stroke:#000000; stroke-width:4; stroke-opacity:1; fill:none\" points=\"\n",
       "  859.907,1487.47 859.907,1465.87 \n",
       "  \"/>\n",
       "<polyline clip-path=\"url(#clip9200)\" style=\"stroke:#000000; stroke-width:4; stroke-opacity:1; fill:none\" points=\"\n",
       "  1217.56,1487.47 1217.56,1465.87 \n",
       "  \"/>\n",
       "<polyline clip-path=\"url(#clip9200)\" style=\"stroke:#000000; stroke-width:4; stroke-opacity:1; fill:none\" points=\"\n",
       "  1575.22,1487.47 1575.22,1465.87 \n",
       "  \"/>\n",
       "<polyline clip-path=\"url(#clip9200)\" style=\"stroke:#000000; stroke-width:4; stroke-opacity:1; fill:none\" points=\"\n",
       "  1932.87,1487.47 1932.87,1465.87 \n",
       "  \"/>\n",
       "<polyline clip-path=\"url(#clip9200)\" style=\"stroke:#000000; stroke-width:4; stroke-opacity:1; fill:none\" points=\"\n",
       "  2290.52,1487.47 2290.52,1465.87 \n",
       "  \"/>\n",
       "<polyline clip-path=\"url(#clip9200)\" style=\"stroke:#000000; stroke-width:4; stroke-opacity:1; fill:none\" points=\"\n",
       "  153.898,1294.71 186.881,1294.71 \n",
       "  \"/>\n",
       "<polyline clip-path=\"url(#clip9200)\" style=\"stroke:#000000; stroke-width:4; stroke-opacity:1; fill:none\" points=\"\n",
       "  153.898,1018.59 186.881,1018.59 \n",
       "  \"/>\n",
       "<polyline clip-path=\"url(#clip9200)\" style=\"stroke:#000000; stroke-width:4; stroke-opacity:1; fill:none\" points=\"\n",
       "  153.898,742.458 186.881,742.458 \n",
       "  \"/>\n",
       "<polyline clip-path=\"url(#clip9200)\" style=\"stroke:#000000; stroke-width:4; stroke-opacity:1; fill:none\" points=\"\n",
       "  153.898,466.331 186.881,466.331 \n",
       "  \"/>\n",
       "<polyline clip-path=\"url(#clip9200)\" style=\"stroke:#000000; stroke-width:4; stroke-opacity:1; fill:none\" points=\"\n",
       "  153.898,190.203 186.881,190.203 \n",
       "  \"/>\n",
       "<g clip-path=\"url(#clip9200)\">\n",
       "<text style=\"fill:#000000; fill-opacity:1; font-family:Arial,Helvetica Neue,Helvetica,sans-serif; font-size:48px; text-anchor:middle;\" transform=\"rotate(0, 502.253, 1541.47)\" x=\"502.253\" y=\"1541.47\">0.5</text>\n",
       "</g>\n",
       "<g clip-path=\"url(#clip9200)\">\n",
       "<text style=\"fill:#000000; fill-opacity:1; font-family:Arial,Helvetica Neue,Helvetica,sans-serif; font-size:48px; text-anchor:middle;\" transform=\"rotate(0, 859.907, 1541.47)\" x=\"859.907\" y=\"1541.47\">1.0</text>\n",
       "</g>\n",
       "<g clip-path=\"url(#clip9200)\">\n",
       "<text style=\"fill:#000000; fill-opacity:1; font-family:Arial,Helvetica Neue,Helvetica,sans-serif; font-size:48px; text-anchor:middle;\" transform=\"rotate(0, 1217.56, 1541.47)\" x=\"1217.56\" y=\"1541.47\">1.5</text>\n",
       "</g>\n",
       "<g clip-path=\"url(#clip9200)\">\n",
       "<text style=\"fill:#000000; fill-opacity:1; font-family:Arial,Helvetica Neue,Helvetica,sans-serif; font-size:48px; text-anchor:middle;\" transform=\"rotate(0, 1575.22, 1541.47)\" x=\"1575.22\" y=\"1541.47\">2.0</text>\n",
       "</g>\n",
       "<g clip-path=\"url(#clip9200)\">\n",
       "<text style=\"fill:#000000; fill-opacity:1; font-family:Arial,Helvetica Neue,Helvetica,sans-serif; font-size:48px; text-anchor:middle;\" transform=\"rotate(0, 1932.87, 1541.47)\" x=\"1932.87\" y=\"1541.47\">2.5</text>\n",
       "</g>\n",
       "<g clip-path=\"url(#clip9200)\">\n",
       "<text style=\"fill:#000000; fill-opacity:1; font-family:Arial,Helvetica Neue,Helvetica,sans-serif; font-size:48px; text-anchor:middle;\" transform=\"rotate(0, 2290.52, 1541.47)\" x=\"2290.52\" y=\"1541.47\">3.0</text>\n",
       "</g>\n",
       "<g clip-path=\"url(#clip9200)\">\n",
       "<text style=\"fill:#000000; fill-opacity:1; font-family:Arial,Helvetica Neue,Helvetica,sans-serif; font-size:48px; text-anchor:end;\" transform=\"rotate(0, 129.898, 1312.21)\" x=\"129.898\" y=\"1312.21\">0.5</text>\n",
       "</g>\n",
       "<g clip-path=\"url(#clip9200)\">\n",
       "<text style=\"fill:#000000; fill-opacity:1; font-family:Arial,Helvetica Neue,Helvetica,sans-serif; font-size:48px; text-anchor:end;\" transform=\"rotate(0, 129.898, 1036.09)\" x=\"129.898\" y=\"1036.09\">1.0</text>\n",
       "</g>\n",
       "<g clip-path=\"url(#clip9200)\">\n",
       "<text style=\"fill:#000000; fill-opacity:1; font-family:Arial,Helvetica Neue,Helvetica,sans-serif; font-size:48px; text-anchor:end;\" transform=\"rotate(0, 129.898, 759.958)\" x=\"129.898\" y=\"759.958\">1.5</text>\n",
       "</g>\n",
       "<g clip-path=\"url(#clip9200)\">\n",
       "<text style=\"fill:#000000; fill-opacity:1; font-family:Arial,Helvetica Neue,Helvetica,sans-serif; font-size:48px; text-anchor:end;\" transform=\"rotate(0, 129.898, 483.831)\" x=\"129.898\" y=\"483.831\">2.0</text>\n",
       "</g>\n",
       "<g clip-path=\"url(#clip9200)\">\n",
       "<text style=\"fill:#000000; fill-opacity:1; font-family:Arial,Helvetica Neue,Helvetica,sans-serif; font-size:48px; text-anchor:end;\" transform=\"rotate(0, 129.898, 207.703)\" x=\"129.898\" y=\"207.703\">2.5</text>\n",
       "</g>\n",
       "<circle clip-path=\"url(#clip9202)\" style=\"fill:#000000; stroke:none; fill-opacity:1\" cx=\"216.13\" cy=\"1391.72\" r=\"18\"/>\n",
       "<circle clip-path=\"url(#clip9202)\" style=\"fill:#009af9; stroke:none; fill-opacity:1\" cx=\"216.13\" cy=\"1391.72\" r=\"14\"/>\n",
       "<circle clip-path=\"url(#clip9202)\" style=\"fill:#000000; stroke:none; fill-opacity:1\" cx=\"287.661\" cy=\"1398.04\" r=\"18\"/>\n",
       "<circle clip-path=\"url(#clip9202)\" style=\"fill:#009af9; stroke:none; fill-opacity:1\" cx=\"287.661\" cy=\"1398.04\" r=\"14\"/>\n",
       "<circle clip-path=\"url(#clip9202)\" style=\"fill:#000000; stroke:none; fill-opacity:1\" cx=\"359.191\" cy=\"1346.18\" r=\"18\"/>\n",
       "<circle clip-path=\"url(#clip9202)\" style=\"fill:#009af9; stroke:none; fill-opacity:1\" cx=\"359.191\" cy=\"1346.18\" r=\"14\"/>\n",
       "<circle clip-path=\"url(#clip9202)\" style=\"fill:#000000; stroke:none; fill-opacity:1\" cx=\"430.722\" cy=\"1239.01\" r=\"18\"/>\n",
       "<circle clip-path=\"url(#clip9202)\" style=\"fill:#009af9; stroke:none; fill-opacity:1\" cx=\"430.722\" cy=\"1239.01\" r=\"14\"/>\n",
       "<circle clip-path=\"url(#clip9202)\" style=\"fill:#000000; stroke:none; fill-opacity:1\" cx=\"502.253\" cy=\"1282.45\" r=\"18\"/>\n",
       "<circle clip-path=\"url(#clip9202)\" style=\"fill:#009af9; stroke:none; fill-opacity:1\" cx=\"502.253\" cy=\"1282.45\" r=\"14\"/>\n",
       "<circle clip-path=\"url(#clip9202)\" style=\"fill:#000000; stroke:none; fill-opacity:1\" cx=\"573.784\" cy=\"1195.19\" r=\"18\"/>\n",
       "<circle clip-path=\"url(#clip9202)\" style=\"fill:#009af9; stroke:none; fill-opacity:1\" cx=\"573.784\" cy=\"1195.19\" r=\"14\"/>\n",
       "<circle clip-path=\"url(#clip9202)\" style=\"fill:#000000; stroke:none; fill-opacity:1\" cx=\"645.315\" cy=\"1240.51\" r=\"18\"/>\n",
       "<circle clip-path=\"url(#clip9202)\" style=\"fill:#009af9; stroke:none; fill-opacity:1\" cx=\"645.315\" cy=\"1240.51\" r=\"14\"/>\n",
       "<circle clip-path=\"url(#clip9202)\" style=\"fill:#000000; stroke:none; fill-opacity:1\" cx=\"716.846\" cy=\"1197.27\" r=\"18\"/>\n",
       "<circle clip-path=\"url(#clip9202)\" style=\"fill:#009af9; stroke:none; fill-opacity:1\" cx=\"716.846\" cy=\"1197.27\" r=\"14\"/>\n",
       "<circle clip-path=\"url(#clip9202)\" style=\"fill:#000000; stroke:none; fill-opacity:1\" cx=\"788.376\" cy=\"1170.16\" r=\"18\"/>\n",
       "<circle clip-path=\"url(#clip9202)\" style=\"fill:#009af9; stroke:none; fill-opacity:1\" cx=\"788.376\" cy=\"1170.16\" r=\"14\"/>\n",
       "<circle clip-path=\"url(#clip9202)\" style=\"fill:#000000; stroke:none; fill-opacity:1\" cx=\"859.907\" cy=\"1071.54\" r=\"18\"/>\n",
       "<circle clip-path=\"url(#clip9202)\" style=\"fill:#009af9; stroke:none; fill-opacity:1\" cx=\"859.907\" cy=\"1071.54\" r=\"14\"/>\n",
       "<circle clip-path=\"url(#clip9202)\" style=\"fill:#000000; stroke:none; fill-opacity:1\" cx=\"931.438\" cy=\"1045.59\" r=\"18\"/>\n",
       "<circle clip-path=\"url(#clip9202)\" style=\"fill:#009af9; stroke:none; fill-opacity:1\" cx=\"931.438\" cy=\"1045.59\" r=\"14\"/>\n",
       "<circle clip-path=\"url(#clip9202)\" style=\"fill:#000000; stroke:none; fill-opacity:1\" cx=\"1002.97\" cy=\"917.246\" r=\"18\"/>\n",
       "<circle clip-path=\"url(#clip9202)\" style=\"fill:#009af9; stroke:none; fill-opacity:1\" cx=\"1002.97\" cy=\"917.246\" r=\"14\"/>\n",
       "<circle clip-path=\"url(#clip9202)\" style=\"fill:#000000; stroke:none; fill-opacity:1\" cx=\"1074.5\" cy=\"858.253\" r=\"18\"/>\n",
       "<circle clip-path=\"url(#clip9202)\" style=\"fill:#009af9; stroke:none; fill-opacity:1\" cx=\"1074.5\" cy=\"858.253\" r=\"14\"/>\n",
       "<circle clip-path=\"url(#clip9202)\" style=\"fill:#000000; stroke:none; fill-opacity:1\" cx=\"1146.03\" cy=\"873.524\" r=\"18\"/>\n",
       "<circle clip-path=\"url(#clip9202)\" style=\"fill:#009af9; stroke:none; fill-opacity:1\" cx=\"1146.03\" cy=\"873.524\" r=\"14\"/>\n",
       "<circle clip-path=\"url(#clip9202)\" style=\"fill:#000000; stroke:none; fill-opacity:1\" cx=\"1217.56\" cy=\"834.509\" r=\"18\"/>\n",
       "<circle clip-path=\"url(#clip9202)\" style=\"fill:#009af9; stroke:none; fill-opacity:1\" cx=\"1217.56\" cy=\"834.509\" r=\"14\"/>\n",
       "<circle clip-path=\"url(#clip9202)\" style=\"fill:#000000; stroke:none; fill-opacity:1\" cx=\"1289.09\" cy=\"669.09\" r=\"18\"/>\n",
       "<circle clip-path=\"url(#clip9202)\" style=\"fill:#009af9; stroke:none; fill-opacity:1\" cx=\"1289.09\" cy=\"669.09\" r=\"14\"/>\n",
       "<circle clip-path=\"url(#clip9202)\" style=\"fill:#000000; stroke:none; fill-opacity:1\" cx=\"1360.62\" cy=\"638.999\" r=\"18\"/>\n",
       "<circle clip-path=\"url(#clip9202)\" style=\"fill:#009af9; stroke:none; fill-opacity:1\" cx=\"1360.62\" cy=\"638.999\" r=\"14\"/>\n",
       "<circle clip-path=\"url(#clip9202)\" style=\"fill:#000000; stroke:none; fill-opacity:1\" cx=\"1432.15\" cy=\"682.002\" r=\"18\"/>\n",
       "<circle clip-path=\"url(#clip9202)\" style=\"fill:#009af9; stroke:none; fill-opacity:1\" cx=\"1432.15\" cy=\"682.002\" r=\"14\"/>\n",
       "<circle clip-path=\"url(#clip9202)\" style=\"fill:#000000; stroke:none; fill-opacity:1\" cx=\"1503.68\" cy=\"540.172\" r=\"18\"/>\n",
       "<circle clip-path=\"url(#clip9202)\" style=\"fill:#009af9; stroke:none; fill-opacity:1\" cx=\"1503.68\" cy=\"540.172\" r=\"14\"/>\n",
       "<circle clip-path=\"url(#clip9202)\" style=\"fill:#000000; stroke:none; fill-opacity:1\" cx=\"1575.22\" cy=\"556.361\" r=\"18\"/>\n",
       "<circle clip-path=\"url(#clip9202)\" style=\"fill:#009af9; stroke:none; fill-opacity:1\" cx=\"1575.22\" cy=\"556.361\" r=\"14\"/>\n",
       "<circle clip-path=\"url(#clip9202)\" style=\"fill:#000000; stroke:none; fill-opacity:1\" cx=\"1646.75\" cy=\"448.461\" r=\"18\"/>\n",
       "<circle clip-path=\"url(#clip9202)\" style=\"fill:#009af9; stroke:none; fill-opacity:1\" cx=\"1646.75\" cy=\"448.461\" r=\"14\"/>\n",
       "<circle clip-path=\"url(#clip9202)\" style=\"fill:#000000; stroke:none; fill-opacity:1\" cx=\"1718.28\" cy=\"522.36\" r=\"18\"/>\n",
       "<circle clip-path=\"url(#clip9202)\" style=\"fill:#009af9; stroke:none; fill-opacity:1\" cx=\"1718.28\" cy=\"522.36\" r=\"14\"/>\n",
       "<circle clip-path=\"url(#clip9202)\" style=\"fill:#000000; stroke:none; fill-opacity:1\" cx=\"1789.81\" cy=\"458.154\" r=\"18\"/>\n",
       "<circle clip-path=\"url(#clip9202)\" style=\"fill:#009af9; stroke:none; fill-opacity:1\" cx=\"1789.81\" cy=\"458.154\" r=\"14\"/>\n",
       "<circle clip-path=\"url(#clip9202)\" style=\"fill:#000000; stroke:none; fill-opacity:1\" cx=\"1861.34\" cy=\"449.659\" r=\"18\"/>\n",
       "<circle clip-path=\"url(#clip9202)\" style=\"fill:#009af9; stroke:none; fill-opacity:1\" cx=\"1861.34\" cy=\"449.659\" r=\"14\"/>\n",
       "<circle clip-path=\"url(#clip9202)\" style=\"fill:#000000; stroke:none; fill-opacity:1\" cx=\"1932.87\" cy=\"244.597\" r=\"18\"/>\n",
       "<circle clip-path=\"url(#clip9202)\" style=\"fill:#009af9; stroke:none; fill-opacity:1\" cx=\"1932.87\" cy=\"244.597\" r=\"14\"/>\n",
       "<circle clip-path=\"url(#clip9202)\" style=\"fill:#000000; stroke:none; fill-opacity:1\" cx=\"2004.4\" cy=\"368.428\" r=\"18\"/>\n",
       "<circle clip-path=\"url(#clip9202)\" style=\"fill:#009af9; stroke:none; fill-opacity:1\" cx=\"2004.4\" cy=\"368.428\" r=\"14\"/>\n",
       "<circle clip-path=\"url(#clip9202)\" style=\"fill:#000000; stroke:none; fill-opacity:1\" cx=\"2075.93\" cy=\"325.813\" r=\"18\"/>\n",
       "<circle clip-path=\"url(#clip9202)\" style=\"fill:#009af9; stroke:none; fill-opacity:1\" cx=\"2075.93\" cy=\"325.813\" r=\"14\"/>\n",
       "<circle clip-path=\"url(#clip9202)\" style=\"fill:#000000; stroke:none; fill-opacity:1\" cx=\"2147.46\" cy=\"177.036\" r=\"18\"/>\n",
       "<circle clip-path=\"url(#clip9202)\" style=\"fill:#009af9; stroke:none; fill-opacity:1\" cx=\"2147.46\" cy=\"177.036\" r=\"14\"/>\n",
       "<circle clip-path=\"url(#clip9202)\" style=\"fill:#000000; stroke:none; fill-opacity:1\" cx=\"2218.99\" cy=\"88.0053\" r=\"18\"/>\n",
       "<circle clip-path=\"url(#clip9202)\" style=\"fill:#009af9; stroke:none; fill-opacity:1\" cx=\"2218.99\" cy=\"88.0053\" r=\"14\"/>\n",
       "<circle clip-path=\"url(#clip9202)\" style=\"fill:#000000; stroke:none; fill-opacity:1\" cx=\"2290.52\" cy=\"181.286\" r=\"18\"/>\n",
       "<circle clip-path=\"url(#clip9202)\" style=\"fill:#009af9; stroke:none; fill-opacity:1\" cx=\"2290.52\" cy=\"181.286\" r=\"14\"/>\n",
       "<polyline clip-path=\"url(#clip9202)\" style=\"stroke:#e26f46; stroke-width:4; stroke-opacity:1; fill:none\" points=\"\n",
       "  216.13,1446.71 287.661,1400.76 359.191,1354.81 430.722,1308.85 502.253,1262.9 573.784,1216.95 645.315,1170.99 716.846,1125.04 788.376,1079.09 859.907,1033.13 \n",
       "  931.438,987.179 1002.97,941.225 1074.5,895.272 1146.03,849.318 1217.56,803.365 1289.09,757.411 1360.62,711.458 1432.15,665.504 1503.68,619.551 1575.22,573.597 \n",
       "  1646.75,527.644 1718.28,481.69 1789.81,435.737 1861.34,389.783 1932.87,343.83 2004.4,297.876 2075.93,251.923 2147.46,205.969 2218.99,160.016 2290.52,114.062 \n",
       "  \n",
       "  \"/>\n",
       "<path clip-path=\"url(#clip9200)\" d=\"\n",
       "M1989.93 312.204 L2280.76 312.204 L2280.76 130.764 L1989.93 130.764  Z\n",
       "  \" fill=\"#ffffff\" fill-rule=\"evenodd\" fill-opacity=\"1\"/>\n",
       "<polyline clip-path=\"url(#clip9200)\" style=\"stroke:#000000; stroke-width:4; stroke-opacity:1; fill:none\" points=\"\n",
       "  1989.93,312.204 2280.76,312.204 2280.76,130.764 1989.93,130.764 1989.93,312.204 \n",
       "  \"/>\n",
       "<circle clip-path=\"url(#clip9200)\" style=\"fill:#000000; stroke:none; fill-opacity:1\" cx=\"2097.93\" cy=\"191.244\" r=\"25\"/>\n",
       "<circle clip-path=\"url(#clip9200)\" style=\"fill:#009af9; stroke:none; fill-opacity:1\" cx=\"2097.93\" cy=\"191.244\" r=\"21\"/>\n",
       "<g clip-path=\"url(#clip9200)\">\n",
       "<text style=\"fill:#000000; fill-opacity:1; font-family:Arial,Helvetica Neue,Helvetica,sans-serif; font-size:48px; text-anchor:start;\" transform=\"rotate(0, 2181.93, 208.744)\" x=\"2181.93\" y=\"208.744\">y1</text>\n",
       "</g>\n",
       "<polyline clip-path=\"url(#clip9200)\" style=\"stroke:#e26f46; stroke-width:4; stroke-opacity:1; fill:none\" points=\"\n",
       "  2013.93,251.724 2157.93,251.724 \n",
       "  \"/>\n",
       "<g clip-path=\"url(#clip9200)\">\n",
       "<text style=\"fill:#000000; fill-opacity:1; font-family:Arial,Helvetica Neue,Helvetica,sans-serif; font-size:48px; text-anchor:start;\" transform=\"rotate(0, 2181.93, 269.224)\" x=\"2181.93\" y=\"269.224\">y2</text>\n",
       "</g>\n",
       "</svg>\n"
      ]
     },
     "execution_count": 27,
     "metadata": {},
     "output_type": "execute_result"
    }
   ],
   "source": [
    "scatter(x,y)\n",
    "plot!(x, w_star_1[1] .+ w_star_1[2].*x)"
   ]
  },
  {
   "cell_type": "markdown",
   "metadata": {},
   "source": [
    "Suppose we seek to find the minimum of $||y - Xw||_2^2$ with respect to $w \\in R^n$ where $X \\in R^{m\\times n}$ and $y \\in R^m$. Provided that $X$ is full rank, it can be shown that the minimum is given by \n",
    "\n",
    "\\begin{equation}\n",
    "    w^* = (X^T X)^{-1} X^T y\n",
    "\\end{equation}\n",
    "\n",
    "This result can be obtained by calculus analogously to how you solved optimization problems by taking derivatives and setting them to zero in high school. In particular, \n",
    "\n",
    "\\begin{equation}\n",
    "    ||y - Xw||_2^2 = (y - Xw)^T(y - Xw) = y^Ty - 2w^TX^Ty + w^TX^TXw\n",
    "\\end{equation}\n",
    "\n",
    "and taking the gradient with respect to $w$ and setting the result to zero yields \n",
    "\n",
    "\\begin{equation}\n",
    "    2X^TXw = 2X^Ty \n",
    "\\end{equation}\n",
    "\n",
    "from which the result follows. \n",
    "\n",
    "Moreover, you can show that the rank of $X^TX$ is equal to the rank of $X$ which verifies that we can take an inverse of $X^TX$ when $X$ is full rank. (A non-square matrix is said to be full rank when the number of linearly independent columns is as large as it can be.)"
   ]
  },
  {
   "cell_type": "code",
   "execution_count": 28,
   "metadata": {},
   "outputs": [
    {
     "data": {
      "text/plain": [
       "2"
      ]
     },
     "execution_count": 28,
     "metadata": {},
     "output_type": "execute_result"
    }
   ],
   "source": [
    "rank(X)"
   ]
  },
  {
   "cell_type": "code",
   "execution_count": 29,
   "metadata": {},
   "outputs": [
    {
     "data": {
      "text/plain": [
       "2"
      ]
     },
     "execution_count": 29,
     "metadata": {},
     "output_type": "execute_result"
    }
   ],
   "source": [
    "rank(X'*X)"
   ]
  },
  {
   "cell_type": "markdown",
   "metadata": {},
   "source": [
    "**Exercise:** Solve the optimization problem for $w \\in R^2$ using the formula just stated and store the result in a variable called ```w_star_2```. (This is a one-liner). "
   ]
  },
  {
   "cell_type": "code",
   "execution_count": 38,
   "metadata": {},
   "outputs": [
    {
     "data": {
      "text/plain": [
       "2-element Array{Float64,1}:\n",
       " 0.14155508128692187\n",
       " 0.8321058109840688 "
      ]
     },
     "execution_count": 38,
     "metadata": {},
     "output_type": "execute_result"
    }
   ],
   "source": [
    "# BEGIN SOLUTION\n",
    "w_star_2 = inv(X'*X)*X'*y"
   ]
  },
  {
   "cell_type": "code",
   "execution_count": 39,
   "metadata": {},
   "outputs": [
    {
     "data": {
      "text/plain": [
       "3.4476676201191993e-9"
      ]
     },
     "execution_count": 39,
     "metadata": {},
     "output_type": "execute_result"
    }
   ],
   "source": [
    "norm(w_star_1-w_star_2)"
   ]
  },
  {
   "cell_type": "code",
   "execution_count": 40,
   "metadata": {},
   "outputs": [],
   "source": [
    "@assert norm(w_star_1-w_star_2) < 1e-5"
   ]
  },
  {
   "cell_type": "markdown",
   "metadata": {},
   "source": [
    "The matrix $(X^T X)^{-1} X^T$ is called the Moore–Penrose pseudoinverse of $X$ and is often denoted $X^+$. So the solution is given by $w^* = X^+y$. A Moore–Penrose pseudoinverse actually exists even when $X$ is not full rank but will not be given by $(X^T X)^{-1} X^T$ in that case. We'll get back to this topic after a few more questions. "
   ]
  },
  {
   "cell_type": "markdown",
   "metadata": {},
   "source": [
    "----------------"
   ]
  },
  {
   "cell_type": "markdown",
   "metadata": {},
   "source": [
    "In this next part, we'll be looking at the problem of fitting a polynomial to data. We generate synthetic data by adding random noise to $8$ points taken from a cubic polynomial with some points having a little bit of noise and some having strong noise."
   ]
  },
  {
   "cell_type": "code",
   "execution_count": 41,
   "metadata": {},
   "outputs": [
    {
     "data": {
      "image/svg+xml": [
       "<?xml version=\"1.0\" encoding=\"utf-8\"?>\n",
       "<svg xmlns=\"http://www.w3.org/2000/svg\" xmlns:xlink=\"http://www.w3.org/1999/xlink\" width=\"600\" height=\"400\" viewBox=\"0 0 2400 1600\">\n",
       "<defs>\n",
       "  <clipPath id=\"clip9600\">\n",
       "    <rect x=\"0\" y=\"0\" width=\"2400\" height=\"1600\"/>\n",
       "  </clipPath>\n",
       "</defs>\n",
       "<path clip-path=\"url(#clip9600)\" d=\"\n",
       "M0 1600 L2400 1600 L2400 0 L0 0  Z\n",
       "  \" fill=\"#ffffff\" fill-rule=\"evenodd\" fill-opacity=\"1\"/>\n",
       "<defs>\n",
       "  <clipPath id=\"clip9601\">\n",
       "    <rect x=\"480\" y=\"0\" width=\"1681\" height=\"1600\"/>\n",
       "  </clipPath>\n",
       "</defs>\n",
       "<path clip-path=\"url(#clip9600)\" d=\"\n",
       "M141.865 1487.47 L2352.76 1487.47 L2352.76 47.2441 L141.865 47.2441  Z\n",
       "  \" fill=\"#ffffff\" fill-rule=\"evenodd\" fill-opacity=\"1\"/>\n",
       "<defs>\n",
       "  <clipPath id=\"clip9602\">\n",
       "    <rect x=\"141\" y=\"47\" width=\"2212\" height=\"1441\"/>\n",
       "  </clipPath>\n",
       "</defs>\n",
       "<polyline clip-path=\"url(#clip9602)\" style=\"stroke:#000000; stroke-width:2; stroke-opacity:0.1; fill:none\" points=\"\n",
       "  427.91,1487.47 427.91,47.2441 \n",
       "  \"/>\n",
       "<polyline clip-path=\"url(#clip9602)\" style=\"stroke:#000000; stroke-width:2; stroke-opacity:0.1; fill:none\" points=\"\n",
       "  800.365,1487.47 800.365,47.2441 \n",
       "  \"/>\n",
       "<polyline clip-path=\"url(#clip9602)\" style=\"stroke:#000000; stroke-width:2; stroke-opacity:0.1; fill:none\" points=\"\n",
       "  1172.82,1487.47 1172.82,47.2441 \n",
       "  \"/>\n",
       "<polyline clip-path=\"url(#clip9602)\" style=\"stroke:#000000; stroke-width:2; stroke-opacity:0.1; fill:none\" points=\"\n",
       "  1545.27,1487.47 1545.27,47.2441 \n",
       "  \"/>\n",
       "<polyline clip-path=\"url(#clip9602)\" style=\"stroke:#000000; stroke-width:2; stroke-opacity:0.1; fill:none\" points=\"\n",
       "  1917.73,1487.47 1917.73,47.2441 \n",
       "  \"/>\n",
       "<polyline clip-path=\"url(#clip9602)\" style=\"stroke:#000000; stroke-width:2; stroke-opacity:0.1; fill:none\" points=\"\n",
       "  2290.18,1487.47 2290.18,47.2441 \n",
       "  \"/>\n",
       "<polyline clip-path=\"url(#clip9602)\" style=\"stroke:#000000; stroke-width:2; stroke-opacity:0.1; fill:none\" points=\"\n",
       "  141.865,1333.56 2352.76,1333.56 \n",
       "  \"/>\n",
       "<polyline clip-path=\"url(#clip9602)\" style=\"stroke:#000000; stroke-width:2; stroke-opacity:0.1; fill:none\" points=\"\n",
       "  141.865,919.306 2352.76,919.306 \n",
       "  \"/>\n",
       "<polyline clip-path=\"url(#clip9602)\" style=\"stroke:#000000; stroke-width:2; stroke-opacity:0.1; fill:none\" points=\"\n",
       "  141.865,505.051 2352.76,505.051 \n",
       "  \"/>\n",
       "<polyline clip-path=\"url(#clip9602)\" style=\"stroke:#000000; stroke-width:2; stroke-opacity:0.1; fill:none\" points=\"\n",
       "  141.865,90.7958 2352.76,90.7958 \n",
       "  \"/>\n",
       "<polyline clip-path=\"url(#clip9600)\" style=\"stroke:#000000; stroke-width:4; stroke-opacity:1; fill:none\" points=\"\n",
       "  141.865,1487.47 2352.76,1487.47 \n",
       "  \"/>\n",
       "<polyline clip-path=\"url(#clip9600)\" style=\"stroke:#000000; stroke-width:4; stroke-opacity:1; fill:none\" points=\"\n",
       "  141.865,1487.47 141.865,47.2441 \n",
       "  \"/>\n",
       "<polyline clip-path=\"url(#clip9600)\" style=\"stroke:#000000; stroke-width:4; stroke-opacity:1; fill:none\" points=\"\n",
       "  427.91,1487.47 427.91,1465.87 \n",
       "  \"/>\n",
       "<polyline clip-path=\"url(#clip9600)\" style=\"stroke:#000000; stroke-width:4; stroke-opacity:1; fill:none\" points=\"\n",
       "  800.365,1487.47 800.365,1465.87 \n",
       "  \"/>\n",
       "<polyline clip-path=\"url(#clip9600)\" style=\"stroke:#000000; stroke-width:4; stroke-opacity:1; fill:none\" points=\"\n",
       "  1172.82,1487.47 1172.82,1465.87 \n",
       "  \"/>\n",
       "<polyline clip-path=\"url(#clip9600)\" style=\"stroke:#000000; stroke-width:4; stroke-opacity:1; fill:none\" points=\"\n",
       "  1545.27,1487.47 1545.27,1465.87 \n",
       "  \"/>\n",
       "<polyline clip-path=\"url(#clip9600)\" style=\"stroke:#000000; stroke-width:4; stroke-opacity:1; fill:none\" points=\"\n",
       "  1917.73,1487.47 1917.73,1465.87 \n",
       "  \"/>\n",
       "<polyline clip-path=\"url(#clip9600)\" style=\"stroke:#000000; stroke-width:4; stroke-opacity:1; fill:none\" points=\"\n",
       "  2290.18,1487.47 2290.18,1465.87 \n",
       "  \"/>\n",
       "<polyline clip-path=\"url(#clip9600)\" style=\"stroke:#000000; stroke-width:4; stroke-opacity:1; fill:none\" points=\"\n",
       "  141.865,1333.56 175.028,1333.56 \n",
       "  \"/>\n",
       "<polyline clip-path=\"url(#clip9600)\" style=\"stroke:#000000; stroke-width:4; stroke-opacity:1; fill:none\" points=\"\n",
       "  141.865,919.306 175.028,919.306 \n",
       "  \"/>\n",
       "<polyline clip-path=\"url(#clip9600)\" style=\"stroke:#000000; stroke-width:4; stroke-opacity:1; fill:none\" points=\"\n",
       "  141.865,505.051 175.028,505.051 \n",
       "  \"/>\n",
       "<polyline clip-path=\"url(#clip9600)\" style=\"stroke:#000000; stroke-width:4; stroke-opacity:1; fill:none\" points=\"\n",
       "  141.865,90.7958 175.028,90.7958 \n",
       "  \"/>\n",
       "<g clip-path=\"url(#clip9600)\">\n",
       "<text style=\"fill:#000000; fill-opacity:1; font-family:Arial,Helvetica Neue,Helvetica,sans-serif; font-size:48px; text-anchor:middle;\" transform=\"rotate(0, 427.91, 1541.47)\" x=\"427.91\" y=\"1541.47\">-0.5</text>\n",
       "</g>\n",
       "<g clip-path=\"url(#clip9600)\">\n",
       "<text style=\"fill:#000000; fill-opacity:1; font-family:Arial,Helvetica Neue,Helvetica,sans-serif; font-size:48px; text-anchor:middle;\" transform=\"rotate(0, 800.365, 1541.47)\" x=\"800.365\" y=\"1541.47\">0.0</text>\n",
       "</g>\n",
       "<g clip-path=\"url(#clip9600)\">\n",
       "<text style=\"fill:#000000; fill-opacity:1; font-family:Arial,Helvetica Neue,Helvetica,sans-serif; font-size:48px; text-anchor:middle;\" transform=\"rotate(0, 1172.82, 1541.47)\" x=\"1172.82\" y=\"1541.47\">0.5</text>\n",
       "</g>\n",
       "<g clip-path=\"url(#clip9600)\">\n",
       "<text style=\"fill:#000000; fill-opacity:1; font-family:Arial,Helvetica Neue,Helvetica,sans-serif; font-size:48px; text-anchor:middle;\" transform=\"rotate(0, 1545.27, 1541.47)\" x=\"1545.27\" y=\"1541.47\">1.0</text>\n",
       "</g>\n",
       "<g clip-path=\"url(#clip9600)\">\n",
       "<text style=\"fill:#000000; fill-opacity:1; font-family:Arial,Helvetica Neue,Helvetica,sans-serif; font-size:48px; text-anchor:middle;\" transform=\"rotate(0, 1917.73, 1541.47)\" x=\"1917.73\" y=\"1541.47\">1.5</text>\n",
       "</g>\n",
       "<g clip-path=\"url(#clip9600)\">\n",
       "<text style=\"fill:#000000; fill-opacity:1; font-family:Arial,Helvetica Neue,Helvetica,sans-serif; font-size:48px; text-anchor:middle;\" transform=\"rotate(0, 2290.18, 1541.47)\" x=\"2290.18\" y=\"1541.47\">2.0</text>\n",
       "</g>\n",
       "<g clip-path=\"url(#clip9600)\">\n",
       "<text style=\"fill:#000000; fill-opacity:1; font-family:Arial,Helvetica Neue,Helvetica,sans-serif; font-size:48px; text-anchor:end;\" transform=\"rotate(0, 117.865, 1351.06)\" x=\"117.865\" y=\"1351.06\">-2</text>\n",
       "</g>\n",
       "<g clip-path=\"url(#clip9600)\">\n",
       "<text style=\"fill:#000000; fill-opacity:1; font-family:Arial,Helvetica Neue,Helvetica,sans-serif; font-size:48px; text-anchor:end;\" transform=\"rotate(0, 117.865, 936.806)\" x=\"117.865\" y=\"936.806\">-1</text>\n",
       "</g>\n",
       "<g clip-path=\"url(#clip9600)\">\n",
       "<text style=\"fill:#000000; fill-opacity:1; font-family:Arial,Helvetica Neue,Helvetica,sans-serif; font-size:48px; text-anchor:end;\" transform=\"rotate(0, 117.865, 522.551)\" x=\"117.865\" y=\"522.551\">0</text>\n",
       "</g>\n",
       "<g clip-path=\"url(#clip9600)\">\n",
       "<text style=\"fill:#000000; fill-opacity:1; font-family:Arial,Helvetica Neue,Helvetica,sans-serif; font-size:48px; text-anchor:end;\" transform=\"rotate(0, 117.865, 108.296)\" x=\"117.865\" y=\"108.296\">1</text>\n",
       "</g>\n",
       "<circle clip-path=\"url(#clip9602)\" style=\"fill:#000000; stroke:none; fill-opacity:1\" cx=\"204.437\" cy=\"741.122\" r=\"18\"/>\n",
       "<circle clip-path=\"url(#clip9602)\" style=\"fill:#009af9; stroke:none; fill-opacity:1\" cx=\"204.437\" cy=\"741.122\" r=\"14\"/>\n",
       "<circle clip-path=\"url(#clip9602)\" style=\"fill:#000000; stroke:none; fill-opacity:1\" cx=\"502.401\" cy=\"266.44\" r=\"18\"/>\n",
       "<circle clip-path=\"url(#clip9602)\" style=\"fill:#009af9; stroke:none; fill-opacity:1\" cx=\"502.401\" cy=\"266.44\" r=\"14\"/>\n",
       "<circle clip-path=\"url(#clip9602)\" style=\"fill:#000000; stroke:none; fill-opacity:1\" cx=\"800.365\" cy=\"284.988\" r=\"18\"/>\n",
       "<circle clip-path=\"url(#clip9602)\" style=\"fill:#009af9; stroke:none; fill-opacity:1\" cx=\"800.365\" cy=\"284.988\" r=\"14\"/>\n",
       "<circle clip-path=\"url(#clip9602)\" style=\"fill:#000000; stroke:none; fill-opacity:1\" cx=\"1098.33\" cy=\"301.75\" r=\"18\"/>\n",
       "<circle clip-path=\"url(#clip9602)\" style=\"fill:#009af9; stroke:none; fill-opacity:1\" cx=\"1098.33\" cy=\"301.75\" r=\"14\"/>\n",
       "<circle clip-path=\"url(#clip9602)\" style=\"fill:#000000; stroke:none; fill-opacity:1\" cx=\"1396.29\" cy=\"508.232\" r=\"18\"/>\n",
       "<circle clip-path=\"url(#clip9602)\" style=\"fill:#009af9; stroke:none; fill-opacity:1\" cx=\"1396.29\" cy=\"508.232\" r=\"14\"/>\n",
       "<circle clip-path=\"url(#clip9602)\" style=\"fill:#000000; stroke:none; fill-opacity:1\" cx=\"1694.26\" cy=\"1446.71\" r=\"18\"/>\n",
       "<circle clip-path=\"url(#clip9602)\" style=\"fill:#009af9; stroke:none; fill-opacity:1\" cx=\"1694.26\" cy=\"1446.71\" r=\"14\"/>\n",
       "<circle clip-path=\"url(#clip9602)\" style=\"fill:#000000; stroke:none; fill-opacity:1\" cx=\"1992.22\" cy=\"709.718\" r=\"18\"/>\n",
       "<circle clip-path=\"url(#clip9602)\" style=\"fill:#009af9; stroke:none; fill-opacity:1\" cx=\"1992.22\" cy=\"709.718\" r=\"14\"/>\n",
       "<circle clip-path=\"url(#clip9602)\" style=\"fill:#000000; stroke:none; fill-opacity:1\" cx=\"2290.18\" cy=\"300.525\" r=\"18\"/>\n",
       "<circle clip-path=\"url(#clip9602)\" style=\"fill:#009af9; stroke:none; fill-opacity:1\" cx=\"2290.18\" cy=\"300.525\" r=\"14\"/>\n",
       "<polyline clip-path=\"url(#clip9602)\" style=\"stroke:#e26f46; stroke-width:4; stroke-opacity:1; fill:none\" stroke-dasharray=\"16, 10\" points=\"\n",
       "  204.437,750.29 234.233,672.483 264.03,600.35 293.826,533.731 323.622,472.467 353.419,416.4 383.215,365.371 413.012,319.219 442.808,277.787 472.604,240.915 \n",
       "  502.401,208.444 532.197,180.215 561.993,156.069 591.79,135.847 621.586,119.389 651.383,106.537 681.179,97.1322 710.975,91.0145 740.772,88.0252 770.568,88.0053 \n",
       "  800.365,90.7958 830.161,96.2374 859.957,104.171 889.754,114.438 919.55,126.879 949.346,141.335 979.143,157.647 1008.94,175.655 1038.74,195.201 1068.53,216.126 \n",
       "  1098.33,238.271 1128.12,261.476 1157.92,285.582 1187.72,310.431 1217.51,335.862 1247.31,361.719 1277.11,387.84 1306.9,414.067 1336.7,440.242 1366.5,466.204 \n",
       "  1396.29,491.795 1426.09,516.856 1455.88,541.227 1485.68,564.75 1515.48,587.266 1545.27,608.615 1575.07,628.638 1604.87,647.177 1634.66,664.072 1664.46,679.164 \n",
       "  1694.26,692.294 1724.05,703.304 1753.85,712.033 1783.65,718.323 1813.44,722.015 1843.24,722.949 1873.03,720.967 1902.83,715.91 1932.63,707.618 1962.42,695.933 \n",
       "  1992.22,680.695 2022.02,661.745 2051.81,638.925 2081.61,612.075 2111.41,581.035 2141.2,545.648 2171,505.754 2200.79,461.193 2230.59,411.807 2260.39,357.437 \n",
       "  2290.18,297.923 \n",
       "  \"/>\n",
       "<path clip-path=\"url(#clip9600)\" d=\"\n",
       "M1727.84 312.204 L2280.76 312.204 L2280.76 130.764 L1727.84 130.764  Z\n",
       "  \" fill=\"#ffffff\" fill-rule=\"evenodd\" fill-opacity=\"1\"/>\n",
       "<polyline clip-path=\"url(#clip9600)\" style=\"stroke:#000000; stroke-width:4; stroke-opacity:1; fill:none\" points=\"\n",
       "  1727.84,312.204 2280.76,312.204 2280.76,130.764 1727.84,130.764 1727.84,312.204 \n",
       "  \"/>\n",
       "<circle clip-path=\"url(#clip9600)\" style=\"fill:#000000; stroke:none; fill-opacity:1\" cx=\"1835.84\" cy=\"191.244\" r=\"25\"/>\n",
       "<circle clip-path=\"url(#clip9600)\" style=\"fill:#009af9; stroke:none; fill-opacity:1\" cx=\"1835.84\" cy=\"191.244\" r=\"21\"/>\n",
       "<g clip-path=\"url(#clip9600)\">\n",
       "<text style=\"fill:#000000; fill-opacity:1; font-family:Arial,Helvetica Neue,Helvetica,sans-serif; font-size:48px; text-anchor:start;\" transform=\"rotate(0, 1919.84, 208.744)\" x=\"1919.84\" y=\"208.744\">Noisy samples</text>\n",
       "</g>\n",
       "<polyline clip-path=\"url(#clip9600)\" style=\"stroke:#e26f46; stroke-width:4; stroke-opacity:1; fill:none\" stroke-dasharray=\"16, 10\" points=\"\n",
       "  1751.84,251.724 1895.84,251.724 \n",
       "  \"/>\n",
       "<g clip-path=\"url(#clip9600)\">\n",
       "<text style=\"fill:#000000; fill-opacity:1; font-family:Arial,Helvetica Neue,Helvetica,sans-serif; font-size:48px; text-anchor:start;\" transform=\"rotate(0, 1919.84, 269.224)\" x=\"1919.84\" y=\"269.224\">Truth</text>\n",
       "</g>\n",
       "</svg>\n"
      ]
     },
     "execution_count": 41,
     "metadata": {},
     "output_type": "execute_result"
    }
   ],
   "source": [
    "x = [i for i in -0.8:0.4:2.0]\n",
    "x_fine = [i for i in -0.8:0.04:2.0]\n",
    "a = 1\n",
    "b = -2\n",
    "c = -0.25\n",
    "d = 1\n",
    "noise = [(i%3 == 0) ? randn() : 0.1*randn() for i = 1:8]\n",
    "y = a.*x.^3 .+ b.*x.^2 + c.*x .+ d .+ noise\n",
    "y_underlying = a.*x_fine.^3 .+ b.*x_fine.^2 + c.*x_fine .+ d \n",
    "scatter(x,y,label=\"Noisy samples\")\n",
    "plot!(x_fine,y_underlying,linestyle=:dash,label=\"Truth\")"
   ]
  },
  {
   "cell_type": "markdown",
   "metadata": {},
   "source": [
    "In practice, we don't know what degree polynomial we'll need to fit the data well so we'll assume a large degree noting that lower degree polynomials can be obtained from higher degree polynomials by setting the coefficients of the higher degree terms to zero. \n",
    "\n",
    "We'll attempt to fit a degree $6$ polynomial to the data $w_1 + w_2x + w_3x^2 + w_4x^3 + w_5x^4 + w_6x^5 + w_7x^6$.\n",
    "\n",
    "Let $x_1, \\dots, x_8$ and $y = \\begin{bmatrix}y_1 & \\dots & y_8\\end{bmatrix}$ be our data points. Let $w = \\begin{bmatrix}w_1 & \\dots & w_7\\end{bmatrix}$ be the parameters we'd like to optimize with respect to.\n",
    "\n",
    "We define the matrix \n",
    "\n",
    "\\begin{equation}\n",
    "    X = \n",
    "    \\begin{bmatrix}\n",
    "        1 & x_1 & x_1^2 & x_1^3 & \\dots & x_1^6\\\\\n",
    "        1 & x_2 & x_2^2 & x_2^3 & \\dots & x_2^6 \\\\\n",
    "        \\vdots & \\vdots & \\vdots & \\vdots & \\ddots & \\vdots \\\\\n",
    "        1 & x_8 & x_8^2 & x_8^3 & \\dots & x_8^6 \\\\      \n",
    "    \\end{bmatrix}\n",
    "\\end{equation}. \n",
    "\n",
    "Let $f(x) = w_1 + w_2x + w_3x^2 + w_4x^3 + w_5x^4 + w_6x^5 + w_7x^6$. As with fitting the line, we seek to minimize the sum of the squared errors between the data and the function $f(x)$ which will be given by\n",
    "\n",
    "$$\\sum_{i=1}^{8}(y_i - f(x_i))^2 = ||y - Xw||_2^2$$ \n"
   ]
  },
  {
   "cell_type": "markdown",
   "metadata": {},
   "source": [
    "We define the $X$"
   ]
  },
  {
   "cell_type": "code",
   "execution_count": 42,
   "metadata": {},
   "outputs": [
    {
     "data": {
      "text/plain": [
       "8×7 Array{Float64,2}:\n",
       " 1.0  -0.8  0.64  -0.512   0.4096  -0.32768   0.262144\n",
       " 1.0  -0.4  0.16  -0.064   0.0256  -0.01024   0.004096\n",
       " 1.0   0.0  0.0    0.0     0.0      0.0       0.0     \n",
       " 1.0   0.4  0.16   0.064   0.0256   0.01024   0.004096\n",
       " 1.0   0.8  0.64   0.512   0.4096   0.32768   0.262144\n",
       " 1.0   1.2  1.44   1.728   2.0736   2.48832   2.98598 \n",
       " 1.0   1.6  2.56   4.096   6.5536  10.4858   16.7772  \n",
       " 1.0   2.0  4.0    8.0    16.0     32.0      64.0     "
      ]
     },
     "execution_count": 42,
     "metadata": {},
     "output_type": "execute_result"
    }
   ],
   "source": [
    "X = [x.^0 x.^1 x.^2 x.^3 x.^4 x.^5 x.^6]"
   ]
  },
  {
   "cell_type": "code",
   "execution_count": 43,
   "metadata": {},
   "outputs": [
    {
     "data": {
      "text/plain": [
       "7"
      ]
     },
     "execution_count": 43,
     "metadata": {},
     "output_type": "execute_result"
    }
   ],
   "source": [
    "rank(X'*X)"
   ]
  },
  {
   "cell_type": "markdown",
   "metadata": {},
   "source": [
    "We see that it's full rank so we can obtain the solution by the Moore–Penrose pseudoinverse as in the previous part. "
   ]
  },
  {
   "cell_type": "markdown",
   "metadata": {},
   "source": [
    "**Exercise:** Solve the optimization problem for $w \\in R^7$ using the Moore–Penrose pseudoinverse formula and store the result in a variable called ```w_star_1```. (This is a one-liner). "
   ]
  },
  {
   "cell_type": "code",
   "execution_count": 44,
   "metadata": {},
   "outputs": [
    {
     "data": {
      "text/plain": [
       "7-element Array{Float64,1}:\n",
       "  0.3299618731149735\n",
       "  1.3430944059718082\n",
       "  3.461932096073465 \n",
       " -8.662407573098944 \n",
       " -5.325125166813073 \n",
       " 10.61658941435785  \n",
       " -3.1498464633358507"
      ]
     },
     "execution_count": 44,
     "metadata": {},
     "output_type": "execute_result"
    }
   ],
   "source": [
    "# BEGIN SOLUTION\n",
    "w_star_1 = inv(X'*X)*X'*y"
   ]
  },
  {
   "cell_type": "markdown",
   "metadata": {},
   "source": [
    "The following code will plot the function we fitted. It should be pretty bad unless you were really lucky with the random noise. If it's not bad, re-run the code starting from the cell which generates the data. "
   ]
  },
  {
   "cell_type": "code",
   "execution_count": 45,
   "metadata": {},
   "outputs": [
    {
     "data": {
      "image/svg+xml": [
       "<?xml version=\"1.0\" encoding=\"utf-8\"?>\n",
       "<svg xmlns=\"http://www.w3.org/2000/svg\" xmlns:xlink=\"http://www.w3.org/1999/xlink\" width=\"600\" height=\"400\" viewBox=\"0 0 2400 1600\">\n",
       "<defs>\n",
       "  <clipPath id=\"clip0000\">\n",
       "    <rect x=\"0\" y=\"0\" width=\"2400\" height=\"1600\"/>\n",
       "  </clipPath>\n",
       "</defs>\n",
       "<path clip-path=\"url(#clip0000)\" d=\"\n",
       "M0 1600 L2400 1600 L2400 0 L0 0  Z\n",
       "  \" fill=\"#ffffff\" fill-rule=\"evenodd\" fill-opacity=\"1\"/>\n",
       "<defs>\n",
       "  <clipPath id=\"clip0001\">\n",
       "    <rect x=\"480\" y=\"0\" width=\"1681\" height=\"1600\"/>\n",
       "  </clipPath>\n",
       "</defs>\n",
       "<path clip-path=\"url(#clip0000)\" d=\"\n",
       "M141.865 1487.47 L2352.76 1487.47 L2352.76 47.2441 L141.865 47.2441  Z\n",
       "  \" fill=\"#ffffff\" fill-rule=\"evenodd\" fill-opacity=\"1\"/>\n",
       "<defs>\n",
       "  <clipPath id=\"clip0002\">\n",
       "    <rect x=\"141\" y=\"47\" width=\"2212\" height=\"1441\"/>\n",
       "  </clipPath>\n",
       "</defs>\n",
       "<polyline clip-path=\"url(#clip0002)\" style=\"stroke:#000000; stroke-width:2; stroke-opacity:0.1; fill:none\" points=\"\n",
       "  427.91,1487.47 427.91,47.2441 \n",
       "  \"/>\n",
       "<polyline clip-path=\"url(#clip0002)\" style=\"stroke:#000000; stroke-width:2; stroke-opacity:0.1; fill:none\" points=\"\n",
       "  800.365,1487.47 800.365,47.2441 \n",
       "  \"/>\n",
       "<polyline clip-path=\"url(#clip0002)\" style=\"stroke:#000000; stroke-width:2; stroke-opacity:0.1; fill:none\" points=\"\n",
       "  1172.82,1487.47 1172.82,47.2441 \n",
       "  \"/>\n",
       "<polyline clip-path=\"url(#clip0002)\" style=\"stroke:#000000; stroke-width:2; stroke-opacity:0.1; fill:none\" points=\"\n",
       "  1545.27,1487.47 1545.27,47.2441 \n",
       "  \"/>\n",
       "<polyline clip-path=\"url(#clip0002)\" style=\"stroke:#000000; stroke-width:2; stroke-opacity:0.1; fill:none\" points=\"\n",
       "  1917.73,1487.47 1917.73,47.2441 \n",
       "  \"/>\n",
       "<polyline clip-path=\"url(#clip0002)\" style=\"stroke:#000000; stroke-width:2; stroke-opacity:0.1; fill:none\" points=\"\n",
       "  2290.18,1487.47 2290.18,47.2441 \n",
       "  \"/>\n",
       "<polyline clip-path=\"url(#clip0002)\" style=\"stroke:#000000; stroke-width:2; stroke-opacity:0.1; fill:none\" points=\"\n",
       "  141.865,1341.95 2352.76,1341.95 \n",
       "  \"/>\n",
       "<polyline clip-path=\"url(#clip0002)\" style=\"stroke:#000000; stroke-width:2; stroke-opacity:0.1; fill:none\" points=\"\n",
       "  141.865,958.422 2352.76,958.422 \n",
       "  \"/>\n",
       "<polyline clip-path=\"url(#clip0002)\" style=\"stroke:#000000; stroke-width:2; stroke-opacity:0.1; fill:none\" points=\"\n",
       "  141.865,574.89 2352.76,574.89 \n",
       "  \"/>\n",
       "<polyline clip-path=\"url(#clip0002)\" style=\"stroke:#000000; stroke-width:2; stroke-opacity:0.1; fill:none\" points=\"\n",
       "  141.865,191.358 2352.76,191.358 \n",
       "  \"/>\n",
       "<polyline clip-path=\"url(#clip0000)\" style=\"stroke:#000000; stroke-width:4; stroke-opacity:1; fill:none\" points=\"\n",
       "  141.865,1487.47 2352.76,1487.47 \n",
       "  \"/>\n",
       "<polyline clip-path=\"url(#clip0000)\" style=\"stroke:#000000; stroke-width:4; stroke-opacity:1; fill:none\" points=\"\n",
       "  141.865,1487.47 141.865,47.2441 \n",
       "  \"/>\n",
       "<polyline clip-path=\"url(#clip0000)\" style=\"stroke:#000000; stroke-width:4; stroke-opacity:1; fill:none\" points=\"\n",
       "  427.91,1487.47 427.91,1465.87 \n",
       "  \"/>\n",
       "<polyline clip-path=\"url(#clip0000)\" style=\"stroke:#000000; stroke-width:4; stroke-opacity:1; fill:none\" points=\"\n",
       "  800.365,1487.47 800.365,1465.87 \n",
       "  \"/>\n",
       "<polyline clip-path=\"url(#clip0000)\" style=\"stroke:#000000; stroke-width:4; stroke-opacity:1; fill:none\" points=\"\n",
       "  1172.82,1487.47 1172.82,1465.87 \n",
       "  \"/>\n",
       "<polyline clip-path=\"url(#clip0000)\" style=\"stroke:#000000; stroke-width:4; stroke-opacity:1; fill:none\" points=\"\n",
       "  1545.27,1487.47 1545.27,1465.87 \n",
       "  \"/>\n",
       "<polyline clip-path=\"url(#clip0000)\" style=\"stroke:#000000; stroke-width:4; stroke-opacity:1; fill:none\" points=\"\n",
       "  1917.73,1487.47 1917.73,1465.87 \n",
       "  \"/>\n",
       "<polyline clip-path=\"url(#clip0000)\" style=\"stroke:#000000; stroke-width:4; stroke-opacity:1; fill:none\" points=\"\n",
       "  2290.18,1487.47 2290.18,1465.87 \n",
       "  \"/>\n",
       "<polyline clip-path=\"url(#clip0000)\" style=\"stroke:#000000; stroke-width:4; stroke-opacity:1; fill:none\" points=\"\n",
       "  141.865,1341.95 175.028,1341.95 \n",
       "  \"/>\n",
       "<polyline clip-path=\"url(#clip0000)\" style=\"stroke:#000000; stroke-width:4; stroke-opacity:1; fill:none\" points=\"\n",
       "  141.865,958.422 175.028,958.422 \n",
       "  \"/>\n",
       "<polyline clip-path=\"url(#clip0000)\" style=\"stroke:#000000; stroke-width:4; stroke-opacity:1; fill:none\" points=\"\n",
       "  141.865,574.89 175.028,574.89 \n",
       "  \"/>\n",
       "<polyline clip-path=\"url(#clip0000)\" style=\"stroke:#000000; stroke-width:4; stroke-opacity:1; fill:none\" points=\"\n",
       "  141.865,191.358 175.028,191.358 \n",
       "  \"/>\n",
       "<g clip-path=\"url(#clip0000)\">\n",
       "<text style=\"fill:#000000; fill-opacity:1; font-family:Arial,Helvetica Neue,Helvetica,sans-serif; font-size:48px; text-anchor:middle;\" transform=\"rotate(0, 427.91, 1541.47)\" x=\"427.91\" y=\"1541.47\">-0.5</text>\n",
       "</g>\n",
       "<g clip-path=\"url(#clip0000)\">\n",
       "<text style=\"fill:#000000; fill-opacity:1; font-family:Arial,Helvetica Neue,Helvetica,sans-serif; font-size:48px; text-anchor:middle;\" transform=\"rotate(0, 800.365, 1541.47)\" x=\"800.365\" y=\"1541.47\">0.0</text>\n",
       "</g>\n",
       "<g clip-path=\"url(#clip0000)\">\n",
       "<text style=\"fill:#000000; fill-opacity:1; font-family:Arial,Helvetica Neue,Helvetica,sans-serif; font-size:48px; text-anchor:middle;\" transform=\"rotate(0, 1172.82, 1541.47)\" x=\"1172.82\" y=\"1541.47\">0.5</text>\n",
       "</g>\n",
       "<g clip-path=\"url(#clip0000)\">\n",
       "<text style=\"fill:#000000; fill-opacity:1; font-family:Arial,Helvetica Neue,Helvetica,sans-serif; font-size:48px; text-anchor:middle;\" transform=\"rotate(0, 1545.27, 1541.47)\" x=\"1545.27\" y=\"1541.47\">1.0</text>\n",
       "</g>\n",
       "<g clip-path=\"url(#clip0000)\">\n",
       "<text style=\"fill:#000000; fill-opacity:1; font-family:Arial,Helvetica Neue,Helvetica,sans-serif; font-size:48px; text-anchor:middle;\" transform=\"rotate(0, 1917.73, 1541.47)\" x=\"1917.73\" y=\"1541.47\">1.5</text>\n",
       "</g>\n",
       "<g clip-path=\"url(#clip0000)\">\n",
       "<text style=\"fill:#000000; fill-opacity:1; font-family:Arial,Helvetica Neue,Helvetica,sans-serif; font-size:48px; text-anchor:middle;\" transform=\"rotate(0, 2290.18, 1541.47)\" x=\"2290.18\" y=\"1541.47\">2.0</text>\n",
       "</g>\n",
       "<g clip-path=\"url(#clip0000)\">\n",
       "<text style=\"fill:#000000; fill-opacity:1; font-family:Arial,Helvetica Neue,Helvetica,sans-serif; font-size:48px; text-anchor:end;\" transform=\"rotate(0, 117.865, 1359.45)\" x=\"117.865\" y=\"1359.45\">-2</text>\n",
       "</g>\n",
       "<g clip-path=\"url(#clip0000)\">\n",
       "<text style=\"fill:#000000; fill-opacity:1; font-family:Arial,Helvetica Neue,Helvetica,sans-serif; font-size:48px; text-anchor:end;\" transform=\"rotate(0, 117.865, 975.922)\" x=\"117.865\" y=\"975.922\">-1</text>\n",
       "</g>\n",
       "<g clip-path=\"url(#clip0000)\">\n",
       "<text style=\"fill:#000000; fill-opacity:1; font-family:Arial,Helvetica Neue,Helvetica,sans-serif; font-size:48px; text-anchor:end;\" transform=\"rotate(0, 117.865, 592.39)\" x=\"117.865\" y=\"592.39\">0</text>\n",
       "</g>\n",
       "<g clip-path=\"url(#clip0000)\">\n",
       "<text style=\"fill:#000000; fill-opacity:1; font-family:Arial,Helvetica Neue,Helvetica,sans-serif; font-size:48px; text-anchor:end;\" transform=\"rotate(0, 117.865, 208.858)\" x=\"117.865\" y=\"208.858\">1</text>\n",
       "</g>\n",
       "<circle clip-path=\"url(#clip0002)\" style=\"fill:#000000; stroke:none; fill-opacity:1\" cx=\"204.437\" cy=\"793.453\" r=\"18\"/>\n",
       "<circle clip-path=\"url(#clip0002)\" style=\"fill:#009af9; stroke:none; fill-opacity:1\" cx=\"204.437\" cy=\"793.453\" r=\"14\"/>\n",
       "<circle clip-path=\"url(#clip0002)\" style=\"fill:#000000; stroke:none; fill-opacity:1\" cx=\"502.401\" cy=\"353.976\" r=\"18\"/>\n",
       "<circle clip-path=\"url(#clip0002)\" style=\"fill:#009af9; stroke:none; fill-opacity:1\" cx=\"502.401\" cy=\"353.976\" r=\"14\"/>\n",
       "<circle clip-path=\"url(#clip0002)\" style=\"fill:#000000; stroke:none; fill-opacity:1\" cx=\"800.365\" cy=\"371.148\" r=\"18\"/>\n",
       "<circle clip-path=\"url(#clip0002)\" style=\"fill:#009af9; stroke:none; fill-opacity:1\" cx=\"800.365\" cy=\"371.148\" r=\"14\"/>\n",
       "<circle clip-path=\"url(#clip0002)\" style=\"fill:#000000; stroke:none; fill-opacity:1\" cx=\"1098.33\" cy=\"386.667\" r=\"18\"/>\n",
       "<circle clip-path=\"url(#clip0002)\" style=\"fill:#009af9; stroke:none; fill-opacity:1\" cx=\"1098.33\" cy=\"386.667\" r=\"14\"/>\n",
       "<circle clip-path=\"url(#clip0002)\" style=\"fill:#000000; stroke:none; fill-opacity:1\" cx=\"1396.29\" cy=\"577.835\" r=\"18\"/>\n",
       "<circle clip-path=\"url(#clip0002)\" style=\"fill:#009af9; stroke:none; fill-opacity:1\" cx=\"1396.29\" cy=\"577.835\" r=\"14\"/>\n",
       "<circle clip-path=\"url(#clip0002)\" style=\"fill:#000000; stroke:none; fill-opacity:1\" cx=\"1694.26\" cy=\"1446.71\" r=\"18\"/>\n",
       "<circle clip-path=\"url(#clip0002)\" style=\"fill:#009af9; stroke:none; fill-opacity:1\" cx=\"1694.26\" cy=\"1446.71\" r=\"14\"/>\n",
       "<circle clip-path=\"url(#clip0002)\" style=\"fill:#000000; stroke:none; fill-opacity:1\" cx=\"1992.22\" cy=\"764.378\" r=\"18\"/>\n",
       "<circle clip-path=\"url(#clip0002)\" style=\"fill:#009af9; stroke:none; fill-opacity:1\" cx=\"1992.22\" cy=\"764.378\" r=\"14\"/>\n",
       "<circle clip-path=\"url(#clip0002)\" style=\"fill:#000000; stroke:none; fill-opacity:1\" cx=\"2290.18\" cy=\"385.533\" r=\"18\"/>\n",
       "<circle clip-path=\"url(#clip0002)\" style=\"fill:#009af9; stroke:none; fill-opacity:1\" cx=\"2290.18\" cy=\"385.533\" r=\"14\"/>\n",
       "<polyline clip-path=\"url(#clip0002)\" style=\"stroke:#e26f46; stroke-width:4; stroke-opacity:1; fill:none\" stroke-dasharray=\"16, 10\" points=\"\n",
       "  204.437,801.941 234.233,729.904 264.03,663.121 293.826,601.443 323.622,544.723 353.419,492.814 383.215,445.569 413.012,402.841 442.808,364.481 472.604,330.344 \n",
       "  502.401,300.281 532.197,274.146 561.993,251.791 591.79,233.068 621.586,217.831 651.383,205.932 681.179,197.225 710.975,191.561 740.772,188.793 770.568,188.775 \n",
       "  800.365,191.358 830.161,196.396 859.957,203.742 889.754,213.247 919.55,224.765 949.346,238.149 979.143,253.251 1008.94,269.924 1038.74,288.02 1068.53,307.393 \n",
       "  1098.33,327.896 1128.12,349.379 1157.92,371.698 1187.72,394.704 1217.51,418.249 1247.31,442.188 1277.11,466.372 1306.9,490.654 1336.7,514.887 1366.5,538.924 \n",
       "  1396.29,562.617 1426.09,585.819 1455.88,608.383 1485.68,630.161 1515.48,651.007 1545.27,670.773 1575.07,689.311 1604.87,706.475 1634.66,722.117 1664.46,736.09 \n",
       "  1694.26,748.246 1724.05,758.439 1753.85,766.521 1783.65,772.344 1813.44,775.762 1843.24,776.628 1873.03,774.793 1902.83,770.111 1932.63,762.434 1962.42,751.615 \n",
       "  1992.22,737.507 2022.02,719.963 2051.81,698.835 2081.61,673.976 2111.41,645.239 2141.2,612.476 2171,575.54 2200.79,534.285 2230.59,488.562 2260.39,438.224 \n",
       "  2290.18,383.124 \n",
       "  \"/>\n",
       "<polyline clip-path=\"url(#clip0002)\" style=\"stroke:#3da44d; stroke-width:4; stroke-opacity:1; fill:none\" points=\"\n",
       "  204.437,797.129 234.233,561.085 264.03,395.888 293.826,288.158 323.622,226.115 353.419,199.474 383.215,199.33 413.012,218.056 442.808,249.203 472.604,287.396 \n",
       "  502.401,328.245 532.197,368.253 561.993,404.725 591.79,435.688 621.586,459.81 651.383,476.322 681.179,484.945 710.975,485.821 740.772,479.447 770.568,466.612 \n",
       "  800.365,448.339 830.161,425.827 859.957,400.404 889.754,373.472 919.55,346.469 949.346,320.825 979.143,297.924 1008.94,279.068 1038.74,265.454 1068.53,258.137 \n",
       "  1098.33,258.015 1128.12,265.805 1157.92,282.027 1187.72,306.996 1217.51,340.803 1247.31,383.322 1277.11,434.197 1306.9,492.851 1336.7,558.487 1366.5,630.1 \n",
       "  1396.29,706.487 1426.09,786.262 1455.88,867.879 1485.68,949.652 1515.48,1029.78 1545.27,1106.39 1575.07,1177.54 1604.87,1241.3 1634.66,1295.76 1664.46,1339.07 \n",
       "  1694.26,1369.52 1724.05,1385.57 1753.85,1385.91 1783.65,1369.5 1813.44,1335.67 1843.24,1284.15 1873.03,1215.16 1902.83,1129.49 1932.63,1028.54 1962.42,914.441 \n",
       "  1992.22,790.108 2022.02,659.35 2051.81,526.947 2081.61,398.749 2111.41,281.774 2141.2,184.305 2171,116.002 2200.79,88.0053 2230.59,113.048 2260.39,205.575 \n",
       "  2290.18,381.857 \n",
       "  \"/>\n",
       "<path clip-path=\"url(#clip0000)\" d=\"\n",
       "M1727.84 372.684 L2280.76 372.684 L2280.76 130.764 L1727.84 130.764  Z\n",
       "  \" fill=\"#ffffff\" fill-rule=\"evenodd\" fill-opacity=\"1\"/>\n",
       "<polyline clip-path=\"url(#clip0000)\" style=\"stroke:#000000; stroke-width:4; stroke-opacity:1; fill:none\" points=\"\n",
       "  1727.84,372.684 2280.76,372.684 2280.76,130.764 1727.84,130.764 1727.84,372.684 \n",
       "  \"/>\n",
       "<circle clip-path=\"url(#clip0000)\" style=\"fill:#000000; stroke:none; fill-opacity:1\" cx=\"1835.84\" cy=\"191.244\" r=\"25\"/>\n",
       "<circle clip-path=\"url(#clip0000)\" style=\"fill:#009af9; stroke:none; fill-opacity:1\" cx=\"1835.84\" cy=\"191.244\" r=\"21\"/>\n",
       "<g clip-path=\"url(#clip0000)\">\n",
       "<text style=\"fill:#000000; fill-opacity:1; font-family:Arial,Helvetica Neue,Helvetica,sans-serif; font-size:48px; text-anchor:start;\" transform=\"rotate(0, 1919.84, 208.744)\" x=\"1919.84\" y=\"208.744\">Noisy samples</text>\n",
       "</g>\n",
       "<polyline clip-path=\"url(#clip0000)\" style=\"stroke:#e26f46; stroke-width:4; stroke-opacity:1; fill:none\" stroke-dasharray=\"16, 10\" points=\"\n",
       "  1751.84,251.724 1895.84,251.724 \n",
       "  \"/>\n",
       "<g clip-path=\"url(#clip0000)\">\n",
       "<text style=\"fill:#000000; fill-opacity:1; font-family:Arial,Helvetica Neue,Helvetica,sans-serif; font-size:48px; text-anchor:start;\" transform=\"rotate(0, 1919.84, 269.224)\" x=\"1919.84\" y=\"269.224\">Truth</text>\n",
       "</g>\n",
       "<polyline clip-path=\"url(#clip0000)\" style=\"stroke:#3da44d; stroke-width:4; stroke-opacity:1; fill:none\" points=\"\n",
       "  1751.84,312.204 1895.84,312.204 \n",
       "  \"/>\n",
       "<g clip-path=\"url(#clip0000)\">\n",
       "<text style=\"fill:#000000; fill-opacity:1; font-family:Arial,Helvetica Neue,Helvetica,sans-serif; font-size:48px; text-anchor:start;\" transform=\"rotate(0, 1919.84, 329.704)\" x=\"1919.84\" y=\"329.704\">Fit 1</text>\n",
       "</g>\n",
       "</svg>\n"
      ]
     },
     "execution_count": 45,
     "metadata": {},
     "output_type": "execute_result"
    }
   ],
   "source": [
    "scatter(x,y, label=\"Noisy samples\")\n",
    "plot!(x_fine,y_underlying,linestyle=:dash,label=\"Truth\")\n",
    "y_hat_1 = [x_fine.^0 x_fine.^1 x_fine.^2 x_fine.^3 x_fine.^4 x_fine.^5 x_fine.^6]*w_star_1\n",
    "plot!(x_fine, y_hat_1, label=\"Fit 1\")"
   ]
  },
  {
   "cell_type": "markdown",
   "metadata": {},
   "source": [
    "Let's now change our objective function from $$||y - Xw||_2^2$$ \n",
    "\n",
    "to\n",
    "\n",
    "$$||y - Xw||_2^2 + \\lambda||w||_1$$\n",
    "\n",
    "You can choose $\\lambda$ to be $0.1$ or $0.2$ or $0.3$ or something close to those. "
   ]
  },
  {
   "cell_type": "markdown",
   "metadata": {},
   "source": [
    "**Exercise:** Solve this new optimization problem for the minimizing $w \\in R^7$ using ```Convex``` and store the result in a variable called ```w_star_2```."
   ]
  },
  {
   "cell_type": "code",
   "execution_count": null,
   "metadata": {},
   "outputs": [],
   "source": [
    "# BEGIN SOLUTION\n"
   ]
  },
  {
   "cell_type": "markdown",
   "metadata": {},
   "source": [
    "The following will plot the polynomials obtained by both the first and second choices of objective functions. \n",
    "Note that if you let $\\lambda = 0$, both of these should be exactly the same. You can experiment with changing $\\lambda$ to see how it affects the second polynomial. You can also re-run all of the code starting from the cell which randomly generates the data to see other examples of what this could look like. "
   ]
  },
  {
   "cell_type": "code",
   "execution_count": null,
   "metadata": {},
   "outputs": [],
   "source": [
    "scatter(x,y,label=\"Noisy samples\")\n",
    "plot!(x_fine,y_underlying,linestyle=:dash,label=\"Truth\")\n",
    "y_hat_2 = [x_fine.^0 x_fine.^1 x_fine.^2 x_fine.^3 x_fine.^4 x_fine.^5 x_fine.^6]*w_star_2\n",
    "plot!(x_fine, y_hat_1, label=\"Fit 1\")\n",
    "plot!(x_fine, y_hat_2, label=\"Fit 2\")"
   ]
  },
  {
   "cell_type": "markdown",
   "metadata": {},
   "source": [
    "**Exercise:** Re-run all of the code starting from the cell which randomly generates the data points a few times so that you get a look at a few examples of what the previous plot looks like. What is the effect of the $1$-norm term and changing $\\lambda$?"
   ]
  },
  {
   "cell_type": "markdown",
   "metadata": {},
   "source": [
    "Answer:"
   ]
  },
  {
   "cell_type": "markdown",
   "metadata": {},
   "source": [
    "----------"
   ]
  },
  {
   "cell_type": "markdown",
   "metadata": {},
   "source": [
    "We'll now revisit the part of the last numerical exercise where we computed the projection of a vector onto the span of the columns of a rank $2$ matrix. We're gonna rename that matrix from $V$ to $X$"
   ]
  },
  {
   "cell_type": "code",
   "execution_count": null,
   "metadata": {},
   "outputs": [],
   "source": [
    "X = [1.0  1.0  0.0  0.0;\n",
    " -1.0  0.0  1.0  0.0;\n",
    "  1.0  1.0  0.0  0.0]"
   ]
  },
  {
   "cell_type": "code",
   "execution_count": null,
   "metadata": {},
   "outputs": [],
   "source": [
    "rank(X)"
   ]
  },
  {
   "cell_type": "markdown",
   "metadata": {},
   "source": [
    "We seek to find the projection of this vector"
   ]
  },
  {
   "cell_type": "code",
   "execution_count": null,
   "metadata": {},
   "outputs": [],
   "source": [
    "v = [4,7,7]"
   ]
  },
  {
   "cell_type": "markdown",
   "metadata": {},
   "source": [
    "onto the span of the columns of $X$ and we know that the answer is "
   ]
  },
  {
   "cell_type": "code",
   "execution_count": null,
   "metadata": {},
   "outputs": [],
   "source": [
    "v_hat_ref = [5.5, 7.0, 5.5]"
   ]
  },
  {
   "cell_type": "markdown",
   "metadata": {},
   "source": [
    "In particular, we'd like to minimize $||v-Xb||_2^2$ with respect to $b \\in R^4$.\n",
    "\n",
    "(Note that this is the same as minimizing $||v-Xb||_2$)\n",
    "\n",
    "Once the minimizing $b^*$ is found, the projection is $\\hat v = Xb^*$."
   ]
  },
  {
   "cell_type": "markdown",
   "metadata": {},
   "source": [
    "We can't use the Moore–Penrose pseudoinverse formula given before because $X$ is not full rank making $X^TX$ not invertible. \n",
    "\n",
    "Moreover, the optimal $b^*$ is not unique! Given one solution, we can add any element of the kernel of $X$ to it and get another solution. "
   ]
  },
  {
   "cell_type": "markdown",
   "metadata": {},
   "source": [
    "However, I claim that a thing called the Moore–Penrose pseudoinverse $X^+$ exists and gives an optimal solution as $b^* = X^+v$."
   ]
  },
  {
   "cell_type": "markdown",
   "metadata": {},
   "source": [
    "The Julia function for obtaining this is called ```pinv```. \n",
    "\n",
    "When $X$ is full rank, this function will just return something equal to $(X^H X)^{-1} X^H$ which is the same as what we had before. When $X$ is not full rank, it will do something else which we'll get to in a moment. "
   ]
  },
  {
   "cell_type": "code",
   "execution_count": null,
   "metadata": {},
   "outputs": [],
   "source": [
    "b_star = pinv(X)*v"
   ]
  },
  {
   "cell_type": "code",
   "execution_count": null,
   "metadata": {},
   "outputs": [],
   "source": [
    "v_hat = X*b_star"
   ]
  },
  {
   "cell_type": "markdown",
   "metadata": {},
   "source": [
    "But, as just noted, there are infinitely many possible $b$ which solve the optimization problem. For example, the last entry of $b$ can be whatever we want since the last column of $X$ is zero. Which solution $b$ does the Moore–Penrose pseudoinverse yield? The answer is that it gives the $b$ which has minimum $2$-norm. \n",
    "\n",
    "But is the minimum $2$-norm solution unique? The answer is yes, and you can try to prove it now if you'd like, it's well within your reach. "
   ]
  },
  {
   "cell_type": "code",
   "execution_count": null,
   "metadata": {},
   "outputs": [],
   "source": [
    "@assert norm(v_hat_ref-v_hat) < 10^-4"
   ]
  },
  {
   "cell_type": "markdown",
   "metadata": {},
   "source": [
    "Let's now look at how you go about computing the Moore–Penrose pseudoinverse in general including when $X$ is not full rank.\n",
    "\n",
    "It's okay if you don't fully understand everything in this section since it will involve things that might not be covered in class or will be covered later, but the material here is well within your reach so you should be able to understand and fill in the gaps by the last lecture of the course. \n",
    "\n",
    "The question at the end will be extremely simple and will rely only on the parts that you should certainly understand. \n",
    "\n",
    "We'll start by defining the Moore–Penrose pseudoinverse as defined by Sir Roger Penrose. If you're interested in the proofs that will be omitted, refer to [this link](https://en.wikipedia.org/wiki/Proofs_involving_the_Moore%E2%80%93Penrose_inverse).\n",
    "\n",
    "The Moore–Penrose pseudoinverse of a matrix $X \\in C^{m\\times n}$ is a matrix $X^+ \\in C^{n \\times m}$ satisfying\n",
    "- $X X^+ X = X$\n",
    "- $X^+ X X^+ = X^+$\n",
    "- $(XX^+)^H = XX^+$\n",
    "- $(X^+ X)^H = X^+ X$\n",
    "\n",
    "A matrix $X^+$ satisfying these properties can be shown to be unique. \n",
    "\n",
    "A matrix $X^+$ satisfying these properties also always exists for *any* matrix $X \\in C^{m\\times n}$ as we will see. \n",
    "\n",
    "Moreover, if $X$ is full rank, you can easily verify that $X^+ = (X^HX)^{-1}X^H$ satisfies all of these properties.\n",
    "\n",
    "In this case, $X^+$ is a *left inverse* satisfying $X^+X = (X^HX)^{-1}X^HX = I$. \n",
    "\n",
    "In the case that $X$ is not full rank, a pseudoinverse still exists, but it is certainly not a left inverse. Nonetheless, we're still interested in it because, as we will show in a moment, it solves least squares problems.  "
   ]
  },
  {
   "cell_type": "markdown",
   "metadata": {},
   "source": [
    "Let's consider two trivial cases of Moore–Penrose pseudoinverses:\n",
    "\n",
    "- Suppose you have an all zeros rectangular matrix. It's easy to see that its transpose is its Moore–Penrose pseudoinverse, it satisfies all of the properties we need.\n",
    "- Suppose you have a square invertible matrix. It's again clear to see that its inverse is its Moore–Penrose pseudoinverse."
   ]
  },
  {
   "cell_type": "markdown",
   "metadata": {},
   "source": [
    "Let's now consider another trivial case, the problem of finding the Moore–Penrose pseudoinverse of a nonsquare diagonal matrix. A nonsquare diagonal matrix is essentially one which contains a square diagonal matrix with a zero matrix appended to the right or to the bottom. Equivalently, it's simply one which only has nonzero entries where the row index and column index are the same. \n",
    "\n",
    "Here's an example:"
   ]
  },
  {
   "cell_type": "code",
   "execution_count": null,
   "metadata": {},
   "outputs": [],
   "source": [
    "M=[2.0 0.0 0.0 0.0 0.0 0.0; 0.0 4.0 0.0 0.0 0.0 0.0; 0.0 0.0 0.5 0.0 0.0 0.0; 0.0 0.0 0.0 0.0 0.0 0.0]"
   ]
  },
  {
   "cell_type": "markdown",
   "metadata": {},
   "source": [
    "You can easily verify that if you just replace each term on the diagonal with its reciprocal and transpose the matrix, you get a pseudoinverse. "
   ]
  },
  {
   "cell_type": "code",
   "execution_count": null,
   "metadata": {},
   "outputs": [],
   "source": [
    "M_plus=[1.0/2.0 0.0 0.0 0.0 0.0 0.0; 0.0 1.0/4.0 0.0 0.0 0.0 0.0; 0.0 0.0 1.0/0.5 0.0 0.0 0.0; 0.0 0.0 0.0 0.0 0.0 0.0]'"
   ]
  },
  {
   "cell_type": "markdown",
   "metadata": {},
   "source": [
    "We can verify the first property:"
   ]
  },
  {
   "cell_type": "code",
   "execution_count": null,
   "metadata": {},
   "outputs": [],
   "source": [
    "M*M_plus*M"
   ]
  },
  {
   "cell_type": "markdown",
   "metadata": {},
   "source": [
    "And the second:"
   ]
  },
  {
   "cell_type": "code",
   "execution_count": null,
   "metadata": {},
   "outputs": [],
   "source": [
    "M_plus*M*M_plus "
   ]
  },
  {
   "cell_type": "markdown",
   "metadata": {},
   "source": [
    "And the last two:"
   ]
  },
  {
   "cell_type": "code",
   "execution_count": null,
   "metadata": {},
   "outputs": [],
   "source": [
    "@assert (M_plus*M_plus')' == M_plus*M_plus'\n",
    "@assert (M_plus'*M_plus)' == M_plus'*M_plus"
   ]
  },
  {
   "cell_type": "markdown",
   "metadata": {},
   "source": [
    "And you can easily prove that this holds in general for any nonsquare diagonal matrix or diagonal matrix."
   ]
  },
  {
   "cell_type": "markdown",
   "metadata": {},
   "source": [
    "Before showing one way of obtaining $X^+$ for a non full rank $X$ in general, let's assume we have an $X^+$ satisfying the definition. \n",
    "\n",
    "I claim that $b = X^+v$ minimizes $||v-Xb||_2^2$, i.e., \n",
    "\n",
    "\\begin{equation}\n",
    "    ||v-Xw||_2^2 \\geq ||v-Xb||_2^2\n",
    "\\end{equation}\n",
    "\n",
    "for all $w$.\n",
    "\n",
    "Let's assume things are real (though the proof for the complex case is essentially the same). You can verify that \n",
    "\n",
    "\\begin{equation}\n",
    "  ||v-Xw||_2^2 = ||v-Xw + Xb - Xb||_2^2 = ||v-Xb||_2^2 + 2(b-w)^T X^T(v-Xb) + ||X(b-w)||_2^2\n",
    "\\end{equation}\n",
    "\n",
    "Moreover, from the properties of the pseudoinverse, we have\n",
    "\n",
    "\\begin{equation}\n",
    "    X^T(v-Xb) = X^Tv-X^TXX^+v = (X X^+ X )^Tv-X^TXX^+v = X^T(X X^+)^T v-X^TXX^+v = 0\n",
    "\\end{equation}\n",
    "\n",
    "so the middle term vanishes and we're left with \n",
    "\n",
    "\\begin{equation}\n",
    "    ||v-Xw||_2^2 = ||v-Xb||_2^2 + ||X(b-w)||_2^2 \\geq ||v-Xb||_2^2\n",
    "\\end{equation}\n",
    "\n",
    "with equality when $w = b$. So now we know that the pseudoinverse will indeed give us a least squares solution if we can find it. \n",
    "\n",
    "It can further be shown that $b$ is the minimizer with minimum $2$-norm.  \n",
    "\n",
    "We can now get to the question of how you obtain $X^+$ when $X$ is not full rank. \n",
    "\n",
    "One way is via the Singular Value Decomposition (SVD) which will be covered in class. The SVD is a tool of remarkable practical and mathematical utility and its application to finding the Moore–Penrose pseudoinverse is just one of many applications.\n",
    "\n",
    "All you need to do now is to believe that this decomposition exists and the existence of a pseudoinverse for rank deficient matrices will follow. \n",
    "\n",
    "The SVD exists for any matrix $X \\in C^{m\\times n}$. In particular,  $X$ can be written as \n",
    "\n",
    "\\begin{equation}\n",
    "    X = U \\Sigma V^H\n",
    "\\end{equation}\n",
    "\n",
    "where \n",
    "- $U \\in C^{m\\times m}$ is a matrix whose columns are the orthonormal eigenvectors of $XX^H$ and are called the left-singular vectors.\n",
    "- $V \\in C^{n\\times n}$ is a matrix whose columns are the orthonormal eigenvectors of $X^HX$ and are called the right-singular vectors.\n",
    "- $\\Sigma \\in R^{m \\times n}$ is a not necessarily square diagonal matrix whose diagonal entries are called singular values. Singular values are square roots of the eigenvalues common to both $XX^H$ and $X^HX$\n",
    "\n",
    "You've already seen that if a square matrix has orthonormal columns, multiplication by its (Hermitian) transpose yields the identity matrix so you should also note that $U^H = U^{-1}$ and $V^H = V^{-1}$. "
   ]
  },
  {
   "cell_type": "markdown",
   "metadata": {},
   "source": [
    "We obtain the SVD of $X$ using the appropriate Julia function:"
   ]
  },
  {
   "cell_type": "code",
   "execution_count": null,
   "metadata": {},
   "outputs": [],
   "source": [
    "U = svd(X, full=true).U"
   ]
  },
  {
   "cell_type": "code",
   "execution_count": null,
   "metadata": {},
   "outputs": [],
   "source": [
    "Σ = [diagm(svd(X, full=true).S) zeros(3,1)]"
   ]
  },
  {
   "cell_type": "code",
   "execution_count": null,
   "metadata": {},
   "outputs": [],
   "source": [
    "V = svd(X, full=true).V"
   ]
  },
  {
   "cell_type": "code",
   "execution_count": null,
   "metadata": {},
   "outputs": [],
   "source": [
    "X"
   ]
  },
  {
   "cell_type": "code",
   "execution_count": null,
   "metadata": {},
   "outputs": [],
   "source": [
    "U*Σ*V' # Should be equal to X"
   ]
  },
  {
   "cell_type": "markdown",
   "metadata": {},
   "source": [
    "And now for the grand finale: How do I get the Moore–Penrose pseudoinverse?"
   ]
  },
  {
   "cell_type": "markdown",
   "metadata": {},
   "source": [
    "It can be obtained as $X^+ = V\\Sigma^+U^H$"
   ]
  },
  {
   "cell_type": "markdown",
   "metadata": {},
   "source": [
    "Why?"
   ]
  },
  {
   "cell_type": "markdown",
   "metadata": {},
   "source": [
    "Because it satisfies the definition!"
   ]
  },
  {
   "cell_type": "markdown",
   "metadata": {},
   "source": [
    "You can verify that it indeed does. Let's check just the first property and the rest you can similarly verify:\n",
    "\n",
    "\\begin{equation}\n",
    "    X X^+ X = U \\Sigma V^H V\\Sigma^+U^H U \\Sigma V^H = U \\Sigma \\Sigma^+ \\Sigma V^H= U \\Sigma V^H = X\n",
    "\\end{equation}\n",
    "\n",
    "because $V^H V = I$, $U^H U = I$, and $\\Sigma \\Sigma^+ \\Sigma = \\Sigma$."
   ]
  },
  {
   "cell_type": "markdown",
   "metadata": {},
   "source": [
    "**Exercise:** Compute the Moore–Penrose pseudoinverse of $X$ using the the three matrices of the SVD ```U```, ```Σ```, ```V``` which I've already computed for you. Store the pseudoinverse in a variable called ```myPinv```. An answer checking cell has been provided which you should run."
   ]
  },
  {
   "cell_type": "code",
   "execution_count": null,
   "metadata": {},
   "outputs": [],
   "source": [
    "# BEGIN SOLUTION\n"
   ]
  },
  {
   "cell_type": "markdown",
   "metadata": {},
   "source": [
    "Answer check:"
   ]
  },
  {
   "cell_type": "code",
   "execution_count": null,
   "metadata": {},
   "outputs": [],
   "source": [
    "@assert sum(myPinv-pinv(X)) < 10^-4"
   ]
  },
  {
   "cell_type": "markdown",
   "metadata": {},
   "source": [
    "-----------------------------------"
   ]
  },
  {
   "cell_type": "markdown",
   "metadata": {},
   "source": [
    "# Part 2: Optimal control"
   ]
  },
  {
   "cell_type": "markdown",
   "metadata": {},
   "source": [
    "Note that this part is related to question 2 of problem set 4 so you can review that if you'd like.\n",
    "\n",
    "Moreover, both questions can be solved either using ```Convex``` or using the Moore–Penrose pseudoinverse. You can use whichever you want. \n",
    "\n",
    "Consider a unit mass with position and velocity $x[k]$, $\\dot{x}[k]$ at time $k$ with $k = 0,\\dots,10$. Consider further a driving force vector $p \\in R^{10}$ with entries denoted $p_k$. Under a discrete-time and Newtonian physics modelling assumption, the state of the system at time $k \\geq 1$ is given recursively by \n",
    "\n",
    "\\begin{equation}\n",
    "    \\begin{bmatrix}\n",
    "        x[k] \\\\\n",
    "        \\dot{x}[k]\n",
    "    \\end{bmatrix}\n",
    "    = \\underbrace{\\begin{bmatrix}\n",
    "        1 & 1 \\\\\n",
    "        0 & 1\n",
    "    \\end{bmatrix}}_{A}\n",
    "    \\begin{bmatrix}\n",
    "        x[k-1] \\\\\n",
    "        \\dot{x}[k-1]\n",
    "    \\end{bmatrix}\n",
    "    + \\underbrace{\\begin{bmatrix}\n",
    "        1/2 \\\\\n",
    "        1\n",
    "    \\end{bmatrix}}_{b}p_k\n",
    "\\end{equation}\n",
    "\n",
    "Suppose we would like to find the driving force $p\\in R^{10}$ which is smallest in $2$-norm and gets us to stop at position $1$ at time $10$. That is, we require $x[10]=1$ and $\\dot{x}[10]=0$ starting with $x[0]=\\dot{x}[0]=0$.\n",
    "\n",
    "Recursively applying the previous relationship, we get\n",
    "\n",
    "\\begin{equation}\n",
    "\\begin{bmatrix}\n",
    "        x[k] \\\\\n",
    "        \\dot{x}[k]\n",
    "    \\end{bmatrix}\n",
    "    = \\underbrace{\\begin{bmatrix}\n",
    "        A^{k-1}b & A^{k-2}b & \\dots & Ab & b \\\\\n",
    "    \\end{bmatrix}}_{C}\n",
    "    \\begin{bmatrix}\n",
    "        p_1 \\\\\n",
    "        \\vdots\\\\\n",
    "        p_k\n",
    "    \\end{bmatrix}\n",
    "\\end{equation}\n",
    "\n",
    "and if we take $k=10$ in the above equation, the optimization problem becomes\n",
    "\n",
    "\\begin{equation}\n",
    "\\begin{aligned}\n",
    "& p^* = \\underset{p}{\\text{min}} & & ||p||_2^2\\\\\n",
    "& \\text{subject to} & & Cp = \\begin{bmatrix}\n",
    "        1 \\\\\n",
    "        0\n",
    "    \\end{bmatrix}\\\\\n",
    "\\end{aligned}\n",
    "\\end{equation}\n"
   ]
  },
  {
   "cell_type": "code",
   "execution_count": null,
   "metadata": {},
   "outputs": [],
   "source": [
    "A = [1 1; 0 1]\n",
    "b = [0.5; 1]\n",
    "C = [A^9*b A^8*b A^7*b A^6*b A^5*b A^4*b A^3*b A^2*b A*b b]"
   ]
  },
  {
   "cell_type": "markdown",
   "metadata": {},
   "source": [
    "**Exercise:** Solve the optimization problem for the optimizing $p \\in R^{10}$ and store its value in a variable called ```p_star```"
   ]
  },
  {
   "cell_type": "code",
   "execution_count": null,
   "metadata": {},
   "outputs": [],
   "source": [
    "# BEGIN SOLUTION\n"
   ]
  },
  {
   "cell_type": "markdown",
   "metadata": {},
   "source": [
    "The following cell will plot your solution in addition to the trajectory information:"
   ]
  },
  {
   "cell_type": "code",
   "execution_count": null,
   "metadata": {},
   "outputs": [],
   "source": [
    "x = zeros(2,11);\n",
    "for i = 1:10\n",
    "  x[:,i+1] = A*x[:, i] + b*p_star[i]\n",
    "end\n",
    "p1=bar(p_star, title=\"Force\",legend=false)\n",
    "p2=plot(x[1,:], title=\"Position\",legend=false)\n",
    "p3=plot(x[2,:], title=\"Speed\",legend=false)\n",
    "plot(p1, p2, p3, layout=(3,1))"
   ]
  },
  {
   "cell_type": "markdown",
   "metadata": {},
   "source": [
    "**Exercise:** Consider the same optimization problem as before with one added constraint. In addition to requiring $x[10]=1$ and $\\dot{x}[10]=0$, we require that $x[5] = 0$. \n",
    "\n",
    "Solve this optimization problem and store the optimizing value of $p\\in R^{10}$ in a variable called ```p_star```. \n",
    "\n",
    "Hints:\n",
    "- You only need to add one other constraint/equation to the previous problem\n",
    "- You need to let $k=5$ in the second relation provided to derive this constraint/equation and it will involve $p_1, \\dots,p_5$"
   ]
  },
  {
   "cell_type": "code",
   "execution_count": null,
   "metadata": {},
   "outputs": [],
   "source": [
    "# BEGIN SOLUTION\n"
   ]
  },
  {
   "cell_type": "code",
   "execution_count": null,
   "metadata": {},
   "outputs": [],
   "source": [
    "x = zeros(2,11);\n",
    "for i = 1:10\n",
    "  x[:,i+1] = A*x[:, i] + b*p_star[i]\n",
    "end\n",
    "p1=bar(p_star, title=\"Force\",legend=false)\n",
    "p2=plot(x[1,:], title=\"Position\",legend=false)\n",
    "p3=plot(x[2,:], title=\"Speed\",legend=false)\n",
    "plot(p1, p2, p3, layout=(3,1))"
   ]
  },
  {
   "cell_type": "markdown",
   "metadata": {},
   "source": [
    "**Exercise:** Do both solutions make sense? Explain."
   ]
  },
  {
   "cell_type": "markdown",
   "metadata": {},
   "source": [
    "Answer:"
   ]
  },
  {
   "cell_type": "markdown",
   "metadata": {},
   "source": [
    "----------------"
   ]
  }
 ],
 "metadata": {
  "kernelspec": {
   "display_name": "Julia 1.2.0",
   "language": "julia",
   "name": "julia-1.2"
  },
  "language_info": {
   "file_extension": ".jl",
   "mimetype": "application/julia",
   "name": "julia",
   "version": "1.2.0"
  }
 },
 "nbformat": 4,
 "nbformat_minor": 2
}
